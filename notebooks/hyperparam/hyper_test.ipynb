{
 "cells": [
  {
   "cell_type": "markdown",
   "metadata": {},
   "source": [
    "### Change the files path if is necessary"
   ]
  },
  {
   "cell_type": "code",
   "execution_count": 1,
   "metadata": {},
   "outputs": [],
   "source": [
    "%load_ext autoreload\n",
    "%autoreload 2\n",
    "%load_ext dotenv\n",
    "%dotenv"
   ]
  },
  {
   "cell_type": "code",
   "execution_count": 2,
   "metadata": {},
   "outputs": [
    {
     "name": "stderr",
     "output_type": "stream",
     "text": [
      "/home/dallan/pathway-indexer/.venv/lib/python3.12/site-packages/tqdm/auto.py:21: TqdmWarning: IProgress not found. Please update jupyter and ipywidgets. See https://ipywidgets.readthedocs.io/en/stable/user_install.html\n",
      "  from .autonotebook import tqdm as notebook_tqdm\n",
      "/home/dallan/pathway-indexer/.venv/lib/python3.12/site-packages/torch/cuda/__init__.py:654: UserWarning: Can't initialize NVML\n",
      "  warnings.warn(\"Can't initialize NVML\")\n",
      "/home/dallan/pathway-indexer/.venv/lib/python3.12/site-packages/torch/cuda/__init__.py:843: UserWarning: CUDA initialization: Unexpected error from cudaGetDeviceCount(). Did you run some cuda functions before calling NumCudaDevices() that might have already set an error? Error 803: system has unsupported display driver / cuda driver combination (Triggered internally at ../c10/cuda/CUDAFunctions.cpp:108.)\n",
      "  r = torch._C._cuda_getDeviceCount() if nvml_count < 0 else nvml_count\n"
     ]
    }
   ],
   "source": [
    "import os\n",
    "\n",
    "from llama_index.core import Document\n",
    "import optuna\n",
    "import pandas as pd\n",
    "\n",
    "from utils.retrieve import extract_question_ngrams"
   ]
  },
  {
   "cell_type": "code",
   "execution_count": 50,
   "metadata": {},
   "outputs": [],
   "source": [
    "# configure\n",
    "# filename = \"test.md\"\n",
    "qa_filename = \"index_single_quotes.csv\"\n",
    "ngram_size = 2  # use 2 instead of 3 so we don't skip 2-word header chunks\n",
    "f_beta = 5  # weight recall 3 times as important as precision in f-score\n",
    "n_trials = 100  # number of Optuna trials\n",
    "\n",
    "pd.set_option(\"display.max_colwidth\", None)\n"
   ]
  },
  {
   "cell_type": "markdown",
   "metadata": {},
   "source": [
    "Read the question-answers\n"
   ]
  },
  {
   "cell_type": "code",
   "execution_count": 56,
   "metadata": {},
   "outputs": [
    {
     "name": "stdout",
     "output_type": "stream",
     "text": [
      "98\n"
     ]
    },
    {
     "data": {
      "text/html": [
       "<div>\n",
       "<style scoped>\n",
       "    .dataframe tbody tr th:only-of-type {\n",
       "        vertical-align: middle;\n",
       "    }\n",
       "\n",
       "    .dataframe tbody tr th {\n",
       "        vertical-align: top;\n",
       "    }\n",
       "\n",
       "    .dataframe thead th {\n",
       "        text-align: right;\n",
       "    }\n",
       "</style>\n",
       "<table border=\"1\" class=\"dataframe\">\n",
       "  <thead>\n",
       "    <tr style=\"text-align: right;\">\n",
       "      <th></th>\n",
       "      <th>Question</th>\n",
       "      <th>Ideal Answer</th>\n",
       "      <th>Link</th>\n",
       "      <th>Quote</th>\n",
       "    </tr>\n",
       "  </thead>\n",
       "  <tbody>\n",
       "    <tr>\n",
       "      <th>0</th>\n",
       "      <td>How do I know if a student has a scholarship?</td>\n",
       "      <td>Missionaries can see if a student has a scholarship by clicking on the student's name  in Path, clicking on the Discounts/Scholarships Tab and looking under History.\\n\\nInformation about the Discount or Scholarship includes; Discount/Scholarship, Category, Type, Percent, Amount, Term, Status.and Process.</td>\n",
       "      <td>https://missionaries.prod.byu-pathway.psdops.com/Finding-Student-Information-in-PATH%E2%80%8B</td>\n",
       "      <td>Discounts/Scholarships Tab\\nView the scholarships and/or discounts the \\nstudent has received.</td>\n",
       "    </tr>\n",
       "    <tr>\n",
       "      <th>1</th>\n",
       "      <td>How do I know if a student is registered for an institute class for credit?</td>\n",
       "      <td>There is not a way for Missionaries to verify that a student's current  Institute class, is registered for college credit for that class.\\n\\nMissionaries can see if a student is currently registered for an Institute class  It should appear in the Enrollment tab in the lower right hand corner.  There will be a red x indicating no credit if the course has not been completed.                                                                                  \\nEach student needs to make sure that their Institute instructor knows and has recorded that the student is listed in the course as taking it for College Credit.\\n\\n</td>\n",
       "      <td>https://missionaries.prod.byu-pathway.psdops.com/institute-for-college-credit</td>\n",
       "      <td>Checking for Institute Registration for College Credit\\n2. Next, click on the Enrollment tab and scroll down\\n4. You will see Institute courses taken by the student as you scroll. This\\r\\nstudent has taken many Institute courses but has not taken them for\\r\\ncollege credit. The student is currently enrolled in a Spring 2024 course but\\r\\nshows a x NO because the course is not yet completed. Once the course is\\r\\ncompleted, the x No will change to a green check mark with a Yes if the\\r\\ncourse qualifies for credit.\\n5. This student is enrolled in an institute course for Spring 2024. It is not one\\r\\nof the cornerstone classes. The Student should ask the instructor if this\\r\\ncourse will provide college credit. If so, the No will change to Yes at the\\r\\ncompletion of the course. The previous 2023 course taken by this student has\\r\\nbeen given college credit</td>\n",
       "    </tr>\n",
       "    <tr>\n",
       "      <th>2</th>\n",
       "      <td>How do I know if student is member of the church?</td>\n",
       "      <td>Missionaries can see the Church membership status by clicking on the student's name  in Path.  On  the Student Information Page, in the Details Tab, at the right side of the page, if there are Stake and a Ward names listed, the student is a member of the church.\\n\\nSometimes no Stake or Ward information will be listed, but when missionaries talk to the student they may find they are members after all.  In that case, missionaries can ask the student if they have another Church Account. If they can't remember, they can search for a duplicate account.  Students may have to get their membership number from the ward clerk to find the real church account.\\n\\n</td>\n",
       "      <td>https://missionaries.prod.byu-pathway.psdops.com/Verify-a-Learner's-Church-Member-Status</td>\n",
       "      <td>Verify a Learner’s Membership Status\\n1. In the Details tab in the Student Information page, verify that a learner’s\\r\\nward and stake are listed if they are a member of the church.\\n2. A learner may show they are a member but have no ward and stake\\r\\nlisted. This is a good indicator that the learner has a duplicate account.\\r\\no Contact your zone or district leader to investigate this further.</td>\n",
       "    </tr>\n",
       "  </tbody>\n",
       "</table>\n",
       "</div>"
      ],
      "text/plain": [
       "                                                                      Question  \\\n",
       "0                                How do I know if a student has a scholarship?   \n",
       "1  How do I know if a student is registered for an institute class for credit?   \n",
       "2                            How do I know if student is member of the church?   \n",
       "\n",
       "                                                                                                                                                                                                                                                                                                                                                                                                                                                                                                                                                                                                                                                                            Ideal Answer  \\\n",
       "0                                                                                                                                                                                                                                                                                                                                                                     Missionaries can see if a student has a scholarship by clicking on the student's name  in Path, clicking on the Discounts/Scholarships Tab and looking under History.\\n\\nInformation about the Discount or Scholarship includes; Discount/Scholarship, Category, Type, Percent, Amount, Term, Status.and Process.    \n",
       "1                                        There is not a way for Missionaries to verify that a student's current  Institute class, is registered for college credit for that class.\\n\\nMissionaries can see if a student is currently registered for an Institute class  It should appear in the Enrollment tab in the lower right hand corner.  There will be a red x indicating no credit if the course has not been completed.                                                                                  \\nEach student needs to make sure that their Institute instructor knows and has recorded that the student is listed in the course as taking it for College Credit.\\n\\n   \n",
       "2  Missionaries can see the Church membership status by clicking on the student's name  in Path.  On  the Student Information Page, in the Details Tab, at the right side of the page, if there are Stake and a Ward names listed, the student is a member of the church.\\n\\nSometimes no Stake or Ward information will be listed, but when missionaries talk to the student they may find they are members after all.  In that case, missionaries can ask the student if they have another Church Account. If they can't remember, they can search for a duplicate account.  Students may have to get their membership number from the ward clerk to find the real church account.\\n\\n   \n",
       "\n",
       "                                                                                            Link  \\\n",
       "0  https://missionaries.prod.byu-pathway.psdops.com/Finding-Student-Information-in-PATH%E2%80%8B   \n",
       "1                  https://missionaries.prod.byu-pathway.psdops.com/institute-for-college-credit   \n",
       "2       https://missionaries.prod.byu-pathway.psdops.com/Verify-a-Learner's-Church-Member-Status   \n",
       "\n",
       "                                                                                                                                                                                                                                                                                                                                                                                                                                                                                                                                                                                                                                                                                                                                                                                                                                                                                                 Quote  \n",
       "0                                                                                                                                                                                                                                                                                                                                                                                                                                                                                                                                                                                                                                                                                                                                                                                                       Discounts/Scholarships Tab\\nView the scholarships and/or discounts the \\nstudent has received.  \n",
       "1  Checking for Institute Registration for College Credit\\n2. Next, click on the Enrollment tab and scroll down\\n4. You will see Institute courses taken by the student as you scroll. This\\r\\nstudent has taken many Institute courses but has not taken them for\\r\\ncollege credit. The student is currently enrolled in a Spring 2024 course but\\r\\nshows a x NO because the course is not yet completed. Once the course is\\r\\ncompleted, the x No will change to a green check mark with a Yes if the\\r\\ncourse qualifies for credit.\\n5. This student is enrolled in an institute course for Spring 2024. It is not one\\r\\nof the cornerstone classes. The Student should ask the instructor if this\\r\\ncourse will provide college credit. If so, the No will change to Yes at the\\r\\ncompletion of the course. The previous 2023 course taken by this student has\\r\\nbeen given college credit  \n",
       "2                                                                                                                                                                                                                                                                                                                                                                                                                                                                                       Verify a Learner’s Membership Status\\n1. In the Details tab in the Student Information page, verify that a learner’s\\r\\nward and stake are listed if they are a member of the church.\\n2. A learner may show they are a member but have no ward and stake\\r\\nlisted. This is a good indicator that the learner has a duplicate account.\\r\\no Contact your zone or district leader to investigate this further.  "
      ]
     },
     "execution_count": 56,
     "metadata": {},
     "output_type": "execute_result"
    }
   ],
   "source": [
    "datapath = \"../../data\"\n",
    "\n",
    "# qa_df = pd.read_csv(f'data/{qa_filename}', na_filter=False)\n",
    "qa_df = pd.read_csv(f\"{datapath}/temporary/{qa_filename}\", na_filter=False)\n",
    "print(len(qa_df))\n",
    "qa_df.head(3)\n"
   ]
  },
  {
   "cell_type": "code",
   "execution_count": 57,
   "metadata": {},
   "outputs": [
    {
     "name": "stdout",
     "output_type": "stream",
     "text": [
      "98\n"
     ]
    }
   ],
   "source": [
    "# NOTE: we shouldn't include questions in the *test* set right now,\n",
    "# but people are still adding the manual quotes,\n",
    "# and since we have so few questions with manual quotes so far\n",
    "# we will use all of them for this demo.\n",
    "\n",
    "# keep only rows with at least 1 manual quote\n",
    "qa_df = qa_df[qa_df[\"Quote\"].notna() & (qa_df[\"Quote\"] != \"\")].copy()\n",
    "print(len(qa_df))\n"
   ]
  },
  {
   "cell_type": "code",
   "execution_count": 58,
   "metadata": {},
   "outputs": [],
   "source": [
    "# generate bigrams (ngram size=2) for each manual quote\n",
    "# and store them in the question_ngrams dictionary\n",
    "question_ngrams = extract_question_ngrams(qa_df, ngram_size)\n",
    "# store the ngrams in the dataframe\n",
    "qa_df['question_ngrams'] = qa_df['Question'].map(question_ngrams)"
   ]
  },
  {
   "cell_type": "markdown",
   "metadata": {},
   "source": [
    "Read the documents from the md directory\n"
   ]
  },
  {
   "cell_type": "code",
   "execution_count": 8,
   "metadata": {},
   "outputs": [],
   "source": [
    "# Read the document names from the directories:\n",
    "# ../data/markwodn\n",
    "# ../data/out/md\n",
    "\n",
    "origin_paths = [f\"{datapath}/data_16_09_24/out/from_html/\", f\"{datapath}/data_16_09_24/out/md_files/\"]\n",
    "# origin_paths = [f\"{datapath}/testdata/\"]\n",
    "\n",
    "# Read the document names from the directories:\n",
    "files_list = [path + item for path in origin_paths for item in os.listdir(path)]\n"
   ]
  },
  {
   "cell_type": "code",
   "execution_count": 9,
   "metadata": {},
   "outputs": [
    {
     "data": {
      "text/plain": [
       "539"
      ]
     },
     "execution_count": 9,
     "metadata": {},
     "output_type": "execute_result"
    }
   ],
   "source": [
    "len(files_list)"
   ]
  },
  {
   "cell_type": "code",
   "execution_count": 10,
   "metadata": {},
   "outputs": [
    {
     "data": {
      "text/plain": [
       "['../../data/data_16_09_24/out/from_html/105adb7a.md',\n",
       " '../../data/data_16_09_24/out/from_html/1376e9a9.md',\n",
       " '../../data/data_16_09_24/out/from_html/141279b1.md',\n",
       " '../../data/data_16_09_24/out/from_html/144bfd06.md',\n",
       " '../../data/data_16_09_24/out/from_html/14627860.md',\n",
       " '../../data/data_16_09_24/out/from_html/15c11982.md',\n",
       " '../../data/data_16_09_24/out/from_html/15ffa1be.md',\n",
       " '../../data/data_16_09_24/out/from_html/16ebd247.md',\n",
       " '../../data/data_16_09_24/out/from_html/179960e.md',\n",
       " '../../data/data_16_09_24/out/from_html/17e70845.md']"
      ]
     },
     "execution_count": 10,
     "metadata": {},
     "output_type": "execute_result"
    }
   ],
   "source": [
    "files_list.sort()\n",
    "files_list[0:10]\n"
   ]
  },
  {
   "cell_type": "markdown",
   "metadata": {},
   "source": [
    "Save the documents into an array\n"
   ]
  },
  {
   "cell_type": "code",
   "execution_count": 11,
   "metadata": {},
   "outputs": [],
   "source": [
    "documents = []\n",
    "\n",
    "for i, filepath in enumerate(files_list):\n",
    "    with open(filepath, \"r\", encoding=\"utf-8\") as file:\n",
    "        document = Document(text=file.read(), metadata={\"filepath\": filepath})\n",
    "\n",
    "        # add the document to a single entry list\n",
    "        documents.append(document)\n"
   ]
  },
  {
   "cell_type": "code",
   "execution_count": 12,
   "metadata": {},
   "outputs": [
    {
     "data": {
      "text/plain": [
       "539"
      ]
     },
     "execution_count": 12,
     "metadata": {},
     "output_type": "execute_result"
    }
   ],
   "source": [
    "len(documents)"
   ]
  },
  {
   "cell_type": "code",
   "execution_count": 13,
   "metadata": {},
   "outputs": [
    {
     "data": {
      "text/plain": [
       "Document(id_='721e76a0-95e5-4ae2-90a0-d24d906fe906', embedding=None, metadata={'filepath': '../../data/data_16_09_24/out/from_html/1abc5b56.md'}, excluded_embed_metadata_keys=[], excluded_llm_metadata_keys=[], relationships={}, text=\"---\\nheading: Certificates & Degrees\\nsubheading: Three-Year Degree\\ntitle: Earn a Degree in Three Years\\nurl: https://www.byupathway.edu/degree-in-three\\n---\\n# Earn a bachelor's degree in three years through BYU-Pathway Worldwide\\n\\n* Save Money\\nFewer credits and guaranteed scholarships means extra savings\\n* Finish Faster\\nEarn a bachelor's degree one year ahead of schedule\\n* Launch Your Career\\nStart or upgrade your career sooner with a job-ready degree\\n\\n> To know that I could get done with school faster for less, was really what turned me to BYU-Pathway.\\n> — Bryon Wensel, graduate\\n\\n## Fewer credits. 100% online.\\n\\nThrough BYU-Pathway Worldwide, BYU-Idaho and Ensign College offer 90–96 credit degrees, allowing students to finish an online bachelor’s degree in three years! The optimized degree program saves you time and money by eliminating elective credits.\\n\\n### Available degrees\\n\\n* [Applied Business Management](https://www.byupathway.edu/bachelors-degree/applied-business-management)\\n* [Information Technology](https://www.byupathway.edu/bachelors-degree/information-technology)\\n* [Applied Health](https://www.byupathway.edu/bachelors-degree/applied-health)\\n* Professional\\n\\n```markdown\\n[Studies](https://www.byupathway.edu/bachelors-degree/professional-studies)\\n[Communication](https://www.byupathway.edu/bachelors-degree/applied-communication)\\n[Software Development](https://www.byupathway.edu/bachelors-degree/software-development)\\n[Family and Human Services](https://www.byupathway.edu/bachelors-degree/family-and-human-services)\\n\\n[**Explore Degrees**](https://www.byupathway.edu/degrees/program-list#viewallcertificates/#list-bachelors-degrees)\\n\\nAffordable education with all the value\\n\\nThe best part of the three-year degree structure — besides saving an additional 25% of your time and money — is students will still enjoy all the hallmarks of the BYU-Pathway experience:\\n\\n* 100% online and flexible\\n* Faith-building through gospel-centered courses and weekly gatherings\\n* Guaranteed tuition discounts of 10%, 25%, or 50%, plus recently returned missionaries get an additional 25% discount\\n* The Heber J. Grant Tuition Discount is a needs-based discount available to all students. Discount amounts range from 10–50% off. [Click here](https://www.byupathway.edu/hjg-scholarship) to learn more.\\n* Job-enhancing certificate(s) earned with each degree\\n* A student-centered approach\\n* Access to mentors for support and guidance\\n\\n> Our students balance many responsibilities and sacrifice a lot to earn an education. These three-year degrees will help them graduate faster while fully preparing them to get a better job.\\n```\\n\\n# President Brian K. Ashton\\n## BYU-Pathway Worldwide\\n\\n[**Apply Now**](https://apply.byupathway.edu/rta)\\n\\n[Speak with an enrollment counselor](https://outlook.office365.com/owa/calendar/BYUPathwayWorldwide5@office365lds.onmicrosoft.com/bookings/)\\n\\n\", mimetype='text/plain', start_char_idx=None, end_char_idx=None, text_template='{metadata_str}\\n\\n{content}', metadata_template='{key}: {value}', metadata_seperator='\\n')"
      ]
     },
     "execution_count": 13,
     "metadata": {},
     "output_type": "execute_result"
    }
   ],
   "source": [
    "documents[10]"
   ]
  },
  {
   "cell_type": "code",
   "execution_count": 14,
   "metadata": {},
   "outputs": [],
   "source": [
    "from collections.abc import Sequence\n",
    "import re\n",
    "import time\n",
    "from typing import Any, Optional\n",
    "\n",
    "import chromadb\n",
    "from llama_index.core import VectorStoreIndex\n",
    "from llama_index.core.bridge.pydantic import Field\n",
    "from llama_index.core.callbacks.base import CallbackManager\n",
    "from llama_index.core.ingestion import IngestionPipeline\n",
    "from llama_index.core.node_parser.interface import NodeParser\n",
    "from llama_index.core.schema import BaseNode, MetadataMode, TextNode\n",
    "from llama_index.core.utils import get_tqdm_iterable\n",
    "# from llama_index.embeddings.voyageai import VoyageEmbedding\n",
    "from llama_index.core.node_parser import (\n",
    "    MarkdownNodeParser,\n",
    "    SemanticSplitterNodeParser,\n",
    "    SentenceSplitter,\n",
    ")\n",
    "from llama_index.core.vector_stores.types import VectorStoreQueryMode\n",
    "from llama_index.embeddings.openai import OpenAIEmbedding\n",
    "from llama_index.vector_stores.chroma import ChromaVectorStore\n",
    "import spacy\n",
    "import voyageai\n",
    "\n",
    "from utils.retrieve import _generate_ngrams_from_texts, precision_recall, f_score\n",
    "from utils.custom_node_parser import CustomNodeParser\n",
    "\n",
    "vo = voyageai.Client()  # This will automatically use the environment variable VOYAGE_API_KEY."
   ]
  },
  {
   "cell_type": "code",
   "execution_count": 15,
   "metadata": {},
   "outputs": [],
   "source": [
    "def extract_index_metadata(node):\n",
    "    \"\"\"Split the document text into headers and content.\"\"\"\n",
    "    \n",
    "    text = node.get_content(metadata_mode=MetadataMode.NONE)\n",
    "    parts = text.split('---\\n')\n",
    "    \n",
    "    # If there are no headers, return the document as-is\n",
    "    if len(parts) < 3:\n",
    "        return node\n",
    "    \n",
    "    # Extract headers\n",
    "    headers_text = parts[1]\n",
    "    \n",
    "    # Parse headers into a dictionary\n",
    "    headers = {}\n",
    "    current_key = None\n",
    "    for line in headers_text.strip().split('\\n'):\n",
    "        if ': ' in line:\n",
    "            key, value = line.split(': ', 1)\n",
    "            headers[key] = value\n",
    "            current_key = key\n",
    "        elif current_key is not None:\n",
    "            # This line is a continuation of the previous value\n",
    "            headers[current_key] += ' ' + line.strip()\n",
    "            \n",
    "    # clean up titles\n",
    "    if 'title' in headers:\n",
    "        title = headers['title']\n",
    "        # Split the string using the corrected regex with escaped quotes\n",
    "        titles = re.split(r\"\\s*['\\\"]?\\s*,\\s*['\\\"]?\\s*\", title)\n",
    "\n",
    "        # Clean up each question by removing leading/trailing quotes and spaces\n",
    "        titles = [re.sub(r'^[\\'\"\\s]+|[\\'\"\\s]+$', '', t) for t in titles]\n",
    "\n",
    "        # Join the cleaned questions with the separator\n",
    "        headers['title'] = \" | \".join(titles)\n",
    "              \n",
    "    # Join the remaining parts as content\n",
    "    content = '---\\n'.join(parts[2:])\n",
    "    \n",
    "    return TextNode(metadata=headers, text=content)"
   ]
  },
  {
   "cell_type": "code",
   "execution_count": 16,
   "metadata": {},
   "outputs": [],
   "source": [
    "documents = [extract_index_metadata(doc) for doc in documents]"
   ]
  },
  {
   "cell_type": "code",
   "execution_count": 17,
   "metadata": {},
   "outputs": [
    {
     "data": {
      "text/plain": [
       "{'heading', 'subheading', 'title', 'url'}"
      ]
     },
     "execution_count": 17,
     "metadata": {},
     "output_type": "execute_result"
    }
   ],
   "source": [
    "metadata_keys = set()\n",
    "for doc in documents:\n",
    "    for key in doc.metadata:\n",
    "        metadata_keys.add(key)\n",
    "metadata_keys"
   ]
  },
  {
   "cell_type": "code",
   "execution_count": 18,
   "metadata": {},
   "outputs": [],
   "source": [
    "INDEX_METADATA_KEYS = [\"heading\", \"subheading\"]  # title often contains the question exactly and applies to only part of the document, \"title\"]\n",
    "MD_METADATA_KEYS = [\"header_1\", \"header_2\", \"header_3\", \"header_4\", \"header_5\", \"header_6\"]\n",
    "ORDERED_LIST_ITEM_PATTERN = r'^\\s*\\d+\\.\\s'\n",
    "UNORDERED_LIST_ITEM_PATTERN = r'^\\s*[-*+]\\s'\n",
    "\n",
    "def get_headers_and_paragraphs(node: BaseNode) -> list[str]:\n",
    "    \"\"\"Get headers and paragraphs from a node.\"\"\"\n",
    "    \n",
    "    # get text from the node\n",
    "    text = node.get_content(metadata_mode=MetadataMode.NONE)\n",
    "    results = []\n",
    "    paragraph_lines = []\n",
    "    blank_line = False\n",
    "    # split text by newline\n",
    "    for line in text.split(\"\\n\"):\n",
    "        line = line.strip()\n",
    "        # is this a blank line? if so, add a newline to the paragraph\n",
    "        if len(line) == 0:\n",
    "            blank_line = True\n",
    "        # is this a header? if so, add the previous paragraph to the results and this line to the results\n",
    "        elif line.startswith(\"#\"):\n",
    "            if len(paragraph_lines) > 0:\n",
    "                results.append(\"\\n\".join(paragraph_lines))\n",
    "                paragraph_lines = []\n",
    "            results.append(line)\n",
    "            blank_line = False\n",
    "        # add list items to the previous paragraph\n",
    "        elif re.match(ORDERED_LIST_ITEM_PATTERN, line) or re.match(UNORDERED_LIST_ITEM_PATTERN, line):\n",
    "            if blank_line and len(paragraph_lines) > 0:\n",
    "                paragraph_lines.append(\"\")\n",
    "            paragraph_lines.append(line)\n",
    "            blank_line = False\n",
    "        else:\n",
    "            # if this is a new paragraph, add the previous paragraph to the results\n",
    "            if blank_line and len(paragraph_lines) > 0:\n",
    "                results.append(\"\\n\".join(paragraph_lines))\n",
    "                paragraph_lines = []\n",
    "            paragraph_lines.append(line)\n",
    "            blank_line = False\n",
    "    if len(paragraph_lines) > 0:\n",
    "        results.append(\"\\n\".join(paragraph_lines))\n",
    "    return results\n",
    "\n",
    "\n",
    "def update_headers(par: str, headers: dict) -> dict:\n",
    "    \"\"\"Set headers for a paragraph\"\"\"\n",
    "\n",
    "    # Check if paragraph starts with a header (e.g. '# ', '## ', etc.)\n",
    "    for level in range(1, 7):\n",
    "        if par.startswith(\"#\" * level + \" \"):\n",
    "            headers[f\"header_{level}\"] = par.lstrip('# ')\n",
    "            # Reset lower-level headers\n",
    "            for lower_level in range(level + 1, 7):\n",
    "                sub_header = f\"header_{lower_level}\"\n",
    "                if sub_header in headers:\n",
    "                    del headers[sub_header]\n",
    "            # Exit loop after finding the correct header level\n",
    "            break\n",
    "\n",
    "\n",
    "def get_paragraph_nodes(headers_paragraphs: list[str], doc_node: BaseNode) -> list[TextNode]:\n",
    "    \"\"\"Get paragraph nodes with header metadata from a list of headers and paragraphs and the original document node.\"\"\"\n",
    "    \n",
    "    nodes = []\n",
    "    headers = {}\n",
    "    doc_metadata={key: value for key, value in doc_node.metadata.items()}\n",
    "    for par in headers_paragraphs:\n",
    "        # if this is a header, update the headers\n",
    "        if par.startswith(\"#\"):\n",
    "            update_headers(par, headers)\n",
    "        else:\n",
    "            metadata = {\n",
    "                **headers,\n",
    "                **doc_metadata,\n",
    "                \"context\": par,\n",
    "            }\n",
    "            node = TextNode(metadata=metadata, text=par)\n",
    "            nodes.append(node)\n",
    "    return nodes\n",
    "\n",
    "\n",
    "def _equal_headers(metadata1: dict, metadata2: dict) -> bool:\n",
    "    \"\"\"Check if two metadata dictionaries have the same headers.\"\"\"\n",
    "    \n",
    "    for key in MD_METADATA_KEYS:\n",
    "        if metadata1.get(key, \"\") != metadata2.get(key, \"\"):\n",
    "            return False\n",
    "    return True\n",
    "\n",
    "\n",
    "def include_prev_next_contexts(nodes: list[TextNode], count: int, max_length: int) -> None:\n",
    "    \"\"\"\n",
    "    Include up to count previous and next contexts in the context of each node \n",
    "    while they have the same headers and the combined length is less than the max length.\n",
    "    \"\"\"\n",
    "    \n",
    "    node_contexts = [node.metadata['context'] for node in nodes]\n",
    "    for i, node in enumerate(nodes):\n",
    "        node_context = node_contexts[i]\n",
    "        for j in range(1, count + 1):\n",
    "            prev_node = None if i - j < 0 else nodes[i - j]\n",
    "            next_node = None if i + j >= len(nodes) else nodes[i + j]\n",
    "            prev_context = \"\"\n",
    "            next_context = \"\"\n",
    "            if prev_node and _equal_headers(node.metadata, prev_node.metadata):\n",
    "                prev_context = node_contexts[i - j]\n",
    "            if next_node and _equal_headers(node.metadata, next_node.metadata):\n",
    "                next_context = node_contexts[i + j]\n",
    "            if len(prev_context) + len(node_context) + len(next_context) <= max_length:\n",
    "                node_context = f\"{prev_context}\\n\\n{node_context}\\n\\n{next_context}\".strip()\n",
    "            else:\n",
    "                break\n",
    "        node.metadata[\"context\"] = node_context\n",
    "\n",
    "\n",
    "def get_sentences(nodes: list[TextNode]) -> list[TextNode]:\n",
    "    \"\"\"Get sentence nodes from paragraph nodes.\"\"\"\n",
    "    \n",
    "    nlp = spacy.load(\"en_core_web_sm\")\n",
    "    sentence_nodes = []\n",
    "    for node in nodes:\n",
    "        doc = nlp(node.text)\n",
    "        for sent in doc.sents:\n",
    "            metadata = {key: value for key, value in node.metadata.items()}\n",
    "            sentence_nodes.append(TextNode(metadata=metadata, text=sent.text))\n",
    "    return sentence_nodes\n",
    "\n",
    "\n",
    "def embed_prev_next(nodes: list[TextNode], count: int, max_length: int) -> list[TextNode]:\n",
    "    \"\"\"\n",
    "    Include up to count previous and next texts in the text of each node \n",
    "    while they have the same headers and the combined length is less than the max length.\n",
    "    \"\"\"\n",
    "    \n",
    "    embed_nodes = []\n",
    "    for i, node in enumerate(nodes):\n",
    "        node_text = node.text\n",
    "        for j in range(1, count + 1):\n",
    "            prev_node = None if i - j < 0 else nodes[i - j]\n",
    "            next_node = None if i + j >= len(nodes) else nodes[i + j]\n",
    "            prev_text = \"\"\n",
    "            next_text = \"\"\n",
    "            if prev_node and _equal_headers(node.metadata, prev_node.metadata):\n",
    "                prev_text = prev_node.text\n",
    "            if next_node and _equal_headers(node.metadata, next_node.metadata):\n",
    "                next_text = next_node.text\n",
    "            if len(prev_text) + len(node_text) + len(next_text) <= max_length:\n",
    "                node_text = f\"{prev_text}\\n\\n{node_text}\\n\\n{next_text}\".strip()\n",
    "            else:\n",
    "                break\n",
    "        node = TextNode(metadata={key: value for key, value in node.metadata.items()}, text=node_text)\n",
    "        embed_nodes.append(node)\n",
    "    return embed_nodes\n",
    "\n",
    "\n",
    "def embed_metadata(nodes: list[TextNode], metadata_keys: list[str]):\n",
    "    \"\"\"Include metadata in the text of each node.\"\"\"\n",
    "    \n",
    "    for node in nodes:\n",
    "        headers = []\n",
    "        for key in metadata_keys:\n",
    "            value = node.metadata.get(key, \"\")\n",
    "            if value:\n",
    "                headers.append(value)\n",
    "        if len(headers) > 0:\n",
    "            node.text = f\"{' / '.join(headers)}\\n\\n{node.text}\"\n",
    "\n",
    "        \n",
    "def include_metadata(nodes: list[TextNode], metadata_keys: list[str]):\n",
    "    \"\"\"Include metadata in the context of each node.\"\"\"\n",
    "    \n",
    "    for node in nodes:\n",
    "        headers = []\n",
    "        for key in metadata_keys:\n",
    "            value = node.metadata.get(key, \"\")\n",
    "            if value:\n",
    "                headers.append(value)\n",
    "        if len(headers) > 0:\n",
    "            node.metadata[\"context\"] = f\"{' / '.join(headers)}\\n\\n{node.metadata.get('context', '')}\"\n",
    "\n",
    "\n",
    "class AltNodeParser(NodeParser):\n",
    "    \"\"\"Alternate Node Parser\"\"\"\n",
    "\n",
    "    split_by: str = Field(\n",
    "        default=\"para\",\n",
    "        description=(\n",
    "            \"Split by sentence, paragraph, or both.\"\n",
    "        ),\n",
    "    )\n",
    "\n",
    "    embed_prev_next_sentences: int = Field(\n",
    "        default=0,\n",
    "        description=(\n",
    "            \"Number of previous and next sentences to include when calculating embeddings.\"\n",
    "        ),\n",
    "    )\n",
    "\n",
    "    embed_prev_next_paragraphs: int = Field(\n",
    "        default=0,\n",
    "        description=(\n",
    "            \"Number of previous and next paragraphs to include when calculating embeddings.\"\n",
    "        ),\n",
    "    )\n",
    "\n",
    "    max_embed_length: int = Field(\n",
    "        default=2048,\n",
    "        description=(\n",
    "            \"Maximum length of text to embed. Used when embedding previous and next sentences or paragraphs.\"\n",
    "        ),\n",
    "    )\n",
    "\n",
    "    embed_index_headers: bool = Field(\n",
    "        default=False,\n",
    "        description=(\n",
    "            \"Include headers from the index page when calculating embeddings.\"\n",
    "        ),\n",
    "    )\n",
    "\n",
    "    embed_md_headers: bool = Field(\n",
    "        default=False,\n",
    "        description=(\n",
    "            \"Include headers from the markdown document when calculating embeddings.\"\n",
    "        ),\n",
    "    )\n",
    "\n",
    "    include_prev_next_paragraphs: int = Field(\n",
    "        default=0,\n",
    "        description=(\n",
    "            \"Number of previous and next paragraphs to include in text for the LLM.\"\n",
    "        ),\n",
    "    )\n",
    "\n",
    "    max_include_length: int = Field(\n",
    "        default=2048,\n",
    "        description=(\n",
    "            \"Maximum length of text to pass to the LLM. Used when including previous and next paragraphs.\"\n",
    "        ),\n",
    "    )\n",
    "\n",
    "    include_index_headers: bool = Field(\n",
    "        default=False,\n",
    "        description=(\n",
    "            \"Include headers from the index page in text for the LLM.\"\n",
    "        ),\n",
    "    )\n",
    "\n",
    "    include_md_headers: bool = Field(\n",
    "        default=False,\n",
    "        description=(\n",
    "            \"Include headers from the markdown document in text for the LLM.\"\n",
    "        ),\n",
    "    )\n",
    "\n",
    "\n",
    "    @classmethod\n",
    "    def from_defaults(\n",
    "        cls,\n",
    "        split_by: str = \"para\",\n",
    "        embed_prev_next_sentences: int = 0,\n",
    "        embed_prev_next_paragraphs: int = 0,\n",
    "        max_embed_length: int = 2048,\n",
    "        embed_index_headers: bool = False,\n",
    "        embed_md_headers: bool = False,\n",
    "        include_prev_next_paragraphs: int = 0,\n",
    "        max_include_length: int = 2048,\n",
    "        include_index_headers: bool = False,\n",
    "        include_md_headers: bool = False,\n",
    "        callback_manager: Optional[CallbackManager] = None,\n",
    "    ) -> \"AltNodeParser\":\n",
    "        callback_manager = callback_manager or CallbackManager([])\n",
    "\n",
    "        return cls(\n",
    "            split_by=split_by,\n",
    "            embed_prev_next_sentences=embed_prev_next_sentences,\n",
    "            embed_prev_next_paragraphs=embed_prev_next_paragraphs,\n",
    "            max_embed_length=max_embed_length,\n",
    "            embed_index_headers=embed_index_headers,\n",
    "            embed_md_headers=embed_md_headers,\n",
    "            include_prev_next_paragraphs=include_prev_next_paragraphs,\n",
    "            max_include_length=max_include_length,\n",
    "            include_index_headers=include_index_headers,\n",
    "            include_md_headers=include_md_headers,\n",
    "        )\n",
    "\n",
    "    @classmethod\n",
    "    def class_name(cls) -> str:\n",
    "        \"\"\"Get class name.\"\"\"\n",
    "        return \"AltNodeParser\"\n",
    "\n",
    "    def _parse_nodes(\n",
    "        self,\n",
    "        nodes: Sequence[BaseNode],\n",
    "        show_progress: bool = False,\n",
    "        **kwargs: Any,\n",
    "    ) -> list[BaseNode]:\n",
    "        all_nodes: list[BaseNode] = []\n",
    "        nodes_with_progress = get_tqdm_iterable(nodes, show_progress, \"Parsing nodes\")\n",
    "\n",
    "        for node in nodes_with_progress:\n",
    "            nodes = self.get_nodes_from_node(node, **kwargs)\n",
    "            all_nodes.extend(nodes)\n",
    "\n",
    "        return all_nodes\n",
    "\n",
    "\n",
    "    def get_nodes_from_node(self, node: BaseNode, **kwargs: Any) -> list[TextNode]:\n",
    "        \"\"\"Split a node into a list of nodes.\"\"\"\n",
    "        \n",
    "        # turn node into a list of headers and paragraphs\n",
    "        headers_paragraphs = get_headers_and_paragraphs(node)\n",
    "        # get paragraph nodes (with metadata for headers and context text to send to the LLM)\n",
    "        nodes = get_paragraph_nodes(headers_paragraphs, node)\n",
    "        # include previous and next paragraphs\n",
    "        if self.include_prev_next_paragraphs > 0:\n",
    "            include_prev_next_contexts(nodes, self.include_prev_next_paragraphs, self.max_include_length)\n",
    "        # split by sentence, paragraph, or both\n",
    "        sentence_nodes = []\n",
    "        if self.split_by in [\"sentence\", \"both\"]:\n",
    "            sentence_nodes = get_sentences(nodes)\n",
    "            if self.embed_prev_next_sentences > 0:\n",
    "                sentence_nodes = embed_prev_next(sentence_nodes, self.embed_prev_next_sentences, self.max_embed_length)\n",
    "        if self.split_by == \"sentence\":\n",
    "            nodes = sentence_nodes\n",
    "        else:  # paragraph or both\n",
    "            if self.embed_prev_next_paragraphs > 0:\n",
    "                nodes = embed_prev_next(nodes, self.embed_prev_next_paragraphs, self.max_embed_length)\n",
    "            if self.split_by == \"both\":\n",
    "                nodes.extend(sentence_nodes)\n",
    "        # embed index and/or markdown headers\n",
    "        if self.embed_index_headers or self.embed_md_headers:\n",
    "            keys = []\n",
    "            if self.embed_index_headers:\n",
    "                keys.extend(INDEX_METADATA_KEYS)\n",
    "            if self.embed_md_headers:\n",
    "                keys.extend(MD_METADATA_KEYS)\n",
    "            embed_metadata(nodes, keys)\n",
    "        # include index and/or markdown headers in text sent to the LLM\n",
    "        if self.include_index_headers or self.include_md_headers:\n",
    "            keys = []\n",
    "            if self.include_index_headers:\n",
    "                keys.extend(INDEX_METADATA_KEYS)\n",
    "            if self.include_md_headers:\n",
    "                keys.extend(MD_METADATA_KEYS)\n",
    "            include_metadata(nodes, keys)\n",
    "        \n",
    "        return nodes"
   ]
  },
  {
   "cell_type": "code",
   "execution_count": 19,
   "metadata": {},
   "outputs": [
    {
     "data": {
      "text/plain": [
       "TextNode(id_='543dfac5-7fda-48df-a158-e807bca21b83', embedding=None, metadata={'heading': 'Certificates & Degrees', 'subheading': 'Three-Year Degree', 'title': 'Earn a Degree in Three Years', 'url': 'https://www.byupathway.edu/degree-in-three'}, excluded_embed_metadata_keys=[], excluded_llm_metadata_keys=[], relationships={}, text=\"# Earn a bachelor's degree in three years through BYU-Pathway Worldwide\\n\\n* Save Money\\nFewer credits and guaranteed scholarships means extra savings\\n* Finish Faster\\nEarn a bachelor's degree one year ahead of schedule\\n* Launch Your Career\\nStart or upgrade your career sooner with a job-ready degree\\n\\n> To know that I could get done with school faster for less, was really what turned me to BYU-Pathway.\\n> — Bryon Wensel, graduate\\n\\n## Fewer credits. 100% online.\\n\\nThrough BYU-Pathway Worldwide, BYU-Idaho and Ensign College offer 90–96 credit degrees, allowing students to finish an online bachelor’s degree in three years! The optimized degree program saves you time and money by eliminating elective credits.\\n\\n### Available degrees\\n\\n* [Applied Business Management](https://www.byupathway.edu/bachelors-degree/applied-business-management)\\n* [Information Technology](https://www.byupathway.edu/bachelors-degree/information-technology)\\n* [Applied Health](https://www.byupathway.edu/bachelors-degree/applied-health)\\n* Professional\\n\\n```markdown\\n[Studies](https://www.byupathway.edu/bachelors-degree/professional-studies)\\n[Communication](https://www.byupathway.edu/bachelors-degree/applied-communication)\\n[Software Development](https://www.byupathway.edu/bachelors-degree/software-development)\\n[Family and Human Services](https://www.byupathway.edu/bachelors-degree/family-and-human-services)\\n\\n[**Explore Degrees**](https://www.byupathway.edu/degrees/program-list#viewallcertificates/#list-bachelors-degrees)\\n\\nAffordable education with all the value\\n\\nThe best part of the three-year degree structure — besides saving an additional 25% of your time and money — is students will still enjoy all the hallmarks of the BYU-Pathway experience:\\n\\n* 100% online and flexible\\n* Faith-building through gospel-centered courses and weekly gatherings\\n* Guaranteed tuition discounts of 10%, 25%, or 50%, plus recently returned missionaries get an additional 25% discount\\n* The Heber J. Grant Tuition Discount is a needs-based discount available to all students. Discount amounts range from 10–50% off. [Click here](https://www.byupathway.edu/hjg-scholarship) to learn more.\\n* Job-enhancing certificate(s) earned with each degree\\n* A student-centered approach\\n* Access to mentors for support and guidance\\n\\n> Our students balance many responsibilities and sacrifice a lot to earn an education. These three-year degrees will help them graduate faster while fully preparing them to get a better job.\\n```\\n\\n# President Brian K. Ashton\\n## BYU-Pathway Worldwide\\n\\n[**Apply Now**](https://apply.byupathway.edu/rta)\\n\\n[Speak with an enrollment counselor](https://outlook.office365.com/owa/calendar/BYUPathwayWorldwide5@office365lds.onmicrosoft.com/bookings/)\\n\\n\", mimetype='text/plain', start_char_idx=None, end_char_idx=None, text_template='{metadata_str}\\n\\n{content}', metadata_template='{key}: {value}', metadata_seperator='\\n')"
      ]
     },
     "execution_count": 19,
     "metadata": {},
     "output_type": "execute_result"
    }
   ],
   "source": [
    "ix = 10\n",
    "doc = documents[ix]\n",
    "doc"
   ]
  },
  {
   "cell_type": "code",
   "execution_count": 20,
   "metadata": {},
   "outputs": [
    {
     "data": {
      "text/plain": [
       "[\"# Earn a bachelor's degree in three years through BYU-Pathway Worldwide\",\n",
       " \"* Save Money\\nFewer credits and guaranteed scholarships means extra savings\\n* Finish Faster\\nEarn a bachelor's degree one year ahead of schedule\\n* Launch Your Career\\nStart or upgrade your career sooner with a job-ready degree\",\n",
       " '> To know that I could get done with school faster for less, was really what turned me to BYU-Pathway.\\n> — Bryon Wensel, graduate',\n",
       " '## Fewer credits. 100% online.',\n",
       " 'Through BYU-Pathway Worldwide, BYU-Idaho and Ensign College offer 90–96 credit degrees, allowing students to finish an online bachelor’s degree in three years! The optimized degree program saves you time and money by eliminating elective credits.',\n",
       " '### Available degrees',\n",
       " '* [Applied Business Management](https://www.byupathway.edu/bachelors-degree/applied-business-management)\\n* [Information Technology](https://www.byupathway.edu/bachelors-degree/information-technology)\\n* [Applied Health](https://www.byupathway.edu/bachelors-degree/applied-health)\\n* Professional',\n",
       " '```markdown\\n[Studies](https://www.byupathway.edu/bachelors-degree/professional-studies)\\n[Communication](https://www.byupathway.edu/bachelors-degree/applied-communication)\\n[Software Development](https://www.byupathway.edu/bachelors-degree/software-development)\\n[Family and Human Services](https://www.byupathway.edu/bachelors-degree/family-and-human-services)',\n",
       " '[**Explore Degrees**](https://www.byupathway.edu/degrees/program-list#viewallcertificates/#list-bachelors-degrees)',\n",
       " 'Affordable education with all the value',\n",
       " 'The best part of the three-year degree structure — besides saving an additional 25% of your time and money — is students will still enjoy all the hallmarks of the BYU-Pathway experience:\\n\\n* 100% online and flexible\\n* Faith-building through gospel-centered courses and weekly gatherings\\n* Guaranteed tuition discounts of 10%, 25%, or 50%, plus recently returned missionaries get an additional 25% discount\\n* The Heber J. Grant Tuition Discount is a needs-based discount available to all students. Discount amounts range from 10–50% off. [Click here](https://www.byupathway.edu/hjg-scholarship) to learn more.\\n* Job-enhancing certificate(s) earned with each degree\\n* A student-centered approach\\n* Access to mentors for support and guidance',\n",
       " '> Our students balance many responsibilities and sacrifice a lot to earn an education. These three-year degrees will help them graduate faster while fully preparing them to get a better job.\\n```',\n",
       " '# President Brian K. Ashton',\n",
       " '## BYU-Pathway Worldwide',\n",
       " '[**Apply Now**](https://apply.byupathway.edu/rta)',\n",
       " '[Speak with an enrollment counselor](https://outlook.office365.com/owa/calendar/BYUPathwayWorldwide5@office365lds.onmicrosoft.com/bookings/)']"
      ]
     },
     "execution_count": 20,
     "metadata": {},
     "output_type": "execute_result"
    }
   ],
   "source": [
    "get_headers_and_paragraphs(doc)"
   ]
  },
  {
   "cell_type": "code",
   "execution_count": 21,
   "metadata": {},
   "outputs": [
    {
     "data": {
      "text/plain": [
       "[TextNode(id_='25f45a9d-e2fc-4002-b6e3-15d1cd76dccc', embedding=None, metadata={'header_1': \"Earn a bachelor's degree in three years through BYU-Pathway Worldwide\", 'heading': 'Certificates & Degrees', 'subheading': 'Three-Year Degree', 'title': 'Earn a Degree in Three Years', 'url': 'https://www.byupathway.edu/degree-in-three', 'context': \"* Save Money\\nFewer credits and guaranteed scholarships means extra savings\\n* Finish Faster\\nEarn a bachelor's degree one year ahead of schedule\\n* Launch Your Career\\nStart or upgrade your career sooner with a job-ready degree\"}, excluded_embed_metadata_keys=[], excluded_llm_metadata_keys=[], relationships={}, text=\"* Save Money\\nFewer credits and guaranteed scholarships means extra savings\\n* Finish Faster\\nEarn a bachelor's degree one year ahead of schedule\\n* Launch Your Career\\nStart or upgrade your career sooner with a job-ready degree\", mimetype='text/plain', start_char_idx=None, end_char_idx=None, text_template='{metadata_str}\\n\\n{content}', metadata_template='{key}: {value}', metadata_seperator='\\n'),\n",
       " TextNode(id_='6e8efe1b-e722-432f-9b4c-3da86c59a78b', embedding=None, metadata={'header_1': \"Earn a bachelor's degree in three years through BYU-Pathway Worldwide\", 'heading': 'Certificates & Degrees', 'subheading': 'Three-Year Degree', 'title': 'Earn a Degree in Three Years', 'url': 'https://www.byupathway.edu/degree-in-three', 'context': '> To know that I could get done with school faster for less, was really what turned me to BYU-Pathway.\\n> — Bryon Wensel, graduate'}, excluded_embed_metadata_keys=[], excluded_llm_metadata_keys=[], relationships={}, text='> To know that I could get done with school faster for less, was really what turned me to BYU-Pathway.\\n> — Bryon Wensel, graduate', mimetype='text/plain', start_char_idx=None, end_char_idx=None, text_template='{metadata_str}\\n\\n{content}', metadata_template='{key}: {value}', metadata_seperator='\\n'),\n",
       " TextNode(id_='a13cb95d-9b32-409d-8075-135025572f51', embedding=None, metadata={'header_1': \"Earn a bachelor's degree in three years through BYU-Pathway Worldwide\", 'header_2': 'Fewer credits. 100% online.', 'heading': 'Certificates & Degrees', 'subheading': 'Three-Year Degree', 'title': 'Earn a Degree in Three Years', 'url': 'https://www.byupathway.edu/degree-in-three', 'context': 'Through BYU-Pathway Worldwide, BYU-Idaho and Ensign College offer 90–96 credit degrees, allowing students to finish an online bachelor’s degree in three years! The optimized degree program saves you time and money by eliminating elective credits.'}, excluded_embed_metadata_keys=[], excluded_llm_metadata_keys=[], relationships={}, text='Through BYU-Pathway Worldwide, BYU-Idaho and Ensign College offer 90–96 credit degrees, allowing students to finish an online bachelor’s degree in three years! The optimized degree program saves you time and money by eliminating elective credits.', mimetype='text/plain', start_char_idx=None, end_char_idx=None, text_template='{metadata_str}\\n\\n{content}', metadata_template='{key}: {value}', metadata_seperator='\\n'),\n",
       " TextNode(id_='c08fe365-9ea7-4029-b358-8cb0800d59e2', embedding=None, metadata={'header_1': \"Earn a bachelor's degree in three years through BYU-Pathway Worldwide\", 'header_2': 'Fewer credits. 100% online.', 'header_3': 'Available degrees', 'heading': 'Certificates & Degrees', 'subheading': 'Three-Year Degree', 'title': 'Earn a Degree in Three Years', 'url': 'https://www.byupathway.edu/degree-in-three', 'context': '* [Applied Business Management](https://www.byupathway.edu/bachelors-degree/applied-business-management)\\n* [Information Technology](https://www.byupathway.edu/bachelors-degree/information-technology)\\n* [Applied Health](https://www.byupathway.edu/bachelors-degree/applied-health)\\n* Professional'}, excluded_embed_metadata_keys=[], excluded_llm_metadata_keys=[], relationships={}, text='* [Applied Business Management](https://www.byupathway.edu/bachelors-degree/applied-business-management)\\n* [Information Technology](https://www.byupathway.edu/bachelors-degree/information-technology)\\n* [Applied Health](https://www.byupathway.edu/bachelors-degree/applied-health)\\n* Professional', mimetype='text/plain', start_char_idx=None, end_char_idx=None, text_template='{metadata_str}\\n\\n{content}', metadata_template='{key}: {value}', metadata_seperator='\\n'),\n",
       " TextNode(id_='3194e0f5-1d3f-4744-8032-83ca83b19575', embedding=None, metadata={'header_1': \"Earn a bachelor's degree in three years through BYU-Pathway Worldwide\", 'header_2': 'Fewer credits. 100% online.', 'header_3': 'Available degrees', 'heading': 'Certificates & Degrees', 'subheading': 'Three-Year Degree', 'title': 'Earn a Degree in Three Years', 'url': 'https://www.byupathway.edu/degree-in-three', 'context': '```markdown\\n[Studies](https://www.byupathway.edu/bachelors-degree/professional-studies)\\n[Communication](https://www.byupathway.edu/bachelors-degree/applied-communication)\\n[Software Development](https://www.byupathway.edu/bachelors-degree/software-development)\\n[Family and Human Services](https://www.byupathway.edu/bachelors-degree/family-and-human-services)'}, excluded_embed_metadata_keys=[], excluded_llm_metadata_keys=[], relationships={}, text='```markdown\\n[Studies](https://www.byupathway.edu/bachelors-degree/professional-studies)\\n[Communication](https://www.byupathway.edu/bachelors-degree/applied-communication)\\n[Software Development](https://www.byupathway.edu/bachelors-degree/software-development)\\n[Family and Human Services](https://www.byupathway.edu/bachelors-degree/family-and-human-services)', mimetype='text/plain', start_char_idx=None, end_char_idx=None, text_template='{metadata_str}\\n\\n{content}', metadata_template='{key}: {value}', metadata_seperator='\\n'),\n",
       " TextNode(id_='d2955e13-b3bb-4739-bc12-8098877e08f3', embedding=None, metadata={'header_1': \"Earn a bachelor's degree in three years through BYU-Pathway Worldwide\", 'header_2': 'Fewer credits. 100% online.', 'header_3': 'Available degrees', 'heading': 'Certificates & Degrees', 'subheading': 'Three-Year Degree', 'title': 'Earn a Degree in Three Years', 'url': 'https://www.byupathway.edu/degree-in-three', 'context': '[**Explore Degrees**](https://www.byupathway.edu/degrees/program-list#viewallcertificates/#list-bachelors-degrees)'}, excluded_embed_metadata_keys=[], excluded_llm_metadata_keys=[], relationships={}, text='[**Explore Degrees**](https://www.byupathway.edu/degrees/program-list#viewallcertificates/#list-bachelors-degrees)', mimetype='text/plain', start_char_idx=None, end_char_idx=None, text_template='{metadata_str}\\n\\n{content}', metadata_template='{key}: {value}', metadata_seperator='\\n'),\n",
       " TextNode(id_='948ef028-dd86-4387-be3a-c51796b19452', embedding=None, metadata={'header_1': \"Earn a bachelor's degree in three years through BYU-Pathway Worldwide\", 'header_2': 'Fewer credits. 100% online.', 'header_3': 'Available degrees', 'heading': 'Certificates & Degrees', 'subheading': 'Three-Year Degree', 'title': 'Earn a Degree in Three Years', 'url': 'https://www.byupathway.edu/degree-in-three', 'context': 'Affordable education with all the value'}, excluded_embed_metadata_keys=[], excluded_llm_metadata_keys=[], relationships={}, text='Affordable education with all the value', mimetype='text/plain', start_char_idx=None, end_char_idx=None, text_template='{metadata_str}\\n\\n{content}', metadata_template='{key}: {value}', metadata_seperator='\\n'),\n",
       " TextNode(id_='63a95098-5dbf-4b83-9b9d-f8031d4fd3ae', embedding=None, metadata={'header_1': \"Earn a bachelor's degree in three years through BYU-Pathway Worldwide\", 'header_2': 'Fewer credits. 100% online.', 'header_3': 'Available degrees', 'heading': 'Certificates & Degrees', 'subheading': 'Three-Year Degree', 'title': 'Earn a Degree in Three Years', 'url': 'https://www.byupathway.edu/degree-in-three', 'context': 'The best part of the three-year degree structure — besides saving an additional 25% of your time and money — is students will still enjoy all the hallmarks of the BYU-Pathway experience:\\n\\n* 100% online and flexible\\n* Faith-building through gospel-centered courses and weekly gatherings\\n* Guaranteed tuition discounts of 10%, 25%, or 50%, plus recently returned missionaries get an additional 25% discount\\n* The Heber J. Grant Tuition Discount is a needs-based discount available to all students. Discount amounts range from 10–50% off. [Click here](https://www.byupathway.edu/hjg-scholarship) to learn more.\\n* Job-enhancing certificate(s) earned with each degree\\n* A student-centered approach\\n* Access to mentors for support and guidance'}, excluded_embed_metadata_keys=[], excluded_llm_metadata_keys=[], relationships={}, text='The best part of the three-year degree structure — besides saving an additional 25% of your time and money — is students will still enjoy all the hallmarks of the BYU-Pathway experience:\\n\\n* 100% online and flexible\\n* Faith-building through gospel-centered courses and weekly gatherings\\n* Guaranteed tuition discounts of 10%, 25%, or 50%, plus recently returned missionaries get an additional 25% discount\\n* The Heber J. Grant Tuition Discount is a needs-based discount available to all students. Discount amounts range from 10–50% off. [Click here](https://www.byupathway.edu/hjg-scholarship) to learn more.\\n* Job-enhancing certificate(s) earned with each degree\\n* A student-centered approach\\n* Access to mentors for support and guidance', mimetype='text/plain', start_char_idx=None, end_char_idx=None, text_template='{metadata_str}\\n\\n{content}', metadata_template='{key}: {value}', metadata_seperator='\\n'),\n",
       " TextNode(id_='0d035181-9461-450a-b7f0-d04dbd249dc0', embedding=None, metadata={'header_1': \"Earn a bachelor's degree in three years through BYU-Pathway Worldwide\", 'header_2': 'Fewer credits. 100% online.', 'header_3': 'Available degrees', 'heading': 'Certificates & Degrees', 'subheading': 'Three-Year Degree', 'title': 'Earn a Degree in Three Years', 'url': 'https://www.byupathway.edu/degree-in-three', 'context': '> Our students balance many responsibilities and sacrifice a lot to earn an education. These three-year degrees will help them graduate faster while fully preparing them to get a better job.\\n```'}, excluded_embed_metadata_keys=[], excluded_llm_metadata_keys=[], relationships={}, text='> Our students balance many responsibilities and sacrifice a lot to earn an education. These three-year degrees will help them graduate faster while fully preparing them to get a better job.\\n```', mimetype='text/plain', start_char_idx=None, end_char_idx=None, text_template='{metadata_str}\\n\\n{content}', metadata_template='{key}: {value}', metadata_seperator='\\n'),\n",
       " TextNode(id_='22700d4c-eaf5-4447-a58a-e392cdb43606', embedding=None, metadata={'header_1': 'President Brian K. Ashton', 'header_2': 'BYU-Pathway Worldwide', 'heading': 'Certificates & Degrees', 'subheading': 'Three-Year Degree', 'title': 'Earn a Degree in Three Years', 'url': 'https://www.byupathway.edu/degree-in-three', 'context': '[**Apply Now**](https://apply.byupathway.edu/rta)'}, excluded_embed_metadata_keys=[], excluded_llm_metadata_keys=[], relationships={}, text='[**Apply Now**](https://apply.byupathway.edu/rta)', mimetype='text/plain', start_char_idx=None, end_char_idx=None, text_template='{metadata_str}\\n\\n{content}', metadata_template='{key}: {value}', metadata_seperator='\\n'),\n",
       " TextNode(id_='01d1ceb3-ffec-4541-b4e0-6b3dfa8714b4', embedding=None, metadata={'header_1': 'President Brian K. Ashton', 'header_2': 'BYU-Pathway Worldwide', 'heading': 'Certificates & Degrees', 'subheading': 'Three-Year Degree', 'title': 'Earn a Degree in Three Years', 'url': 'https://www.byupathway.edu/degree-in-three', 'context': '[Speak with an enrollment counselor](https://outlook.office365.com/owa/calendar/BYUPathwayWorldwide5@office365lds.onmicrosoft.com/bookings/)'}, excluded_embed_metadata_keys=[], excluded_llm_metadata_keys=[], relationships={}, text='[Speak with an enrollment counselor](https://outlook.office365.com/owa/calendar/BYUPathwayWorldwide5@office365lds.onmicrosoft.com/bookings/)', mimetype='text/plain', start_char_idx=None, end_char_idx=None, text_template='{metadata_str}\\n\\n{content}', metadata_template='{key}: {value}', metadata_seperator='\\n')]"
      ]
     },
     "execution_count": 21,
     "metadata": {},
     "output_type": "execute_result"
    }
   ],
   "source": [
    "parser = AltNodeParser.from_defaults()\n",
    "parser.get_nodes_from_node(doc)"
   ]
  },
  {
   "cell_type": "code",
   "execution_count": 22,
   "metadata": {},
   "outputs": [],
   "source": [
    "def run_pipeline(documents, splitter, embed_model, vector_store, include_prev_next_rel):\n",
    "    \"\"\"Run the ingestion pipeline to split documents, generate embeddings, and insert into an index.\"\"\"\n",
    "    pipeline = IngestionPipeline(\n",
    "        transformations=[\n",
    "            splitter,\n",
    "            embed_model,\n",
    "        ]\n",
    "    )\n",
    "    index = VectorStoreIndex.from_vector_store(\n",
    "        vector_store,\n",
    "        embed_model=embed_model,\n",
    "    )\n",
    "    nodes = pipeline.run(documents=documents, show_progress=False)\n",
    "    \n",
    "    if include_prev_next_rel:\n",
    "        for i in range(0, len(nodes)):\n",
    "            if i > 0:\n",
    "                nodes[i].metadata[\"prev\"] = nodes[i - 1].text\n",
    "            if i < len(nodes) - 1:\n",
    "                nodes[i].metadata[\"next\"] = nodes[i + 1].text\n",
    "                \n",
    "    index.insert_nodes(nodes)\n",
    "    print(f\"Nodes inserted: {len(nodes)}\")\n",
    "    return index, nodes  # CHANGED"
   ]
  },
  {
   "cell_type": "code",
   "execution_count": 23,
   "metadata": {},
   "outputs": [],
   "source": [
    "def evaluate_retriever(retriever, \n",
    "                       qa_df, \n",
    "                       ngram_size, \n",
    "                       f_beta, \n",
    "                       retriever_threshold=0.0, \n",
    "                       rerank=False,\n",
    "                       rerank_model=\"\",\n",
    "                       rerank_threshold=0.0,\n",
    "                       rerank_k=0,\n",
    "                       include_prev_next_rel=False, \n",
    "                       use_node_contexts=False\n",
    "                      ):\n",
    "    \"\"\"Evaluate the retriever using a set of questions and their corresponding n-grams.\"\"\"\n",
    "    f_scores = []\n",
    "    results = []\n",
    "    for index, row in qa_df.iterrows():\n",
    "        question = row['Question']\n",
    "        true_ngrams = row['question_ngrams']\n",
    "        response = retriever.retrieve(question)\n",
    "        \n",
    "        # CHANGED - set a minimum similarity threshold\n",
    "        nodes = [node for node in response if node.score >= retriever_threshold]\n",
    "        \n",
    "        # CHANGED - use node context metadata for text to send to llm\n",
    "        if use_node_contexts:\n",
    "            node_texts_ordered = [node.metadata.get(\"context\", \"\") for node in nodes]\n",
    "        elif include_prev_next_rel:\n",
    "            node_texts_ordered = [\n",
    "                node.metadata.get(\"prev\", \"\") + \" \" + node.text + \" \" + node.metadata.get(\"next\", \"\")\n",
    "                for node in nodes\n",
    "            ]\n",
    "        else:\n",
    "            node_texts_ordered = [node.text for node in nodes]\n",
    "            \n",
    "        # CHANGED - dedup node texts\n",
    "        node_texts = list(set(node_texts_ordered))\n",
    "        \n",
    "        # CHANGED - rerank\n",
    "        if rerank and len(node_texts) > 1:\n",
    "            success = False\n",
    "            retries = 0\n",
    "            while not success and retries < 3:\n",
    "                try:\n",
    "                    reranking = vo.rerank(question, node_texts, model=rerank_model, top_k=rerank_k)\n",
    "                    node_texts = [r.document for r in reranking.results if r.relevance_score >= rerank_threshold]            \n",
    "                    success = True\n",
    "                except:\n",
    "                    time.sleep(60)\n",
    "                    retries += 1\n",
    "        \n",
    "        # CHANGED - ensure node texts is not empty\n",
    "        node_text_nodes = []\n",
    "        if len(node_texts) == 0:\n",
    "            node_texts = ['qwer asdf']\n",
    "        else:\n",
    "            # CHANGED - get filtered and reranked nodes\n",
    "            for node_text in node_texts:\n",
    "                node_text_nodes.append((node_text, nodes[node_texts_ordered.index(node_text)]))\n",
    "            \n",
    "        predicted_ngrams = _generate_ngrams_from_texts(node_texts, ngram_size=ngram_size)\n",
    "        # CHANGED - dedup ngrams\n",
    "        true_ngrams = list(set(true_ngrams))\n",
    "        predicted_ngrams = list(set(predicted_ngrams))\n",
    "        precision, recall = precision_recall(predicted_ngrams, true_ngrams)\n",
    "        score = f_score(precision, recall, beta=f_beta)\n",
    "        f_scores.append(score)\n",
    "        results.append({\n",
    "            \"Question\": question,\n",
    "            \"Ideal Answer\": row['Ideal Answer'],\n",
    "            \"Link\": row['Link'],\n",
    "            'Quote': row['Quote'],\n",
    "            'Chunk urls': '\\n'.join(list(set(node.metadata.get('url', '') for _, node in node_text_nodes))),\n",
    "            'Chunks': '\\n\\n\\n'.join([f\"{node.metadata.get('url', '')}\\n-----\\n{node_text}\" for node_text, node in node_text_nodes]),\n",
    "            'Precision': precision,\n",
    "            'Recall': recall,\n",
    "            f'F{f_beta}': score,\n",
    "        })\n",
    "            \n",
    "    return sum(f_scores) / len(f_scores), pd.DataFrame(results)"
   ]
  },
  {
   "cell_type": "code",
   "execution_count": 24,
   "metadata": {},
   "outputs": [],
   "source": [
    "def objective(trial, documents, ngram_size, qa_df, f_beta=1.0):\n",
    "    \"\"\"\n",
    "    This function is called by Optuna. It creates an index, run queries over the index,\n",
    "    calculates the precision and recall of the results, and returns the average f-score.\n",
    "    \"\"\"\n",
    "\n",
    "    #\n",
    "    # Define hyperparameters\n",
    "    #\n",
    "\n",
    "    # define embedder\n",
    "    embed_model_name = trial.suggest_categorical(\n",
    "        \"embed_model\",\n",
    "        [\n",
    "            # \"text-embedding-3-small\",\n",
    "            \"text-embedding-3-large\",  # .02 better, 6x more expensive\n",
    "            # we can't use voyage embeddings right now because the version of llamaindex that we're using \n",
    "            # uses and older version of the voyage client that doesn't support re-ranking\n",
    "            # \"voyage-3-lite\",  # .01 better, same price as text-embedding-3-small\n",
    "            # \"voyage-3\",  # worse\n",
    "            # GPU runs out of memory with gte model\n",
    "            # 'Alibaba-NLP/gte-large-en-v1.5',  # WARNING: this downloads 1.74G of data\n",
    "        ],\n",
    "    )\n",
    "    if embed_model_name in [\"text-embedding-3-small\", \"text-embedding-3-large\"]:\n",
    "        embed_model = OpenAIEmbedding(\n",
    "            model=embed_model_name,\n",
    "            embed_batch_size=100,\n",
    "            max_retries=25,\n",
    "            timeout=180,\n",
    "            reuse_client=True,   \n",
    "        )\n",
    "    elif embed_model_name in [\"voyage-3\", \"voyage-3-lite\"]:\n",
    "        embed_model = VoyageEmbedding(\n",
    "            model_name=embed_model_name\n",
    "        )\n",
    "\n",
    "    # define splitter\n",
    "    splitter_name = trial.suggest_categorical(\n",
    "        \"splitter\",\n",
    "        [\n",
    "            # \"sentence\",\n",
    "            # \"semantic\",\n",
    "            # \"markdown\",\n",
    "            # \"paragraph\"\n",
    "            # \"custom_splitter\",\n",
    "            \"alt_splitter\",\n",
    "        ],\n",
    "    )\n",
    "\n",
    "    if splitter_name == \"sentence\":\n",
    "        chunk_size = trial.suggest_int(\"chunk_size\", 256, 1024)\n",
    "        chunk_overlap = trial.suggest_int(\"chunk_overlap\", 0, 200)\n",
    "        splitter = SentenceSplitter(chunk_size=chunk_size, chunk_overlap=chunk_overlap)\n",
    "\n",
    "    elif splitter_name == \"semantic\":\n",
    "        include_prev_next_rel = trial.suggest_categorical(\"include_prev_next_rel\", [True, False])  # CHANGE\n",
    "        buffer_size = trial.suggest_int(\"buffer_size\", 1, 3)\n",
    "        breakpoint_percentile_threshold = trial.suggest_int(\"breakpoint_percentile_threshold\", 60, 85)\n",
    "        splitter = SemanticSplitterNodeParser(\n",
    "            buffer_size=buffer_size,\n",
    "            breakpoint_percentile_threshold=breakpoint_percentile_threshold,\n",
    "            include_prev_next_rel=include_prev_next_rel,\n",
    "            embed_model=embed_model,\n",
    "        )\n",
    "\n",
    "    elif splitter_name == \"markdown\":\n",
    "        include_prev_next_rel = trial.suggest_categorical(\"include_prev_next_rel\", [True, False])  # CHANGE\n",
    "        splitter = MarkdownNodeParser(\n",
    "            include_prev_next_rel=include_prev_next_rel,\n",
    "        )\n",
    "    # elif splitter_name == \"paragraph\":\n",
    "    #     splitter = split_document_text\n",
    "\n",
    "    elif splitter_name == \"custom_splitter\":\n",
    "        add_metadata_to_text = trial.suggest_categorical(\"add_metadata_to_text\", [True])\n",
    "        split_by_sentence = trial.suggest_categorical(\"split_by_sentence\", [True])\n",
    "        include_prev_next_rel = trial.suggest_categorical(\"include_prev_next_rel\", [True])  # CHANGE\n",
    "        splitter = CustomNodeParser().from_defaults(\n",
    "            add_metadata_to_text=add_metadata_to_text, split_by_sentence=split_by_sentence\n",
    "        )\n",
    "    elif splitter_name == \"alt_splitter\":  # CHANGED\n",
    "        split_by = \"paragraph\"  ### trial.suggest_categorical(\"split_by\", [\"sentence\", \"paragraph\", \"both\"])\n",
    "        embed_prev_next_sentences = 0  ### trial.suggest_int(\"embed_prev_next_sentences\", 0, 5)\n",
    "        embed_prev_next_paragraphs = 1  ### trial.suggest_int(\"embed_prev_next_paragraphs\", 1, 4)\n",
    "        max_embed_length = trial.suggest_int(\"max_embed_length\", 350, 500, step=50)\n",
    "        # Two problems with embedding index headers:\n",
    "        # 1. The index titles are often the exact same as our test questions, leading to data leakage \n",
    "        #    which makes our numbers too good.\n",
    "        # 2. The index titles may refer to specific parts of the page, but we associate them with the entire page\n",
    "        #    which means that every chunk on the page appears equally relevant and gets our retriever confused.\n",
    "        # So I think we'll have to rely on embedding markdown headers\n",
    "        embed_index_headers = trial.suggest_categorical(\"embed_index_headers\", [True, False])\n",
    "        embed_md_headers = True  ### trial.suggest_categorical(\"embed_md_headers\", [True])\n",
    "        include_prev_next_paragraphs = trial.suggest_int(\"include_prev_next_paragraphs\", 2, 5)\n",
    "        max_include_length = trial.suggest_int(\"max_include_length\", 650, 800, step=50)\n",
    "        include_index_headers = False  ### trial.suggest_categorical(\"include_index_headers\", [False])\n",
    "        include_md_headers = True  ### trial.suggest_categorical(\"include_md_headers\", [True])\n",
    "        splitter = AltNodeParser().from_defaults(\n",
    "            split_by=split_by,\n",
    "            embed_prev_next_sentences=embed_prev_next_sentences,\n",
    "            embed_prev_next_paragraphs=embed_prev_next_paragraphs,\n",
    "            max_embed_length=max_embed_length,\n",
    "            embed_index_headers=embed_index_headers,\n",
    "            embed_md_headers=embed_md_headers,\n",
    "            include_prev_next_paragraphs=include_prev_next_paragraphs,\n",
    "            max_include_length=max_include_length,\n",
    "            include_index_headers=include_index_headers,\n",
    "            include_md_headers=include_md_headers,\n",
    "        )\n",
    "        \n",
    "    # add metadata\n",
    "    ## nothing for now\n",
    "\n",
    "    # define index\n",
    "    query_mode = VectorStoreQueryMode.DEFAULT\n",
    "    index_type = trial.suggest_categorical(\n",
    "        \"index\",\n",
    "        [\n",
    "            \"chromadb\",\n",
    "            # \"milvus\",  # need to create a (free) account at https://cloud.zilliz.com/\n",
    "            # and add MILVUS_URI=your public endpoint and MILVUS_TOKEN=your token (api key) to your .env file\n",
    "        ],\n",
    "    )\n",
    "    if index_type == \"chromadb\":\n",
    "        chroma_client = chromadb.EphemeralClient()\n",
    "        # delete collection if it exists\n",
    "        if any(coll.name == \"test\" for coll in chroma_client.list_collections()):\n",
    "            chroma_client.delete_collection(\"test\")\n",
    "        chroma_collection = chroma_client.create_collection(\"test\")\n",
    "        vector_store = ChromaVectorStore(chroma_collection=chroma_collection)\n",
    "\n",
    "    # define retriever hyperparameters\n",
    "    retriever_threshold = trial.suggest_float(\"retriever_threshold\", 0.0, 0.15, step=0.05)  # CHANGED\n",
    "    retriever_k = trial.suggest_int(\"retriever_k\", 35, 40, step=5)  # CHANGED \n",
    "    sparse_k = retriever_k * 5\n",
    "\n",
    "    # define reranker hyperparameters\n",
    "    rerank = trial.suggest_categorical(\"rerank\", [True])\n",
    "    if rerank:\n",
    "        rerank_model = \"rerank-lite-1\"\n",
    "        rerank_threshold = trial.suggest_float(\"rerank_threshold\", 0.2, 0.4, step=0.02)\n",
    "        rerank_k = trial.suggest_int(\"rerank_k\", 16, 18, step=1)\n",
    "    else:\n",
    "        rerank_model = \"\"\n",
    "        rerank_threshold = 0.0\n",
    "        rerank_k = 0\n",
    "        \n",
    "    #\n",
    "    # Use hyperparameters to split documents into chunks, generate embeddings, and insert into an index\n",
    "    #\n",
    "\n",
    "    # run the pipeline\n",
    "    index, nodes = run_pipeline(documents, splitter, embed_model, vector_store, \n",
    "                                splitter_name in [\"semantic\", \"markdown\", \"custom_splitter\"] and include_prev_next_rel)\n",
    "\n",
    "    # create a retriever from the index\n",
    "    retriever = index.as_retriever(\n",
    "        vector_store_query_mode=query_mode,\n",
    "        similarity_top_k=retriever_k,\n",
    "        sparse_top_k=sparse_k,\n",
    "    )\n",
    "    \n",
    "    #\n",
    "    # Evaluate the quality of the chunks retrieved from the index for the sample questions\n",
    "    #\n",
    "\n",
    "    # issue all questions and calculate the f-score on the retrieved chunks\n",
    "    avg_f_score, eval_df = evaluate_retriever(\n",
    "        retriever, \n",
    "        qa_df, \n",
    "        ngram_size, \n",
    "        f_beta, \n",
    "        retriever_threshold=retriever_threshold,\n",
    "        rerank=rerank,\n",
    "        rerank_model=rerank_model,\n",
    "        rerank_threshold=rerank_threshold,\n",
    "        rerank_k=rerank_k,\n",
    "        include_prev_next_rel=splitter_name in [\"semantic\", \"markdown\", \"custom_splitter\"] and include_prev_next_rel,\n",
    "        use_node_contexts=splitter_name == \"alt_splitter\",\n",
    "    )\n",
    "    \n",
    "    # write nodes\n",
    "    nodes_df = pd.DataFrame([{\n",
    "        'url': node.metadata.get('url', ''),\n",
    "        'text': node.text,\n",
    "        'context': node.metadata.get('context', ''),\n",
    "    } for node in nodes])\n",
    "    nodes_df.to_csv(f'chunks_{trial.number}.csv', index=False)\n",
    "\n",
    "    # write eval_df\n",
    "    eval_df.to_csv(f'chunks_recall_{trial.number}.csv', index=False)\n",
    "                    \n",
    "    return avg_f_score\n"
   ]
  },
  {
   "cell_type": "code",
   "execution_count": 25,
   "metadata": {},
   "outputs": [
    {
     "name": "stdout",
     "output_type": "stream",
     "text": [
      "To see a dashboard, open a terminal, activate the virtual environment, and run: optuna-dashboard sqlite:///optuna-test_09_22_24_ih.db\n"
     ]
    },
    {
     "name": "stderr",
     "output_type": "stream",
     "text": [
      "[I 2024-09-22 20:40:36,282] A new study created in RDB with name: test_09_22_24_ih\n"
     ]
    },
    {
     "name": "stdout",
     "output_type": "stream",
     "text": [
      "Nodes inserted: 8121\n"
     ]
    },
    {
     "name": "stderr",
     "output_type": "stream",
     "text": [
      "[I 2024-09-22 20:47:06,257] Trial 0 finished with value: 0.4678342691281568 and parameters: {'embed_model': 'text-embedding-3-large', 'splitter': 'alt_splitter', 'max_embed_length': 450, 'embed_index_headers': False, 'include_prev_next_paragraphs': 3, 'max_include_length': 750, 'index': 'chromadb', 'retriever_threshold': 0.1, 'retriever_k': 40, 'rerank': True, 'rerank_threshold': 0.36, 'rerank_k': 16}. Best is trial 0 with value: 0.4678342691281568.\n"
     ]
    },
    {
     "name": "stdout",
     "output_type": "stream",
     "text": [
      "Nodes inserted: 8121\n"
     ]
    },
    {
     "name": "stderr",
     "output_type": "stream",
     "text": [
      "[I 2024-09-22 20:53:45,909] Trial 1 finished with value: 0.49253316286990556 and parameters: {'embed_model': 'text-embedding-3-large', 'splitter': 'alt_splitter', 'max_embed_length': 500, 'embed_index_headers': False, 'include_prev_next_paragraphs': 5, 'max_include_length': 800, 'index': 'chromadb', 'retriever_threshold': 0.1, 'retriever_k': 40, 'rerank': True, 'rerank_threshold': 0.30000000000000004, 'rerank_k': 17}. Best is trial 1 with value: 0.49253316286990556.\n"
     ]
    },
    {
     "name": "stdout",
     "output_type": "stream",
     "text": [
      "Nodes inserted: 8121\n"
     ]
    },
    {
     "name": "stderr",
     "output_type": "stream",
     "text": [
      "[I 2024-09-22 21:00:11,762] Trial 2 finished with value: 0.4707579032740357 and parameters: {'embed_model': 'text-embedding-3-large', 'splitter': 'alt_splitter', 'max_embed_length': 450, 'embed_index_headers': False, 'include_prev_next_paragraphs': 3, 'max_include_length': 800, 'index': 'chromadb', 'retriever_threshold': 0.05, 'retriever_k': 40, 'rerank': True, 'rerank_threshold': 0.22, 'rerank_k': 17}. Best is trial 1 with value: 0.49253316286990556.\n"
     ]
    },
    {
     "name": "stdout",
     "output_type": "stream",
     "text": [
      "Nodes inserted: 8121\n"
     ]
    },
    {
     "name": "stderr",
     "output_type": "stream",
     "text": [
      "[I 2024-09-22 21:06:35,473] Trial 3 finished with value: 0.4819431041827578 and parameters: {'embed_model': 'text-embedding-3-large', 'splitter': 'alt_splitter', 'max_embed_length': 400, 'embed_index_headers': False, 'include_prev_next_paragraphs': 2, 'max_include_length': 800, 'index': 'chromadb', 'retriever_threshold': 0.1, 'retriever_k': 40, 'rerank': True, 'rerank_threshold': 0.34, 'rerank_k': 17}. Best is trial 1 with value: 0.49253316286990556.\n"
     ]
    },
    {
     "name": "stdout",
     "output_type": "stream",
     "text": [
      "Nodes inserted: 8121\n"
     ]
    },
    {
     "name": "stderr",
     "output_type": "stream",
     "text": [
      "[I 2024-09-22 21:12:59,873] Trial 4 finished with value: 0.47701757492337477 and parameters: {'embed_model': 'text-embedding-3-large', 'splitter': 'alt_splitter', 'max_embed_length': 500, 'embed_index_headers': False, 'include_prev_next_paragraphs': 5, 'max_include_length': 750, 'index': 'chromadb', 'retriever_threshold': 0.15, 'retriever_k': 40, 'rerank': True, 'rerank_threshold': 0.38, 'rerank_k': 17}. Best is trial 1 with value: 0.49253316286990556.\n"
     ]
    },
    {
     "name": "stdout",
     "output_type": "stream",
     "text": [
      "Nodes inserted: 8121\n"
     ]
    },
    {
     "name": "stderr",
     "output_type": "stream",
     "text": [
      "[I 2024-09-22 21:19:29,874] Trial 5 finished with value: 0.4948261828604715 and parameters: {'embed_model': 'text-embedding-3-large', 'splitter': 'alt_splitter', 'max_embed_length': 350, 'embed_index_headers': True, 'include_prev_next_paragraphs': 4, 'max_include_length': 750, 'index': 'chromadb', 'retriever_threshold': 0.05, 'retriever_k': 35, 'rerank': True, 'rerank_threshold': 0.2, 'rerank_k': 18}. Best is trial 5 with value: 0.4948261828604715.\n"
     ]
    },
    {
     "name": "stdout",
     "output_type": "stream",
     "text": [
      "Nodes inserted: 8121\n"
     ]
    },
    {
     "name": "stderr",
     "output_type": "stream",
     "text": [
      "[I 2024-09-22 21:26:04,490] Trial 6 finished with value: 0.47239845352554655 and parameters: {'embed_model': 'text-embedding-3-large', 'splitter': 'alt_splitter', 'max_embed_length': 400, 'embed_index_headers': False, 'include_prev_next_paragraphs': 4, 'max_include_length': 750, 'index': 'chromadb', 'retriever_threshold': 0.0, 'retriever_k': 35, 'rerank': True, 'rerank_threshold': 0.4, 'rerank_k': 17}. Best is trial 5 with value: 0.4948261828604715.\n"
     ]
    },
    {
     "name": "stdout",
     "output_type": "stream",
     "text": [
      "Nodes inserted: 8121\n"
     ]
    },
    {
     "name": "stderr",
     "output_type": "stream",
     "text": [
      "[I 2024-09-22 21:32:37,228] Trial 7 finished with value: 0.4824690019899481 and parameters: {'embed_model': 'text-embedding-3-large', 'splitter': 'alt_splitter', 'max_embed_length': 350, 'embed_index_headers': False, 'include_prev_next_paragraphs': 2, 'max_include_length': 750, 'index': 'chromadb', 'retriever_threshold': 0.1, 'retriever_k': 35, 'rerank': True, 'rerank_threshold': 0.36, 'rerank_k': 17}. Best is trial 5 with value: 0.4948261828604715.\n"
     ]
    },
    {
     "name": "stdout",
     "output_type": "stream",
     "text": [
      "Nodes inserted: 8121\n"
     ]
    },
    {
     "name": "stderr",
     "output_type": "stream",
     "text": [
      "[I 2024-09-22 21:40:12,124] Trial 8 finished with value: 0.4970842285387165 and parameters: {'embed_model': 'text-embedding-3-large', 'splitter': 'alt_splitter', 'max_embed_length': 500, 'embed_index_headers': False, 'include_prev_next_paragraphs': 3, 'max_include_length': 750, 'index': 'chromadb', 'retriever_threshold': 0.15, 'retriever_k': 35, 'rerank': True, 'rerank_threshold': 0.32, 'rerank_k': 18}. Best is trial 8 with value: 0.4970842285387165.\n"
     ]
    },
    {
     "name": "stdout",
     "output_type": "stream",
     "text": [
      "Nodes inserted: 8121\n"
     ]
    },
    {
     "name": "stderr",
     "output_type": "stream",
     "text": [
      "[I 2024-09-22 21:47:42,851] Trial 9 finished with value: 0.4940062967490663 and parameters: {'embed_model': 'text-embedding-3-large', 'splitter': 'alt_splitter', 'max_embed_length': 450, 'embed_index_headers': True, 'include_prev_next_paragraphs': 2, 'max_include_length': 800, 'index': 'chromadb', 'retriever_threshold': 0.0, 'retriever_k': 40, 'rerank': True, 'rerank_threshold': 0.24000000000000002, 'rerank_k': 17}. Best is trial 8 with value: 0.4970842285387165.\n"
     ]
    },
    {
     "name": "stdout",
     "output_type": "stream",
     "text": [
      "Nodes inserted: 8121\n"
     ]
    },
    {
     "name": "stderr",
     "output_type": "stream",
     "text": [
      "[I 2024-09-22 21:54:12,578] Trial 10 finished with value: 0.4928404442333832 and parameters: {'embed_model': 'text-embedding-3-large', 'splitter': 'alt_splitter', 'max_embed_length': 500, 'embed_index_headers': True, 'include_prev_next_paragraphs': 3, 'max_include_length': 650, 'index': 'chromadb', 'retriever_threshold': 0.15, 'retriever_k': 35, 'rerank': True, 'rerank_threshold': 0.28, 'rerank_k': 18}. Best is trial 8 with value: 0.4970842285387165.\n"
     ]
    },
    {
     "name": "stdout",
     "output_type": "stream",
     "text": [
      "Nodes inserted: 8121\n"
     ]
    },
    {
     "name": "stderr",
     "output_type": "stream",
     "text": [
      "[I 2024-09-22 22:00:42,358] Trial 11 finished with value: 0.4882187794112856 and parameters: {'embed_model': 'text-embedding-3-large', 'splitter': 'alt_splitter', 'max_embed_length': 350, 'embed_index_headers': True, 'include_prev_next_paragraphs': 4, 'max_include_length': 700, 'index': 'chromadb', 'retriever_threshold': 0.05, 'retriever_k': 35, 'rerank': True, 'rerank_threshold': 0.2, 'rerank_k': 18}. Best is trial 8 with value: 0.4970842285387165.\n"
     ]
    },
    {
     "name": "stdout",
     "output_type": "stream",
     "text": [
      "Nodes inserted: 8121\n"
     ]
    },
    {
     "name": "stderr",
     "output_type": "stream",
     "text": [
      "[I 2024-09-22 22:07:20,305] Trial 12 finished with value: 0.47691120525789593 and parameters: {'embed_model': 'text-embedding-3-large', 'splitter': 'alt_splitter', 'max_embed_length': 400, 'embed_index_headers': True, 'include_prev_next_paragraphs': 4, 'max_include_length': 700, 'index': 'chromadb', 'retriever_threshold': 0.05, 'retriever_k': 35, 'rerank': True, 'rerank_threshold': 0.26, 'rerank_k': 18}. Best is trial 8 with value: 0.4970842285387165.\n"
     ]
    },
    {
     "name": "stdout",
     "output_type": "stream",
     "text": [
      "Nodes inserted: 8121\n"
     ]
    },
    {
     "name": "stderr",
     "output_type": "stream",
     "text": [
      "[I 2024-09-22 22:13:42,456] Trial 13 finished with value: 0.49489755922838435 and parameters: {'embed_model': 'text-embedding-3-large', 'splitter': 'alt_splitter', 'max_embed_length': 350, 'embed_index_headers': True, 'include_prev_next_paragraphs': 4, 'max_include_length': 700, 'index': 'chromadb', 'retriever_threshold': 0.15, 'retriever_k': 35, 'rerank': True, 'rerank_threshold': 0.32, 'rerank_k': 18}. Best is trial 8 with value: 0.4970842285387165.\n"
     ]
    },
    {
     "name": "stdout",
     "output_type": "stream",
     "text": [
      "Nodes inserted: 8121\n"
     ]
    },
    {
     "name": "stderr",
     "output_type": "stream",
     "text": [
      "[I 2024-09-22 22:20:06,889] Trial 14 finished with value: 0.4934425617046613 and parameters: {'embed_model': 'text-embedding-3-large', 'splitter': 'alt_splitter', 'max_embed_length': 450, 'embed_index_headers': True, 'include_prev_next_paragraphs': 3, 'max_include_length': 650, 'index': 'chromadb', 'retriever_threshold': 0.15, 'retriever_k': 35, 'rerank': True, 'rerank_threshold': 0.32, 'rerank_k': 18}. Best is trial 8 with value: 0.4970842285387165.\n"
     ]
    },
    {
     "name": "stdout",
     "output_type": "stream",
     "text": [
      "Nodes inserted: 8121\n"
     ]
    },
    {
     "name": "stderr",
     "output_type": "stream",
     "text": [
      "[I 2024-09-22 22:26:35,749] Trial 15 finished with value: 0.48972387838391346 and parameters: {'embed_model': 'text-embedding-3-large', 'splitter': 'alt_splitter', 'max_embed_length': 400, 'embed_index_headers': True, 'include_prev_next_paragraphs': 5, 'max_include_length': 700, 'index': 'chromadb', 'retriever_threshold': 0.15, 'retriever_k': 35, 'rerank': True, 'rerank_threshold': 0.30000000000000004, 'rerank_k': 16}. Best is trial 8 with value: 0.4970842285387165.\n"
     ]
    },
    {
     "name": "stdout",
     "output_type": "stream",
     "text": [
      "Nodes inserted: 8121\n"
     ]
    },
    {
     "name": "stderr",
     "output_type": "stream",
     "text": [
      "[I 2024-09-22 22:32:58,710] Trial 16 finished with value: 0.4912626156541909 and parameters: {'embed_model': 'text-embedding-3-large', 'splitter': 'alt_splitter', 'max_embed_length': 500, 'embed_index_headers': False, 'include_prev_next_paragraphs': 3, 'max_include_length': 700, 'index': 'chromadb', 'retriever_threshold': 0.15, 'retriever_k': 35, 'rerank': True, 'rerank_threshold': 0.32, 'rerank_k': 18}. Best is trial 8 with value: 0.4970842285387165.\n"
     ]
    },
    {
     "name": "stdout",
     "output_type": "stream",
     "text": [
      "Nodes inserted: 8121\n"
     ]
    },
    {
     "name": "stderr",
     "output_type": "stream",
     "text": [
      "[I 2024-09-22 22:39:20,372] Trial 17 finished with value: 0.4914943830428635 and parameters: {'embed_model': 'text-embedding-3-large', 'splitter': 'alt_splitter', 'max_embed_length': 350, 'embed_index_headers': True, 'include_prev_next_paragraphs': 4, 'max_include_length': 650, 'index': 'chromadb', 'retriever_threshold': 0.15, 'retriever_k': 35, 'rerank': True, 'rerank_threshold': 0.28, 'rerank_k': 18}. Best is trial 8 with value: 0.4970842285387165.\n"
     ]
    },
    {
     "name": "stdout",
     "output_type": "stream",
     "text": [
      "Nodes inserted: 8121\n"
     ]
    },
    {
     "name": "stderr",
     "output_type": "stream",
     "text": [
      "[I 2024-09-22 22:45:47,222] Trial 18 finished with value: 0.48120723321992975 and parameters: {'embed_model': 'text-embedding-3-large', 'splitter': 'alt_splitter', 'max_embed_length': 400, 'embed_index_headers': False, 'include_prev_next_paragraphs': 4, 'max_include_length': 700, 'index': 'chromadb', 'retriever_threshold': 0.1, 'retriever_k': 35, 'rerank': True, 'rerank_threshold': 0.34, 'rerank_k': 18}. Best is trial 8 with value: 0.4970842285387165.\n"
     ]
    },
    {
     "name": "stdout",
     "output_type": "stream",
     "text": [
      "Nodes inserted: 8121\n"
     ]
    },
    {
     "name": "stderr",
     "output_type": "stream",
     "text": [
      "[I 2024-09-22 22:52:11,729] Trial 19 finished with value: 0.47875154047558327 and parameters: {'embed_model': 'text-embedding-3-large', 'splitter': 'alt_splitter', 'max_embed_length': 450, 'embed_index_headers': True, 'include_prev_next_paragraphs': 3, 'max_include_length': 700, 'index': 'chromadb', 'retriever_threshold': 0.15, 'retriever_k': 35, 'rerank': True, 'rerank_threshold': 0.32, 'rerank_k': 16}. Best is trial 8 with value: 0.4970842285387165.\n"
     ]
    },
    {
     "name": "stdout",
     "output_type": "stream",
     "text": [
      "Nodes inserted: 8121\n"
     ]
    },
    {
     "name": "stderr",
     "output_type": "stream",
     "text": [
      "[I 2024-09-22 22:58:40,346] Trial 20 finished with value: 0.4655618941564 and parameters: {'embed_model': 'text-embedding-3-large', 'splitter': 'alt_splitter', 'max_embed_length': 500, 'embed_index_headers': True, 'include_prev_next_paragraphs': 2, 'max_include_length': 750, 'index': 'chromadb', 'retriever_threshold': 0.1, 'retriever_k': 35, 'rerank': True, 'rerank_threshold': 0.4, 'rerank_k': 18}. Best is trial 8 with value: 0.4970842285387165.\n"
     ]
    },
    {
     "name": "stdout",
     "output_type": "stream",
     "text": [
      "Nodes inserted: 8121\n"
     ]
    },
    {
     "name": "stderr",
     "output_type": "stream",
     "text": [
      "[I 2024-09-22 23:04:57,594] Trial 21 finished with value: 0.48749533174030985 and parameters: {'embed_model': 'text-embedding-3-large', 'splitter': 'alt_splitter', 'max_embed_length': 350, 'embed_index_headers': True, 'include_prev_next_paragraphs': 4, 'max_include_length': 750, 'index': 'chromadb', 'retriever_threshold': 0.05, 'retriever_k': 35, 'rerank': True, 'rerank_threshold': 0.26, 'rerank_k': 18}. Best is trial 8 with value: 0.4970842285387165.\n"
     ]
    },
    {
     "name": "stdout",
     "output_type": "stream",
     "text": [
      "Nodes inserted: 8121\n"
     ]
    },
    {
     "name": "stderr",
     "output_type": "stream",
     "text": [
      "[I 2024-09-22 23:11:27,926] Trial 22 finished with value: 0.48902254173323556 and parameters: {'embed_model': 'text-embedding-3-large', 'splitter': 'alt_splitter', 'max_embed_length': 350, 'embed_index_headers': True, 'include_prev_next_paragraphs': 4, 'max_include_length': 750, 'index': 'chromadb', 'retriever_threshold': 0.0, 'retriever_k': 35, 'rerank': True, 'rerank_threshold': 0.2, 'rerank_k': 18}. Best is trial 8 with value: 0.4970842285387165.\n"
     ]
    },
    {
     "name": "stdout",
     "output_type": "stream",
     "text": [
      "Nodes inserted: 8121\n"
     ]
    },
    {
     "name": "stderr",
     "output_type": "stream",
     "text": [
      "[I 2024-09-22 23:18:00,945] Trial 23 finished with value: 0.48793144859850035 and parameters: {'embed_model': 'text-embedding-3-large', 'splitter': 'alt_splitter', 'max_embed_length': 350, 'embed_index_headers': True, 'include_prev_next_paragraphs': 5, 'max_include_length': 750, 'index': 'chromadb', 'retriever_threshold': 0.05, 'retriever_k': 35, 'rerank': True, 'rerank_threshold': 0.30000000000000004, 'rerank_k': 18}. Best is trial 8 with value: 0.4970842285387165.\n"
     ]
    },
    {
     "name": "stdout",
     "output_type": "stream",
     "text": [
      "Nodes inserted: 8121\n"
     ]
    },
    {
     "name": "stderr",
     "output_type": "stream",
     "text": [
      "[I 2024-09-22 23:24:30,786] Trial 24 finished with value: 0.46911121971016556 and parameters: {'embed_model': 'text-embedding-3-large', 'splitter': 'alt_splitter', 'max_embed_length': 350, 'embed_index_headers': True, 'include_prev_next_paragraphs': 4, 'max_include_length': 700, 'index': 'chromadb', 'retriever_threshold': 0.1, 'retriever_k': 35, 'rerank': True, 'rerank_threshold': 0.34, 'rerank_k': 18}. Best is trial 8 with value: 0.4970842285387165.\n"
     ]
    },
    {
     "name": "stdout",
     "output_type": "stream",
     "text": [
      "Nodes inserted: 8121\n"
     ]
    },
    {
     "name": "stderr",
     "output_type": "stream",
     "text": [
      "[I 2024-09-22 23:31:02,550] Trial 25 finished with value: 0.49397063556674453 and parameters: {'embed_model': 'text-embedding-3-large', 'splitter': 'alt_splitter', 'max_embed_length': 400, 'embed_index_headers': True, 'include_prev_next_paragraphs': 3, 'max_include_length': 750, 'index': 'chromadb', 'retriever_threshold': 0.05, 'retriever_k': 35, 'rerank': True, 'rerank_threshold': 0.26, 'rerank_k': 18}. Best is trial 8 with value: 0.4970842285387165.\n"
     ]
    },
    {
     "name": "stdout",
     "output_type": "stream",
     "text": [
      "Nodes inserted: 8121\n"
     ]
    },
    {
     "name": "stderr",
     "output_type": "stream",
     "text": [
      "[I 2024-09-22 23:37:25,822] Trial 26 finished with value: 0.4752295382430559 and parameters: {'embed_model': 'text-embedding-3-large', 'splitter': 'alt_splitter', 'max_embed_length': 350, 'embed_index_headers': False, 'include_prev_next_paragraphs': 4, 'max_include_length': 800, 'index': 'chromadb', 'retriever_threshold': 0.15, 'retriever_k': 35, 'rerank': True, 'rerank_threshold': 0.24000000000000002, 'rerank_k': 18}. Best is trial 8 with value: 0.4970842285387165.\n"
     ]
    },
    {
     "name": "stdout",
     "output_type": "stream",
     "text": [
      "Nodes inserted: 8121\n"
     ]
    },
    {
     "name": "stderr",
     "output_type": "stream",
     "text": [
      "[I 2024-09-22 23:44:41,876] Trial 27 finished with value: 0.4875247470430031 and parameters: {'embed_model': 'text-embedding-3-large', 'splitter': 'alt_splitter', 'max_embed_length': 400, 'embed_index_headers': True, 'include_prev_next_paragraphs': 5, 'max_include_length': 700, 'index': 'chromadb', 'retriever_threshold': 0.0, 'retriever_k': 35, 'rerank': True, 'rerank_threshold': 0.36, 'rerank_k': 17}. Best is trial 8 with value: 0.4970842285387165.\n"
     ]
    },
    {
     "name": "stdout",
     "output_type": "stream",
     "text": [
      "Nodes inserted: 8121\n"
     ]
    },
    {
     "name": "stderr",
     "output_type": "stream",
     "text": [
      "[I 2024-09-22 23:51:04,430] Trial 28 finished with value: 0.4883457684331064 and parameters: {'embed_model': 'text-embedding-3-large', 'splitter': 'alt_splitter', 'max_embed_length': 350, 'embed_index_headers': False, 'include_prev_next_paragraphs': 3, 'max_include_length': 650, 'index': 'chromadb', 'retriever_threshold': 0.1, 'retriever_k': 35, 'rerank': True, 'rerank_threshold': 0.28, 'rerank_k': 18}. Best is trial 8 with value: 0.4970842285387165.\n"
     ]
    },
    {
     "name": "stdout",
     "output_type": "stream",
     "text": [
      "Nodes inserted: 8121\n"
     ]
    },
    {
     "name": "stderr",
     "output_type": "stream",
     "text": [
      "[I 2024-09-22 23:57:25,780] Trial 29 finished with value: 0.48265893435515955 and parameters: {'embed_model': 'text-embedding-3-large', 'splitter': 'alt_splitter', 'max_embed_length': 450, 'embed_index_headers': False, 'include_prev_next_paragraphs': 4, 'max_include_length': 750, 'index': 'chromadb', 'retriever_threshold': 0.15, 'retriever_k': 40, 'rerank': True, 'rerank_threshold': 0.32, 'rerank_k': 16}. Best is trial 8 with value: 0.4970842285387165.\n"
     ]
    },
    {
     "name": "stdout",
     "output_type": "stream",
     "text": [
      "Nodes inserted: 8121\n"
     ]
    },
    {
     "name": "stderr",
     "output_type": "stream",
     "text": [
      "[I 2024-09-23 00:04:42,792] Trial 30 finished with value: 0.4949135241313441 and parameters: {'embed_model': 'text-embedding-3-large', 'splitter': 'alt_splitter', 'max_embed_length': 400, 'embed_index_headers': True, 'include_prev_next_paragraphs': 3, 'max_include_length': 700, 'index': 'chromadb', 'retriever_threshold': 0.1, 'retriever_k': 35, 'rerank': True, 'rerank_threshold': 0.38, 'rerank_k': 18}. Best is trial 8 with value: 0.4970842285387165.\n"
     ]
    },
    {
     "name": "stdout",
     "output_type": "stream",
     "text": [
      "Nodes inserted: 8121\n"
     ]
    },
    {
     "name": "stderr",
     "output_type": "stream",
     "text": [
      "[I 2024-09-23 00:11:05,342] Trial 31 finished with value: 0.4824734723165406 and parameters: {'embed_model': 'text-embedding-3-large', 'splitter': 'alt_splitter', 'max_embed_length': 400, 'embed_index_headers': True, 'include_prev_next_paragraphs': 3, 'max_include_length': 700, 'index': 'chromadb', 'retriever_threshold': 0.1, 'retriever_k': 35, 'rerank': True, 'rerank_threshold': 0.38, 'rerank_k': 18}. Best is trial 8 with value: 0.4970842285387165.\n"
     ]
    },
    {
     "name": "stdout",
     "output_type": "stream",
     "text": [
      "Nodes inserted: 8121\n"
     ]
    },
    {
     "name": "stderr",
     "output_type": "stream",
     "text": [
      "[I 2024-09-23 00:17:30,229] Trial 32 finished with value: 0.48977798776359305 and parameters: {'embed_model': 'text-embedding-3-large', 'splitter': 'alt_splitter', 'max_embed_length': 350, 'embed_index_headers': True, 'include_prev_next_paragraphs': 3, 'max_include_length': 700, 'index': 'chromadb', 'retriever_threshold': 0.1, 'retriever_k': 35, 'rerank': True, 'rerank_threshold': 0.38, 'rerank_k': 18}. Best is trial 8 with value: 0.4970842285387165.\n"
     ]
    },
    {
     "name": "stdout",
     "output_type": "stream",
     "text": [
      "Nodes inserted: 8121\n"
     ]
    },
    {
     "name": "stderr",
     "output_type": "stream",
     "text": [
      "[I 2024-09-23 00:23:53,947] Trial 33 finished with value: 0.49708111159685503 and parameters: {'embed_model': 'text-embedding-3-large', 'splitter': 'alt_splitter', 'max_embed_length': 400, 'embed_index_headers': True, 'include_prev_next_paragraphs': 3, 'max_include_length': 750, 'index': 'chromadb', 'retriever_threshold': 0.05, 'retriever_k': 35, 'rerank': True, 'rerank_threshold': 0.30000000000000004, 'rerank_k': 18}. Best is trial 8 with value: 0.4970842285387165.\n"
     ]
    },
    {
     "name": "stdout",
     "output_type": "stream",
     "text": [
      "Nodes inserted: 8121\n"
     ]
    },
    {
     "name": "stderr",
     "output_type": "stream",
     "text": [
      "[I 2024-09-23 00:30:21,299] Trial 34 finished with value: 0.4863836407870651 and parameters: {'embed_model': 'text-embedding-3-large', 'splitter': 'alt_splitter', 'max_embed_length': 400, 'embed_index_headers': True, 'include_prev_next_paragraphs': 2, 'max_include_length': 800, 'index': 'chromadb', 'retriever_threshold': 0.15, 'retriever_k': 40, 'rerank': True, 'rerank_threshold': 0.30000000000000004, 'rerank_k': 17}. Best is trial 8 with value: 0.4970842285387165.\n"
     ]
    },
    {
     "name": "stdout",
     "output_type": "stream",
     "text": [
      "Nodes inserted: 8121\n"
     ]
    },
    {
     "name": "stderr",
     "output_type": "stream",
     "text": [
      "[I 2024-09-23 00:37:00,132] Trial 35 finished with value: 0.4567977501194488 and parameters: {'embed_model': 'text-embedding-3-large', 'splitter': 'alt_splitter', 'max_embed_length': 450, 'embed_index_headers': False, 'include_prev_next_paragraphs': 3, 'max_include_length': 750, 'index': 'chromadb', 'retriever_threshold': 0.1, 'retriever_k': 35, 'rerank': True, 'rerank_threshold': 0.36, 'rerank_k': 17}. Best is trial 8 with value: 0.4970842285387165.\n"
     ]
    },
    {
     "name": "stdout",
     "output_type": "stream",
     "text": [
      "Nodes inserted: 8121\n"
     ]
    },
    {
     "name": "stderr",
     "output_type": "stream",
     "text": [
      "[I 2024-09-23 00:43:10,091] Trial 36 finished with value: 0.4795926693419911 and parameters: {'embed_model': 'text-embedding-3-large', 'splitter': 'alt_splitter', 'max_embed_length': 400, 'embed_index_headers': False, 'include_prev_next_paragraphs': 3, 'max_include_length': 700, 'index': 'chromadb', 'retriever_threshold': 0.15, 'retriever_k': 40, 'rerank': True, 'rerank_threshold': 0.34, 'rerank_k': 18}. Best is trial 8 with value: 0.4970842285387165.\n"
     ]
    },
    {
     "name": "stdout",
     "output_type": "stream",
     "text": [
      "Nodes inserted: 8121\n"
     ]
    },
    {
     "name": "stderr",
     "output_type": "stream",
     "text": [
      "[I 2024-09-23 00:49:25,805] Trial 37 finished with value: 0.4830374228797817 and parameters: {'embed_model': 'text-embedding-3-large', 'splitter': 'alt_splitter', 'max_embed_length': 500, 'embed_index_headers': True, 'include_prev_next_paragraphs': 3, 'max_include_length': 750, 'index': 'chromadb', 'retriever_threshold': 0.05, 'retriever_k': 35, 'rerank': True, 'rerank_threshold': 0.30000000000000004, 'rerank_k': 17}. Best is trial 8 with value: 0.4970842285387165.\n"
     ]
    },
    {
     "name": "stdout",
     "output_type": "stream",
     "text": [
      "Nodes inserted: 8121\n"
     ]
    },
    {
     "name": "stderr",
     "output_type": "stream",
     "text": [
      "[I 2024-09-23 00:55:55,568] Trial 38 finished with value: 0.48094396381513727 and parameters: {'embed_model': 'text-embedding-3-large', 'splitter': 'alt_splitter', 'max_embed_length': 450, 'embed_index_headers': False, 'include_prev_next_paragraphs': 2, 'max_include_length': 800, 'index': 'chromadb', 'retriever_threshold': 0.1, 'retriever_k': 35, 'rerank': True, 'rerank_threshold': 0.34, 'rerank_k': 18}. Best is trial 8 with value: 0.4970842285387165.\n"
     ]
    },
    {
     "name": "stdout",
     "output_type": "stream",
     "text": [
      "Nodes inserted: 8121\n"
     ]
    },
    {
     "name": "stderr",
     "output_type": "stream",
     "text": [
      "[I 2024-09-23 01:02:38,719] Trial 39 finished with value: 0.4831452540022909 and parameters: {'embed_model': 'text-embedding-3-large', 'splitter': 'alt_splitter', 'max_embed_length': 400, 'embed_index_headers': True, 'include_prev_next_paragraphs': 2, 'max_include_length': 650, 'index': 'chromadb', 'retriever_threshold': 0.05, 'retriever_k': 40, 'rerank': True, 'rerank_threshold': 0.32, 'rerank_k': 18}. Best is trial 8 with value: 0.4970842285387165.\n"
     ]
    },
    {
     "name": "stdout",
     "output_type": "stream",
     "text": [
      "Nodes inserted: 8121\n"
     ]
    },
    {
     "name": "stderr",
     "output_type": "stream",
     "text": [
      "[I 2024-09-23 01:08:57,180] Trial 40 finished with value: 0.4832239294746635 and parameters: {'embed_model': 'text-embedding-3-large', 'splitter': 'alt_splitter', 'max_embed_length': 450, 'embed_index_headers': False, 'include_prev_next_paragraphs': 3, 'max_include_length': 750, 'index': 'chromadb', 'retriever_threshold': 0.15, 'retriever_k': 35, 'rerank': True, 'rerank_threshold': 0.28, 'rerank_k': 17}. Best is trial 8 with value: 0.4970842285387165.\n"
     ]
    },
    {
     "name": "stdout",
     "output_type": "stream",
     "text": [
      "Nodes inserted: 8121\n"
     ]
    },
    {
     "name": "stderr",
     "output_type": "stream",
     "text": [
      "[I 2024-09-23 01:15:31,426] Trial 41 finished with value: 0.4841005727058916 and parameters: {'embed_model': 'text-embedding-3-large', 'splitter': 'alt_splitter', 'max_embed_length': 350, 'embed_index_headers': True, 'include_prev_next_paragraphs': 4, 'max_include_length': 750, 'index': 'chromadb', 'retriever_threshold': 0.05, 'retriever_k': 35, 'rerank': True, 'rerank_threshold': 0.24000000000000002, 'rerank_k': 18}. Best is trial 8 with value: 0.4970842285387165.\n"
     ]
    },
    {
     "name": "stdout",
     "output_type": "stream",
     "text": [
      "Nodes inserted: 8121\n"
     ]
    },
    {
     "name": "stderr",
     "output_type": "stream",
     "text": [
      "[I 2024-09-23 01:22:49,225] Trial 42 finished with value: 0.48060035627924136 and parameters: {'embed_model': 'text-embedding-3-large', 'splitter': 'alt_splitter', 'max_embed_length': 400, 'embed_index_headers': True, 'include_prev_next_paragraphs': 4, 'max_include_length': 750, 'index': 'chromadb', 'retriever_threshold': 0.05, 'retriever_k': 35, 'rerank': True, 'rerank_threshold': 0.22, 'rerank_k': 18}. Best is trial 8 with value: 0.4970842285387165.\n"
     ]
    },
    {
     "name": "stdout",
     "output_type": "stream",
     "text": [
      "Nodes inserted: 8121\n"
     ]
    },
    {
     "name": "stderr",
     "output_type": "stream",
     "text": [
      "[I 2024-09-23 01:29:12,992] Trial 43 finished with value: 0.49930268108086534 and parameters: {'embed_model': 'text-embedding-3-large', 'splitter': 'alt_splitter', 'max_embed_length': 350, 'embed_index_headers': True, 'include_prev_next_paragraphs': 3, 'max_include_length': 750, 'index': 'chromadb', 'retriever_threshold': 0.05, 'retriever_k': 35, 'rerank': True, 'rerank_threshold': 0.22, 'rerank_k': 18}. Best is trial 43 with value: 0.49930268108086534.\n"
     ]
    },
    {
     "name": "stdout",
     "output_type": "stream",
     "text": [
      "Nodes inserted: 8121\n"
     ]
    },
    {
     "name": "stderr",
     "output_type": "stream",
     "text": [
      "[I 2024-09-23 01:35:39,522] Trial 44 finished with value: 0.4825663761509082 and parameters: {'embed_model': 'text-embedding-3-large', 'splitter': 'alt_splitter', 'max_embed_length': 400, 'embed_index_headers': True, 'include_prev_next_paragraphs': 3, 'max_include_length': 750, 'index': 'chromadb', 'retriever_threshold': 0.0, 'retriever_k': 35, 'rerank': True, 'rerank_threshold': 0.38, 'rerank_k': 18}. Best is trial 43 with value: 0.49930268108086534.\n"
     ]
    },
    {
     "name": "stdout",
     "output_type": "stream",
     "text": [
      "Nodes inserted: 8121\n"
     ]
    },
    {
     "name": "stderr",
     "output_type": "stream",
     "text": [
      "[I 2024-09-23 01:42:11,047] Trial 45 finished with value: 0.48569753028410867 and parameters: {'embed_model': 'text-embedding-3-large', 'splitter': 'alt_splitter', 'max_embed_length': 350, 'embed_index_headers': True, 'include_prev_next_paragraphs': 3, 'max_include_length': 700, 'index': 'chromadb', 'retriever_threshold': 0.05, 'retriever_k': 35, 'rerank': True, 'rerank_threshold': 0.22, 'rerank_k': 18}. Best is trial 43 with value: 0.49930268108086534.\n"
     ]
    },
    {
     "name": "stdout",
     "output_type": "stream",
     "text": [
      "Nodes inserted: 8121\n"
     ]
    },
    {
     "name": "stderr",
     "output_type": "stream",
     "text": [
      "[I 2024-09-23 01:49:31,776] Trial 46 finished with value: 0.47618545537260815 and parameters: {'embed_model': 'text-embedding-3-large', 'splitter': 'alt_splitter', 'max_embed_length': 500, 'embed_index_headers': True, 'include_prev_next_paragraphs': 3, 'max_include_length': 800, 'index': 'chromadb', 'retriever_threshold': 0.05, 'retriever_k': 35, 'rerank': True, 'rerank_threshold': 0.4, 'rerank_k': 18}. Best is trial 43 with value: 0.49930268108086534.\n"
     ]
    },
    {
     "name": "stdout",
     "output_type": "stream",
     "text": [
      "Nodes inserted: 8121\n"
     ]
    },
    {
     "name": "stderr",
     "output_type": "stream",
     "text": [
      "[I 2024-09-23 01:56:14,068] Trial 47 finished with value: 0.49368687935513883 and parameters: {'embed_model': 'text-embedding-3-large', 'splitter': 'alt_splitter', 'max_embed_length': 400, 'embed_index_headers': True, 'include_prev_next_paragraphs': 3, 'max_include_length': 750, 'index': 'chromadb', 'retriever_threshold': 0.1, 'retriever_k': 35, 'rerank': True, 'rerank_threshold': 0.38, 'rerank_k': 18}. Best is trial 43 with value: 0.49930268108086534.\n"
     ]
    },
    {
     "name": "stdout",
     "output_type": "stream",
     "text": [
      "Nodes inserted: 8121\n"
     ]
    },
    {
     "name": "stderr",
     "output_type": "stream",
     "text": [
      "[I 2024-09-23 02:02:42,798] Trial 48 finished with value: 0.4894625782339896 and parameters: {'embed_model': 'text-embedding-3-large', 'splitter': 'alt_splitter', 'max_embed_length': 350, 'embed_index_headers': True, 'include_prev_next_paragraphs': 2, 'max_include_length': 700, 'index': 'chromadb', 'retriever_threshold': 0.15, 'retriever_k': 35, 'rerank': True, 'rerank_threshold': 0.34, 'rerank_k': 17}. Best is trial 43 with value: 0.49930268108086534.\n"
     ]
    },
    {
     "name": "stdout",
     "output_type": "stream",
     "text": [
      "Nodes inserted: 8121\n"
     ]
    },
    {
     "name": "stderr",
     "output_type": "stream",
     "text": [
      "[I 2024-09-23 02:10:13,017] Trial 49 finished with value: 0.4740213693502888 and parameters: {'embed_model': 'text-embedding-3-large', 'splitter': 'alt_splitter', 'max_embed_length': 400, 'embed_index_headers': False, 'include_prev_next_paragraphs': 3, 'max_include_length': 700, 'index': 'chromadb', 'retriever_threshold': 0.05, 'retriever_k': 35, 'rerank': True, 'rerank_threshold': 0.36, 'rerank_k': 18}. Best is trial 43 with value: 0.49930268108086534.\n"
     ]
    },
    {
     "name": "stdout",
     "output_type": "stream",
     "text": [
      "Nodes inserted: 8121\n"
     ]
    },
    {
     "name": "stderr",
     "output_type": "stream",
     "text": [
      "[I 2024-09-23 02:16:47,004] Trial 50 finished with value: 0.4934577019145578 and parameters: {'embed_model': 'text-embedding-3-large', 'splitter': 'alt_splitter', 'max_embed_length': 350, 'embed_index_headers': True, 'include_prev_next_paragraphs': 3, 'max_include_length': 800, 'index': 'chromadb', 'retriever_threshold': 0.15, 'retriever_k': 35, 'rerank': True, 'rerank_threshold': 0.28, 'rerank_k': 18}. Best is trial 43 with value: 0.49930268108086534.\n"
     ]
    },
    {
     "name": "stdout",
     "output_type": "stream",
     "text": [
      "Nodes inserted: 8121\n"
     ]
    },
    {
     "name": "stderr",
     "output_type": "stream",
     "text": [
      "[I 2024-09-23 02:23:15,519] Trial 51 finished with value: 0.4909254012036201 and parameters: {'embed_model': 'text-embedding-3-large', 'splitter': 'alt_splitter', 'max_embed_length': 350, 'embed_index_headers': True, 'include_prev_next_paragraphs': 4, 'max_include_length': 750, 'index': 'chromadb', 'retriever_threshold': 0.05, 'retriever_k': 35, 'rerank': True, 'rerank_threshold': 0.2, 'rerank_k': 18}. Best is trial 43 with value: 0.49930268108086534.\n"
     ]
    },
    {
     "name": "stdout",
     "output_type": "stream",
     "text": [
      "Nodes inserted: 8121\n"
     ]
    },
    {
     "name": "stderr",
     "output_type": "stream",
     "text": [
      "[I 2024-09-23 02:29:44,856] Trial 52 finished with value: 0.4766031691207508 and parameters: {'embed_model': 'text-embedding-3-large', 'splitter': 'alt_splitter', 'max_embed_length': 350, 'embed_index_headers': True, 'include_prev_next_paragraphs': 4, 'max_include_length': 750, 'index': 'chromadb', 'retriever_threshold': 0.05, 'retriever_k': 35, 'rerank': True, 'rerank_threshold': 0.2, 'rerank_k': 18}. Best is trial 43 with value: 0.49930268108086534.\n"
     ]
    },
    {
     "name": "stdout",
     "output_type": "stream",
     "text": [
      "Nodes inserted: 8121\n"
     ]
    },
    {
     "name": "stderr",
     "output_type": "stream",
     "text": [
      "[I 2024-09-23 02:37:17,592] Trial 53 finished with value: 0.48960775912852583 and parameters: {'embed_model': 'text-embedding-3-large', 'splitter': 'alt_splitter', 'max_embed_length': 350, 'embed_index_headers': True, 'include_prev_next_paragraphs': 4, 'max_include_length': 750, 'index': 'chromadb', 'retriever_threshold': 0.0, 'retriever_k': 35, 'rerank': True, 'rerank_threshold': 0.22, 'rerank_k': 18}. Best is trial 43 with value: 0.49930268108086534.\n"
     ]
    },
    {
     "name": "stdout",
     "output_type": "stream",
     "text": [
      "Nodes inserted: 8121\n"
     ]
    },
    {
     "name": "stderr",
     "output_type": "stream",
     "text": [
      "[I 2024-09-23 02:43:33,339] Trial 54 finished with value: 0.4972975564282593 and parameters: {'embed_model': 'text-embedding-3-large', 'splitter': 'alt_splitter', 'max_embed_length': 400, 'embed_index_headers': True, 'include_prev_next_paragraphs': 3, 'max_include_length': 750, 'index': 'chromadb', 'retriever_threshold': 0.05, 'retriever_k': 35, 'rerank': True, 'rerank_threshold': 0.24000000000000002, 'rerank_k': 18}. Best is trial 43 with value: 0.49930268108086534.\n"
     ]
    },
    {
     "name": "stdout",
     "output_type": "stream",
     "text": [
      "Nodes inserted: 8121\n"
     ]
    },
    {
     "name": "stderr",
     "output_type": "stream",
     "text": [
      "[I 2024-09-23 02:50:57,694] Trial 55 finished with value: 0.4865133305702141 and parameters: {'embed_model': 'text-embedding-3-large', 'splitter': 'alt_splitter', 'max_embed_length': 400, 'embed_index_headers': True, 'include_prev_next_paragraphs': 3, 'max_include_length': 750, 'index': 'chromadb', 'retriever_threshold': 0.05, 'retriever_k': 35, 'rerank': True, 'rerank_threshold': 0.24000000000000002, 'rerank_k': 18}. Best is trial 43 with value: 0.49930268108086534.\n"
     ]
    },
    {
     "name": "stdout",
     "output_type": "stream",
     "text": [
      "Nodes inserted: 8121\n"
     ]
    },
    {
     "name": "stderr",
     "output_type": "stream",
     "text": [
      "[I 2024-09-23 02:58:19,957] Trial 56 finished with value: 0.47529074678644767 and parameters: {'embed_model': 'text-embedding-3-large', 'splitter': 'alt_splitter', 'max_embed_length': 400, 'embed_index_headers': True, 'include_prev_next_paragraphs': 3, 'max_include_length': 700, 'index': 'chromadb', 'retriever_threshold': 0.05, 'retriever_k': 35, 'rerank': True, 'rerank_threshold': 0.26, 'rerank_k': 18}. Best is trial 43 with value: 0.49930268108086534.\n"
     ]
    },
    {
     "name": "stdout",
     "output_type": "stream",
     "text": [
      "Nodes inserted: 8121\n"
     ]
    },
    {
     "name": "stderr",
     "output_type": "stream",
     "text": [
      "[I 2024-09-23 03:04:35,040] Trial 57 finished with value: 0.4949838105133312 and parameters: {'embed_model': 'text-embedding-3-large', 'splitter': 'alt_splitter', 'max_embed_length': 400, 'embed_index_headers': True, 'include_prev_next_paragraphs': 3, 'max_include_length': 750, 'index': 'chromadb', 'retriever_threshold': 0.1, 'retriever_k': 35, 'rerank': True, 'rerank_threshold': 0.32, 'rerank_k': 18}. Best is trial 43 with value: 0.49930268108086534.\n"
     ]
    },
    {
     "name": "stdout",
     "output_type": "stream",
     "text": [
      "Nodes inserted: 8121\n"
     ]
    },
    {
     "name": "stderr",
     "output_type": "stream",
     "text": [
      "[I 2024-09-23 03:10:55,487] Trial 58 finished with value: 0.4976200642284352 and parameters: {'embed_model': 'text-embedding-3-large', 'splitter': 'alt_splitter', 'max_embed_length': 400, 'embed_index_headers': False, 'include_prev_next_paragraphs': 3, 'max_include_length': 750, 'index': 'chromadb', 'retriever_threshold': 0.1, 'retriever_k': 35, 'rerank': True, 'rerank_threshold': 0.22, 'rerank_k': 18}. Best is trial 43 with value: 0.49930268108086534.\n"
     ]
    },
    {
     "name": "stdout",
     "output_type": "stream",
     "text": [
      "Nodes inserted: 8121\n"
     ]
    },
    {
     "name": "stderr",
     "output_type": "stream",
     "text": [
      "[I 2024-09-23 03:17:14,649] Trial 59 finished with value: 0.5000428421266726 and parameters: {'embed_model': 'text-embedding-3-large', 'splitter': 'alt_splitter', 'max_embed_length': 450, 'embed_index_headers': False, 'include_prev_next_paragraphs': 3, 'max_include_length': 750, 'index': 'chromadb', 'retriever_threshold': 0.1, 'retriever_k': 35, 'rerank': True, 'rerank_threshold': 0.22, 'rerank_k': 18}. Best is trial 59 with value: 0.5000428421266726.\n"
     ]
    },
    {
     "name": "stdout",
     "output_type": "stream",
     "text": [
      "Nodes inserted: 8121\n"
     ]
    },
    {
     "name": "stderr",
     "output_type": "stream",
     "text": [
      "[I 2024-09-23 03:23:49,262] Trial 60 finished with value: 0.4833553233182071 and parameters: {'embed_model': 'text-embedding-3-large', 'splitter': 'alt_splitter', 'max_embed_length': 500, 'embed_index_headers': False, 'include_prev_next_paragraphs': 2, 'max_include_length': 750, 'index': 'chromadb', 'retriever_threshold': 0.1, 'retriever_k': 35, 'rerank': True, 'rerank_threshold': 0.22, 'rerank_k': 18}. Best is trial 59 with value: 0.5000428421266726.\n"
     ]
    },
    {
     "name": "stdout",
     "output_type": "stream",
     "text": [
      "Nodes inserted: 8121\n"
     ]
    },
    {
     "name": "stderr",
     "output_type": "stream",
     "text": [
      "[I 2024-09-23 03:30:09,523] Trial 61 finished with value: 0.47604885924765517 and parameters: {'embed_model': 'text-embedding-3-large', 'splitter': 'alt_splitter', 'max_embed_length': 450, 'embed_index_headers': False, 'include_prev_next_paragraphs': 3, 'max_include_length': 750, 'index': 'chromadb', 'retriever_threshold': 0.1, 'retriever_k': 35, 'rerank': True, 'rerank_threshold': 0.22, 'rerank_k': 18}. Best is trial 59 with value: 0.5000428421266726.\n"
     ]
    },
    {
     "name": "stdout",
     "output_type": "stream",
     "text": [
      "Nodes inserted: 8121\n"
     ]
    },
    {
     "name": "stderr",
     "output_type": "stream",
     "text": [
      "[I 2024-09-23 03:36:45,234] Trial 62 finished with value: 0.485140966886216 and parameters: {'embed_model': 'text-embedding-3-large', 'splitter': 'alt_splitter', 'max_embed_length': 450, 'embed_index_headers': False, 'include_prev_next_paragraphs': 3, 'max_include_length': 750, 'index': 'chromadb', 'retriever_threshold': 0.1, 'retriever_k': 35, 'rerank': True, 'rerank_threshold': 0.24000000000000002, 'rerank_k': 18}. Best is trial 59 with value: 0.5000428421266726.\n"
     ]
    },
    {
     "name": "stdout",
     "output_type": "stream",
     "text": [
      "Nodes inserted: 8121\n"
     ]
    },
    {
     "name": "stderr",
     "output_type": "stream",
     "text": [
      "[I 2024-09-23 03:44:09,059] Trial 63 finished with value: 0.4897667137588798 and parameters: {'embed_model': 'text-embedding-3-large', 'splitter': 'alt_splitter', 'max_embed_length': 450, 'embed_index_headers': False, 'include_prev_next_paragraphs': 3, 'max_include_length': 750, 'index': 'chromadb', 'retriever_threshold': 0.1, 'retriever_k': 35, 'rerank': True, 'rerank_threshold': 0.22, 'rerank_k': 18}. Best is trial 59 with value: 0.5000428421266726.\n"
     ]
    },
    {
     "name": "stdout",
     "output_type": "stream",
     "text": [
      "Nodes inserted: 8121\n"
     ]
    },
    {
     "name": "stderr",
     "output_type": "stream",
     "text": [
      "[I 2024-09-23 03:50:45,400] Trial 64 finished with value: 0.4859459020783183 and parameters: {'embed_model': 'text-embedding-3-large', 'splitter': 'alt_splitter', 'max_embed_length': 400, 'embed_index_headers': False, 'include_prev_next_paragraphs': 3, 'max_include_length': 750, 'index': 'chromadb', 'retriever_threshold': 0.1, 'retriever_k': 35, 'rerank': True, 'rerank_threshold': 0.2, 'rerank_k': 16}. Best is trial 59 with value: 0.5000428421266726.\n"
     ]
    },
    {
     "name": "stdout",
     "output_type": "stream",
     "text": [
      "Nodes inserted: 8121\n"
     ]
    },
    {
     "name": "stderr",
     "output_type": "stream",
     "text": [
      "[I 2024-09-23 03:57:10,259] Trial 65 finished with value: 0.4860414058643656 and parameters: {'embed_model': 'text-embedding-3-large', 'splitter': 'alt_splitter', 'max_embed_length': 400, 'embed_index_headers': False, 'include_prev_next_paragraphs': 3, 'max_include_length': 750, 'index': 'chromadb', 'retriever_threshold': 0.05, 'retriever_k': 35, 'rerank': True, 'rerank_threshold': 0.24000000000000002, 'rerank_k': 18}. Best is trial 59 with value: 0.5000428421266726.\n"
     ]
    },
    {
     "name": "stdout",
     "output_type": "stream",
     "text": [
      "Nodes inserted: 8121\n"
     ]
    },
    {
     "name": "stderr",
     "output_type": "stream",
     "text": [
      "[I 2024-09-23 04:03:35,125] Trial 66 finished with value: 0.4961294901960954 and parameters: {'embed_model': 'text-embedding-3-large', 'splitter': 'alt_splitter', 'max_embed_length': 500, 'embed_index_headers': False, 'include_prev_next_paragraphs': 3, 'max_include_length': 750, 'index': 'chromadb', 'retriever_threshold': 0.1, 'retriever_k': 35, 'rerank': True, 'rerank_threshold': 0.26, 'rerank_k': 18}. Best is trial 59 with value: 0.5000428421266726.\n"
     ]
    },
    {
     "name": "stdout",
     "output_type": "stream",
     "text": [
      "Nodes inserted: 8121\n"
     ]
    },
    {
     "name": "stderr",
     "output_type": "stream",
     "text": [
      "[I 2024-09-23 04:10:09,706] Trial 67 finished with value: 0.4913762322706191 and parameters: {'embed_model': 'text-embedding-3-large', 'splitter': 'alt_splitter', 'max_embed_length': 500, 'embed_index_headers': False, 'include_prev_next_paragraphs': 3, 'max_include_length': 750, 'index': 'chromadb', 'retriever_threshold': 0.05, 'retriever_k': 35, 'rerank': True, 'rerank_threshold': 0.26, 'rerank_k': 18}. Best is trial 59 with value: 0.5000428421266726.\n"
     ]
    },
    {
     "name": "stdout",
     "output_type": "stream",
     "text": [
      "Nodes inserted: 8121\n"
     ]
    },
    {
     "name": "stderr",
     "output_type": "stream",
     "text": [
      "[I 2024-09-23 04:16:38,302] Trial 68 finished with value: 0.48257679564400646 and parameters: {'embed_model': 'text-embedding-3-large', 'splitter': 'alt_splitter', 'max_embed_length': 500, 'embed_index_headers': False, 'include_prev_next_paragraphs': 3, 'max_include_length': 800, 'index': 'chromadb', 'retriever_threshold': 0.1, 'retriever_k': 35, 'rerank': True, 'rerank_threshold': 0.24000000000000002, 'rerank_k': 18}. Best is trial 59 with value: 0.5000428421266726.\n"
     ]
    },
    {
     "name": "stdout",
     "output_type": "stream",
     "text": [
      "Nodes inserted: 8121\n"
     ]
    },
    {
     "name": "stderr",
     "output_type": "stream",
     "text": [
      "[I 2024-09-23 04:23:06,989] Trial 69 finished with value: 0.4893680458995396 and parameters: {'embed_model': 'text-embedding-3-large', 'splitter': 'alt_splitter', 'max_embed_length': 500, 'embed_index_headers': False, 'include_prev_next_paragraphs': 3, 'max_include_length': 750, 'index': 'chromadb', 'retriever_threshold': 0.05, 'retriever_k': 35, 'rerank': True, 'rerank_threshold': 0.22, 'rerank_k': 18}. Best is trial 59 with value: 0.5000428421266726.\n"
     ]
    },
    {
     "name": "stdout",
     "output_type": "stream",
     "text": [
      "Nodes inserted: 8121\n"
     ]
    },
    {
     "name": "stderr",
     "output_type": "stream",
     "text": [
      "[I 2024-09-23 04:29:36,270] Trial 70 finished with value: 0.4782290516034558 and parameters: {'embed_model': 'text-embedding-3-large', 'splitter': 'alt_splitter', 'max_embed_length': 500, 'embed_index_headers': False, 'include_prev_next_paragraphs': 3, 'max_include_length': 750, 'index': 'chromadb', 'retriever_threshold': 0.0, 'retriever_k': 35, 'rerank': True, 'rerank_threshold': 0.26, 'rerank_k': 18}. Best is trial 59 with value: 0.5000428421266726.\n"
     ]
    },
    {
     "name": "stdout",
     "output_type": "stream",
     "text": [
      "Nodes inserted: 8121\n"
     ]
    },
    {
     "name": "stderr",
     "output_type": "stream",
     "text": [
      "[I 2024-09-23 04:36:05,893] Trial 71 finished with value: 0.4849036256256508 and parameters: {'embed_model': 'text-embedding-3-large', 'splitter': 'alt_splitter', 'max_embed_length': 400, 'embed_index_headers': False, 'include_prev_next_paragraphs': 3, 'max_include_length': 750, 'index': 'chromadb', 'retriever_threshold': 0.1, 'retriever_k': 35, 'rerank': True, 'rerank_threshold': 0.32, 'rerank_k': 18}. Best is trial 59 with value: 0.5000428421266726.\n"
     ]
    },
    {
     "name": "stdout",
     "output_type": "stream",
     "text": [
      "Nodes inserted: 8121\n"
     ]
    },
    {
     "name": "stderr",
     "output_type": "stream",
     "text": [
      "[I 2024-09-23 04:43:32,938] Trial 72 finished with value: 0.4848342783406729 and parameters: {'embed_model': 'text-embedding-3-large', 'splitter': 'alt_splitter', 'max_embed_length': 450, 'embed_index_headers': False, 'include_prev_next_paragraphs': 3, 'max_include_length': 750, 'index': 'chromadb', 'retriever_threshold': 0.1, 'retriever_k': 35, 'rerank': True, 'rerank_threshold': 0.30000000000000004, 'rerank_k': 18}. Best is trial 59 with value: 0.5000428421266726.\n"
     ]
    },
    {
     "name": "stdout",
     "output_type": "stream",
     "text": [
      "Nodes inserted: 8121\n"
     ]
    },
    {
     "name": "stderr",
     "output_type": "stream",
     "text": [
      "[I 2024-09-23 04:49:57,098] Trial 73 finished with value: 0.478532253519685 and parameters: {'embed_model': 'text-embedding-3-large', 'splitter': 'alt_splitter', 'max_embed_length': 500, 'embed_index_headers': False, 'include_prev_next_paragraphs': 3, 'max_include_length': 750, 'index': 'chromadb', 'retriever_threshold': 0.1, 'retriever_k': 35, 'rerank': True, 'rerank_threshold': 0.24000000000000002, 'rerank_k': 18}. Best is trial 59 with value: 0.5000428421266726.\n"
     ]
    },
    {
     "name": "stdout",
     "output_type": "stream",
     "text": [
      "Nodes inserted: 8121\n"
     ]
    },
    {
     "name": "stderr",
     "output_type": "stream",
     "text": [
      "[I 2024-09-23 04:57:24,686] Trial 74 finished with value: 0.4824650564106764 and parameters: {'embed_model': 'text-embedding-3-large', 'splitter': 'alt_splitter', 'max_embed_length': 400, 'embed_index_headers': False, 'include_prev_next_paragraphs': 3, 'max_include_length': 750, 'index': 'chromadb', 'retriever_threshold': 0.1, 'retriever_k': 35, 'rerank': True, 'rerank_threshold': 0.32, 'rerank_k': 18}. Best is trial 59 with value: 0.5000428421266726.\n"
     ]
    },
    {
     "name": "stdout",
     "output_type": "stream",
     "text": [
      "Nodes inserted: 8121\n"
     ]
    },
    {
     "name": "stderr",
     "output_type": "stream",
     "text": [
      "[I 2024-09-23 05:03:56,432] Trial 75 finished with value: 0.49888419338657236 and parameters: {'embed_model': 'text-embedding-3-large', 'splitter': 'alt_splitter', 'max_embed_length': 400, 'embed_index_headers': False, 'include_prev_next_paragraphs': 3, 'max_include_length': 750, 'index': 'chromadb', 'retriever_threshold': 0.1, 'retriever_k': 35, 'rerank': True, 'rerank_threshold': 0.2, 'rerank_k': 18}. Best is trial 59 with value: 0.5000428421266726.\n"
     ]
    },
    {
     "name": "stdout",
     "output_type": "stream",
     "text": [
      "Nodes inserted: 8121\n"
     ]
    },
    {
     "name": "stderr",
     "output_type": "stream",
     "text": [
      "[I 2024-09-23 05:10:26,576] Trial 76 finished with value: 0.5087273728549077 and parameters: {'embed_model': 'text-embedding-3-large', 'splitter': 'alt_splitter', 'max_embed_length': 450, 'embed_index_headers': False, 'include_prev_next_paragraphs': 3, 'max_include_length': 750, 'index': 'chromadb', 'retriever_threshold': 0.05, 'retriever_k': 35, 'rerank': True, 'rerank_threshold': 0.2, 'rerank_k': 18}. Best is trial 76 with value: 0.5087273728549077.\n"
     ]
    },
    {
     "name": "stdout",
     "output_type": "stream",
     "text": [
      "Nodes inserted: 8121\n"
     ]
    },
    {
     "name": "stderr",
     "output_type": "stream",
     "text": [
      "[I 2024-09-23 05:17:47,911] Trial 77 finished with value: 0.4932718125722305 and parameters: {'embed_model': 'text-embedding-3-large', 'splitter': 'alt_splitter', 'max_embed_length': 450, 'embed_index_headers': False, 'include_prev_next_paragraphs': 3, 'max_include_length': 750, 'index': 'chromadb', 'retriever_threshold': 0.05, 'retriever_k': 35, 'rerank': True, 'rerank_threshold': 0.2, 'rerank_k': 18}. Best is trial 76 with value: 0.5087273728549077.\n"
     ]
    },
    {
     "name": "stdout",
     "output_type": "stream",
     "text": [
      "Nodes inserted: 8121\n"
     ]
    },
    {
     "name": "stderr",
     "output_type": "stream",
     "text": [
      "[I 2024-09-23 05:24:06,288] Trial 78 finished with value: 0.4856809606006671 and parameters: {'embed_model': 'text-embedding-3-large', 'splitter': 'alt_splitter', 'max_embed_length': 450, 'embed_index_headers': False, 'include_prev_next_paragraphs': 2, 'max_include_length': 750, 'index': 'chromadb', 'retriever_threshold': 0.05, 'retriever_k': 35, 'rerank': True, 'rerank_threshold': 0.2, 'rerank_k': 18}. Best is trial 76 with value: 0.5087273728549077.\n"
     ]
    },
    {
     "name": "stdout",
     "output_type": "stream",
     "text": [
      "Nodes inserted: 8121\n"
     ]
    },
    {
     "name": "stderr",
     "output_type": "stream",
     "text": [
      "[I 2024-09-23 05:30:33,813] Trial 79 finished with value: 0.46710535783756496 and parameters: {'embed_model': 'text-embedding-3-large', 'splitter': 'alt_splitter', 'max_embed_length': 450, 'embed_index_headers': False, 'include_prev_next_paragraphs': 3, 'max_include_length': 750, 'index': 'chromadb', 'retriever_threshold': 0.05, 'retriever_k': 40, 'rerank': True, 'rerank_threshold': 0.2, 'rerank_k': 17}. Best is trial 76 with value: 0.5087273728549077.\n"
     ]
    },
    {
     "name": "stdout",
     "output_type": "stream",
     "text": [
      "Nodes inserted: 8121\n"
     ]
    },
    {
     "name": "stderr",
     "output_type": "stream",
     "text": [
      "[I 2024-09-23 05:37:01,019] Trial 80 finished with value: 0.48974443596454176 and parameters: {'embed_model': 'text-embedding-3-large', 'splitter': 'alt_splitter', 'max_embed_length': 400, 'embed_index_headers': False, 'include_prev_next_paragraphs': 3, 'max_include_length': 750, 'index': 'chromadb', 'retriever_threshold': 0.05, 'retriever_k': 35, 'rerank': True, 'rerank_threshold': 0.22, 'rerank_k': 18}. Best is trial 76 with value: 0.5087273728549077.\n"
     ]
    },
    {
     "name": "stdout",
     "output_type": "stream",
     "text": [
      "Nodes inserted: 8121\n"
     ]
    },
    {
     "name": "stderr",
     "output_type": "stream",
     "text": [
      "[I 2024-09-23 05:43:36,561] Trial 81 finished with value: 0.4829282074143117 and parameters: {'embed_model': 'text-embedding-3-large', 'splitter': 'alt_splitter', 'max_embed_length': 500, 'embed_index_headers': False, 'include_prev_next_paragraphs': 3, 'max_include_length': 750, 'index': 'chromadb', 'retriever_threshold': 0.1, 'retriever_k': 35, 'rerank': True, 'rerank_threshold': 0.22, 'rerank_k': 18}. Best is trial 76 with value: 0.5087273728549077.\n"
     ]
    },
    {
     "name": "stdout",
     "output_type": "stream",
     "text": [
      "Nodes inserted: 8121\n"
     ]
    },
    {
     "name": "stderr",
     "output_type": "stream",
     "text": [
      "[I 2024-09-23 05:50:14,966] Trial 82 finished with value: 0.49310698622325555 and parameters: {'embed_model': 'text-embedding-3-large', 'splitter': 'alt_splitter', 'max_embed_length': 450, 'embed_index_headers': False, 'include_prev_next_paragraphs': 3, 'max_include_length': 750, 'index': 'chromadb', 'retriever_threshold': 0.05, 'retriever_k': 35, 'rerank': True, 'rerank_threshold': 0.2, 'rerank_k': 18}. Best is trial 76 with value: 0.5087273728549077.\n"
     ]
    },
    {
     "name": "stdout",
     "output_type": "stream",
     "text": [
      "Nodes inserted: 8121\n"
     ]
    },
    {
     "name": "stderr",
     "output_type": "stream",
     "text": [
      "[I 2024-09-23 05:56:40,431] Trial 83 finished with value: 0.5062338419459368 and parameters: {'embed_model': 'text-embedding-3-large', 'splitter': 'alt_splitter', 'max_embed_length': 400, 'embed_index_headers': False, 'include_prev_next_paragraphs': 3, 'max_include_length': 750, 'index': 'chromadb', 'retriever_threshold': 0.05, 'retriever_k': 35, 'rerank': True, 'rerank_threshold': 0.2, 'rerank_k': 18}. Best is trial 76 with value: 0.5087273728549077.\n"
     ]
    },
    {
     "name": "stdout",
     "output_type": "stream",
     "text": [
      "Nodes inserted: 8121\n"
     ]
    },
    {
     "name": "stderr",
     "output_type": "stream",
     "text": [
      "[I 2024-09-23 06:03:09,627] Trial 84 finished with value: 0.5093350790002985 and parameters: {'embed_model': 'text-embedding-3-large', 'splitter': 'alt_splitter', 'max_embed_length': 400, 'embed_index_headers': False, 'include_prev_next_paragraphs': 3, 'max_include_length': 750, 'index': 'chromadb', 'retriever_threshold': 0.05, 'retriever_k': 35, 'rerank': True, 'rerank_threshold': 0.2, 'rerank_k': 18}. Best is trial 84 with value: 0.5093350790002985.\n"
     ]
    },
    {
     "name": "stdout",
     "output_type": "stream",
     "text": [
      "Nodes inserted: 8121\n"
     ]
    },
    {
     "name": "stderr",
     "output_type": "stream",
     "text": [
      "[I 2024-09-23 06:10:22,675] Trial 85 finished with value: 0.5024019088316997 and parameters: {'embed_model': 'text-embedding-3-large', 'splitter': 'alt_splitter', 'max_embed_length': 400, 'embed_index_headers': False, 'include_prev_next_paragraphs': 3, 'max_include_length': 750, 'index': 'chromadb', 'retriever_threshold': 0.05, 'retriever_k': 35, 'rerank': True, 'rerank_threshold': 0.2, 'rerank_k': 18}. Best is trial 84 with value: 0.5093350790002985.\n"
     ]
    },
    {
     "name": "stdout",
     "output_type": "stream",
     "text": [
      "Nodes inserted: 8121\n"
     ]
    },
    {
     "name": "stderr",
     "output_type": "stream",
     "text": [
      "[I 2024-09-23 06:17:52,636] Trial 86 finished with value: 0.48678553045007245 and parameters: {'embed_model': 'text-embedding-3-large', 'splitter': 'alt_splitter', 'max_embed_length': 400, 'embed_index_headers': False, 'include_prev_next_paragraphs': 3, 'max_include_length': 750, 'index': 'chromadb', 'retriever_threshold': 0.05, 'retriever_k': 35, 'rerank': True, 'rerank_threshold': 0.2, 'rerank_k': 18}. Best is trial 84 with value: 0.5093350790002985.\n"
     ]
    },
    {
     "name": "stdout",
     "output_type": "stream",
     "text": [
      "Nodes inserted: 8121\n"
     ]
    },
    {
     "name": "stderr",
     "output_type": "stream",
     "text": [
      "[I 2024-09-23 06:25:10,726] Trial 87 finished with value: 0.49556953842654766 and parameters: {'embed_model': 'text-embedding-3-large', 'splitter': 'alt_splitter', 'max_embed_length': 400, 'embed_index_headers': False, 'include_prev_next_paragraphs': 3, 'max_include_length': 750, 'index': 'chromadb', 'retriever_threshold': 0.05, 'retriever_k': 35, 'rerank': True, 'rerank_threshold': 0.2, 'rerank_k': 18}. Best is trial 84 with value: 0.5093350790002985.\n"
     ]
    },
    {
     "name": "stdout",
     "output_type": "stream",
     "text": [
      "Nodes inserted: 8121\n"
     ]
    },
    {
     "name": "stderr",
     "output_type": "stream",
     "text": [
      "[I 2024-09-23 06:31:30,019] Trial 88 finished with value: 0.5054323139661752 and parameters: {'embed_model': 'text-embedding-3-large', 'splitter': 'alt_splitter', 'max_embed_length': 400, 'embed_index_headers': False, 'include_prev_next_paragraphs': 3, 'max_include_length': 800, 'index': 'chromadb', 'retriever_threshold': 0.05, 'retriever_k': 35, 'rerank': True, 'rerank_threshold': 0.2, 'rerank_k': 18}. Best is trial 84 with value: 0.5093350790002985.\n"
     ]
    },
    {
     "name": "stdout",
     "output_type": "stream",
     "text": [
      "Nodes inserted: 8121\n"
     ]
    },
    {
     "name": "stderr",
     "output_type": "stream",
     "text": [
      "[I 2024-09-23 06:38:02,222] Trial 89 finished with value: 0.484833412616551 and parameters: {'embed_model': 'text-embedding-3-large', 'splitter': 'alt_splitter', 'max_embed_length': 400, 'embed_index_headers': False, 'include_prev_next_paragraphs': 3, 'max_include_length': 800, 'index': 'chromadb', 'retriever_threshold': 0.05, 'retriever_k': 35, 'rerank': True, 'rerank_threshold': 0.2, 'rerank_k': 18}. Best is trial 84 with value: 0.5093350790002985.\n"
     ]
    },
    {
     "name": "stdout",
     "output_type": "stream",
     "text": [
      "Nodes inserted: 8121\n"
     ]
    },
    {
     "name": "stderr",
     "output_type": "stream",
     "text": [
      "[I 2024-09-23 06:44:43,350] Trial 90 finished with value: 0.496252791120977 and parameters: {'embed_model': 'text-embedding-3-large', 'splitter': 'alt_splitter', 'max_embed_length': 400, 'embed_index_headers': False, 'include_prev_next_paragraphs': 3, 'max_include_length': 800, 'index': 'chromadb', 'retriever_threshold': 0.05, 'retriever_k': 35, 'rerank': True, 'rerank_threshold': 0.22, 'rerank_k': 18}. Best is trial 84 with value: 0.5093350790002985.\n"
     ]
    },
    {
     "name": "stdout",
     "output_type": "stream",
     "text": [
      "Nodes inserted: 8121\n"
     ]
    },
    {
     "name": "stderr",
     "output_type": "stream",
     "text": [
      "[I 2024-09-23 06:51:12,185] Trial 91 finished with value: 0.49379404331409105 and parameters: {'embed_model': 'text-embedding-3-large', 'splitter': 'alt_splitter', 'max_embed_length': 400, 'embed_index_headers': False, 'include_prev_next_paragraphs': 3, 'max_include_length': 800, 'index': 'chromadb', 'retriever_threshold': 0.05, 'retriever_k': 35, 'rerank': True, 'rerank_threshold': 0.2, 'rerank_k': 18}. Best is trial 84 with value: 0.5093350790002985.\n"
     ]
    },
    {
     "name": "stdout",
     "output_type": "stream",
     "text": [
      "Nodes inserted: 8121\n"
     ]
    },
    {
     "name": "stderr",
     "output_type": "stream",
     "text": [
      "[I 2024-09-23 06:57:55,924] Trial 92 finished with value: 0.4859400178209294 and parameters: {'embed_model': 'text-embedding-3-large', 'splitter': 'alt_splitter', 'max_embed_length': 400, 'embed_index_headers': False, 'include_prev_next_paragraphs': 3, 'max_include_length': 750, 'index': 'chromadb', 'retriever_threshold': 0.05, 'retriever_k': 35, 'rerank': True, 'rerank_threshold': 0.22, 'rerank_k': 18}. Best is trial 84 with value: 0.5093350790002985.\n"
     ]
    },
    {
     "name": "stdout",
     "output_type": "stream",
     "text": [
      "Nodes inserted: 8121\n"
     ]
    },
    {
     "name": "stderr",
     "output_type": "stream",
     "text": [
      "[I 2024-09-23 07:04:27,100] Trial 93 finished with value: 0.48963915989238227 and parameters: {'embed_model': 'text-embedding-3-large', 'splitter': 'alt_splitter', 'max_embed_length': 400, 'embed_index_headers': False, 'include_prev_next_paragraphs': 3, 'max_include_length': 750, 'index': 'chromadb', 'retriever_threshold': 0.05, 'retriever_k': 35, 'rerank': True, 'rerank_threshold': 0.2, 'rerank_k': 18}. Best is trial 84 with value: 0.5093350790002985.\n"
     ]
    },
    {
     "name": "stdout",
     "output_type": "stream",
     "text": [
      "Nodes inserted: 8121\n"
     ]
    },
    {
     "name": "stderr",
     "output_type": "stream",
     "text": [
      "[I 2024-09-23 07:11:04,806] Trial 94 finished with value: 0.49114510245589776 and parameters: {'embed_model': 'text-embedding-3-large', 'splitter': 'alt_splitter', 'max_embed_length': 400, 'embed_index_headers': False, 'include_prev_next_paragraphs': 3, 'max_include_length': 750, 'index': 'chromadb', 'retriever_threshold': 0.05, 'retriever_k': 35, 'rerank': True, 'rerank_threshold': 0.2, 'rerank_k': 18}. Best is trial 84 with value: 0.5093350790002985.\n"
     ]
    },
    {
     "name": "stdout",
     "output_type": "stream",
     "text": [
      "Nodes inserted: 8121\n"
     ]
    },
    {
     "name": "stderr",
     "output_type": "stream",
     "text": [
      "[I 2024-09-23 07:17:36,018] Trial 95 finished with value: 0.4839495911368331 and parameters: {'embed_model': 'text-embedding-3-large', 'splitter': 'alt_splitter', 'max_embed_length': 400, 'embed_index_headers': False, 'include_prev_next_paragraphs': 3, 'max_include_length': 800, 'index': 'chromadb', 'retriever_threshold': 0.05, 'retriever_k': 35, 'rerank': True, 'rerank_threshold': 0.22, 'rerank_k': 18}. Best is trial 84 with value: 0.5093350790002985.\n",
      "[W 2024-09-23 07:19:48,811] Trial 96 failed with parameters: {'embed_model': 'text-embedding-3-large', 'splitter': 'alt_splitter', 'max_embed_length': 400, 'embed_index_headers': False, 'include_prev_next_paragraphs': 3, 'max_include_length': 750, 'index': 'chromadb', 'retriever_threshold': 0.05, 'retriever_k': 35, 'rerank': True, 'rerank_threshold': 0.2, 'rerank_k': 18} because of the following error: KeyboardInterrupt().\n",
      "Traceback (most recent call last):\n",
      "  File \"/home/dallan/pathway-indexer/.venv/lib/python3.12/site-packages/optuna/study/_optimize.py\", line 196, in _run_trial\n",
      "    value_or_values = func(trial)\n",
      "                      ^^^^^^^^^^^\n",
      "  File \"/tmp/ipykernel_3134778/4192339050.py\", line 22, in <lambda>\n",
      "    lambda trial: objective(\n",
      "                  ^^^^^^^^^^\n",
      "  File \"/tmp/ipykernel_3134778/2701876612.py\", line 154, in objective\n",
      "    index, nodes = run_pipeline(documents, splitter, embed_model, vector_store,\n",
      "                  ^^^^^^^^^^^^^^^^^^^^^^^^^^^^^^^^^^^^^^^^^^^^^^^^^^^^^^^^^^^^\n",
      "  File \"/tmp/ipykernel_3134778/2298896029.py\", line 13, in run_pipeline\n",
      "    nodes = pipeline.run(documents=documents, show_progress=False)\n",
      "            ^^^^^^^^^^^^^^^^^^^^^^^^^^^^^^^^^^^^^^^^^^^^^^^^^^^^^^\n",
      "  File \"/home/dallan/pathway-indexer/.venv/lib/python3.12/site-packages/llama_index/core/instrumentation/dispatcher.py\", line 260, in wrapper\n",
      "    result = func(*args, **kwargs)\n",
      "             ^^^^^^^^^^^^^^^^^^^^^\n",
      "  File \"/home/dallan/pathway-indexer/.venv/lib/python3.12/site-packages/llama_index/core/ingestion/pipeline.py\", line 542, in run\n",
      "    nodes = run_transformations(\n",
      "            ^^^^^^^^^^^^^^^^^^^^\n",
      "  File \"/home/dallan/pathway-indexer/.venv/lib/python3.12/site-packages/llama_index/core/ingestion/pipeline.py\", line 97, in run_transformations\n",
      "    nodes = transform(nodes, **kwargs)\n",
      "            ^^^^^^^^^^^^^^^^^^^^^^^^^^\n",
      "  File \"/home/dallan/pathway-indexer/.venv/lib/python3.12/site-packages/llama_index/core/instrumentation/dispatcher.py\", line 260, in wrapper\n",
      "    result = func(*args, **kwargs)\n",
      "             ^^^^^^^^^^^^^^^^^^^^^\n",
      "  File \"/home/dallan/pathway-indexer/.venv/lib/python3.12/site-packages/llama_index/core/base/embeddings/base.py\", line 440, in __call__\n",
      "    embeddings = self.get_text_embedding_batch(\n",
      "                 ^^^^^^^^^^^^^^^^^^^^^^^^^^^^^^\n",
      "  File \"/home/dallan/pathway-indexer/.venv/lib/python3.12/site-packages/llama_index/core/instrumentation/dispatcher.py\", line 260, in wrapper\n",
      "    result = func(*args, **kwargs)\n",
      "             ^^^^^^^^^^^^^^^^^^^^^\n",
      "  File \"/home/dallan/pathway-indexer/.venv/lib/python3.12/site-packages/llama_index/core/base/embeddings/base.py\", line 341, in get_text_embedding_batch\n",
      "    EmbeddingEndEvent(\n",
      "  File \"/home/dallan/pathway-indexer/.venv/lib/python3.12/site-packages/pydantic/v1/main.py\", line 339, in __init__\n",
      "    values, fields_set, validation_error = validate_model(__pydantic_self__.__class__, data)\n",
      "                                           ^^^^^^^^^^^^^^^^^^^^^^^^^^^^^^^^^^^^^^^^^^^^^^^^^\n",
      "  File \"/home/dallan/pathway-indexer/.venv/lib/python3.12/site-packages/pydantic/v1/main.py\", line 1074, in validate_model\n",
      "    v_, errors_ = field.validate(value, values, loc=field.alias, cls=cls_)\n",
      "                  ^^^^^^^^^^^^^^^^^^^^^^^^^^^^^^^^^^^^^^^^^^^^^^^^^^^^^^^^\n",
      "  File \"/home/dallan/pathway-indexer/.venv/lib/python3.12/site-packages/pydantic/v1/fields.py\", line 892, in validate\n",
      "    v, errors = self._validate_sequence_like(v, values, loc, cls)\n",
      "                ^^^^^^^^^^^^^^^^^^^^^^^^^^^^^^^^^^^^^^^^^^^^^^^^^\n",
      "  File \"/home/dallan/pathway-indexer/.venv/lib/python3.12/site-packages/pydantic/v1/fields.py\", line 925, in _validate_sequence_like\n",
      "    r, ee = self._validate_singleton(v_, values, v_loc, cls)\n",
      "            ^^^^^^^^^^^^^^^^^^^^^^^^^^^^^^^^^^^^^^^^^^^^^^^^\n",
      "  File \"/home/dallan/pathway-indexer/.venv/lib/python3.12/site-packages/pydantic/v1/fields.py\", line 1091, in _validate_singleton\n",
      "    value, error = field.validate(v, values, loc=loc, cls=cls)\n",
      "                   ^^^^^^^^^^^^^^^^^^^^^^^^^^^^^^^^^^^^^^^^^^^\n",
      "  File \"/home/dallan/pathway-indexer/.venv/lib/python3.12/site-packages/pydantic/v1/fields.py\", line 892, in validate\n",
      "    v, errors = self._validate_sequence_like(v, values, loc, cls)\n",
      "                ^^^^^^^^^^^^^^^^^^^^^^^^^^^^^^^^^^^^^^^^^^^^^^^^^\n",
      "  File \"/home/dallan/pathway-indexer/.venv/lib/python3.12/site-packages/pydantic/v1/fields.py\", line 925, in _validate_sequence_like\n",
      "    r, ee = self._validate_singleton(v_, values, v_loc, cls)\n",
      "            ^^^^^^^^^^^^^^^^^^^^^^^^^^^^^^^^^^^^^^^^^^^^^^^^\n",
      "  File \"/home/dallan/pathway-indexer/.venv/lib/python3.12/site-packages/pydantic/v1/fields.py\", line 1091, in _validate_singleton\n",
      "    value, error = field.validate(v, values, loc=loc, cls=cls)\n",
      "                   ^^^^^^^^^^^^^^^^^^^^^^^^^^^^^^^^^^^^^^^^^^^\n",
      "  File \"/home/dallan/pathway-indexer/.venv/lib/python3.12/site-packages/pydantic/v1/fields.py\", line 881, in validate\n",
      "    v, errors = self._validate_singleton(v, values, loc, cls)\n",
      "                ^^^^^^^^^^^^^^^^^^^^^^^^^^^^^^^^^^^^^^^^^^^^^\n",
      "  File \"/home/dallan/pathway-indexer/.venv/lib/python3.12/site-packages/pydantic/v1/fields.py\", line 1098, in _validate_singleton\n",
      "    return self._apply_validators(v, values, loc, cls, self.validators)\n",
      "           ^^^^^^^^^^^^^^^^^^^^^^^^^^^^^^^^^^^^^^^^^^^^^^^^^^^^^^^^^^^^\n",
      "  File \"/home/dallan/pathway-indexer/.venv/lib/python3.12/site-packages/pydantic/v1/fields.py\", line 1154, in _apply_validators\n",
      "    v = validator(cls, v, values, self, self.model_config)\n",
      "    ^\n",
      "KeyboardInterrupt\n",
      "[W 2024-09-23 07:19:48,815] Trial 96 failed with value None.\n"
     ]
    },
    {
     "ename": "KeyboardInterrupt",
     "evalue": "",
     "output_type": "error",
     "traceback": [
      "\u001b[0;31m---------------------------------------------------------------------------\u001b[0m",
      "\u001b[0;31mKeyboardInterrupt\u001b[0m                         Traceback (most recent call last)",
      "Cell \u001b[0;32mIn[25], line 21\u001b[0m\n\u001b[1;32m      8\u001b[0m study \u001b[38;5;241m=\u001b[39m optuna\u001b[38;5;241m.\u001b[39mcreate_study(\n\u001b[1;32m      9\u001b[0m     study_name\u001b[38;5;241m=\u001b[39mstudy_name,\n\u001b[1;32m     10\u001b[0m     storage\u001b[38;5;241m=\u001b[39mstorage_name,\n\u001b[1;32m     11\u001b[0m     load_if_exists\u001b[38;5;241m=\u001b[39m\u001b[38;5;28;01mTrue\u001b[39;00m,\n\u001b[1;32m     12\u001b[0m     direction\u001b[38;5;241m=\u001b[39m\u001b[38;5;124m\"\u001b[39m\u001b[38;5;124mmaximize\u001b[39m\u001b[38;5;124m\"\u001b[39m,\n\u001b[1;32m     13\u001b[0m )\n\u001b[1;32m     14\u001b[0m \u001b[38;5;66;03m# study.optimize(\u001b[39;00m\n\u001b[1;32m     15\u001b[0m \u001b[38;5;66;03m#     get_objective_fn(\u001b[39;00m\n\u001b[1;32m     16\u001b[0m \u001b[38;5;66;03m#         documents=documents, ngram_size=ngram_size, question_ngrams=question_ngrams\u001b[39;00m\n\u001b[1;32m     17\u001b[0m \u001b[38;5;66;03m#     ),\u001b[39;00m\n\u001b[1;32m     18\u001b[0m \u001b[38;5;66;03m#     n_trials=n_trials,\u001b[39;00m\n\u001b[1;32m     19\u001b[0m \u001b[38;5;66;03m# )\u001b[39;00m\n\u001b[0;32m---> 21\u001b[0m \u001b[43mstudy\u001b[49m\u001b[38;5;241;43m.\u001b[39;49m\u001b[43moptimize\u001b[49m\u001b[43m(\u001b[49m\n\u001b[1;32m     22\u001b[0m \u001b[43m    \u001b[49m\u001b[38;5;28;43;01mlambda\u001b[39;49;00m\u001b[43m \u001b[49m\u001b[43mtrial\u001b[49m\u001b[43m:\u001b[49m\u001b[43m \u001b[49m\u001b[43mobjective\u001b[49m\u001b[43m(\u001b[49m\n\u001b[1;32m     23\u001b[0m \u001b[43m        \u001b[49m\u001b[43mtrial\u001b[49m\u001b[43m,\u001b[49m\u001b[43m \u001b[49m\u001b[43mdocuments\u001b[49m\u001b[43m,\u001b[49m\u001b[43m \u001b[49m\u001b[43mngram_size\u001b[49m\u001b[43m,\u001b[49m\u001b[43m \u001b[49m\u001b[43mqa_df\u001b[49m\u001b[43m,\u001b[49m\u001b[43m \u001b[49m\u001b[43mf_beta\u001b[49m\u001b[38;5;241;43m=\u001b[39;49m\u001b[43mf_beta\u001b[49m\n\u001b[1;32m     24\u001b[0m \u001b[43m    \u001b[49m\u001b[43m)\u001b[49m\u001b[43m,\u001b[49m\n\u001b[1;32m     25\u001b[0m \u001b[43m    \u001b[49m\u001b[43mn_trials\u001b[49m\u001b[38;5;241;43m=\u001b[39;49m\u001b[43mn_trials\u001b[49m\u001b[43m,\u001b[49m\n\u001b[1;32m     26\u001b[0m \u001b[43m)\u001b[49m\n",
      "File \u001b[0;32m~/pathway-indexer/.venv/lib/python3.12/site-packages/optuna/study/study.py:451\u001b[0m, in \u001b[0;36mStudy.optimize\u001b[0;34m(self, func, n_trials, timeout, n_jobs, catch, callbacks, gc_after_trial, show_progress_bar)\u001b[0m\n\u001b[1;32m    348\u001b[0m \u001b[38;5;28;01mdef\u001b[39;00m \u001b[38;5;21moptimize\u001b[39m(\n\u001b[1;32m    349\u001b[0m     \u001b[38;5;28mself\u001b[39m,\n\u001b[1;32m    350\u001b[0m     func: ObjectiveFuncType,\n\u001b[0;32m   (...)\u001b[0m\n\u001b[1;32m    357\u001b[0m     show_progress_bar: \u001b[38;5;28mbool\u001b[39m \u001b[38;5;241m=\u001b[39m \u001b[38;5;28;01mFalse\u001b[39;00m,\n\u001b[1;32m    358\u001b[0m ) \u001b[38;5;241m-\u001b[39m\u001b[38;5;241m>\u001b[39m \u001b[38;5;28;01mNone\u001b[39;00m:\n\u001b[1;32m    359\u001b[0m \u001b[38;5;250m    \u001b[39m\u001b[38;5;124;03m\"\"\"Optimize an objective function.\u001b[39;00m\n\u001b[1;32m    360\u001b[0m \n\u001b[1;32m    361\u001b[0m \u001b[38;5;124;03m    Optimization is done by choosing a suitable set of hyperparameter values from a given\u001b[39;00m\n\u001b[0;32m   (...)\u001b[0m\n\u001b[1;32m    449\u001b[0m \u001b[38;5;124;03m            If nested invocation of this method occurs.\u001b[39;00m\n\u001b[1;32m    450\u001b[0m \u001b[38;5;124;03m    \"\"\"\u001b[39;00m\n\u001b[0;32m--> 451\u001b[0m     \u001b[43m_optimize\u001b[49m\u001b[43m(\u001b[49m\n\u001b[1;32m    452\u001b[0m \u001b[43m        \u001b[49m\u001b[43mstudy\u001b[49m\u001b[38;5;241;43m=\u001b[39;49m\u001b[38;5;28;43mself\u001b[39;49m\u001b[43m,\u001b[49m\n\u001b[1;32m    453\u001b[0m \u001b[43m        \u001b[49m\u001b[43mfunc\u001b[49m\u001b[38;5;241;43m=\u001b[39;49m\u001b[43mfunc\u001b[49m\u001b[43m,\u001b[49m\n\u001b[1;32m    454\u001b[0m \u001b[43m        \u001b[49m\u001b[43mn_trials\u001b[49m\u001b[38;5;241;43m=\u001b[39;49m\u001b[43mn_trials\u001b[49m\u001b[43m,\u001b[49m\n\u001b[1;32m    455\u001b[0m \u001b[43m        \u001b[49m\u001b[43mtimeout\u001b[49m\u001b[38;5;241;43m=\u001b[39;49m\u001b[43mtimeout\u001b[49m\u001b[43m,\u001b[49m\n\u001b[1;32m    456\u001b[0m \u001b[43m        \u001b[49m\u001b[43mn_jobs\u001b[49m\u001b[38;5;241;43m=\u001b[39;49m\u001b[43mn_jobs\u001b[49m\u001b[43m,\u001b[49m\n\u001b[1;32m    457\u001b[0m \u001b[43m        \u001b[49m\u001b[43mcatch\u001b[49m\u001b[38;5;241;43m=\u001b[39;49m\u001b[38;5;28;43mtuple\u001b[39;49m\u001b[43m(\u001b[49m\u001b[43mcatch\u001b[49m\u001b[43m)\u001b[49m\u001b[43m \u001b[49m\u001b[38;5;28;43;01mif\u001b[39;49;00m\u001b[43m \u001b[49m\u001b[38;5;28;43misinstance\u001b[39;49m\u001b[43m(\u001b[49m\u001b[43mcatch\u001b[49m\u001b[43m,\u001b[49m\u001b[43m \u001b[49m\u001b[43mIterable\u001b[49m\u001b[43m)\u001b[49m\u001b[43m \u001b[49m\u001b[38;5;28;43;01melse\u001b[39;49;00m\u001b[43m \u001b[49m\u001b[43m(\u001b[49m\u001b[43mcatch\u001b[49m\u001b[43m,\u001b[49m\u001b[43m)\u001b[49m\u001b[43m,\u001b[49m\n\u001b[1;32m    458\u001b[0m \u001b[43m        \u001b[49m\u001b[43mcallbacks\u001b[49m\u001b[38;5;241;43m=\u001b[39;49m\u001b[43mcallbacks\u001b[49m\u001b[43m,\u001b[49m\n\u001b[1;32m    459\u001b[0m \u001b[43m        \u001b[49m\u001b[43mgc_after_trial\u001b[49m\u001b[38;5;241;43m=\u001b[39;49m\u001b[43mgc_after_trial\u001b[49m\u001b[43m,\u001b[49m\n\u001b[1;32m    460\u001b[0m \u001b[43m        \u001b[49m\u001b[43mshow_progress_bar\u001b[49m\u001b[38;5;241;43m=\u001b[39;49m\u001b[43mshow_progress_bar\u001b[49m\u001b[43m,\u001b[49m\n\u001b[1;32m    461\u001b[0m \u001b[43m    \u001b[49m\u001b[43m)\u001b[49m\n",
      "File \u001b[0;32m~/pathway-indexer/.venv/lib/python3.12/site-packages/optuna/study/_optimize.py:62\u001b[0m, in \u001b[0;36m_optimize\u001b[0;34m(study, func, n_trials, timeout, n_jobs, catch, callbacks, gc_after_trial, show_progress_bar)\u001b[0m\n\u001b[1;32m     60\u001b[0m \u001b[38;5;28;01mtry\u001b[39;00m:\n\u001b[1;32m     61\u001b[0m     \u001b[38;5;28;01mif\u001b[39;00m n_jobs \u001b[38;5;241m==\u001b[39m \u001b[38;5;241m1\u001b[39m:\n\u001b[0;32m---> 62\u001b[0m         \u001b[43m_optimize_sequential\u001b[49m\u001b[43m(\u001b[49m\n\u001b[1;32m     63\u001b[0m \u001b[43m            \u001b[49m\u001b[43mstudy\u001b[49m\u001b[43m,\u001b[49m\n\u001b[1;32m     64\u001b[0m \u001b[43m            \u001b[49m\u001b[43mfunc\u001b[49m\u001b[43m,\u001b[49m\n\u001b[1;32m     65\u001b[0m \u001b[43m            \u001b[49m\u001b[43mn_trials\u001b[49m\u001b[43m,\u001b[49m\n\u001b[1;32m     66\u001b[0m \u001b[43m            \u001b[49m\u001b[43mtimeout\u001b[49m\u001b[43m,\u001b[49m\n\u001b[1;32m     67\u001b[0m \u001b[43m            \u001b[49m\u001b[43mcatch\u001b[49m\u001b[43m,\u001b[49m\n\u001b[1;32m     68\u001b[0m \u001b[43m            \u001b[49m\u001b[43mcallbacks\u001b[49m\u001b[43m,\u001b[49m\n\u001b[1;32m     69\u001b[0m \u001b[43m            \u001b[49m\u001b[43mgc_after_trial\u001b[49m\u001b[43m,\u001b[49m\n\u001b[1;32m     70\u001b[0m \u001b[43m            \u001b[49m\u001b[43mreseed_sampler_rng\u001b[49m\u001b[38;5;241;43m=\u001b[39;49m\u001b[38;5;28;43;01mFalse\u001b[39;49;00m\u001b[43m,\u001b[49m\n\u001b[1;32m     71\u001b[0m \u001b[43m            \u001b[49m\u001b[43mtime_start\u001b[49m\u001b[38;5;241;43m=\u001b[39;49m\u001b[38;5;28;43;01mNone\u001b[39;49;00m\u001b[43m,\u001b[49m\n\u001b[1;32m     72\u001b[0m \u001b[43m            \u001b[49m\u001b[43mprogress_bar\u001b[49m\u001b[38;5;241;43m=\u001b[39;49m\u001b[43mprogress_bar\u001b[49m\u001b[43m,\u001b[49m\n\u001b[1;32m     73\u001b[0m \u001b[43m        \u001b[49m\u001b[43m)\u001b[49m\n\u001b[1;32m     74\u001b[0m     \u001b[38;5;28;01melse\u001b[39;00m:\n\u001b[1;32m     75\u001b[0m         \u001b[38;5;28;01mif\u001b[39;00m n_jobs \u001b[38;5;241m==\u001b[39m \u001b[38;5;241m-\u001b[39m\u001b[38;5;241m1\u001b[39m:\n",
      "File \u001b[0;32m~/pathway-indexer/.venv/lib/python3.12/site-packages/optuna/study/_optimize.py:159\u001b[0m, in \u001b[0;36m_optimize_sequential\u001b[0;34m(study, func, n_trials, timeout, catch, callbacks, gc_after_trial, reseed_sampler_rng, time_start, progress_bar)\u001b[0m\n\u001b[1;32m    156\u001b[0m         \u001b[38;5;28;01mbreak\u001b[39;00m\n\u001b[1;32m    158\u001b[0m \u001b[38;5;28;01mtry\u001b[39;00m:\n\u001b[0;32m--> 159\u001b[0m     frozen_trial \u001b[38;5;241m=\u001b[39m \u001b[43m_run_trial\u001b[49m\u001b[43m(\u001b[49m\u001b[43mstudy\u001b[49m\u001b[43m,\u001b[49m\u001b[43m \u001b[49m\u001b[43mfunc\u001b[49m\u001b[43m,\u001b[49m\u001b[43m \u001b[49m\u001b[43mcatch\u001b[49m\u001b[43m)\u001b[49m\n\u001b[1;32m    160\u001b[0m \u001b[38;5;28;01mfinally\u001b[39;00m:\n\u001b[1;32m    161\u001b[0m     \u001b[38;5;66;03m# The following line mitigates memory problems that can be occurred in some\u001b[39;00m\n\u001b[1;32m    162\u001b[0m     \u001b[38;5;66;03m# environments (e.g., services that use computing containers such as GitHub Actions).\u001b[39;00m\n\u001b[1;32m    163\u001b[0m     \u001b[38;5;66;03m# Please refer to the following PR for further details:\u001b[39;00m\n\u001b[1;32m    164\u001b[0m     \u001b[38;5;66;03m# https://github.com/optuna/optuna/pull/325.\u001b[39;00m\n\u001b[1;32m    165\u001b[0m     \u001b[38;5;28;01mif\u001b[39;00m gc_after_trial:\n",
      "File \u001b[0;32m~/pathway-indexer/.venv/lib/python3.12/site-packages/optuna/study/_optimize.py:247\u001b[0m, in \u001b[0;36m_run_trial\u001b[0;34m(study, func, catch)\u001b[0m\n\u001b[1;32m    240\u001b[0m         \u001b[38;5;28;01massert\u001b[39;00m \u001b[38;5;28;01mFalse\u001b[39;00m, \u001b[38;5;124m\"\u001b[39m\u001b[38;5;124mShould not reach.\u001b[39m\u001b[38;5;124m\"\u001b[39m\n\u001b[1;32m    242\u001b[0m \u001b[38;5;28;01mif\u001b[39;00m (\n\u001b[1;32m    243\u001b[0m     frozen_trial\u001b[38;5;241m.\u001b[39mstate \u001b[38;5;241m==\u001b[39m TrialState\u001b[38;5;241m.\u001b[39mFAIL\n\u001b[1;32m    244\u001b[0m     \u001b[38;5;129;01mand\u001b[39;00m func_err \u001b[38;5;129;01mis\u001b[39;00m \u001b[38;5;129;01mnot\u001b[39;00m \u001b[38;5;28;01mNone\u001b[39;00m\n\u001b[1;32m    245\u001b[0m     \u001b[38;5;129;01mand\u001b[39;00m \u001b[38;5;129;01mnot\u001b[39;00m \u001b[38;5;28misinstance\u001b[39m(func_err, catch)\n\u001b[1;32m    246\u001b[0m ):\n\u001b[0;32m--> 247\u001b[0m     \u001b[38;5;28;01mraise\u001b[39;00m func_err\n\u001b[1;32m    248\u001b[0m \u001b[38;5;28;01mreturn\u001b[39;00m frozen_trial\n",
      "File \u001b[0;32m~/pathway-indexer/.venv/lib/python3.12/site-packages/optuna/study/_optimize.py:196\u001b[0m, in \u001b[0;36m_run_trial\u001b[0;34m(study, func, catch)\u001b[0m\n\u001b[1;32m    194\u001b[0m \u001b[38;5;28;01mwith\u001b[39;00m get_heartbeat_thread(trial\u001b[38;5;241m.\u001b[39m_trial_id, study\u001b[38;5;241m.\u001b[39m_storage):\n\u001b[1;32m    195\u001b[0m     \u001b[38;5;28;01mtry\u001b[39;00m:\n\u001b[0;32m--> 196\u001b[0m         value_or_values \u001b[38;5;241m=\u001b[39m \u001b[43mfunc\u001b[49m\u001b[43m(\u001b[49m\u001b[43mtrial\u001b[49m\u001b[43m)\u001b[49m\n\u001b[1;32m    197\u001b[0m     \u001b[38;5;28;01mexcept\u001b[39;00m exceptions\u001b[38;5;241m.\u001b[39mTrialPruned \u001b[38;5;28;01mas\u001b[39;00m e:\n\u001b[1;32m    198\u001b[0m         \u001b[38;5;66;03m# TODO(mamu): Handle multi-objective cases.\u001b[39;00m\n\u001b[1;32m    199\u001b[0m         state \u001b[38;5;241m=\u001b[39m TrialState\u001b[38;5;241m.\u001b[39mPRUNED\n",
      "Cell \u001b[0;32mIn[25], line 22\u001b[0m, in \u001b[0;36m<lambda>\u001b[0;34m(trial)\u001b[0m\n\u001b[1;32m      8\u001b[0m study \u001b[38;5;241m=\u001b[39m optuna\u001b[38;5;241m.\u001b[39mcreate_study(\n\u001b[1;32m      9\u001b[0m     study_name\u001b[38;5;241m=\u001b[39mstudy_name,\n\u001b[1;32m     10\u001b[0m     storage\u001b[38;5;241m=\u001b[39mstorage_name,\n\u001b[1;32m     11\u001b[0m     load_if_exists\u001b[38;5;241m=\u001b[39m\u001b[38;5;28;01mTrue\u001b[39;00m,\n\u001b[1;32m     12\u001b[0m     direction\u001b[38;5;241m=\u001b[39m\u001b[38;5;124m\"\u001b[39m\u001b[38;5;124mmaximize\u001b[39m\u001b[38;5;124m\"\u001b[39m,\n\u001b[1;32m     13\u001b[0m )\n\u001b[1;32m     14\u001b[0m \u001b[38;5;66;03m# study.optimize(\u001b[39;00m\n\u001b[1;32m     15\u001b[0m \u001b[38;5;66;03m#     get_objective_fn(\u001b[39;00m\n\u001b[1;32m     16\u001b[0m \u001b[38;5;66;03m#         documents=documents, ngram_size=ngram_size, question_ngrams=question_ngrams\u001b[39;00m\n\u001b[1;32m     17\u001b[0m \u001b[38;5;66;03m#     ),\u001b[39;00m\n\u001b[1;32m     18\u001b[0m \u001b[38;5;66;03m#     n_trials=n_trials,\u001b[39;00m\n\u001b[1;32m     19\u001b[0m \u001b[38;5;66;03m# )\u001b[39;00m\n\u001b[1;32m     21\u001b[0m study\u001b[38;5;241m.\u001b[39moptimize(\n\u001b[0;32m---> 22\u001b[0m     \u001b[38;5;28;01mlambda\u001b[39;00m trial: \u001b[43mobjective\u001b[49m\u001b[43m(\u001b[49m\n\u001b[1;32m     23\u001b[0m \u001b[43m        \u001b[49m\u001b[43mtrial\u001b[49m\u001b[43m,\u001b[49m\u001b[43m \u001b[49m\u001b[43mdocuments\u001b[49m\u001b[43m,\u001b[49m\u001b[43m \u001b[49m\u001b[43mngram_size\u001b[49m\u001b[43m,\u001b[49m\u001b[43m \u001b[49m\u001b[43mqa_df\u001b[49m\u001b[43m,\u001b[49m\u001b[43m \u001b[49m\u001b[43mf_beta\u001b[49m\u001b[38;5;241;43m=\u001b[39;49m\u001b[43mf_beta\u001b[49m\n\u001b[1;32m     24\u001b[0m \u001b[43m    \u001b[49m\u001b[43m)\u001b[49m,\n\u001b[1;32m     25\u001b[0m     n_trials\u001b[38;5;241m=\u001b[39mn_trials,\n\u001b[1;32m     26\u001b[0m )\n",
      "Cell \u001b[0;32mIn[24], line 154\u001b[0m, in \u001b[0;36mobjective\u001b[0;34m(trial, documents, ngram_size, qa_df, f_beta)\u001b[0m\n\u001b[1;32m    147\u001b[0m     rerank_k \u001b[38;5;241m=\u001b[39m \u001b[38;5;241m0\u001b[39m\n\u001b[1;32m    149\u001b[0m \u001b[38;5;66;03m#\u001b[39;00m\n\u001b[1;32m    150\u001b[0m \u001b[38;5;66;03m# Use hyperparameters to split documents into chunks, generate embeddings, and insert into an index\u001b[39;00m\n\u001b[1;32m    151\u001b[0m \u001b[38;5;66;03m#\u001b[39;00m\n\u001b[1;32m    152\u001b[0m \n\u001b[1;32m    153\u001b[0m \u001b[38;5;66;03m# run the pipeline\u001b[39;00m\n\u001b[0;32m--> 154\u001b[0m index, nodes \u001b[38;5;241m=\u001b[39m \u001b[43mrun_pipeline\u001b[49m\u001b[43m(\u001b[49m\u001b[43mdocuments\u001b[49m\u001b[43m,\u001b[49m\u001b[43m \u001b[49m\u001b[43msplitter\u001b[49m\u001b[43m,\u001b[49m\u001b[43m \u001b[49m\u001b[43membed_model\u001b[49m\u001b[43m,\u001b[49m\u001b[43m \u001b[49m\u001b[43mvector_store\u001b[49m\u001b[43m,\u001b[49m\u001b[43m \u001b[49m\n\u001b[1;32m    155\u001b[0m \u001b[43m                            \u001b[49m\u001b[43msplitter_name\u001b[49m\u001b[43m \u001b[49m\u001b[38;5;129;43;01min\u001b[39;49;00m\u001b[43m \u001b[49m\u001b[43m[\u001b[49m\u001b[38;5;124;43m\"\u001b[39;49m\u001b[38;5;124;43msemantic\u001b[39;49m\u001b[38;5;124;43m\"\u001b[39;49m\u001b[43m,\u001b[49m\u001b[43m \u001b[49m\u001b[38;5;124;43m\"\u001b[39;49m\u001b[38;5;124;43mmarkdown\u001b[39;49m\u001b[38;5;124;43m\"\u001b[39;49m\u001b[43m,\u001b[49m\u001b[43m \u001b[49m\u001b[38;5;124;43m\"\u001b[39;49m\u001b[38;5;124;43mcustom_splitter\u001b[39;49m\u001b[38;5;124;43m\"\u001b[39;49m\u001b[43m]\u001b[49m\u001b[43m \u001b[49m\u001b[38;5;129;43;01mand\u001b[39;49;00m\u001b[43m \u001b[49m\u001b[43minclude_prev_next_rel\u001b[49m\u001b[43m)\u001b[49m\n\u001b[1;32m    157\u001b[0m \u001b[38;5;66;03m# create a retriever from the index\u001b[39;00m\n\u001b[1;32m    158\u001b[0m retriever \u001b[38;5;241m=\u001b[39m index\u001b[38;5;241m.\u001b[39mas_retriever(\n\u001b[1;32m    159\u001b[0m     vector_store_query_mode\u001b[38;5;241m=\u001b[39mquery_mode,\n\u001b[1;32m    160\u001b[0m     similarity_top_k\u001b[38;5;241m=\u001b[39mretriever_k,\n\u001b[1;32m    161\u001b[0m     sparse_top_k\u001b[38;5;241m=\u001b[39msparse_k,\n\u001b[1;32m    162\u001b[0m )\n",
      "Cell \u001b[0;32mIn[22], line 13\u001b[0m, in \u001b[0;36mrun_pipeline\u001b[0;34m(documents, splitter, embed_model, vector_store, include_prev_next_rel)\u001b[0m\n\u001b[1;32m      3\u001b[0m pipeline \u001b[38;5;241m=\u001b[39m IngestionPipeline(\n\u001b[1;32m      4\u001b[0m     transformations\u001b[38;5;241m=\u001b[39m[\n\u001b[1;32m      5\u001b[0m         splitter,\n\u001b[1;32m      6\u001b[0m         embed_model,\n\u001b[1;32m      7\u001b[0m     ]\n\u001b[1;32m      8\u001b[0m )\n\u001b[1;32m      9\u001b[0m index \u001b[38;5;241m=\u001b[39m VectorStoreIndex\u001b[38;5;241m.\u001b[39mfrom_vector_store(\n\u001b[1;32m     10\u001b[0m     vector_store,\n\u001b[1;32m     11\u001b[0m     embed_model\u001b[38;5;241m=\u001b[39membed_model,\n\u001b[1;32m     12\u001b[0m )\n\u001b[0;32m---> 13\u001b[0m nodes \u001b[38;5;241m=\u001b[39m \u001b[43mpipeline\u001b[49m\u001b[38;5;241;43m.\u001b[39;49m\u001b[43mrun\u001b[49m\u001b[43m(\u001b[49m\u001b[43mdocuments\u001b[49m\u001b[38;5;241;43m=\u001b[39;49m\u001b[43mdocuments\u001b[49m\u001b[43m,\u001b[49m\u001b[43m \u001b[49m\u001b[43mshow_progress\u001b[49m\u001b[38;5;241;43m=\u001b[39;49m\u001b[38;5;28;43;01mFalse\u001b[39;49;00m\u001b[43m)\u001b[49m\n\u001b[1;32m     15\u001b[0m \u001b[38;5;28;01mif\u001b[39;00m include_prev_next_rel:\n\u001b[1;32m     16\u001b[0m     \u001b[38;5;28;01mfor\u001b[39;00m i \u001b[38;5;129;01min\u001b[39;00m \u001b[38;5;28mrange\u001b[39m(\u001b[38;5;241m0\u001b[39m, \u001b[38;5;28mlen\u001b[39m(nodes)):\n",
      "File \u001b[0;32m~/pathway-indexer/.venv/lib/python3.12/site-packages/llama_index/core/instrumentation/dispatcher.py:260\u001b[0m, in \u001b[0;36mDispatcher.span.<locals>.wrapper\u001b[0;34m(func, instance, args, kwargs)\u001b[0m\n\u001b[1;32m    252\u001b[0m \u001b[38;5;28mself\u001b[39m\u001b[38;5;241m.\u001b[39mspan_enter(\n\u001b[1;32m    253\u001b[0m     id_\u001b[38;5;241m=\u001b[39mid_,\n\u001b[1;32m    254\u001b[0m     bound_args\u001b[38;5;241m=\u001b[39mbound_args,\n\u001b[0;32m   (...)\u001b[0m\n\u001b[1;32m    257\u001b[0m     tags\u001b[38;5;241m=\u001b[39mtags,\n\u001b[1;32m    258\u001b[0m )\n\u001b[1;32m    259\u001b[0m \u001b[38;5;28;01mtry\u001b[39;00m:\n\u001b[0;32m--> 260\u001b[0m     result \u001b[38;5;241m=\u001b[39m \u001b[43mfunc\u001b[49m\u001b[43m(\u001b[49m\u001b[38;5;241;43m*\u001b[39;49m\u001b[43margs\u001b[49m\u001b[43m,\u001b[49m\u001b[43m \u001b[49m\u001b[38;5;241;43m*\u001b[39;49m\u001b[38;5;241;43m*\u001b[39;49m\u001b[43mkwargs\u001b[49m\u001b[43m)\u001b[49m\n\u001b[1;32m    261\u001b[0m \u001b[38;5;28;01mexcept\u001b[39;00m \u001b[38;5;167;01mBaseException\u001b[39;00m \u001b[38;5;28;01mas\u001b[39;00m e:\n\u001b[1;32m    262\u001b[0m     \u001b[38;5;28mself\u001b[39m\u001b[38;5;241m.\u001b[39mevent(SpanDropEvent(span_id\u001b[38;5;241m=\u001b[39mid_, err_str\u001b[38;5;241m=\u001b[39m\u001b[38;5;28mstr\u001b[39m(e)))\n",
      "File \u001b[0;32m~/pathway-indexer/.venv/lib/python3.12/site-packages/llama_index/core/ingestion/pipeline.py:542\u001b[0m, in \u001b[0;36mIngestionPipeline.run\u001b[0;34m(self, show_progress, documents, nodes, cache_collection, in_place, store_doc_text, num_workers, **kwargs)\u001b[0m\n\u001b[1;32m    540\u001b[0m         nodes \u001b[38;5;241m=\u001b[39m reduce(\u001b[38;5;28;01mlambda\u001b[39;00m x, y: x \u001b[38;5;241m+\u001b[39m y, nodes_parallel, [])\n\u001b[1;32m    541\u001b[0m \u001b[38;5;28;01melse\u001b[39;00m:\n\u001b[0;32m--> 542\u001b[0m     nodes \u001b[38;5;241m=\u001b[39m \u001b[43mrun_transformations\u001b[49m\u001b[43m(\u001b[49m\n\u001b[1;32m    543\u001b[0m \u001b[43m        \u001b[49m\u001b[43mnodes_to_run\u001b[49m\u001b[43m,\u001b[49m\n\u001b[1;32m    544\u001b[0m \u001b[43m        \u001b[49m\u001b[38;5;28;43mself\u001b[39;49m\u001b[38;5;241;43m.\u001b[39;49m\u001b[43mtransformations\u001b[49m\u001b[43m,\u001b[49m\n\u001b[1;32m    545\u001b[0m \u001b[43m        \u001b[49m\u001b[43mshow_progress\u001b[49m\u001b[38;5;241;43m=\u001b[39;49m\u001b[43mshow_progress\u001b[49m\u001b[43m,\u001b[49m\n\u001b[1;32m    546\u001b[0m \u001b[43m        \u001b[49m\u001b[43mcache\u001b[49m\u001b[38;5;241;43m=\u001b[39;49m\u001b[38;5;28;43mself\u001b[39;49m\u001b[38;5;241;43m.\u001b[39;49m\u001b[43mcache\u001b[49m\u001b[43m \u001b[49m\u001b[38;5;28;43;01mif\u001b[39;49;00m\u001b[43m \u001b[49m\u001b[38;5;129;43;01mnot\u001b[39;49;00m\u001b[43m \u001b[49m\u001b[38;5;28;43mself\u001b[39;49m\u001b[38;5;241;43m.\u001b[39;49m\u001b[43mdisable_cache\u001b[49m\u001b[43m \u001b[49m\u001b[38;5;28;43;01melse\u001b[39;49;00m\u001b[43m \u001b[49m\u001b[38;5;28;43;01mNone\u001b[39;49;00m\u001b[43m,\u001b[49m\n\u001b[1;32m    547\u001b[0m \u001b[43m        \u001b[49m\u001b[43mcache_collection\u001b[49m\u001b[38;5;241;43m=\u001b[39;49m\u001b[43mcache_collection\u001b[49m\u001b[43m,\u001b[49m\n\u001b[1;32m    548\u001b[0m \u001b[43m        \u001b[49m\u001b[43min_place\u001b[49m\u001b[38;5;241;43m=\u001b[39;49m\u001b[43min_place\u001b[49m\u001b[43m,\u001b[49m\n\u001b[1;32m    549\u001b[0m \u001b[43m        \u001b[49m\u001b[38;5;241;43m*\u001b[39;49m\u001b[38;5;241;43m*\u001b[39;49m\u001b[43mkwargs\u001b[49m\u001b[43m,\u001b[49m\n\u001b[1;32m    550\u001b[0m \u001b[43m    \u001b[49m\u001b[43m)\u001b[49m\n\u001b[1;32m    552\u001b[0m \u001b[38;5;28;01mif\u001b[39;00m \u001b[38;5;28mself\u001b[39m\u001b[38;5;241m.\u001b[39mvector_store \u001b[38;5;129;01mis\u001b[39;00m \u001b[38;5;129;01mnot\u001b[39;00m \u001b[38;5;28;01mNone\u001b[39;00m:\n\u001b[1;32m    553\u001b[0m     nodes_with_embeddings \u001b[38;5;241m=\u001b[39m [n \u001b[38;5;28;01mfor\u001b[39;00m n \u001b[38;5;129;01min\u001b[39;00m nodes \u001b[38;5;28;01mif\u001b[39;00m n\u001b[38;5;241m.\u001b[39membedding \u001b[38;5;129;01mis\u001b[39;00m \u001b[38;5;129;01mnot\u001b[39;00m \u001b[38;5;28;01mNone\u001b[39;00m]\n",
      "File \u001b[0;32m~/pathway-indexer/.venv/lib/python3.12/site-packages/llama_index/core/ingestion/pipeline.py:97\u001b[0m, in \u001b[0;36mrun_transformations\u001b[0;34m(nodes, transformations, in_place, cache, cache_collection, **kwargs)\u001b[0m\n\u001b[1;32m     95\u001b[0m         nodes \u001b[38;5;241m=\u001b[39m cached_nodes\n\u001b[1;32m     96\u001b[0m     \u001b[38;5;28;01melse\u001b[39;00m:\n\u001b[0;32m---> 97\u001b[0m         nodes \u001b[38;5;241m=\u001b[39m \u001b[43mtransform\u001b[49m\u001b[43m(\u001b[49m\u001b[43mnodes\u001b[49m\u001b[43m,\u001b[49m\u001b[43m \u001b[49m\u001b[38;5;241;43m*\u001b[39;49m\u001b[38;5;241;43m*\u001b[39;49m\u001b[43mkwargs\u001b[49m\u001b[43m)\u001b[49m\n\u001b[1;32m     98\u001b[0m         cache\u001b[38;5;241m.\u001b[39mput(\u001b[38;5;28mhash\u001b[39m, nodes, collection\u001b[38;5;241m=\u001b[39mcache_collection)\n\u001b[1;32m     99\u001b[0m \u001b[38;5;28;01melse\u001b[39;00m:\n",
      "File \u001b[0;32m~/pathway-indexer/.venv/lib/python3.12/site-packages/llama_index/core/instrumentation/dispatcher.py:260\u001b[0m, in \u001b[0;36mDispatcher.span.<locals>.wrapper\u001b[0;34m(func, instance, args, kwargs)\u001b[0m\n\u001b[1;32m    252\u001b[0m \u001b[38;5;28mself\u001b[39m\u001b[38;5;241m.\u001b[39mspan_enter(\n\u001b[1;32m    253\u001b[0m     id_\u001b[38;5;241m=\u001b[39mid_,\n\u001b[1;32m    254\u001b[0m     bound_args\u001b[38;5;241m=\u001b[39mbound_args,\n\u001b[0;32m   (...)\u001b[0m\n\u001b[1;32m    257\u001b[0m     tags\u001b[38;5;241m=\u001b[39mtags,\n\u001b[1;32m    258\u001b[0m )\n\u001b[1;32m    259\u001b[0m \u001b[38;5;28;01mtry\u001b[39;00m:\n\u001b[0;32m--> 260\u001b[0m     result \u001b[38;5;241m=\u001b[39m \u001b[43mfunc\u001b[49m\u001b[43m(\u001b[49m\u001b[38;5;241;43m*\u001b[39;49m\u001b[43margs\u001b[49m\u001b[43m,\u001b[49m\u001b[43m \u001b[49m\u001b[38;5;241;43m*\u001b[39;49m\u001b[38;5;241;43m*\u001b[39;49m\u001b[43mkwargs\u001b[49m\u001b[43m)\u001b[49m\n\u001b[1;32m    261\u001b[0m \u001b[38;5;28;01mexcept\u001b[39;00m \u001b[38;5;167;01mBaseException\u001b[39;00m \u001b[38;5;28;01mas\u001b[39;00m e:\n\u001b[1;32m    262\u001b[0m     \u001b[38;5;28mself\u001b[39m\u001b[38;5;241m.\u001b[39mevent(SpanDropEvent(span_id\u001b[38;5;241m=\u001b[39mid_, err_str\u001b[38;5;241m=\u001b[39m\u001b[38;5;28mstr\u001b[39m(e)))\n",
      "File \u001b[0;32m~/pathway-indexer/.venv/lib/python3.12/site-packages/llama_index/core/base/embeddings/base.py:440\u001b[0m, in \u001b[0;36mBaseEmbedding.__call__\u001b[0;34m(self, nodes, **kwargs)\u001b[0m\n\u001b[1;32m    439\u001b[0m \u001b[38;5;28;01mdef\u001b[39;00m \u001b[38;5;21m__call__\u001b[39m(\u001b[38;5;28mself\u001b[39m, nodes: List[BaseNode], \u001b[38;5;241m*\u001b[39m\u001b[38;5;241m*\u001b[39mkwargs: Any) \u001b[38;5;241m-\u001b[39m\u001b[38;5;241m>\u001b[39m List[BaseNode]:\n\u001b[0;32m--> 440\u001b[0m     embeddings \u001b[38;5;241m=\u001b[39m \u001b[38;5;28;43mself\u001b[39;49m\u001b[38;5;241;43m.\u001b[39;49m\u001b[43mget_text_embedding_batch\u001b[49m\u001b[43m(\u001b[49m\n\u001b[1;32m    441\u001b[0m \u001b[43m        \u001b[49m\u001b[43m[\u001b[49m\u001b[43mnode\u001b[49m\u001b[38;5;241;43m.\u001b[39;49m\u001b[43mget_content\u001b[49m\u001b[43m(\u001b[49m\u001b[43mmetadata_mode\u001b[49m\u001b[38;5;241;43m=\u001b[39;49m\u001b[43mMetadataMode\u001b[49m\u001b[38;5;241;43m.\u001b[39;49m\u001b[43mEMBED\u001b[49m\u001b[43m)\u001b[49m\u001b[43m \u001b[49m\u001b[38;5;28;43;01mfor\u001b[39;49;00m\u001b[43m \u001b[49m\u001b[43mnode\u001b[49m\u001b[43m \u001b[49m\u001b[38;5;129;43;01min\u001b[39;49;00m\u001b[43m \u001b[49m\u001b[43mnodes\u001b[49m\u001b[43m]\u001b[49m\u001b[43m,\u001b[49m\n\u001b[1;32m    442\u001b[0m \u001b[43m        \u001b[49m\u001b[38;5;241;43m*\u001b[39;49m\u001b[38;5;241;43m*\u001b[39;49m\u001b[43mkwargs\u001b[49m\u001b[43m,\u001b[49m\n\u001b[1;32m    443\u001b[0m \u001b[43m    \u001b[49m\u001b[43m)\u001b[49m\n\u001b[1;32m    445\u001b[0m     \u001b[38;5;28;01mfor\u001b[39;00m node, embedding \u001b[38;5;129;01min\u001b[39;00m \u001b[38;5;28mzip\u001b[39m(nodes, embeddings):\n\u001b[1;32m    446\u001b[0m         node\u001b[38;5;241m.\u001b[39membedding \u001b[38;5;241m=\u001b[39m embedding\n",
      "File \u001b[0;32m~/pathway-indexer/.venv/lib/python3.12/site-packages/llama_index/core/instrumentation/dispatcher.py:260\u001b[0m, in \u001b[0;36mDispatcher.span.<locals>.wrapper\u001b[0;34m(func, instance, args, kwargs)\u001b[0m\n\u001b[1;32m    252\u001b[0m \u001b[38;5;28mself\u001b[39m\u001b[38;5;241m.\u001b[39mspan_enter(\n\u001b[1;32m    253\u001b[0m     id_\u001b[38;5;241m=\u001b[39mid_,\n\u001b[1;32m    254\u001b[0m     bound_args\u001b[38;5;241m=\u001b[39mbound_args,\n\u001b[0;32m   (...)\u001b[0m\n\u001b[1;32m    257\u001b[0m     tags\u001b[38;5;241m=\u001b[39mtags,\n\u001b[1;32m    258\u001b[0m )\n\u001b[1;32m    259\u001b[0m \u001b[38;5;28;01mtry\u001b[39;00m:\n\u001b[0;32m--> 260\u001b[0m     result \u001b[38;5;241m=\u001b[39m \u001b[43mfunc\u001b[49m\u001b[43m(\u001b[49m\u001b[38;5;241;43m*\u001b[39;49m\u001b[43margs\u001b[49m\u001b[43m,\u001b[49m\u001b[43m \u001b[49m\u001b[38;5;241;43m*\u001b[39;49m\u001b[38;5;241;43m*\u001b[39;49m\u001b[43mkwargs\u001b[49m\u001b[43m)\u001b[49m\n\u001b[1;32m    261\u001b[0m \u001b[38;5;28;01mexcept\u001b[39;00m \u001b[38;5;167;01mBaseException\u001b[39;00m \u001b[38;5;28;01mas\u001b[39;00m e:\n\u001b[1;32m    262\u001b[0m     \u001b[38;5;28mself\u001b[39m\u001b[38;5;241m.\u001b[39mevent(SpanDropEvent(span_id\u001b[38;5;241m=\u001b[39mid_, err_str\u001b[38;5;241m=\u001b[39m\u001b[38;5;28mstr\u001b[39m(e)))\n",
      "File \u001b[0;32m~/pathway-indexer/.venv/lib/python3.12/site-packages/llama_index/core/base/embeddings/base.py:341\u001b[0m, in \u001b[0;36mBaseEmbedding.get_text_embedding_batch\u001b[0;34m(self, texts, show_progress, **kwargs)\u001b[0m\n\u001b[1;32m    333\u001b[0m             result_embeddings\u001b[38;5;241m.\u001b[39mextend(embeddings)\n\u001b[1;32m    334\u001b[0m             event\u001b[38;5;241m.\u001b[39mon_end(\n\u001b[1;32m    335\u001b[0m                 payload\u001b[38;5;241m=\u001b[39m{\n\u001b[1;32m    336\u001b[0m                     EventPayload\u001b[38;5;241m.\u001b[39mCHUNKS: cur_batch,\n\u001b[1;32m    337\u001b[0m                     EventPayload\u001b[38;5;241m.\u001b[39mEMBEDDINGS: embeddings,\n\u001b[1;32m    338\u001b[0m                 },\n\u001b[1;32m    339\u001b[0m             )\n\u001b[1;32m    340\u001b[0m         dispatcher\u001b[38;5;241m.\u001b[39mevent(\n\u001b[0;32m--> 341\u001b[0m             \u001b[43mEmbeddingEndEvent\u001b[49m\u001b[43m(\u001b[49m\n\u001b[1;32m    342\u001b[0m \u001b[43m                \u001b[49m\u001b[43mchunks\u001b[49m\u001b[38;5;241;43m=\u001b[39;49m\u001b[43mcur_batch\u001b[49m\u001b[43m,\u001b[49m\n\u001b[1;32m    343\u001b[0m \u001b[43m                \u001b[49m\u001b[43membeddings\u001b[49m\u001b[38;5;241;43m=\u001b[39;49m\u001b[43membeddings\u001b[49m\u001b[43m,\u001b[49m\n\u001b[1;32m    344\u001b[0m \u001b[43m            \u001b[49m\u001b[43m)\u001b[49m\n\u001b[1;32m    345\u001b[0m         )\n\u001b[1;32m    346\u001b[0m         cur_batch \u001b[38;5;241m=\u001b[39m []\n\u001b[1;32m    348\u001b[0m \u001b[38;5;28;01mreturn\u001b[39;00m result_embeddings\n",
      "File \u001b[0;32m~/pathway-indexer/.venv/lib/python3.12/site-packages/pydantic/v1/main.py:339\u001b[0m, in \u001b[0;36mBaseModel.__init__\u001b[0;34m(__pydantic_self__, **data)\u001b[0m\n\u001b[1;32m    333\u001b[0m \u001b[38;5;250m\u001b[39m\u001b[38;5;124;03m\"\"\"\u001b[39;00m\n\u001b[1;32m    334\u001b[0m \u001b[38;5;124;03mCreate a new model by parsing and validating input data from keyword arguments.\u001b[39;00m\n\u001b[1;32m    335\u001b[0m \n\u001b[1;32m    336\u001b[0m \u001b[38;5;124;03mRaises ValidationError if the input data cannot be parsed to form a valid model.\u001b[39;00m\n\u001b[1;32m    337\u001b[0m \u001b[38;5;124;03m\"\"\"\u001b[39;00m\n\u001b[1;32m    338\u001b[0m \u001b[38;5;66;03m# Uses something other than `self` the first arg to allow \"self\" as a settable attribute\u001b[39;00m\n\u001b[0;32m--> 339\u001b[0m values, fields_set, validation_error \u001b[38;5;241m=\u001b[39m \u001b[43mvalidate_model\u001b[49m\u001b[43m(\u001b[49m\u001b[43m__pydantic_self__\u001b[49m\u001b[38;5;241;43m.\u001b[39;49m\u001b[38;5;18;43m__class__\u001b[39;49m\u001b[43m,\u001b[49m\u001b[43m \u001b[49m\u001b[43mdata\u001b[49m\u001b[43m)\u001b[49m\n\u001b[1;32m    340\u001b[0m \u001b[38;5;28;01mif\u001b[39;00m validation_error:\n\u001b[1;32m    341\u001b[0m     \u001b[38;5;28;01mraise\u001b[39;00m validation_error\n",
      "File \u001b[0;32m~/pathway-indexer/.venv/lib/python3.12/site-packages/pydantic/v1/main.py:1074\u001b[0m, in \u001b[0;36mvalidate_model\u001b[0;34m(model, input_data, cls)\u001b[0m\n\u001b[1;32m   1071\u001b[0m     \u001b[38;5;28;01mif\u001b[39;00m check_extra:\n\u001b[1;32m   1072\u001b[0m         names_used\u001b[38;5;241m.\u001b[39madd(field\u001b[38;5;241m.\u001b[39mname \u001b[38;5;28;01mif\u001b[39;00m using_name \u001b[38;5;28;01melse\u001b[39;00m field\u001b[38;5;241m.\u001b[39malias)\n\u001b[0;32m-> 1074\u001b[0m v_, errors_ \u001b[38;5;241m=\u001b[39m \u001b[43mfield\u001b[49m\u001b[38;5;241;43m.\u001b[39;49m\u001b[43mvalidate\u001b[49m\u001b[43m(\u001b[49m\u001b[43mvalue\u001b[49m\u001b[43m,\u001b[49m\u001b[43m \u001b[49m\u001b[43mvalues\u001b[49m\u001b[43m,\u001b[49m\u001b[43m \u001b[49m\u001b[43mloc\u001b[49m\u001b[38;5;241;43m=\u001b[39;49m\u001b[43mfield\u001b[49m\u001b[38;5;241;43m.\u001b[39;49m\u001b[43malias\u001b[49m\u001b[43m,\u001b[49m\u001b[43m \u001b[49m\u001b[38;5;28;43mcls\u001b[39;49m\u001b[38;5;241;43m=\u001b[39;49m\u001b[43mcls_\u001b[49m\u001b[43m)\u001b[49m\n\u001b[1;32m   1075\u001b[0m \u001b[38;5;28;01mif\u001b[39;00m \u001b[38;5;28misinstance\u001b[39m(errors_, ErrorWrapper):\n\u001b[1;32m   1076\u001b[0m     errors\u001b[38;5;241m.\u001b[39mappend(errors_)\n",
      "File \u001b[0;32m~/pathway-indexer/.venv/lib/python3.12/site-packages/pydantic/v1/fields.py:892\u001b[0m, in \u001b[0;36mModelField.validate\u001b[0;34m(self, v, values, loc, cls)\u001b[0m\n\u001b[1;32m    889\u001b[0m     v, errors \u001b[38;5;241m=\u001b[39m \u001b[38;5;28mself\u001b[39m\u001b[38;5;241m.\u001b[39m_apply_validators(v, values, loc, \u001b[38;5;28mcls\u001b[39m, \u001b[38;5;28mself\u001b[39m\u001b[38;5;241m.\u001b[39mvalidators)\n\u001b[1;32m    890\u001b[0m \u001b[38;5;28;01melse\u001b[39;00m:\n\u001b[1;32m    891\u001b[0m     \u001b[38;5;66;03m#  sequence, list, set, generator, tuple with ellipsis, frozen set\u001b[39;00m\n\u001b[0;32m--> 892\u001b[0m     v, errors \u001b[38;5;241m=\u001b[39m \u001b[38;5;28;43mself\u001b[39;49m\u001b[38;5;241;43m.\u001b[39;49m\u001b[43m_validate_sequence_like\u001b[49m\u001b[43m(\u001b[49m\u001b[43mv\u001b[49m\u001b[43m,\u001b[49m\u001b[43m \u001b[49m\u001b[43mvalues\u001b[49m\u001b[43m,\u001b[49m\u001b[43m \u001b[49m\u001b[43mloc\u001b[49m\u001b[43m,\u001b[49m\u001b[43m \u001b[49m\u001b[38;5;28;43mcls\u001b[39;49m\u001b[43m)\u001b[49m\n\u001b[1;32m    894\u001b[0m \u001b[38;5;28;01mif\u001b[39;00m \u001b[38;5;129;01mnot\u001b[39;00m errors \u001b[38;5;129;01mand\u001b[39;00m \u001b[38;5;28mself\u001b[39m\u001b[38;5;241m.\u001b[39mpost_validators:\n\u001b[1;32m    895\u001b[0m     v, errors \u001b[38;5;241m=\u001b[39m \u001b[38;5;28mself\u001b[39m\u001b[38;5;241m.\u001b[39m_apply_validators(v, values, loc, \u001b[38;5;28mcls\u001b[39m, \u001b[38;5;28mself\u001b[39m\u001b[38;5;241m.\u001b[39mpost_validators)\n",
      "File \u001b[0;32m~/pathway-indexer/.venv/lib/python3.12/site-packages/pydantic/v1/fields.py:925\u001b[0m, in \u001b[0;36mModelField._validate_sequence_like\u001b[0;34m(self, v, values, loc, cls)\u001b[0m\n\u001b[1;32m    923\u001b[0m \u001b[38;5;28;01mfor\u001b[39;00m i, v_ \u001b[38;5;129;01min\u001b[39;00m \u001b[38;5;28menumerate\u001b[39m(v):\n\u001b[1;32m    924\u001b[0m     v_loc \u001b[38;5;241m=\u001b[39m \u001b[38;5;241m*\u001b[39mloc, i\n\u001b[0;32m--> 925\u001b[0m     r, ee \u001b[38;5;241m=\u001b[39m \u001b[38;5;28;43mself\u001b[39;49m\u001b[38;5;241;43m.\u001b[39;49m\u001b[43m_validate_singleton\u001b[49m\u001b[43m(\u001b[49m\u001b[43mv_\u001b[49m\u001b[43m,\u001b[49m\u001b[43m \u001b[49m\u001b[43mvalues\u001b[49m\u001b[43m,\u001b[49m\u001b[43m \u001b[49m\u001b[43mv_loc\u001b[49m\u001b[43m,\u001b[49m\u001b[43m \u001b[49m\u001b[38;5;28;43mcls\u001b[39;49m\u001b[43m)\u001b[49m\n\u001b[1;32m    926\u001b[0m     \u001b[38;5;28;01mif\u001b[39;00m ee:\n\u001b[1;32m    927\u001b[0m         errors\u001b[38;5;241m.\u001b[39mappend(ee)\n",
      "File \u001b[0;32m~/pathway-indexer/.venv/lib/python3.12/site-packages/pydantic/v1/fields.py:1091\u001b[0m, in \u001b[0;36mModelField._validate_singleton\u001b[0;34m(self, v, values, loc, cls)\u001b[0m\n\u001b[1;32m   1088\u001b[0m \u001b[38;5;66;03m# 1st pass by default or 3rd pass with `smart_union` enabled:\u001b[39;00m\n\u001b[1;32m   1089\u001b[0m \u001b[38;5;66;03m# check if the value can be coerced into one of the Union types\u001b[39;00m\n\u001b[1;32m   1090\u001b[0m \u001b[38;5;28;01mfor\u001b[39;00m field \u001b[38;5;129;01min\u001b[39;00m \u001b[38;5;28mself\u001b[39m\u001b[38;5;241m.\u001b[39msub_fields:\n\u001b[0;32m-> 1091\u001b[0m     value, error \u001b[38;5;241m=\u001b[39m \u001b[43mfield\u001b[49m\u001b[38;5;241;43m.\u001b[39;49m\u001b[43mvalidate\u001b[49m\u001b[43m(\u001b[49m\u001b[43mv\u001b[49m\u001b[43m,\u001b[49m\u001b[43m \u001b[49m\u001b[43mvalues\u001b[49m\u001b[43m,\u001b[49m\u001b[43m \u001b[49m\u001b[43mloc\u001b[49m\u001b[38;5;241;43m=\u001b[39;49m\u001b[43mloc\u001b[49m\u001b[43m,\u001b[49m\u001b[43m \u001b[49m\u001b[38;5;28;43mcls\u001b[39;49m\u001b[38;5;241;43m=\u001b[39;49m\u001b[38;5;28;43mcls\u001b[39;49m\u001b[43m)\u001b[49m\n\u001b[1;32m   1092\u001b[0m     \u001b[38;5;28;01mif\u001b[39;00m error:\n\u001b[1;32m   1093\u001b[0m         errors\u001b[38;5;241m.\u001b[39mappend(error)\n",
      "File \u001b[0;32m~/pathway-indexer/.venv/lib/python3.12/site-packages/pydantic/v1/fields.py:892\u001b[0m, in \u001b[0;36mModelField.validate\u001b[0;34m(self, v, values, loc, cls)\u001b[0m\n\u001b[1;32m    889\u001b[0m     v, errors \u001b[38;5;241m=\u001b[39m \u001b[38;5;28mself\u001b[39m\u001b[38;5;241m.\u001b[39m_apply_validators(v, values, loc, \u001b[38;5;28mcls\u001b[39m, \u001b[38;5;28mself\u001b[39m\u001b[38;5;241m.\u001b[39mvalidators)\n\u001b[1;32m    890\u001b[0m \u001b[38;5;28;01melse\u001b[39;00m:\n\u001b[1;32m    891\u001b[0m     \u001b[38;5;66;03m#  sequence, list, set, generator, tuple with ellipsis, frozen set\u001b[39;00m\n\u001b[0;32m--> 892\u001b[0m     v, errors \u001b[38;5;241m=\u001b[39m \u001b[38;5;28;43mself\u001b[39;49m\u001b[38;5;241;43m.\u001b[39;49m\u001b[43m_validate_sequence_like\u001b[49m\u001b[43m(\u001b[49m\u001b[43mv\u001b[49m\u001b[43m,\u001b[49m\u001b[43m \u001b[49m\u001b[43mvalues\u001b[49m\u001b[43m,\u001b[49m\u001b[43m \u001b[49m\u001b[43mloc\u001b[49m\u001b[43m,\u001b[49m\u001b[43m \u001b[49m\u001b[38;5;28;43mcls\u001b[39;49m\u001b[43m)\u001b[49m\n\u001b[1;32m    894\u001b[0m \u001b[38;5;28;01mif\u001b[39;00m \u001b[38;5;129;01mnot\u001b[39;00m errors \u001b[38;5;129;01mand\u001b[39;00m \u001b[38;5;28mself\u001b[39m\u001b[38;5;241m.\u001b[39mpost_validators:\n\u001b[1;32m    895\u001b[0m     v, errors \u001b[38;5;241m=\u001b[39m \u001b[38;5;28mself\u001b[39m\u001b[38;5;241m.\u001b[39m_apply_validators(v, values, loc, \u001b[38;5;28mcls\u001b[39m, \u001b[38;5;28mself\u001b[39m\u001b[38;5;241m.\u001b[39mpost_validators)\n",
      "File \u001b[0;32m~/pathway-indexer/.venv/lib/python3.12/site-packages/pydantic/v1/fields.py:925\u001b[0m, in \u001b[0;36mModelField._validate_sequence_like\u001b[0;34m(self, v, values, loc, cls)\u001b[0m\n\u001b[1;32m    923\u001b[0m \u001b[38;5;28;01mfor\u001b[39;00m i, v_ \u001b[38;5;129;01min\u001b[39;00m \u001b[38;5;28menumerate\u001b[39m(v):\n\u001b[1;32m    924\u001b[0m     v_loc \u001b[38;5;241m=\u001b[39m \u001b[38;5;241m*\u001b[39mloc, i\n\u001b[0;32m--> 925\u001b[0m     r, ee \u001b[38;5;241m=\u001b[39m \u001b[38;5;28;43mself\u001b[39;49m\u001b[38;5;241;43m.\u001b[39;49m\u001b[43m_validate_singleton\u001b[49m\u001b[43m(\u001b[49m\u001b[43mv_\u001b[49m\u001b[43m,\u001b[49m\u001b[43m \u001b[49m\u001b[43mvalues\u001b[49m\u001b[43m,\u001b[49m\u001b[43m \u001b[49m\u001b[43mv_loc\u001b[49m\u001b[43m,\u001b[49m\u001b[43m \u001b[49m\u001b[38;5;28;43mcls\u001b[39;49m\u001b[43m)\u001b[49m\n\u001b[1;32m    926\u001b[0m     \u001b[38;5;28;01mif\u001b[39;00m ee:\n\u001b[1;32m    927\u001b[0m         errors\u001b[38;5;241m.\u001b[39mappend(ee)\n",
      "File \u001b[0;32m~/pathway-indexer/.venv/lib/python3.12/site-packages/pydantic/v1/fields.py:1091\u001b[0m, in \u001b[0;36mModelField._validate_singleton\u001b[0;34m(self, v, values, loc, cls)\u001b[0m\n\u001b[1;32m   1088\u001b[0m \u001b[38;5;66;03m# 1st pass by default or 3rd pass with `smart_union` enabled:\u001b[39;00m\n\u001b[1;32m   1089\u001b[0m \u001b[38;5;66;03m# check if the value can be coerced into one of the Union types\u001b[39;00m\n\u001b[1;32m   1090\u001b[0m \u001b[38;5;28;01mfor\u001b[39;00m field \u001b[38;5;129;01min\u001b[39;00m \u001b[38;5;28mself\u001b[39m\u001b[38;5;241m.\u001b[39msub_fields:\n\u001b[0;32m-> 1091\u001b[0m     value, error \u001b[38;5;241m=\u001b[39m \u001b[43mfield\u001b[49m\u001b[38;5;241;43m.\u001b[39;49m\u001b[43mvalidate\u001b[49m\u001b[43m(\u001b[49m\u001b[43mv\u001b[49m\u001b[43m,\u001b[49m\u001b[43m \u001b[49m\u001b[43mvalues\u001b[49m\u001b[43m,\u001b[49m\u001b[43m \u001b[49m\u001b[43mloc\u001b[49m\u001b[38;5;241;43m=\u001b[39;49m\u001b[43mloc\u001b[49m\u001b[43m,\u001b[49m\u001b[43m \u001b[49m\u001b[38;5;28;43mcls\u001b[39;49m\u001b[38;5;241;43m=\u001b[39;49m\u001b[38;5;28;43mcls\u001b[39;49m\u001b[43m)\u001b[49m\n\u001b[1;32m   1092\u001b[0m     \u001b[38;5;28;01mif\u001b[39;00m error:\n\u001b[1;32m   1093\u001b[0m         errors\u001b[38;5;241m.\u001b[39mappend(error)\n",
      "File \u001b[0;32m~/pathway-indexer/.venv/lib/python3.12/site-packages/pydantic/v1/fields.py:881\u001b[0m, in \u001b[0;36mModelField.validate\u001b[0;34m(self, v, values, loc, cls)\u001b[0m\n\u001b[1;32m    878\u001b[0m         \u001b[38;5;28;01mreturn\u001b[39;00m v, ErrorWrapper(NoneIsNotAllowedError(), loc)\n\u001b[1;32m    880\u001b[0m \u001b[38;5;28;01mif\u001b[39;00m \u001b[38;5;28mself\u001b[39m\u001b[38;5;241m.\u001b[39mshape \u001b[38;5;241m==\u001b[39m SHAPE_SINGLETON:\n\u001b[0;32m--> 881\u001b[0m     v, errors \u001b[38;5;241m=\u001b[39m \u001b[38;5;28;43mself\u001b[39;49m\u001b[38;5;241;43m.\u001b[39;49m\u001b[43m_validate_singleton\u001b[49m\u001b[43m(\u001b[49m\u001b[43mv\u001b[49m\u001b[43m,\u001b[49m\u001b[43m \u001b[49m\u001b[43mvalues\u001b[49m\u001b[43m,\u001b[49m\u001b[43m \u001b[49m\u001b[43mloc\u001b[49m\u001b[43m,\u001b[49m\u001b[43m \u001b[49m\u001b[38;5;28;43mcls\u001b[39;49m\u001b[43m)\u001b[49m\n\u001b[1;32m    882\u001b[0m \u001b[38;5;28;01melif\u001b[39;00m \u001b[38;5;28mself\u001b[39m\u001b[38;5;241m.\u001b[39mshape \u001b[38;5;129;01min\u001b[39;00m MAPPING_LIKE_SHAPES:\n\u001b[1;32m    883\u001b[0m     v, errors \u001b[38;5;241m=\u001b[39m \u001b[38;5;28mself\u001b[39m\u001b[38;5;241m.\u001b[39m_validate_mapping_like(v, values, loc, \u001b[38;5;28mcls\u001b[39m)\n",
      "File \u001b[0;32m~/pathway-indexer/.venv/lib/python3.12/site-packages/pydantic/v1/fields.py:1098\u001b[0m, in \u001b[0;36mModelField._validate_singleton\u001b[0;34m(self, v, values, loc, cls)\u001b[0m\n\u001b[1;32m   1096\u001b[0m     \u001b[38;5;28;01mreturn\u001b[39;00m v, errors\n\u001b[1;32m   1097\u001b[0m \u001b[38;5;28;01melse\u001b[39;00m:\n\u001b[0;32m-> 1098\u001b[0m     \u001b[38;5;28;01mreturn\u001b[39;00m \u001b[38;5;28;43mself\u001b[39;49m\u001b[38;5;241;43m.\u001b[39;49m\u001b[43m_apply_validators\u001b[49m\u001b[43m(\u001b[49m\u001b[43mv\u001b[49m\u001b[43m,\u001b[49m\u001b[43m \u001b[49m\u001b[43mvalues\u001b[49m\u001b[43m,\u001b[49m\u001b[43m \u001b[49m\u001b[43mloc\u001b[49m\u001b[43m,\u001b[49m\u001b[43m \u001b[49m\u001b[38;5;28;43mcls\u001b[39;49m\u001b[43m,\u001b[49m\u001b[43m \u001b[49m\u001b[38;5;28;43mself\u001b[39;49m\u001b[38;5;241;43m.\u001b[39;49m\u001b[43mvalidators\u001b[49m\u001b[43m)\u001b[49m\n",
      "File \u001b[0;32m~/pathway-indexer/.venv/lib/python3.12/site-packages/pydantic/v1/fields.py:1154\u001b[0m, in \u001b[0;36mModelField._apply_validators\u001b[0;34m(self, v, values, loc, cls, validators)\u001b[0m\n\u001b[1;32m   1152\u001b[0m \u001b[38;5;28;01mfor\u001b[39;00m validator \u001b[38;5;129;01min\u001b[39;00m validators:\n\u001b[1;32m   1153\u001b[0m     \u001b[38;5;28;01mtry\u001b[39;00m:\n\u001b[0;32m-> 1154\u001b[0m         v \u001b[38;5;241m=\u001b[39m validator(\u001b[38;5;28mcls\u001b[39m, v, values, \u001b[38;5;28mself\u001b[39m, \u001b[38;5;28mself\u001b[39m\u001b[38;5;241m.\u001b[39mmodel_config)\n\u001b[1;32m   1155\u001b[0m     \u001b[38;5;28;01mexcept\u001b[39;00m (\u001b[38;5;167;01mValueError\u001b[39;00m, \u001b[38;5;167;01mTypeError\u001b[39;00m, \u001b[38;5;167;01mAssertionError\u001b[39;00m) \u001b[38;5;28;01mas\u001b[39;00m exc:\n\u001b[1;32m   1156\u001b[0m         \u001b[38;5;28;01mreturn\u001b[39;00m v, ErrorWrapper(exc, loc)\n",
      "\u001b[0;31mKeyboardInterrupt\u001b[0m: "
     ]
    }
   ],
   "source": [
    "# ask Optuna to find the best hyperparameters\n",
    "\n",
    "study_name = \"test_09_22_24_ih\"  # Unique identifier of the study.\n",
    "storage_name = f\"sqlite:///optuna-{study_name}.db\"\n",
    "print(\n",
    "    f\"To see a dashboard, open a terminal, activate the virtual environment, and run: optuna-dashboard {storage_name}\"\n",
    ")\n",
    "study = optuna.create_study(\n",
    "    study_name=study_name,\n",
    "    storage=storage_name,\n",
    "    load_if_exists=True,\n",
    "    direction=\"maximize\",\n",
    ")\n",
    "# study.optimize(\n",
    "#     get_objective_fn(\n",
    "#         documents=documents, ngram_size=ngram_size, question_ngrams=question_ngrams\n",
    "#     ),\n",
    "#     n_trials=n_trials,\n",
    "# )\n",
    "\n",
    "study.optimize(\n",
    "    lambda trial: objective(\n",
    "        trial, documents, ngram_size, qa_df, f_beta=f_beta\n",
    "    ),\n",
    "    n_trials=n_trials,\n",
    ")\n"
   ]
  },
  {
   "cell_type": "code",
   "execution_count": null,
   "metadata": {},
   "outputs": [],
   "source": [
    "study.best_params"
   ]
  },
  {
   "cell_type": "code",
   "execution_count": null,
   "metadata": {},
   "outputs": [],
   "source": []
  }
 ],
 "metadata": {
  "kernelspec": {
   "display_name": "Python (.venv)",
   "language": "python",
   "name": "myenv"
  },
  "language_info": {
   "codemirror_mode": {
    "name": "ipython",
    "version": 3
   },
   "file_extension": ".py",
   "mimetype": "text/x-python",
   "name": "python",
   "nbconvert_exporter": "python",
   "pygments_lexer": "ipython3",
   "version": "3.12.5"
  }
 },
 "nbformat": 4,
 "nbformat_minor": 4
}
