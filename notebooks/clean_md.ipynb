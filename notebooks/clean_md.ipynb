{
 "cells": [
  {
   "cell_type": "code",
   "execution_count": 1,
   "metadata": {},
   "outputs": [],
   "source": [
    "path = '../data/data_16_09_24/clean_md/'"
   ]
  },
  {
   "cell_type": "code",
   "execution_count": 2,
   "metadata": {},
   "outputs": [],
   "source": [
    "import re\n",
    "\n",
    "# def clean_markdown(text):\n",
    "    # text = re.sub(r'```markdown+', '', text)\n",
    "    \n",
    "    # # Remove Markdown backticks\n",
    "    # text = re.sub(r'```+', '', text)\n",
    "\n",
    "    # # Remove inline code backticks (`text`)\n",
    "    # text = re.sub(r'`+', '', text)\n",
    "\n",
    "    # # Replace [link](#) and [link](url) with link text only\n",
    "    # text = re.sub(r'\\[([^\\]]+)\\]\\([^)#]*?\\)', r'\\1', text)\n",
    "\n",
    "    # # Remove lists of links to the same page (e.g., [All](#) [Web Pages](#))\n",
    "    # text = re.sub(r'(\\[([^\\]]+)\\]\\(#\\))+(?:\\s|,)*', '', text)\n",
    "    \n",
    "    # # Remove specific table patterns\n",
    "    # text = re.sub(r'##? Views:\\n\\n\\| \\*\\*Article Overview\\*\\* \\|\\n\\| --- \\|\\n\\|.*?\\|', '', text, flags=re.DOTALL)\n",
    "    \n",
    "    # # Remove specific table patterns\n",
    "    # text = re.sub(r'Views:\\n\\n\\| \\*\\*Article Overview\\*\\* \\|\\n\\| --- \\|\\n\\|.*?\\|', '', text, flags=re.DOTALL)\n",
    "    \n",
    "    # text = re.sub(r'\\n\\s*\\n\\s*\\n', '\\n\\n', text)\n",
    "    \n",
    "    # # Step 2: Convert headers level 1 to list items and remove blank lines between them\n",
    "    # text = re.sub(r'# (.+?)\\n\\n', r'- \\1\\n', text)\n",
    "    \n",
    "    # # Step 3: Convert headers followed by the same text to list items\n",
    "    # text = re.sub(r'# (.+?)\\n\\1\\n', r'- \\1\\n', text)\n",
    "    \n",
    "    # # Replace sequences of four or more blank lines with exactly three blank lines\n",
    "    # text = re.sub(r'(\\n\\s*){4,}', '\\n\\n\\n', text)\n",
    "\n",
    "    # return text\n",
    "    \n",
    "def clean_markdown(text):\n",
    "    text = re.sub(r'```markdown+', '', text)\n",
    "    \n",
    "    # Remove Markdown backticks\n",
    "    text = re.sub(r'```+', '', text)\n",
    "\n",
    "    # Remove inline code backticks (`text`)\n",
    "    text = re.sub(r'`+', '', text)\n",
    "    \n",
    "    # Remove list of links with same anchors\n",
    "    text = re.sub(r'(?:(https?:\\/\\/[^\\s]+)\\s+){2,}', '', text)  # Remove repeated links\n",
    "\n",
    "    # Replace [link](#) and [link](url) with link text only\n",
    "    text = re.sub(r'\\[([^\\]]+)\\]\\(([^)]+)\\)', r'\\1', text)\n",
    "\n",
    "    # Remove lists of links to the same page (e.g., [All](#) [Web Pages](#))\n",
    "    text = re.sub(r'(\\[([^\\]]+)\\]\\(#\\))+(?:\\s|,)*', '', text)\n",
    "    \n",
    "    # Remove specific table headers\n",
    "    text = re.sub(r'\\| \\*\\*Bot Information\\*\\* \\|\\n\\| --- \\|', '', text)\n",
    "    text = re.sub(r'\\| \\*\\*Information\\*\\* \\|\\n\\| --- \\|', '', text)\n",
    "\n",
    "    # Remove sections with a blank line, \"**Information**\", and another blank line\n",
    "    text = re.sub(r'\\n\\s*\\*\\*Information\\*\\*\\s*\\n', '\\n', text)\n",
    "    \n",
    "    # Remove specific table patterns\n",
    "    text = re.sub(r'##? Views:\\n\\n\\| \\*\\*Article Overview\\*\\* \\|\\n\\| --- \\|\\n\\|.*?\\|', '', text, flags=re.DOTALL)\n",
    "    \n",
    "    # Remove specific table patterns\n",
    "    text = re.sub(r'Views:\\n\\n\\| \\*\\*Article Overview\\*\\* \\|\\n\\| --- \\|\\n\\|.*?\\|', '', text, flags=re.DOTALL)\n",
    "    \n",
    "    # Remove consecutive blank lines\n",
    "    text = re.sub(r'\\n\\s*\\n\\s*\\n', '\\n\\n', text)\n",
    "\n",
    "    return text"
   ]
  },
  {
   "cell_type": "code",
   "execution_count": 3,
   "metadata": {},
   "outputs": [],
   "source": [
    "import os\n",
    "\n",
    "def clean_md(input_path, output_path):\n",
    "    # Create the new directory if it doesn't exist\n",
    "    if not os.path.exists(output_path):\n",
    "        os.makedirs(output_path)\n",
    "    \n",
    "    for file in os.listdir(input_path):\n",
    "        if file.endswith('.md'):\n",
    "            print(f'Cleaning file: {file}')\n",
    "            input_file_path = os.path.join(input_path, file)\n",
    "            \n",
    "            # Read the original markdown file\n",
    "            with open(input_file_path, 'r', encoding='utf-8') as f:\n",
    "                content = f.read()\n",
    "                \n",
    "            # Clean the markdown content\n",
    "            cleaned_content = clean_markdown(content)\n",
    "            \n",
    "            # Define the new file path in the output folder\n",
    "            output_file_path = os.path.join(output_path, file)\n",
    "            \n",
    "            # Write the cleaned content to the new file\n",
    "            with open(output_file_path, 'w', encoding='utf-8') as f:\n",
    "                f.write(cleaned_content)\n",
    "            print(f'Cleaned file saved as: {output_file_path}')"
   ]
  },
  {
   "cell_type": "code",
   "execution_count": 4,
   "metadata": {},
   "outputs": [
    {
     "name": "stdout",
     "output_type": "stream",
     "text": [
      "Cleaning file: e0b5c0d2.md\n",
      "Cleaned file saved as: ../data/data_16_09_24/clean_md/out/e0b5c0d2.md\n",
      "Cleaning file: e60e4e8.md\n",
      "Cleaned file saved as: ../data/data_16_09_24/clean_md/out/e60e4e8.md\n",
      "Cleaning file: 8212d98d.md\n",
      "Cleaned file saved as: ../data/data_16_09_24/clean_md/out/8212d98d.md\n",
      "Cleaning file: 67e14179.md\n",
      "Cleaned file saved as: ../data/data_16_09_24/clean_md/out/67e14179.md\n",
      "Cleaning file: ec8f4f3.md\n",
      "Cleaned file saved as: ../data/data_16_09_24/clean_md/out/ec8f4f3.md\n"
     ]
    }
   ],
   "source": [
    "input_directory_path = '../data/data_16_09_24/clean_md/'  \n",
    "output_directory_path = '../data/data_16_09_24/clean_md/out/' \n",
    "clean_md(input_directory_path, output_directory_path)"
   ]
  },
  {
   "cell_type": "code",
   "execution_count": null,
   "metadata": {},
   "outputs": [],
   "source": []
  }
 ],
 "metadata": {
  "kernelspec": {
   "display_name": ".venv",
   "language": "python",
   "name": "python3"
  },
  "language_info": {
   "codemirror_mode": {
    "name": "ipython",
    "version": 3
   },
   "file_extension": ".py",
   "mimetype": "text/x-python",
   "name": "python",
   "nbconvert_exporter": "python",
   "pygments_lexer": "ipython3",
   "version": "3.12.5"
  }
 },
 "nbformat": 4,
 "nbformat_minor": 2
}
