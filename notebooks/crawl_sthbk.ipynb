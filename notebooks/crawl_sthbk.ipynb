{
 "cells": [
  {
   "cell_type": "code",
   "execution_count": 1,
   "metadata": {},
   "outputs": [
    {
     "name": "stdout",
     "output_type": "stream",
     "text": [
      "Requirement already satisfied: pandas in /home/bam/miniconda3/envs/bam/lib/python3.12/site-packages (2.2.2)\n",
      "Requirement already satisfied: requests in /home/bam/miniconda3/envs/bam/lib/python3.12/site-packages (2.32.3)\n",
      "Requirement already satisfied: bs4 in /home/bam/miniconda3/envs/bam/lib/python3.12/site-packages (0.0.2)\n",
      "Requirement already satisfied: numpy in /home/bam/miniconda3/envs/bam/lib/python3.12/site-packages (1.26.4)\n",
      "Requirement already satisfied: python-dateutil>=2.8.2 in /home/bam/miniconda3/envs/bam/lib/python3.12/site-packages (from pandas) (2.9.0.post0)\n",
      "Requirement already satisfied: pytz>=2020.1 in /home/bam/miniconda3/envs/bam/lib/python3.12/site-packages (from pandas) (2024.1)\n",
      "Requirement already satisfied: tzdata>=2022.7 in /home/bam/miniconda3/envs/bam/lib/python3.12/site-packages (from pandas) (2024.1)\n",
      "Requirement already satisfied: charset-normalizer<4,>=2 in /home/bam/miniconda3/envs/bam/lib/python3.12/site-packages (from requests) (3.3.2)\n",
      "Requirement already satisfied: idna<4,>=2.5 in /home/bam/miniconda3/envs/bam/lib/python3.12/site-packages (from requests) (3.7)\n",
      "Requirement already satisfied: urllib3<3,>=1.21.1 in /home/bam/miniconda3/envs/bam/lib/python3.12/site-packages (from requests) (2.2.2)\n",
      "Requirement already satisfied: certifi>=2017.4.17 in /home/bam/miniconda3/envs/bam/lib/python3.12/site-packages (from requests) (2024.7.4)\n",
      "Requirement already satisfied: beautifulsoup4 in /home/bam/miniconda3/envs/bam/lib/python3.12/site-packages (from bs4) (4.12.3)\n",
      "Requirement already satisfied: six>=1.5 in /home/bam/miniconda3/envs/bam/lib/python3.12/site-packages (from python-dateutil>=2.8.2->pandas) (1.16.0)\n",
      "Requirement already satisfied: soupsieve>1.2 in /home/bam/miniconda3/envs/bam/lib/python3.12/site-packages (from beautifulsoup4->bs4) (2.5)\n",
      "Note: you may need to restart the kernel to use updated packages.\n"
     ]
    }
   ],
   "source": [
    "%pip install pandas requests bs4 numpy "
   ]
  },
  {
   "cell_type": "code",
   "execution_count": 2,
   "metadata": {},
   "outputs": [],
   "source": [
    "import os\n",
    "from bs4 import BeautifulSoup\n",
    "import csv\n",
    "import requests"
   ]
  },
  {
   "cell_type": "code",
   "execution_count": 3,
   "metadata": {},
   "outputs": [],
   "source": [
    "url = \"https://www.byupathway.edu/policies/handbook/\"\n",
    "response = requests.get(url)\n",
    "soup = BeautifulSoup(response.content, 'html.parser')"
   ]
  },
  {
   "cell_type": "code",
   "execution_count": 4,
   "metadata": {},
   "outputs": [
    {
     "name": "stdout",
     "output_type": "stream",
     "text": [
      "<class 'bs4.BeautifulSoup'>\n"
     ]
    }
   ],
   "source": [
    "print(type(soup))"
   ]
  },
  {
   "cell_type": "code",
   "execution_count": 9,
   "metadata": {},
   "outputs": [
    {
     "name": "stdout",
     "output_type": "stream",
     "text": [
      "12\n"
     ]
    }
   ],
   "source": [
    "sections = soup.select('bsp-book>ul>li>bsp-chapter>ul>li>bsp-chapter', class_='Chapter')\n",
    "print(len(sections))\n"
   ]
  },
  {
   "cell_type": "code",
   "execution_count": 8,
   "metadata": {},
   "outputs": [],
   "source": [
    "import pandas as pd\n",
    "\n",
    "data = []\n",
    "for section in sections:\n",
    "    div = section.find('div', class_='Chapter-title')\n",
    "    \n",
    "    # does the div exist?\n",
    "    if div:\n",
    "        # if yes, is the first-child a span or an a tag?\n",
    "        span = div.find('span', class_='Link')\n",
    "        anchor = div.find('a', class_='Link')\n",
    "        \n",
    "        # name the section depending on the firstchild\n",
    "        if span:\n",
    "            section_name = span.text.strip()\n",
    "        elif anchor:\n",
    "            section_name = anchor.text.strip()\n",
    "        else:\n",
    "            section_name = None  \n",
    "        # print(section_name)\n",
    "        links = section.find_all('a', class_='Link')\n",
    "        for link in links:\n",
    "            title_span = link.find('span', class_='Link-span')\n",
    "            title = title_span.text.strip() if title_span else ''\n",
    "            url = link['href']\n",
    "            data.append([section_name, title, url])\n",
    "\n",
    "\n",
    "# DataFrame to CSV\n",
    "df = pd.DataFrame(data, columns=['Section', 'Title', 'URL'])\n",
    "df.to_csv('links.csv', index=False)\n"
   ]
  },
  {
   "cell_type": "code",
   "execution_count": 11,
   "metadata": {},
   "outputs": [],
   "source": [
    "df = pd.read_csv('link_output.csv')\n",
    "df.insert(1, 'Subsection', '')  \n",
    "df.to_csv('stdhndbk.csv', index=False)"
   ]
  }
 ],
 "metadata": {
  "kernelspec": {
   "display_name": "bam",
   "language": "python",
   "name": "python3"
  },
  "language_info": {
   "codemirror_mode": {
    "name": "ipython",
    "version": 3
   },
   "file_extension": ".py",
   "mimetype": "text/x-python",
   "name": "python",
   "nbconvert_exporter": "python",
   "pygments_lexer": "ipython3",
   "version": "3.12.4"
  }
 },
 "nbformat": 4,
 "nbformat_minor": 2
}
