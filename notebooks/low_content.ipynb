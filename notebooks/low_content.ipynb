{
 "cells": [
  {
   "cell_type": "code",
   "execution_count": 7,
   "metadata": {},
   "outputs": [],
   "source": [
    "import os\n",
    "import csv\n",
    "import frontmatter\n",
    "from dotenv import load_dotenv"
   ]
  },
  {
   "cell_type": "code",
   "execution_count": 8,
   "metadata": {},
   "outputs": [],
   "source": [
    "sources_path = os.getenv('DATA_PATH') + 'out/from_html'"
   ]
  },
  {
   "cell_type": "code",
   "execution_count": 9,
   "metadata": {},
   "outputs": [],
   "source": [
    "md_list = os.listdir(sources_path)"
   ]
  },
  {
   "cell_type": "code",
   "execution_count": 10,
   "metadata": {},
   "outputs": [],
   "source": [
    "LOW_CONTENT_THRESHOLD = 70\n",
    "\n",
    "output_csv = \"low_content_metadata.csv\"\n",
    "\n",
    "low_content_rows = []\n",
    "\n",
    "first_file_path = os.path.join(sources_path, md_list[0])\n",
    "with open(first_file_path, \"r\", encoding=\"utf-8\") as first_file:\n",
    "    first_metadata = frontmatter.load(first_file).metadata\n",
    "    metadata_keys = list(first_metadata.keys())\n",
    "\n",
    "metadata_keys += ['filepath', 'content_length']\n",
    "\n",
    "for md in md_list:\n",
    "    md_path = os.path.join(sources_path, md)\n",
    "    with open(md_path, \"r\", encoding=\"utf-8\") as file:\n",
    "        post = frontmatter.load(file)\n",
    "        \n",
    "        # Check content length\n",
    "        content_length = len(post.content.strip())\n",
    "        if content_length < LOW_CONTENT_THRESHOLD:\n",
    "            metadata = {key: post.metadata.get(key, \"\") for key in metadata_keys[:-2]}\n",
    "            metadata['filepath'] = md_path\n",
    "            metadata['content_length'] = content_length\n",
    "            low_content_rows.append(metadata)"
   ]
  },
  {
   "cell_type": "code",
   "execution_count": null,
   "metadata": {},
   "outputs": [],
   "source": [
    "low_content_rows"
   ]
  },
  {
   "cell_type": "code",
   "execution_count": null,
   "metadata": {},
   "outputs": [],
   "source": [
    "# Write CSV file\n",
    "with open(output_csv, \"w\", encoding=\"utf-8\", newline=\"\") as csvfile:\n",
    "    writer = csv.DictWriter(csvfile, fieldnames=metadata_keys)\n",
    "    writer.writeheader()\n",
    "    writer.writerows(low_content_rows)\n",
    "\n",
    "print(f\"Metadata de documentos con bajo contenido exportada a {output_csv}\")"
   ]
  },
  {
   "cell_type": "code",
   "execution_count": null,
   "metadata": {},
   "outputs": [],
   "source": []
  }
 ],
 "metadata": {
  "kernelspec": {
   "display_name": ".venv",
   "language": "python",
   "name": "python3"
  },
  "language_info": {
   "codemirror_mode": {
    "name": "ipython",
    "version": 3
   },
   "file_extension": ".py",
   "mimetype": "text/x-python",
   "name": "python",
   "nbconvert_exporter": "python",
   "pygments_lexer": "ipython3",
   "version": "3.12.5"
  }
 },
 "nbformat": 4,
 "nbformat_minor": 2
}
