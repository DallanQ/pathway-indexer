{
 "cells": [
  {
   "cell_type": "code",
   "execution_count": null,
   "metadata": {},
   "outputs": [],
   "source": [
    "%load_ext autoreload\n",
    "%autoreload 2\n",
    "%load_ext dotenv\n",
    "%dotenv"
   ]
  },
  {
   "cell_type": "code",
   "execution_count": null,
   "metadata": {},
   "outputs": [],
   "source": [
    "from collections import defaultdict\n",
    "import os\n",
    "import re\n",
    "\n",
    "# import chromadb\n",
    "from llama_index.core import Document, VectorStoreIndex, set_global_handler\n",
    "from llama_index.core.ingestion import IngestionPipeline\n",
    "from llama_index.core.node_parser import (\n",
    "    SentenceSplitter,\n",
    "    SemanticSplitterNodeParser,\n",
    "    MarkdownNodeParser,\n",
    ")\n",
    "from llama_index.core.vector_stores.types import VectorStoreQueryMode\n",
    "# from llama_index.vector_stores.chroma import ChromaVectorStore\n",
    "# from llama_index.vector_stores.milvus import MilvusVectorStore\n",
    "# from llama_index.vector_stores.qdrant import QdrantVectorStore\n",
    "# from llama_index.embeddings.huggingface import HuggingFaceEmbedding\n",
    "from llama_index.embeddings.openai import OpenAIEmbedding\n",
    "# from llama_index.embeddings.voyageai import VoyageEmbedding\n",
    "import nest_asyncio\n",
    "import optuna\n",
    "import pandas as pd\n",
    "# from pymilvus import MilvusClient\n",
    "# from qdrant_client import QdrantClient, AsyncQdrantClient\n",
    "\n",
    "from utils.retrieve import (\n",
    "    generate_ngrams_from_text,\n",
    "    generate_ngrams_from_texts,\n",
    "    f_score\n",
    ")"
   ]
  },
  {
   "cell_type": "code",
   "execution_count": null,
   "metadata": {},
   "outputs": [],
   "source": [
    "# configure\n",
    "# filename = 'everdell.md'\n",
    "qa_filename = 'question_list.csv'\n",
    "ngram_size = 2  # use 2 instead of 3 so we don't skip 2-word header chunks\n",
    "f_beta = 3      # weight recall 3 times as important as precision in f-score\n",
    "n_trials = 25   # number of Optuna trials\n",
    "\n",
    "pd.set_option('display.max_colwidth', None)"
   ]
  },
  {
   "cell_type": "code",
   "execution_count": null,
   "metadata": {},
   "outputs": [],
   "source": [
    "# qa_df = pd.read_csv(f'data/{qa_filename}', na_filter=False)\n",
    "qa_df = pd.read_csv(qa_filename, na_filter=False)\n",
    "print(len(qa_df))\n",
    "qa_df.head(3)"
   ]
  },
  {
   "cell_type": "code",
   "execution_count": null,
   "metadata": {},
   "outputs": [],
   "source": [
    "# NOTE: we shouldn't include questions in the *test* set right now,\n",
    "# but people are still adding the manual quotes, \n",
    "# and since we have so few questions with manual quotes so far \n",
    "# we will use all of them for this demo.\n",
    "\n",
    "# keep only rows with at least 1 manual quote\n",
    "qa_df = qa_df[qa_df['Quotes'].notna() & (qa_df['Quotes'] != '')]\n",
    "print(len(qa_df))"
   ]
  },
  {
   "cell_type": "code",
   "execution_count": null,
   "metadata": {},
   "outputs": [],
   "source": [
    "from utils.retrieve import extract_question_ngrams\n",
    "\n",
    "# generate bigrams (ngram size=2) for each manual quote\n",
    "# and store them in the question_ngrams dictionary\n",
    "question_ngrams = extract_question_ngrams(qa_df, ngram_size)"
   ]
  },
  {
   "cell_type": "code",
   "execution_count": null,
   "metadata": {},
   "outputs": [],
   "source": []
  }
 ],
 "metadata": {
  "kernelspec": {
   "display_name": ".venv",
   "language": "python",
   "name": "python3"
  },
  "language_info": {
   "codemirror_mode": {
    "name": "ipython",
    "version": 3
   },
   "file_extension": ".py",
   "mimetype": "text/x-python",
   "name": "python",
   "nbconvert_exporter": "python",
   "pygments_lexer": "ipython3",
   "version": "3.12.5"
  }
 },
 "nbformat": 4,
 "nbformat_minor": 2
}
