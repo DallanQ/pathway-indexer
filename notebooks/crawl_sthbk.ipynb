{
 "cells": [
  {
   "cell_type": "code",
   "execution_count": 1,
   "metadata": {},
   "outputs": [],
   "source": [
    "# %pip install pandas requests bs4 numpy\n"
   ]
  },
  {
   "cell_type": "code",
   "execution_count": 2,
   "metadata": {},
   "outputs": [],
   "source": [
    "import os\n",
    "from bs4 import BeautifulSoup\n",
    "import csv\n",
    "import requests\n"
   ]
  },
  {
   "cell_type": "code",
   "execution_count": 3,
   "metadata": {},
   "outputs": [],
   "source": [
    "url = \"https://www.byupathway.edu/policies/handbook/\"\n",
    "index_path = \"../data/data_16_09_24/index/\"\n",
    "response = requests.get(url)\n",
    "soup = BeautifulSoup(response.content, \"html.parser\")\n"
   ]
  },
  {
   "cell_type": "code",
   "execution_count": 4,
   "metadata": {},
   "outputs": [
    {
     "name": "stdout",
     "output_type": "stream",
     "text": [
      "<class 'bs4.BeautifulSoup'>\n"
     ]
    }
   ],
   "source": [
    "print(type(soup))\n"
   ]
  },
  {
   "cell_type": "code",
   "execution_count": 5,
   "metadata": {},
   "outputs": [
    {
     "name": "stdout",
     "output_type": "stream",
     "text": [
      "12\n"
     ]
    }
   ],
   "source": [
    "sections = soup.select(\"bsp-book>ul>li>bsp-chapter>ul>li>bsp-chapter\", class_=\"Chapter\")\n",
    "print(len(sections))\n"
   ]
  },
  {
   "cell_type": "code",
   "execution_count": 6,
   "metadata": {},
   "outputs": [],
   "source": [
    "import pandas as pd\n",
    "\n",
    "data = []\n",
    "for section in sections:\n",
    "    div = section.find(\"div\", class_=\"Chapter-title\")\n",
    "\n",
    "    # does the div exist?\n",
    "    if div:\n",
    "        # if yes, is the first-child a span or an a tag?\n",
    "        span = div.find(\"span\", class_=\"Link\")\n",
    "        anchor = div.find(\"a\", class_=\"Link\")\n",
    "\n",
    "        # name the section depending on the firstchild\n",
    "        if span:\n",
    "            section_name = span.text.strip()\n",
    "        elif anchor:\n",
    "            section_name = anchor.text.strip()\n",
    "        else:\n",
    "            section_name = None\n",
    "        # print(section_name)\n",
    "        links = section.find_all(\"a\", class_=\"Link\")\n",
    "        for link in links:\n",
    "            title_span = link.find(\"span\", class_=\"Link-span\")\n",
    "            title = title_span.text.strip() if title_span else \"\"\n",
    "            url = link[\"href\"]\n",
    "            data.append([section_name, title, url])\n",
    "\n",
    "\n",
    "# DataFrame to CSV\n",
    "df = pd.DataFrame(data, columns=[\"Section\", \"Title\", \"URL\"])\n",
    "# df.to_csv('links.csv', index=False)\n"
   ]
  },
  {
   "cell_type": "code",
   "execution_count": 7,
   "metadata": {},
   "outputs": [],
   "source": [
    "# df = pd.read_csv('links.csv')\n",
    "df.insert(1, \"Subsection\", \"\")\n",
    "# Filter out rows with '#' in the URL\n",
    "df_filtered = df[~df[\"URL\"].str.contains(\"#\")]\n",
    "\n",
    "df_filtered.to_csv(\"stdhndbk.csv\", index=False)\n"
   ]
  },
  {
   "cell_type": "code",
   "execution_count": 8,
   "metadata": {},
   "outputs": [],
   "source": [
    "df = pd.read_csv(\"stdhndbk.csv\")\n",
    "\n",
    "# Filter out rows with '#' in the URL\n",
    "df_filtered = df[~df[\"URL\"].str.contains(\"#\")]\n",
    "# Save the filtered DataFrame back to CSV\n",
    "df_filtered.to_csv(index_path + \"stdhndbk.csv\", index=False)\n"
   ]
  }
 ],
 "metadata": {
  "kernelspec": {
   "display_name": "bam",
   "language": "python",
   "name": "python3"
  },
  "language_info": {
   "codemirror_mode": {
    "name": "ipython",
    "version": 3
   },
   "file_extension": ".py",
   "mimetype": "text/x-python",
   "name": "python",
   "nbconvert_exporter": "python",
   "pygments_lexer": "ipython3",
   "version": "3.12.5"
  }
 },
 "nbformat": 4,
 "nbformat_minor": 2
}
