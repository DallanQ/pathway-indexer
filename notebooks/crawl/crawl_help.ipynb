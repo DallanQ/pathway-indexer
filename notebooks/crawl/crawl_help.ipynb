{
 "cells": [
  {
   "cell_type": "markdown",
   "metadata": {},
   "source": [
    "#### Index"
   ]
  },
  {
   "cell_type": "code",
   "execution_count": null,
   "metadata": {},
   "outputs": [],
   "source": [
    "import pandas as pd\n",
    "import requests\n",
    "from playwright.async_api import async_playwright\n",
    "import zlib\n",
    "from pathway_indexer.parser import parse_files_to_md"
   ]
  },
  {
   "cell_type": "code",
   "execution_count": null,
   "metadata": {},
   "outputs": [],
   "source": [
    "playwright = await async_playwright().start()\n",
    "browser = await playwright.chromium.launch(headless=False)\n",
    "page = await browser.new_page()\n"
   ]
  },
  {
   "cell_type": "code",
   "execution_count": null,
   "metadata": {},
   "outputs": [],
   "source": [
    "def generate_hash_filename(url):\n",
    "    \"\"\"Generate a hash of the URL to use as a filename.\"\"\"\n",
    "    url_hash = zlib.crc32(url.encode())\n",
    "    file_name = f\"{url_hash:x}\"\n",
    "    return file_name\n"
   ]
  },
  {
   "cell_type": "code",
   "execution_count": null,
   "metadata": {},
   "outputs": [],
   "source": [
    "save_path = \"../../data/data_30_10\"\n",
    "url = \"https://help.byupathway.edu/knowledgebase/\"\n"
   ]
  },
  {
   "cell_type": "code",
   "execution_count": null,
   "metadata": {},
   "outputs": [],
   "source": [
    "await page.goto(url)\n",
    "await page.wait_for_load_state()\n"
   ]
  },
  {
   "cell_type": "code",
   "execution_count": null,
   "metadata": {},
   "outputs": [],
   "source": [
    "while True:\n",
    "    try:\n",
    "        await page.click(\"text=Show More...\")\n",
    "        button = page.query_selector(\"#pagingButton\")\n",
    "    except:\n",
    "        break\n"
   ]
  },
  {
   "cell_type": "code",
   "execution_count": null,
   "metadata": {},
   "outputs": [],
   "source": [
    "# get the element with id articleList\n",
    "articles = await page.query_selector(\"#articleList\")\n",
    "# get all the links inside it, the link is the a tag, the title in the h5 tag inside the a tag and the descripcion in the p tag inside the a tag\n",
    "links = await articles.query_selector_all(\"a\")\n",
    "data = []\n",
    "for link in links:\n",
    "    title = await link.query_selector(\"h5\")\n",
    "    description = await link.query_selector(\"p\")\n",
    "    filename = generate_hash_filename(url + await link.get_attribute(\"href\"))\n",
    "    data.append(\n",
    "        {\n",
    "            \"URL\": url + await link.get_attribute(\"href\"),\n",
    "            \"Section\": await title.inner_text(),\n",
    "            \"Subsection\": await description.inner_text(),\n",
    "            \"Title\": await title.inner_text(),\n",
    "            \"filename\": filename,\n",
    "        }\n",
    "    )\n",
    "\n",
    "df = pd.DataFrame(data)\n",
    "df\n"
   ]
  },
  {
   "cell_type": "markdown",
   "metadata": {},
   "source": [
    "#### Crawler"
   ]
  },
  {
   "cell_type": "code",
   "execution_count": null,
   "metadata": {},
   "outputs": [],
   "source": [
    "# save the df in a csv file\n",
    "df.to_csv(f\"{save_path}/articles.csv\", index=False)\n"
   ]
  },
  {
   "cell_type": "code",
   "execution_count": null,
   "metadata": {},
   "outputs": [],
   "source": [
    "for index, row in df.iterrows():\n",
    "    await page.goto(row[\"URL\"])\n",
    "    await page.wait_for_load_state()\n",
    "    content = await page.query_selector(\".wrapper-body\")\n",
    "    post_content = await content.inner_html()\n",
    "    if post_content:\n",
    "        with open(f\"{save_path}/crawl/{row[\"filename\"]}.html\", \"w\") as f:\n",
    "            f.write(post_content)\n",
    "    "
   ]
  },
  {
   "cell_type": "code",
   "execution_count": null,
   "metadata": {},
   "outputs": [],
   "source": [
    "await browser.close()"
   ]
  },
  {
   "cell_type": "markdown",
   "metadata": {},
   "source": [
    "#### Parser"
   ]
  },
  {
   "cell_type": "code",
   "execution_count": null,
   "metadata": {},
   "outputs": [],
   "source": [
    "parse_files_to_md(\n",
    "    input_directory=\"../../data/data_30_10/crawl/\",\n",
    "    out_folder='../../data/data_30_10/out/',\n",
    "    metadata_csv='../../data/data_30_10/articles.csv'\n",
    ")"
   ]
  }
 ],
 "metadata": {
  "kernelspec": {
   "display_name": ".venv",
   "language": "python",
   "name": "python3"
  },
  "language_info": {
   "codemirror_mode": {
    "name": "ipython",
    "version": 3
   },
   "file_extension": ".py",
   "mimetype": "text/x-python",
   "name": "python",
   "nbconvert_exporter": "python",
   "pygments_lexer": "ipython3",
   "version": "3.12.5"
  }
 },
 "nbformat": 4,
 "nbformat_minor": 2
}
