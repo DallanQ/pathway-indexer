{
 "cells": [
  {
   "cell_type": "code",
   "execution_count": 54,
   "metadata": {},
   "outputs": [],
   "source": [
    "import requests\n",
    "import hashlib\n",
    "\n",
    "def get_page_hash(url):\n",
    "    # Download the page\n",
    "    response = requests.get(url)\n",
    "    # Check if the page was downloaded successfully\n",
    "    if response.status_code == 200:\n",
    "        # Encode the page content to utf-8\n",
    "        page_content = response.text.encode('utf-8')\n",
    "        page_hash = hashlib.sha256(page_content).hexdigest()\n",
    "        return page_hash\n",
    "    else:\n",
    "        print(f\"Error al descargar la página. Código de estado: {response.status_code}\")\n",
    "        return None\n",
    "\n"
   ]
  },
  {
   "cell_type": "code",
   "execution_count": 58,
   "metadata": {},
   "outputs": [
    {
     "name": "stdout",
     "output_type": "stream",
     "text": [
      "a205ac32d9e6eaaab3fe3f9d678e1cc1556dd596f253b7634ff5048ee609c59e\n",
      "The page changed.\n"
     ]
    }
   ],
   "source": [
    "# URL of the page to monitor\n",
    "url = \"http://127.0.0.1:5500/notebooks/index.html\"\n",
    "\n",
    "# Hash of the previous page\n",
    "if not previous_hash:\n",
    "    previous_hash = \"\"\n",
    "\n",
    "# Calculate the current hash\n",
    "current_hash = get_page_hash(url)\n",
    "\n",
    "print(current_hash)\n",
    "\n",
    "# Compere the hashes\n",
    "if current_hash:\n",
    "    if current_hash == previous_hash:\n",
    "        print(\"The page has not changed.\")\n",
    "    else:\n",
    "        previous_hash = current_hash\n",
    "        print(\"The page changed.\")\n",
    "else:\n",
    "    print(\"No se pudo obtener el hash de la página.\")"
   ]
  },
  {
   "cell_type": "code",
   "execution_count": null,
   "metadata": {},
   "outputs": [],
   "source": [
    "https://pathway-chatbot-backend.onrender.com"
   ]
  }
 ],
 "metadata": {
  "kernelspec": {
   "display_name": ".venv",
   "language": "python",
   "name": "python3"
  },
  "language_info": {
   "codemirror_mode": {
    "name": "ipython",
    "version": 3
   },
   "file_extension": ".py",
   "mimetype": "text/x-python",
   "name": "python",
   "nbconvert_exporter": "python",
   "pygments_lexer": "ipython3",
   "version": "3.12.5"
  }
 },
 "nbformat": 4,
 "nbformat_minor": 2
}
