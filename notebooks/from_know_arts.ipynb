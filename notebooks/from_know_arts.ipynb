{
 "cells": [
  {
   "cell_type": "code",
   "execution_count": null,
   "metadata": {},
   "outputs": [
    {
     "data": {
      "application/vnd.microsoft.datawrangler.viewer.v0+json": {
       "columns": [
        {
         "name": "index",
         "rawType": "int64",
         "type": "integer"
        },
        {
         "name": "URL",
         "rawType": "object",
         "type": "string"
        },
        {
         "name": "Section",
         "rawType": "object",
         "type": "string"
        },
        {
         "name": "Subsection",
         "rawType": "object",
         "type": "string"
        },
        {
         "name": "Title",
         "rawType": "object",
         "type": "string"
        },
        {
         "name": "filename",
         "rawType": "object",
         "type": "string"
        }
       ],
       "conversionMethod": "pd.DataFrame",
       "ref": "bbf8c15c-0d6e-4009-864a-4937cb5b365f",
       "rows": [
        [
         "0",
         "http://ces.churchofjesuschrist.org/",
         "['Missing']",
         "['Missing']",
         "['The Church Education System']",
         "7c261a85"
        ],
        [
         "1",
         "https://byu-pathway.brightspotcdn.com/04/36/47996f9e4ecdb8ad4e5e73312499/observation-feedback-sheet.pdf",
         "['Missing']",
         "['Missing']",
         "['Lead Student Observation and Feedback Sheet']",
         "5dd155a9"
        ],
        [
         "2",
         "https://catalog.byupathway.edu/",
         "['Missing']",
         "['Missing']",
         "['BYU-Pathway Catalogue']",
         "eb7f596a"
        ],
        [
         "3",
         "https://catalog.byupathway.edu/academicpolicies/institute/institute-religion-course-requirements",
         "['Missing']",
         "['Missing']",
         "['Religion Course Requirements']",
         "48f1df38"
        ],
        [
         "4",
         "https://churchofjesuschrist.sharepoint.com/sites/EnglishConnect",
         "['Missing']",
         "['Missing']",
         "['EnglishConnect Global Launch']",
         "563343d4"
        ]
       ],
       "shape": {
        "columns": 5,
        "rows": 5
       }
      },
      "text/html": [
       "<div>\n",
       "<style scoped>\n",
       "    .dataframe tbody tr th:only-of-type {\n",
       "        vertical-align: middle;\n",
       "    }\n",
       "\n",
       "    .dataframe tbody tr th {\n",
       "        vertical-align: top;\n",
       "    }\n",
       "\n",
       "    .dataframe thead th {\n",
       "        text-align: right;\n",
       "    }\n",
       "</style>\n",
       "<table border=\"1\" class=\"dataframe\">\n",
       "  <thead>\n",
       "    <tr style=\"text-align: right;\">\n",
       "      <th></th>\n",
       "      <th>URL</th>\n",
       "      <th>Section</th>\n",
       "      <th>Subsection</th>\n",
       "      <th>Title</th>\n",
       "      <th>filename</th>\n",
       "    </tr>\n",
       "  </thead>\n",
       "  <tbody>\n",
       "    <tr>\n",
       "      <th>0</th>\n",
       "      <td>http://ces.churchofjesuschrist.org/</td>\n",
       "      <td>['Missing']</td>\n",
       "      <td>['Missing']</td>\n",
       "      <td>['The Church Education System']</td>\n",
       "      <td>7c261a85</td>\n",
       "    </tr>\n",
       "    <tr>\n",
       "      <th>1</th>\n",
       "      <td>https://byu-pathway.brightspotcdn.com/04/36/47...</td>\n",
       "      <td>['Missing']</td>\n",
       "      <td>['Missing']</td>\n",
       "      <td>['Lead Student Observation and Feedback Sheet']</td>\n",
       "      <td>5dd155a9</td>\n",
       "    </tr>\n",
       "    <tr>\n",
       "      <th>2</th>\n",
       "      <td>https://catalog.byupathway.edu/</td>\n",
       "      <td>['Missing']</td>\n",
       "      <td>['Missing']</td>\n",
       "      <td>['BYU-Pathway Catalogue']</td>\n",
       "      <td>eb7f596a</td>\n",
       "    </tr>\n",
       "    <tr>\n",
       "      <th>3</th>\n",
       "      <td>https://catalog.byupathway.edu/academicpolicie...</td>\n",
       "      <td>['Missing']</td>\n",
       "      <td>['Missing']</td>\n",
       "      <td>['Religion Course Requirements']</td>\n",
       "      <td>48f1df38</td>\n",
       "    </tr>\n",
       "    <tr>\n",
       "      <th>4</th>\n",
       "      <td>https://churchofjesuschrist.sharepoint.com/sit...</td>\n",
       "      <td>['Missing']</td>\n",
       "      <td>['Missing']</td>\n",
       "      <td>['EnglishConnect Global Launch']</td>\n",
       "      <td>563343d4</td>\n",
       "    </tr>\n",
       "  </tbody>\n",
       "</table>\n",
       "</div>"
      ],
      "text/plain": [
       "                                                 URL      Section  \\\n",
       "0                http://ces.churchofjesuschrist.org/  ['Missing']   \n",
       "1  https://byu-pathway.brightspotcdn.com/04/36/47...  ['Missing']   \n",
       "2                    https://catalog.byupathway.edu/  ['Missing']   \n",
       "3  https://catalog.byupathway.edu/academicpolicie...  ['Missing']   \n",
       "4  https://churchofjesuschrist.sharepoint.com/sit...  ['Missing']   \n",
       "\n",
       "    Subsection                                            Title  filename  \n",
       "0  ['Missing']                  ['The Church Education System']  7c261a85  \n",
       "1  ['Missing']  ['Lead Student Observation and Feedback Sheet']  5dd155a9  \n",
       "2  ['Missing']                        ['BYU-Pathway Catalogue']  eb7f596a  \n",
       "3  ['Missing']                 ['Religion Course Requirements']  48f1df38  \n",
       "4  ['Missing']                 ['EnglishConnect Global Launch']  563343d4  "
      ]
     },
     "execution_count": 24,
     "metadata": {},
     "output_type": "execute_result"
    }
   ],
   "source": [
    "# load the ./adata_02_12/all_links.csv\n",
    "\n",
    "import pandas as pd\n",
    "\n",
    "df = pd.read_csv(\"../data/adata_02_12/all_links.csv\")\n",
    "\n",
    "df.head()\n"
   ]
  },
  {
   "cell_type": "code",
   "execution_count": null,
   "metadata": {},
   "outputs": [
    {
     "data": {
      "application/vnd.microsoft.datawrangler.viewer.v0+json": {
       "columns": [
        {
         "name": "index",
         "rawType": "int64",
         "type": "integer"
        },
        {
         "name": "URL",
         "rawType": "object",
         "type": "string"
        },
        {
         "name": "Section",
         "rawType": "object",
         "type": "string"
        },
        {
         "name": "Subsection",
         "rawType": "object",
         "type": "string"
        },
        {
         "name": "Title",
         "rawType": "object",
         "type": "string"
        },
        {
         "name": "filename",
         "rawType": "object",
         "type": "string"
        }
       ],
       "conversionMethod": "pd.DataFrame",
       "ref": "40ebc509-b44b-4f91-9503-d57d3bceea3e",
       "rows": [
        [
         "8",
         "https://help.byupathway.edu/knowledgebase/article/?kb=KA-01134",
         "['Bad Debt on PATH Account']",
         "['What should I do if I have bad debt listed on my PATH account?']",
         "['Bad Debt on PATH Account']",
         "2e83d504"
        ],
        [
         "9",
         "https://help.byupathway.edu/knowledgebase/article/?kb=KA-01161",
         "['Student Record Privacy Policies (FERPA)']",
         "['Explanation of our FERPA policies.']",
         "['Student Record Privacy Policies (FERPA)']",
         "239ed5ce"
        ],
        [
         "10",
         "https://help.byupathway.edu/knowledgebase/article/?kb=KA-01218",
         "['Payment Errors']",
         "['Payment Errors You Might Encounter.']",
         "['Payment Errors']",
         "174545f4"
        ],
        [
         "11",
         "https://help.byupathway.edu/knowledgebase/article/?kb=KA-01219",
         "['Financial Aid Available to PathwayConnect Students']",
         "['What Financial Aid is available to me as a PathwayConnect student?']",
         "['Financial Aid Available to PathwayConnect Students']",
         "60427562"
        ],
        [
         "12",
         "https://help.byupathway.edu/knowledgebase/article/?kb=KA-01370",
         "['Tuition Refunds']",
         "['How to receive a tuition refund.']",
         "['Tuition Refunds']",
         "4e060077"
        ]
       ],
       "shape": {
        "columns": 5,
        "rows": 5
       }
      },
      "text/html": [
       "<div>\n",
       "<style scoped>\n",
       "    .dataframe tbody tr th:only-of-type {\n",
       "        vertical-align: middle;\n",
       "    }\n",
       "\n",
       "    .dataframe tbody tr th {\n",
       "        vertical-align: top;\n",
       "    }\n",
       "\n",
       "    .dataframe thead th {\n",
       "        text-align: right;\n",
       "    }\n",
       "</style>\n",
       "<table border=\"1\" class=\"dataframe\">\n",
       "  <thead>\n",
       "    <tr style=\"text-align: right;\">\n",
       "      <th></th>\n",
       "      <th>URL</th>\n",
       "      <th>Section</th>\n",
       "      <th>Subsection</th>\n",
       "      <th>Title</th>\n",
       "      <th>filename</th>\n",
       "    </tr>\n",
       "  </thead>\n",
       "  <tbody>\n",
       "    <tr>\n",
       "      <th>8</th>\n",
       "      <td>https://help.byupathway.edu/knowledgebase/arti...</td>\n",
       "      <td>['Bad Debt on PATH Account']</td>\n",
       "      <td>['What should I do if I have bad debt listed o...</td>\n",
       "      <td>['Bad Debt on PATH Account']</td>\n",
       "      <td>2e83d504</td>\n",
       "    </tr>\n",
       "    <tr>\n",
       "      <th>9</th>\n",
       "      <td>https://help.byupathway.edu/knowledgebase/arti...</td>\n",
       "      <td>['Student Record Privacy Policies (FERPA)']</td>\n",
       "      <td>['Explanation of our FERPA policies.']</td>\n",
       "      <td>['Student Record Privacy Policies (FERPA)']</td>\n",
       "      <td>239ed5ce</td>\n",
       "    </tr>\n",
       "    <tr>\n",
       "      <th>10</th>\n",
       "      <td>https://help.byupathway.edu/knowledgebase/arti...</td>\n",
       "      <td>['Payment Errors']</td>\n",
       "      <td>['Payment Errors You Might Encounter.']</td>\n",
       "      <td>['Payment Errors']</td>\n",
       "      <td>174545f4</td>\n",
       "    </tr>\n",
       "    <tr>\n",
       "      <th>11</th>\n",
       "      <td>https://help.byupathway.edu/knowledgebase/arti...</td>\n",
       "      <td>['Financial Aid Available to PathwayConnect St...</td>\n",
       "      <td>['What Financial Aid is available to me as a P...</td>\n",
       "      <td>['Financial Aid Available to PathwayConnect St...</td>\n",
       "      <td>60427562</td>\n",
       "    </tr>\n",
       "    <tr>\n",
       "      <th>12</th>\n",
       "      <td>https://help.byupathway.edu/knowledgebase/arti...</td>\n",
       "      <td>['Tuition Refunds']</td>\n",
       "      <td>['How to receive a tuition refund.']</td>\n",
       "      <td>['Tuition Refunds']</td>\n",
       "      <td>4e060077</td>\n",
       "    </tr>\n",
       "  </tbody>\n",
       "</table>\n",
       "</div>"
      ],
      "text/plain": [
       "                                                  URL  \\\n",
       "8   https://help.byupathway.edu/knowledgebase/arti...   \n",
       "9   https://help.byupathway.edu/knowledgebase/arti...   \n",
       "10  https://help.byupathway.edu/knowledgebase/arti...   \n",
       "11  https://help.byupathway.edu/knowledgebase/arti...   \n",
       "12  https://help.byupathway.edu/knowledgebase/arti...   \n",
       "\n",
       "                                              Section  \\\n",
       "8                        ['Bad Debt on PATH Account']   \n",
       "9         ['Student Record Privacy Policies (FERPA)']   \n",
       "10                                 ['Payment Errors']   \n",
       "11  ['Financial Aid Available to PathwayConnect St...   \n",
       "12                                ['Tuition Refunds']   \n",
       "\n",
       "                                           Subsection  \\\n",
       "8   ['What should I do if I have bad debt listed o...   \n",
       "9              ['Explanation of our FERPA policies.']   \n",
       "10            ['Payment Errors You Might Encounter.']   \n",
       "11  ['What Financial Aid is available to me as a P...   \n",
       "12               ['How to receive a tuition refund.']   \n",
       "\n",
       "                                                Title  filename  \n",
       "8                        ['Bad Debt on PATH Account']  2e83d504  \n",
       "9         ['Student Record Privacy Policies (FERPA)']  239ed5ce  \n",
       "10                                 ['Payment Errors']  174545f4  \n",
       "11  ['Financial Aid Available to PathwayConnect St...  60427562  \n",
       "12                                ['Tuition Refunds']  4e060077  "
      ]
     },
     "execution_count": 25,
     "metadata": {},
     "output_type": "execute_result"
    }
   ],
   "source": [
    "# filter the URL from help.byupathway.edu/knowledgebase/article\n",
    "df = df[df[\"URL\"].str.contains(\"help.byupathway.edu/knowledgebase/article\")]\n",
    "df.head()\n"
   ]
  },
  {
   "cell_type": "code",
   "execution_count": null,
   "metadata": {},
   "outputs": [
    {
     "data": {
      "application/vnd.microsoft.datawrangler.viewer.v0+json": {
       "columns": [
        {
         "name": "index",
         "rawType": "int64",
         "type": "integer"
        },
        {
         "name": "URL",
         "rawType": "object",
         "type": "string"
        },
        {
         "name": "Section",
         "rawType": "object",
         "type": "string"
        },
        {
         "name": "Subsection",
         "rawType": "object",
         "type": "string"
        },
        {
         "name": "Title",
         "rawType": "object",
         "type": "string"
        },
        {
         "name": "filename",
         "rawType": "object",
         "type": "string"
        }
       ],
       "conversionMethod": "pd.DataFrame",
       "ref": "290c7404-57b1-45ac-af3e-6ab983dc3f53",
       "rows": [
        [
         "8",
         "https://help.byupathway.edu/knowledgebase/article/?kb=KA-01134",
         "['Bad Debt on PATH Account']",
         "['What should I do if I have bad debt listed on my PATH account?']",
         "['Bad Debt on PATH Account']",
         "../data/adata_02_12/out/from_html/2e83d504.md"
        ],
        [
         "9",
         "https://help.byupathway.edu/knowledgebase/article/?kb=KA-01161",
         "['Student Record Privacy Policies (FERPA)']",
         "['Explanation of our FERPA policies.']",
         "['Student Record Privacy Policies (FERPA)']",
         "../data/adata_02_12/out/from_html/239ed5ce.md"
        ],
        [
         "10",
         "https://help.byupathway.edu/knowledgebase/article/?kb=KA-01218",
         "['Payment Errors']",
         "['Payment Errors You Might Encounter.']",
         "['Payment Errors']",
         "../data/adata_02_12/out/from_html/174545f4.md"
        ],
        [
         "11",
         "https://help.byupathway.edu/knowledgebase/article/?kb=KA-01219",
         "['Financial Aid Available to PathwayConnect Students']",
         "['What Financial Aid is available to me as a PathwayConnect student?']",
         "['Financial Aid Available to PathwayConnect Students']",
         "../data/adata_02_12/out/from_html/60427562.md"
        ],
        [
         "12",
         "https://help.byupathway.edu/knowledgebase/article/?kb=KA-01370",
         "['Tuition Refunds']",
         "['How to receive a tuition refund.']",
         "['Tuition Refunds']",
         "../data/adata_02_12/out/from_html/4e060077.md"
        ]
       ],
       "shape": {
        "columns": 5,
        "rows": 5
       }
      },
      "text/html": [
       "<div>\n",
       "<style scoped>\n",
       "    .dataframe tbody tr th:only-of-type {\n",
       "        vertical-align: middle;\n",
       "    }\n",
       "\n",
       "    .dataframe tbody tr th {\n",
       "        vertical-align: top;\n",
       "    }\n",
       "\n",
       "    .dataframe thead th {\n",
       "        text-align: right;\n",
       "    }\n",
       "</style>\n",
       "<table border=\"1\" class=\"dataframe\">\n",
       "  <thead>\n",
       "    <tr style=\"text-align: right;\">\n",
       "      <th></th>\n",
       "      <th>URL</th>\n",
       "      <th>Section</th>\n",
       "      <th>Subsection</th>\n",
       "      <th>Title</th>\n",
       "      <th>filename</th>\n",
       "    </tr>\n",
       "  </thead>\n",
       "  <tbody>\n",
       "    <tr>\n",
       "      <th>8</th>\n",
       "      <td>https://help.byupathway.edu/knowledgebase/arti...</td>\n",
       "      <td>['Bad Debt on PATH Account']</td>\n",
       "      <td>['What should I do if I have bad debt listed o...</td>\n",
       "      <td>['Bad Debt on PATH Account']</td>\n",
       "      <td>../data/adata_02_12/out/from_html/2e83d504.md</td>\n",
       "    </tr>\n",
       "    <tr>\n",
       "      <th>9</th>\n",
       "      <td>https://help.byupathway.edu/knowledgebase/arti...</td>\n",
       "      <td>['Student Record Privacy Policies (FERPA)']</td>\n",
       "      <td>['Explanation of our FERPA policies.']</td>\n",
       "      <td>['Student Record Privacy Policies (FERPA)']</td>\n",
       "      <td>../data/adata_02_12/out/from_html/239ed5ce.md</td>\n",
       "    </tr>\n",
       "    <tr>\n",
       "      <th>10</th>\n",
       "      <td>https://help.byupathway.edu/knowledgebase/arti...</td>\n",
       "      <td>['Payment Errors']</td>\n",
       "      <td>['Payment Errors You Might Encounter.']</td>\n",
       "      <td>['Payment Errors']</td>\n",
       "      <td>../data/adata_02_12/out/from_html/174545f4.md</td>\n",
       "    </tr>\n",
       "    <tr>\n",
       "      <th>11</th>\n",
       "      <td>https://help.byupathway.edu/knowledgebase/arti...</td>\n",
       "      <td>['Financial Aid Available to PathwayConnect St...</td>\n",
       "      <td>['What Financial Aid is available to me as a P...</td>\n",
       "      <td>['Financial Aid Available to PathwayConnect St...</td>\n",
       "      <td>../data/adata_02_12/out/from_html/60427562.md</td>\n",
       "    </tr>\n",
       "    <tr>\n",
       "      <th>12</th>\n",
       "      <td>https://help.byupathway.edu/knowledgebase/arti...</td>\n",
       "      <td>['Tuition Refunds']</td>\n",
       "      <td>['How to receive a tuition refund.']</td>\n",
       "      <td>['Tuition Refunds']</td>\n",
       "      <td>../data/adata_02_12/out/from_html/4e060077.md</td>\n",
       "    </tr>\n",
       "  </tbody>\n",
       "</table>\n",
       "</div>"
      ],
      "text/plain": [
       "                                                  URL  \\\n",
       "8   https://help.byupathway.edu/knowledgebase/arti...   \n",
       "9   https://help.byupathway.edu/knowledgebase/arti...   \n",
       "10  https://help.byupathway.edu/knowledgebase/arti...   \n",
       "11  https://help.byupathway.edu/knowledgebase/arti...   \n",
       "12  https://help.byupathway.edu/knowledgebase/arti...   \n",
       "\n",
       "                                              Section  \\\n",
       "8                        ['Bad Debt on PATH Account']   \n",
       "9         ['Student Record Privacy Policies (FERPA)']   \n",
       "10                                 ['Payment Errors']   \n",
       "11  ['Financial Aid Available to PathwayConnect St...   \n",
       "12                                ['Tuition Refunds']   \n",
       "\n",
       "                                           Subsection  \\\n",
       "8   ['What should I do if I have bad debt listed o...   \n",
       "9              ['Explanation of our FERPA policies.']   \n",
       "10            ['Payment Errors You Might Encounter.']   \n",
       "11  ['What Financial Aid is available to me as a P...   \n",
       "12               ['How to receive a tuition refund.']   \n",
       "\n",
       "                                                Title  \\\n",
       "8                        ['Bad Debt on PATH Account']   \n",
       "9         ['Student Record Privacy Policies (FERPA)']   \n",
       "10                                 ['Payment Errors']   \n",
       "11  ['Financial Aid Available to PathwayConnect St...   \n",
       "12                                ['Tuition Refunds']   \n",
       "\n",
       "                                         filename  \n",
       "8   ../data/adata_02_12/out/from_html/2e83d504.md  \n",
       "9   ../data/adata_02_12/out/from_html/239ed5ce.md  \n",
       "10  ../data/adata_02_12/out/from_html/174545f4.md  \n",
       "11  ../data/adata_02_12/out/from_html/60427562.md  \n",
       "12  ../data/adata_02_12/out/from_html/4e060077.md  "
      ]
     },
     "execution_count": 26,
     "metadata": {},
     "output_type": "execute_result"
    }
   ],
   "source": [
    "# add .md to the end of the filename\n",
    "df[\"filename\"] = \"../data/adata_02_12/out/from_html/\" + df[\"filename\"] + \".md\"\n",
    "df.head()\n"
   ]
  },
  {
   "cell_type": "code",
   "execution_count": null,
   "metadata": {},
   "outputs": [
    {
     "name": "stdout",
     "output_type": "stream",
     "text": [
      "Archivos copiados exitosamente a ../data/know_art/\n"
     ]
    }
   ],
   "source": [
    "# based on the filename, create a copy of the file and paste it to the location \"../know_art\"\n",
    "import shutil\n",
    "import os\n",
    "\n",
    "# Definir la carpeta de destino\n",
    "dest_folder = \"../data/know_art/\"\n",
    "\n",
    "# Crear la carpeta si no existe\n",
    "os.makedirs(dest_folder, exist_ok=True)\n",
    "\n",
    "# Copiar los archivos\n",
    "for file in df[\"filename\"]:\n",
    "    shutil.copy(file, os.path.join(dest_folder, os.path.basename(file)))\n",
    "\n",
    "print(\"Archivos copiados exitosamente a\", dest_folder)\n"
   ]
  }
 ],
 "metadata": {
  "kernelspec": {
   "display_name": ".venv",
   "language": "python",
   "name": "python3"
  },
  "language_info": {
   "codemirror_mode": {
    "name": "ipython",
    "version": 3
   },
   "file_extension": ".py",
   "mimetype": "text/x-python",
   "name": "python",
   "nbconvert_exporter": "python",
   "pygments_lexer": "ipython3",
   "version": "3.12.5"
  }
 },
 "nbformat": 4,
 "nbformat_minor": 2
}
