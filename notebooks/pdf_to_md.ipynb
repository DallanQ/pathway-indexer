{
 "cells": [
  {
   "cell_type": "code",
   "execution_count": 1,
   "metadata": {},
   "outputs": [],
   "source": [
    "import nest_asyncio\n",
    "from dotenv import load_dotenv\n",
    "from llama_parse import LlamaParse\n",
    "from llama_index.core import SimpleDirectoryReader\n",
    "\n",
    "# with unstructured\n",
    "\n",
    "from unstructured_client import UnstructuredClient\n",
    "from unstructured_client.models import shared\n",
    "from unstructured_client.models.errors import SDKError\n",
    "import os\n",
    "import time\n",
    "\n",
    "from utils.markdown_utils import unstructured_elements_to_markdown\n"
   ]
  },
  {
   "cell_type": "code",
   "execution_count": 2,
   "metadata": {},
   "outputs": [
    {
     "data": {
      "text/plain": [
       "True"
      ]
     },
     "execution_count": 2,
     "metadata": {},
     "output_type": "execute_result"
    }
   ],
   "source": [
    "nest_asyncio.apply()\n",
    "load_dotenv()\n"
   ]
  },
  {
   "cell_type": "code",
   "execution_count": 3,
   "metadata": {},
   "outputs": [
    {
     "name": "stdout",
     "output_type": "stream",
     "text": [
      "len: 329\n"
     ]
    }
   ],
   "source": [
    "out_path = \"../data/out/\"\n",
    "origin_path = \"../data/pdf/\"\n",
    "\n",
    "# Get all the filenames from the origin path\n",
    "file_names = os.listdir(origin_path)\n",
    "file_names.sort()\n",
    "file_names = [{\"path\": name} for name in file_names]\n",
    "\n",
    "print(\"len:\", len(file_names))\n"
   ]
  },
  {
   "cell_type": "markdown",
   "metadata": {},
   "source": [
    "## Converting PDF data to TXT\n"
   ]
  },
  {
   "cell_type": "code",
   "execution_count": 4,
   "metadata": {},
   "outputs": [],
   "source": [
    "s = UnstructuredClient(\n",
    "    api_key_auth=os.environ[\"UNSTRUCTURED_API_KEY\"],\n",
    "    server_url=os.environ[\"UNSTRUCTURED_SERVER_URL\"],\n",
    ")\n"
   ]
  },
  {
   "cell_type": "code",
   "execution_count": 5,
   "metadata": {},
   "outputs": [],
   "source": [
    "def parse_pdf_to_txt(file, idx):\n",
    "    file_path = origin_path + file[\"path\"]\n",
    "    print(\"Processing file:\", file_path)\n",
    "    with open(file_path, \"rb\") as f:\n",
    "        # Note that this currently only supports a single file\n",
    "        files = shared.Files(\n",
    "            content=f.read(),\n",
    "            file_name=file_path,\n",
    "        )\n",
    "\n",
    "    req = shared.PartitionParameters(\n",
    "        files=files,\n",
    "        # Other partition params\n",
    "        strategy=\"fast\",\n",
    "        languages=[\"eng\"],\n",
    "        # split_pdf_allow_failed=True\n",
    "        # pdf_infer_table_structure=True,\n",
    "        # skip_infer_table_types=[],\n",
    "    )\n",
    "\n",
    "    try:\n",
    "        resp = s.general.partition(req)\n",
    "        # print(len(resp.elements))\n",
    "    except SDKError as e:\n",
    "        print(e)\n",
    "        return True\n",
    "    except Exception as e:  # if the SDKError is not caught\n",
    "        print(\"Another exception\", e)\n",
    "        return True\n",
    "    simple_md = unstructured_elements_to_markdown(resp.elements)\n",
    "\n",
    "    # get the size of the file\n",
    "    file[\"size\"] = len(simple_md)\n",
    "    # file_names[idx] = {\"path\": file[\"path\"], \"size\": len(simple_md)}\n",
    "\n",
    "    file_out = out_path + f\"txt/\" + file[\"path\"].replace(\".pdf\", \".txt\")\n",
    "    # file_out = file_out.replace(\"pdf\", \"txt\")\n",
    "\n",
    "    with open(file_out, \"w\") as f:\n",
    "        f.write(simple_md)\n",
    "\n",
    "    return False\n"
   ]
  },
  {
   "cell_type": "code",
   "execution_count": null,
   "metadata": {},
   "outputs": [],
   "source": [
    "for idx, file in enumerate(file_names):\n",
    "    with_error = parse_pdf_to_txt(file, idx)\n",
    "    try_limit = 3\n",
    "    while with_error and try_limit > 0:\n",
    "        with_error = parse_pdf_to_txt(file, idx)\n",
    "        try_limit -= 1\n",
    "        time.sleep(4)\n",
    "\n",
    "    if try_limit == 0:\n",
    "        print(\"Error processing file:\", file[\"path\"])\n",
    "        file[\"unstructured_error\"] = True\n",
    "\n",
    "    time.sleep(2)\n"
   ]
  },
  {
   "cell_type": "code",
   "execution_count": 6,
   "metadata": {},
   "outputs": [
    {
     "name": "stdout",
     "output_type": "stream",
     "text": [
      "[]\n"
     ]
    }
   ],
   "source": [
    "# process the files with errors\n",
    "file_names = [file for file in file_names if \"unstructured_error\" in file]\n",
    "print(file_names)\n"
   ]
  },
  {
   "cell_type": "markdown",
   "metadata": {},
   "source": [
    "Manual verification the files with smallest size\n"
   ]
  },
  {
   "cell_type": "markdown",
   "metadata": {},
   "source": [
    "IMPORTANT: The next piece of code is unnecessary, was writed just because the original file_names war empty after running the last function (probably a bug in the function or by ram memory).\n"
   ]
  },
  {
   "cell_type": "code",
   "execution_count": 15,
   "metadata": {},
   "outputs": [
    {
     "name": "stdout",
     "output_type": "stream",
     "text": [
      "[\n",
      "    {\n",
      "        \"path\": \"1--ELA-Pilotpdf.pdf\",\n",
      "        \"size\": 1372\n",
      "    },\n",
      "    {\n",
      "        \"path\": \"10-Accessing-Your-Student-List-in-PATHpdf.pdf\",\n",
      "        \"size\": 744\n",
      "    },\n",
      "    {\n",
      "        \"path\": \"100-Evaluating-Your-Gatheringpdf.pdf\",\n",
      "        \"size\": 2854\n",
      "    },\n",
      "    {\n",
      "        \"path\": \"101-Explain-Auto-drop-to-Students-for-PCpdf.pdf\",\n",
      "        \"size\": 1789\n",
      "    },\n",
      "    {\n",
      "        \"path\": \"102-Explain-Gospel-Resourcespdf.pdf\",\n",
      "        \"size\": 1520\n",
      "    },\n",
      "    {\n",
      "        \"path\": \"103-Explain-the-Block-Schedulepdf.pdf\",\n",
      "        \"size\": 1765\n",
      "    },\n",
      "    {\n",
      "        \"path\": \"104-Explaining-BYUPW-to-Potential-Studentspdf.pdf\",\n",
      "        \"size\": 8854\n",
      "    },\n",
      "    {\n",
      "        \"path\": \"105-FRENCH-CSM-Application-Octpdf.pdf\",\n",
      "        \"size\": 7752\n",
      "    },\n",
      "    {\n",
      "        \"path\": \"106-Facilitating-a-Virtual-EC-Gatheringpdf.pdf\",\n",
      "        \"size\": 2273\n",
      "    },\n",
      "    {\n",
      "        \"path\": \"107-Facilitating-an-In-Person-EC-Gatheringpdf.pdf\",\n",
      "        \"size\": 2162\n",
      "    },\n",
      "    {\n",
      "        \"path\": \"108-Find-Student-Informationpdf.pdf\",\n",
      "        \"size\": 1087\n",
      "    },\n",
      "    {\n",
      "        \"path\": \"109-Find-Student-Personal-Informationpdf.pdf\",\n",
      "        \"size\": 1136\n",
      "    },\n",
      "    {\n",
      "        \"path\": \"11-Activate-Your-New-Zoom-Accountpdf.pdf\",\n",
      "        \"size\": 529\n",
      "    },\n",
      "    {\n",
      "        \"path\": \"110-Find-Tuition-Balance-and-Paymentspdf.pdf\",\n",
      "        \"size\": 1381\n",
      "    },\n",
      "    {\n",
      "        \"path\": \"111-Find-a-Learners-Enrollment-Informationpdf.pdf\",\n",
      "        \"size\": 782\n",
      "    },\n",
      "    {\n",
      "        \"path\": \"112-Find-a-Learners-ID-Numberpdf.pdf\",\n",
      "        \"size\": 571\n",
      "    },\n",
      "    {\n",
      "        \"path\": \"113-Find-a-Learners-Personal-Informationpdf.pdf\",\n",
      "        \"size\": 794\n",
      "    },\n",
      "    {\n",
      "        \"path\": \"114-Find-a-Learners-Tuition-Payment-and-Balancepdf.pdf\",\n",
      "        \"size\": 1111\n",
      "    },\n",
      "    {\n",
      "        \"path\": \"115-Find-a-Students-Contact-Informationpdf.pdf\",\n",
      "        \"size\": 773\n",
      "    },\n",
      "    {\n",
      "        \"path\": \"116-Find-a-Students-ID-Numberpdf.pdf\",\n",
      "        \"size\": 832\n",
      "    },\n",
      "    {\n",
      "        \"path\": \"117-Finding--Using-PowerBI-Reportspdf.pdf\",\n",
      "        \"size\": 2438\n",
      "    },\n",
      "    {\n",
      "        \"path\": \"118-Finding-Learner-Information-ECpdf.pdf\",\n",
      "        \"size\": 2407\n",
      "    },\n",
      "    {\n",
      "        \"path\": \"119-Finding-Student-Information-in-PATH.pdf\",\n",
      "        \"size\": 2525\n",
      "    },\n",
      "    {\n",
      "        \"path\": \"12-Adjusting-for-Daylight-Savings-Timepdf.pdf\",\n",
      "        \"size\": 550\n",
      "    },\n",
      "    {\n",
      "        \"path\": \"120-Finding-Students-with-Duplicate-Path-Accountspdf.pdf\",\n",
      "        \"size\": 5885\n",
      "    },\n",
      "    {\n",
      "        \"path\": \"121-Finding-Your-Location-in-PATH-ECpdf.pdf\",\n",
      "        \"size\": 621\n",
      "    },\n",
      "    {\n",
      "        \"path\": \"122-Finding-Your-Location-in-PATHpdf.pdf\",\n",
      "        \"size\": 364\n",
      "    },\n",
      "    {\n",
      "        \"path\": \"123-Finding-or-Updating-Your-Host-Keypdf.pdf\",\n",
      "        \"size\": 694\n",
      "    },\n",
      "    {\n",
      "        \"path\": \"124-Finding-the-Correct-BYU-Pathway-Applicationpdf.pdf\",\n",
      "        \"size\": 1606\n",
      "    },\n",
      "    {\n",
      "        \"path\": \"125-Firesides-and-Devotionalspdf.pdf\",\n",
      "        \"size\": 1953\n",
      "    },\n",
      "    {\n",
      "        \"path\": \"126-First-Contact-Messages-for-Learnerspdf.pdf\",\n",
      "        \"size\": 5449\n",
      "    },\n",
      "    {\n",
      "        \"path\": \"127-Flier-Webinar-US-Canada-Missionaries-Fall-pdf.pdf\",\n",
      "        \"size\": 814\n",
      "    },\n",
      "    {\n",
      "        \"path\": \"128-Focus-Modepdf.pdf\",\n",
      "        \"size\": 561\n",
      "    },\n",
      "    {\n",
      "        \"path\": \"129-Forming-Team-Project-Groups-for-PC-pdf.pdf\",\n",
      "        \"size\": 2810\n",
      "    },\n",
      "    {\n",
      "        \"path\": \"13-Apply-For-and-Check-Status-of-HJG-Scholarshippdf.pdf\",\n",
      "        \"size\": 415\n",
      "    },\n",
      "    {\n",
      "        \"path\": \"130-GERMAN-CSM-Application-Octpdf.pdf\",\n",
      "        \"size\": 7533\n",
      "    },\n",
      "    {\n",
      "        \"path\": \"131-Gallery-and-Speaker-Viewpdf.pdf\",\n",
      "        \"size\": 641\n",
      "    },\n",
      "    {\n",
      "        \"path\": \"132-Gathering-Procedures-PathwayConnectpdf.pdf\",\n",
      "        \"size\": 2009\n",
      "    },\n",
      "    {\n",
      "        \"path\": \"133-Gathering-Procedures-for-Inviting-Friendspdf.pdf\",\n",
      "        \"size\": 2083\n",
      "    },\n",
      "    {\n",
      "        \"path\": \"134-Guidelines-for-Communicating-with-Students-or-Learnerspdf.pdf\",\n",
      "        \"size\": 6477\n",
      "    },\n",
      "    {\n",
      "        \"path\": \"135-Guidelines-for-Gatherings-with---yrs-oldpdf.pdf\",\n",
      "        \"size\": 3875\n",
      "    },\n",
      "    {\n",
      "        \"path\": \"136-Hardware-and-Software-in-PC---and-pdf.pdf\",\n",
      "        \"size\": 5304\n",
      "    },\n",
      "    {\n",
      "        \"path\": \"137-Help-a-Learner-with-Registration-and-Enrollmentpdf.pdf\",\n",
      "        \"size\": 3148\n",
      "    },\n",
      "    {\n",
      "        \"path\": \"138-Help-the-Lead-Learnerpdf.pdf\",\n",
      "        \"size\": 5767\n",
      "    },\n",
      "    {\n",
      "        \"path\": \"139-Helping-Students-Overcome-Obstaclespdf.pdf\",\n",
      "        \"size\": 1724\n",
      "    },\n",
      "    {\n",
      "        \"path\": \"14-Approving-Units-Stakes-for-Virtual-Locationspdf.pdf\",\n",
      "        \"size\": 1446\n",
      "    },\n",
      "    {\n",
      "        \"path\": \"140-Helping-Students-Register-for-Next-Termpdf.pdf\",\n",
      "        \"size\": 3075\n",
      "    },\n",
      "    {\n",
      "        \"path\": \"141-Helping-Students-Select-a-Certificatepdf.pdf\",\n",
      "        \"size\": 2015\n",
      "    },\n",
      "    {\n",
      "        \"path\": \"142-How-Learners-Withdrawpdf.pdf\",\n",
      "        \"size\": 844\n",
      "    },\n",
      "    {\n",
      "        \"path\": \"143-How-Students-Access-Your-Zoom-Roompdf.pdf\",\n",
      "        \"size\": 524\n",
      "    },\n",
      "    {\n",
      "        \"path\": \"144-How-Students-Choose-Their-Certificatepdf.pdf\",\n",
      "        \"size\": 1599\n",
      "    },\n",
      "    {\n",
      "        \"path\": \"145-How-Students-Find-Their-Mentorpdf.pdf\",\n",
      "        \"size\": 770\n",
      "    },\n",
      "    {\n",
      "        \"path\": \"146-How-Students-Print-Their-Certificate-of-Completionpdf.pdf\",\n",
      "        \"size\": 1021\n",
      "    },\n",
      "    {\n",
      "        \"path\": \"147-How-Students-Repeat-Coursespdf.pdf\",\n",
      "        \"size\": 2731\n",
      "    },\n",
      "    {\n",
      "        \"path\": \"148-How-Students-Update-Personal-Information-in-Their-Portalpdf.pdf\",\n",
      "        \"size\": 1649\n",
      "    },\n",
      "    {\n",
      "        \"path\": \"149-How-a-Student-Changes-Their-Church-Account-Namepdf.pdf\",\n",
      "        \"size\": 2005\n",
      "    },\n",
      "    {\n",
      "        \"path\": \"15-Area-Manager-Assignmentspdf.pdf\",\n",
      "        \"size\": 4367\n",
      "    },\n",
      "    {\n",
      "        \"path\": \"150-How-a-Student-Withdraws-from-a-Program-PC-or-ECpdf.pdf\",\n",
      "        \"size\": 732\n",
      "    },\n",
      "    {\n",
      "        \"path\": \"151-How-to-Create-a-New-Ticket.pdf\",\n",
      "        \"size\": 1166\n",
      "    },\n",
      "    {\n",
      "        \"path\": \"152-How-to-Find-Power-BI-Reports-pdf.pdf\",\n",
      "        \"size\": 1830\n",
      "    },\n",
      "    {\n",
      "        \"path\": \"153-How-to-Identify-PC-Enrolled-Students-That-Should-be-in-CDpdf.pdf\",\n",
      "        \"size\": 2401\n",
      "    },\n",
      "    {\n",
      "        \"path\": \"154-How-to-Issue-an-EC-Certificatepdf.pdf\",\n",
      "        \"size\": 1494\n",
      "    },\n",
      "    {\n",
      "        \"path\": \"155-How-to-Issue-an-EnglishConnect--Certificatepdf.pdf\",\n",
      "        \"size\": 1303\n",
      "    },\n",
      "    {\n",
      "        \"path\": \"156-How-to-Log-into-PATHpdf.pdf\",\n",
      "        \"size\": 356\n",
      "    },\n",
      "    {\n",
      "        \"path\": \"157-How-to-Pay-Tuition-for-ECpdf.pdf\",\n",
      "        \"size\": 1729\n",
      "    },\n",
      "    {\n",
      "        \"path\": \"158-How-to-Show-Participant-Namespdf.pdf\",\n",
      "        \"size\": 554\n",
      "    },\n",
      "    {\n",
      "        \"path\": \"159-How-to-Use-the-Filter-Menupdf.pdf\",\n",
      "        \"size\": 1082\n",
      "    },\n",
      "    {\n",
      "        \"path\": \"16-Area-Structure-and-Communicationpdf.pdf\",\n",
      "        \"size\": 2760\n",
      "    },\n",
      "    {\n",
      "        \"path\": \"160-How-to-locate-stakes-and-student-informationpdf.pdf\",\n",
      "        \"size\": 1740\n",
      "    },\n",
      "    {\n",
      "        \"path\": \"161-ITALIAN-CSM-Application-Octpdf.pdf\",\n",
      "        \"size\": 7128\n",
      "    },\n",
      "    {\n",
      "        \"path\": \"162-Ideas-if-a-lead-student-doesnt-showpdf.pdf\",\n",
      "        \"size\": 1505\n",
      "    },\n",
      "    {\n",
      "        \"path\": \"163-Identify-BYU-Pathway-Portalspdf.pdf\",\n",
      "        \"size\": 928\n",
      "    },\n",
      "    {\n",
      "        \"path\": \"164-Impersonate-a-Learner-to-Accesspdf.pdf\",\n",
      "        \"size\": 859\n",
      "    },\n",
      "    {\n",
      "        \"path\": \"165-Impersonating-a-Student-in-PCpdf.pdf\",\n",
      "        \"size\": 2356\n",
      "    },\n",
      "    {\n",
      "        \"path\": \"166-Improving-Your-Shepherdingpdf.pdf\",\n",
      "        \"size\": 2782\n",
      "    },\n",
      "    {\n",
      "        \"path\": \"167-Informe-en-Fuentes-de-recursos-para-lideres-y-secretarios-de-la-Iglesiapdf.pdf\",\n",
      "        \"size\": 3034\n",
      "    },\n",
      "    {\n",
      "        \"path\": \"168-Institutional-Handoutpdf-pdf.pdf\",\n",
      "        \"size\": 5029\n",
      "    },\n",
      "    {\n",
      "        \"path\": \"169-Instructional-Teamspdf.pdf\",\n",
      "        \"size\": 4363\n",
      "    },\n",
      "    {\n",
      "        \"path\": \"17-Assign-a-Role-to-a-Missionarypdf.pdf\",\n",
      "        \"size\": 1012\n",
      "    },\n",
      "    {\n",
      "        \"path\": \"170-International-Area-Transitioning-to-Block-a-Guidepdf.pdf\",\n",
      "        \"size\": 2400\n",
      "    },\n",
      "    {\n",
      "        \"path\": \"171-International-CSM-SSM-Application-Process-Feb-Int-Application-and-Extensionpdf.pdf\",\n",
      "        \"size\": 1824\n",
      "    },\n",
      "    {\n",
      "        \"path\": \"172-International-CSM-SSM-Application-Processpdf.pdf\",\n",
      "        \"size\": 1990\n",
      "    },\n",
      "    {\n",
      "        \"path\": \"173-Inviting-Friends-Who-Are-Not-Memberspdf.pdf\",\n",
      "        \"size\": 2119\n",
      "    },\n",
      "    {\n",
      "        \"path\": \"174-Inviting-Friends-of-the-Church-No-Nonmembers-in-Grouppdf.pdf\",\n",
      "        \"size\": 3332\n",
      "    },\n",
      "    {\n",
      "        \"path\": \"175-Inviting-Friends-of-the-Church-Nonmembers-in-Grouppdf.pdf\",\n",
      "        \"size\": 3525\n",
      "    },\n",
      "    {\n",
      "        \"path\": \"176-Japanese-CSM-Application-Octpdf.pdf\",\n",
      "        \"size\": 3265\n",
      "    },\n",
      "    {\n",
      "        \"path\": \"177-Joining-A-Zoom-Meetingpdf.pdf\",\n",
      "        \"size\": 1178\n",
      "    },\n",
      "    {\n",
      "        \"path\": \"178-KOREAN-CSM-Application-Octpdf.pdf\",\n",
      "        \"size\": 3380\n",
      "    },\n",
      "    {\n",
      "        \"path\": \"179-Keep-the-Spirit-in-the-Gatheringpdf.pdf\",\n",
      "        \"size\": 3390\n",
      "    },\n",
      "    {\n",
      "        \"path\": \"18-Assign-the-Church-Unit-Detail-Rolepdf.pdf\",\n",
      "        \"size\": 1342\n",
      "    },\n",
      "    {\n",
      "        \"path\": \"180-Lead-Learner-Lesson-Plan-Overviewpdf.pdf\",\n",
      "        \"size\": 3079\n",
      "    },\n",
      "    {\n",
      "        \"path\": \"181-Leader-and-Clerk-Resources-Report-for-Church-Leaderspdf.pdf\",\n",
      "        \"size\": 2580\n",
      "    },\n",
      "    {\n",
      "        \"path\": \"182-Learn-About-PC-pdf.pdf\",\n",
      "        \"size\": 3015\n",
      "    },\n",
      "    {\n",
      "        \"path\": \"183-Learn-the-Basic-Features-of-Zoompdf.pdf\",\n",
      "        \"size\": 2947\n",
      "    },\n",
      "    {\n",
      "        \"path\": \"184-Learning-Platform-Walkthrough.pdf\",\n",
      "        \"size\": 2202\n",
      "    },\n",
      "    {\n",
      "        \"path\": \"185-Learning-Platform-Walkthroughpdf.pdf\",\n",
      "        \"size\": 2202\n",
      "    },\n",
      "    {\n",
      "        \"path\": \"186-Locate-Learner-Informationpdf.pdf\",\n",
      "        \"size\": 961\n",
      "    },\n",
      "    {\n",
      "        \"path\": \"187-Locate-a-Students-Enrollment-Recordpdf.pdf\",\n",
      "        \"size\": 1107\n",
      "    },\n",
      "    {\n",
      "        \"path\": \"188-Log-in-to-the-Zoom-Websitepdf.pdf\",\n",
      "        \"size\": 377\n",
      "    },\n",
      "    {\n",
      "        \"path\": \"189-Logging-into-PATH-ECpdf.pdf\",\n",
      "        \"size\": 565\n",
      "    },\n",
      "    {\n",
      "        \"path\": \"19-Assigning-Missionaries-to-a-Grouppdf.pdf\",\n",
      "        \"size\": 1312\n",
      "    },\n",
      "    {\n",
      "        \"path\": \"190-Looking-Out-For-The-Hidden-Crisispdf.pdf\",\n",
      "        \"size\": 1246\n",
      "    },\n",
      "    {\n",
      "        \"path\": \"191-Mac-Zoom-Installationpdf.pdf\",\n",
      "        \"size\": 2696\n",
      "    },\n",
      "    {\n",
      "        \"path\": \"192-Merge-Your-Zoom-Accountpdf.pdf\",\n",
      "        \"size\": 330\n",
      "    },\n",
      "    {\n",
      "        \"path\": \"193-Ministering-Through-Educationpdf.pdf\",\n",
      "        \"size\": 1977\n",
      "    },\n",
      "    {\n",
      "        \"path\": \"194-Mission-Statementpdf.pdf\",\n",
      "        \"size\": 833\n",
      "    },\n",
      "    {\n",
      "        \"path\": \"195-Missionary-Student-in-Crisis-Escalation-Policypdf.pdf\",\n",
      "        \"size\": 4267\n",
      "    },\n",
      "    {\n",
      "        \"path\": \"196-Modify-a-Student-Name-for-a-Completion-Certificatepdf.pdf\",\n",
      "        \"size\": 527\n",
      "    },\n",
      "    {\n",
      "        \"path\": \"197-Monitor-HJG-Applicationspdf.pdf\",\n",
      "        \"size\": 1992\n",
      "    },\n",
      "    {\n",
      "        \"path\": \"198-Monitor-Missionary-End-Dates-in-Power-BIpdf.pdf\",\n",
      "        \"size\": 2336\n",
      "    },\n",
      "    {\n",
      "        \"path\": \"199-Monitoring-Missionary-End-Dates-in-PATHpdf.pdf\",\n",
      "        \"size\": 3241\n",
      "    },\n",
      "    {\n",
      "        \"path\": \"2-ACM-Vetting-Recommendation-Instructionspdf.pdf\",\n",
      "        \"size\": 5062\n",
      "    },\n",
      "    {\n",
      "        \"path\": \"20-Assigning-Students-from-the-Unassigned-Listpdf.pdf\",\n",
      "        \"size\": 876\n",
      "    },\n",
      "    {\n",
      "        \"path\": \"200-Monitoring-Student-Progresspdf.pdf\",\n",
      "        \"size\": 1154\n",
      "    },\n",
      "    {\n",
      "        \"path\": \"201-Moving-a-Missionary-to-a-New-Locationpdf.pdf\",\n",
      "        \"size\": 2671\n",
      "    },\n",
      "    {\n",
      "        \"path\": \"202-Navigate-the-Missionary-Services-Website-on-Desktoppdf.pdf\",\n",
      "        \"size\": 4252\n",
      "    },\n",
      "    {\n",
      "        \"path\": \"203-Navigate-the-Missionary-Services-Website-on-Mobilepdf.pdf\",\n",
      "        \"size\": 1414\n",
      "    },\n",
      "    {\n",
      "        \"path\": \"204-Navigating-the-Student-Portalpdf.pdf\",\n",
      "        \"size\": 2281\n",
      "    },\n",
      "    {\n",
      "        \"path\": \"205-New-Learner-Visitpdf.pdf\",\n",
      "        \"size\": 5239\n",
      "    },\n",
      "    {\n",
      "        \"path\": \"206-New-Student-New-Missionarypdf.pdf\",\n",
      "        \"size\": 1971\n",
      "    },\n",
      "    {\n",
      "        \"path\": \"207-New-Student-Visit-Instructionspdf.pdf\",\n",
      "        \"size\": 4971\n",
      "    },\n",
      "    {\n",
      "        \"path\": \"208-New-Student-Visits---Trackerpdf.pdf\",\n",
      "        \"size\": 1819\n",
      "    },\n",
      "    {\n",
      "        \"path\": \"209-New-Student-Visitspdf.pdf\",\n",
      "        \"size\": 2616\n",
      "    },\n",
      "    {\n",
      "        \"path\": \"21-Assigning-a-Cohostpdf.pdf\",\n",
      "        \"size\": 1294\n",
      "    },\n",
      "    {\n",
      "        \"path\": \"210-Opening-Your-Zoom-Roompdf.pdf\",\n",
      "        \"size\": 327\n",
      "    },\n",
      "    {\n",
      "        \"path\": \"211-Organizing-PATH-for-your-areapdf.pdf\",\n",
      "        \"size\": 7737\n",
      "    },\n",
      "    {\n",
      "        \"path\": \"212-Overview-of-Location-Details-Page-ECpdf.pdf\",\n",
      "        \"size\": 1363\n",
      "    },\n",
      "    {\n",
      "        \"path\": \"213-Overview-of-Location-Details-Pagepdf.pdf\",\n",
      "        \"size\": 1409\n",
      "    },\n",
      "    {\n",
      "        \"path\": \"214-PATH-Group-Naming-Conventionpdf.pdf\",\n",
      "        \"size\": 1218\n",
      "    },\n",
      "    {\n",
      "        \"path\": \"215-PATH-Overviewpdf.pdf\",\n",
      "        \"size\": 1817\n",
      "    },\n",
      "    {\n",
      "        \"path\": \"216-PATH-Walkthroughpdf.pdf\",\n",
      "        \"size\": 1042\n",
      "    },\n",
      "    {\n",
      "        \"path\": \"217-PC---Finding-Student-Informationpdf.pdf\",\n",
      "        \"size\": 2356\n",
      "    },\n",
      "    {\n",
      "        \"path\": \"218-PC--Block-LS-Sign-Up-Sheet-Fillablepdf.pdf\",\n",
      "        \"size\": 299\n",
      "    },\n",
      "    {\n",
      "        \"path\": \"219-PC--Block-Lead-Student-Sign-Up-Sheetpdf.pdf\",\n",
      "        \"size\": 296\n",
      "    },\n",
      "    {\n",
      "        \"path\": \"22-Assigning-a-Host-During-a-Gatheringpdf.pdf\",\n",
      "        \"size\": 714\n",
      "    },\n",
      "    {\n",
      "        \"path\": \"220-PC--Block-Pilot-Spring-pdf.pdf\",\n",
      "        \"size\": 4978\n",
      "    },\n",
      "    {\n",
      "        \"path\": \"221-PC--Semester-Project-Overviewpdf.pdf\",\n",
      "        \"size\": 4453\n",
      "    },\n",
      "    {\n",
      "        \"path\": \"222-PC-Application-Processpdf.pdf\",\n",
      "        \"size\": 2915\n",
      "    },\n",
      "    {\n",
      "        \"path\": \"223-PC-Application-Walkthroughpdf.pdf\",\n",
      "        \"size\": 3214\n",
      "    },\n",
      "    {\n",
      "        \"path\": \"224-PORTUGUESE-CSM-Application-Octpdf.pdf\",\n",
      "        \"size\": 7007\n",
      "    },\n",
      "    {\n",
      "        \"path\": \"225-Path-Reorgpdf.pdf\",\n",
      "        \"size\": 8297\n",
      "    },\n",
      "    {\n",
      "        \"path\": \"226-PathwayConnect-Common-Termspdf.pdf\",\n",
      "        \"size\": 2664\n",
      "    },\n",
      "    {\n",
      "        \"path\": \"227-PathwayConnect-Curriculum-and-Blockpdf.pdf\",\n",
      "        \"size\": 9911\n",
      "    },\n",
      "    {\n",
      "        \"path\": \"228-PathwayConnect-Gathering-Procedurespdf.pdf\",\n",
      "        \"size\": 2008\n",
      "    },\n",
      "    {\n",
      "        \"path\": \"229-Playing-Hymns-in-a-Virtual-Gatheringpdf.pdf\",\n",
      "        \"size\": 1325\n",
      "    },\n",
      "    {\n",
      "        \"path\": \"23-Auto-droppdf.pdf\",\n",
      "        \"size\": 2044\n",
      "    },\n",
      "    {\n",
      "        \"path\": \"230-Policy---Missionary-Dress--Grooming-policypdf.pdf\",\n",
      "        \"size\": 1400\n",
      "    },\n",
      "    {\n",
      "        \"path\": \"231-Policy---Zoom-Recordingspdf.pdf\",\n",
      "        \"size\": 2728\n",
      "    },\n",
      "    {\n",
      "        \"path\": \"232-Policy-Assistant-ACM-Rolepdf.pdf\",\n",
      "        \"size\": 2882\n",
      "    },\n",
      "    {\n",
      "        \"path\": \"233-Policy-BYU-Pathway-Gathering-Standardspdf.pdf\",\n",
      "        \"size\": 2116\n",
      "    },\n",
      "    {\n",
      "        \"path\": \"234-Policy-CDOL-Accesspdf.pdf\",\n",
      "        \"size\": 1410\n",
      "    },\n",
      "    {\n",
      "        \"path\": \"235-Policy-Employees-Serving-As-BYUPW-Service-Missionarypdf.pdf\",\n",
      "        \"size\": 2255\n",
      "    },\n",
      "    {\n",
      "        \"path\": \"236-Policy-Exception-to-Enroll-With-Outstanding-Balancespdf.pdf\",\n",
      "        \"size\": 602\n",
      "    },\n",
      "    {\n",
      "        \"path\": \"237-Policy-Executive-Secretaries--Communicationpdf.pdf\",\n",
      "        \"size\": 1219\n",
      "    },\n",
      "    {\n",
      "        \"path\": \"238-Policy-International-Student-Transferspdf.pdf\",\n",
      "        \"size\": 613\n",
      "    },\n",
      "    {\n",
      "        \"path\": \"239-Policy-Issue-Zoom-Licensed-Accountspdf.pdf\",\n",
      "        \"size\": 2146\n",
      "    },\n",
      "    {\n",
      "        \"path\": \"24-Autodrop-for-ECpdf.pdf\",\n",
      "        \"size\": 1847\n",
      "    },\n",
      "    {\n",
      "        \"path\": \"240-Policy-Missionary-Badge-Policypdf.pdf\",\n",
      "        \"size\": 2305\n",
      "    },\n",
      "    {\n",
      "        \"path\": \"241-Policy-New-Admission-Deadlinespdf.pdf\",\n",
      "        \"size\": 1647\n",
      "    },\n",
      "    {\n",
      "        \"path\": \"242-Policy-PATH-EnglishConnect-Naming-Convention-for-Groupspdf.pdf\",\n",
      "        \"size\": 1351\n",
      "    },\n",
      "    {\n",
      "        \"path\": \"243-Policy-PATH-Naming-Convention-for-Groupspdf.pdf\",\n",
      "        \"size\": 1463\n",
      "    },\n",
      "    {\n",
      "        \"path\": \"244-Policy-PATHNaming-Convention-for-Groupspdf.pdf\",\n",
      "        \"size\": 1463\n",
      "    },\n",
      "    {\n",
      "        \"path\": \"245-Policy-Service-Missionary-Name-Badgespdf.pdf\",\n",
      "        \"size\": 1497\n",
      "    },\n",
      "    {\n",
      "        \"path\": \"246-Policy-Student-Grievance-Against-Missionary-Public-Viewingpdf.pdf\",\n",
      "        \"size\": 888\n",
      "    },\n",
      "    {\n",
      "        \"path\": \"247-Policy-Student-Late-Fee-Policypdf.pdf\",\n",
      "        \"size\": 580\n",
      "    },\n",
      "    {\n",
      "        \"path\": \"248-Power-BI-Trainingpdf.pdf\",\n",
      "        \"size\": 10145\n",
      "    },\n",
      "    {\n",
      "        \"path\": \"249-PowerBI-Reports-Overviewpdf.pdf\",\n",
      "        \"size\": 1405\n",
      "    },\n",
      "    {\n",
      "        \"path\": \"25-BYU-Idaho-Tutoring-Servicespdf.pdf\",\n",
      "        \"size\": 4316\n",
      "    },\n",
      "    {\n",
      "        \"path\": \"250-Prepare-Excel-Sheets-for-Basic-Filteringpdf.pdf\",\n",
      "        \"size\": 1755\n",
      "    },\n",
      "    {\n",
      "        \"path\": \"251-Presenting-at-Ward-and-Stake-Councilpdf.pdf\",\n",
      "        \"size\": 994\n",
      "    },\n",
      "    {\n",
      "        \"path\": \"252-Printing-an-Individual-Certificate-of-Completionpdf.pdf\",\n",
      "        \"size\": 957\n",
      "    },\n",
      "    {\n",
      "        \"path\": \"253-Providing-Christlike-Feedbackpdf.pdf\",\n",
      "        \"size\": 1935\n",
      "    },\n",
      "    {\n",
      "        \"path\": \"254-RUSSIAN-CSM-Application-Octpdf.pdf\",\n",
      "        \"size\": 7408\n",
      "    },\n",
      "    {\n",
      "        \"path\": \"255-Reset-Filterspdf.pdf\",\n",
      "        \"size\": 993\n",
      "    },\n",
      "    {\n",
      "        \"path\": \"256-Restrictions-for-Applying-to-BYUPWpdf.pdf\",\n",
      "        \"size\": 1172\n",
      "    },\n",
      "    {\n",
      "        \"path\": \"257-Restructuring-Your-Area-in-PATHpdf.pdf\",\n",
      "        \"size\": 7456\n",
      "    },\n",
      "    {\n",
      "        \"path\": \"258-SHEP---Building-a-Community-of-Friendshippdf.pdf\",\n",
      "        \"size\": 6323\n",
      "    },\n",
      "    {\n",
      "        \"path\": \"259-SHEP---Lending-Money-to-Studentspdf.pdf\",\n",
      "        \"size\": 3285\n",
      "    },\n",
      "    {\n",
      "        \"path\": \"26-BYU-PW-Strategypdf.pdf\",\n",
      "        \"size\": 1613\n",
      "    },\n",
      "    {\n",
      "        \"path\": \"260-SPANISH-CSM-Application-Octpdf.pdf\",\n",
      "        \"size\": 7386\n",
      "    },\n",
      "    {\n",
      "        \"path\": \"261-Sacrament-Meeting-Talkspdf.pdf\",\n",
      "        \"size\": 2442\n",
      "    },\n",
      "    {\n",
      "        \"path\": \"262-Scholarship-Informationpdf.pdf\",\n",
      "        \"size\": 4251\n",
      "    },\n",
      "    {\n",
      "        \"path\": \"263-Scholarships-for-PathwayConnectpdf.pdf\",\n",
      "        \"size\": 4517\n",
      "    },\n",
      "    {\n",
      "        \"path\": \"264-Scriptures-Quotes-and-Talks-About-Educationpdf.pdf\",\n",
      "        \"size\": 137\n",
      "    },\n",
      "    {\n",
      "        \"path\": \"265-Second-Hour-Presentationpdf.pdf\",\n",
      "        \"size\": 1943\n",
      "    },\n",
      "    {\n",
      "        \"path\": \"266-Securitypdf.pdf\",\n",
      "        \"size\": 1363\n",
      "    },\n",
      "    {\n",
      "        \"path\": \"267-Send-a-Group-Emailpdf.pdf\",\n",
      "        \"size\": 623\n",
      "    },\n",
      "    {\n",
      "        \"path\": \"268-Service-Missionaries-pdf.pdf\",\n",
      "        \"size\": 1975\n",
      "    },\n",
      "    {\n",
      "        \"path\": \"269-Share-Audio-and-Videopdf.pdf\",\n",
      "        \"size\": 619\n",
      "    },\n",
      "    {\n",
      "        \"path\": \"27-BYU-Pathway-History-Fullpdf.pdf\",\n",
      "        \"size\": 139432\n",
      "    },\n",
      "    {\n",
      "        \"path\": \"270-Share-Multiple-Screenspdf.pdf\",\n",
      "        \"size\": 1251\n",
      "    },\n",
      "    {\n",
      "        \"path\": \"271-Share-Screen-to-All-Breakout-Roomspdf.pdf\",\n",
      "        \"size\": 1484\n",
      "    },\n",
      "    {\n",
      "        \"path\": \"272-Share-Your-Screen-in-Zoompdf.pdf\",\n",
      "        \"size\": 1518\n",
      "    },\n",
      "    {\n",
      "        \"path\": \"273-Sharing-a-Whiteboardpdf.pdf\",\n",
      "        \"size\": 1477\n",
      "    },\n",
      "    {\n",
      "        \"path\": \"274-Shepherd-with-Charitypdf.pdf\",\n",
      "        \"size\": 3295\n",
      "    },\n",
      "    {\n",
      "        \"path\": \"275-Shepherding-Team-Project-Groupspdf.pdf\",\n",
      "        \"size\": 2371\n",
      "    },\n",
      "    {\n",
      "        \"path\": \"276-Stake-Bishop-Council-Meetingpdf.pdf\",\n",
      "        \"size\": 1044\n",
      "    },\n",
      "    {\n",
      "        \"path\": \"277-Student-Finance-Informationpdf.pdf\",\n",
      "        \"size\": 1116\n",
      "    },\n",
      "    {\n",
      "        \"path\": \"278-Student-Issue-Escalate-Processpdf.pdf\",\n",
      "        \"size\": 1677\n",
      "    },\n",
      "    {\n",
      "        \"path\": \"279-Student-Issue-Escalation-Processpdf.pdf\",\n",
      "        \"size\": 1966\n",
      "    },\n",
      "    {\n",
      "        \"path\": \"28-BYU-Pathway-History-Shortpdf.pdf\",\n",
      "        \"size\": 9373\n",
      "    },\n",
      "    {\n",
      "        \"path\": \"280-Student-Online-Enrollment-Information-pdf.pdf\",\n",
      "        \"size\": 1075\n",
      "    },\n",
      "    {\n",
      "        \"path\": \"281-Student-Transfer-FAQpdf.pdf\",\n",
      "        \"size\": 1081\n",
      "    },\n",
      "    {\n",
      "        \"path\": \"282-Sunday-Visits-with-Language-Wardspdf.pdf\",\n",
      "        \"size\": 3270\n",
      "    },\n",
      "    {\n",
      "        \"path\": \"283-Sunday-Visits-with-Wards-and-Stakespdf.pdf\",\n",
      "        \"size\": 5093\n",
      "    },\n",
      "    {\n",
      "        \"path\": \"284-Support-Options-for-Studentspdf.pdf\",\n",
      "        \"size\": 1890\n",
      "    },\n",
      "    {\n",
      "        \"path\": \"285-Support-Students-with-Disabilitiespdf.pdf\",\n",
      "        \"size\": 5720\n",
      "    },\n",
      "    {\n",
      "        \"path\": \"286-Switching-to-EC-PATHpdf.pdf\",\n",
      "        \"size\": 670\n",
      "    },\n",
      "    {\n",
      "        \"path\": \"287-TAGALOG-CSM-Application-Octpdf.pdf\",\n",
      "        \"size\": 7341\n",
      "    },\n",
      "    {\n",
      "        \"path\": \"288-Temple-Make-and-Keep-Covenantspdf.pdf\",\n",
      "        \"size\": 3426\n",
      "    },\n",
      "    {\n",
      "        \"path\": \"289-The--Ps-Purpose-Power--Planpdf.pdf\",\n",
      "        \"size\": 1950\n",
      "    },\n",
      "    {\n",
      "        \"path\": \"29-BYU-Pathway-Worldwide-Historypdf.pdf\",\n",
      "        \"size\": 11933\n",
      "    },\n",
      "    {\n",
      "        \"path\": \"290-Three-Year-Degreepdf.pdf\",\n",
      "        \"size\": 1621\n",
      "    },\n",
      "    {\n",
      "        \"path\": \"291-Tips-for-Zoom-on-a-Mobile-Apppdf.pdf\",\n",
      "        \"size\": 3644\n",
      "    },\n",
      "    {\n",
      "        \"path\": \"292-Transferring-a-Student-to-a-Different-Areapdf.pdf\",\n",
      "        \"size\": 2155\n",
      "    },\n",
      "    {\n",
      "        \"path\": \"293-Transferring-a-Student-to-a-Different-Locationpdf.pdf\",\n",
      "        \"size\": 1307\n",
      "    },\n",
      "    {\n",
      "        \"path\": \"294-Transferring-a-Student-to-a-Different-Programpdf.pdf\",\n",
      "        \"size\": 643\n",
      "    },\n",
      "    {\n",
      "        \"path\": \"295-Transferring-a-Student-within-a-Locationpdf.pdf\",\n",
      "        \"size\": 977\n",
      "    },\n",
      "    {\n",
      "        \"path\": \"296-Troubleshoot-platform-issuespdf.pdf\",\n",
      "        \"size\": 3516\n",
      "    },\n",
      "    {\n",
      "        \"path\": \"297-Understand-and-Help-Adult-Learners-Progresspdf.pdf\",\n",
      "        \"size\": 5447\n",
      "    },\n",
      "    {\n",
      "        \"path\": \"298-Understanding-Certificates-Revisedpdf.pdf\",\n",
      "        \"size\": 5813\n",
      "    },\n",
      "    {\n",
      "        \"path\": \"299-Understanding-the-Groups-Page-ECpdf.pdf\",\n",
      "        \"size\": 881\n",
      "    },\n",
      "    {\n",
      "        \"path\": \"3-About-New-Student-Visitspdf.pdf\",\n",
      "        \"size\": 2538\n",
      "    },\n",
      "    {\n",
      "        \"path\": \"30-BYU-Pathway-Worldwide-Unapproved-Locationspdf.pdf\",\n",
      "        \"size\": 610\n",
      "    },\n",
      "    {\n",
      "        \"path\": \"300-Updating-Group-Informationpdf.pdf\",\n",
      "        \"size\": 1326\n",
      "    },\n",
      "    {\n",
      "        \"path\": \"301-Updating-Personal-Informationpdf.pdf\",\n",
      "        \"size\": 388\n",
      "    },\n",
      "    {\n",
      "        \"path\": \"302-Updating-Your-Personal-Information-in-PATH-ECpdf.pdf\",\n",
      "        \"size\": 454\n",
      "    },\n",
      "    {\n",
      "        \"path\": \"303-Updating-Your-Profile-Settingspdf.pdf\",\n",
      "        \"size\": 543\n",
      "    },\n",
      "    {\n",
      "        \"path\": \"304-Updating-Your-Zoom-Room-Passcodepdf.pdf\",\n",
      "        \"size\": 826\n",
      "    },\n",
      "    {\n",
      "        \"path\": \"305-Use-Additional-Filterspdf.pdf\",\n",
      "        \"size\": 776\n",
      "    },\n",
      "    {\n",
      "        \"path\": \"306-Using-BYUPW-Support-Knowledge-Articlespdf.pdf\",\n",
      "        \"size\": 834\n",
      "    },\n",
      "    {\n",
      "        \"path\": \"307-Using-Canvas-Quick-Start-Guide.pdf\",\n",
      "        \"size\": 526\n",
      "    },\n",
      "    {\n",
      "        \"path\": \"308-Using-Your-Zoom-Room-During-the-Weekpdf.pdf\",\n",
      "        \"size\": 815\n",
      "    },\n",
      "    {\n",
      "        \"path\": \"309-Using-the-PATH-Search-Feature-ECpdf.pdf\",\n",
      "        \"size\": 3305\n",
      "    },\n",
      "    {\n",
      "        \"path\": \"31-BYU-Pathway-in---Minutespdf.pdf\",\n",
      "        \"size\": 1154\n",
      "    },\n",
      "    {\n",
      "        \"path\": \"310-Using-the-Site-Location-Directorypdf.pdf\",\n",
      "        \"size\": 516\n",
      "    },\n",
      "    {\n",
      "        \"path\": \"311-Verify-Completion-of-a-Background-Checkpdf.pdf\",\n",
      "        \"size\": 639\n",
      "    },\n",
      "    {\n",
      "        \"path\": \"312-Verify-Member-Recordl-Number-MRNpdf.pdf\",\n",
      "        \"size\": 2880\n",
      "    },\n",
      "    {\n",
      "        \"path\": \"313-Verify-a-Learners-Church-Member-Statuspdf.pdf\",\n",
      "        \"size\": 775\n",
      "    },\n",
      "    {\n",
      "        \"path\": \"314-Verify-a-Students-Church-Membership-Statuspdf.pdf\",\n",
      "        \"size\": 974\n",
      "    },\n",
      "    {\n",
      "        \"path\": \"315-Vetting-New-Missionary-Instructionspdf.pdf\",\n",
      "        \"size\": 6006\n",
      "    },\n",
      "    {\n",
      "        \"path\": \"316-Video-Settingspdf.pdf\",\n",
      "        \"size\": 1096\n",
      "    },\n",
      "    {\n",
      "        \"path\": \"317-View-Scholarships-Receivedpdf.pdf\",\n",
      "        \"size\": 734\n",
      "    },\n",
      "    {\n",
      "        \"path\": \"318-View-a-Students-English-Pre-Assessmentpdf.pdf\",\n",
      "        \"size\": 992\n",
      "    },\n",
      "    {\n",
      "        \"path\": \"319-Ward-Bulletin-Announcementpdf.pdf\",\n",
      "        \"size\": 1611\n",
      "    },\n",
      "    {\n",
      "        \"path\": \"32-BYU-Pathway-in--Secondspdf.pdf\",\n",
      "        \"size\": 1995\n",
      "    },\n",
      "    {\n",
      "        \"path\": \"320-Webinar-Domesitic-August--Englishpdf.pdf\",\n",
      "        \"size\": 657\n",
      "    },\n",
      "    {\n",
      "        \"path\": \"321-Webinar-Domestic-Agosto--Spanishpdf.pdf\",\n",
      "        \"size\": 722\n",
      "    },\n",
      "    {\n",
      "        \"path\": \"322-Webinar-Domestic-August--Englishpdf.pdf\",\n",
      "        \"size\": 345\n",
      "    },\n",
      "    {\n",
      "        \"path\": \"323-Webinar-Domestic-August--YSApdf.pdf\",\n",
      "        \"size\": 474\n",
      "    },\n",
      "    {\n",
      "        \"path\": \"324-What-is-a-Default-Grouppdf.pdf\",\n",
      "        \"size\": 705\n",
      "    },\n",
      "    {\n",
      "        \"path\": \"325-Your-Role-in-the-EC-Gatheringpdf.pdf\",\n",
      "        \"size\": 1838\n",
      "    },\n",
      "    {\n",
      "        \"path\": \"326-Zoom-Feature-Overviewpdf.pdf\",\n",
      "        \"size\": 1440\n",
      "    },\n",
      "    {\n",
      "        \"path\": \"327-Zoom-Find-and-Share-Your-Zoom-Room-Linkpdf.pdf\",\n",
      "        \"size\": 1172\n",
      "    },\n",
      "    {\n",
      "        \"path\": \"328-Zoom-Online-Whiteboardspdf.pdf\",\n",
      "        \"size\": 1276\n",
      "    },\n",
      "    {\n",
      "        \"path\": \"329-institutional-brochure-bi-fold-pdfpdf.pdf\",\n",
      "        \"size\": 3900\n",
      "    },\n",
      "    {\n",
      "        \"path\": \"33-BYUPW-Interest-Listpdf.pdf\",\n",
      "        \"size\": 538\n",
      "    },\n",
      "    {\n",
      "        \"path\": \"34-Basic-Navigation-of-Power-BIpdf.pdf\",\n",
      "        \"size\": 867\n",
      "    },\n",
      "    {\n",
      "        \"path\": \"35-Best-Practices-for-Virtual-Gatherings-That-Dont-Feature-Videoconferencingpdf.pdf\",\n",
      "        \"size\": 3608\n",
      "    },\n",
      "    {\n",
      "        \"path\": \"36-Best-Practices-for-an-In-Person-Gatheringpdf.pdf\",\n",
      "        \"size\": 4065\n",
      "    },\n",
      "    {\n",
      "        \"path\": \"37-Block-and-Instructional-TeaFAQpdf.pdf\",\n",
      "        \"size\": 14683\n",
      "    },\n",
      "    {\n",
      "        \"path\": \"38-Breakout-Room-Basicspdf.pdf\",\n",
      "        \"size\": 1778\n",
      "    },\n",
      "    {\n",
      "        \"path\": \"39-Breakout-Rooms---Manual-Creationpdf.pdf\",\n",
      "        \"size\": 1803\n",
      "    },\n",
      "    {\n",
      "        \"path\": \"4-Academic-Planning-Tools-for-PCpdf.pdf\",\n",
      "        \"size\": 1348\n",
      "    },\n",
      "    {\n",
      "        \"path\": \"40-CHINESE-CSM-Application-Octpdf.pdf\",\n",
      "        \"size\": 2557\n",
      "    },\n",
      "    {\n",
      "        \"path\": \"41-CRM-Checking-Ticket-Resultspdf.pdf\",\n",
      "        \"size\": 1223\n",
      "    },\n",
      "    {\n",
      "        \"path\": \"42-Calculate-a-Students-GPApdf.pdf\",\n",
      "        \"size\": 657\n",
      "    },\n",
      "    {\n",
      "        \"path\": \"43-Certificate-First-Approachpdf.pdf\",\n",
      "        \"size\": 4965\n",
      "    },\n",
      "    {\n",
      "        \"path\": \"44-Chatpdf.pdf\",\n",
      "        \"size\": 1536\n",
      "    },\n",
      "    {\n",
      "        \"path\": \"45-Check-Enrollment-Trendspdf.pdf\",\n",
      "        \"size\": 3543\n",
      "    },\n",
      "    {\n",
      "        \"path\": \"46-Check-Student-History-for-Past-Gradespdf.pdf\",\n",
      "        \"size\": 518\n",
      "    },\n",
      "    {\n",
      "        \"path\": \"47-Check-a-Learners-ELA-Scorespdf.pdf\",\n",
      "        \"size\": 873\n",
      "    },\n",
      "    {\n",
      "        \"path\": \"48-Check-for-Institute-Registration-for-College-Creditpdf.pdf\",\n",
      "        \"size\": 3059\n",
      "    },\n",
      "    {\n",
      "        \"path\": \"49-Checking-Enrollment-Trendspdf.pdf\",\n",
      "        \"size\": 3543\n",
      "    },\n",
      "    {\n",
      "        \"path\": \"5-Academic-Planning-Toolspdf.pdf\",\n",
      "        \"size\": 1818\n",
      "    },\n",
      "    {\n",
      "        \"path\": \"50-Checking-for-Updatespdf.pdf\",\n",
      "        \"size\": 619\n",
      "    },\n",
      "    {\n",
      "        \"path\": \"51-Church-HR-Annual-Workforce-Trainingpdf.pdf\",\n",
      "        \"size\": 1840\n",
      "    },\n",
      "    {\n",
      "        \"path\": \"52-Claim-Host-When-Substitutingpdf.pdf\",\n",
      "        \"size\": 805\n",
      "    },\n",
      "    {\n",
      "        \"path\": \"53-Closing-a-Sitepdf.pdf\",\n",
      "        \"size\": 695\n",
      "    },\n",
      "    {\n",
      "        \"path\": \"54-Closing-or-Deprecating-a-Grouppdf.pdf\",\n",
      "        \"size\": 2961\n",
      "    },\n",
      "    {\n",
      "        \"path\": \"55-Communicate-to-All-Breakout-Roomspdf.pdf\",\n",
      "        \"size\": 1107\n",
      "    },\n",
      "    {\n",
      "        \"path\": \"56-Companion-App-Overviewpdf.pdf\",\n",
      "        \"size\": 2333\n",
      "    },\n",
      "    {\n",
      "        \"path\": \"57-Course-Preview-Overviewpdf.pdf\",\n",
      "        \"size\": 1801\n",
      "    },\n",
      "    {\n",
      "        \"path\": \"58-Create-a-Church-Account-for-Friends-of-the-Churchpdf.pdf\",\n",
      "        \"size\": 1225\n",
      "    },\n",
      "    {\n",
      "        \"path\": \"59-Create-a-Relationship-with-Your-Mentorpdf.pdf\",\n",
      "        \"size\": 2114\n",
      "    },\n",
      "    {\n",
      "        \"path\": \"6-Access-Your-Learner-Progress-Reportpdf.pdf\",\n",
      "        \"size\": 2941\n",
      "    },\n",
      "    {\n",
      "        \"path\": \"60-Create-an-Online-Communitypdf.pdf\",\n",
      "        \"size\": 2707\n",
      "    },\n",
      "    {\n",
      "        \"path\": \"61-Creating-a-New-Grouppdf.pdf\",\n",
      "        \"size\": 2655\n",
      "    },\n",
      "    {\n",
      "        \"path\": \"62-Creating-a-New-Site-in-PATHpdf.pdf\",\n",
      "        \"size\": 1287\n",
      "    },\n",
      "    {\n",
      "        \"path\": \"63-Creating-a-New-Ticketpdf.pdf\",\n",
      "        \"size\": 1166\n",
      "    },\n",
      "    {\n",
      "        \"path\": \"64-Defining-Characteristicspdf.pdf\",\n",
      "        \"size\": 2794\n",
      "    },\n",
      "    {\n",
      "        \"path\": \"65-Delayed-Access-to-Microsoft-Office-Suite-Downloadpdf.pdf\",\n",
      "        \"size\": 2050\n",
      "    },\n",
      "    {\n",
      "        \"path\": \"66-Designating-Programs-Active-or-Hiddenpdf.pdf\",\n",
      "        \"size\": 1363\n",
      "    },\n",
      "    {\n",
      "        \"path\": \"67-Domestic-Quarter-Sheets--Better-Jobpdf.pdf\",\n",
      "        \"size\": 2392\n",
      "    },\n",
      "    {\n",
      "        \"path\": \"68-Domestic-Quarter-Sheets--fresh-startpdf.pdf\",\n",
      "        \"size\": 2104\n",
      "    },\n",
      "    {\n",
      "        \"path\": \"69-Domestic-Quarter-Sheets-Any-Studentpdf.pdf\",\n",
      "        \"size\": 2036\n",
      "    },\n",
      "    {\n",
      "        \"path\": \"7-Access-the-Learner-Platformpdf.pdf\",\n",
      "        \"size\": 689\n",
      "    },\n",
      "    {\n",
      "        \"path\": \"70-Domestic-Quarter-Sheets-Everyone-can-access-higher-educationpdf.pdf\",\n",
      "        \"size\": 2140\n",
      "    },\n",
      "    {\n",
      "        \"path\": \"71-Download-a-Reportpdf.pdf\",\n",
      "        \"size\": 762\n",
      "    },\n",
      "    {\n",
      "        \"path\": \"72-Download-and-Install-Zoom-for-Macpdf.pdf\",\n",
      "        \"size\": 1526\n",
      "    },\n",
      "    {\n",
      "        \"path\": \"73-Download-and-Install-Zoom-for-PCpdf.pdf\",\n",
      "        \"size\": 1762\n",
      "    },\n",
      "    {\n",
      "        \"path\": \"74-Downloading-WhatsApp-to-a-Computerpdf.pdf\",\n",
      "        \"size\": 2151\n",
      "    },\n",
      "    {\n",
      "        \"path\": \"75-EC-Application-Walkthoughpdf.pdf\",\n",
      "        \"size\": 2018\n",
      "    },\n",
      "    {\n",
      "        \"path\": \"76-EC-Flyer-for-Service-MissionariesChinese-Traditionalpdf.pdf\",\n",
      "        \"size\": 568\n",
      "    },\n",
      "    {\n",
      "        \"path\": \"77-EC-Flyer-for-Service-MissionariesEnglishpdf.pdf\",\n",
      "        \"size\": 1251\n",
      "    },\n",
      "    {\n",
      "        \"path\": \"78-EC-Flyer-for-Service-MissionariesFrench-pdf.pdf\",\n",
      "        \"size\": 1753\n",
      "    },\n",
      "    {\n",
      "        \"path\": \"79-EC-Flyer-for-Service-MissionariesPortuguesepdf.pdf\",\n",
      "        \"size\": 1403\n",
      "    },\n",
      "    {\n",
      "        \"path\": \"8-Access-the-Learner-Portalpdf.pdf\",\n",
      "        \"size\": 514\n",
      "    },\n",
      "    {\n",
      "        \"path\": \"80-EC-Flyer-for-Service-MissionariesSpanishpdf.pdf\",\n",
      "        \"size\": 1486\n",
      "    },\n",
      "    {\n",
      "        \"path\": \"81-EC-Flyer-for-Service-MissionariesUkrainianpdf.pdf\",\n",
      "        \"size\": 1395\n",
      "    },\n",
      "    {\n",
      "        \"path\": \"82-EC-Frequently-Asked-Questionspdf.pdf\",\n",
      "        \"size\": 5006\n",
      "    },\n",
      "    {\n",
      "        \"path\": \"83-EC-Gathering-Procedurespdf.pdf\",\n",
      "        \"size\": 1921\n",
      "    },\n",
      "    {\n",
      "        \"path\": \"84-EC-Learner-Portal-Walkthroughpdf.pdf\",\n",
      "        \"size\": 2111\n",
      "    },\n",
      "    {\n",
      "        \"path\": \"85-EC-Learner-Profilespdf.pdf\",\n",
      "        \"size\": 3607\n",
      "    },\n",
      "    {\n",
      "        \"path\": \"86-EC-Participation-and-Completion-Certificatespdf.pdf\",\n",
      "        \"size\": 1297\n",
      "    },\n",
      "    {\n",
      "        \"path\": \"87-EC-Pre-Semester-Gathering-Agendapdf.pdf\",\n",
      "        \"size\": 4914\n",
      "    },\n",
      "    {\n",
      "        \"path\": \"88-EC-Pre-Semester-Gatheringpdf.pdf\",\n",
      "        \"size\": 5413\n",
      "    },\n",
      "    {\n",
      "        \"path\": \"89-EC-Re-enrollmentpdf.pdf\",\n",
      "        \"size\": 875\n",
      "    },\n",
      "    {\n",
      "        \"path\": \"9-Accessing-Your-Learner-Listpdf.pdf\",\n",
      "        \"size\": 430\n",
      "    },\n",
      "    {\n",
      "        \"path\": \"90-EC-Virtual-Gathering-Best-Practicespdf.pdf\",\n",
      "        \"size\": 1959\n",
      "    },\n",
      "    {\n",
      "        \"path\": \"91-ENGLISH-CSM-Application-Octpdf.pdf\",\n",
      "        \"size\": 6416\n",
      "    },\n",
      "    {\n",
      "        \"path\": \"92-Ecclesiastical-Endorsementspdf.pdf\",\n",
      "        \"size\": 3836\n",
      "    },\n",
      "    {\n",
      "        \"path\": \"93-Elders-Quorom-and-Relief-Society-Presentationspdf.pdf\",\n",
      "        \"size\": 2576\n",
      "    },\n",
      "    {\n",
      "        \"path\": \"94-Email-All-Adult-Memberspdf.pdf\",\n",
      "        \"size\": 2218\n",
      "    },\n",
      "    {\n",
      "        \"path\": \"95-Email-Data-Privacypdf.pdf\",\n",
      "        \"size\": 451\n",
      "    },\n",
      "    {\n",
      "        \"path\": \"96-Employment-and-Self-Reliance-Fairpdf.pdf\",\n",
      "        \"size\": 1285\n",
      "    },\n",
      "    {\n",
      "        \"path\": \"97-EnglishConnect-Academic-Calendarpdf.pdf\",\n",
      "        \"size\": 870\n",
      "    },\n",
      "    {\n",
      "        \"path\": \"98-EnglishConnect-Common-Termspdf.pdf\",\n",
      "        \"size\": 2533\n",
      "    },\n",
      "    {\n",
      "        \"path\": \"99-Ensign-College-Overviewpdf.pdf\",\n",
      "        \"size\": 4622\n",
      "    }\n",
      "]\n"
     ]
    }
   ],
   "source": [
    "# get the files names from the out path\n",
    "file_names_out = os.listdir(out_path + \"txt/\")\n",
    "file_names_out.sort()\n",
    "\n",
    "file_names_out = [{\"path\": name} for name in file_names_out]\n",
    "\n",
    "# get the size of each file\n",
    "for idx, file in enumerate(file_names_out):\n",
    "    file_path = out_path + \"txt/\" + file[\"path\"]\n",
    "    with open(file_path, \"r\") as f:\n",
    "        file[\"size\"] = len(f.read())\n",
    "\n",
    "# print the files with size less than 300\n",
    "\n",
    "import json\n",
    "\n",
    "if len(file_names) == 0:\n",
    "    file_names = [file for file in file_names_out]\n",
    "    for file in file_names:\n",
    "        file[\"path\"] = file[\"path\"].replace(\".txt\", \".pdf\")\n",
    "\n",
    "file_names_out = [file for file in file_names_out if file[\"size\"] < 500]\n",
    "print(json.dumps(file_names, indent=4))\n"
   ]
  },
  {
   "cell_type": "code",
   "execution_count": 16,
   "metadata": {},
   "outputs": [
    {
     "name": "stdout",
     "output_type": "stream",
     "text": [
      "329\n"
     ]
    }
   ],
   "source": [
    "print(len(file_names))\n"
   ]
  },
  {
   "cell_type": "markdown",
   "metadata": {},
   "source": [
    "# Convert the TXT info to Markdown with Llama-Parse\n"
   ]
  },
  {
   "cell_type": "code",
   "execution_count": 8,
   "metadata": {},
   "outputs": [],
   "source": [
    "parser = LlamaParse(\n",
    "    result_type=\"markdown\",  # \"markdown\" and \"text\" are available\n",
    "    parsing_instruction=(\n",
    "        \"Convert the provided text into accurate and well-structured Markdown format, closely resembling the original PDF structure. \"\n",
    "        \"Use headers from H1 to H3, with H1 for main titles, H2 for sections, and H3 for subsections. \"\n",
    "        \"Detect any bold, large, or all-uppercase text as headers. \"\n",
    "        \"Preserve bullet points and numbered lists with proper indentation to reflect nested lists. \"\n",
    "        \"if it is not a header, ensure that bold and italic text is properly formatted using double **asterisks** for bold and single *asterisks* for italic\"\n",
    "        \"Detect and correctly format blockquotes using the '>' symbol for any quoted text. \"\n",
    "        \"When processing text, pay attention to line breaks that may incorrectly join or split words. \"\n",
    "        \"Automatically correct common errors, such as wrongly concatenated words or broken lines, to ensure the text reads naturally\"\n",
    "        \"If code snippets or technical commands are found, enclose them in triple backticks ``` for proper formatting. \"\n",
    "        \"If any tables are detected, parse them as a title (bold header) followed by list items\"\n",
    "        \"If you see the same header multiple times, merge them into one.\"\n",
    "        \"If images contain important text, transcribe only the highlighted or boxed text and ignore general background text. \"\n",
    "        \"The final output should be a clean, concise Markdown document closely reflecting the original PDF's intent and structure without adding any extra text.\"\n",
    "    ),\n",
    ")\n"
   ]
  },
  {
   "cell_type": "code",
   "execution_count": 9,
   "metadata": {},
   "outputs": [],
   "source": [
    "file_extractor = {\".txt\": parser}\n",
    "\n",
    "\n",
    "def parse_txt_to_md(file, idx):\n",
    "    load_file = out_path + \"txt/\" + file[\"path\"].replace(\".pdf\", \".txt\")\n",
    "\n",
    "    documents = SimpleDirectoryReader(\n",
    "        input_files=[load_file], file_extractor=file_extractor\n",
    "    ).load_data()\n",
    "\n",
    "    size = sum([len(doc.text) for doc in documents])\n",
    "\n",
    "    out_name = f\"{out_path}md/{file['path'].replace('.pdf', '.md')}\"\n",
    "    # out_name = file.replace(\".txt\", \".md\")\n",
    "    with open(out_name, \"w\") as f:\n",
    "        for doc in documents:\n",
    "            f.write(doc.text)\n",
    "            f.write(\"\\n\\n\")\n",
    "        print(out_name, \"saved.\")\n",
    "\n",
    "    return size\n"
   ]
  },
  {
   "cell_type": "code",
   "execution_count": 17,
   "metadata": {},
   "outputs": [
    {
     "name": "stderr",
     "output_type": "stream",
     "text": [
      "INFO: HTTP Request: POST https://api.cloud.llamaindex.ai/api/parsing/upload \"HTTP/1.1 200 OK\"\n"
     ]
    },
    {
     "name": "stdout",
     "output_type": "stream",
     "text": [
      "Started parsing the file under job_id e62f7adb-c734-431a-9350-d993253cedec\n"
     ]
    },
    {
     "name": "stderr",
     "output_type": "stream",
     "text": [
      "INFO: HTTP Request: GET https://api.cloud.llamaindex.ai/api/parsing/job/e62f7adb-c734-431a-9350-d993253cedec \"HTTP/1.1 200 OK\"\n",
      "INFO: HTTP Request: GET https://api.cloud.llamaindex.ai/api/parsing/job/e62f7adb-c734-431a-9350-d993253cedec \"HTTP/1.1 200 OK\"\n",
      "INFO: HTTP Request: GET https://api.cloud.llamaindex.ai/api/parsing/job/e62f7adb-c734-431a-9350-d993253cedec \"HTTP/1.1 200 OK\"\n",
      "INFO: HTTP Request: GET https://api.cloud.llamaindex.ai/api/parsing/job/e62f7adb-c734-431a-9350-d993253cedec \"HTTP/1.1 200 OK\"\n",
      "INFO: HTTP Request: GET https://api.cloud.llamaindex.ai/api/parsing/job/e62f7adb-c734-431a-9350-d993253cedec \"HTTP/1.1 200 OK\"\n",
      "INFO: HTTP Request: GET https://api.cloud.llamaindex.ai/api/parsing/job/e62f7adb-c734-431a-9350-d993253cedec/result/markdown \"HTTP/1.1 200 OK\"\n"
     ]
    },
    {
     "name": "stdout",
     "output_type": "stream",
     "text": [
      "../data/out/md/1--ELA-Pilotpdf.md saved.\n"
     ]
    },
    {
     "name": "stderr",
     "output_type": "stream",
     "text": [
      "INFO: HTTP Request: POST https://api.cloud.llamaindex.ai/api/parsing/upload \"HTTP/1.1 200 OK\"\n"
     ]
    },
    {
     "name": "stdout",
     "output_type": "stream",
     "text": [
      "Started parsing the file under job_id 54bae445-9b05-42b2-a80d-899cb881ff2b\n"
     ]
    },
    {
     "name": "stderr",
     "output_type": "stream",
     "text": [
      "INFO: HTTP Request: GET https://api.cloud.llamaindex.ai/api/parsing/job/54bae445-9b05-42b2-a80d-899cb881ff2b \"HTTP/1.1 200 OK\"\n",
      "INFO: HTTP Request: GET https://api.cloud.llamaindex.ai/api/parsing/job/54bae445-9b05-42b2-a80d-899cb881ff2b \"HTTP/1.1 200 OK\"\n",
      "INFO: HTTP Request: GET https://api.cloud.llamaindex.ai/api/parsing/job/54bae445-9b05-42b2-a80d-899cb881ff2b \"HTTP/1.1 200 OK\"\n",
      "INFO: HTTP Request: GET https://api.cloud.llamaindex.ai/api/parsing/job/54bae445-9b05-42b2-a80d-899cb881ff2b/result/markdown \"HTTP/1.1 200 OK\"\n"
     ]
    },
    {
     "name": "stdout",
     "output_type": "stream",
     "text": [
      "../data/out/md/10-Accessing-Your-Student-List-in-PATHpdf.md saved.\n"
     ]
    },
    {
     "name": "stderr",
     "output_type": "stream",
     "text": [
      "INFO: HTTP Request: POST https://api.cloud.llamaindex.ai/api/parsing/upload \"HTTP/1.1 200 OK\"\n"
     ]
    },
    {
     "name": "stdout",
     "output_type": "stream",
     "text": [
      "Started parsing the file under job_id 6a8afb52-1b39-41aa-897e-0cf2f7bc82a3\n"
     ]
    },
    {
     "name": "stderr",
     "output_type": "stream",
     "text": [
      "INFO: HTTP Request: GET https://api.cloud.llamaindex.ai/api/parsing/job/6a8afb52-1b39-41aa-897e-0cf2f7bc82a3 \"HTTP/1.1 200 OK\"\n",
      "INFO: HTTP Request: GET https://api.cloud.llamaindex.ai/api/parsing/job/6a8afb52-1b39-41aa-897e-0cf2f7bc82a3 \"HTTP/1.1 200 OK\"\n",
      "INFO: HTTP Request: GET https://api.cloud.llamaindex.ai/api/parsing/job/6a8afb52-1b39-41aa-897e-0cf2f7bc82a3 \"HTTP/1.1 200 OK\"\n",
      "INFO: HTTP Request: GET https://api.cloud.llamaindex.ai/api/parsing/job/6a8afb52-1b39-41aa-897e-0cf2f7bc82a3 \"HTTP/1.1 200 OK\"\n",
      "INFO: HTTP Request: GET https://api.cloud.llamaindex.ai/api/parsing/job/6a8afb52-1b39-41aa-897e-0cf2f7bc82a3 \"HTTP/1.1 200 OK\"\n",
      "INFO: HTTP Request: GET https://api.cloud.llamaindex.ai/api/parsing/job/6a8afb52-1b39-41aa-897e-0cf2f7bc82a3/result/markdown \"HTTP/1.1 200 OK\"\n"
     ]
    },
    {
     "name": "stdout",
     "output_type": "stream",
     "text": [
      "../data/out/md/100-Evaluating-Your-Gatheringpdf.md saved.\n"
     ]
    },
    {
     "name": "stderr",
     "output_type": "stream",
     "text": [
      "INFO: HTTP Request: POST https://api.cloud.llamaindex.ai/api/parsing/upload \"HTTP/1.1 200 OK\"\n"
     ]
    },
    {
     "name": "stdout",
     "output_type": "stream",
     "text": [
      "Started parsing the file under job_id f37c7355-b9e2-4bce-8910-6e9b1358f25e\n"
     ]
    },
    {
     "name": "stderr",
     "output_type": "stream",
     "text": [
      "INFO: HTTP Request: GET https://api.cloud.llamaindex.ai/api/parsing/job/f37c7355-b9e2-4bce-8910-6e9b1358f25e \"HTTP/1.1 200 OK\"\n",
      "INFO: HTTP Request: GET https://api.cloud.llamaindex.ai/api/parsing/job/f37c7355-b9e2-4bce-8910-6e9b1358f25e \"HTTP/1.1 200 OK\"\n",
      "INFO: HTTP Request: GET https://api.cloud.llamaindex.ai/api/parsing/job/f37c7355-b9e2-4bce-8910-6e9b1358f25e \"HTTP/1.1 200 OK\"\n",
      "INFO: HTTP Request: GET https://api.cloud.llamaindex.ai/api/parsing/job/f37c7355-b9e2-4bce-8910-6e9b1358f25e \"HTTP/1.1 200 OK\"\n",
      "INFO: HTTP Request: GET https://api.cloud.llamaindex.ai/api/parsing/job/f37c7355-b9e2-4bce-8910-6e9b1358f25e \"HTTP/1.1 200 OK\"\n",
      "INFO: HTTP Request: GET https://api.cloud.llamaindex.ai/api/parsing/job/f37c7355-b9e2-4bce-8910-6e9b1358f25e \"HTTP/1.1 200 OK\"\n",
      "INFO: HTTP Request: GET https://api.cloud.llamaindex.ai/api/parsing/job/f37c7355-b9e2-4bce-8910-6e9b1358f25e/result/markdown \"HTTP/1.1 200 OK\"\n"
     ]
    },
    {
     "name": "stdout",
     "output_type": "stream",
     "text": [
      "../data/out/md/101-Explain-Auto-drop-to-Students-for-PCpdf.md saved.\n"
     ]
    },
    {
     "name": "stderr",
     "output_type": "stream",
     "text": [
      "INFO: HTTP Request: POST https://api.cloud.llamaindex.ai/api/parsing/upload \"HTTP/1.1 200 OK\"\n"
     ]
    },
    {
     "name": "stdout",
     "output_type": "stream",
     "text": [
      "Started parsing the file under job_id bc14b101-55cc-4fb9-9407-2695f5a95bac\n"
     ]
    },
    {
     "name": "stderr",
     "output_type": "stream",
     "text": [
      "INFO: HTTP Request: GET https://api.cloud.llamaindex.ai/api/parsing/job/bc14b101-55cc-4fb9-9407-2695f5a95bac \"HTTP/1.1 200 OK\"\n",
      "INFO: HTTP Request: GET https://api.cloud.llamaindex.ai/api/parsing/job/bc14b101-55cc-4fb9-9407-2695f5a95bac \"HTTP/1.1 200 OK\"\n",
      "INFO: HTTP Request: GET https://api.cloud.llamaindex.ai/api/parsing/job/bc14b101-55cc-4fb9-9407-2695f5a95bac \"HTTP/1.1 200 OK\"\n",
      "INFO: HTTP Request: GET https://api.cloud.llamaindex.ai/api/parsing/job/bc14b101-55cc-4fb9-9407-2695f5a95bac \"HTTP/1.1 200 OK\"\n",
      "INFO: HTTP Request: GET https://api.cloud.llamaindex.ai/api/parsing/job/bc14b101-55cc-4fb9-9407-2695f5a95bac \"HTTP/1.1 200 OK\"\n",
      "INFO: HTTP Request: GET https://api.cloud.llamaindex.ai/api/parsing/job/bc14b101-55cc-4fb9-9407-2695f5a95bac/result/markdown \"HTTP/1.1 200 OK\"\n"
     ]
    },
    {
     "name": "stdout",
     "output_type": "stream",
     "text": [
      "../data/out/md/102-Explain-Gospel-Resourcespdf.md saved.\n"
     ]
    },
    {
     "name": "stderr",
     "output_type": "stream",
     "text": [
      "INFO: HTTP Request: POST https://api.cloud.llamaindex.ai/api/parsing/upload \"HTTP/1.1 200 OK\"\n"
     ]
    },
    {
     "name": "stdout",
     "output_type": "stream",
     "text": [
      "Started parsing the file under job_id c3d74561-d3f6-45e0-a93c-21739ce3bdf2\n"
     ]
    },
    {
     "name": "stderr",
     "output_type": "stream",
     "text": [
      "INFO: HTTP Request: GET https://api.cloud.llamaindex.ai/api/parsing/job/c3d74561-d3f6-45e0-a93c-21739ce3bdf2 \"HTTP/1.1 200 OK\"\n",
      "INFO: HTTP Request: GET https://api.cloud.llamaindex.ai/api/parsing/job/c3d74561-d3f6-45e0-a93c-21739ce3bdf2 \"HTTP/1.1 200 OK\"\n",
      "INFO: HTTP Request: GET https://api.cloud.llamaindex.ai/api/parsing/job/c3d74561-d3f6-45e0-a93c-21739ce3bdf2 \"HTTP/1.1 200 OK\"\n",
      "INFO: HTTP Request: GET https://api.cloud.llamaindex.ai/api/parsing/job/c3d74561-d3f6-45e0-a93c-21739ce3bdf2 \"HTTP/1.1 200 OK\"\n",
      "INFO: HTTP Request: GET https://api.cloud.llamaindex.ai/api/parsing/job/c3d74561-d3f6-45e0-a93c-21739ce3bdf2 \"HTTP/1.1 200 OK\"\n",
      "INFO: HTTP Request: GET https://api.cloud.llamaindex.ai/api/parsing/job/c3d74561-d3f6-45e0-a93c-21739ce3bdf2 \"HTTP/1.1 200 OK\"\n",
      "INFO: HTTP Request: GET https://api.cloud.llamaindex.ai/api/parsing/job/c3d74561-d3f6-45e0-a93c-21739ce3bdf2/result/markdown \"HTTP/1.1 200 OK\"\n"
     ]
    },
    {
     "name": "stdout",
     "output_type": "stream",
     "text": [
      "../data/out/md/103-Explain-the-Block-Schedulepdf.md saved.\n"
     ]
    },
    {
     "name": "stderr",
     "output_type": "stream",
     "text": [
      "INFO: HTTP Request: POST https://api.cloud.llamaindex.ai/api/parsing/upload \"HTTP/1.1 200 OK\"\n"
     ]
    },
    {
     "name": "stdout",
     "output_type": "stream",
     "text": [
      "Started parsing the file under job_id 305884a0-b78a-433d-b573-a268c007b0c4\n"
     ]
    },
    {
     "name": "stderr",
     "output_type": "stream",
     "text": [
      "INFO: HTTP Request: GET https://api.cloud.llamaindex.ai/api/parsing/job/305884a0-b78a-433d-b573-a268c007b0c4 \"HTTP/1.1 200 OK\"\n",
      "INFO: HTTP Request: GET https://api.cloud.llamaindex.ai/api/parsing/job/305884a0-b78a-433d-b573-a268c007b0c4 \"HTTP/1.1 200 OK\"\n",
      "INFO: HTTP Request: GET https://api.cloud.llamaindex.ai/api/parsing/job/305884a0-b78a-433d-b573-a268c007b0c4 \"HTTP/1.1 200 OK\"\n",
      "INFO: HTTP Request: GET https://api.cloud.llamaindex.ai/api/parsing/job/305884a0-b78a-433d-b573-a268c007b0c4 \"HTTP/1.1 200 OK\"\n",
      "INFO: HTTP Request: GET https://api.cloud.llamaindex.ai/api/parsing/job/305884a0-b78a-433d-b573-a268c007b0c4 \"HTTP/1.1 200 OK\"\n",
      "INFO: HTTP Request: GET https://api.cloud.llamaindex.ai/api/parsing/job/305884a0-b78a-433d-b573-a268c007b0c4 \"HTTP/1.1 200 OK\"\n",
      "INFO: HTTP Request: GET https://api.cloud.llamaindex.ai/api/parsing/job/305884a0-b78a-433d-b573-a268c007b0c4 \"HTTP/1.1 200 OK\"\n",
      "INFO: HTTP Request: GET https://api.cloud.llamaindex.ai/api/parsing/job/305884a0-b78a-433d-b573-a268c007b0c4 \"HTTP/1.1 200 OK\"\n",
      "INFO: HTTP Request: GET https://api.cloud.llamaindex.ai/api/parsing/job/305884a0-b78a-433d-b573-a268c007b0c4/result/markdown \"HTTP/1.1 200 OK\"\n"
     ]
    },
    {
     "name": "stdout",
     "output_type": "stream",
     "text": [
      "../data/out/md/104-Explaining-BYUPW-to-Potential-Studentspdf.md saved.\n"
     ]
    },
    {
     "name": "stderr",
     "output_type": "stream",
     "text": [
      "INFO: HTTP Request: POST https://api.cloud.llamaindex.ai/api/parsing/upload \"HTTP/1.1 200 OK\"\n"
     ]
    },
    {
     "name": "stdout",
     "output_type": "stream",
     "text": [
      "Started parsing the file under job_id cb2c7def-4306-4cc3-af8b-67d0d4709c36\n"
     ]
    },
    {
     "name": "stderr",
     "output_type": "stream",
     "text": [
      "INFO: HTTP Request: GET https://api.cloud.llamaindex.ai/api/parsing/job/cb2c7def-4306-4cc3-af8b-67d0d4709c36 \"HTTP/1.1 200 OK\"\n",
      "INFO: HTTP Request: GET https://api.cloud.llamaindex.ai/api/parsing/job/cb2c7def-4306-4cc3-af8b-67d0d4709c36/result/markdown \"HTTP/1.1 200 OK\"\n"
     ]
    },
    {
     "name": "stdout",
     "output_type": "stream",
     "text": [
      "../data/out/md/105-FRENCH-CSM-Application-Octpdf.md saved.\n"
     ]
    },
    {
     "name": "stderr",
     "output_type": "stream",
     "text": [
      "INFO: HTTP Request: POST https://api.cloud.llamaindex.ai/api/parsing/upload \"HTTP/1.1 200 OK\"\n"
     ]
    },
    {
     "name": "stdout",
     "output_type": "stream",
     "text": [
      "Started parsing the file under job_id 57aa283c-cf87-40fc-a3dc-e0df45e988e0\n"
     ]
    },
    {
     "name": "stderr",
     "output_type": "stream",
     "text": [
      "INFO: HTTP Request: GET https://api.cloud.llamaindex.ai/api/parsing/job/57aa283c-cf87-40fc-a3dc-e0df45e988e0 \"HTTP/1.1 200 OK\"\n",
      "INFO: HTTP Request: GET https://api.cloud.llamaindex.ai/api/parsing/job/57aa283c-cf87-40fc-a3dc-e0df45e988e0 \"HTTP/1.1 200 OK\"\n",
      "INFO: HTTP Request: GET https://api.cloud.llamaindex.ai/api/parsing/job/57aa283c-cf87-40fc-a3dc-e0df45e988e0 \"HTTP/1.1 200 OK\"\n",
      "INFO: HTTP Request: GET https://api.cloud.llamaindex.ai/api/parsing/job/57aa283c-cf87-40fc-a3dc-e0df45e988e0 \"HTTP/1.1 200 OK\"\n",
      "INFO: HTTP Request: GET https://api.cloud.llamaindex.ai/api/parsing/job/57aa283c-cf87-40fc-a3dc-e0df45e988e0 \"HTTP/1.1 200 OK\"\n",
      "INFO: HTTP Request: GET https://api.cloud.llamaindex.ai/api/parsing/job/57aa283c-cf87-40fc-a3dc-e0df45e988e0/result/markdown \"HTTP/1.1 200 OK\"\n"
     ]
    },
    {
     "name": "stdout",
     "output_type": "stream",
     "text": [
      "../data/out/md/106-Facilitating-a-Virtual-EC-Gatheringpdf.md saved.\n"
     ]
    },
    {
     "name": "stderr",
     "output_type": "stream",
     "text": [
      "INFO: HTTP Request: POST https://api.cloud.llamaindex.ai/api/parsing/upload \"HTTP/1.1 200 OK\"\n"
     ]
    },
    {
     "name": "stdout",
     "output_type": "stream",
     "text": [
      "Started parsing the file under job_id 70bcc040-8e2f-49ac-8519-e82e5f8a6ce9\n"
     ]
    },
    {
     "name": "stderr",
     "output_type": "stream",
     "text": [
      "INFO: HTTP Request: GET https://api.cloud.llamaindex.ai/api/parsing/job/70bcc040-8e2f-49ac-8519-e82e5f8a6ce9 \"HTTP/1.1 200 OK\"\n",
      "INFO: HTTP Request: GET https://api.cloud.llamaindex.ai/api/parsing/job/70bcc040-8e2f-49ac-8519-e82e5f8a6ce9 \"HTTP/1.1 200 OK\"\n",
      "INFO: HTTP Request: GET https://api.cloud.llamaindex.ai/api/parsing/job/70bcc040-8e2f-49ac-8519-e82e5f8a6ce9 \"HTTP/1.1 200 OK\"\n",
      "INFO: HTTP Request: GET https://api.cloud.llamaindex.ai/api/parsing/job/70bcc040-8e2f-49ac-8519-e82e5f8a6ce9 \"HTTP/1.1 200 OK\"\n",
      "INFO: HTTP Request: GET https://api.cloud.llamaindex.ai/api/parsing/job/70bcc040-8e2f-49ac-8519-e82e5f8a6ce9 \"HTTP/1.1 200 OK\"\n",
      "INFO: HTTP Request: GET https://api.cloud.llamaindex.ai/api/parsing/job/70bcc040-8e2f-49ac-8519-e82e5f8a6ce9/result/markdown \"HTTP/1.1 200 OK\"\n"
     ]
    },
    {
     "name": "stdout",
     "output_type": "stream",
     "text": [
      "../data/out/md/107-Facilitating-an-In-Person-EC-Gatheringpdf.md saved.\n"
     ]
    },
    {
     "name": "stderr",
     "output_type": "stream",
     "text": [
      "INFO: HTTP Request: POST https://api.cloud.llamaindex.ai/api/parsing/upload \"HTTP/1.1 200 OK\"\n"
     ]
    },
    {
     "name": "stdout",
     "output_type": "stream",
     "text": [
      "Started parsing the file under job_id 511ba0b1-c421-4747-a6d8-8bbdf33fff21\n"
     ]
    },
    {
     "name": "stderr",
     "output_type": "stream",
     "text": [
      "INFO: HTTP Request: GET https://api.cloud.llamaindex.ai/api/parsing/job/511ba0b1-c421-4747-a6d8-8bbdf33fff21 \"HTTP/1.1 200 OK\"\n",
      "INFO: HTTP Request: GET https://api.cloud.llamaindex.ai/api/parsing/job/511ba0b1-c421-4747-a6d8-8bbdf33fff21 \"HTTP/1.1 200 OK\"\n",
      "INFO: HTTP Request: GET https://api.cloud.llamaindex.ai/api/parsing/job/511ba0b1-c421-4747-a6d8-8bbdf33fff21 \"HTTP/1.1 200 OK\"\n",
      "INFO: HTTP Request: GET https://api.cloud.llamaindex.ai/api/parsing/job/511ba0b1-c421-4747-a6d8-8bbdf33fff21 \"HTTP/1.1 200 OK\"\n",
      "INFO: HTTP Request: GET https://api.cloud.llamaindex.ai/api/parsing/job/511ba0b1-c421-4747-a6d8-8bbdf33fff21 \"HTTP/1.1 200 OK\"\n",
      "INFO: HTTP Request: GET https://api.cloud.llamaindex.ai/api/parsing/job/511ba0b1-c421-4747-a6d8-8bbdf33fff21/result/markdown \"HTTP/1.1 200 OK\"\n"
     ]
    },
    {
     "name": "stdout",
     "output_type": "stream",
     "text": [
      "../data/out/md/108-Find-Student-Informationpdf.md saved.\n"
     ]
    },
    {
     "name": "stderr",
     "output_type": "stream",
     "text": [
      "INFO: HTTP Request: POST https://api.cloud.llamaindex.ai/api/parsing/upload \"HTTP/1.1 200 OK\"\n"
     ]
    },
    {
     "name": "stdout",
     "output_type": "stream",
     "text": [
      "Started parsing the file under job_id 85316eb3-5974-4aa7-a2dd-bc841e0588af\n"
     ]
    },
    {
     "name": "stderr",
     "output_type": "stream",
     "text": [
      "INFO: HTTP Request: GET https://api.cloud.llamaindex.ai/api/parsing/job/85316eb3-5974-4aa7-a2dd-bc841e0588af \"HTTP/1.1 200 OK\"\n",
      "INFO: HTTP Request: GET https://api.cloud.llamaindex.ai/api/parsing/job/85316eb3-5974-4aa7-a2dd-bc841e0588af \"HTTP/1.1 200 OK\"\n",
      "INFO: HTTP Request: GET https://api.cloud.llamaindex.ai/api/parsing/job/85316eb3-5974-4aa7-a2dd-bc841e0588af \"HTTP/1.1 200 OK\"\n",
      "INFO: HTTP Request: GET https://api.cloud.llamaindex.ai/api/parsing/job/85316eb3-5974-4aa7-a2dd-bc841e0588af \"HTTP/1.1 200 OK\"\n",
      "INFO: HTTP Request: GET https://api.cloud.llamaindex.ai/api/parsing/job/85316eb3-5974-4aa7-a2dd-bc841e0588af/result/markdown \"HTTP/1.1 200 OK\"\n"
     ]
    },
    {
     "name": "stdout",
     "output_type": "stream",
     "text": [
      "../data/out/md/109-Find-Student-Personal-Informationpdf.md saved.\n"
     ]
    },
    {
     "name": "stderr",
     "output_type": "stream",
     "text": [
      "INFO: HTTP Request: POST https://api.cloud.llamaindex.ai/api/parsing/upload \"HTTP/1.1 200 OK\"\n"
     ]
    },
    {
     "name": "stdout",
     "output_type": "stream",
     "text": [
      "Started parsing the file under job_id 805db375-ed80-40ab-952e-9d44d4fac79d\n"
     ]
    },
    {
     "name": "stderr",
     "output_type": "stream",
     "text": [
      "INFO: HTTP Request: GET https://api.cloud.llamaindex.ai/api/parsing/job/805db375-ed80-40ab-952e-9d44d4fac79d \"HTTP/1.1 200 OK\"\n",
      "INFO: HTTP Request: GET https://api.cloud.llamaindex.ai/api/parsing/job/805db375-ed80-40ab-952e-9d44d4fac79d \"HTTP/1.1 200 OK\"\n",
      "INFO: HTTP Request: GET https://api.cloud.llamaindex.ai/api/parsing/job/805db375-ed80-40ab-952e-9d44d4fac79d \"HTTP/1.1 200 OK\"\n",
      "INFO: HTTP Request: GET https://api.cloud.llamaindex.ai/api/parsing/job/805db375-ed80-40ab-952e-9d44d4fac79d/result/markdown \"HTTP/1.1 200 OK\"\n"
     ]
    },
    {
     "name": "stdout",
     "output_type": "stream",
     "text": [
      "../data/out/md/11-Activate-Your-New-Zoom-Accountpdf.md saved.\n"
     ]
    },
    {
     "name": "stderr",
     "output_type": "stream",
     "text": [
      "INFO: HTTP Request: POST https://api.cloud.llamaindex.ai/api/parsing/upload \"HTTP/1.1 200 OK\"\n"
     ]
    },
    {
     "name": "stdout",
     "output_type": "stream",
     "text": [
      "Started parsing the file under job_id 01511034-b8c8-4348-818d-676d842009b0\n"
     ]
    },
    {
     "name": "stderr",
     "output_type": "stream",
     "text": [
      "INFO: HTTP Request: GET https://api.cloud.llamaindex.ai/api/parsing/job/01511034-b8c8-4348-818d-676d842009b0 \"HTTP/1.1 200 OK\"\n",
      "INFO: HTTP Request: GET https://api.cloud.llamaindex.ai/api/parsing/job/01511034-b8c8-4348-818d-676d842009b0 \"HTTP/1.1 200 OK\"\n",
      "INFO: HTTP Request: GET https://api.cloud.llamaindex.ai/api/parsing/job/01511034-b8c8-4348-818d-676d842009b0 \"HTTP/1.1 200 OK\"\n",
      "INFO: HTTP Request: GET https://api.cloud.llamaindex.ai/api/parsing/job/01511034-b8c8-4348-818d-676d842009b0 \"HTTP/1.1 200 OK\"\n",
      "INFO: HTTP Request: GET https://api.cloud.llamaindex.ai/api/parsing/job/01511034-b8c8-4348-818d-676d842009b0/result/markdown \"HTTP/1.1 200 OK\"\n"
     ]
    },
    {
     "name": "stdout",
     "output_type": "stream",
     "text": [
      "../data/out/md/110-Find-Tuition-Balance-and-Paymentspdf.md saved.\n"
     ]
    },
    {
     "name": "stderr",
     "output_type": "stream",
     "text": [
      "INFO: HTTP Request: POST https://api.cloud.llamaindex.ai/api/parsing/upload \"HTTP/1.1 200 OK\"\n"
     ]
    },
    {
     "name": "stdout",
     "output_type": "stream",
     "text": [
      "Started parsing the file under job_id 7f86fe0e-62ed-418d-ba79-7b10c18bde2a\n"
     ]
    },
    {
     "name": "stderr",
     "output_type": "stream",
     "text": [
      "INFO: HTTP Request: GET https://api.cloud.llamaindex.ai/api/parsing/job/7f86fe0e-62ed-418d-ba79-7b10c18bde2a \"HTTP/1.1 200 OK\"\n",
      "INFO: HTTP Request: GET https://api.cloud.llamaindex.ai/api/parsing/job/7f86fe0e-62ed-418d-ba79-7b10c18bde2a \"HTTP/1.1 200 OK\"\n",
      "INFO: HTTP Request: GET https://api.cloud.llamaindex.ai/api/parsing/job/7f86fe0e-62ed-418d-ba79-7b10c18bde2a \"HTTP/1.1 200 OK\"\n",
      "INFO: HTTP Request: GET https://api.cloud.llamaindex.ai/api/parsing/job/7f86fe0e-62ed-418d-ba79-7b10c18bde2a \"HTTP/1.1 200 OK\"\n",
      "INFO: HTTP Request: GET https://api.cloud.llamaindex.ai/api/parsing/job/7f86fe0e-62ed-418d-ba79-7b10c18bde2a/result/markdown \"HTTP/1.1 200 OK\"\n"
     ]
    },
    {
     "name": "stdout",
     "output_type": "stream",
     "text": [
      "../data/out/md/111-Find-a-Learners-Enrollment-Informationpdf.md saved.\n"
     ]
    },
    {
     "name": "stderr",
     "output_type": "stream",
     "text": [
      "INFO: HTTP Request: POST https://api.cloud.llamaindex.ai/api/parsing/upload \"HTTP/1.1 200 OK\"\n"
     ]
    },
    {
     "name": "stdout",
     "output_type": "stream",
     "text": [
      "Started parsing the file under job_id cb5e79ed-f3e7-44e0-8579-3b90013efb20\n"
     ]
    },
    {
     "name": "stderr",
     "output_type": "stream",
     "text": [
      "INFO: HTTP Request: GET https://api.cloud.llamaindex.ai/api/parsing/job/cb5e79ed-f3e7-44e0-8579-3b90013efb20 \"HTTP/1.1 200 OK\"\n",
      "INFO: HTTP Request: GET https://api.cloud.llamaindex.ai/api/parsing/job/cb5e79ed-f3e7-44e0-8579-3b90013efb20/result/markdown \"HTTP/1.1 200 OK\"\n"
     ]
    },
    {
     "name": "stdout",
     "output_type": "stream",
     "text": [
      "../data/out/md/112-Find-a-Learners-ID-Numberpdf.md saved.\n"
     ]
    },
    {
     "name": "stderr",
     "output_type": "stream",
     "text": [
      "INFO: HTTP Request: POST https://api.cloud.llamaindex.ai/api/parsing/upload \"HTTP/1.1 200 OK\"\n"
     ]
    },
    {
     "name": "stdout",
     "output_type": "stream",
     "text": [
      "Started parsing the file under job_id 7c75a545-1afe-4111-a8d7-ad89799b1b05\n"
     ]
    },
    {
     "name": "stderr",
     "output_type": "stream",
     "text": [
      "INFO: HTTP Request: GET https://api.cloud.llamaindex.ai/api/parsing/job/7c75a545-1afe-4111-a8d7-ad89799b1b05 \"HTTP/1.1 200 OK\"\n",
      "INFO: HTTP Request: GET https://api.cloud.llamaindex.ai/api/parsing/job/7c75a545-1afe-4111-a8d7-ad89799b1b05 \"HTTP/1.1 200 OK\"\n",
      "INFO: HTTP Request: GET https://api.cloud.llamaindex.ai/api/parsing/job/7c75a545-1afe-4111-a8d7-ad89799b1b05 \"HTTP/1.1 200 OK\"\n",
      "INFO: HTTP Request: GET https://api.cloud.llamaindex.ai/api/parsing/job/7c75a545-1afe-4111-a8d7-ad89799b1b05 \"HTTP/1.1 200 OK\"\n",
      "INFO: HTTP Request: GET https://api.cloud.llamaindex.ai/api/parsing/job/7c75a545-1afe-4111-a8d7-ad89799b1b05/result/markdown \"HTTP/1.1 200 OK\"\n"
     ]
    },
    {
     "name": "stdout",
     "output_type": "stream",
     "text": [
      "../data/out/md/113-Find-a-Learners-Personal-Informationpdf.md saved.\n"
     ]
    },
    {
     "name": "stderr",
     "output_type": "stream",
     "text": [
      "INFO: HTTP Request: POST https://api.cloud.llamaindex.ai/api/parsing/upload \"HTTP/1.1 200 OK\"\n"
     ]
    },
    {
     "name": "stdout",
     "output_type": "stream",
     "text": [
      "Started parsing the file under job_id ae1a53e5-47df-4d89-b3e9-86aeed49a91e\n"
     ]
    },
    {
     "name": "stderr",
     "output_type": "stream",
     "text": [
      "INFO: HTTP Request: GET https://api.cloud.llamaindex.ai/api/parsing/job/ae1a53e5-47df-4d89-b3e9-86aeed49a91e \"HTTP/1.1 200 OK\"\n",
      "INFO: HTTP Request: GET https://api.cloud.llamaindex.ai/api/parsing/job/ae1a53e5-47df-4d89-b3e9-86aeed49a91e \"HTTP/1.1 200 OK\"\n",
      "INFO: HTTP Request: GET https://api.cloud.llamaindex.ai/api/parsing/job/ae1a53e5-47df-4d89-b3e9-86aeed49a91e \"HTTP/1.1 200 OK\"\n",
      "INFO: HTTP Request: GET https://api.cloud.llamaindex.ai/api/parsing/job/ae1a53e5-47df-4d89-b3e9-86aeed49a91e \"HTTP/1.1 200 OK\"\n",
      "INFO: HTTP Request: GET https://api.cloud.llamaindex.ai/api/parsing/job/ae1a53e5-47df-4d89-b3e9-86aeed49a91e/result/markdown \"HTTP/1.1 200 OK\"\n"
     ]
    },
    {
     "name": "stdout",
     "output_type": "stream",
     "text": [
      "../data/out/md/114-Find-a-Learners-Tuition-Payment-and-Balancepdf.md saved.\n"
     ]
    },
    {
     "name": "stderr",
     "output_type": "stream",
     "text": [
      "INFO: HTTP Request: POST https://api.cloud.llamaindex.ai/api/parsing/upload \"HTTP/1.1 200 OK\"\n"
     ]
    },
    {
     "name": "stdout",
     "output_type": "stream",
     "text": [
      "Started parsing the file under job_id 5931d524-190a-43cb-a044-21f8aae46a1e\n"
     ]
    },
    {
     "name": "stderr",
     "output_type": "stream",
     "text": [
      "INFO: HTTP Request: GET https://api.cloud.llamaindex.ai/api/parsing/job/5931d524-190a-43cb-a044-21f8aae46a1e \"HTTP/1.1 200 OK\"\n",
      "INFO: HTTP Request: GET https://api.cloud.llamaindex.ai/api/parsing/job/5931d524-190a-43cb-a044-21f8aae46a1e \"HTTP/1.1 200 OK\"\n",
      "INFO: HTTP Request: GET https://api.cloud.llamaindex.ai/api/parsing/job/5931d524-190a-43cb-a044-21f8aae46a1e \"HTTP/1.1 200 OK\"\n",
      "INFO: HTTP Request: GET https://api.cloud.llamaindex.ai/api/parsing/job/5931d524-190a-43cb-a044-21f8aae46a1e \"HTTP/1.1 200 OK\"\n",
      "INFO: HTTP Request: GET https://api.cloud.llamaindex.ai/api/parsing/job/5931d524-190a-43cb-a044-21f8aae46a1e/result/markdown \"HTTP/1.1 200 OK\"\n"
     ]
    },
    {
     "name": "stdout",
     "output_type": "stream",
     "text": [
      "../data/out/md/115-Find-a-Students-Contact-Informationpdf.md saved.\n"
     ]
    },
    {
     "name": "stderr",
     "output_type": "stream",
     "text": [
      "INFO: HTTP Request: POST https://api.cloud.llamaindex.ai/api/parsing/upload \"HTTP/1.1 200 OK\"\n"
     ]
    },
    {
     "name": "stdout",
     "output_type": "stream",
     "text": [
      "Started parsing the file under job_id 53b62dc9-367a-40a9-ad8b-0de7e86f64f9\n"
     ]
    },
    {
     "name": "stderr",
     "output_type": "stream",
     "text": [
      "INFO: HTTP Request: GET https://api.cloud.llamaindex.ai/api/parsing/job/53b62dc9-367a-40a9-ad8b-0de7e86f64f9 \"HTTP/1.1 200 OK\"\n",
      "INFO: HTTP Request: GET https://api.cloud.llamaindex.ai/api/parsing/job/53b62dc9-367a-40a9-ad8b-0de7e86f64f9 \"HTTP/1.1 200 OK\"\n",
      "INFO: HTTP Request: GET https://api.cloud.llamaindex.ai/api/parsing/job/53b62dc9-367a-40a9-ad8b-0de7e86f64f9 \"HTTP/1.1 200 OK\"\n",
      "INFO: HTTP Request: GET https://api.cloud.llamaindex.ai/api/parsing/job/53b62dc9-367a-40a9-ad8b-0de7e86f64f9 \"HTTP/1.1 200 OK\"\n",
      "INFO: HTTP Request: GET https://api.cloud.llamaindex.ai/api/parsing/job/53b62dc9-367a-40a9-ad8b-0de7e86f64f9/result/markdown \"HTTP/1.1 200 OK\"\n"
     ]
    },
    {
     "name": "stdout",
     "output_type": "stream",
     "text": [
      "../data/out/md/116-Find-a-Students-ID-Numberpdf.md saved.\n"
     ]
    },
    {
     "name": "stderr",
     "output_type": "stream",
     "text": [
      "INFO: HTTP Request: POST https://api.cloud.llamaindex.ai/api/parsing/upload \"HTTP/1.1 200 OK\"\n"
     ]
    },
    {
     "name": "stdout",
     "output_type": "stream",
     "text": [
      "Started parsing the file under job_id e72c44df-6725-4b7f-a0ba-1fc6d9a919d4\n"
     ]
    },
    {
     "name": "stderr",
     "output_type": "stream",
     "text": [
      "INFO: HTTP Request: GET https://api.cloud.llamaindex.ai/api/parsing/job/e72c44df-6725-4b7f-a0ba-1fc6d9a919d4 \"HTTP/1.1 200 OK\"\n",
      "INFO: HTTP Request: GET https://api.cloud.llamaindex.ai/api/parsing/job/e72c44df-6725-4b7f-a0ba-1fc6d9a919d4/result/markdown \"HTTP/1.1 200 OK\"\n"
     ]
    },
    {
     "name": "stdout",
     "output_type": "stream",
     "text": [
      "../data/out/md/117-Finding--Using-PowerBI-Reportspdf.md saved.\n"
     ]
    },
    {
     "name": "stderr",
     "output_type": "stream",
     "text": [
      "INFO: HTTP Request: POST https://api.cloud.llamaindex.ai/api/parsing/upload \"HTTP/1.1 200 OK\"\n"
     ]
    },
    {
     "name": "stdout",
     "output_type": "stream",
     "text": [
      "Started parsing the file under job_id 4d3f0c54-895f-4660-888a-2d20950bd281\n"
     ]
    },
    {
     "name": "stderr",
     "output_type": "stream",
     "text": [
      "INFO: HTTP Request: GET https://api.cloud.llamaindex.ai/api/parsing/job/4d3f0c54-895f-4660-888a-2d20950bd281 \"HTTP/1.1 200 OK\"\n",
      "INFO: HTTP Request: GET https://api.cloud.llamaindex.ai/api/parsing/job/4d3f0c54-895f-4660-888a-2d20950bd281/result/markdown \"HTTP/1.1 200 OK\"\n"
     ]
    },
    {
     "name": "stdout",
     "output_type": "stream",
     "text": [
      "../data/out/md/118-Finding-Learner-Information-ECpdf.md saved.\n"
     ]
    },
    {
     "name": "stderr",
     "output_type": "stream",
     "text": [
      "INFO: HTTP Request: POST https://api.cloud.llamaindex.ai/api/parsing/upload \"HTTP/1.1 200 OK\"\n"
     ]
    },
    {
     "name": "stdout",
     "output_type": "stream",
     "text": [
      "Started parsing the file under job_id 22600b76-ec5e-4adf-a560-81e9d79a92ea\n"
     ]
    },
    {
     "name": "stderr",
     "output_type": "stream",
     "text": [
      "INFO: HTTP Request: GET https://api.cloud.llamaindex.ai/api/parsing/job/22600b76-ec5e-4adf-a560-81e9d79a92ea \"HTTP/1.1 200 OK\"\n",
      "INFO: HTTP Request: GET https://api.cloud.llamaindex.ai/api/parsing/job/22600b76-ec5e-4adf-a560-81e9d79a92ea \"HTTP/1.1 200 OK\"\n",
      "INFO: HTTP Request: GET https://api.cloud.llamaindex.ai/api/parsing/job/22600b76-ec5e-4adf-a560-81e9d79a92ea \"HTTP/1.1 200 OK\"\n",
      "INFO: HTTP Request: GET https://api.cloud.llamaindex.ai/api/parsing/job/22600b76-ec5e-4adf-a560-81e9d79a92ea \"HTTP/1.1 200 OK\"\n",
      "INFO: HTTP Request: GET https://api.cloud.llamaindex.ai/api/parsing/job/22600b76-ec5e-4adf-a560-81e9d79a92ea \"HTTP/1.1 200 OK\"\n",
      "INFO: HTTP Request: GET https://api.cloud.llamaindex.ai/api/parsing/job/22600b76-ec5e-4adf-a560-81e9d79a92ea/result/markdown \"HTTP/1.1 200 OK\"\n"
     ]
    },
    {
     "name": "stdout",
     "output_type": "stream",
     "text": [
      "../data/out/md/119-Finding-Student-Information-in-PATH.md saved.\n"
     ]
    },
    {
     "name": "stderr",
     "output_type": "stream",
     "text": [
      "INFO: HTTP Request: POST https://api.cloud.llamaindex.ai/api/parsing/upload \"HTTP/1.1 200 OK\"\n"
     ]
    },
    {
     "name": "stdout",
     "output_type": "stream",
     "text": [
      "Started parsing the file under job_id f202473e-3a43-4b93-9d29-e8ab86c929c7\n"
     ]
    },
    {
     "name": "stderr",
     "output_type": "stream",
     "text": [
      "INFO: HTTP Request: GET https://api.cloud.llamaindex.ai/api/parsing/job/f202473e-3a43-4b93-9d29-e8ab86c929c7 \"HTTP/1.1 200 OK\"\n",
      "INFO: HTTP Request: GET https://api.cloud.llamaindex.ai/api/parsing/job/f202473e-3a43-4b93-9d29-e8ab86c929c7 \"HTTP/1.1 200 OK\"\n",
      "INFO: HTTP Request: GET https://api.cloud.llamaindex.ai/api/parsing/job/f202473e-3a43-4b93-9d29-e8ab86c929c7 \"HTTP/1.1 200 OK\"\n",
      "INFO: HTTP Request: GET https://api.cloud.llamaindex.ai/api/parsing/job/f202473e-3a43-4b93-9d29-e8ab86c929c7/result/markdown \"HTTP/1.1 200 OK\"\n"
     ]
    },
    {
     "name": "stdout",
     "output_type": "stream",
     "text": [
      "../data/out/md/12-Adjusting-for-Daylight-Savings-Timepdf.md saved.\n"
     ]
    },
    {
     "name": "stderr",
     "output_type": "stream",
     "text": [
      "INFO: HTTP Request: POST https://api.cloud.llamaindex.ai/api/parsing/upload \"HTTP/1.1 200 OK\"\n"
     ]
    },
    {
     "name": "stdout",
     "output_type": "stream",
     "text": [
      "Started parsing the file under job_id 1a4497a7-87fa-412b-9c71-6c8e08d2d9ea\n"
     ]
    },
    {
     "name": "stderr",
     "output_type": "stream",
     "text": [
      "INFO: HTTP Request: GET https://api.cloud.llamaindex.ai/api/parsing/job/1a4497a7-87fa-412b-9c71-6c8e08d2d9ea \"HTTP/1.1 200 OK\"\n",
      "INFO: HTTP Request: GET https://api.cloud.llamaindex.ai/api/parsing/job/1a4497a7-87fa-412b-9c71-6c8e08d2d9ea \"HTTP/1.1 200 OK\"\n",
      "INFO: HTTP Request: GET https://api.cloud.llamaindex.ai/api/parsing/job/1a4497a7-87fa-412b-9c71-6c8e08d2d9ea \"HTTP/1.1 200 OK\"\n",
      "INFO: HTTP Request: GET https://api.cloud.llamaindex.ai/api/parsing/job/1a4497a7-87fa-412b-9c71-6c8e08d2d9ea \"HTTP/1.1 200 OK\"\n",
      "INFO: HTTP Request: GET https://api.cloud.llamaindex.ai/api/parsing/job/1a4497a7-87fa-412b-9c71-6c8e08d2d9ea \"HTTP/1.1 200 OK\"\n",
      "INFO: HTTP Request: GET https://api.cloud.llamaindex.ai/api/parsing/job/1a4497a7-87fa-412b-9c71-6c8e08d2d9ea \"HTTP/1.1 200 OK\"\n",
      "INFO: HTTP Request: GET https://api.cloud.llamaindex.ai/api/parsing/job/1a4497a7-87fa-412b-9c71-6c8e08d2d9ea \"HTTP/1.1 200 OK\"\n",
      "INFO: HTTP Request: GET https://api.cloud.llamaindex.ai/api/parsing/job/1a4497a7-87fa-412b-9c71-6c8e08d2d9ea/result/markdown \"HTTP/1.1 200 OK\"\n"
     ]
    },
    {
     "name": "stdout",
     "output_type": "stream",
     "text": [
      "../data/out/md/120-Finding-Students-with-Duplicate-Path-Accountspdf.md saved.\n"
     ]
    },
    {
     "name": "stderr",
     "output_type": "stream",
     "text": [
      "INFO: HTTP Request: POST https://api.cloud.llamaindex.ai/api/parsing/upload \"HTTP/1.1 200 OK\"\n"
     ]
    },
    {
     "name": "stdout",
     "output_type": "stream",
     "text": [
      "Started parsing the file under job_id e2fabac0-b3b9-4e78-a4a9-66ad7cb0f511\n"
     ]
    },
    {
     "name": "stderr",
     "output_type": "stream",
     "text": [
      "INFO: HTTP Request: GET https://api.cloud.llamaindex.ai/api/parsing/job/e2fabac0-b3b9-4e78-a4a9-66ad7cb0f511 \"HTTP/1.1 200 OK\"\n",
      "INFO: HTTP Request: GET https://api.cloud.llamaindex.ai/api/parsing/job/e2fabac0-b3b9-4e78-a4a9-66ad7cb0f511 \"HTTP/1.1 200 OK\"\n",
      "INFO: HTTP Request: GET https://api.cloud.llamaindex.ai/api/parsing/job/e2fabac0-b3b9-4e78-a4a9-66ad7cb0f511 \"HTTP/1.1 200 OK\"\n",
      "INFO: HTTP Request: GET https://api.cloud.llamaindex.ai/api/parsing/job/e2fabac0-b3b9-4e78-a4a9-66ad7cb0f511/result/markdown \"HTTP/1.1 200 OK\"\n"
     ]
    },
    {
     "name": "stdout",
     "output_type": "stream",
     "text": [
      "../data/out/md/121-Finding-Your-Location-in-PATH-ECpdf.md saved.\n"
     ]
    },
    {
     "name": "stderr",
     "output_type": "stream",
     "text": [
      "INFO: HTTP Request: POST https://api.cloud.llamaindex.ai/api/parsing/upload \"HTTP/1.1 200 OK\"\n"
     ]
    },
    {
     "name": "stdout",
     "output_type": "stream",
     "text": [
      "Started parsing the file under job_id bbc68e70-1385-48c9-95c7-a6b26a5bfec3\n"
     ]
    },
    {
     "name": "stderr",
     "output_type": "stream",
     "text": [
      "INFO: HTTP Request: GET https://api.cloud.llamaindex.ai/api/parsing/job/bbc68e70-1385-48c9-95c7-a6b26a5bfec3 \"HTTP/1.1 200 OK\"\n",
      "INFO: HTTP Request: GET https://api.cloud.llamaindex.ai/api/parsing/job/bbc68e70-1385-48c9-95c7-a6b26a5bfec3/result/markdown \"HTTP/1.1 200 OK\"\n"
     ]
    },
    {
     "name": "stdout",
     "output_type": "stream",
     "text": [
      "../data/out/md/122-Finding-Your-Location-in-PATHpdf.md saved.\n"
     ]
    },
    {
     "name": "stderr",
     "output_type": "stream",
     "text": [
      "INFO: HTTP Request: POST https://api.cloud.llamaindex.ai/api/parsing/upload \"HTTP/1.1 200 OK\"\n"
     ]
    },
    {
     "name": "stdout",
     "output_type": "stream",
     "text": [
      "Started parsing the file under job_id d695457d-691c-44bc-b2bb-7713d5daf18b\n"
     ]
    },
    {
     "name": "stderr",
     "output_type": "stream",
     "text": [
      "INFO: HTTP Request: GET https://api.cloud.llamaindex.ai/api/parsing/job/d695457d-691c-44bc-b2bb-7713d5daf18b \"HTTP/1.1 200 OK\"\n",
      "INFO: HTTP Request: GET https://api.cloud.llamaindex.ai/api/parsing/job/d695457d-691c-44bc-b2bb-7713d5daf18b/result/markdown \"HTTP/1.1 200 OK\"\n"
     ]
    },
    {
     "name": "stdout",
     "output_type": "stream",
     "text": [
      "../data/out/md/123-Finding-or-Updating-Your-Host-Keypdf.md saved.\n"
     ]
    },
    {
     "name": "stderr",
     "output_type": "stream",
     "text": [
      "INFO: HTTP Request: POST https://api.cloud.llamaindex.ai/api/parsing/upload \"HTTP/1.1 200 OK\"\n"
     ]
    },
    {
     "name": "stdout",
     "output_type": "stream",
     "text": [
      "Started parsing the file under job_id bce7f273-4aa0-4c3d-865e-ad4ffe6b9d99\n"
     ]
    },
    {
     "name": "stderr",
     "output_type": "stream",
     "text": [
      "INFO: HTTP Request: GET https://api.cloud.llamaindex.ai/api/parsing/job/bce7f273-4aa0-4c3d-865e-ad4ffe6b9d99 \"HTTP/1.1 200 OK\"\n",
      "INFO: HTTP Request: GET https://api.cloud.llamaindex.ai/api/parsing/job/bce7f273-4aa0-4c3d-865e-ad4ffe6b9d99 \"HTTP/1.1 200 OK\"\n",
      "INFO: HTTP Request: GET https://api.cloud.llamaindex.ai/api/parsing/job/bce7f273-4aa0-4c3d-865e-ad4ffe6b9d99 \"HTTP/1.1 200 OK\"\n",
      "INFO: HTTP Request: GET https://api.cloud.llamaindex.ai/api/parsing/job/bce7f273-4aa0-4c3d-865e-ad4ffe6b9d99 \"HTTP/1.1 200 OK\"\n",
      "INFO: HTTP Request: GET https://api.cloud.llamaindex.ai/api/parsing/job/bce7f273-4aa0-4c3d-865e-ad4ffe6b9d99 \"HTTP/1.1 200 OK\"\n",
      "INFO: HTTP Request: GET https://api.cloud.llamaindex.ai/api/parsing/job/bce7f273-4aa0-4c3d-865e-ad4ffe6b9d99/result/markdown \"HTTP/1.1 200 OK\"\n"
     ]
    },
    {
     "name": "stdout",
     "output_type": "stream",
     "text": [
      "../data/out/md/124-Finding-the-Correct-BYU-Pathway-Applicationpdf.md saved.\n"
     ]
    },
    {
     "name": "stderr",
     "output_type": "stream",
     "text": [
      "INFO: HTTP Request: POST https://api.cloud.llamaindex.ai/api/parsing/upload \"HTTP/1.1 200 OK\"\n"
     ]
    },
    {
     "name": "stdout",
     "output_type": "stream",
     "text": [
      "Started parsing the file under job_id b15659ac-fe5c-4d26-ab4a-5c8f4020a014\n"
     ]
    },
    {
     "name": "stderr",
     "output_type": "stream",
     "text": [
      "INFO: HTTP Request: GET https://api.cloud.llamaindex.ai/api/parsing/job/b15659ac-fe5c-4d26-ab4a-5c8f4020a014 \"HTTP/1.1 200 OK\"\n",
      "INFO: HTTP Request: GET https://api.cloud.llamaindex.ai/api/parsing/job/b15659ac-fe5c-4d26-ab4a-5c8f4020a014 \"HTTP/1.1 200 OK\"\n",
      "INFO: HTTP Request: GET https://api.cloud.llamaindex.ai/api/parsing/job/b15659ac-fe5c-4d26-ab4a-5c8f4020a014 \"HTTP/1.1 200 OK\"\n",
      "INFO: HTTP Request: GET https://api.cloud.llamaindex.ai/api/parsing/job/b15659ac-fe5c-4d26-ab4a-5c8f4020a014 \"HTTP/1.1 200 OK\"\n",
      "INFO: HTTP Request: GET https://api.cloud.llamaindex.ai/api/parsing/job/b15659ac-fe5c-4d26-ab4a-5c8f4020a014 \"HTTP/1.1 200 OK\"\n",
      "INFO: HTTP Request: GET https://api.cloud.llamaindex.ai/api/parsing/job/b15659ac-fe5c-4d26-ab4a-5c8f4020a014 \"HTTP/1.1 200 OK\"\n",
      "INFO: HTTP Request: GET https://api.cloud.llamaindex.ai/api/parsing/job/b15659ac-fe5c-4d26-ab4a-5c8f4020a014 \"HTTP/1.1 200 OK\"\n",
      "INFO: HTTP Request: GET https://api.cloud.llamaindex.ai/api/parsing/job/b15659ac-fe5c-4d26-ab4a-5c8f4020a014 \"HTTP/1.1 200 OK\"\n",
      "INFO: HTTP Request: GET https://api.cloud.llamaindex.ai/api/parsing/job/b15659ac-fe5c-4d26-ab4a-5c8f4020a014 \"HTTP/1.1 200 OK\"\n",
      "INFO: HTTP Request: GET https://api.cloud.llamaindex.ai/api/parsing/job/b15659ac-fe5c-4d26-ab4a-5c8f4020a014 \"HTTP/1.1 200 OK\"\n"
     ]
    },
    {
     "name": "stdout",
     "output_type": "stream",
     "text": [
      "."
     ]
    },
    {
     "name": "stderr",
     "output_type": "stream",
     "text": [
      "INFO: HTTP Request: GET https://api.cloud.llamaindex.ai/api/parsing/job/b15659ac-fe5c-4d26-ab4a-5c8f4020a014 \"HTTP/1.1 200 OK\"\n",
      "INFO: HTTP Request: GET https://api.cloud.llamaindex.ai/api/parsing/job/b15659ac-fe5c-4d26-ab4a-5c8f4020a014 \"HTTP/1.1 200 OK\"\n",
      "INFO: HTTP Request: GET https://api.cloud.llamaindex.ai/api/parsing/job/b15659ac-fe5c-4d26-ab4a-5c8f4020a014 \"HTTP/1.1 200 OK\"\n",
      "INFO: HTTP Request: GET https://api.cloud.llamaindex.ai/api/parsing/job/b15659ac-fe5c-4d26-ab4a-5c8f4020a014 \"HTTP/1.1 200 OK\"\n",
      "INFO: HTTP Request: GET https://api.cloud.llamaindex.ai/api/parsing/job/b15659ac-fe5c-4d26-ab4a-5c8f4020a014 \"HTTP/1.1 200 OK\"\n",
      "INFO: HTTP Request: GET https://api.cloud.llamaindex.ai/api/parsing/job/b15659ac-fe5c-4d26-ab4a-5c8f4020a014 \"HTTP/1.1 200 OK\"\n",
      "INFO: HTTP Request: GET https://api.cloud.llamaindex.ai/api/parsing/job/b15659ac-fe5c-4d26-ab4a-5c8f4020a014 \"HTTP/1.1 200 OK\"\n",
      "INFO: HTTP Request: GET https://api.cloud.llamaindex.ai/api/parsing/job/b15659ac-fe5c-4d26-ab4a-5c8f4020a014 \"HTTP/1.1 200 OK\"\n",
      "INFO: HTTP Request: GET https://api.cloud.llamaindex.ai/api/parsing/job/b15659ac-fe5c-4d26-ab4a-5c8f4020a014 \"HTTP/1.1 200 OK\"\n",
      "INFO: HTTP Request: GET https://api.cloud.llamaindex.ai/api/parsing/job/b15659ac-fe5c-4d26-ab4a-5c8f4020a014 \"HTTP/1.1 200 OK\"\n"
     ]
    },
    {
     "name": "stdout",
     "output_type": "stream",
     "text": [
      "."
     ]
    },
    {
     "name": "stderr",
     "output_type": "stream",
     "text": [
      "INFO: HTTP Request: GET https://api.cloud.llamaindex.ai/api/parsing/job/b15659ac-fe5c-4d26-ab4a-5c8f4020a014 \"HTTP/1.1 200 OK\"\n",
      "INFO: HTTP Request: GET https://api.cloud.llamaindex.ai/api/parsing/job/b15659ac-fe5c-4d26-ab4a-5c8f4020a014 \"HTTP/1.1 200 OK\"\n",
      "INFO: HTTP Request: GET https://api.cloud.llamaindex.ai/api/parsing/job/b15659ac-fe5c-4d26-ab4a-5c8f4020a014 \"HTTP/1.1 200 OK\"\n",
      "INFO: HTTP Request: GET https://api.cloud.llamaindex.ai/api/parsing/job/b15659ac-fe5c-4d26-ab4a-5c8f4020a014 \"HTTP/1.1 200 OK\"\n",
      "INFO: HTTP Request: GET https://api.cloud.llamaindex.ai/api/parsing/job/b15659ac-fe5c-4d26-ab4a-5c8f4020a014 \"HTTP/1.1 200 OK\"\n",
      "INFO: HTTP Request: GET https://api.cloud.llamaindex.ai/api/parsing/job/b15659ac-fe5c-4d26-ab4a-5c8f4020a014/result/markdown \"HTTP/1.1 200 OK\"\n"
     ]
    },
    {
     "name": "stdout",
     "output_type": "stream",
     "text": [
      "../data/out/md/125-Firesides-and-Devotionalspdf.md saved.\n"
     ]
    },
    {
     "name": "stderr",
     "output_type": "stream",
     "text": [
      "INFO: HTTP Request: POST https://api.cloud.llamaindex.ai/api/parsing/upload \"HTTP/1.1 200 OK\"\n"
     ]
    },
    {
     "name": "stdout",
     "output_type": "stream",
     "text": [
      "Started parsing the file under job_id 607b88be-f38c-4d3f-87fd-7f48cf14638b\n"
     ]
    },
    {
     "name": "stderr",
     "output_type": "stream",
     "text": [
      "INFO: HTTP Request: GET https://api.cloud.llamaindex.ai/api/parsing/job/607b88be-f38c-4d3f-87fd-7f48cf14638b \"HTTP/1.1 200 OK\"\n",
      "INFO: HTTP Request: GET https://api.cloud.llamaindex.ai/api/parsing/job/607b88be-f38c-4d3f-87fd-7f48cf14638b \"HTTP/1.1 200 OK\"\n",
      "INFO: HTTP Request: GET https://api.cloud.llamaindex.ai/api/parsing/job/607b88be-f38c-4d3f-87fd-7f48cf14638b \"HTTP/1.1 200 OK\"\n",
      "INFO: HTTP Request: GET https://api.cloud.llamaindex.ai/api/parsing/job/607b88be-f38c-4d3f-87fd-7f48cf14638b \"HTTP/1.1 200 OK\"\n",
      "INFO: HTTP Request: GET https://api.cloud.llamaindex.ai/api/parsing/job/607b88be-f38c-4d3f-87fd-7f48cf14638b \"HTTP/1.1 200 OK\"\n",
      "INFO: HTTP Request: GET https://api.cloud.llamaindex.ai/api/parsing/job/607b88be-f38c-4d3f-87fd-7f48cf14638b \"HTTP/1.1 200 OK\"\n",
      "INFO: HTTP Request: GET https://api.cloud.llamaindex.ai/api/parsing/job/607b88be-f38c-4d3f-87fd-7f48cf14638b \"HTTP/1.1 200 OK\"\n",
      "INFO: HTTP Request: GET https://api.cloud.llamaindex.ai/api/parsing/job/607b88be-f38c-4d3f-87fd-7f48cf14638b/result/markdown \"HTTP/1.1 200 OK\"\n"
     ]
    },
    {
     "name": "stdout",
     "output_type": "stream",
     "text": [
      "../data/out/md/126-First-Contact-Messages-for-Learnerspdf.md saved.\n"
     ]
    },
    {
     "name": "stderr",
     "output_type": "stream",
     "text": [
      "INFO: HTTP Request: POST https://api.cloud.llamaindex.ai/api/parsing/upload \"HTTP/1.1 200 OK\"\n"
     ]
    },
    {
     "name": "stdout",
     "output_type": "stream",
     "text": [
      "Started parsing the file under job_id 2fc4c141-e001-4e35-850b-23da1c25dd27\n"
     ]
    },
    {
     "name": "stderr",
     "output_type": "stream",
     "text": [
      "INFO: HTTP Request: GET https://api.cloud.llamaindex.ai/api/parsing/job/2fc4c141-e001-4e35-850b-23da1c25dd27 \"HTTP/1.1 200 OK\"\n",
      "INFO: HTTP Request: GET https://api.cloud.llamaindex.ai/api/parsing/job/2fc4c141-e001-4e35-850b-23da1c25dd27/result/markdown \"HTTP/1.1 200 OK\"\n"
     ]
    },
    {
     "name": "stdout",
     "output_type": "stream",
     "text": [
      "../data/out/md/126-First-Contact-Messages-for-Learnerspdf.md saved.\n"
     ]
    },
    {
     "name": "stderr",
     "output_type": "stream",
     "text": [
      "INFO: HTTP Request: POST https://api.cloud.llamaindex.ai/api/parsing/upload \"HTTP/1.1 200 OK\"\n"
     ]
    },
    {
     "name": "stdout",
     "output_type": "stream",
     "text": [
      "Started parsing the file under job_id 2d8ad7ba-e015-4379-892c-42618b60fa17\n"
     ]
    },
    {
     "name": "stderr",
     "output_type": "stream",
     "text": [
      "INFO: HTTP Request: GET https://api.cloud.llamaindex.ai/api/parsing/job/2d8ad7ba-e015-4379-892c-42618b60fa17 \"HTTP/1.1 200 OK\"\n",
      "INFO: HTTP Request: GET https://api.cloud.llamaindex.ai/api/parsing/job/2d8ad7ba-e015-4379-892c-42618b60fa17 \"HTTP/1.1 200 OK\"\n",
      "INFO: HTTP Request: GET https://api.cloud.llamaindex.ai/api/parsing/job/2d8ad7ba-e015-4379-892c-42618b60fa17 \"HTTP/1.1 200 OK\"\n",
      "INFO: HTTP Request: GET https://api.cloud.llamaindex.ai/api/parsing/job/2d8ad7ba-e015-4379-892c-42618b60fa17 \"HTTP/1.1 200 OK\"\n",
      "INFO: HTTP Request: GET https://api.cloud.llamaindex.ai/api/parsing/job/2d8ad7ba-e015-4379-892c-42618b60fa17/result/markdown \"HTTP/1.1 200 OK\"\n"
     ]
    },
    {
     "name": "stdout",
     "output_type": "stream",
     "text": [
      "../data/out/md/127-Flier-Webinar-US-Canada-Missionaries-Fall-pdf.md saved.\n"
     ]
    },
    {
     "name": "stderr",
     "output_type": "stream",
     "text": [
      "INFO: HTTP Request: POST https://api.cloud.llamaindex.ai/api/parsing/upload \"HTTP/1.1 200 OK\"\n"
     ]
    },
    {
     "name": "stdout",
     "output_type": "stream",
     "text": [
      "Started parsing the file under job_id 28ea7582-e8d8-4442-b19a-6ffb642141c3\n"
     ]
    },
    {
     "name": "stderr",
     "output_type": "stream",
     "text": [
      "INFO: HTTP Request: GET https://api.cloud.llamaindex.ai/api/parsing/job/28ea7582-e8d8-4442-b19a-6ffb642141c3 \"HTTP/1.1 200 OK\"\n",
      "INFO: HTTP Request: GET https://api.cloud.llamaindex.ai/api/parsing/job/28ea7582-e8d8-4442-b19a-6ffb642141c3/result/markdown \"HTTP/1.1 200 OK\"\n"
     ]
    },
    {
     "name": "stdout",
     "output_type": "stream",
     "text": [
      "../data/out/md/128-Focus-Modepdf.md saved.\n"
     ]
    },
    {
     "name": "stderr",
     "output_type": "stream",
     "text": [
      "INFO: HTTP Request: POST https://api.cloud.llamaindex.ai/api/parsing/upload \"HTTP/1.1 200 OK\"\n"
     ]
    },
    {
     "name": "stdout",
     "output_type": "stream",
     "text": [
      "Started parsing the file under job_id 88dfc734-d67a-431f-8d30-888fbdb86e28\n"
     ]
    },
    {
     "name": "stderr",
     "output_type": "stream",
     "text": [
      "INFO: HTTP Request: GET https://api.cloud.llamaindex.ai/api/parsing/job/88dfc734-d67a-431f-8d30-888fbdb86e28 \"HTTP/1.1 200 OK\"\n",
      "INFO: HTTP Request: GET https://api.cloud.llamaindex.ai/api/parsing/job/88dfc734-d67a-431f-8d30-888fbdb86e28 \"HTTP/1.1 200 OK\"\n",
      "INFO: HTTP Request: GET https://api.cloud.llamaindex.ai/api/parsing/job/88dfc734-d67a-431f-8d30-888fbdb86e28 \"HTTP/1.1 200 OK\"\n",
      "INFO: HTTP Request: GET https://api.cloud.llamaindex.ai/api/parsing/job/88dfc734-d67a-431f-8d30-888fbdb86e28 \"HTTP/1.1 200 OK\"\n",
      "INFO: HTTP Request: GET https://api.cloud.llamaindex.ai/api/parsing/job/88dfc734-d67a-431f-8d30-888fbdb86e28 \"HTTP/1.1 200 OK\"\n",
      "INFO: HTTP Request: GET https://api.cloud.llamaindex.ai/api/parsing/job/88dfc734-d67a-431f-8d30-888fbdb86e28 \"HTTP/1.1 200 OK\"\n",
      "INFO: HTTP Request: GET https://api.cloud.llamaindex.ai/api/parsing/job/88dfc734-d67a-431f-8d30-888fbdb86e28/result/markdown \"HTTP/1.1 200 OK\"\n"
     ]
    },
    {
     "name": "stdout",
     "output_type": "stream",
     "text": [
      "../data/out/md/129-Forming-Team-Project-Groups-for-PC-pdf.md saved.\n"
     ]
    },
    {
     "name": "stderr",
     "output_type": "stream",
     "text": [
      "INFO: HTTP Request: POST https://api.cloud.llamaindex.ai/api/parsing/upload \"HTTP/1.1 200 OK\"\n"
     ]
    },
    {
     "name": "stdout",
     "output_type": "stream",
     "text": [
      "Started parsing the file under job_id f8b18384-9d62-48a5-81de-4390d76ffaea\n"
     ]
    },
    {
     "name": "stderr",
     "output_type": "stream",
     "text": [
      "INFO: HTTP Request: GET https://api.cloud.llamaindex.ai/api/parsing/job/f8b18384-9d62-48a5-81de-4390d76ffaea \"HTTP/1.1 200 OK\"\n",
      "INFO: HTTP Request: GET https://api.cloud.llamaindex.ai/api/parsing/job/f8b18384-9d62-48a5-81de-4390d76ffaea/result/markdown \"HTTP/1.1 200 OK\"\n"
     ]
    },
    {
     "name": "stdout",
     "output_type": "stream",
     "text": [
      "../data/out/md/13-Apply-For-and-Check-Status-of-HJG-Scholarshippdf.md saved.\n"
     ]
    },
    {
     "name": "stderr",
     "output_type": "stream",
     "text": [
      "INFO: HTTP Request: POST https://api.cloud.llamaindex.ai/api/parsing/upload \"HTTP/1.1 200 OK\"\n"
     ]
    },
    {
     "name": "stdout",
     "output_type": "stream",
     "text": [
      "Started parsing the file under job_id 6d5eeeed-17df-4692-ba97-f895033113e6\n"
     ]
    },
    {
     "name": "stderr",
     "output_type": "stream",
     "text": [
      "INFO: HTTP Request: GET https://api.cloud.llamaindex.ai/api/parsing/job/6d5eeeed-17df-4692-ba97-f895033113e6 \"HTTP/1.1 200 OK\"\n",
      "INFO: HTTP Request: GET https://api.cloud.llamaindex.ai/api/parsing/job/6d5eeeed-17df-4692-ba97-f895033113e6/result/markdown \"HTTP/1.1 200 OK\"\n"
     ]
    },
    {
     "name": "stdout",
     "output_type": "stream",
     "text": [
      "../data/out/md/130-GERMAN-CSM-Application-Octpdf.md saved.\n"
     ]
    },
    {
     "name": "stderr",
     "output_type": "stream",
     "text": [
      "INFO: HTTP Request: POST https://api.cloud.llamaindex.ai/api/parsing/upload \"HTTP/1.1 200 OK\"\n"
     ]
    },
    {
     "name": "stdout",
     "output_type": "stream",
     "text": [
      "Started parsing the file under job_id d9202976-7821-4d13-acfd-9a95ea9e05fe\n"
     ]
    },
    {
     "name": "stderr",
     "output_type": "stream",
     "text": [
      "INFO: HTTP Request: GET https://api.cloud.llamaindex.ai/api/parsing/job/d9202976-7821-4d13-acfd-9a95ea9e05fe \"HTTP/1.1 200 OK\"\n",
      "INFO: HTTP Request: GET https://api.cloud.llamaindex.ai/api/parsing/job/d9202976-7821-4d13-acfd-9a95ea9e05fe \"HTTP/1.1 200 OK\"\n",
      "INFO: HTTP Request: GET https://api.cloud.llamaindex.ai/api/parsing/job/d9202976-7821-4d13-acfd-9a95ea9e05fe \"HTTP/1.1 200 OK\"\n",
      "INFO: HTTP Request: GET https://api.cloud.llamaindex.ai/api/parsing/job/d9202976-7821-4d13-acfd-9a95ea9e05fe/result/markdown \"HTTP/1.1 200 OK\"\n"
     ]
    },
    {
     "name": "stdout",
     "output_type": "stream",
     "text": [
      "../data/out/md/131-Gallery-and-Speaker-Viewpdf.md saved.\n"
     ]
    },
    {
     "name": "stderr",
     "output_type": "stream",
     "text": [
      "INFO: HTTP Request: POST https://api.cloud.llamaindex.ai/api/parsing/upload \"HTTP/1.1 200 OK\"\n"
     ]
    },
    {
     "name": "stdout",
     "output_type": "stream",
     "text": [
      "Started parsing the file under job_id a8698337-7cac-45f1-b488-9f0b6138a244\n"
     ]
    },
    {
     "name": "stderr",
     "output_type": "stream",
     "text": [
      "INFO: HTTP Request: GET https://api.cloud.llamaindex.ai/api/parsing/job/a8698337-7cac-45f1-b488-9f0b6138a244 \"HTTP/1.1 200 OK\"\n",
      "INFO: HTTP Request: GET https://api.cloud.llamaindex.ai/api/parsing/job/a8698337-7cac-45f1-b488-9f0b6138a244 \"HTTP/1.1 200 OK\"\n",
      "INFO: HTTP Request: GET https://api.cloud.llamaindex.ai/api/parsing/job/a8698337-7cac-45f1-b488-9f0b6138a244 \"HTTP/1.1 200 OK\"\n",
      "INFO: HTTP Request: GET https://api.cloud.llamaindex.ai/api/parsing/job/a8698337-7cac-45f1-b488-9f0b6138a244 \"HTTP/1.1 200 OK\"\n",
      "INFO: HTTP Request: GET https://api.cloud.llamaindex.ai/api/parsing/job/a8698337-7cac-45f1-b488-9f0b6138a244/result/markdown \"HTTP/1.1 200 OK\"\n"
     ]
    },
    {
     "name": "stdout",
     "output_type": "stream",
     "text": [
      "../data/out/md/132-Gathering-Procedures-PathwayConnectpdf.md saved.\n"
     ]
    },
    {
     "name": "stderr",
     "output_type": "stream",
     "text": [
      "INFO: HTTP Request: POST https://api.cloud.llamaindex.ai/api/parsing/upload \"HTTP/1.1 200 OK\"\n"
     ]
    },
    {
     "name": "stdout",
     "output_type": "stream",
     "text": [
      "Started parsing the file under job_id 5a5d3262-1820-4fc1-bb41-75e24f8bc53a\n"
     ]
    },
    {
     "name": "stderr",
     "output_type": "stream",
     "text": [
      "INFO: HTTP Request: GET https://api.cloud.llamaindex.ai/api/parsing/job/5a5d3262-1820-4fc1-bb41-75e24f8bc53a \"HTTP/1.1 200 OK\"\n",
      "INFO: HTTP Request: GET https://api.cloud.llamaindex.ai/api/parsing/job/5a5d3262-1820-4fc1-bb41-75e24f8bc53a \"HTTP/1.1 200 OK\"\n",
      "INFO: HTTP Request: GET https://api.cloud.llamaindex.ai/api/parsing/job/5a5d3262-1820-4fc1-bb41-75e24f8bc53a \"HTTP/1.1 200 OK\"\n",
      "INFO: HTTP Request: GET https://api.cloud.llamaindex.ai/api/parsing/job/5a5d3262-1820-4fc1-bb41-75e24f8bc53a \"HTTP/1.1 200 OK\"\n",
      "INFO: HTTP Request: GET https://api.cloud.llamaindex.ai/api/parsing/job/5a5d3262-1820-4fc1-bb41-75e24f8bc53a \"HTTP/1.1 200 OK\"\n",
      "INFO: HTTP Request: GET https://api.cloud.llamaindex.ai/api/parsing/job/5a5d3262-1820-4fc1-bb41-75e24f8bc53a/result/markdown \"HTTP/1.1 200 OK\"\n"
     ]
    },
    {
     "name": "stdout",
     "output_type": "stream",
     "text": [
      "../data/out/md/133-Gathering-Procedures-for-Inviting-Friendspdf.md saved.\n"
     ]
    },
    {
     "name": "stderr",
     "output_type": "stream",
     "text": [
      "INFO: HTTP Request: POST https://api.cloud.llamaindex.ai/api/parsing/upload \"HTTP/1.1 200 OK\"\n"
     ]
    },
    {
     "name": "stdout",
     "output_type": "stream",
     "text": [
      "Started parsing the file under job_id d0fcb6e8-16a9-47e8-bace-dbe3e21a3f92\n"
     ]
    },
    {
     "name": "stderr",
     "output_type": "stream",
     "text": [
      "INFO: HTTP Request: GET https://api.cloud.llamaindex.ai/api/parsing/job/d0fcb6e8-16a9-47e8-bace-dbe3e21a3f92 \"HTTP/1.1 200 OK\"\n",
      "INFO: HTTP Request: GET https://api.cloud.llamaindex.ai/api/parsing/job/d0fcb6e8-16a9-47e8-bace-dbe3e21a3f92 \"HTTP/1.1 200 OK\"\n",
      "INFO: HTTP Request: GET https://api.cloud.llamaindex.ai/api/parsing/job/d0fcb6e8-16a9-47e8-bace-dbe3e21a3f92 \"HTTP/1.1 200 OK\"\n",
      "INFO: HTTP Request: GET https://api.cloud.llamaindex.ai/api/parsing/job/d0fcb6e8-16a9-47e8-bace-dbe3e21a3f92 \"HTTP/1.1 200 OK\"\n",
      "INFO: HTTP Request: GET https://api.cloud.llamaindex.ai/api/parsing/job/d0fcb6e8-16a9-47e8-bace-dbe3e21a3f92 \"HTTP/1.1 200 OK\"\n",
      "INFO: HTTP Request: GET https://api.cloud.llamaindex.ai/api/parsing/job/d0fcb6e8-16a9-47e8-bace-dbe3e21a3f92/result/markdown \"HTTP/1.1 200 OK\"\n"
     ]
    },
    {
     "name": "stdout",
     "output_type": "stream",
     "text": [
      "../data/out/md/134-Guidelines-for-Communicating-with-Students-or-Learnerspdf.md saved.\n"
     ]
    },
    {
     "name": "stderr",
     "output_type": "stream",
     "text": [
      "INFO: HTTP Request: POST https://api.cloud.llamaindex.ai/api/parsing/upload \"HTTP/1.1 200 OK\"\n"
     ]
    },
    {
     "name": "stdout",
     "output_type": "stream",
     "text": [
      "Started parsing the file under job_id 307277f8-0071-41f5-a40c-eb445e1855dd\n"
     ]
    },
    {
     "name": "stderr",
     "output_type": "stream",
     "text": [
      "INFO: HTTP Request: GET https://api.cloud.llamaindex.ai/api/parsing/job/307277f8-0071-41f5-a40c-eb445e1855dd \"HTTP/1.1 200 OK\"\n",
      "INFO: HTTP Request: GET https://api.cloud.llamaindex.ai/api/parsing/job/307277f8-0071-41f5-a40c-eb445e1855dd \"HTTP/1.1 200 OK\"\n",
      "INFO: HTTP Request: GET https://api.cloud.llamaindex.ai/api/parsing/job/307277f8-0071-41f5-a40c-eb445e1855dd \"HTTP/1.1 200 OK\"\n",
      "INFO: HTTP Request: GET https://api.cloud.llamaindex.ai/api/parsing/job/307277f8-0071-41f5-a40c-eb445e1855dd \"HTTP/1.1 200 OK\"\n",
      "INFO: HTTP Request: GET https://api.cloud.llamaindex.ai/api/parsing/job/307277f8-0071-41f5-a40c-eb445e1855dd \"HTTP/1.1 200 OK\"\n",
      "INFO: HTTP Request: GET https://api.cloud.llamaindex.ai/api/parsing/job/307277f8-0071-41f5-a40c-eb445e1855dd \"HTTP/1.1 200 OK\"\n",
      "INFO: HTTP Request: GET https://api.cloud.llamaindex.ai/api/parsing/job/307277f8-0071-41f5-a40c-eb445e1855dd/result/markdown \"HTTP/1.1 200 OK\"\n"
     ]
    },
    {
     "name": "stdout",
     "output_type": "stream",
     "text": [
      "../data/out/md/135-Guidelines-for-Gatherings-with---yrs-oldpdf.md saved.\n"
     ]
    },
    {
     "name": "stderr",
     "output_type": "stream",
     "text": [
      "INFO: HTTP Request: POST https://api.cloud.llamaindex.ai/api/parsing/upload \"HTTP/1.1 200 OK\"\n"
     ]
    },
    {
     "name": "stdout",
     "output_type": "stream",
     "text": [
      "Started parsing the file under job_id 6d45967c-6caf-4193-825b-997170e6eda4\n"
     ]
    },
    {
     "name": "stderr",
     "output_type": "stream",
     "text": [
      "INFO: HTTP Request: GET https://api.cloud.llamaindex.ai/api/parsing/job/6d45967c-6caf-4193-825b-997170e6eda4 \"HTTP/1.1 200 OK\"\n",
      "INFO: HTTP Request: GET https://api.cloud.llamaindex.ai/api/parsing/job/6d45967c-6caf-4193-825b-997170e6eda4 \"HTTP/1.1 200 OK\"\n",
      "INFO: HTTP Request: GET https://api.cloud.llamaindex.ai/api/parsing/job/6d45967c-6caf-4193-825b-997170e6eda4 \"HTTP/1.1 200 OK\"\n",
      "INFO: HTTP Request: GET https://api.cloud.llamaindex.ai/api/parsing/job/6d45967c-6caf-4193-825b-997170e6eda4 \"HTTP/1.1 200 OK\"\n",
      "INFO: HTTP Request: GET https://api.cloud.llamaindex.ai/api/parsing/job/6d45967c-6caf-4193-825b-997170e6eda4 \"HTTP/1.1 200 OK\"\n",
      "INFO: HTTP Request: GET https://api.cloud.llamaindex.ai/api/parsing/job/6d45967c-6caf-4193-825b-997170e6eda4 \"HTTP/1.1 200 OK\"\n",
      "INFO: HTTP Request: GET https://api.cloud.llamaindex.ai/api/parsing/job/6d45967c-6caf-4193-825b-997170e6eda4 \"HTTP/1.1 200 OK\"\n",
      "INFO: HTTP Request: GET https://api.cloud.llamaindex.ai/api/parsing/job/6d45967c-6caf-4193-825b-997170e6eda4 \"HTTP/1.1 200 OK\"\n",
      "INFO: HTTP Request: GET https://api.cloud.llamaindex.ai/api/parsing/job/6d45967c-6caf-4193-825b-997170e6eda4 \"HTTP/1.1 200 OK\"\n",
      "INFO: HTTP Request: GET https://api.cloud.llamaindex.ai/api/parsing/job/6d45967c-6caf-4193-825b-997170e6eda4/result/markdown \"HTTP/1.1 200 OK\"\n"
     ]
    },
    {
     "name": "stdout",
     "output_type": "stream",
     "text": [
      "../data/out/md/136-Hardware-and-Software-in-PC---and-pdf.md saved.\n"
     ]
    },
    {
     "name": "stderr",
     "output_type": "stream",
     "text": [
      "INFO: HTTP Request: POST https://api.cloud.llamaindex.ai/api/parsing/upload \"HTTP/1.1 200 OK\"\n"
     ]
    },
    {
     "name": "stdout",
     "output_type": "stream",
     "text": [
      "Started parsing the file under job_id 054409f2-1353-4a8b-8719-71910d88ad43\n"
     ]
    },
    {
     "name": "stderr",
     "output_type": "stream",
     "text": [
      "INFO: HTTP Request: GET https://api.cloud.llamaindex.ai/api/parsing/job/054409f2-1353-4a8b-8719-71910d88ad43 \"HTTP/1.1 200 OK\"\n",
      "INFO: HTTP Request: GET https://api.cloud.llamaindex.ai/api/parsing/job/054409f2-1353-4a8b-8719-71910d88ad43 \"HTTP/1.1 200 OK\"\n",
      "INFO: HTTP Request: GET https://api.cloud.llamaindex.ai/api/parsing/job/054409f2-1353-4a8b-8719-71910d88ad43 \"HTTP/1.1 200 OK\"\n",
      "INFO: HTTP Request: GET https://api.cloud.llamaindex.ai/api/parsing/job/054409f2-1353-4a8b-8719-71910d88ad43 \"HTTP/1.1 200 OK\"\n",
      "INFO: HTTP Request: GET https://api.cloud.llamaindex.ai/api/parsing/job/054409f2-1353-4a8b-8719-71910d88ad43 \"HTTP/1.1 200 OK\"\n",
      "INFO: HTTP Request: GET https://api.cloud.llamaindex.ai/api/parsing/job/054409f2-1353-4a8b-8719-71910d88ad43 \"HTTP/1.1 200 OK\"\n",
      "INFO: HTTP Request: GET https://api.cloud.llamaindex.ai/api/parsing/job/054409f2-1353-4a8b-8719-71910d88ad43/result/markdown \"HTTP/1.1 200 OK\"\n"
     ]
    },
    {
     "name": "stdout",
     "output_type": "stream",
     "text": [
      "../data/out/md/137-Help-a-Learner-with-Registration-and-Enrollmentpdf.md saved.\n"
     ]
    },
    {
     "name": "stderr",
     "output_type": "stream",
     "text": [
      "INFO: HTTP Request: POST https://api.cloud.llamaindex.ai/api/parsing/upload \"HTTP/1.1 200 OK\"\n"
     ]
    },
    {
     "name": "stdout",
     "output_type": "stream",
     "text": [
      "Started parsing the file under job_id f9486adc-2bf2-4ab9-b3cc-480c1728ba28\n"
     ]
    },
    {
     "name": "stderr",
     "output_type": "stream",
     "text": [
      "INFO: HTTP Request: GET https://api.cloud.llamaindex.ai/api/parsing/job/f9486adc-2bf2-4ab9-b3cc-480c1728ba28 \"HTTP/1.1 200 OK\"\n",
      "INFO: HTTP Request: GET https://api.cloud.llamaindex.ai/api/parsing/job/f9486adc-2bf2-4ab9-b3cc-480c1728ba28 \"HTTP/1.1 200 OK\"\n",
      "INFO: HTTP Request: GET https://api.cloud.llamaindex.ai/api/parsing/job/f9486adc-2bf2-4ab9-b3cc-480c1728ba28 \"HTTP/1.1 200 OK\"\n",
      "INFO: HTTP Request: GET https://api.cloud.llamaindex.ai/api/parsing/job/f9486adc-2bf2-4ab9-b3cc-480c1728ba28 \"HTTP/1.1 200 OK\"\n",
      "INFO: HTTP Request: GET https://api.cloud.llamaindex.ai/api/parsing/job/f9486adc-2bf2-4ab9-b3cc-480c1728ba28 \"HTTP/1.1 200 OK\"\n",
      "INFO: HTTP Request: GET https://api.cloud.llamaindex.ai/api/parsing/job/f9486adc-2bf2-4ab9-b3cc-480c1728ba28 \"HTTP/1.1 200 OK\"\n",
      "INFO: HTTP Request: GET https://api.cloud.llamaindex.ai/api/parsing/job/f9486adc-2bf2-4ab9-b3cc-480c1728ba28/result/markdown \"HTTP/1.1 200 OK\"\n"
     ]
    },
    {
     "name": "stdout",
     "output_type": "stream",
     "text": [
      "../data/out/md/138-Help-the-Lead-Learnerpdf.md saved.\n"
     ]
    },
    {
     "name": "stderr",
     "output_type": "stream",
     "text": [
      "INFO: HTTP Request: POST https://api.cloud.llamaindex.ai/api/parsing/upload \"HTTP/1.1 200 OK\"\n"
     ]
    },
    {
     "name": "stdout",
     "output_type": "stream",
     "text": [
      "Started parsing the file under job_id f59ee340-c972-4fa1-a7cd-5ee01a0b0dbe\n"
     ]
    },
    {
     "name": "stderr",
     "output_type": "stream",
     "text": [
      "INFO: HTTP Request: GET https://api.cloud.llamaindex.ai/api/parsing/job/f59ee340-c972-4fa1-a7cd-5ee01a0b0dbe \"HTTP/1.1 200 OK\"\n",
      "INFO: HTTP Request: GET https://api.cloud.llamaindex.ai/api/parsing/job/f59ee340-c972-4fa1-a7cd-5ee01a0b0dbe/result/markdown \"HTTP/1.1 200 OK\"\n"
     ]
    },
    {
     "name": "stdout",
     "output_type": "stream",
     "text": [
      "../data/out/md/138-Help-the-Lead-Learnerpdf.md saved.\n"
     ]
    },
    {
     "name": "stderr",
     "output_type": "stream",
     "text": [
      "INFO: HTTP Request: POST https://api.cloud.llamaindex.ai/api/parsing/upload \"HTTP/1.1 200 OK\"\n"
     ]
    },
    {
     "name": "stdout",
     "output_type": "stream",
     "text": [
      "Started parsing the file under job_id 8f8d70da-7e8f-4c8d-864e-89538578ae03\n"
     ]
    },
    {
     "name": "stderr",
     "output_type": "stream",
     "text": [
      "INFO: HTTP Request: GET https://api.cloud.llamaindex.ai/api/parsing/job/8f8d70da-7e8f-4c8d-864e-89538578ae03 \"HTTP/1.1 200 OK\"\n",
      "INFO: HTTP Request: GET https://api.cloud.llamaindex.ai/api/parsing/job/8f8d70da-7e8f-4c8d-864e-89538578ae03 \"HTTP/1.1 200 OK\"\n",
      "INFO: HTTP Request: GET https://api.cloud.llamaindex.ai/api/parsing/job/8f8d70da-7e8f-4c8d-864e-89538578ae03 \"HTTP/1.1 200 OK\"\n",
      "INFO: HTTP Request: GET https://api.cloud.llamaindex.ai/api/parsing/job/8f8d70da-7e8f-4c8d-864e-89538578ae03 \"HTTP/1.1 200 OK\"\n",
      "INFO: HTTP Request: GET https://api.cloud.llamaindex.ai/api/parsing/job/8f8d70da-7e8f-4c8d-864e-89538578ae03 \"HTTP/1.1 200 OK\"\n",
      "INFO: HTTP Request: GET https://api.cloud.llamaindex.ai/api/parsing/job/8f8d70da-7e8f-4c8d-864e-89538578ae03/result/markdown \"HTTP/1.1 200 OK\"\n"
     ]
    },
    {
     "name": "stdout",
     "output_type": "stream",
     "text": [
      "../data/out/md/139-Helping-Students-Overcome-Obstaclespdf.md saved.\n"
     ]
    },
    {
     "name": "stderr",
     "output_type": "stream",
     "text": [
      "INFO: HTTP Request: POST https://api.cloud.llamaindex.ai/api/parsing/upload \"HTTP/1.1 200 OK\"\n"
     ]
    },
    {
     "name": "stdout",
     "output_type": "stream",
     "text": [
      "Started parsing the file under job_id 88c9dd80-3e04-4ee6-b2c6-50424314ca5d\n"
     ]
    },
    {
     "name": "stderr",
     "output_type": "stream",
     "text": [
      "INFO: HTTP Request: GET https://api.cloud.llamaindex.ai/api/parsing/job/88c9dd80-3e04-4ee6-b2c6-50424314ca5d \"HTTP/1.1 200 OK\"\n",
      "INFO: HTTP Request: GET https://api.cloud.llamaindex.ai/api/parsing/job/88c9dd80-3e04-4ee6-b2c6-50424314ca5d \"HTTP/1.1 200 OK\"\n",
      "INFO: HTTP Request: GET https://api.cloud.llamaindex.ai/api/parsing/job/88c9dd80-3e04-4ee6-b2c6-50424314ca5d \"HTTP/1.1 200 OK\"\n",
      "INFO: HTTP Request: GET https://api.cloud.llamaindex.ai/api/parsing/job/88c9dd80-3e04-4ee6-b2c6-50424314ca5d \"HTTP/1.1 200 OK\"\n",
      "INFO: HTTP Request: GET https://api.cloud.llamaindex.ai/api/parsing/job/88c9dd80-3e04-4ee6-b2c6-50424314ca5d \"HTTP/1.1 200 OK\"\n",
      "INFO: HTTP Request: GET https://api.cloud.llamaindex.ai/api/parsing/job/88c9dd80-3e04-4ee6-b2c6-50424314ca5d/result/markdown \"HTTP/1.1 200 OK\"\n"
     ]
    },
    {
     "name": "stdout",
     "output_type": "stream",
     "text": [
      "../data/out/md/14-Approving-Units-Stakes-for-Virtual-Locationspdf.md saved.\n"
     ]
    },
    {
     "name": "stderr",
     "output_type": "stream",
     "text": [
      "INFO: HTTP Request: POST https://api.cloud.llamaindex.ai/api/parsing/upload \"HTTP/1.1 200 OK\"\n"
     ]
    },
    {
     "name": "stdout",
     "output_type": "stream",
     "text": [
      "Started parsing the file under job_id a4fabb5d-6ac8-45d4-98ba-3b7432a79bbd\n"
     ]
    },
    {
     "name": "stderr",
     "output_type": "stream",
     "text": [
      "INFO: HTTP Request: GET https://api.cloud.llamaindex.ai/api/parsing/job/a4fabb5d-6ac8-45d4-98ba-3b7432a79bbd \"HTTP/1.1 200 OK\"\n",
      "INFO: HTTP Request: GET https://api.cloud.llamaindex.ai/api/parsing/job/a4fabb5d-6ac8-45d4-98ba-3b7432a79bbd \"HTTP/1.1 200 OK\"\n",
      "INFO: HTTP Request: GET https://api.cloud.llamaindex.ai/api/parsing/job/a4fabb5d-6ac8-45d4-98ba-3b7432a79bbd \"HTTP/1.1 200 OK\"\n",
      "INFO: HTTP Request: GET https://api.cloud.llamaindex.ai/api/parsing/job/a4fabb5d-6ac8-45d4-98ba-3b7432a79bbd \"HTTP/1.1 200 OK\"\n",
      "INFO: HTTP Request: GET https://api.cloud.llamaindex.ai/api/parsing/job/a4fabb5d-6ac8-45d4-98ba-3b7432a79bbd \"HTTP/1.1 200 OK\"\n",
      "INFO: HTTP Request: GET https://api.cloud.llamaindex.ai/api/parsing/job/a4fabb5d-6ac8-45d4-98ba-3b7432a79bbd \"HTTP/1.1 200 OK\"\n",
      "INFO: HTTP Request: GET https://api.cloud.llamaindex.ai/api/parsing/job/a4fabb5d-6ac8-45d4-98ba-3b7432a79bbd/result/markdown \"HTTP/1.1 200 OK\"\n"
     ]
    },
    {
     "name": "stdout",
     "output_type": "stream",
     "text": [
      "../data/out/md/140-Helping-Students-Register-for-Next-Termpdf.md saved.\n"
     ]
    },
    {
     "name": "stderr",
     "output_type": "stream",
     "text": [
      "INFO: HTTP Request: POST https://api.cloud.llamaindex.ai/api/parsing/upload \"HTTP/1.1 200 OK\"\n"
     ]
    },
    {
     "name": "stdout",
     "output_type": "stream",
     "text": [
      "Started parsing the file under job_id 552a92cf-48da-4592-b3a6-11e96882a022\n"
     ]
    },
    {
     "name": "stderr",
     "output_type": "stream",
     "text": [
      "INFO: HTTP Request: GET https://api.cloud.llamaindex.ai/api/parsing/job/552a92cf-48da-4592-b3a6-11e96882a022 \"HTTP/1.1 200 OK\"\n",
      "INFO: HTTP Request: GET https://api.cloud.llamaindex.ai/api/parsing/job/552a92cf-48da-4592-b3a6-11e96882a022 \"HTTP/1.1 200 OK\"\n",
      "INFO: HTTP Request: GET https://api.cloud.llamaindex.ai/api/parsing/job/552a92cf-48da-4592-b3a6-11e96882a022 \"HTTP/1.1 200 OK\"\n",
      "INFO: HTTP Request: GET https://api.cloud.llamaindex.ai/api/parsing/job/552a92cf-48da-4592-b3a6-11e96882a022 \"HTTP/1.1 200 OK\"\n",
      "INFO: HTTP Request: GET https://api.cloud.llamaindex.ai/api/parsing/job/552a92cf-48da-4592-b3a6-11e96882a022 \"HTTP/1.1 200 OK\"\n",
      "INFO: HTTP Request: GET https://api.cloud.llamaindex.ai/api/parsing/job/552a92cf-48da-4592-b3a6-11e96882a022/result/markdown \"HTTP/1.1 200 OK\"\n"
     ]
    },
    {
     "name": "stdout",
     "output_type": "stream",
     "text": [
      "../data/out/md/141-Helping-Students-Select-a-Certificatepdf.md saved.\n"
     ]
    },
    {
     "name": "stderr",
     "output_type": "stream",
     "text": [
      "INFO: HTTP Request: POST https://api.cloud.llamaindex.ai/api/parsing/upload \"HTTP/1.1 200 OK\"\n"
     ]
    },
    {
     "name": "stdout",
     "output_type": "stream",
     "text": [
      "Started parsing the file under job_id 9ed98c9e-bce3-4948-ad6a-253a2512710a\n"
     ]
    },
    {
     "name": "stderr",
     "output_type": "stream",
     "text": [
      "INFO: HTTP Request: GET https://api.cloud.llamaindex.ai/api/parsing/job/9ed98c9e-bce3-4948-ad6a-253a2512710a \"HTTP/1.1 200 OK\"\n",
      "INFO: HTTP Request: GET https://api.cloud.llamaindex.ai/api/parsing/job/9ed98c9e-bce3-4948-ad6a-253a2512710a \"HTTP/1.1 200 OK\"\n",
      "INFO: HTTP Request: GET https://api.cloud.llamaindex.ai/api/parsing/job/9ed98c9e-bce3-4948-ad6a-253a2512710a \"HTTP/1.1 200 OK\"\n",
      "INFO: HTTP Request: GET https://api.cloud.llamaindex.ai/api/parsing/job/9ed98c9e-bce3-4948-ad6a-253a2512710a \"HTTP/1.1 200 OK\"\n",
      "INFO: HTTP Request: GET https://api.cloud.llamaindex.ai/api/parsing/job/9ed98c9e-bce3-4948-ad6a-253a2512710a/result/markdown \"HTTP/1.1 200 OK\"\n"
     ]
    },
    {
     "name": "stdout",
     "output_type": "stream",
     "text": [
      "../data/out/md/142-How-Learners-Withdrawpdf.md saved.\n"
     ]
    },
    {
     "name": "stderr",
     "output_type": "stream",
     "text": [
      "INFO: HTTP Request: POST https://api.cloud.llamaindex.ai/api/parsing/upload \"HTTP/1.1 200 OK\"\n"
     ]
    },
    {
     "name": "stdout",
     "output_type": "stream",
     "text": [
      "Started parsing the file under job_id 4bb52cf8-f0fb-48ec-9961-a7d6bc265af0\n"
     ]
    },
    {
     "name": "stderr",
     "output_type": "stream",
     "text": [
      "INFO: HTTP Request: GET https://api.cloud.llamaindex.ai/api/parsing/job/4bb52cf8-f0fb-48ec-9961-a7d6bc265af0 \"HTTP/1.1 200 OK\"\n",
      "INFO: HTTP Request: GET https://api.cloud.llamaindex.ai/api/parsing/job/4bb52cf8-f0fb-48ec-9961-a7d6bc265af0 \"HTTP/1.1 200 OK\"\n",
      "INFO: HTTP Request: GET https://api.cloud.llamaindex.ai/api/parsing/job/4bb52cf8-f0fb-48ec-9961-a7d6bc265af0 \"HTTP/1.1 200 OK\"\n",
      "INFO: HTTP Request: GET https://api.cloud.llamaindex.ai/api/parsing/job/4bb52cf8-f0fb-48ec-9961-a7d6bc265af0/result/markdown \"HTTP/1.1 200 OK\"\n"
     ]
    },
    {
     "name": "stdout",
     "output_type": "stream",
     "text": [
      "../data/out/md/143-How-Students-Access-Your-Zoom-Roompdf.md saved.\n"
     ]
    },
    {
     "name": "stderr",
     "output_type": "stream",
     "text": [
      "INFO: HTTP Request: POST https://api.cloud.llamaindex.ai/api/parsing/upload \"HTTP/1.1 200 OK\"\n"
     ]
    },
    {
     "name": "stdout",
     "output_type": "stream",
     "text": [
      "Started parsing the file under job_id 6cee3c73-f677-4aba-b585-5eb654e7d885\n"
     ]
    },
    {
     "name": "stderr",
     "output_type": "stream",
     "text": [
      "INFO: HTTP Request: GET https://api.cloud.llamaindex.ai/api/parsing/job/6cee3c73-f677-4aba-b585-5eb654e7d885 \"HTTP/1.1 200 OK\"\n",
      "INFO: HTTP Request: GET https://api.cloud.llamaindex.ai/api/parsing/job/6cee3c73-f677-4aba-b585-5eb654e7d885 \"HTTP/1.1 200 OK\"\n",
      "INFO: HTTP Request: GET https://api.cloud.llamaindex.ai/api/parsing/job/6cee3c73-f677-4aba-b585-5eb654e7d885 \"HTTP/1.1 200 OK\"\n",
      "INFO: HTTP Request: GET https://api.cloud.llamaindex.ai/api/parsing/job/6cee3c73-f677-4aba-b585-5eb654e7d885 \"HTTP/1.1 200 OK\"\n",
      "INFO: HTTP Request: GET https://api.cloud.llamaindex.ai/api/parsing/job/6cee3c73-f677-4aba-b585-5eb654e7d885 \"HTTP/1.1 200 OK\"\n",
      "INFO: HTTP Request: GET https://api.cloud.llamaindex.ai/api/parsing/job/6cee3c73-f677-4aba-b585-5eb654e7d885/result/markdown \"HTTP/1.1 200 OK\"\n"
     ]
    },
    {
     "name": "stdout",
     "output_type": "stream",
     "text": [
      "../data/out/md/144-How-Students-Choose-Their-Certificatepdf.md saved.\n"
     ]
    },
    {
     "name": "stderr",
     "output_type": "stream",
     "text": [
      "INFO: HTTP Request: POST https://api.cloud.llamaindex.ai/api/parsing/upload \"HTTP/1.1 200 OK\"\n"
     ]
    },
    {
     "name": "stdout",
     "output_type": "stream",
     "text": [
      "Started parsing the file under job_id 23076c9c-1eb0-4bea-8dca-19e81d6ad8db\n"
     ]
    },
    {
     "name": "stderr",
     "output_type": "stream",
     "text": [
      "INFO: HTTP Request: GET https://api.cloud.llamaindex.ai/api/parsing/job/23076c9c-1eb0-4bea-8dca-19e81d6ad8db \"HTTP/1.1 200 OK\"\n",
      "INFO: HTTP Request: GET https://api.cloud.llamaindex.ai/api/parsing/job/23076c9c-1eb0-4bea-8dca-19e81d6ad8db \"HTTP/1.1 200 OK\"\n",
      "INFO: HTTP Request: GET https://api.cloud.llamaindex.ai/api/parsing/job/23076c9c-1eb0-4bea-8dca-19e81d6ad8db \"HTTP/1.1 200 OK\"\n",
      "INFO: HTTP Request: GET https://api.cloud.llamaindex.ai/api/parsing/job/23076c9c-1eb0-4bea-8dca-19e81d6ad8db/result/markdown \"HTTP/1.1 200 OK\"\n"
     ]
    },
    {
     "name": "stdout",
     "output_type": "stream",
     "text": [
      "../data/out/md/145-How-Students-Find-Their-Mentorpdf.md saved.\n"
     ]
    },
    {
     "name": "stderr",
     "output_type": "stream",
     "text": [
      "INFO: HTTP Request: POST https://api.cloud.llamaindex.ai/api/parsing/upload \"HTTP/1.1 200 OK\"\n"
     ]
    },
    {
     "name": "stdout",
     "output_type": "stream",
     "text": [
      "Started parsing the file under job_id 1366fabc-c8b2-415a-bdda-f57d29f88fe5\n"
     ]
    },
    {
     "name": "stderr",
     "output_type": "stream",
     "text": [
      "INFO: HTTP Request: GET https://api.cloud.llamaindex.ai/api/parsing/job/1366fabc-c8b2-415a-bdda-f57d29f88fe5 \"HTTP/1.1 200 OK\"\n",
      "INFO: HTTP Request: GET https://api.cloud.llamaindex.ai/api/parsing/job/1366fabc-c8b2-415a-bdda-f57d29f88fe5 \"HTTP/1.1 200 OK\"\n",
      "INFO: HTTP Request: GET https://api.cloud.llamaindex.ai/api/parsing/job/1366fabc-c8b2-415a-bdda-f57d29f88fe5 \"HTTP/1.1 200 OK\"\n",
      "INFO: HTTP Request: GET https://api.cloud.llamaindex.ai/api/parsing/job/1366fabc-c8b2-415a-bdda-f57d29f88fe5 \"HTTP/1.1 200 OK\"\n",
      "INFO: HTTP Request: GET https://api.cloud.llamaindex.ai/api/parsing/job/1366fabc-c8b2-415a-bdda-f57d29f88fe5/result/markdown \"HTTP/1.1 200 OK\"\n"
     ]
    },
    {
     "name": "stdout",
     "output_type": "stream",
     "text": [
      "../data/out/md/146-How-Students-Print-Their-Certificate-of-Completionpdf.md saved.\n"
     ]
    },
    {
     "name": "stderr",
     "output_type": "stream",
     "text": [
      "INFO: HTTP Request: POST https://api.cloud.llamaindex.ai/api/parsing/upload \"HTTP/1.1 200 OK\"\n"
     ]
    },
    {
     "name": "stdout",
     "output_type": "stream",
     "text": [
      "Started parsing the file under job_id 021a269e-9299-40dc-a6d7-9146653770b6\n"
     ]
    },
    {
     "name": "stderr",
     "output_type": "stream",
     "text": [
      "INFO: HTTP Request: GET https://api.cloud.llamaindex.ai/api/parsing/job/021a269e-9299-40dc-a6d7-9146653770b6 \"HTTP/1.1 200 OK\"\n",
      "INFO: HTTP Request: GET https://api.cloud.llamaindex.ai/api/parsing/job/021a269e-9299-40dc-a6d7-9146653770b6 \"HTTP/1.1 200 OK\"\n",
      "INFO: HTTP Request: GET https://api.cloud.llamaindex.ai/api/parsing/job/021a269e-9299-40dc-a6d7-9146653770b6 \"HTTP/1.1 200 OK\"\n",
      "INFO: HTTP Request: GET https://api.cloud.llamaindex.ai/api/parsing/job/021a269e-9299-40dc-a6d7-9146653770b6 \"HTTP/1.1 200 OK\"\n",
      "INFO: HTTP Request: GET https://api.cloud.llamaindex.ai/api/parsing/job/021a269e-9299-40dc-a6d7-9146653770b6 \"HTTP/1.1 200 OK\"\n",
      "INFO: HTTP Request: GET https://api.cloud.llamaindex.ai/api/parsing/job/021a269e-9299-40dc-a6d7-9146653770b6/result/markdown \"HTTP/1.1 200 OK\"\n"
     ]
    },
    {
     "name": "stdout",
     "output_type": "stream",
     "text": [
      "../data/out/md/147-How-Students-Repeat-Coursespdf.md saved.\n"
     ]
    },
    {
     "name": "stderr",
     "output_type": "stream",
     "text": [
      "INFO: HTTP Request: POST https://api.cloud.llamaindex.ai/api/parsing/upload \"HTTP/1.1 200 OK\"\n"
     ]
    },
    {
     "name": "stdout",
     "output_type": "stream",
     "text": [
      "Started parsing the file under job_id c4770e0c-766c-4a8b-acda-a40fa00b0767\n"
     ]
    },
    {
     "name": "stderr",
     "output_type": "stream",
     "text": [
      "INFO: HTTP Request: GET https://api.cloud.llamaindex.ai/api/parsing/job/c4770e0c-766c-4a8b-acda-a40fa00b0767 \"HTTP/1.1 200 OK\"\n",
      "INFO: HTTP Request: GET https://api.cloud.llamaindex.ai/api/parsing/job/c4770e0c-766c-4a8b-acda-a40fa00b0767 \"HTTP/1.1 200 OK\"\n",
      "INFO: HTTP Request: GET https://api.cloud.llamaindex.ai/api/parsing/job/c4770e0c-766c-4a8b-acda-a40fa00b0767 \"HTTP/1.1 200 OK\"\n",
      "INFO: HTTP Request: GET https://api.cloud.llamaindex.ai/api/parsing/job/c4770e0c-766c-4a8b-acda-a40fa00b0767 \"HTTP/1.1 200 OK\"\n",
      "INFO: HTTP Request: GET https://api.cloud.llamaindex.ai/api/parsing/job/c4770e0c-766c-4a8b-acda-a40fa00b0767 \"HTTP/1.1 200 OK\"\n",
      "INFO: HTTP Request: GET https://api.cloud.llamaindex.ai/api/parsing/job/c4770e0c-766c-4a8b-acda-a40fa00b0767 \"HTTP/1.1 200 OK\"\n",
      "INFO: HTTP Request: GET https://api.cloud.llamaindex.ai/api/parsing/job/c4770e0c-766c-4a8b-acda-a40fa00b0767/result/markdown \"HTTP/1.1 200 OK\"\n"
     ]
    },
    {
     "name": "stdout",
     "output_type": "stream",
     "text": [
      "../data/out/md/148-How-Students-Update-Personal-Information-in-Their-Portalpdf.md saved.\n"
     ]
    },
    {
     "name": "stderr",
     "output_type": "stream",
     "text": [
      "INFO: HTTP Request: POST https://api.cloud.llamaindex.ai/api/parsing/upload \"HTTP/1.1 200 OK\"\n"
     ]
    },
    {
     "name": "stdout",
     "output_type": "stream",
     "text": [
      "Started parsing the file under job_id 56d48ebc-f601-43d8-985a-3b81b9256816\n"
     ]
    },
    {
     "name": "stderr",
     "output_type": "stream",
     "text": [
      "INFO: HTTP Request: GET https://api.cloud.llamaindex.ai/api/parsing/job/56d48ebc-f601-43d8-985a-3b81b9256816 \"HTTP/1.1 200 OK\"\n",
      "INFO: HTTP Request: GET https://api.cloud.llamaindex.ai/api/parsing/job/56d48ebc-f601-43d8-985a-3b81b9256816 \"HTTP/1.1 200 OK\"\n",
      "INFO: HTTP Request: GET https://api.cloud.llamaindex.ai/api/parsing/job/56d48ebc-f601-43d8-985a-3b81b9256816 \"HTTP/1.1 200 OK\"\n",
      "INFO: HTTP Request: GET https://api.cloud.llamaindex.ai/api/parsing/job/56d48ebc-f601-43d8-985a-3b81b9256816 \"HTTP/1.1 200 OK\"\n",
      "INFO: HTTP Request: GET https://api.cloud.llamaindex.ai/api/parsing/job/56d48ebc-f601-43d8-985a-3b81b9256816 \"HTTP/1.1 200 OK\"\n",
      "INFO: HTTP Request: GET https://api.cloud.llamaindex.ai/api/parsing/job/56d48ebc-f601-43d8-985a-3b81b9256816 \"HTTP/1.1 200 OK\"\n",
      "INFO: HTTP Request: GET https://api.cloud.llamaindex.ai/api/parsing/job/56d48ebc-f601-43d8-985a-3b81b9256816 \"HTTP/1.1 200 OK\"\n",
      "INFO: HTTP Request: GET https://api.cloud.llamaindex.ai/api/parsing/job/56d48ebc-f601-43d8-985a-3b81b9256816/result/markdown \"HTTP/1.1 200 OK\"\n"
     ]
    },
    {
     "name": "stdout",
     "output_type": "stream",
     "text": [
      "../data/out/md/149-How-a-Student-Changes-Their-Church-Account-Namepdf.md saved.\n"
     ]
    },
    {
     "name": "stderr",
     "output_type": "stream",
     "text": [
      "INFO: HTTP Request: POST https://api.cloud.llamaindex.ai/api/parsing/upload \"HTTP/1.1 200 OK\"\n"
     ]
    },
    {
     "name": "stdout",
     "output_type": "stream",
     "text": [
      "Started parsing the file under job_id 32906efc-7112-4ccc-8f30-fa9d28ca85ca\n"
     ]
    },
    {
     "name": "stderr",
     "output_type": "stream",
     "text": [
      "INFO: HTTP Request: GET https://api.cloud.llamaindex.ai/api/parsing/job/32906efc-7112-4ccc-8f30-fa9d28ca85ca \"HTTP/1.1 200 OK\"\n",
      "INFO: HTTP Request: GET https://api.cloud.llamaindex.ai/api/parsing/job/32906efc-7112-4ccc-8f30-fa9d28ca85ca \"HTTP/1.1 200 OK\"\n",
      "INFO: HTTP Request: GET https://api.cloud.llamaindex.ai/api/parsing/job/32906efc-7112-4ccc-8f30-fa9d28ca85ca \"HTTP/1.1 200 OK\"\n",
      "INFO: HTTP Request: GET https://api.cloud.llamaindex.ai/api/parsing/job/32906efc-7112-4ccc-8f30-fa9d28ca85ca \"HTTP/1.1 200 OK\"\n",
      "INFO: HTTP Request: GET https://api.cloud.llamaindex.ai/api/parsing/job/32906efc-7112-4ccc-8f30-fa9d28ca85ca \"HTTP/1.1 200 OK\"\n",
      "INFO: HTTP Request: GET https://api.cloud.llamaindex.ai/api/parsing/job/32906efc-7112-4ccc-8f30-fa9d28ca85ca/result/markdown \"HTTP/1.1 200 OK\"\n"
     ]
    },
    {
     "name": "stdout",
     "output_type": "stream",
     "text": [
      "../data/out/md/15-Area-Manager-Assignmentspdf.md saved.\n"
     ]
    },
    {
     "name": "stderr",
     "output_type": "stream",
     "text": [
      "INFO: HTTP Request: POST https://api.cloud.llamaindex.ai/api/parsing/upload \"HTTP/1.1 200 OK\"\n"
     ]
    },
    {
     "name": "stdout",
     "output_type": "stream",
     "text": [
      "Started parsing the file under job_id 5ee1c1ee-eda2-45cb-a7c4-11a09096b5ae\n"
     ]
    },
    {
     "name": "stderr",
     "output_type": "stream",
     "text": [
      "INFO: HTTP Request: GET https://api.cloud.llamaindex.ai/api/parsing/job/5ee1c1ee-eda2-45cb-a7c4-11a09096b5ae \"HTTP/1.1 200 OK\"\n",
      "INFO: HTTP Request: GET https://api.cloud.llamaindex.ai/api/parsing/job/5ee1c1ee-eda2-45cb-a7c4-11a09096b5ae/result/markdown \"HTTP/1.1 200 OK\"\n"
     ]
    },
    {
     "name": "stdout",
     "output_type": "stream",
     "text": [
      "../data/out/md/15-Area-Manager-Assignmentspdf.md saved.\n"
     ]
    },
    {
     "name": "stderr",
     "output_type": "stream",
     "text": [
      "INFO: HTTP Request: POST https://api.cloud.llamaindex.ai/api/parsing/upload \"HTTP/1.1 200 OK\"\n"
     ]
    },
    {
     "name": "stdout",
     "output_type": "stream",
     "text": [
      "Started parsing the file under job_id 8bb6db23-7a60-421b-8a73-f8fffd176376\n"
     ]
    },
    {
     "name": "stderr",
     "output_type": "stream",
     "text": [
      "INFO: HTTP Request: GET https://api.cloud.llamaindex.ai/api/parsing/job/8bb6db23-7a60-421b-8a73-f8fffd176376 \"HTTP/1.1 200 OK\"\n",
      "INFO: HTTP Request: GET https://api.cloud.llamaindex.ai/api/parsing/job/8bb6db23-7a60-421b-8a73-f8fffd176376 \"HTTP/1.1 200 OK\"\n",
      "INFO: HTTP Request: GET https://api.cloud.llamaindex.ai/api/parsing/job/8bb6db23-7a60-421b-8a73-f8fffd176376 \"HTTP/1.1 200 OK\"\n",
      "INFO: HTTP Request: GET https://api.cloud.llamaindex.ai/api/parsing/job/8bb6db23-7a60-421b-8a73-f8fffd176376/result/markdown \"HTTP/1.1 200 OK\"\n"
     ]
    },
    {
     "name": "stdout",
     "output_type": "stream",
     "text": [
      "../data/out/md/150-How-a-Student-Withdraws-from-a-Program-PC-or-ECpdf.md saved.\n"
     ]
    },
    {
     "name": "stderr",
     "output_type": "stream",
     "text": [
      "INFO: HTTP Request: POST https://api.cloud.llamaindex.ai/api/parsing/upload \"HTTP/1.1 200 OK\"\n"
     ]
    },
    {
     "name": "stdout",
     "output_type": "stream",
     "text": [
      "Started parsing the file under job_id 3bee818b-b8ac-4227-8c07-4756dfc50949\n"
     ]
    },
    {
     "name": "stderr",
     "output_type": "stream",
     "text": [
      "INFO: HTTP Request: GET https://api.cloud.llamaindex.ai/api/parsing/job/3bee818b-b8ac-4227-8c07-4756dfc50949 \"HTTP/1.1 200 OK\"\n",
      "INFO: HTTP Request: GET https://api.cloud.llamaindex.ai/api/parsing/job/3bee818b-b8ac-4227-8c07-4756dfc50949 \"HTTP/1.1 200 OK\"\n",
      "INFO: HTTP Request: GET https://api.cloud.llamaindex.ai/api/parsing/job/3bee818b-b8ac-4227-8c07-4756dfc50949 \"HTTP/1.1 200 OK\"\n",
      "INFO: HTTP Request: GET https://api.cloud.llamaindex.ai/api/parsing/job/3bee818b-b8ac-4227-8c07-4756dfc50949 \"HTTP/1.1 200 OK\"\n",
      "INFO: HTTP Request: GET https://api.cloud.llamaindex.ai/api/parsing/job/3bee818b-b8ac-4227-8c07-4756dfc50949/result/markdown \"HTTP/1.1 200 OK\"\n"
     ]
    },
    {
     "name": "stdout",
     "output_type": "stream",
     "text": [
      "../data/out/md/151-How-to-Create-a-New-Ticket.md saved.\n"
     ]
    },
    {
     "name": "stderr",
     "output_type": "stream",
     "text": [
      "INFO: HTTP Request: POST https://api.cloud.llamaindex.ai/api/parsing/upload \"HTTP/1.1 200 OK\"\n"
     ]
    },
    {
     "name": "stdout",
     "output_type": "stream",
     "text": [
      "Started parsing the file under job_id c22ce594-ba0c-4ebb-88e1-9d611aa68d86\n"
     ]
    },
    {
     "name": "stderr",
     "output_type": "stream",
     "text": [
      "INFO: HTTP Request: GET https://api.cloud.llamaindex.ai/api/parsing/job/c22ce594-ba0c-4ebb-88e1-9d611aa68d86 \"HTTP/1.1 200 OK\"\n",
      "INFO: HTTP Request: GET https://api.cloud.llamaindex.ai/api/parsing/job/c22ce594-ba0c-4ebb-88e1-9d611aa68d86/result/markdown \"HTTP/1.1 200 OK\"\n"
     ]
    },
    {
     "name": "stdout",
     "output_type": "stream",
     "text": [
      "../data/out/md/152-How-to-Find-Power-BI-Reports-pdf.md saved.\n"
     ]
    },
    {
     "name": "stderr",
     "output_type": "stream",
     "text": [
      "INFO: HTTP Request: POST https://api.cloud.llamaindex.ai/api/parsing/upload \"HTTP/1.1 200 OK\"\n"
     ]
    },
    {
     "name": "stdout",
     "output_type": "stream",
     "text": [
      "Started parsing the file under job_id 02aac1ea-c994-4206-9335-ae83d59065af\n"
     ]
    },
    {
     "name": "stderr",
     "output_type": "stream",
     "text": [
      "INFO: HTTP Request: GET https://api.cloud.llamaindex.ai/api/parsing/job/02aac1ea-c994-4206-9335-ae83d59065af \"HTTP/1.1 200 OK\"\n",
      "INFO: HTTP Request: GET https://api.cloud.llamaindex.ai/api/parsing/job/02aac1ea-c994-4206-9335-ae83d59065af/result/markdown \"HTTP/1.1 200 OK\"\n"
     ]
    },
    {
     "name": "stdout",
     "output_type": "stream",
     "text": [
      "../data/out/md/153-How-to-Identify-PC-Enrolled-Students-That-Should-be-in-CDpdf.md saved.\n"
     ]
    },
    {
     "name": "stderr",
     "output_type": "stream",
     "text": [
      "INFO: HTTP Request: POST https://api.cloud.llamaindex.ai/api/parsing/upload \"HTTP/1.1 200 OK\"\n"
     ]
    },
    {
     "name": "stdout",
     "output_type": "stream",
     "text": [
      "Started parsing the file under job_id 29bea418-b85e-465e-ad76-38595c6e8ae5\n"
     ]
    },
    {
     "name": "stderr",
     "output_type": "stream",
     "text": [
      "INFO: HTTP Request: GET https://api.cloud.llamaindex.ai/api/parsing/job/29bea418-b85e-465e-ad76-38595c6e8ae5 \"HTTP/1.1 200 OK\"\n",
      "INFO: HTTP Request: GET https://api.cloud.llamaindex.ai/api/parsing/job/29bea418-b85e-465e-ad76-38595c6e8ae5/result/markdown \"HTTP/1.1 200 OK\"\n"
     ]
    },
    {
     "name": "stdout",
     "output_type": "stream",
     "text": [
      "../data/out/md/154-How-to-Issue-an-EC-Certificatepdf.md saved.\n"
     ]
    },
    {
     "name": "stderr",
     "output_type": "stream",
     "text": [
      "INFO: HTTP Request: POST https://api.cloud.llamaindex.ai/api/parsing/upload \"HTTP/1.1 200 OK\"\n"
     ]
    },
    {
     "name": "stdout",
     "output_type": "stream",
     "text": [
      "Started parsing the file under job_id e6aac964-ac5e-4634-9b74-efa435dc8fa0\n"
     ]
    },
    {
     "name": "stderr",
     "output_type": "stream",
     "text": [
      "INFO: HTTP Request: GET https://api.cloud.llamaindex.ai/api/parsing/job/e6aac964-ac5e-4634-9b74-efa435dc8fa0 \"HTTP/1.1 200 OK\"\n",
      "INFO: HTTP Request: GET https://api.cloud.llamaindex.ai/api/parsing/job/e6aac964-ac5e-4634-9b74-efa435dc8fa0 \"HTTP/1.1 200 OK\"\n",
      "INFO: HTTP Request: GET https://api.cloud.llamaindex.ai/api/parsing/job/e6aac964-ac5e-4634-9b74-efa435dc8fa0 \"HTTP/1.1 200 OK\"\n",
      "INFO: HTTP Request: GET https://api.cloud.llamaindex.ai/api/parsing/job/e6aac964-ac5e-4634-9b74-efa435dc8fa0 \"HTTP/1.1 200 OK\"\n",
      "INFO: HTTP Request: GET https://api.cloud.llamaindex.ai/api/parsing/job/e6aac964-ac5e-4634-9b74-efa435dc8fa0 \"HTTP/1.1 200 OK\"\n",
      "INFO: HTTP Request: GET https://api.cloud.llamaindex.ai/api/parsing/job/e6aac964-ac5e-4634-9b74-efa435dc8fa0/result/markdown \"HTTP/1.1 200 OK\"\n"
     ]
    },
    {
     "name": "stdout",
     "output_type": "stream",
     "text": [
      "../data/out/md/155-How-to-Issue-an-EnglishConnect--Certificatepdf.md saved.\n"
     ]
    },
    {
     "name": "stderr",
     "output_type": "stream",
     "text": [
      "INFO: HTTP Request: POST https://api.cloud.llamaindex.ai/api/parsing/upload \"HTTP/1.1 200 OK\"\n"
     ]
    },
    {
     "name": "stdout",
     "output_type": "stream",
     "text": [
      "Started parsing the file under job_id cc18543c-d4b2-409e-9ea3-270a7bf8f9f4\n"
     ]
    },
    {
     "name": "stderr",
     "output_type": "stream",
     "text": [
      "INFO: HTTP Request: GET https://api.cloud.llamaindex.ai/api/parsing/job/cc18543c-d4b2-409e-9ea3-270a7bf8f9f4 \"HTTP/1.1 200 OK\"\n",
      "INFO: HTTP Request: GET https://api.cloud.llamaindex.ai/api/parsing/job/cc18543c-d4b2-409e-9ea3-270a7bf8f9f4/result/markdown \"HTTP/1.1 200 OK\"\n"
     ]
    },
    {
     "name": "stdout",
     "output_type": "stream",
     "text": [
      "../data/out/md/156-How-to-Log-into-PATHpdf.md saved.\n"
     ]
    },
    {
     "name": "stderr",
     "output_type": "stream",
     "text": [
      "INFO: HTTP Request: POST https://api.cloud.llamaindex.ai/api/parsing/upload \"HTTP/1.1 200 OK\"\n"
     ]
    },
    {
     "name": "stdout",
     "output_type": "stream",
     "text": [
      "Started parsing the file under job_id 7d3368ee-fe09-4122-abb8-d7777ad8f10b\n"
     ]
    },
    {
     "name": "stderr",
     "output_type": "stream",
     "text": [
      "INFO: HTTP Request: GET https://api.cloud.llamaindex.ai/api/parsing/job/7d3368ee-fe09-4122-abb8-d7777ad8f10b \"HTTP/1.1 200 OK\"\n",
      "INFO: HTTP Request: GET https://api.cloud.llamaindex.ai/api/parsing/job/7d3368ee-fe09-4122-abb8-d7777ad8f10b/result/markdown \"HTTP/1.1 200 OK\"\n"
     ]
    },
    {
     "name": "stdout",
     "output_type": "stream",
     "text": [
      "../data/out/md/157-How-to-Pay-Tuition-for-ECpdf.md saved.\n"
     ]
    },
    {
     "name": "stderr",
     "output_type": "stream",
     "text": [
      "INFO: HTTP Request: POST https://api.cloud.llamaindex.ai/api/parsing/upload \"HTTP/1.1 200 OK\"\n"
     ]
    },
    {
     "name": "stdout",
     "output_type": "stream",
     "text": [
      "Started parsing the file under job_id 727b452a-8e73-4d14-83e3-11348dd582b8\n"
     ]
    },
    {
     "name": "stderr",
     "output_type": "stream",
     "text": [
      "INFO: HTTP Request: GET https://api.cloud.llamaindex.ai/api/parsing/job/727b452a-8e73-4d14-83e3-11348dd582b8 \"HTTP/1.1 200 OK\"\n",
      "INFO: HTTP Request: GET https://api.cloud.llamaindex.ai/api/parsing/job/727b452a-8e73-4d14-83e3-11348dd582b8 \"HTTP/1.1 200 OK\"\n",
      "INFO: HTTP Request: GET https://api.cloud.llamaindex.ai/api/parsing/job/727b452a-8e73-4d14-83e3-11348dd582b8 \"HTTP/1.1 200 OK\"\n",
      "INFO: HTTP Request: GET https://api.cloud.llamaindex.ai/api/parsing/job/727b452a-8e73-4d14-83e3-11348dd582b8 \"HTTP/1.1 200 OK\"\n",
      "INFO: HTTP Request: GET https://api.cloud.llamaindex.ai/api/parsing/job/727b452a-8e73-4d14-83e3-11348dd582b8/result/markdown \"HTTP/1.1 200 OK\"\n"
     ]
    },
    {
     "name": "stdout",
     "output_type": "stream",
     "text": [
      "../data/out/md/158-How-to-Show-Participant-Namespdf.md saved.\n"
     ]
    },
    {
     "name": "stderr",
     "output_type": "stream",
     "text": [
      "INFO: HTTP Request: POST https://api.cloud.llamaindex.ai/api/parsing/upload \"HTTP/1.1 200 OK\"\n"
     ]
    },
    {
     "name": "stdout",
     "output_type": "stream",
     "text": [
      "Started parsing the file under job_id 987feb74-a5cb-404e-b81d-e5d55a5cde83\n"
     ]
    },
    {
     "name": "stderr",
     "output_type": "stream",
     "text": [
      "INFO: HTTP Request: GET https://api.cloud.llamaindex.ai/api/parsing/job/987feb74-a5cb-404e-b81d-e5d55a5cde83 \"HTTP/1.1 200 OK\"\n",
      "INFO: HTTP Request: GET https://api.cloud.llamaindex.ai/api/parsing/job/987feb74-a5cb-404e-b81d-e5d55a5cde83 \"HTTP/1.1 200 OK\"\n",
      "INFO: HTTP Request: GET https://api.cloud.llamaindex.ai/api/parsing/job/987feb74-a5cb-404e-b81d-e5d55a5cde83 \"HTTP/1.1 200 OK\"\n",
      "INFO: HTTP Request: GET https://api.cloud.llamaindex.ai/api/parsing/job/987feb74-a5cb-404e-b81d-e5d55a5cde83 \"HTTP/1.1 200 OK\"\n",
      "INFO: HTTP Request: GET https://api.cloud.llamaindex.ai/api/parsing/job/987feb74-a5cb-404e-b81d-e5d55a5cde83/result/markdown \"HTTP/1.1 200 OK\"\n"
     ]
    },
    {
     "name": "stdout",
     "output_type": "stream",
     "text": [
      "../data/out/md/159-How-to-Use-the-Filter-Menupdf.md saved.\n"
     ]
    },
    {
     "name": "stderr",
     "output_type": "stream",
     "text": [
      "INFO: HTTP Request: POST https://api.cloud.llamaindex.ai/api/parsing/upload \"HTTP/1.1 200 OK\"\n"
     ]
    },
    {
     "name": "stdout",
     "output_type": "stream",
     "text": [
      "Started parsing the file under job_id e4062c9a-4f26-4a13-be12-ffade29c5039\n"
     ]
    },
    {
     "name": "stderr",
     "output_type": "stream",
     "text": [
      "INFO: HTTP Request: GET https://api.cloud.llamaindex.ai/api/parsing/job/e4062c9a-4f26-4a13-be12-ffade29c5039 \"HTTP/1.1 200 OK\"\n",
      "INFO: HTTP Request: GET https://api.cloud.llamaindex.ai/api/parsing/job/e4062c9a-4f26-4a13-be12-ffade29c5039 \"HTTP/1.1 200 OK\"\n",
      "INFO: HTTP Request: GET https://api.cloud.llamaindex.ai/api/parsing/job/e4062c9a-4f26-4a13-be12-ffade29c5039 \"HTTP/1.1 200 OK\"\n",
      "INFO: HTTP Request: GET https://api.cloud.llamaindex.ai/api/parsing/job/e4062c9a-4f26-4a13-be12-ffade29c5039 \"HTTP/1.1 200 OK\"\n",
      "INFO: HTTP Request: GET https://api.cloud.llamaindex.ai/api/parsing/job/e4062c9a-4f26-4a13-be12-ffade29c5039 \"HTTP/1.1 200 OK\"\n",
      "INFO: HTTP Request: GET https://api.cloud.llamaindex.ai/api/parsing/job/e4062c9a-4f26-4a13-be12-ffade29c5039/result/markdown \"HTTP/1.1 200 OK\"\n"
     ]
    },
    {
     "name": "stdout",
     "output_type": "stream",
     "text": [
      "../data/out/md/16-Area-Structure-and-Communicationpdf.md saved.\n"
     ]
    },
    {
     "name": "stderr",
     "output_type": "stream",
     "text": [
      "INFO: HTTP Request: POST https://api.cloud.llamaindex.ai/api/parsing/upload \"HTTP/1.1 200 OK\"\n"
     ]
    },
    {
     "name": "stdout",
     "output_type": "stream",
     "text": [
      "Started parsing the file under job_id 7ab01726-7c66-49da-98fb-e5b6c8b71129\n"
     ]
    },
    {
     "name": "stderr",
     "output_type": "stream",
     "text": [
      "INFO: HTTP Request: GET https://api.cloud.llamaindex.ai/api/parsing/job/7ab01726-7c66-49da-98fb-e5b6c8b71129 \"HTTP/1.1 200 OK\"\n",
      "INFO: HTTP Request: GET https://api.cloud.llamaindex.ai/api/parsing/job/7ab01726-7c66-49da-98fb-e5b6c8b71129 \"HTTP/1.1 200 OK\"\n",
      "INFO: HTTP Request: GET https://api.cloud.llamaindex.ai/api/parsing/job/7ab01726-7c66-49da-98fb-e5b6c8b71129 \"HTTP/1.1 200 OK\"\n",
      "INFO: HTTP Request: GET https://api.cloud.llamaindex.ai/api/parsing/job/7ab01726-7c66-49da-98fb-e5b6c8b71129 \"HTTP/1.1 200 OK\"\n",
      "INFO: HTTP Request: GET https://api.cloud.llamaindex.ai/api/parsing/job/7ab01726-7c66-49da-98fb-e5b6c8b71129 \"HTTP/1.1 200 OK\"\n",
      "INFO: HTTP Request: GET https://api.cloud.llamaindex.ai/api/parsing/job/7ab01726-7c66-49da-98fb-e5b6c8b71129 \"HTTP/1.1 200 OK\"\n",
      "INFO: HTTP Request: GET https://api.cloud.llamaindex.ai/api/parsing/job/7ab01726-7c66-49da-98fb-e5b6c8b71129/result/markdown \"HTTP/1.1 200 OK\"\n"
     ]
    },
    {
     "name": "stdout",
     "output_type": "stream",
     "text": [
      "../data/out/md/160-How-to-locate-stakes-and-student-informationpdf.md saved.\n"
     ]
    },
    {
     "name": "stderr",
     "output_type": "stream",
     "text": [
      "INFO: HTTP Request: POST https://api.cloud.llamaindex.ai/api/parsing/upload \"HTTP/1.1 200 OK\"\n"
     ]
    },
    {
     "name": "stdout",
     "output_type": "stream",
     "text": [
      "Started parsing the file under job_id 0e334416-53eb-4e89-9a1f-03a763097ac7\n"
     ]
    },
    {
     "name": "stderr",
     "output_type": "stream",
     "text": [
      "INFO: HTTP Request: GET https://api.cloud.llamaindex.ai/api/parsing/job/0e334416-53eb-4e89-9a1f-03a763097ac7 \"HTTP/1.1 200 OK\"\n",
      "INFO: HTTP Request: GET https://api.cloud.llamaindex.ai/api/parsing/job/0e334416-53eb-4e89-9a1f-03a763097ac7 \"HTTP/1.1 200 OK\"\n",
      "INFO: HTTP Request: GET https://api.cloud.llamaindex.ai/api/parsing/job/0e334416-53eb-4e89-9a1f-03a763097ac7 \"HTTP/1.1 200 OK\"\n",
      "INFO: HTTP Request: GET https://api.cloud.llamaindex.ai/api/parsing/job/0e334416-53eb-4e89-9a1f-03a763097ac7 \"HTTP/1.1 200 OK\"\n",
      "INFO: HTTP Request: GET https://api.cloud.llamaindex.ai/api/parsing/job/0e334416-53eb-4e89-9a1f-03a763097ac7 \"HTTP/1.1 200 OK\"\n",
      "INFO: HTTP Request: GET https://api.cloud.llamaindex.ai/api/parsing/job/0e334416-53eb-4e89-9a1f-03a763097ac7 \"HTTP/1.1 200 OK\"\n",
      "INFO: HTTP Request: GET https://api.cloud.llamaindex.ai/api/parsing/job/0e334416-53eb-4e89-9a1f-03a763097ac7 \"HTTP/1.1 200 OK\"\n",
      "INFO: HTTP Request: GET https://api.cloud.llamaindex.ai/api/parsing/job/0e334416-53eb-4e89-9a1f-03a763097ac7 \"HTTP/1.1 200 OK\"\n",
      "INFO: HTTP Request: GET https://api.cloud.llamaindex.ai/api/parsing/job/0e334416-53eb-4e89-9a1f-03a763097ac7 \"HTTP/1.1 200 OK\"\n",
      "INFO: HTTP Request: GET https://api.cloud.llamaindex.ai/api/parsing/job/0e334416-53eb-4e89-9a1f-03a763097ac7 \"HTTP/1.1 200 OK\"\n"
     ]
    },
    {
     "name": "stdout",
     "output_type": "stream",
     "text": [
      "."
     ]
    },
    {
     "name": "stderr",
     "output_type": "stream",
     "text": [
      "INFO: HTTP Request: GET https://api.cloud.llamaindex.ai/api/parsing/job/0e334416-53eb-4e89-9a1f-03a763097ac7 \"HTTP/1.1 200 OK\"\n",
      "INFO: HTTP Request: GET https://api.cloud.llamaindex.ai/api/parsing/job/0e334416-53eb-4e89-9a1f-03a763097ac7/result/markdown \"HTTP/1.1 200 OK\"\n"
     ]
    },
    {
     "name": "stdout",
     "output_type": "stream",
     "text": [
      "../data/out/md/161-ITALIAN-CSM-Application-Octpdf.md saved.\n"
     ]
    },
    {
     "name": "stderr",
     "output_type": "stream",
     "text": [
      "INFO: HTTP Request: POST https://api.cloud.llamaindex.ai/api/parsing/upload \"HTTP/1.1 200 OK\"\n"
     ]
    },
    {
     "name": "stdout",
     "output_type": "stream",
     "text": [
      "Started parsing the file under job_id eabe8599-d4cd-4e10-9926-88a241a0eb1e\n"
     ]
    },
    {
     "name": "stderr",
     "output_type": "stream",
     "text": [
      "INFO: HTTP Request: GET https://api.cloud.llamaindex.ai/api/parsing/job/eabe8599-d4cd-4e10-9926-88a241a0eb1e \"HTTP/1.1 200 OK\"\n",
      "INFO: HTTP Request: GET https://api.cloud.llamaindex.ai/api/parsing/job/eabe8599-d4cd-4e10-9926-88a241a0eb1e \"HTTP/1.1 200 OK\"\n",
      "INFO: HTTP Request: GET https://api.cloud.llamaindex.ai/api/parsing/job/eabe8599-d4cd-4e10-9926-88a241a0eb1e \"HTTP/1.1 200 OK\"\n",
      "INFO: HTTP Request: GET https://api.cloud.llamaindex.ai/api/parsing/job/eabe8599-d4cd-4e10-9926-88a241a0eb1e \"HTTP/1.1 200 OK\"\n",
      "INFO: HTTP Request: GET https://api.cloud.llamaindex.ai/api/parsing/job/eabe8599-d4cd-4e10-9926-88a241a0eb1e/result/markdown \"HTTP/1.1 200 OK\"\n"
     ]
    },
    {
     "name": "stdout",
     "output_type": "stream",
     "text": [
      "../data/out/md/162-Ideas-if-a-lead-student-doesnt-showpdf.md saved.\n"
     ]
    },
    {
     "name": "stderr",
     "output_type": "stream",
     "text": [
      "INFO: HTTP Request: POST https://api.cloud.llamaindex.ai/api/parsing/upload \"HTTP/1.1 200 OK\"\n"
     ]
    },
    {
     "name": "stdout",
     "output_type": "stream",
     "text": [
      "Started parsing the file under job_id 7ba4624b-5d4b-4cb4-9473-0ff01291d2df\n"
     ]
    },
    {
     "name": "stderr",
     "output_type": "stream",
     "text": [
      "INFO: HTTP Request: GET https://api.cloud.llamaindex.ai/api/parsing/job/7ba4624b-5d4b-4cb4-9473-0ff01291d2df \"HTTP/1.1 200 OK\"\n",
      "INFO: HTTP Request: GET https://api.cloud.llamaindex.ai/api/parsing/job/7ba4624b-5d4b-4cb4-9473-0ff01291d2df \"HTTP/1.1 200 OK\"\n",
      "INFO: HTTP Request: GET https://api.cloud.llamaindex.ai/api/parsing/job/7ba4624b-5d4b-4cb4-9473-0ff01291d2df \"HTTP/1.1 200 OK\"\n",
      "INFO: HTTP Request: GET https://api.cloud.llamaindex.ai/api/parsing/job/7ba4624b-5d4b-4cb4-9473-0ff01291d2df \"HTTP/1.1 200 OK\"\n",
      "INFO: HTTP Request: GET https://api.cloud.llamaindex.ai/api/parsing/job/7ba4624b-5d4b-4cb4-9473-0ff01291d2df/result/markdown \"HTTP/1.1 200 OK\"\n"
     ]
    },
    {
     "name": "stdout",
     "output_type": "stream",
     "text": [
      "../data/out/md/163-Identify-BYU-Pathway-Portalspdf.md saved.\n"
     ]
    },
    {
     "name": "stderr",
     "output_type": "stream",
     "text": [
      "INFO: HTTP Request: POST https://api.cloud.llamaindex.ai/api/parsing/upload \"HTTP/1.1 200 OK\"\n"
     ]
    },
    {
     "name": "stdout",
     "output_type": "stream",
     "text": [
      "Started parsing the file under job_id 9797951e-bfaf-46e2-a0e4-22a19a79b700\n"
     ]
    },
    {
     "name": "stderr",
     "output_type": "stream",
     "text": [
      "INFO: HTTP Request: GET https://api.cloud.llamaindex.ai/api/parsing/job/9797951e-bfaf-46e2-a0e4-22a19a79b700 \"HTTP/1.1 200 OK\"\n",
      "INFO: HTTP Request: GET https://api.cloud.llamaindex.ai/api/parsing/job/9797951e-bfaf-46e2-a0e4-22a19a79b700/result/markdown \"HTTP/1.1 200 OK\"\n"
     ]
    },
    {
     "name": "stdout",
     "output_type": "stream",
     "text": [
      "../data/out/md/164-Impersonate-a-Learner-to-Accesspdf.md saved.\n"
     ]
    },
    {
     "name": "stderr",
     "output_type": "stream",
     "text": [
      "INFO: HTTP Request: POST https://api.cloud.llamaindex.ai/api/parsing/upload \"HTTP/1.1 200 OK\"\n"
     ]
    },
    {
     "name": "stdout",
     "output_type": "stream",
     "text": [
      "Started parsing the file under job_id c9dae9ad-5538-4ebf-8bda-ed4d64abb069\n"
     ]
    },
    {
     "name": "stderr",
     "output_type": "stream",
     "text": [
      "INFO: HTTP Request: GET https://api.cloud.llamaindex.ai/api/parsing/job/c9dae9ad-5538-4ebf-8bda-ed4d64abb069 \"HTTP/1.1 200 OK\"\n",
      "INFO: HTTP Request: GET https://api.cloud.llamaindex.ai/api/parsing/job/c9dae9ad-5538-4ebf-8bda-ed4d64abb069 \"HTTP/1.1 200 OK\"\n",
      "INFO: HTTP Request: GET https://api.cloud.llamaindex.ai/api/parsing/job/c9dae9ad-5538-4ebf-8bda-ed4d64abb069 \"HTTP/1.1 200 OK\"\n",
      "INFO: HTTP Request: GET https://api.cloud.llamaindex.ai/api/parsing/job/c9dae9ad-5538-4ebf-8bda-ed4d64abb069 \"HTTP/1.1 200 OK\"\n",
      "INFO: HTTP Request: GET https://api.cloud.llamaindex.ai/api/parsing/job/c9dae9ad-5538-4ebf-8bda-ed4d64abb069 \"HTTP/1.1 200 OK\"\n",
      "INFO: HTTP Request: GET https://api.cloud.llamaindex.ai/api/parsing/job/c9dae9ad-5538-4ebf-8bda-ed4d64abb069/result/markdown \"HTTP/1.1 200 OK\"\n"
     ]
    },
    {
     "name": "stdout",
     "output_type": "stream",
     "text": [
      "../data/out/md/165-Impersonating-a-Student-in-PCpdf.md saved.\n"
     ]
    },
    {
     "name": "stderr",
     "output_type": "stream",
     "text": [
      "INFO: HTTP Request: POST https://api.cloud.llamaindex.ai/api/parsing/upload \"HTTP/1.1 200 OK\"\n"
     ]
    },
    {
     "name": "stdout",
     "output_type": "stream",
     "text": [
      "Started parsing the file under job_id d4136f6e-f019-4834-9080-20610192d390\n"
     ]
    },
    {
     "name": "stderr",
     "output_type": "stream",
     "text": [
      "INFO: HTTP Request: GET https://api.cloud.llamaindex.ai/api/parsing/job/d4136f6e-f019-4834-9080-20610192d390 \"HTTP/1.1 200 OK\"\n",
      "INFO: HTTP Request: GET https://api.cloud.llamaindex.ai/api/parsing/job/d4136f6e-f019-4834-9080-20610192d390/result/markdown \"HTTP/1.1 200 OK\"\n"
     ]
    },
    {
     "name": "stdout",
     "output_type": "stream",
     "text": [
      "../data/out/md/166-Improving-Your-Shepherdingpdf.md saved.\n"
     ]
    },
    {
     "name": "stderr",
     "output_type": "stream",
     "text": [
      "INFO: HTTP Request: POST https://api.cloud.llamaindex.ai/api/parsing/upload \"HTTP/1.1 200 OK\"\n"
     ]
    },
    {
     "name": "stdout",
     "output_type": "stream",
     "text": [
      "Started parsing the file under job_id b5eeadae-1161-4b45-bb5f-713c754d2f65\n"
     ]
    },
    {
     "name": "stderr",
     "output_type": "stream",
     "text": [
      "INFO: HTTP Request: GET https://api.cloud.llamaindex.ai/api/parsing/job/b5eeadae-1161-4b45-bb5f-713c754d2f65 \"HTTP/1.1 200 OK\"\n",
      "INFO: HTTP Request: GET https://api.cloud.llamaindex.ai/api/parsing/job/b5eeadae-1161-4b45-bb5f-713c754d2f65 \"HTTP/1.1 200 OK\"\n",
      "INFO: HTTP Request: GET https://api.cloud.llamaindex.ai/api/parsing/job/b5eeadae-1161-4b45-bb5f-713c754d2f65 \"HTTP/1.1 200 OK\"\n",
      "INFO: HTTP Request: GET https://api.cloud.llamaindex.ai/api/parsing/job/b5eeadae-1161-4b45-bb5f-713c754d2f65 \"HTTP/1.1 200 OK\"\n",
      "INFO: HTTP Request: GET https://api.cloud.llamaindex.ai/api/parsing/job/b5eeadae-1161-4b45-bb5f-713c754d2f65 \"HTTP/1.1 200 OK\"\n",
      "INFO: HTTP Request: GET https://api.cloud.llamaindex.ai/api/parsing/job/b5eeadae-1161-4b45-bb5f-713c754d2f65 \"HTTP/1.1 200 OK\"\n",
      "INFO: HTTP Request: GET https://api.cloud.llamaindex.ai/api/parsing/job/b5eeadae-1161-4b45-bb5f-713c754d2f65 \"HTTP/1.1 200 OK\"\n",
      "INFO: HTTP Request: GET https://api.cloud.llamaindex.ai/api/parsing/job/b5eeadae-1161-4b45-bb5f-713c754d2f65 \"HTTP/1.1 200 OK\"\n",
      "INFO: HTTP Request: GET https://api.cloud.llamaindex.ai/api/parsing/job/b5eeadae-1161-4b45-bb5f-713c754d2f65/result/markdown \"HTTP/1.1 200 OK\"\n"
     ]
    },
    {
     "name": "stdout",
     "output_type": "stream",
     "text": [
      "../data/out/md/167-Informe-en-Fuentes-de-recursos-para-lideres-y-secretarios-de-la-Iglesiapdf.md saved.\n"
     ]
    },
    {
     "name": "stderr",
     "output_type": "stream",
     "text": [
      "INFO: HTTP Request: POST https://api.cloud.llamaindex.ai/api/parsing/upload \"HTTP/1.1 200 OK\"\n"
     ]
    },
    {
     "name": "stdout",
     "output_type": "stream",
     "text": [
      "Started parsing the file under job_id ca440c44-297a-491b-af69-48fff9fc4e03\n"
     ]
    },
    {
     "name": "stderr",
     "output_type": "stream",
     "text": [
      "INFO: HTTP Request: GET https://api.cloud.llamaindex.ai/api/parsing/job/ca440c44-297a-491b-af69-48fff9fc4e03 \"HTTP/1.1 200 OK\"\n",
      "INFO: HTTP Request: GET https://api.cloud.llamaindex.ai/api/parsing/job/ca440c44-297a-491b-af69-48fff9fc4e03 \"HTTP/1.1 200 OK\"\n",
      "INFO: HTTP Request: GET https://api.cloud.llamaindex.ai/api/parsing/job/ca440c44-297a-491b-af69-48fff9fc4e03 \"HTTP/1.1 200 OK\"\n",
      "INFO: HTTP Request: GET https://api.cloud.llamaindex.ai/api/parsing/job/ca440c44-297a-491b-af69-48fff9fc4e03 \"HTTP/1.1 200 OK\"\n",
      "INFO: HTTP Request: GET https://api.cloud.llamaindex.ai/api/parsing/job/ca440c44-297a-491b-af69-48fff9fc4e03 \"HTTP/1.1 200 OK\"\n",
      "INFO: HTTP Request: GET https://api.cloud.llamaindex.ai/api/parsing/job/ca440c44-297a-491b-af69-48fff9fc4e03 \"HTTP/1.1 200 OK\"\n",
      "INFO: HTTP Request: GET https://api.cloud.llamaindex.ai/api/parsing/job/ca440c44-297a-491b-af69-48fff9fc4e03/result/markdown \"HTTP/1.1 200 OK\"\n"
     ]
    },
    {
     "name": "stdout",
     "output_type": "stream",
     "text": [
      "../data/out/md/168-Institutional-Handoutpdf-pdf.md saved.\n"
     ]
    },
    {
     "name": "stderr",
     "output_type": "stream",
     "text": [
      "INFO: HTTP Request: POST https://api.cloud.llamaindex.ai/api/parsing/upload \"HTTP/1.1 200 OK\"\n"
     ]
    },
    {
     "name": "stdout",
     "output_type": "stream",
     "text": [
      "Started parsing the file under job_id 525fcfbf-e2df-4cf7-bb2b-ea460a2cea33\n"
     ]
    },
    {
     "name": "stderr",
     "output_type": "stream",
     "text": [
      "INFO: HTTP Request: GET https://api.cloud.llamaindex.ai/api/parsing/job/525fcfbf-e2df-4cf7-bb2b-ea460a2cea33 \"HTTP/1.1 200 OK\"\n",
      "INFO: HTTP Request: GET https://api.cloud.llamaindex.ai/api/parsing/job/525fcfbf-e2df-4cf7-bb2b-ea460a2cea33 \"HTTP/1.1 200 OK\"\n",
      "INFO: HTTP Request: GET https://api.cloud.llamaindex.ai/api/parsing/job/525fcfbf-e2df-4cf7-bb2b-ea460a2cea33 \"HTTP/1.1 200 OK\"\n",
      "INFO: HTTP Request: GET https://api.cloud.llamaindex.ai/api/parsing/job/525fcfbf-e2df-4cf7-bb2b-ea460a2cea33 \"HTTP/1.1 200 OK\"\n",
      "INFO: HTTP Request: GET https://api.cloud.llamaindex.ai/api/parsing/job/525fcfbf-e2df-4cf7-bb2b-ea460a2cea33 \"HTTP/1.1 200 OK\"\n",
      "INFO: HTTP Request: GET https://api.cloud.llamaindex.ai/api/parsing/job/525fcfbf-e2df-4cf7-bb2b-ea460a2cea33/result/markdown \"HTTP/1.1 200 OK\"\n"
     ]
    },
    {
     "name": "stdout",
     "output_type": "stream",
     "text": [
      "../data/out/md/169-Instructional-Teamspdf.md saved.\n"
     ]
    },
    {
     "name": "stderr",
     "output_type": "stream",
     "text": [
      "INFO: HTTP Request: POST https://api.cloud.llamaindex.ai/api/parsing/upload \"HTTP/1.1 200 OK\"\n"
     ]
    },
    {
     "name": "stdout",
     "output_type": "stream",
     "text": [
      "Started parsing the file under job_id 3fdffb6a-269d-4b27-8c56-48b4d65e35fc\n"
     ]
    },
    {
     "name": "stderr",
     "output_type": "stream",
     "text": [
      "INFO: HTTP Request: GET https://api.cloud.llamaindex.ai/api/parsing/job/3fdffb6a-269d-4b27-8c56-48b4d65e35fc \"HTTP/1.1 200 OK\"\n",
      "INFO: HTTP Request: GET https://api.cloud.llamaindex.ai/api/parsing/job/3fdffb6a-269d-4b27-8c56-48b4d65e35fc \"HTTP/1.1 200 OK\"\n",
      "INFO: HTTP Request: GET https://api.cloud.llamaindex.ai/api/parsing/job/3fdffb6a-269d-4b27-8c56-48b4d65e35fc \"HTTP/1.1 200 OK\"\n",
      "INFO: HTTP Request: GET https://api.cloud.llamaindex.ai/api/parsing/job/3fdffb6a-269d-4b27-8c56-48b4d65e35fc \"HTTP/1.1 200 OK\"\n",
      "INFO: HTTP Request: GET https://api.cloud.llamaindex.ai/api/parsing/job/3fdffb6a-269d-4b27-8c56-48b4d65e35fc/result/markdown \"HTTP/1.1 200 OK\"\n"
     ]
    },
    {
     "name": "stdout",
     "output_type": "stream",
     "text": [
      "../data/out/md/17-Assign-a-Role-to-a-Missionarypdf.md saved.\n"
     ]
    },
    {
     "name": "stderr",
     "output_type": "stream",
     "text": [
      "INFO: HTTP Request: POST https://api.cloud.llamaindex.ai/api/parsing/upload \"HTTP/1.1 200 OK\"\n"
     ]
    },
    {
     "name": "stdout",
     "output_type": "stream",
     "text": [
      "Started parsing the file under job_id 51921c46-1d12-45fa-9343-375e712e2f65\n"
     ]
    },
    {
     "name": "stderr",
     "output_type": "stream",
     "text": [
      "INFO: HTTP Request: GET https://api.cloud.llamaindex.ai/api/parsing/job/51921c46-1d12-45fa-9343-375e712e2f65 \"HTTP/1.1 200 OK\"\n",
      "INFO: HTTP Request: GET https://api.cloud.llamaindex.ai/api/parsing/job/51921c46-1d12-45fa-9343-375e712e2f65 \"HTTP/1.1 200 OK\"\n",
      "INFO: HTTP Request: GET https://api.cloud.llamaindex.ai/api/parsing/job/51921c46-1d12-45fa-9343-375e712e2f65 \"HTTP/1.1 200 OK\"\n",
      "INFO: HTTP Request: GET https://api.cloud.llamaindex.ai/api/parsing/job/51921c46-1d12-45fa-9343-375e712e2f65 \"HTTP/1.1 200 OK\"\n",
      "INFO: HTTP Request: GET https://api.cloud.llamaindex.ai/api/parsing/job/51921c46-1d12-45fa-9343-375e712e2f65 \"HTTP/1.1 200 OK\"\n",
      "INFO: HTTP Request: GET https://api.cloud.llamaindex.ai/api/parsing/job/51921c46-1d12-45fa-9343-375e712e2f65 \"HTTP/1.1 200 OK\"\n",
      "INFO: HTTP Request: GET https://api.cloud.llamaindex.ai/api/parsing/job/51921c46-1d12-45fa-9343-375e712e2f65 \"HTTP/1.1 200 OK\"\n",
      "INFO: HTTP Request: GET https://api.cloud.llamaindex.ai/api/parsing/job/51921c46-1d12-45fa-9343-375e712e2f65/result/markdown \"HTTP/1.1 200 OK\"\n"
     ]
    },
    {
     "name": "stdout",
     "output_type": "stream",
     "text": [
      "../data/out/md/170-International-Area-Transitioning-to-Block-a-Guidepdf.md saved.\n"
     ]
    },
    {
     "name": "stderr",
     "output_type": "stream",
     "text": [
      "INFO: HTTP Request: POST https://api.cloud.llamaindex.ai/api/parsing/upload \"HTTP/1.1 200 OK\"\n"
     ]
    },
    {
     "name": "stdout",
     "output_type": "stream",
     "text": [
      "Started parsing the file under job_id 7ba0b37f-50ba-4245-a7da-d924ee73135f\n"
     ]
    },
    {
     "name": "stderr",
     "output_type": "stream",
     "text": [
      "INFO: HTTP Request: GET https://api.cloud.llamaindex.ai/api/parsing/job/7ba0b37f-50ba-4245-a7da-d924ee73135f \"HTTP/1.1 200 OK\"\n",
      "INFO: HTTP Request: GET https://api.cloud.llamaindex.ai/api/parsing/job/7ba0b37f-50ba-4245-a7da-d924ee73135f \"HTTP/1.1 200 OK\"\n",
      "INFO: HTTP Request: GET https://api.cloud.llamaindex.ai/api/parsing/job/7ba0b37f-50ba-4245-a7da-d924ee73135f \"HTTP/1.1 200 OK\"\n",
      "INFO: HTTP Request: GET https://api.cloud.llamaindex.ai/api/parsing/job/7ba0b37f-50ba-4245-a7da-d924ee73135f \"HTTP/1.1 200 OK\"\n",
      "INFO: HTTP Request: GET https://api.cloud.llamaindex.ai/api/parsing/job/7ba0b37f-50ba-4245-a7da-d924ee73135f \"HTTP/1.1 200 OK\"\n",
      "INFO: HTTP Request: GET https://api.cloud.llamaindex.ai/api/parsing/job/7ba0b37f-50ba-4245-a7da-d924ee73135f/result/markdown \"HTTP/1.1 200 OK\"\n"
     ]
    },
    {
     "name": "stdout",
     "output_type": "stream",
     "text": [
      "../data/out/md/171-International-CSM-SSM-Application-Process-Feb-Int-Application-and-Extensionpdf.md saved.\n"
     ]
    },
    {
     "name": "stderr",
     "output_type": "stream",
     "text": [
      "INFO: HTTP Request: POST https://api.cloud.llamaindex.ai/api/parsing/upload \"HTTP/1.1 200 OK\"\n"
     ]
    },
    {
     "name": "stdout",
     "output_type": "stream",
     "text": [
      "Started parsing the file under job_id 4a058151-052f-43e6-aeca-9b9651734361\n"
     ]
    },
    {
     "name": "stderr",
     "output_type": "stream",
     "text": [
      "INFO: HTTP Request: GET https://api.cloud.llamaindex.ai/api/parsing/job/4a058151-052f-43e6-aeca-9b9651734361 \"HTTP/1.1 200 OK\"\n",
      "INFO: HTTP Request: GET https://api.cloud.llamaindex.ai/api/parsing/job/4a058151-052f-43e6-aeca-9b9651734361 \"HTTP/1.1 200 OK\"\n",
      "INFO: HTTP Request: GET https://api.cloud.llamaindex.ai/api/parsing/job/4a058151-052f-43e6-aeca-9b9651734361 \"HTTP/1.1 200 OK\"\n",
      "INFO: HTTP Request: GET https://api.cloud.llamaindex.ai/api/parsing/job/4a058151-052f-43e6-aeca-9b9651734361 \"HTTP/1.1 200 OK\"\n",
      "INFO: HTTP Request: GET https://api.cloud.llamaindex.ai/api/parsing/job/4a058151-052f-43e6-aeca-9b9651734361 \"HTTP/1.1 200 OK\"\n",
      "INFO: HTTP Request: GET https://api.cloud.llamaindex.ai/api/parsing/job/4a058151-052f-43e6-aeca-9b9651734361 \"HTTP/1.1 200 OK\"\n",
      "INFO: HTTP Request: GET https://api.cloud.llamaindex.ai/api/parsing/job/4a058151-052f-43e6-aeca-9b9651734361/result/markdown \"HTTP/1.1 200 OK\"\n"
     ]
    },
    {
     "name": "stdout",
     "output_type": "stream",
     "text": [
      "../data/out/md/172-International-CSM-SSM-Application-Processpdf.md saved.\n"
     ]
    },
    {
     "name": "stderr",
     "output_type": "stream",
     "text": [
      "INFO: HTTP Request: POST https://api.cloud.llamaindex.ai/api/parsing/upload \"HTTP/1.1 200 OK\"\n"
     ]
    },
    {
     "name": "stdout",
     "output_type": "stream",
     "text": [
      "Started parsing the file under job_id a2eda180-ce84-4963-aa4a-d8e5417a2b26\n"
     ]
    },
    {
     "name": "stderr",
     "output_type": "stream",
     "text": [
      "INFO: HTTP Request: GET https://api.cloud.llamaindex.ai/api/parsing/job/a2eda180-ce84-4963-aa4a-d8e5417a2b26 \"HTTP/1.1 200 OK\"\n",
      "INFO: HTTP Request: GET https://api.cloud.llamaindex.ai/api/parsing/job/a2eda180-ce84-4963-aa4a-d8e5417a2b26 \"HTTP/1.1 200 OK\"\n",
      "INFO: HTTP Request: GET https://api.cloud.llamaindex.ai/api/parsing/job/a2eda180-ce84-4963-aa4a-d8e5417a2b26 \"HTTP/1.1 200 OK\"\n",
      "INFO: HTTP Request: GET https://api.cloud.llamaindex.ai/api/parsing/job/a2eda180-ce84-4963-aa4a-d8e5417a2b26 \"HTTP/1.1 200 OK\"\n",
      "INFO: HTTP Request: GET https://api.cloud.llamaindex.ai/api/parsing/job/a2eda180-ce84-4963-aa4a-d8e5417a2b26 \"HTTP/1.1 200 OK\"\n",
      "INFO: HTTP Request: GET https://api.cloud.llamaindex.ai/api/parsing/job/a2eda180-ce84-4963-aa4a-d8e5417a2b26 \"HTTP/1.1 200 OK\"\n",
      "INFO: HTTP Request: GET https://api.cloud.llamaindex.ai/api/parsing/job/a2eda180-ce84-4963-aa4a-d8e5417a2b26/result/markdown \"HTTP/1.1 200 OK\"\n"
     ]
    },
    {
     "name": "stdout",
     "output_type": "stream",
     "text": [
      "../data/out/md/173-Inviting-Friends-Who-Are-Not-Memberspdf.md saved.\n"
     ]
    },
    {
     "name": "stderr",
     "output_type": "stream",
     "text": [
      "INFO: HTTP Request: POST https://api.cloud.llamaindex.ai/api/parsing/upload \"HTTP/1.1 200 OK\"\n"
     ]
    },
    {
     "name": "stdout",
     "output_type": "stream",
     "text": [
      "Started parsing the file under job_id 6f8e3a24-d739-4ec6-b48e-421f97356e90\n"
     ]
    },
    {
     "name": "stderr",
     "output_type": "stream",
     "text": [
      "INFO: HTTP Request: GET https://api.cloud.llamaindex.ai/api/parsing/job/6f8e3a24-d739-4ec6-b48e-421f97356e90 \"HTTP/1.1 200 OK\"\n",
      "INFO: HTTP Request: GET https://api.cloud.llamaindex.ai/api/parsing/job/6f8e3a24-d739-4ec6-b48e-421f97356e90 \"HTTP/1.1 200 OK\"\n",
      "INFO: HTTP Request: GET https://api.cloud.llamaindex.ai/api/parsing/job/6f8e3a24-d739-4ec6-b48e-421f97356e90 \"HTTP/1.1 200 OK\"\n",
      "INFO: HTTP Request: GET https://api.cloud.llamaindex.ai/api/parsing/job/6f8e3a24-d739-4ec6-b48e-421f97356e90 \"HTTP/1.1 200 OK\"\n",
      "INFO: HTTP Request: GET https://api.cloud.llamaindex.ai/api/parsing/job/6f8e3a24-d739-4ec6-b48e-421f97356e90 \"HTTP/1.1 200 OK\"\n",
      "INFO: HTTP Request: GET https://api.cloud.llamaindex.ai/api/parsing/job/6f8e3a24-d739-4ec6-b48e-421f97356e90 \"HTTP/1.1 200 OK\"\n",
      "INFO: HTTP Request: GET https://api.cloud.llamaindex.ai/api/parsing/job/6f8e3a24-d739-4ec6-b48e-421f97356e90 \"HTTP/1.1 200 OK\"\n",
      "INFO: HTTP Request: GET https://api.cloud.llamaindex.ai/api/parsing/job/6f8e3a24-d739-4ec6-b48e-421f97356e90/result/markdown \"HTTP/1.1 200 OK\"\n"
     ]
    },
    {
     "name": "stdout",
     "output_type": "stream",
     "text": [
      "../data/out/md/174-Inviting-Friends-of-the-Church-No-Nonmembers-in-Grouppdf.md saved.\n"
     ]
    },
    {
     "name": "stderr",
     "output_type": "stream",
     "text": [
      "INFO: HTTP Request: POST https://api.cloud.llamaindex.ai/api/parsing/upload \"HTTP/1.1 200 OK\"\n"
     ]
    },
    {
     "name": "stdout",
     "output_type": "stream",
     "text": [
      "Started parsing the file under job_id 1df01301-e376-4502-9c60-435c4f7c0443\n"
     ]
    },
    {
     "name": "stderr",
     "output_type": "stream",
     "text": [
      "INFO: HTTP Request: GET https://api.cloud.llamaindex.ai/api/parsing/job/1df01301-e376-4502-9c60-435c4f7c0443 \"HTTP/1.1 200 OK\"\n",
      "INFO: HTTP Request: GET https://api.cloud.llamaindex.ai/api/parsing/job/1df01301-e376-4502-9c60-435c4f7c0443 \"HTTP/1.1 200 OK\"\n",
      "INFO: HTTP Request: GET https://api.cloud.llamaindex.ai/api/parsing/job/1df01301-e376-4502-9c60-435c4f7c0443 \"HTTP/1.1 200 OK\"\n",
      "INFO: HTTP Request: GET https://api.cloud.llamaindex.ai/api/parsing/job/1df01301-e376-4502-9c60-435c4f7c0443 \"HTTP/1.1 200 OK\"\n",
      "INFO: HTTP Request: GET https://api.cloud.llamaindex.ai/api/parsing/job/1df01301-e376-4502-9c60-435c4f7c0443 \"HTTP/1.1 200 OK\"\n",
      "INFO: HTTP Request: GET https://api.cloud.llamaindex.ai/api/parsing/job/1df01301-e376-4502-9c60-435c4f7c0443 \"HTTP/1.1 200 OK\"\n",
      "INFO: HTTP Request: GET https://api.cloud.llamaindex.ai/api/parsing/job/1df01301-e376-4502-9c60-435c4f7c0443 \"HTTP/1.1 200 OK\"\n",
      "INFO: HTTP Request: GET https://api.cloud.llamaindex.ai/api/parsing/job/1df01301-e376-4502-9c60-435c4f7c0443/result/markdown \"HTTP/1.1 200 OK\"\n"
     ]
    },
    {
     "name": "stdout",
     "output_type": "stream",
     "text": [
      "../data/out/md/175-Inviting-Friends-of-the-Church-Nonmembers-in-Grouppdf.md saved.\n"
     ]
    },
    {
     "name": "stderr",
     "output_type": "stream",
     "text": [
      "INFO: HTTP Request: POST https://api.cloud.llamaindex.ai/api/parsing/upload \"HTTP/1.1 200 OK\"\n"
     ]
    },
    {
     "name": "stdout",
     "output_type": "stream",
     "text": [
      "Started parsing the file under job_id 8912c9ae-284f-4649-af5f-5d522b5a60fc\n"
     ]
    },
    {
     "name": "stderr",
     "output_type": "stream",
     "text": [
      "INFO: HTTP Request: GET https://api.cloud.llamaindex.ai/api/parsing/job/8912c9ae-284f-4649-af5f-5d522b5a60fc \"HTTP/1.1 200 OK\"\n",
      "INFO: HTTP Request: GET https://api.cloud.llamaindex.ai/api/parsing/job/8912c9ae-284f-4649-af5f-5d522b5a60fc \"HTTP/1.1 200 OK\"\n",
      "INFO: HTTP Request: GET https://api.cloud.llamaindex.ai/api/parsing/job/8912c9ae-284f-4649-af5f-5d522b5a60fc \"HTTP/1.1 200 OK\"\n",
      "INFO: HTTP Request: GET https://api.cloud.llamaindex.ai/api/parsing/job/8912c9ae-284f-4649-af5f-5d522b5a60fc \"HTTP/1.1 200 OK\"\n",
      "INFO: HTTP Request: GET https://api.cloud.llamaindex.ai/api/parsing/job/8912c9ae-284f-4649-af5f-5d522b5a60fc \"HTTP/1.1 200 OK\"\n",
      "INFO: HTTP Request: GET https://api.cloud.llamaindex.ai/api/parsing/job/8912c9ae-284f-4649-af5f-5d522b5a60fc \"HTTP/1.1 200 OK\"\n",
      "INFO: HTTP Request: GET https://api.cloud.llamaindex.ai/api/parsing/job/8912c9ae-284f-4649-af5f-5d522b5a60fc \"HTTP/1.1 200 OK\"\n",
      "INFO: HTTP Request: GET https://api.cloud.llamaindex.ai/api/parsing/job/8912c9ae-284f-4649-af5f-5d522b5a60fc \"HTTP/1.1 200 OK\"\n",
      "INFO: HTTP Request: GET https://api.cloud.llamaindex.ai/api/parsing/job/8912c9ae-284f-4649-af5f-5d522b5a60fc \"HTTP/1.1 200 OK\"\n",
      "INFO: HTTP Request: GET https://api.cloud.llamaindex.ai/api/parsing/job/8912c9ae-284f-4649-af5f-5d522b5a60fc \"HTTP/1.1 200 OK\"\n"
     ]
    },
    {
     "name": "stdout",
     "output_type": "stream",
     "text": [
      "."
     ]
    },
    {
     "name": "stderr",
     "output_type": "stream",
     "text": [
      "INFO: HTTP Request: GET https://api.cloud.llamaindex.ai/api/parsing/job/8912c9ae-284f-4649-af5f-5d522b5a60fc \"HTTP/1.1 200 OK\"\n",
      "INFO: HTTP Request: GET https://api.cloud.llamaindex.ai/api/parsing/job/8912c9ae-284f-4649-af5f-5d522b5a60fc \"HTTP/1.1 200 OK\"\n",
      "INFO: HTTP Request: GET https://api.cloud.llamaindex.ai/api/parsing/job/8912c9ae-284f-4649-af5f-5d522b5a60fc/result/markdown \"HTTP/1.1 200 OK\"\n"
     ]
    },
    {
     "name": "stdout",
     "output_type": "stream",
     "text": [
      "../data/out/md/176-Japanese-CSM-Application-Octpdf.md saved.\n"
     ]
    },
    {
     "name": "stderr",
     "output_type": "stream",
     "text": [
      "INFO: HTTP Request: POST https://api.cloud.llamaindex.ai/api/parsing/upload \"HTTP/1.1 200 OK\"\n"
     ]
    },
    {
     "name": "stdout",
     "output_type": "stream",
     "text": [
      "Started parsing the file under job_id f20ff031-a8d8-4478-9486-597b33c5048e\n"
     ]
    },
    {
     "name": "stderr",
     "output_type": "stream",
     "text": [
      "INFO: HTTP Request: GET https://api.cloud.llamaindex.ai/api/parsing/job/f20ff031-a8d8-4478-9486-597b33c5048e \"HTTP/1.1 200 OK\"\n",
      "INFO: HTTP Request: GET https://api.cloud.llamaindex.ai/api/parsing/job/f20ff031-a8d8-4478-9486-597b33c5048e \"HTTP/1.1 200 OK\"\n",
      "INFO: HTTP Request: GET https://api.cloud.llamaindex.ai/api/parsing/job/f20ff031-a8d8-4478-9486-597b33c5048e \"HTTP/1.1 200 OK\"\n",
      "INFO: HTTP Request: GET https://api.cloud.llamaindex.ai/api/parsing/job/f20ff031-a8d8-4478-9486-597b33c5048e \"HTTP/1.1 200 OK\"\n",
      "INFO: HTTP Request: GET https://api.cloud.llamaindex.ai/api/parsing/job/f20ff031-a8d8-4478-9486-597b33c5048e/result/markdown \"HTTP/1.1 200 OK\"\n"
     ]
    },
    {
     "name": "stdout",
     "output_type": "stream",
     "text": [
      "../data/out/md/177-Joining-A-Zoom-Meetingpdf.md saved.\n"
     ]
    },
    {
     "name": "stderr",
     "output_type": "stream",
     "text": [
      "INFO: HTTP Request: POST https://api.cloud.llamaindex.ai/api/parsing/upload \"HTTP/1.1 200 OK\"\n"
     ]
    },
    {
     "name": "stdout",
     "output_type": "stream",
     "text": [
      "Started parsing the file under job_id f866027c-af3f-49d7-89b5-270097a4b858\n"
     ]
    },
    {
     "name": "stderr",
     "output_type": "stream",
     "text": [
      "INFO: HTTP Request: GET https://api.cloud.llamaindex.ai/api/parsing/job/f866027c-af3f-49d7-89b5-270097a4b858 \"HTTP/1.1 200 OK\"\n",
      "INFO: HTTP Request: GET https://api.cloud.llamaindex.ai/api/parsing/job/f866027c-af3f-49d7-89b5-270097a4b858 \"HTTP/1.1 200 OK\"\n",
      "INFO: HTTP Request: GET https://api.cloud.llamaindex.ai/api/parsing/job/f866027c-af3f-49d7-89b5-270097a4b858 \"HTTP/1.1 200 OK\"\n",
      "INFO: HTTP Request: GET https://api.cloud.llamaindex.ai/api/parsing/job/f866027c-af3f-49d7-89b5-270097a4b858 \"HTTP/1.1 200 OK\"\n",
      "INFO: HTTP Request: GET https://api.cloud.llamaindex.ai/api/parsing/job/f866027c-af3f-49d7-89b5-270097a4b858 \"HTTP/1.1 200 OK\"\n",
      "INFO: HTTP Request: GET https://api.cloud.llamaindex.ai/api/parsing/job/f866027c-af3f-49d7-89b5-270097a4b858 \"HTTP/1.1 200 OK\"\n",
      "INFO: HTTP Request: GET https://api.cloud.llamaindex.ai/api/parsing/job/f866027c-af3f-49d7-89b5-270097a4b858 \"HTTP/1.1 200 OK\"\n",
      "INFO: HTTP Request: GET https://api.cloud.llamaindex.ai/api/parsing/job/f866027c-af3f-49d7-89b5-270097a4b858 \"HTTP/1.1 200 OK\"\n",
      "INFO: HTTP Request: GET https://api.cloud.llamaindex.ai/api/parsing/job/f866027c-af3f-49d7-89b5-270097a4b858 \"HTTP/1.1 200 OK\"\n",
      "INFO: HTTP Request: GET https://api.cloud.llamaindex.ai/api/parsing/job/f866027c-af3f-49d7-89b5-270097a4b858 \"HTTP/1.1 200 OK\"\n"
     ]
    },
    {
     "name": "stdout",
     "output_type": "stream",
     "text": [
      "."
     ]
    },
    {
     "name": "stderr",
     "output_type": "stream",
     "text": [
      "INFO: HTTP Request: GET https://api.cloud.llamaindex.ai/api/parsing/job/f866027c-af3f-49d7-89b5-270097a4b858 \"HTTP/1.1 200 OK\"\n",
      "INFO: HTTP Request: GET https://api.cloud.llamaindex.ai/api/parsing/job/f866027c-af3f-49d7-89b5-270097a4b858/result/markdown \"HTTP/1.1 200 OK\"\n"
     ]
    },
    {
     "name": "stdout",
     "output_type": "stream",
     "text": [
      "../data/out/md/178-KOREAN-CSM-Application-Octpdf.md saved.\n"
     ]
    },
    {
     "name": "stderr",
     "output_type": "stream",
     "text": [
      "INFO: HTTP Request: POST https://api.cloud.llamaindex.ai/api/parsing/upload \"HTTP/1.1 200 OK\"\n"
     ]
    },
    {
     "name": "stdout",
     "output_type": "stream",
     "text": [
      "Started parsing the file under job_id b9d57cba-ed86-4909-b01f-6f66c6662a23\n"
     ]
    },
    {
     "name": "stderr",
     "output_type": "stream",
     "text": [
      "INFO: HTTP Request: GET https://api.cloud.llamaindex.ai/api/parsing/job/b9d57cba-ed86-4909-b01f-6f66c6662a23 \"HTTP/1.1 200 OK\"\n",
      "INFO: HTTP Request: GET https://api.cloud.llamaindex.ai/api/parsing/job/b9d57cba-ed86-4909-b01f-6f66c6662a23/result/markdown \"HTTP/1.1 200 OK\"\n"
     ]
    },
    {
     "name": "stdout",
     "output_type": "stream",
     "text": [
      "../data/out/md/178-KOREAN-CSM-Application-Octpdf.md saved.\n"
     ]
    },
    {
     "name": "stderr",
     "output_type": "stream",
     "text": [
      "INFO: HTTP Request: POST https://api.cloud.llamaindex.ai/api/parsing/upload \"HTTP/1.1 200 OK\"\n"
     ]
    },
    {
     "name": "stdout",
     "output_type": "stream",
     "text": [
      "Started parsing the file under job_id 4444ca8e-b730-43d2-98c1-b14604fc8682\n"
     ]
    },
    {
     "name": "stderr",
     "output_type": "stream",
     "text": [
      "INFO: HTTP Request: GET https://api.cloud.llamaindex.ai/api/parsing/job/4444ca8e-b730-43d2-98c1-b14604fc8682 \"HTTP/1.1 200 OK\"\n",
      "INFO: HTTP Request: GET https://api.cloud.llamaindex.ai/api/parsing/job/4444ca8e-b730-43d2-98c1-b14604fc8682 \"HTTP/1.1 200 OK\"\n",
      "INFO: HTTP Request: GET https://api.cloud.llamaindex.ai/api/parsing/job/4444ca8e-b730-43d2-98c1-b14604fc8682 \"HTTP/1.1 200 OK\"\n",
      "INFO: HTTP Request: GET https://api.cloud.llamaindex.ai/api/parsing/job/4444ca8e-b730-43d2-98c1-b14604fc8682 \"HTTP/1.1 200 OK\"\n",
      "INFO: HTTP Request: GET https://api.cloud.llamaindex.ai/api/parsing/job/4444ca8e-b730-43d2-98c1-b14604fc8682 \"HTTP/1.1 200 OK\"\n",
      "INFO: HTTP Request: GET https://api.cloud.llamaindex.ai/api/parsing/job/4444ca8e-b730-43d2-98c1-b14604fc8682 \"HTTP/1.1 200 OK\"\n",
      "INFO: HTTP Request: GET https://api.cloud.llamaindex.ai/api/parsing/job/4444ca8e-b730-43d2-98c1-b14604fc8682/result/markdown \"HTTP/1.1 200 OK\"\n"
     ]
    },
    {
     "name": "stdout",
     "output_type": "stream",
     "text": [
      "../data/out/md/179-Keep-the-Spirit-in-the-Gatheringpdf.md saved.\n"
     ]
    },
    {
     "name": "stderr",
     "output_type": "stream",
     "text": [
      "INFO: HTTP Request: POST https://api.cloud.llamaindex.ai/api/parsing/upload \"HTTP/1.1 200 OK\"\n"
     ]
    },
    {
     "name": "stdout",
     "output_type": "stream",
     "text": [
      "Started parsing the file under job_id f07be6ed-935d-4500-835d-cbf5726db13a\n"
     ]
    },
    {
     "name": "stderr",
     "output_type": "stream",
     "text": [
      "INFO: HTTP Request: GET https://api.cloud.llamaindex.ai/api/parsing/job/f07be6ed-935d-4500-835d-cbf5726db13a \"HTTP/1.1 200 OK\"\n",
      "INFO: HTTP Request: GET https://api.cloud.llamaindex.ai/api/parsing/job/f07be6ed-935d-4500-835d-cbf5726db13a \"HTTP/1.1 200 OK\"\n",
      "INFO: HTTP Request: GET https://api.cloud.llamaindex.ai/api/parsing/job/f07be6ed-935d-4500-835d-cbf5726db13a \"HTTP/1.1 200 OK\"\n",
      "INFO: HTTP Request: GET https://api.cloud.llamaindex.ai/api/parsing/job/f07be6ed-935d-4500-835d-cbf5726db13a \"HTTP/1.1 200 OK\"\n",
      "INFO: HTTP Request: GET https://api.cloud.llamaindex.ai/api/parsing/job/f07be6ed-935d-4500-835d-cbf5726db13a/result/markdown \"HTTP/1.1 200 OK\"\n"
     ]
    },
    {
     "name": "stdout",
     "output_type": "stream",
     "text": [
      "../data/out/md/18-Assign-the-Church-Unit-Detail-Rolepdf.md saved.\n"
     ]
    },
    {
     "name": "stderr",
     "output_type": "stream",
     "text": [
      "INFO: HTTP Request: POST https://api.cloud.llamaindex.ai/api/parsing/upload \"HTTP/1.1 200 OK\"\n"
     ]
    },
    {
     "name": "stdout",
     "output_type": "stream",
     "text": [
      "Started parsing the file under job_id 28e86dc0-a626-4ffd-b35f-c931a6d29189\n"
     ]
    },
    {
     "name": "stderr",
     "output_type": "stream",
     "text": [
      "INFO: HTTP Request: GET https://api.cloud.llamaindex.ai/api/parsing/job/28e86dc0-a626-4ffd-b35f-c931a6d29189 \"HTTP/1.1 200 OK\"\n",
      "INFO: HTTP Request: GET https://api.cloud.llamaindex.ai/api/parsing/job/28e86dc0-a626-4ffd-b35f-c931a6d29189 \"HTTP/1.1 200 OK\"\n",
      "INFO: HTTP Request: GET https://api.cloud.llamaindex.ai/api/parsing/job/28e86dc0-a626-4ffd-b35f-c931a6d29189 \"HTTP/1.1 200 OK\"\n",
      "INFO: HTTP Request: GET https://api.cloud.llamaindex.ai/api/parsing/job/28e86dc0-a626-4ffd-b35f-c931a6d29189 \"HTTP/1.1 200 OK\"\n",
      "INFO: HTTP Request: GET https://api.cloud.llamaindex.ai/api/parsing/job/28e86dc0-a626-4ffd-b35f-c931a6d29189 \"HTTP/1.1 200 OK\"\n",
      "INFO: HTTP Request: GET https://api.cloud.llamaindex.ai/api/parsing/job/28e86dc0-a626-4ffd-b35f-c931a6d29189 \"HTTP/1.1 200 OK\"\n",
      "INFO: HTTP Request: GET https://api.cloud.llamaindex.ai/api/parsing/job/28e86dc0-a626-4ffd-b35f-c931a6d29189/result/markdown \"HTTP/1.1 200 OK\"\n"
     ]
    },
    {
     "name": "stdout",
     "output_type": "stream",
     "text": [
      "../data/out/md/180-Lead-Learner-Lesson-Plan-Overviewpdf.md saved.\n"
     ]
    },
    {
     "name": "stderr",
     "output_type": "stream",
     "text": [
      "INFO: HTTP Request: POST https://api.cloud.llamaindex.ai/api/parsing/upload \"HTTP/1.1 200 OK\"\n"
     ]
    },
    {
     "name": "stdout",
     "output_type": "stream",
     "text": [
      "Started parsing the file under job_id 74af0ab4-e6a5-4ba5-a849-3caac0c0aa3c\n"
     ]
    },
    {
     "name": "stderr",
     "output_type": "stream",
     "text": [
      "INFO: HTTP Request: GET https://api.cloud.llamaindex.ai/api/parsing/job/74af0ab4-e6a5-4ba5-a849-3caac0c0aa3c \"HTTP/1.1 200 OK\"\n",
      "INFO: HTTP Request: GET https://api.cloud.llamaindex.ai/api/parsing/job/74af0ab4-e6a5-4ba5-a849-3caac0c0aa3c \"HTTP/1.1 200 OK\"\n",
      "INFO: HTTP Request: GET https://api.cloud.llamaindex.ai/api/parsing/job/74af0ab4-e6a5-4ba5-a849-3caac0c0aa3c \"HTTP/1.1 200 OK\"\n",
      "INFO: HTTP Request: GET https://api.cloud.llamaindex.ai/api/parsing/job/74af0ab4-e6a5-4ba5-a849-3caac0c0aa3c \"HTTP/1.1 200 OK\"\n",
      "INFO: HTTP Request: GET https://api.cloud.llamaindex.ai/api/parsing/job/74af0ab4-e6a5-4ba5-a849-3caac0c0aa3c \"HTTP/1.1 200 OK\"\n",
      "INFO: HTTP Request: GET https://api.cloud.llamaindex.ai/api/parsing/job/74af0ab4-e6a5-4ba5-a849-3caac0c0aa3c/result/markdown \"HTTP/1.1 200 OK\"\n"
     ]
    },
    {
     "name": "stdout",
     "output_type": "stream",
     "text": [
      "../data/out/md/181-Leader-and-Clerk-Resources-Report-for-Church-Leaderspdf.md saved.\n"
     ]
    },
    {
     "name": "stderr",
     "output_type": "stream",
     "text": [
      "INFO: HTTP Request: POST https://api.cloud.llamaindex.ai/api/parsing/upload \"HTTP/1.1 200 OK\"\n"
     ]
    },
    {
     "name": "stdout",
     "output_type": "stream",
     "text": [
      "Started parsing the file under job_id 2bc24853-dfb2-4802-b8e4-c52742448cdb\n"
     ]
    },
    {
     "name": "stderr",
     "output_type": "stream",
     "text": [
      "INFO: HTTP Request: GET https://api.cloud.llamaindex.ai/api/parsing/job/2bc24853-dfb2-4802-b8e4-c52742448cdb \"HTTP/1.1 200 OK\"\n",
      "INFO: HTTP Request: GET https://api.cloud.llamaindex.ai/api/parsing/job/2bc24853-dfb2-4802-b8e4-c52742448cdb \"HTTP/1.1 200 OK\"\n",
      "INFO: HTTP Request: GET https://api.cloud.llamaindex.ai/api/parsing/job/2bc24853-dfb2-4802-b8e4-c52742448cdb \"HTTP/1.1 200 OK\"\n",
      "INFO: HTTP Request: GET https://api.cloud.llamaindex.ai/api/parsing/job/2bc24853-dfb2-4802-b8e4-c52742448cdb \"HTTP/1.1 200 OK\"\n",
      "INFO: HTTP Request: GET https://api.cloud.llamaindex.ai/api/parsing/job/2bc24853-dfb2-4802-b8e4-c52742448cdb \"HTTP/1.1 200 OK\"\n",
      "INFO: HTTP Request: GET https://api.cloud.llamaindex.ai/api/parsing/job/2bc24853-dfb2-4802-b8e4-c52742448cdb/result/markdown \"HTTP/1.1 200 OK\"\n"
     ]
    },
    {
     "name": "stdout",
     "output_type": "stream",
     "text": [
      "../data/out/md/182-Learn-About-PC-pdf.md saved.\n"
     ]
    },
    {
     "name": "stderr",
     "output_type": "stream",
     "text": [
      "INFO: HTTP Request: POST https://api.cloud.llamaindex.ai/api/parsing/upload \"HTTP/1.1 200 OK\"\n"
     ]
    },
    {
     "name": "stdout",
     "output_type": "stream",
     "text": [
      "Started parsing the file under job_id 7b64c3d6-8b9f-4760-a1a0-233e5fa99c0e\n"
     ]
    },
    {
     "name": "stderr",
     "output_type": "stream",
     "text": [
      "INFO: HTTP Request: GET https://api.cloud.llamaindex.ai/api/parsing/job/7b64c3d6-8b9f-4760-a1a0-233e5fa99c0e \"HTTP/1.1 200 OK\"\n",
      "INFO: HTTP Request: GET https://api.cloud.llamaindex.ai/api/parsing/job/7b64c3d6-8b9f-4760-a1a0-233e5fa99c0e \"HTTP/1.1 200 OK\"\n",
      "INFO: HTTP Request: GET https://api.cloud.llamaindex.ai/api/parsing/job/7b64c3d6-8b9f-4760-a1a0-233e5fa99c0e \"HTTP/1.1 200 OK\"\n",
      "INFO: HTTP Request: GET https://api.cloud.llamaindex.ai/api/parsing/job/7b64c3d6-8b9f-4760-a1a0-233e5fa99c0e \"HTTP/1.1 200 OK\"\n",
      "INFO: HTTP Request: GET https://api.cloud.llamaindex.ai/api/parsing/job/7b64c3d6-8b9f-4760-a1a0-233e5fa99c0e \"HTTP/1.1 200 OK\"\n",
      "INFO: HTTP Request: GET https://api.cloud.llamaindex.ai/api/parsing/job/7b64c3d6-8b9f-4760-a1a0-233e5fa99c0e \"HTTP/1.1 200 OK\"\n",
      "INFO: HTTP Request: GET https://api.cloud.llamaindex.ai/api/parsing/job/7b64c3d6-8b9f-4760-a1a0-233e5fa99c0e/result/markdown \"HTTP/1.1 200 OK\"\n"
     ]
    },
    {
     "name": "stdout",
     "output_type": "stream",
     "text": [
      "../data/out/md/183-Learn-the-Basic-Features-of-Zoompdf.md saved.\n"
     ]
    },
    {
     "name": "stderr",
     "output_type": "stream",
     "text": [
      "INFO: HTTP Request: POST https://api.cloud.llamaindex.ai/api/parsing/upload \"HTTP/1.1 200 OK\"\n"
     ]
    },
    {
     "name": "stdout",
     "output_type": "stream",
     "text": [
      "Started parsing the file under job_id 7528a4e2-fb8f-48b1-8b52-d36e9f3e591c\n"
     ]
    },
    {
     "name": "stderr",
     "output_type": "stream",
     "text": [
      "INFO: HTTP Request: GET https://api.cloud.llamaindex.ai/api/parsing/job/7528a4e2-fb8f-48b1-8b52-d36e9f3e591c \"HTTP/1.1 200 OK\"\n",
      "INFO: HTTP Request: GET https://api.cloud.llamaindex.ai/api/parsing/job/7528a4e2-fb8f-48b1-8b52-d36e9f3e591c \"HTTP/1.1 200 OK\"\n",
      "INFO: HTTP Request: GET https://api.cloud.llamaindex.ai/api/parsing/job/7528a4e2-fb8f-48b1-8b52-d36e9f3e591c \"HTTP/1.1 200 OK\"\n",
      "INFO: HTTP Request: GET https://api.cloud.llamaindex.ai/api/parsing/job/7528a4e2-fb8f-48b1-8b52-d36e9f3e591c \"HTTP/1.1 200 OK\"\n",
      "INFO: HTTP Request: GET https://api.cloud.llamaindex.ai/api/parsing/job/7528a4e2-fb8f-48b1-8b52-d36e9f3e591c \"HTTP/1.1 200 OK\"\n",
      "INFO: HTTP Request: GET https://api.cloud.llamaindex.ai/api/parsing/job/7528a4e2-fb8f-48b1-8b52-d36e9f3e591c/result/markdown \"HTTP/1.1 200 OK\"\n"
     ]
    },
    {
     "name": "stdout",
     "output_type": "stream",
     "text": [
      "../data/out/md/184-Learning-Platform-Walkthrough.md saved.\n"
     ]
    },
    {
     "name": "stderr",
     "output_type": "stream",
     "text": [
      "INFO: HTTP Request: POST https://api.cloud.llamaindex.ai/api/parsing/upload \"HTTP/1.1 200 OK\"\n"
     ]
    },
    {
     "name": "stdout",
     "output_type": "stream",
     "text": [
      "Started parsing the file under job_id 55f6dfcc-07d1-46cc-a50a-a774a40e99a8\n"
     ]
    },
    {
     "name": "stderr",
     "output_type": "stream",
     "text": [
      "INFO: HTTP Request: GET https://api.cloud.llamaindex.ai/api/parsing/job/55f6dfcc-07d1-46cc-a50a-a774a40e99a8 \"HTTP/1.1 200 OK\"\n",
      "INFO: HTTP Request: GET https://api.cloud.llamaindex.ai/api/parsing/job/55f6dfcc-07d1-46cc-a50a-a774a40e99a8/result/markdown \"HTTP/1.1 200 OK\"\n"
     ]
    },
    {
     "name": "stdout",
     "output_type": "stream",
     "text": [
      "../data/out/md/185-Learning-Platform-Walkthroughpdf.md saved.\n"
     ]
    },
    {
     "name": "stderr",
     "output_type": "stream",
     "text": [
      "INFO: HTTP Request: POST https://api.cloud.llamaindex.ai/api/parsing/upload \"HTTP/1.1 200 OK\"\n"
     ]
    },
    {
     "name": "stdout",
     "output_type": "stream",
     "text": [
      "Started parsing the file under job_id 231fe2ad-0109-4109-b3c7-d081169a0839\n"
     ]
    },
    {
     "name": "stderr",
     "output_type": "stream",
     "text": [
      "INFO: HTTP Request: GET https://api.cloud.llamaindex.ai/api/parsing/job/231fe2ad-0109-4109-b3c7-d081169a0839 \"HTTP/1.1 200 OK\"\n",
      "INFO: HTTP Request: GET https://api.cloud.llamaindex.ai/api/parsing/job/231fe2ad-0109-4109-b3c7-d081169a0839/result/markdown \"HTTP/1.1 200 OK\"\n"
     ]
    },
    {
     "name": "stdout",
     "output_type": "stream",
     "text": [
      "../data/out/md/186-Locate-Learner-Informationpdf.md saved.\n"
     ]
    },
    {
     "name": "stderr",
     "output_type": "stream",
     "text": [
      "INFO: HTTP Request: POST https://api.cloud.llamaindex.ai/api/parsing/upload \"HTTP/1.1 200 OK\"\n"
     ]
    },
    {
     "name": "stdout",
     "output_type": "stream",
     "text": [
      "Started parsing the file under job_id fdc2de23-3dca-4ae9-b544-da40ea51f42c\n"
     ]
    },
    {
     "name": "stderr",
     "output_type": "stream",
     "text": [
      "INFO: HTTP Request: GET https://api.cloud.llamaindex.ai/api/parsing/job/fdc2de23-3dca-4ae9-b544-da40ea51f42c \"HTTP/1.1 200 OK\"\n",
      "INFO: HTTP Request: GET https://api.cloud.llamaindex.ai/api/parsing/job/fdc2de23-3dca-4ae9-b544-da40ea51f42c/result/markdown \"HTTP/1.1 200 OK\"\n"
     ]
    },
    {
     "name": "stdout",
     "output_type": "stream",
     "text": [
      "../data/out/md/187-Locate-a-Students-Enrollment-Recordpdf.md saved.\n"
     ]
    },
    {
     "name": "stderr",
     "output_type": "stream",
     "text": [
      "INFO: HTTP Request: POST https://api.cloud.llamaindex.ai/api/parsing/upload \"HTTP/1.1 200 OK\"\n"
     ]
    },
    {
     "name": "stdout",
     "output_type": "stream",
     "text": [
      "Started parsing the file under job_id d8cbd6d4-6b34-42af-af62-07facaa68939\n"
     ]
    },
    {
     "name": "stderr",
     "output_type": "stream",
     "text": [
      "INFO: HTTP Request: GET https://api.cloud.llamaindex.ai/api/parsing/job/d8cbd6d4-6b34-42af-af62-07facaa68939 \"HTTP/1.1 200 OK\"\n",
      "INFO: HTTP Request: GET https://api.cloud.llamaindex.ai/api/parsing/job/d8cbd6d4-6b34-42af-af62-07facaa68939/result/markdown \"HTTP/1.1 200 OK\"\n"
     ]
    },
    {
     "name": "stdout",
     "output_type": "stream",
     "text": [
      "../data/out/md/188-Log-in-to-the-Zoom-Websitepdf.md saved.\n"
     ]
    },
    {
     "name": "stderr",
     "output_type": "stream",
     "text": [
      "INFO: HTTP Request: POST https://api.cloud.llamaindex.ai/api/parsing/upload \"HTTP/1.1 200 OK\"\n"
     ]
    },
    {
     "name": "stdout",
     "output_type": "stream",
     "text": [
      "Started parsing the file under job_id 85dd4b7a-3f11-44c1-9c78-d25f0132cb8a\n"
     ]
    },
    {
     "name": "stderr",
     "output_type": "stream",
     "text": [
      "INFO: HTTP Request: GET https://api.cloud.llamaindex.ai/api/parsing/job/85dd4b7a-3f11-44c1-9c78-d25f0132cb8a \"HTTP/1.1 200 OK\"\n",
      "INFO: HTTP Request: GET https://api.cloud.llamaindex.ai/api/parsing/job/85dd4b7a-3f11-44c1-9c78-d25f0132cb8a \"HTTP/1.1 200 OK\"\n",
      "INFO: HTTP Request: GET https://api.cloud.llamaindex.ai/api/parsing/job/85dd4b7a-3f11-44c1-9c78-d25f0132cb8a \"HTTP/1.1 200 OK\"\n",
      "INFO: HTTP Request: GET https://api.cloud.llamaindex.ai/api/parsing/job/85dd4b7a-3f11-44c1-9c78-d25f0132cb8a/result/markdown \"HTTP/1.1 200 OK\"\n"
     ]
    },
    {
     "name": "stdout",
     "output_type": "stream",
     "text": [
      "../data/out/md/189-Logging-into-PATH-ECpdf.md saved.\n"
     ]
    },
    {
     "name": "stderr",
     "output_type": "stream",
     "text": [
      "INFO: HTTP Request: POST https://api.cloud.llamaindex.ai/api/parsing/upload \"HTTP/1.1 200 OK\"\n"
     ]
    },
    {
     "name": "stdout",
     "output_type": "stream",
     "text": [
      "Started parsing the file under job_id fb053cdf-f612-461e-b2d2-7a70099d1529\n"
     ]
    },
    {
     "name": "stderr",
     "output_type": "stream",
     "text": [
      "INFO: HTTP Request: GET https://api.cloud.llamaindex.ai/api/parsing/job/fb053cdf-f612-461e-b2d2-7a70099d1529 \"HTTP/1.1 200 OK\"\n",
      "INFO: HTTP Request: GET https://api.cloud.llamaindex.ai/api/parsing/job/fb053cdf-f612-461e-b2d2-7a70099d1529 \"HTTP/1.1 200 OK\"\n",
      "INFO: HTTP Request: GET https://api.cloud.llamaindex.ai/api/parsing/job/fb053cdf-f612-461e-b2d2-7a70099d1529 \"HTTP/1.1 200 OK\"\n",
      "INFO: HTTP Request: GET https://api.cloud.llamaindex.ai/api/parsing/job/fb053cdf-f612-461e-b2d2-7a70099d1529 \"HTTP/1.1 200 OK\"\n",
      "INFO: HTTP Request: GET https://api.cloud.llamaindex.ai/api/parsing/job/fb053cdf-f612-461e-b2d2-7a70099d1529 \"HTTP/1.1 200 OK\"\n",
      "INFO: HTTP Request: GET https://api.cloud.llamaindex.ai/api/parsing/job/fb053cdf-f612-461e-b2d2-7a70099d1529/result/markdown \"HTTP/1.1 200 OK\"\n"
     ]
    },
    {
     "name": "stdout",
     "output_type": "stream",
     "text": [
      "../data/out/md/19-Assigning-Missionaries-to-a-Grouppdf.md saved.\n"
     ]
    },
    {
     "name": "stderr",
     "output_type": "stream",
     "text": [
      "INFO: HTTP Request: POST https://api.cloud.llamaindex.ai/api/parsing/upload \"HTTP/1.1 200 OK\"\n"
     ]
    },
    {
     "name": "stdout",
     "output_type": "stream",
     "text": [
      "Started parsing the file under job_id 02b9a5a0-e2c4-42b7-b2e2-096d852e530f\n"
     ]
    },
    {
     "name": "stderr",
     "output_type": "stream",
     "text": [
      "INFO: HTTP Request: GET https://api.cloud.llamaindex.ai/api/parsing/job/02b9a5a0-e2c4-42b7-b2e2-096d852e530f \"HTTP/1.1 200 OK\"\n",
      "INFO: HTTP Request: GET https://api.cloud.llamaindex.ai/api/parsing/job/02b9a5a0-e2c4-42b7-b2e2-096d852e530f/result/markdown \"HTTP/1.1 200 OK\"\n"
     ]
    },
    {
     "name": "stdout",
     "output_type": "stream",
     "text": [
      "../data/out/md/190-Looking-Out-For-The-Hidden-Crisispdf.md saved.\n"
     ]
    },
    {
     "name": "stderr",
     "output_type": "stream",
     "text": [
      "INFO: HTTP Request: POST https://api.cloud.llamaindex.ai/api/parsing/upload \"HTTP/1.1 200 OK\"\n"
     ]
    },
    {
     "name": "stdout",
     "output_type": "stream",
     "text": [
      "Started parsing the file under job_id 5d4ab33e-31af-49c9-b029-0b4b33452b1b\n"
     ]
    },
    {
     "name": "stderr",
     "output_type": "stream",
     "text": [
      "INFO: HTTP Request: GET https://api.cloud.llamaindex.ai/api/parsing/job/5d4ab33e-31af-49c9-b029-0b4b33452b1b \"HTTP/1.1 200 OK\"\n",
      "INFO: HTTP Request: GET https://api.cloud.llamaindex.ai/api/parsing/job/5d4ab33e-31af-49c9-b029-0b4b33452b1b \"HTTP/1.1 200 OK\"\n",
      "INFO: HTTP Request: GET https://api.cloud.llamaindex.ai/api/parsing/job/5d4ab33e-31af-49c9-b029-0b4b33452b1b \"HTTP/1.1 200 OK\"\n",
      "INFO: HTTP Request: GET https://api.cloud.llamaindex.ai/api/parsing/job/5d4ab33e-31af-49c9-b029-0b4b33452b1b \"HTTP/1.1 200 OK\"\n",
      "INFO: HTTP Request: GET https://api.cloud.llamaindex.ai/api/parsing/job/5d4ab33e-31af-49c9-b029-0b4b33452b1b/result/markdown \"HTTP/1.1 200 OK\"\n"
     ]
    },
    {
     "name": "stdout",
     "output_type": "stream",
     "text": [
      "../data/out/md/191-Mac-Zoom-Installationpdf.md saved.\n"
     ]
    },
    {
     "name": "stderr",
     "output_type": "stream",
     "text": [
      "INFO: HTTP Request: POST https://api.cloud.llamaindex.ai/api/parsing/upload \"HTTP/1.1 200 OK\"\n"
     ]
    },
    {
     "name": "stdout",
     "output_type": "stream",
     "text": [
      "Started parsing the file under job_id bc2ab0c4-5d4b-49f6-ac56-c791ef4eaf35\n"
     ]
    },
    {
     "name": "stderr",
     "output_type": "stream",
     "text": [
      "INFO: HTTP Request: GET https://api.cloud.llamaindex.ai/api/parsing/job/bc2ab0c4-5d4b-49f6-ac56-c791ef4eaf35 \"HTTP/1.1 200 OK\"\n",
      "INFO: HTTP Request: GET https://api.cloud.llamaindex.ai/api/parsing/job/bc2ab0c4-5d4b-49f6-ac56-c791ef4eaf35/result/markdown \"HTTP/1.1 200 OK\"\n"
     ]
    },
    {
     "name": "stdout",
     "output_type": "stream",
     "text": [
      "../data/out/md/191-Mac-Zoom-Installationpdf.md saved.\n"
     ]
    },
    {
     "name": "stderr",
     "output_type": "stream",
     "text": [
      "INFO: HTTP Request: POST https://api.cloud.llamaindex.ai/api/parsing/upload \"HTTP/1.1 200 OK\"\n"
     ]
    },
    {
     "name": "stdout",
     "output_type": "stream",
     "text": [
      "Started parsing the file under job_id 0a53232c-832d-4f11-b9e9-0b0fd2e9d7b0\n"
     ]
    },
    {
     "name": "stderr",
     "output_type": "stream",
     "text": [
      "INFO: HTTP Request: GET https://api.cloud.llamaindex.ai/api/parsing/job/0a53232c-832d-4f11-b9e9-0b0fd2e9d7b0 \"HTTP/1.1 200 OK\"\n",
      "INFO: HTTP Request: GET https://api.cloud.llamaindex.ai/api/parsing/job/0a53232c-832d-4f11-b9e9-0b0fd2e9d7b0/result/markdown \"HTTP/1.1 200 OK\"\n"
     ]
    },
    {
     "name": "stdout",
     "output_type": "stream",
     "text": [
      "../data/out/md/192-Merge-Your-Zoom-Accountpdf.md saved.\n"
     ]
    },
    {
     "name": "stderr",
     "output_type": "stream",
     "text": [
      "INFO: HTTP Request: POST https://api.cloud.llamaindex.ai/api/parsing/upload \"HTTP/1.1 200 OK\"\n"
     ]
    },
    {
     "name": "stdout",
     "output_type": "stream",
     "text": [
      "Started parsing the file under job_id d1cfca24-c097-4aa9-b7df-0ae9a1e0a8b9\n"
     ]
    },
    {
     "name": "stderr",
     "output_type": "stream",
     "text": [
      "INFO: HTTP Request: GET https://api.cloud.llamaindex.ai/api/parsing/job/d1cfca24-c097-4aa9-b7df-0ae9a1e0a8b9 \"HTTP/1.1 200 OK\"\n",
      "INFO: HTTP Request: GET https://api.cloud.llamaindex.ai/api/parsing/job/d1cfca24-c097-4aa9-b7df-0ae9a1e0a8b9 \"HTTP/1.1 200 OK\"\n",
      "INFO: HTTP Request: GET https://api.cloud.llamaindex.ai/api/parsing/job/d1cfca24-c097-4aa9-b7df-0ae9a1e0a8b9 \"HTTP/1.1 200 OK\"\n",
      "INFO: HTTP Request: GET https://api.cloud.llamaindex.ai/api/parsing/job/d1cfca24-c097-4aa9-b7df-0ae9a1e0a8b9 \"HTTP/1.1 200 OK\"\n",
      "INFO: HTTP Request: GET https://api.cloud.llamaindex.ai/api/parsing/job/d1cfca24-c097-4aa9-b7df-0ae9a1e0a8b9 \"HTTP/1.1 200 OK\"\n",
      "INFO: HTTP Request: GET https://api.cloud.llamaindex.ai/api/parsing/job/d1cfca24-c097-4aa9-b7df-0ae9a1e0a8b9/result/markdown \"HTTP/1.1 200 OK\"\n"
     ]
    },
    {
     "name": "stdout",
     "output_type": "stream",
     "text": [
      "../data/out/md/193-Ministering-Through-Educationpdf.md saved.\n"
     ]
    },
    {
     "name": "stderr",
     "output_type": "stream",
     "text": [
      "INFO: HTTP Request: POST https://api.cloud.llamaindex.ai/api/parsing/upload \"HTTP/1.1 200 OK\"\n"
     ]
    },
    {
     "name": "stdout",
     "output_type": "stream",
     "text": [
      "Started parsing the file under job_id 112f63d0-da56-479d-9bb5-3cfc0ac4ea46\n"
     ]
    },
    {
     "name": "stderr",
     "output_type": "stream",
     "text": [
      "INFO: HTTP Request: GET https://api.cloud.llamaindex.ai/api/parsing/job/112f63d0-da56-479d-9bb5-3cfc0ac4ea46 \"HTTP/1.1 200 OK\"\n",
      "INFO: HTTP Request: GET https://api.cloud.llamaindex.ai/api/parsing/job/112f63d0-da56-479d-9bb5-3cfc0ac4ea46 \"HTTP/1.1 200 OK\"\n",
      "INFO: HTTP Request: GET https://api.cloud.llamaindex.ai/api/parsing/job/112f63d0-da56-479d-9bb5-3cfc0ac4ea46 \"HTTP/1.1 200 OK\"\n",
      "INFO: HTTP Request: GET https://api.cloud.llamaindex.ai/api/parsing/job/112f63d0-da56-479d-9bb5-3cfc0ac4ea46/result/markdown \"HTTP/1.1 200 OK\"\n"
     ]
    },
    {
     "name": "stdout",
     "output_type": "stream",
     "text": [
      "../data/out/md/194-Mission-Statementpdf.md saved.\n"
     ]
    },
    {
     "name": "stderr",
     "output_type": "stream",
     "text": [
      "INFO: HTTP Request: POST https://api.cloud.llamaindex.ai/api/parsing/upload \"HTTP/1.1 200 OK\"\n"
     ]
    },
    {
     "name": "stdout",
     "output_type": "stream",
     "text": [
      "Started parsing the file under job_id aaa774b6-231a-4a52-9201-b3beea6fbbc8\n"
     ]
    },
    {
     "name": "stderr",
     "output_type": "stream",
     "text": [
      "INFO: HTTP Request: GET https://api.cloud.llamaindex.ai/api/parsing/job/aaa774b6-231a-4a52-9201-b3beea6fbbc8 \"HTTP/1.1 200 OK\"\n",
      "INFO: HTTP Request: GET https://api.cloud.llamaindex.ai/api/parsing/job/aaa774b6-231a-4a52-9201-b3beea6fbbc8 \"HTTP/1.1 200 OK\"\n",
      "INFO: HTTP Request: GET https://api.cloud.llamaindex.ai/api/parsing/job/aaa774b6-231a-4a52-9201-b3beea6fbbc8 \"HTTP/1.1 200 OK\"\n",
      "INFO: HTTP Request: GET https://api.cloud.llamaindex.ai/api/parsing/job/aaa774b6-231a-4a52-9201-b3beea6fbbc8 \"HTTP/1.1 200 OK\"\n",
      "INFO: HTTP Request: GET https://api.cloud.llamaindex.ai/api/parsing/job/aaa774b6-231a-4a52-9201-b3beea6fbbc8 \"HTTP/1.1 200 OK\"\n",
      "INFO: HTTP Request: GET https://api.cloud.llamaindex.ai/api/parsing/job/aaa774b6-231a-4a52-9201-b3beea6fbbc8 \"HTTP/1.1 200 OK\"\n",
      "INFO: HTTP Request: GET https://api.cloud.llamaindex.ai/api/parsing/job/aaa774b6-231a-4a52-9201-b3beea6fbbc8 \"HTTP/1.1 200 OK\"\n",
      "INFO: HTTP Request: GET https://api.cloud.llamaindex.ai/api/parsing/job/aaa774b6-231a-4a52-9201-b3beea6fbbc8/result/markdown \"HTTP/1.1 200 OK\"\n"
     ]
    },
    {
     "name": "stdout",
     "output_type": "stream",
     "text": [
      "../data/out/md/195-Missionary-Student-in-Crisis-Escalation-Policypdf.md saved.\n"
     ]
    },
    {
     "name": "stderr",
     "output_type": "stream",
     "text": [
      "INFO: HTTP Request: POST https://api.cloud.llamaindex.ai/api/parsing/upload \"HTTP/1.1 200 OK\"\n"
     ]
    },
    {
     "name": "stdout",
     "output_type": "stream",
     "text": [
      "Started parsing the file under job_id 65c4f043-e174-4c76-8b65-a622beafe6c1\n"
     ]
    },
    {
     "name": "stderr",
     "output_type": "stream",
     "text": [
      "INFO: HTTP Request: GET https://api.cloud.llamaindex.ai/api/parsing/job/65c4f043-e174-4c76-8b65-a622beafe6c1 \"HTTP/1.1 200 OK\"\n",
      "INFO: HTTP Request: GET https://api.cloud.llamaindex.ai/api/parsing/job/65c4f043-e174-4c76-8b65-a622beafe6c1 \"HTTP/1.1 200 OK\"\n",
      "INFO: HTTP Request: GET https://api.cloud.llamaindex.ai/api/parsing/job/65c4f043-e174-4c76-8b65-a622beafe6c1 \"HTTP/1.1 200 OK\"\n",
      "INFO: HTTP Request: GET https://api.cloud.llamaindex.ai/api/parsing/job/65c4f043-e174-4c76-8b65-a622beafe6c1/result/markdown \"HTTP/1.1 200 OK\"\n"
     ]
    },
    {
     "name": "stdout",
     "output_type": "stream",
     "text": [
      "../data/out/md/196-Modify-a-Student-Name-for-a-Completion-Certificatepdf.md saved.\n"
     ]
    },
    {
     "name": "stderr",
     "output_type": "stream",
     "text": [
      "INFO: HTTP Request: POST https://api.cloud.llamaindex.ai/api/parsing/upload \"HTTP/1.1 200 OK\"\n"
     ]
    },
    {
     "name": "stdout",
     "output_type": "stream",
     "text": [
      "Started parsing the file under job_id 1e62866a-ac27-45e6-9fc3-a1e89c00536c\n"
     ]
    },
    {
     "name": "stderr",
     "output_type": "stream",
     "text": [
      "INFO: HTTP Request: GET https://api.cloud.llamaindex.ai/api/parsing/job/1e62866a-ac27-45e6-9fc3-a1e89c00536c \"HTTP/1.1 200 OK\"\n",
      "INFO: HTTP Request: GET https://api.cloud.llamaindex.ai/api/parsing/job/1e62866a-ac27-45e6-9fc3-a1e89c00536c/result/markdown \"HTTP/1.1 200 OK\"\n"
     ]
    },
    {
     "name": "stdout",
     "output_type": "stream",
     "text": [
      "../data/out/md/197-Monitor-HJG-Applicationspdf.md saved.\n"
     ]
    },
    {
     "name": "stderr",
     "output_type": "stream",
     "text": [
      "INFO: HTTP Request: POST https://api.cloud.llamaindex.ai/api/parsing/upload \"HTTP/1.1 200 OK\"\n"
     ]
    },
    {
     "name": "stdout",
     "output_type": "stream",
     "text": [
      "Started parsing the file under job_id bd8e0400-bf4a-4b37-ad34-25291975d085\n"
     ]
    },
    {
     "name": "stderr",
     "output_type": "stream",
     "text": [
      "INFO: HTTP Request: GET https://api.cloud.llamaindex.ai/api/parsing/job/bd8e0400-bf4a-4b37-ad34-25291975d085 \"HTTP/1.1 200 OK\"\n",
      "INFO: HTTP Request: GET https://api.cloud.llamaindex.ai/api/parsing/job/bd8e0400-bf4a-4b37-ad34-25291975d085 \"HTTP/1.1 200 OK\"\n",
      "INFO: HTTP Request: GET https://api.cloud.llamaindex.ai/api/parsing/job/bd8e0400-bf4a-4b37-ad34-25291975d085 \"HTTP/1.1 200 OK\"\n",
      "INFO: HTTP Request: GET https://api.cloud.llamaindex.ai/api/parsing/job/bd8e0400-bf4a-4b37-ad34-25291975d085 \"HTTP/1.1 200 OK\"\n",
      "INFO: HTTP Request: GET https://api.cloud.llamaindex.ai/api/parsing/job/bd8e0400-bf4a-4b37-ad34-25291975d085 \"HTTP/1.1 200 OK\"\n",
      "INFO: HTTP Request: GET https://api.cloud.llamaindex.ai/api/parsing/job/bd8e0400-bf4a-4b37-ad34-25291975d085 \"HTTP/1.1 200 OK\"\n",
      "INFO: HTTP Request: GET https://api.cloud.llamaindex.ai/api/parsing/job/bd8e0400-bf4a-4b37-ad34-25291975d085/result/markdown \"HTTP/1.1 200 OK\"\n"
     ]
    },
    {
     "name": "stdout",
     "output_type": "stream",
     "text": [
      "../data/out/md/198-Monitor-Missionary-End-Dates-in-Power-BIpdf.md saved.\n"
     ]
    },
    {
     "name": "stderr",
     "output_type": "stream",
     "text": [
      "INFO: HTTP Request: POST https://api.cloud.llamaindex.ai/api/parsing/upload \"HTTP/1.1 200 OK\"\n"
     ]
    },
    {
     "name": "stdout",
     "output_type": "stream",
     "text": [
      "Started parsing the file under job_id 29db9e5e-6eeb-43f7-858a-7490d946c45f\n"
     ]
    },
    {
     "name": "stderr",
     "output_type": "stream",
     "text": [
      "INFO: HTTP Request: GET https://api.cloud.llamaindex.ai/api/parsing/job/29db9e5e-6eeb-43f7-858a-7490d946c45f \"HTTP/1.1 200 OK\"\n",
      "INFO: HTTP Request: GET https://api.cloud.llamaindex.ai/api/parsing/job/29db9e5e-6eeb-43f7-858a-7490d946c45f \"HTTP/1.1 200 OK\"\n",
      "INFO: HTTP Request: GET https://api.cloud.llamaindex.ai/api/parsing/job/29db9e5e-6eeb-43f7-858a-7490d946c45f \"HTTP/1.1 200 OK\"\n",
      "INFO: HTTP Request: GET https://api.cloud.llamaindex.ai/api/parsing/job/29db9e5e-6eeb-43f7-858a-7490d946c45f \"HTTP/1.1 200 OK\"\n",
      "INFO: HTTP Request: GET https://api.cloud.llamaindex.ai/api/parsing/job/29db9e5e-6eeb-43f7-858a-7490d946c45f \"HTTP/1.1 200 OK\"\n",
      "INFO: HTTP Request: GET https://api.cloud.llamaindex.ai/api/parsing/job/29db9e5e-6eeb-43f7-858a-7490d946c45f \"HTTP/1.1 200 OK\"\n",
      "INFO: HTTP Request: GET https://api.cloud.llamaindex.ai/api/parsing/job/29db9e5e-6eeb-43f7-858a-7490d946c45f/result/markdown \"HTTP/1.1 200 OK\"\n"
     ]
    },
    {
     "name": "stdout",
     "output_type": "stream",
     "text": [
      "../data/out/md/199-Monitoring-Missionary-End-Dates-in-PATHpdf.md saved.\n"
     ]
    },
    {
     "name": "stderr",
     "output_type": "stream",
     "text": [
      "INFO: HTTP Request: POST https://api.cloud.llamaindex.ai/api/parsing/upload \"HTTP/1.1 200 OK\"\n"
     ]
    },
    {
     "name": "stdout",
     "output_type": "stream",
     "text": [
      "Started parsing the file under job_id 12f6c313-90ae-43f0-894d-6ade892e04a5\n"
     ]
    },
    {
     "name": "stderr",
     "output_type": "stream",
     "text": [
      "INFO: HTTP Request: GET https://api.cloud.llamaindex.ai/api/parsing/job/12f6c313-90ae-43f0-894d-6ade892e04a5 \"HTTP/1.1 200 OK\"\n",
      "INFO: HTTP Request: GET https://api.cloud.llamaindex.ai/api/parsing/job/12f6c313-90ae-43f0-894d-6ade892e04a5 \"HTTP/1.1 200 OK\"\n",
      "INFO: HTTP Request: GET https://api.cloud.llamaindex.ai/api/parsing/job/12f6c313-90ae-43f0-894d-6ade892e04a5 \"HTTP/1.1 200 OK\"\n",
      "INFO: HTTP Request: GET https://api.cloud.llamaindex.ai/api/parsing/job/12f6c313-90ae-43f0-894d-6ade892e04a5 \"HTTP/1.1 200 OK\"\n",
      "INFO: HTTP Request: GET https://api.cloud.llamaindex.ai/api/parsing/job/12f6c313-90ae-43f0-894d-6ade892e04a5 \"HTTP/1.1 200 OK\"\n",
      "INFO: HTTP Request: GET https://api.cloud.llamaindex.ai/api/parsing/job/12f6c313-90ae-43f0-894d-6ade892e04a5 \"HTTP/1.1 200 OK\"\n",
      "INFO: HTTP Request: GET https://api.cloud.llamaindex.ai/api/parsing/job/12f6c313-90ae-43f0-894d-6ade892e04a5/result/markdown \"HTTP/1.1 200 OK\"\n"
     ]
    },
    {
     "name": "stdout",
     "output_type": "stream",
     "text": [
      "../data/out/md/2-ACM-Vetting-Recommendation-Instructionspdf.md saved.\n"
     ]
    },
    {
     "name": "stderr",
     "output_type": "stream",
     "text": [
      "INFO: HTTP Request: POST https://api.cloud.llamaindex.ai/api/parsing/upload \"HTTP/1.1 200 OK\"\n"
     ]
    },
    {
     "name": "stdout",
     "output_type": "stream",
     "text": [
      "Started parsing the file under job_id 53b3928a-cb5b-46da-b43d-a216e41d4c92\n"
     ]
    },
    {
     "name": "stderr",
     "output_type": "stream",
     "text": [
      "INFO: HTTP Request: GET https://api.cloud.llamaindex.ai/api/parsing/job/53b3928a-cb5b-46da-b43d-a216e41d4c92 \"HTTP/1.1 200 OK\"\n",
      "INFO: HTTP Request: GET https://api.cloud.llamaindex.ai/api/parsing/job/53b3928a-cb5b-46da-b43d-a216e41d4c92/result/markdown \"HTTP/1.1 200 OK\"\n"
     ]
    },
    {
     "name": "stdout",
     "output_type": "stream",
     "text": [
      "../data/out/md/20-Assigning-Students-from-the-Unassigned-Listpdf.md saved.\n"
     ]
    },
    {
     "name": "stderr",
     "output_type": "stream",
     "text": [
      "INFO: HTTP Request: POST https://api.cloud.llamaindex.ai/api/parsing/upload \"HTTP/1.1 200 OK\"\n"
     ]
    },
    {
     "name": "stdout",
     "output_type": "stream",
     "text": [
      "Started parsing the file under job_id 6a2c3195-de6d-4f4d-b3ce-6a8ddbfb0c39\n"
     ]
    },
    {
     "name": "stderr",
     "output_type": "stream",
     "text": [
      "INFO: HTTP Request: GET https://api.cloud.llamaindex.ai/api/parsing/job/6a2c3195-de6d-4f4d-b3ce-6a8ddbfb0c39 \"HTTP/1.1 200 OK\"\n",
      "INFO: HTTP Request: GET https://api.cloud.llamaindex.ai/api/parsing/job/6a2c3195-de6d-4f4d-b3ce-6a8ddbfb0c39 \"HTTP/1.1 200 OK\"\n",
      "INFO: HTTP Request: GET https://api.cloud.llamaindex.ai/api/parsing/job/6a2c3195-de6d-4f4d-b3ce-6a8ddbfb0c39 \"HTTP/1.1 200 OK\"\n",
      "INFO: HTTP Request: GET https://api.cloud.llamaindex.ai/api/parsing/job/6a2c3195-de6d-4f4d-b3ce-6a8ddbfb0c39 \"HTTP/1.1 200 OK\"\n",
      "INFO: HTTP Request: GET https://api.cloud.llamaindex.ai/api/parsing/job/6a2c3195-de6d-4f4d-b3ce-6a8ddbfb0c39/result/markdown \"HTTP/1.1 200 OK\"\n"
     ]
    },
    {
     "name": "stdout",
     "output_type": "stream",
     "text": [
      "../data/out/md/200-Monitoring-Student-Progresspdf.md saved.\n"
     ]
    },
    {
     "name": "stderr",
     "output_type": "stream",
     "text": [
      "INFO: HTTP Request: POST https://api.cloud.llamaindex.ai/api/parsing/upload \"HTTP/1.1 200 OK\"\n"
     ]
    },
    {
     "name": "stdout",
     "output_type": "stream",
     "text": [
      "Started parsing the file under job_id 76cbf293-a534-4632-a1ba-3ac27ac9116c\n"
     ]
    },
    {
     "name": "stderr",
     "output_type": "stream",
     "text": [
      "INFO: HTTP Request: GET https://api.cloud.llamaindex.ai/api/parsing/job/76cbf293-a534-4632-a1ba-3ac27ac9116c \"HTTP/1.1 200 OK\"\n",
      "INFO: HTTP Request: GET https://api.cloud.llamaindex.ai/api/parsing/job/76cbf293-a534-4632-a1ba-3ac27ac9116c \"HTTP/1.1 200 OK\"\n",
      "INFO: HTTP Request: GET https://api.cloud.llamaindex.ai/api/parsing/job/76cbf293-a534-4632-a1ba-3ac27ac9116c \"HTTP/1.1 200 OK\"\n",
      "INFO: HTTP Request: GET https://api.cloud.llamaindex.ai/api/parsing/job/76cbf293-a534-4632-a1ba-3ac27ac9116c \"HTTP/1.1 200 OK\"\n",
      "INFO: HTTP Request: GET https://api.cloud.llamaindex.ai/api/parsing/job/76cbf293-a534-4632-a1ba-3ac27ac9116c \"HTTP/1.1 200 OK\"\n",
      "INFO: HTTP Request: GET https://api.cloud.llamaindex.ai/api/parsing/job/76cbf293-a534-4632-a1ba-3ac27ac9116c/result/markdown \"HTTP/1.1 200 OK\"\n"
     ]
    },
    {
     "name": "stdout",
     "output_type": "stream",
     "text": [
      "../data/out/md/201-Moving-a-Missionary-to-a-New-Locationpdf.md saved.\n"
     ]
    },
    {
     "name": "stderr",
     "output_type": "stream",
     "text": [
      "INFO: HTTP Request: POST https://api.cloud.llamaindex.ai/api/parsing/upload \"HTTP/1.1 200 OK\"\n"
     ]
    },
    {
     "name": "stdout",
     "output_type": "stream",
     "text": [
      "Started parsing the file under job_id 9916ca5e-aca2-4219-a17d-5e602da008b2\n"
     ]
    },
    {
     "name": "stderr",
     "output_type": "stream",
     "text": [
      "INFO: HTTP Request: GET https://api.cloud.llamaindex.ai/api/parsing/job/9916ca5e-aca2-4219-a17d-5e602da008b2 \"HTTP/1.1 200 OK\"\n",
      "INFO: HTTP Request: GET https://api.cloud.llamaindex.ai/api/parsing/job/9916ca5e-aca2-4219-a17d-5e602da008b2/result/markdown \"HTTP/1.1 200 OK\"\n"
     ]
    },
    {
     "name": "stdout",
     "output_type": "stream",
     "text": [
      "../data/out/md/201-Moving-a-Missionary-to-a-New-Locationpdf.md saved.\n"
     ]
    },
    {
     "name": "stderr",
     "output_type": "stream",
     "text": [
      "INFO: HTTP Request: POST https://api.cloud.llamaindex.ai/api/parsing/upload \"HTTP/1.1 200 OK\"\n"
     ]
    },
    {
     "name": "stdout",
     "output_type": "stream",
     "text": [
      "Started parsing the file under job_id 15574e70-1352-4fd0-b275-07dec6c7f334\n"
     ]
    },
    {
     "name": "stderr",
     "output_type": "stream",
     "text": [
      "INFO: HTTP Request: GET https://api.cloud.llamaindex.ai/api/parsing/job/15574e70-1352-4fd0-b275-07dec6c7f334 \"HTTP/1.1 200 OK\"\n",
      "INFO: HTTP Request: GET https://api.cloud.llamaindex.ai/api/parsing/job/15574e70-1352-4fd0-b275-07dec6c7f334 \"HTTP/1.1 200 OK\"\n",
      "INFO: HTTP Request: GET https://api.cloud.llamaindex.ai/api/parsing/job/15574e70-1352-4fd0-b275-07dec6c7f334 \"HTTP/1.1 200 OK\"\n",
      "INFO: HTTP Request: GET https://api.cloud.llamaindex.ai/api/parsing/job/15574e70-1352-4fd0-b275-07dec6c7f334 \"HTTP/1.1 200 OK\"\n",
      "INFO: HTTP Request: GET https://api.cloud.llamaindex.ai/api/parsing/job/15574e70-1352-4fd0-b275-07dec6c7f334 \"HTTP/1.1 200 OK\"\n",
      "INFO: HTTP Request: GET https://api.cloud.llamaindex.ai/api/parsing/job/15574e70-1352-4fd0-b275-07dec6c7f334 \"HTTP/1.1 200 OK\"\n",
      "INFO: HTTP Request: GET https://api.cloud.llamaindex.ai/api/parsing/job/15574e70-1352-4fd0-b275-07dec6c7f334/result/markdown \"HTTP/1.1 200 OK\"\n"
     ]
    },
    {
     "name": "stdout",
     "output_type": "stream",
     "text": [
      "../data/out/md/202-Navigate-the-Missionary-Services-Website-on-Desktoppdf.md saved.\n"
     ]
    },
    {
     "name": "stderr",
     "output_type": "stream",
     "text": [
      "INFO: HTTP Request: POST https://api.cloud.llamaindex.ai/api/parsing/upload \"HTTP/1.1 200 OK\"\n"
     ]
    },
    {
     "name": "stdout",
     "output_type": "stream",
     "text": [
      "Started parsing the file under job_id 07bdaacc-d707-47bb-b8a2-274efc670645\n"
     ]
    },
    {
     "name": "stderr",
     "output_type": "stream",
     "text": [
      "INFO: HTTP Request: GET https://api.cloud.llamaindex.ai/api/parsing/job/07bdaacc-d707-47bb-b8a2-274efc670645 \"HTTP/1.1 200 OK\"\n",
      "INFO: HTTP Request: GET https://api.cloud.llamaindex.ai/api/parsing/job/07bdaacc-d707-47bb-b8a2-274efc670645/result/markdown \"HTTP/1.1 200 OK\"\n"
     ]
    },
    {
     "name": "stdout",
     "output_type": "stream",
     "text": [
      "../data/out/md/202-Navigate-the-Missionary-Services-Website-on-Desktoppdf.md saved.\n"
     ]
    },
    {
     "name": "stderr",
     "output_type": "stream",
     "text": [
      "INFO: HTTP Request: POST https://api.cloud.llamaindex.ai/api/parsing/upload \"HTTP/1.1 200 OK\"\n"
     ]
    },
    {
     "name": "stdout",
     "output_type": "stream",
     "text": [
      "Started parsing the file under job_id 48c26608-902b-4206-8e08-6ef145bc38a5\n"
     ]
    },
    {
     "name": "stderr",
     "output_type": "stream",
     "text": [
      "INFO: HTTP Request: GET https://api.cloud.llamaindex.ai/api/parsing/job/48c26608-902b-4206-8e08-6ef145bc38a5 \"HTTP/1.1 200 OK\"\n",
      "INFO: HTTP Request: GET https://api.cloud.llamaindex.ai/api/parsing/job/48c26608-902b-4206-8e08-6ef145bc38a5 \"HTTP/1.1 200 OK\"\n",
      "INFO: HTTP Request: GET https://api.cloud.llamaindex.ai/api/parsing/job/48c26608-902b-4206-8e08-6ef145bc38a5 \"HTTP/1.1 200 OK\"\n",
      "INFO: HTTP Request: GET https://api.cloud.llamaindex.ai/api/parsing/job/48c26608-902b-4206-8e08-6ef145bc38a5 \"HTTP/1.1 200 OK\"\n",
      "INFO: HTTP Request: GET https://api.cloud.llamaindex.ai/api/parsing/job/48c26608-902b-4206-8e08-6ef145bc38a5 \"HTTP/1.1 200 OK\"\n",
      "INFO: HTTP Request: GET https://api.cloud.llamaindex.ai/api/parsing/job/48c26608-902b-4206-8e08-6ef145bc38a5/result/markdown \"HTTP/1.1 200 OK\"\n"
     ]
    },
    {
     "name": "stdout",
     "output_type": "stream",
     "text": [
      "../data/out/md/203-Navigate-the-Missionary-Services-Website-on-Mobilepdf.md saved.\n"
     ]
    },
    {
     "name": "stderr",
     "output_type": "stream",
     "text": [
      "INFO: HTTP Request: POST https://api.cloud.llamaindex.ai/api/parsing/upload \"HTTP/1.1 200 OK\"\n"
     ]
    },
    {
     "name": "stdout",
     "output_type": "stream",
     "text": [
      "Started parsing the file under job_id 12fa707d-1056-4545-95bd-7bf58db76af9\n"
     ]
    },
    {
     "name": "stderr",
     "output_type": "stream",
     "text": [
      "INFO: HTTP Request: GET https://api.cloud.llamaindex.ai/api/parsing/job/12fa707d-1056-4545-95bd-7bf58db76af9 \"HTTP/1.1 200 OK\"\n",
      "INFO: HTTP Request: GET https://api.cloud.llamaindex.ai/api/parsing/job/12fa707d-1056-4545-95bd-7bf58db76af9 \"HTTP/1.1 200 OK\"\n",
      "INFO: HTTP Request: GET https://api.cloud.llamaindex.ai/api/parsing/job/12fa707d-1056-4545-95bd-7bf58db76af9 \"HTTP/1.1 200 OK\"\n",
      "INFO: HTTP Request: GET https://api.cloud.llamaindex.ai/api/parsing/job/12fa707d-1056-4545-95bd-7bf58db76af9 \"HTTP/1.1 200 OK\"\n",
      "INFO: HTTP Request: GET https://api.cloud.llamaindex.ai/api/parsing/job/12fa707d-1056-4545-95bd-7bf58db76af9 \"HTTP/1.1 200 OK\"\n",
      "INFO: HTTP Request: GET https://api.cloud.llamaindex.ai/api/parsing/job/12fa707d-1056-4545-95bd-7bf58db76af9 \"HTTP/1.1 200 OK\"\n",
      "INFO: HTTP Request: GET https://api.cloud.llamaindex.ai/api/parsing/job/12fa707d-1056-4545-95bd-7bf58db76af9 \"HTTP/1.1 200 OK\"\n",
      "INFO: HTTP Request: GET https://api.cloud.llamaindex.ai/api/parsing/job/12fa707d-1056-4545-95bd-7bf58db76af9/result/markdown \"HTTP/1.1 200 OK\"\n"
     ]
    },
    {
     "name": "stdout",
     "output_type": "stream",
     "text": [
      "../data/out/md/204-Navigating-the-Student-Portalpdf.md saved.\n"
     ]
    },
    {
     "name": "stderr",
     "output_type": "stream",
     "text": [
      "INFO: HTTP Request: POST https://api.cloud.llamaindex.ai/api/parsing/upload \"HTTP/1.1 200 OK\"\n"
     ]
    },
    {
     "name": "stdout",
     "output_type": "stream",
     "text": [
      "Started parsing the file under job_id dd2c8624-7f49-441e-855f-e9d198fcfd15\n"
     ]
    },
    {
     "name": "stderr",
     "output_type": "stream",
     "text": [
      "INFO: HTTP Request: GET https://api.cloud.llamaindex.ai/api/parsing/job/dd2c8624-7f49-441e-855f-e9d198fcfd15 \"HTTP/1.1 200 OK\"\n",
      "INFO: HTTP Request: GET https://api.cloud.llamaindex.ai/api/parsing/job/dd2c8624-7f49-441e-855f-e9d198fcfd15 \"HTTP/1.1 200 OK\"\n",
      "INFO: HTTP Request: GET https://api.cloud.llamaindex.ai/api/parsing/job/dd2c8624-7f49-441e-855f-e9d198fcfd15 \"HTTP/1.1 200 OK\"\n",
      "INFO: HTTP Request: GET https://api.cloud.llamaindex.ai/api/parsing/job/dd2c8624-7f49-441e-855f-e9d198fcfd15 \"HTTP/1.1 200 OK\"\n",
      "INFO: HTTP Request: GET https://api.cloud.llamaindex.ai/api/parsing/job/dd2c8624-7f49-441e-855f-e9d198fcfd15 \"HTTP/1.1 200 OK\"\n",
      "INFO: HTTP Request: GET https://api.cloud.llamaindex.ai/api/parsing/job/dd2c8624-7f49-441e-855f-e9d198fcfd15/result/markdown \"HTTP/1.1 200 OK\"\n"
     ]
    },
    {
     "name": "stdout",
     "output_type": "stream",
     "text": [
      "../data/out/md/205-New-Learner-Visitpdf.md saved.\n"
     ]
    },
    {
     "name": "stderr",
     "output_type": "stream",
     "text": [
      "INFO: HTTP Request: POST https://api.cloud.llamaindex.ai/api/parsing/upload \"HTTP/1.1 200 OK\"\n"
     ]
    },
    {
     "name": "stdout",
     "output_type": "stream",
     "text": [
      "Started parsing the file under job_id c6514419-e06a-4731-bf65-8e70f47e6557\n"
     ]
    },
    {
     "name": "stderr",
     "output_type": "stream",
     "text": [
      "INFO: HTTP Request: GET https://api.cloud.llamaindex.ai/api/parsing/job/c6514419-e06a-4731-bf65-8e70f47e6557 \"HTTP/1.1 200 OK\"\n",
      "INFO: HTTP Request: GET https://api.cloud.llamaindex.ai/api/parsing/job/c6514419-e06a-4731-bf65-8e70f47e6557/result/markdown \"HTTP/1.1 200 OK\"\n"
     ]
    },
    {
     "name": "stdout",
     "output_type": "stream",
     "text": [
      "../data/out/md/206-New-Student-New-Missionarypdf.md saved.\n"
     ]
    },
    {
     "name": "stderr",
     "output_type": "stream",
     "text": [
      "INFO: HTTP Request: POST https://api.cloud.llamaindex.ai/api/parsing/upload \"HTTP/1.1 200 OK\"\n"
     ]
    },
    {
     "name": "stdout",
     "output_type": "stream",
     "text": [
      "Started parsing the file under job_id d64b6fff-6e6f-4176-98c7-f03d821729e0\n"
     ]
    },
    {
     "name": "stderr",
     "output_type": "stream",
     "text": [
      "INFO: HTTP Request: GET https://api.cloud.llamaindex.ai/api/parsing/job/d64b6fff-6e6f-4176-98c7-f03d821729e0 \"HTTP/1.1 200 OK\"\n",
      "INFO: HTTP Request: GET https://api.cloud.llamaindex.ai/api/parsing/job/d64b6fff-6e6f-4176-98c7-f03d821729e0 \"HTTP/1.1 200 OK\"\n",
      "INFO: HTTP Request: GET https://api.cloud.llamaindex.ai/api/parsing/job/d64b6fff-6e6f-4176-98c7-f03d821729e0 \"HTTP/1.1 200 OK\"\n",
      "INFO: HTTP Request: GET https://api.cloud.llamaindex.ai/api/parsing/job/d64b6fff-6e6f-4176-98c7-f03d821729e0 \"HTTP/1.1 200 OK\"\n",
      "INFO: HTTP Request: GET https://api.cloud.llamaindex.ai/api/parsing/job/d64b6fff-6e6f-4176-98c7-f03d821729e0 \"HTTP/1.1 200 OK\"\n",
      "INFO: HTTP Request: GET https://api.cloud.llamaindex.ai/api/parsing/job/d64b6fff-6e6f-4176-98c7-f03d821729e0 \"HTTP/1.1 200 OK\"\n",
      "INFO: HTTP Request: GET https://api.cloud.llamaindex.ai/api/parsing/job/d64b6fff-6e6f-4176-98c7-f03d821729e0/result/markdown \"HTTP/1.1 200 OK\"\n"
     ]
    },
    {
     "name": "stdout",
     "output_type": "stream",
     "text": [
      "../data/out/md/207-New-Student-Visit-Instructionspdf.md saved.\n"
     ]
    },
    {
     "name": "stderr",
     "output_type": "stream",
     "text": [
      "INFO: HTTP Request: POST https://api.cloud.llamaindex.ai/api/parsing/upload \"HTTP/1.1 200 OK\"\n"
     ]
    },
    {
     "name": "stdout",
     "output_type": "stream",
     "text": [
      "Started parsing the file under job_id 5c60bc64-bb91-45a4-bc4d-1cf567a4cd93\n"
     ]
    },
    {
     "name": "stderr",
     "output_type": "stream",
     "text": [
      "INFO: HTTP Request: GET https://api.cloud.llamaindex.ai/api/parsing/job/5c60bc64-bb91-45a4-bc4d-1cf567a4cd93 \"HTTP/1.1 200 OK\"\n",
      "INFO: HTTP Request: GET https://api.cloud.llamaindex.ai/api/parsing/job/5c60bc64-bb91-45a4-bc4d-1cf567a4cd93 \"HTTP/1.1 200 OK\"\n",
      "INFO: HTTP Request: GET https://api.cloud.llamaindex.ai/api/parsing/job/5c60bc64-bb91-45a4-bc4d-1cf567a4cd93 \"HTTP/1.1 200 OK\"\n",
      "INFO: HTTP Request: GET https://api.cloud.llamaindex.ai/api/parsing/job/5c60bc64-bb91-45a4-bc4d-1cf567a4cd93 \"HTTP/1.1 200 OK\"\n",
      "INFO: HTTP Request: GET https://api.cloud.llamaindex.ai/api/parsing/job/5c60bc64-bb91-45a4-bc4d-1cf567a4cd93/result/markdown \"HTTP/1.1 200 OK\"\n"
     ]
    },
    {
     "name": "stdout",
     "output_type": "stream",
     "text": [
      "../data/out/md/208-New-Student-Visits---Trackerpdf.md saved.\n"
     ]
    },
    {
     "name": "stderr",
     "output_type": "stream",
     "text": [
      "INFO: HTTP Request: POST https://api.cloud.llamaindex.ai/api/parsing/upload \"HTTP/1.1 200 OK\"\n"
     ]
    },
    {
     "name": "stdout",
     "output_type": "stream",
     "text": [
      "Started parsing the file under job_id 32ab2e76-e6dd-411c-85c0-2787480f9834\n"
     ]
    },
    {
     "name": "stderr",
     "output_type": "stream",
     "text": [
      "INFO: HTTP Request: GET https://api.cloud.llamaindex.ai/api/parsing/job/32ab2e76-e6dd-411c-85c0-2787480f9834 \"HTTP/1.1 200 OK\"\n",
      "INFO: HTTP Request: GET https://api.cloud.llamaindex.ai/api/parsing/job/32ab2e76-e6dd-411c-85c0-2787480f9834 \"HTTP/1.1 200 OK\"\n",
      "INFO: HTTP Request: GET https://api.cloud.llamaindex.ai/api/parsing/job/32ab2e76-e6dd-411c-85c0-2787480f9834 \"HTTP/1.1 200 OK\"\n",
      "INFO: HTTP Request: GET https://api.cloud.llamaindex.ai/api/parsing/job/32ab2e76-e6dd-411c-85c0-2787480f9834 \"HTTP/1.1 200 OK\"\n",
      "INFO: HTTP Request: GET https://api.cloud.llamaindex.ai/api/parsing/job/32ab2e76-e6dd-411c-85c0-2787480f9834 \"HTTP/1.1 200 OK\"\n",
      "INFO: HTTP Request: GET https://api.cloud.llamaindex.ai/api/parsing/job/32ab2e76-e6dd-411c-85c0-2787480f9834 \"HTTP/1.1 200 OK\"\n",
      "INFO: HTTP Request: GET https://api.cloud.llamaindex.ai/api/parsing/job/32ab2e76-e6dd-411c-85c0-2787480f9834/result/markdown \"HTTP/1.1 200 OK\"\n"
     ]
    },
    {
     "name": "stdout",
     "output_type": "stream",
     "text": [
      "../data/out/md/209-New-Student-Visitspdf.md saved.\n"
     ]
    },
    {
     "name": "stderr",
     "output_type": "stream",
     "text": [
      "INFO: HTTP Request: POST https://api.cloud.llamaindex.ai/api/parsing/upload \"HTTP/1.1 200 OK\"\n"
     ]
    },
    {
     "name": "stdout",
     "output_type": "stream",
     "text": [
      "Started parsing the file under job_id 464eafc8-4201-4c85-9396-fd7a69b9ef31\n"
     ]
    },
    {
     "name": "stderr",
     "output_type": "stream",
     "text": [
      "INFO: HTTP Request: GET https://api.cloud.llamaindex.ai/api/parsing/job/464eafc8-4201-4c85-9396-fd7a69b9ef31 \"HTTP/1.1 200 OK\"\n",
      "INFO: HTTP Request: GET https://api.cloud.llamaindex.ai/api/parsing/job/464eafc8-4201-4c85-9396-fd7a69b9ef31 \"HTTP/1.1 200 OK\"\n",
      "INFO: HTTP Request: GET https://api.cloud.llamaindex.ai/api/parsing/job/464eafc8-4201-4c85-9396-fd7a69b9ef31 \"HTTP/1.1 200 OK\"\n",
      "INFO: HTTP Request: GET https://api.cloud.llamaindex.ai/api/parsing/job/464eafc8-4201-4c85-9396-fd7a69b9ef31/result/markdown \"HTTP/1.1 200 OK\"\n"
     ]
    },
    {
     "name": "stdout",
     "output_type": "stream",
     "text": [
      "../data/out/md/21-Assigning-a-Cohostpdf.md saved.\n"
     ]
    },
    {
     "name": "stderr",
     "output_type": "stream",
     "text": [
      "INFO: HTTP Request: POST https://api.cloud.llamaindex.ai/api/parsing/upload \"HTTP/1.1 200 OK\"\n"
     ]
    },
    {
     "name": "stdout",
     "output_type": "stream",
     "text": [
      "Started parsing the file under job_id 037c7e5c-d832-4203-9797-277907941bb6\n"
     ]
    },
    {
     "name": "stderr",
     "output_type": "stream",
     "text": [
      "INFO: HTTP Request: GET https://api.cloud.llamaindex.ai/api/parsing/job/037c7e5c-d832-4203-9797-277907941bb6 \"HTTP/1.1 200 OK\"\n",
      "INFO: HTTP Request: GET https://api.cloud.llamaindex.ai/api/parsing/job/037c7e5c-d832-4203-9797-277907941bb6/result/markdown \"HTTP/1.1 200 OK\"\n"
     ]
    },
    {
     "name": "stdout",
     "output_type": "stream",
     "text": [
      "../data/out/md/210-Opening-Your-Zoom-Roompdf.md saved.\n"
     ]
    },
    {
     "name": "stderr",
     "output_type": "stream",
     "text": [
      "INFO: HTTP Request: POST https://api.cloud.llamaindex.ai/api/parsing/upload \"HTTP/1.1 200 OK\"\n"
     ]
    },
    {
     "name": "stdout",
     "output_type": "stream",
     "text": [
      "Started parsing the file under job_id 4a10376e-8a0f-4ced-bd8d-e3681afcc1a8\n"
     ]
    },
    {
     "name": "stderr",
     "output_type": "stream",
     "text": [
      "INFO: HTTP Request: GET https://api.cloud.llamaindex.ai/api/parsing/job/4a10376e-8a0f-4ced-bd8d-e3681afcc1a8 \"HTTP/1.1 200 OK\"\n",
      "INFO: HTTP Request: GET https://api.cloud.llamaindex.ai/api/parsing/job/4a10376e-8a0f-4ced-bd8d-e3681afcc1a8/result/markdown \"HTTP/1.1 200 OK\"\n"
     ]
    },
    {
     "name": "stdout",
     "output_type": "stream",
     "text": [
      "../data/out/md/211-Organizing-PATH-for-your-areapdf.md saved.\n"
     ]
    },
    {
     "name": "stderr",
     "output_type": "stream",
     "text": [
      "INFO: HTTP Request: POST https://api.cloud.llamaindex.ai/api/parsing/upload \"HTTP/1.1 200 OK\"\n"
     ]
    },
    {
     "name": "stdout",
     "output_type": "stream",
     "text": [
      "Started parsing the file under job_id ce8ddc61-1cf1-43bb-a784-594bc559efa4\n"
     ]
    },
    {
     "name": "stderr",
     "output_type": "stream",
     "text": [
      "INFO: HTTP Request: GET https://api.cloud.llamaindex.ai/api/parsing/job/ce8ddc61-1cf1-43bb-a784-594bc559efa4 \"HTTP/1.1 200 OK\"\n",
      "INFO: HTTP Request: GET https://api.cloud.llamaindex.ai/api/parsing/job/ce8ddc61-1cf1-43bb-a784-594bc559efa4 \"HTTP/1.1 200 OK\"\n",
      "INFO: HTTP Request: GET https://api.cloud.llamaindex.ai/api/parsing/job/ce8ddc61-1cf1-43bb-a784-594bc559efa4 \"HTTP/1.1 200 OK\"\n",
      "INFO: HTTP Request: GET https://api.cloud.llamaindex.ai/api/parsing/job/ce8ddc61-1cf1-43bb-a784-594bc559efa4 \"HTTP/1.1 200 OK\"\n",
      "INFO: HTTP Request: GET https://api.cloud.llamaindex.ai/api/parsing/job/ce8ddc61-1cf1-43bb-a784-594bc559efa4/result/markdown \"HTTP/1.1 200 OK\"\n"
     ]
    },
    {
     "name": "stdout",
     "output_type": "stream",
     "text": [
      "../data/out/md/212-Overview-of-Location-Details-Page-ECpdf.md saved.\n"
     ]
    },
    {
     "name": "stderr",
     "output_type": "stream",
     "text": [
      "INFO: HTTP Request: POST https://api.cloud.llamaindex.ai/api/parsing/upload \"HTTP/1.1 200 OK\"\n"
     ]
    },
    {
     "name": "stdout",
     "output_type": "stream",
     "text": [
      "Started parsing the file under job_id b2908142-eb3e-418c-9729-a97189adb480\n"
     ]
    },
    {
     "name": "stderr",
     "output_type": "stream",
     "text": [
      "INFO: HTTP Request: GET https://api.cloud.llamaindex.ai/api/parsing/job/b2908142-eb3e-418c-9729-a97189adb480 \"HTTP/1.1 200 OK\"\n",
      "INFO: HTTP Request: GET https://api.cloud.llamaindex.ai/api/parsing/job/b2908142-eb3e-418c-9729-a97189adb480 \"HTTP/1.1 200 OK\"\n",
      "INFO: HTTP Request: GET https://api.cloud.llamaindex.ai/api/parsing/job/b2908142-eb3e-418c-9729-a97189adb480 \"HTTP/1.1 200 OK\"\n",
      "INFO: HTTP Request: GET https://api.cloud.llamaindex.ai/api/parsing/job/b2908142-eb3e-418c-9729-a97189adb480 \"HTTP/1.1 200 OK\"\n",
      "INFO: HTTP Request: GET https://api.cloud.llamaindex.ai/api/parsing/job/b2908142-eb3e-418c-9729-a97189adb480/result/markdown \"HTTP/1.1 200 OK\"\n"
     ]
    },
    {
     "name": "stdout",
     "output_type": "stream",
     "text": [
      "../data/out/md/213-Overview-of-Location-Details-Pagepdf.md saved.\n"
     ]
    },
    {
     "name": "stderr",
     "output_type": "stream",
     "text": [
      "INFO: HTTP Request: POST https://api.cloud.llamaindex.ai/api/parsing/upload \"HTTP/1.1 200 OK\"\n"
     ]
    },
    {
     "name": "stdout",
     "output_type": "stream",
     "text": [
      "Started parsing the file under job_id f130b13b-dba7-46af-a0a9-d35fbdd20042\n"
     ]
    },
    {
     "name": "stderr",
     "output_type": "stream",
     "text": [
      "INFO: HTTP Request: GET https://api.cloud.llamaindex.ai/api/parsing/job/f130b13b-dba7-46af-a0a9-d35fbdd20042 \"HTTP/1.1 200 OK\"\n",
      "INFO: HTTP Request: GET https://api.cloud.llamaindex.ai/api/parsing/job/f130b13b-dba7-46af-a0a9-d35fbdd20042 \"HTTP/1.1 200 OK\"\n",
      "INFO: HTTP Request: GET https://api.cloud.llamaindex.ai/api/parsing/job/f130b13b-dba7-46af-a0a9-d35fbdd20042 \"HTTP/1.1 200 OK\"\n",
      "INFO: HTTP Request: GET https://api.cloud.llamaindex.ai/api/parsing/job/f130b13b-dba7-46af-a0a9-d35fbdd20042 \"HTTP/1.1 200 OK\"\n",
      "INFO: HTTP Request: GET https://api.cloud.llamaindex.ai/api/parsing/job/f130b13b-dba7-46af-a0a9-d35fbdd20042 \"HTTP/1.1 200 OK\"\n",
      "INFO: HTTP Request: GET https://api.cloud.llamaindex.ai/api/parsing/job/f130b13b-dba7-46af-a0a9-d35fbdd20042/result/markdown \"HTTP/1.1 200 OK\"\n"
     ]
    },
    {
     "name": "stdout",
     "output_type": "stream",
     "text": [
      "../data/out/md/214-PATH-Group-Naming-Conventionpdf.md saved.\n"
     ]
    },
    {
     "name": "stderr",
     "output_type": "stream",
     "text": [
      "INFO: HTTP Request: POST https://api.cloud.llamaindex.ai/api/parsing/upload \"HTTP/1.1 200 OK\"\n"
     ]
    },
    {
     "name": "stdout",
     "output_type": "stream",
     "text": [
      "Started parsing the file under job_id fb2c2e03-9a55-444d-8ee1-1d6cfb85f55f\n"
     ]
    },
    {
     "name": "stderr",
     "output_type": "stream",
     "text": [
      "INFO: HTTP Request: GET https://api.cloud.llamaindex.ai/api/parsing/job/fb2c2e03-9a55-444d-8ee1-1d6cfb85f55f \"HTTP/1.1 200 OK\"\n",
      "INFO: HTTP Request: GET https://api.cloud.llamaindex.ai/api/parsing/job/fb2c2e03-9a55-444d-8ee1-1d6cfb85f55f \"HTTP/1.1 200 OK\"\n",
      "INFO: HTTP Request: GET https://api.cloud.llamaindex.ai/api/parsing/job/fb2c2e03-9a55-444d-8ee1-1d6cfb85f55f \"HTTP/1.1 200 OK\"\n",
      "INFO: HTTP Request: GET https://api.cloud.llamaindex.ai/api/parsing/job/fb2c2e03-9a55-444d-8ee1-1d6cfb85f55f \"HTTP/1.1 200 OK\"\n",
      "INFO: HTTP Request: GET https://api.cloud.llamaindex.ai/api/parsing/job/fb2c2e03-9a55-444d-8ee1-1d6cfb85f55f \"HTTP/1.1 200 OK\"\n",
      "INFO: HTTP Request: GET https://api.cloud.llamaindex.ai/api/parsing/job/fb2c2e03-9a55-444d-8ee1-1d6cfb85f55f \"HTTP/1.1 200 OK\"\n",
      "INFO: HTTP Request: GET https://api.cloud.llamaindex.ai/api/parsing/job/fb2c2e03-9a55-444d-8ee1-1d6cfb85f55f \"HTTP/1.1 200 OK\"\n",
      "INFO: HTTP Request: GET https://api.cloud.llamaindex.ai/api/parsing/job/fb2c2e03-9a55-444d-8ee1-1d6cfb85f55f/result/markdown \"HTTP/1.1 200 OK\"\n"
     ]
    },
    {
     "name": "stdout",
     "output_type": "stream",
     "text": [
      "../data/out/md/215-PATH-Overviewpdf.md saved.\n"
     ]
    },
    {
     "name": "stderr",
     "output_type": "stream",
     "text": [
      "INFO: HTTP Request: POST https://api.cloud.llamaindex.ai/api/parsing/upload \"HTTP/1.1 200 OK\"\n"
     ]
    },
    {
     "name": "stdout",
     "output_type": "stream",
     "text": [
      "Started parsing the file under job_id 14594415-02c2-431d-a70a-03961ab6c709\n"
     ]
    },
    {
     "name": "stderr",
     "output_type": "stream",
     "text": [
      "INFO: HTTP Request: GET https://api.cloud.llamaindex.ai/api/parsing/job/14594415-02c2-431d-a70a-03961ab6c709 \"HTTP/1.1 200 OK\"\n",
      "INFO: HTTP Request: GET https://api.cloud.llamaindex.ai/api/parsing/job/14594415-02c2-431d-a70a-03961ab6c709 \"HTTP/1.1 200 OK\"\n",
      "INFO: HTTP Request: GET https://api.cloud.llamaindex.ai/api/parsing/job/14594415-02c2-431d-a70a-03961ab6c709 \"HTTP/1.1 200 OK\"\n",
      "INFO: HTTP Request: GET https://api.cloud.llamaindex.ai/api/parsing/job/14594415-02c2-431d-a70a-03961ab6c709 \"HTTP/1.1 200 OK\"\n",
      "INFO: HTTP Request: GET https://api.cloud.llamaindex.ai/api/parsing/job/14594415-02c2-431d-a70a-03961ab6c709/result/markdown \"HTTP/1.1 200 OK\"\n"
     ]
    },
    {
     "name": "stdout",
     "output_type": "stream",
     "text": [
      "../data/out/md/216-PATH-Walkthroughpdf.md saved.\n"
     ]
    },
    {
     "name": "stderr",
     "output_type": "stream",
     "text": [
      "INFO: HTTP Request: POST https://api.cloud.llamaindex.ai/api/parsing/upload \"HTTP/1.1 200 OK\"\n"
     ]
    },
    {
     "name": "stdout",
     "output_type": "stream",
     "text": [
      "Started parsing the file under job_id e5a9e6b9-e5b2-47af-868c-1af4519c81a8\n"
     ]
    },
    {
     "name": "stderr",
     "output_type": "stream",
     "text": [
      "INFO: HTTP Request: GET https://api.cloud.llamaindex.ai/api/parsing/job/e5a9e6b9-e5b2-47af-868c-1af4519c81a8 \"HTTP/1.1 200 OK\"\n",
      "INFO: HTTP Request: GET https://api.cloud.llamaindex.ai/api/parsing/job/e5a9e6b9-e5b2-47af-868c-1af4519c81a8 \"HTTP/1.1 200 OK\"\n",
      "INFO: HTTP Request: GET https://api.cloud.llamaindex.ai/api/parsing/job/e5a9e6b9-e5b2-47af-868c-1af4519c81a8 \"HTTP/1.1 200 OK\"\n",
      "INFO: HTTP Request: GET https://api.cloud.llamaindex.ai/api/parsing/job/e5a9e6b9-e5b2-47af-868c-1af4519c81a8 \"HTTP/1.1 200 OK\"\n",
      "INFO: HTTP Request: GET https://api.cloud.llamaindex.ai/api/parsing/job/e5a9e6b9-e5b2-47af-868c-1af4519c81a8 \"HTTP/1.1 200 OK\"\n",
      "INFO: HTTP Request: GET https://api.cloud.llamaindex.ai/api/parsing/job/e5a9e6b9-e5b2-47af-868c-1af4519c81a8/result/markdown \"HTTP/1.1 200 OK\"\n"
     ]
    },
    {
     "name": "stdout",
     "output_type": "stream",
     "text": [
      "../data/out/md/217-PC---Finding-Student-Informationpdf.md saved.\n"
     ]
    },
    {
     "name": "stderr",
     "output_type": "stream",
     "text": [
      "INFO: HTTP Request: POST https://api.cloud.llamaindex.ai/api/parsing/upload \"HTTP/1.1 200 OK\"\n"
     ]
    },
    {
     "name": "stdout",
     "output_type": "stream",
     "text": [
      "Started parsing the file under job_id b19924f3-b9f7-4883-8b0a-be030ec89cf2\n"
     ]
    },
    {
     "name": "stderr",
     "output_type": "stream",
     "text": [
      "INFO: HTTP Request: GET https://api.cloud.llamaindex.ai/api/parsing/job/b19924f3-b9f7-4883-8b0a-be030ec89cf2 \"HTTP/1.1 200 OK\"\n",
      "INFO: HTTP Request: GET https://api.cloud.llamaindex.ai/api/parsing/job/b19924f3-b9f7-4883-8b0a-be030ec89cf2/result/markdown \"HTTP/1.1 200 OK\"\n"
     ]
    },
    {
     "name": "stdout",
     "output_type": "stream",
     "text": [
      "../data/out/md/218-PC--Block-LS-Sign-Up-Sheet-Fillablepdf.md saved.\n"
     ]
    },
    {
     "name": "stderr",
     "output_type": "stream",
     "text": [
      "INFO: HTTP Request: POST https://api.cloud.llamaindex.ai/api/parsing/upload \"HTTP/1.1 200 OK\"\n"
     ]
    },
    {
     "name": "stdout",
     "output_type": "stream",
     "text": [
      "Started parsing the file under job_id 0b55e265-918f-4d35-8951-b62489f15c07\n"
     ]
    },
    {
     "name": "stderr",
     "output_type": "stream",
     "text": [
      "INFO: HTTP Request: GET https://api.cloud.llamaindex.ai/api/parsing/job/0b55e265-918f-4d35-8951-b62489f15c07 \"HTTP/1.1 200 OK\"\n",
      "INFO: HTTP Request: GET https://api.cloud.llamaindex.ai/api/parsing/job/0b55e265-918f-4d35-8951-b62489f15c07/result/markdown \"HTTP/1.1 200 OK\"\n"
     ]
    },
    {
     "name": "stdout",
     "output_type": "stream",
     "text": [
      "../data/out/md/219-PC--Block-Lead-Student-Sign-Up-Sheetpdf.md saved.\n"
     ]
    },
    {
     "name": "stderr",
     "output_type": "stream",
     "text": [
      "INFO: HTTP Request: POST https://api.cloud.llamaindex.ai/api/parsing/upload \"HTTP/1.1 200 OK\"\n"
     ]
    },
    {
     "name": "stdout",
     "output_type": "stream",
     "text": [
      "Started parsing the file under job_id 7c7b2519-a7ed-4143-99b9-86c63437f2d5\n"
     ]
    },
    {
     "name": "stderr",
     "output_type": "stream",
     "text": [
      "INFO: HTTP Request: GET https://api.cloud.llamaindex.ai/api/parsing/job/7c7b2519-a7ed-4143-99b9-86c63437f2d5 \"HTTP/1.1 200 OK\"\n",
      "INFO: HTTP Request: GET https://api.cloud.llamaindex.ai/api/parsing/job/7c7b2519-a7ed-4143-99b9-86c63437f2d5 \"HTTP/1.1 200 OK\"\n",
      "INFO: HTTP Request: GET https://api.cloud.llamaindex.ai/api/parsing/job/7c7b2519-a7ed-4143-99b9-86c63437f2d5 \"HTTP/1.1 200 OK\"\n",
      "INFO: HTTP Request: GET https://api.cloud.llamaindex.ai/api/parsing/job/7c7b2519-a7ed-4143-99b9-86c63437f2d5/result/markdown \"HTTP/1.1 200 OK\"\n"
     ]
    },
    {
     "name": "stdout",
     "output_type": "stream",
     "text": [
      "../data/out/md/22-Assigning-a-Host-During-a-Gatheringpdf.md saved.\n"
     ]
    },
    {
     "name": "stderr",
     "output_type": "stream",
     "text": [
      "INFO: HTTP Request: POST https://api.cloud.llamaindex.ai/api/parsing/upload \"HTTP/1.1 200 OK\"\n"
     ]
    },
    {
     "name": "stdout",
     "output_type": "stream",
     "text": [
      "Started parsing the file under job_id d306390a-1ef5-44c4-ab5f-bebbcaf416a8\n"
     ]
    },
    {
     "name": "stderr",
     "output_type": "stream",
     "text": [
      "INFO: HTTP Request: GET https://api.cloud.llamaindex.ai/api/parsing/job/d306390a-1ef5-44c4-ab5f-bebbcaf416a8 \"HTTP/1.1 200 OK\"\n",
      "INFO: HTTP Request: GET https://api.cloud.llamaindex.ai/api/parsing/job/d306390a-1ef5-44c4-ab5f-bebbcaf416a8 \"HTTP/1.1 200 OK\"\n",
      "INFO: HTTP Request: GET https://api.cloud.llamaindex.ai/api/parsing/job/d306390a-1ef5-44c4-ab5f-bebbcaf416a8 \"HTTP/1.1 200 OK\"\n",
      "INFO: HTTP Request: GET https://api.cloud.llamaindex.ai/api/parsing/job/d306390a-1ef5-44c4-ab5f-bebbcaf416a8 \"HTTP/1.1 200 OK\"\n",
      "INFO: HTTP Request: GET https://api.cloud.llamaindex.ai/api/parsing/job/d306390a-1ef5-44c4-ab5f-bebbcaf416a8 \"HTTP/1.1 200 OK\"\n",
      "INFO: HTTP Request: GET https://api.cloud.llamaindex.ai/api/parsing/job/d306390a-1ef5-44c4-ab5f-bebbcaf416a8 \"HTTP/1.1 200 OK\"\n",
      "INFO: HTTP Request: GET https://api.cloud.llamaindex.ai/api/parsing/job/d306390a-1ef5-44c4-ab5f-bebbcaf416a8 \"HTTP/1.1 200 OK\"\n",
      "INFO: HTTP Request: GET https://api.cloud.llamaindex.ai/api/parsing/job/d306390a-1ef5-44c4-ab5f-bebbcaf416a8/result/markdown \"HTTP/1.1 200 OK\"\n"
     ]
    },
    {
     "name": "stdout",
     "output_type": "stream",
     "text": [
      "../data/out/md/220-PC--Block-Pilot-Spring-pdf.md saved.\n"
     ]
    },
    {
     "name": "stderr",
     "output_type": "stream",
     "text": [
      "INFO: HTTP Request: POST https://api.cloud.llamaindex.ai/api/parsing/upload \"HTTP/1.1 200 OK\"\n"
     ]
    },
    {
     "name": "stdout",
     "output_type": "stream",
     "text": [
      "Started parsing the file under job_id 12aef608-464c-4ae0-8499-b0f4107a9a82\n"
     ]
    },
    {
     "name": "stderr",
     "output_type": "stream",
     "text": [
      "INFO: HTTP Request: GET https://api.cloud.llamaindex.ai/api/parsing/job/12aef608-464c-4ae0-8499-b0f4107a9a82 \"HTTP/1.1 200 OK\"\n",
      "INFO: HTTP Request: GET https://api.cloud.llamaindex.ai/api/parsing/job/12aef608-464c-4ae0-8499-b0f4107a9a82 \"HTTP/1.1 200 OK\"\n",
      "INFO: HTTP Request: GET https://api.cloud.llamaindex.ai/api/parsing/job/12aef608-464c-4ae0-8499-b0f4107a9a82 \"HTTP/1.1 200 OK\"\n",
      "INFO: HTTP Request: GET https://api.cloud.llamaindex.ai/api/parsing/job/12aef608-464c-4ae0-8499-b0f4107a9a82 \"HTTP/1.1 200 OK\"\n",
      "INFO: HTTP Request: GET https://api.cloud.llamaindex.ai/api/parsing/job/12aef608-464c-4ae0-8499-b0f4107a9a82 \"HTTP/1.1 200 OK\"\n",
      "INFO: HTTP Request: GET https://api.cloud.llamaindex.ai/api/parsing/job/12aef608-464c-4ae0-8499-b0f4107a9a82 \"HTTP/1.1 200 OK\"\n",
      "INFO: HTTP Request: GET https://api.cloud.llamaindex.ai/api/parsing/job/12aef608-464c-4ae0-8499-b0f4107a9a82 \"HTTP/1.1 200 OK\"\n",
      "INFO: HTTP Request: GET https://api.cloud.llamaindex.ai/api/parsing/job/12aef608-464c-4ae0-8499-b0f4107a9a82 \"HTTP/1.1 200 OK\"\n",
      "INFO: HTTP Request: GET https://api.cloud.llamaindex.ai/api/parsing/job/12aef608-464c-4ae0-8499-b0f4107a9a82/result/markdown \"HTTP/1.1 200 OK\"\n"
     ]
    },
    {
     "name": "stdout",
     "output_type": "stream",
     "text": [
      "../data/out/md/221-PC--Semester-Project-Overviewpdf.md saved.\n"
     ]
    },
    {
     "name": "stderr",
     "output_type": "stream",
     "text": [
      "INFO: HTTP Request: POST https://api.cloud.llamaindex.ai/api/parsing/upload \"HTTP/1.1 200 OK\"\n"
     ]
    },
    {
     "name": "stdout",
     "output_type": "stream",
     "text": [
      "Started parsing the file under job_id d765b3dc-a377-4110-a3a8-bf41caa35a5c\n"
     ]
    },
    {
     "name": "stderr",
     "output_type": "stream",
     "text": [
      "INFO: HTTP Request: GET https://api.cloud.llamaindex.ai/api/parsing/job/d765b3dc-a377-4110-a3a8-bf41caa35a5c \"HTTP/1.1 200 OK\"\n",
      "INFO: HTTP Request: GET https://api.cloud.llamaindex.ai/api/parsing/job/d765b3dc-a377-4110-a3a8-bf41caa35a5c \"HTTP/1.1 200 OK\"\n",
      "INFO: HTTP Request: GET https://api.cloud.llamaindex.ai/api/parsing/job/d765b3dc-a377-4110-a3a8-bf41caa35a5c \"HTTP/1.1 200 OK\"\n",
      "INFO: HTTP Request: GET https://api.cloud.llamaindex.ai/api/parsing/job/d765b3dc-a377-4110-a3a8-bf41caa35a5c \"HTTP/1.1 200 OK\"\n",
      "INFO: HTTP Request: GET https://api.cloud.llamaindex.ai/api/parsing/job/d765b3dc-a377-4110-a3a8-bf41caa35a5c \"HTTP/1.1 200 OK\"\n",
      "INFO: HTTP Request: GET https://api.cloud.llamaindex.ai/api/parsing/job/d765b3dc-a377-4110-a3a8-bf41caa35a5c/result/markdown \"HTTP/1.1 200 OK\"\n"
     ]
    },
    {
     "name": "stdout",
     "output_type": "stream",
     "text": [
      "../data/out/md/222-PC-Application-Processpdf.md saved.\n"
     ]
    },
    {
     "name": "stderr",
     "output_type": "stream",
     "text": [
      "INFO: HTTP Request: POST https://api.cloud.llamaindex.ai/api/parsing/upload \"HTTP/1.1 200 OK\"\n"
     ]
    },
    {
     "name": "stdout",
     "output_type": "stream",
     "text": [
      "Started parsing the file under job_id 54319831-586f-47f7-bf95-f9f0945ea4f6\n"
     ]
    },
    {
     "name": "stderr",
     "output_type": "stream",
     "text": [
      "INFO: HTTP Request: GET https://api.cloud.llamaindex.ai/api/parsing/job/54319831-586f-47f7-bf95-f9f0945ea4f6 \"HTTP/1.1 200 OK\"\n",
      "INFO: HTTP Request: GET https://api.cloud.llamaindex.ai/api/parsing/job/54319831-586f-47f7-bf95-f9f0945ea4f6 \"HTTP/1.1 200 OK\"\n",
      "INFO: HTTP Request: GET https://api.cloud.llamaindex.ai/api/parsing/job/54319831-586f-47f7-bf95-f9f0945ea4f6 \"HTTP/1.1 200 OK\"\n",
      "INFO: HTTP Request: GET https://api.cloud.llamaindex.ai/api/parsing/job/54319831-586f-47f7-bf95-f9f0945ea4f6 \"HTTP/1.1 200 OK\"\n",
      "INFO: HTTP Request: GET https://api.cloud.llamaindex.ai/api/parsing/job/54319831-586f-47f7-bf95-f9f0945ea4f6 \"HTTP/1.1 200 OK\"\n",
      "INFO: HTTP Request: GET https://api.cloud.llamaindex.ai/api/parsing/job/54319831-586f-47f7-bf95-f9f0945ea4f6 \"HTTP/1.1 200 OK\"\n",
      "INFO: HTTP Request: GET https://api.cloud.llamaindex.ai/api/parsing/job/54319831-586f-47f7-bf95-f9f0945ea4f6 \"HTTP/1.1 200 OK\"\n",
      "INFO: HTTP Request: GET https://api.cloud.llamaindex.ai/api/parsing/job/54319831-586f-47f7-bf95-f9f0945ea4f6/result/markdown \"HTTP/1.1 200 OK\"\n"
     ]
    },
    {
     "name": "stdout",
     "output_type": "stream",
     "text": [
      "../data/out/md/223-PC-Application-Walkthroughpdf.md saved.\n"
     ]
    },
    {
     "name": "stderr",
     "output_type": "stream",
     "text": [
      "INFO: HTTP Request: POST https://api.cloud.llamaindex.ai/api/parsing/upload \"HTTP/1.1 200 OK\"\n"
     ]
    },
    {
     "name": "stdout",
     "output_type": "stream",
     "text": [
      "Started parsing the file under job_id 7a0946cb-1af2-4284-ab67-02e34918051d\n"
     ]
    },
    {
     "name": "stderr",
     "output_type": "stream",
     "text": [
      "INFO: HTTP Request: GET https://api.cloud.llamaindex.ai/api/parsing/job/7a0946cb-1af2-4284-ab67-02e34918051d \"HTTP/1.1 200 OK\"\n",
      "INFO: HTTP Request: GET https://api.cloud.llamaindex.ai/api/parsing/job/7a0946cb-1af2-4284-ab67-02e34918051d \"HTTP/1.1 200 OK\"\n",
      "INFO: HTTP Request: GET https://api.cloud.llamaindex.ai/api/parsing/job/7a0946cb-1af2-4284-ab67-02e34918051d \"HTTP/1.1 200 OK\"\n",
      "INFO: HTTP Request: GET https://api.cloud.llamaindex.ai/api/parsing/job/7a0946cb-1af2-4284-ab67-02e34918051d \"HTTP/1.1 200 OK\"\n",
      "INFO: HTTP Request: GET https://api.cloud.llamaindex.ai/api/parsing/job/7a0946cb-1af2-4284-ab67-02e34918051d \"HTTP/1.1 200 OK\"\n",
      "INFO: HTTP Request: GET https://api.cloud.llamaindex.ai/api/parsing/job/7a0946cb-1af2-4284-ab67-02e34918051d \"HTTP/1.1 200 OK\"\n",
      "INFO: HTTP Request: GET https://api.cloud.llamaindex.ai/api/parsing/job/7a0946cb-1af2-4284-ab67-02e34918051d \"HTTP/1.1 200 OK\"\n",
      "INFO: HTTP Request: GET https://api.cloud.llamaindex.ai/api/parsing/job/7a0946cb-1af2-4284-ab67-02e34918051d \"HTTP/1.1 200 OK\"\n",
      "INFO: HTTP Request: GET https://api.cloud.llamaindex.ai/api/parsing/job/7a0946cb-1af2-4284-ab67-02e34918051d/result/markdown \"HTTP/1.1 200 OK\"\n"
     ]
    },
    {
     "name": "stdout",
     "output_type": "stream",
     "text": [
      "../data/out/md/224-PORTUGUESE-CSM-Application-Octpdf.md saved.\n"
     ]
    },
    {
     "name": "stderr",
     "output_type": "stream",
     "text": [
      "INFO: HTTP Request: POST https://api.cloud.llamaindex.ai/api/parsing/upload \"HTTP/1.1 200 OK\"\n"
     ]
    },
    {
     "name": "stdout",
     "output_type": "stream",
     "text": [
      "Started parsing the file under job_id 7428c57d-1cb4-4e7d-bf99-70d26808da44\n"
     ]
    },
    {
     "name": "stderr",
     "output_type": "stream",
     "text": [
      "INFO: HTTP Request: GET https://api.cloud.llamaindex.ai/api/parsing/job/7428c57d-1cb4-4e7d-bf99-70d26808da44 \"HTTP/1.1 200 OK\"\n",
      "INFO: HTTP Request: GET https://api.cloud.llamaindex.ai/api/parsing/job/7428c57d-1cb4-4e7d-bf99-70d26808da44 \"HTTP/1.1 200 OK\"\n",
      "INFO: HTTP Request: GET https://api.cloud.llamaindex.ai/api/parsing/job/7428c57d-1cb4-4e7d-bf99-70d26808da44 \"HTTP/1.1 200 OK\"\n",
      "INFO: HTTP Request: GET https://api.cloud.llamaindex.ai/api/parsing/job/7428c57d-1cb4-4e7d-bf99-70d26808da44 \"HTTP/1.1 200 OK\"\n",
      "INFO: HTTP Request: GET https://api.cloud.llamaindex.ai/api/parsing/job/7428c57d-1cb4-4e7d-bf99-70d26808da44 \"HTTP/1.1 200 OK\"\n",
      "INFO: HTTP Request: GET https://api.cloud.llamaindex.ai/api/parsing/job/7428c57d-1cb4-4e7d-bf99-70d26808da44 \"HTTP/1.1 200 OK\"\n",
      "INFO: HTTP Request: GET https://api.cloud.llamaindex.ai/api/parsing/job/7428c57d-1cb4-4e7d-bf99-70d26808da44 \"HTTP/1.1 200 OK\"\n",
      "INFO: HTTP Request: GET https://api.cloud.llamaindex.ai/api/parsing/job/7428c57d-1cb4-4e7d-bf99-70d26808da44/result/markdown \"HTTP/1.1 200 OK\"\n"
     ]
    },
    {
     "name": "stdout",
     "output_type": "stream",
     "text": [
      "../data/out/md/225-Path-Reorgpdf.md saved.\n"
     ]
    },
    {
     "name": "stderr",
     "output_type": "stream",
     "text": [
      "INFO: HTTP Request: POST https://api.cloud.llamaindex.ai/api/parsing/upload \"HTTP/1.1 200 OK\"\n"
     ]
    },
    {
     "name": "stdout",
     "output_type": "stream",
     "text": [
      "Started parsing the file under job_id e453aba0-66cf-4063-8231-ce0cfe3699a3\n"
     ]
    },
    {
     "name": "stderr",
     "output_type": "stream",
     "text": [
      "INFO: HTTP Request: GET https://api.cloud.llamaindex.ai/api/parsing/job/e453aba0-66cf-4063-8231-ce0cfe3699a3 \"HTTP/1.1 200 OK\"\n",
      "INFO: HTTP Request: GET https://api.cloud.llamaindex.ai/api/parsing/job/e453aba0-66cf-4063-8231-ce0cfe3699a3/result/markdown \"HTTP/1.1 200 OK\"\n"
     ]
    },
    {
     "name": "stdout",
     "output_type": "stream",
     "text": [
      "../data/out/md/225-Path-Reorgpdf.md saved.\n"
     ]
    },
    {
     "name": "stderr",
     "output_type": "stream",
     "text": [
      "INFO: HTTP Request: POST https://api.cloud.llamaindex.ai/api/parsing/upload \"HTTP/1.1 200 OK\"\n"
     ]
    },
    {
     "name": "stdout",
     "output_type": "stream",
     "text": [
      "Started parsing the file under job_id aa2a8145-5504-4101-b570-b732773c77a1\n"
     ]
    },
    {
     "name": "stderr",
     "output_type": "stream",
     "text": [
      "INFO: HTTP Request: GET https://api.cloud.llamaindex.ai/api/parsing/job/aa2a8145-5504-4101-b570-b732773c77a1 \"HTTP/1.1 200 OK\"\n",
      "INFO: HTTP Request: GET https://api.cloud.llamaindex.ai/api/parsing/job/aa2a8145-5504-4101-b570-b732773c77a1 \"HTTP/1.1 200 OK\"\n",
      "INFO: HTTP Request: GET https://api.cloud.llamaindex.ai/api/parsing/job/aa2a8145-5504-4101-b570-b732773c77a1 \"HTTP/1.1 200 OK\"\n",
      "INFO: HTTP Request: GET https://api.cloud.llamaindex.ai/api/parsing/job/aa2a8145-5504-4101-b570-b732773c77a1 \"HTTP/1.1 200 OK\"\n",
      "INFO: HTTP Request: GET https://api.cloud.llamaindex.ai/api/parsing/job/aa2a8145-5504-4101-b570-b732773c77a1 \"HTTP/1.1 200 OK\"\n",
      "INFO: HTTP Request: GET https://api.cloud.llamaindex.ai/api/parsing/job/aa2a8145-5504-4101-b570-b732773c77a1/result/markdown \"HTTP/1.1 200 OK\"\n"
     ]
    },
    {
     "name": "stdout",
     "output_type": "stream",
     "text": [
      "../data/out/md/226-PathwayConnect-Common-Termspdf.md saved.\n"
     ]
    },
    {
     "name": "stderr",
     "output_type": "stream",
     "text": [
      "INFO: HTTP Request: POST https://api.cloud.llamaindex.ai/api/parsing/upload \"HTTP/1.1 200 OK\"\n"
     ]
    },
    {
     "name": "stdout",
     "output_type": "stream",
     "text": [
      "Started parsing the file under job_id 144c01e3-2c7a-4de4-8ae2-18ba25b97d25\n"
     ]
    },
    {
     "name": "stderr",
     "output_type": "stream",
     "text": [
      "INFO: HTTP Request: GET https://api.cloud.llamaindex.ai/api/parsing/job/144c01e3-2c7a-4de4-8ae2-18ba25b97d25 \"HTTP/1.1 200 OK\"\n",
      "INFO: HTTP Request: GET https://api.cloud.llamaindex.ai/api/parsing/job/144c01e3-2c7a-4de4-8ae2-18ba25b97d25 \"HTTP/1.1 200 OK\"\n",
      "INFO: HTTP Request: GET https://api.cloud.llamaindex.ai/api/parsing/job/144c01e3-2c7a-4de4-8ae2-18ba25b97d25 \"HTTP/1.1 200 OK\"\n",
      "INFO: HTTP Request: GET https://api.cloud.llamaindex.ai/api/parsing/job/144c01e3-2c7a-4de4-8ae2-18ba25b97d25 \"HTTP/1.1 200 OK\"\n",
      "INFO: HTTP Request: GET https://api.cloud.llamaindex.ai/api/parsing/job/144c01e3-2c7a-4de4-8ae2-18ba25b97d25 \"HTTP/1.1 200 OK\"\n",
      "INFO: HTTP Request: GET https://api.cloud.llamaindex.ai/api/parsing/job/144c01e3-2c7a-4de4-8ae2-18ba25b97d25 \"HTTP/1.1 200 OK\"\n",
      "INFO: HTTP Request: GET https://api.cloud.llamaindex.ai/api/parsing/job/144c01e3-2c7a-4de4-8ae2-18ba25b97d25 \"HTTP/1.1 200 OK\"\n",
      "INFO: HTTP Request: GET https://api.cloud.llamaindex.ai/api/parsing/job/144c01e3-2c7a-4de4-8ae2-18ba25b97d25 \"HTTP/1.1 200 OK\"\n",
      "INFO: HTTP Request: GET https://api.cloud.llamaindex.ai/api/parsing/job/144c01e3-2c7a-4de4-8ae2-18ba25b97d25 \"HTTP/1.1 200 OK\"\n",
      "INFO: HTTP Request: GET https://api.cloud.llamaindex.ai/api/parsing/job/144c01e3-2c7a-4de4-8ae2-18ba25b97d25/result/markdown \"HTTP/1.1 200 OK\"\n"
     ]
    },
    {
     "name": "stdout",
     "output_type": "stream",
     "text": [
      "../data/out/md/227-PathwayConnect-Curriculum-and-Blockpdf.md saved.\n"
     ]
    },
    {
     "name": "stderr",
     "output_type": "stream",
     "text": [
      "INFO: HTTP Request: POST https://api.cloud.llamaindex.ai/api/parsing/upload \"HTTP/1.1 200 OK\"\n"
     ]
    },
    {
     "name": "stdout",
     "output_type": "stream",
     "text": [
      "Started parsing the file under job_id 3813e68d-2093-449b-bef5-0b4cd83f4894\n"
     ]
    },
    {
     "name": "stderr",
     "output_type": "stream",
     "text": [
      "INFO: HTTP Request: GET https://api.cloud.llamaindex.ai/api/parsing/job/3813e68d-2093-449b-bef5-0b4cd83f4894 \"HTTP/1.1 200 OK\"\n",
      "INFO: HTTP Request: GET https://api.cloud.llamaindex.ai/api/parsing/job/3813e68d-2093-449b-bef5-0b4cd83f4894 \"HTTP/1.1 200 OK\"\n",
      "INFO: HTTP Request: GET https://api.cloud.llamaindex.ai/api/parsing/job/3813e68d-2093-449b-bef5-0b4cd83f4894 \"HTTP/1.1 200 OK\"\n",
      "INFO: HTTP Request: GET https://api.cloud.llamaindex.ai/api/parsing/job/3813e68d-2093-449b-bef5-0b4cd83f4894 \"HTTP/1.1 200 OK\"\n",
      "INFO: HTTP Request: GET https://api.cloud.llamaindex.ai/api/parsing/job/3813e68d-2093-449b-bef5-0b4cd83f4894 \"HTTP/1.1 200 OK\"\n",
      "INFO: HTTP Request: GET https://api.cloud.llamaindex.ai/api/parsing/job/3813e68d-2093-449b-bef5-0b4cd83f4894/result/markdown \"HTTP/1.1 200 OK\"\n"
     ]
    },
    {
     "name": "stdout",
     "output_type": "stream",
     "text": [
      "../data/out/md/228-PathwayConnect-Gathering-Procedurespdf.md saved.\n"
     ]
    },
    {
     "name": "stderr",
     "output_type": "stream",
     "text": [
      "INFO: HTTP Request: POST https://api.cloud.llamaindex.ai/api/parsing/upload \"HTTP/1.1 200 OK\"\n"
     ]
    },
    {
     "name": "stdout",
     "output_type": "stream",
     "text": [
      "Started parsing the file under job_id 540241df-57de-4f9a-9e85-a42bbc4ce757\n"
     ]
    },
    {
     "name": "stderr",
     "output_type": "stream",
     "text": [
      "INFO: HTTP Request: GET https://api.cloud.llamaindex.ai/api/parsing/job/540241df-57de-4f9a-9e85-a42bbc4ce757 \"HTTP/1.1 200 OK\"\n",
      "INFO: HTTP Request: GET https://api.cloud.llamaindex.ai/api/parsing/job/540241df-57de-4f9a-9e85-a42bbc4ce757 \"HTTP/1.1 200 OK\"\n",
      "INFO: HTTP Request: GET https://api.cloud.llamaindex.ai/api/parsing/job/540241df-57de-4f9a-9e85-a42bbc4ce757 \"HTTP/1.1 200 OK\"\n",
      "INFO: HTTP Request: GET https://api.cloud.llamaindex.ai/api/parsing/job/540241df-57de-4f9a-9e85-a42bbc4ce757 \"HTTP/1.1 200 OK\"\n",
      "INFO: HTTP Request: GET https://api.cloud.llamaindex.ai/api/parsing/job/540241df-57de-4f9a-9e85-a42bbc4ce757 \"HTTP/1.1 200 OK\"\n",
      "INFO: HTTP Request: GET https://api.cloud.llamaindex.ai/api/parsing/job/540241df-57de-4f9a-9e85-a42bbc4ce757/result/markdown \"HTTP/1.1 200 OK\"\n"
     ]
    },
    {
     "name": "stdout",
     "output_type": "stream",
     "text": [
      "../data/out/md/229-Playing-Hymns-in-a-Virtual-Gatheringpdf.md saved.\n"
     ]
    },
    {
     "name": "stderr",
     "output_type": "stream",
     "text": [
      "INFO: HTTP Request: POST https://api.cloud.llamaindex.ai/api/parsing/upload \"HTTP/1.1 200 OK\"\n"
     ]
    },
    {
     "name": "stdout",
     "output_type": "stream",
     "text": [
      "Started parsing the file under job_id 06209ff3-5e04-40b2-b5fa-d63770e892a2\n"
     ]
    },
    {
     "name": "stderr",
     "output_type": "stream",
     "text": [
      "INFO: HTTP Request: GET https://api.cloud.llamaindex.ai/api/parsing/job/06209ff3-5e04-40b2-b5fa-d63770e892a2 \"HTTP/1.1 200 OK\"\n",
      "INFO: HTTP Request: GET https://api.cloud.llamaindex.ai/api/parsing/job/06209ff3-5e04-40b2-b5fa-d63770e892a2 \"HTTP/1.1 200 OK\"\n",
      "INFO: HTTP Request: GET https://api.cloud.llamaindex.ai/api/parsing/job/06209ff3-5e04-40b2-b5fa-d63770e892a2 \"HTTP/1.1 200 OK\"\n",
      "INFO: HTTP Request: GET https://api.cloud.llamaindex.ai/api/parsing/job/06209ff3-5e04-40b2-b5fa-d63770e892a2 \"HTTP/1.1 200 OK\"\n",
      "INFO: HTTP Request: GET https://api.cloud.llamaindex.ai/api/parsing/job/06209ff3-5e04-40b2-b5fa-d63770e892a2 \"HTTP/1.1 200 OK\"\n",
      "INFO: HTTP Request: GET https://api.cloud.llamaindex.ai/api/parsing/job/06209ff3-5e04-40b2-b5fa-d63770e892a2/result/markdown \"HTTP/1.1 200 OK\"\n"
     ]
    },
    {
     "name": "stdout",
     "output_type": "stream",
     "text": [
      "../data/out/md/23-Auto-droppdf.md saved.\n"
     ]
    },
    {
     "name": "stderr",
     "output_type": "stream",
     "text": [
      "INFO: HTTP Request: POST https://api.cloud.llamaindex.ai/api/parsing/upload \"HTTP/1.1 200 OK\"\n"
     ]
    },
    {
     "name": "stdout",
     "output_type": "stream",
     "text": [
      "Started parsing the file under job_id 635ed793-2719-4e27-b0e9-efb18f93cd15\n"
     ]
    },
    {
     "name": "stderr",
     "output_type": "stream",
     "text": [
      "INFO: HTTP Request: GET https://api.cloud.llamaindex.ai/api/parsing/job/635ed793-2719-4e27-b0e9-efb18f93cd15 \"HTTP/1.1 200 OK\"\n",
      "INFO: HTTP Request: GET https://api.cloud.llamaindex.ai/api/parsing/job/635ed793-2719-4e27-b0e9-efb18f93cd15 \"HTTP/1.1 200 OK\"\n",
      "INFO: HTTP Request: GET https://api.cloud.llamaindex.ai/api/parsing/job/635ed793-2719-4e27-b0e9-efb18f93cd15 \"HTTP/1.1 200 OK\"\n",
      "INFO: HTTP Request: GET https://api.cloud.llamaindex.ai/api/parsing/job/635ed793-2719-4e27-b0e9-efb18f93cd15 \"HTTP/1.1 200 OK\"\n",
      "INFO: HTTP Request: GET https://api.cloud.llamaindex.ai/api/parsing/job/635ed793-2719-4e27-b0e9-efb18f93cd15 \"HTTP/1.1 200 OK\"\n",
      "INFO: HTTP Request: GET https://api.cloud.llamaindex.ai/api/parsing/job/635ed793-2719-4e27-b0e9-efb18f93cd15/result/markdown \"HTTP/1.1 200 OK\"\n"
     ]
    },
    {
     "name": "stdout",
     "output_type": "stream",
     "text": [
      "../data/out/md/230-Policy---Missionary-Dress--Grooming-policypdf.md saved.\n"
     ]
    },
    {
     "name": "stderr",
     "output_type": "stream",
     "text": [
      "INFO: HTTP Request: POST https://api.cloud.llamaindex.ai/api/parsing/upload \"HTTP/1.1 200 OK\"\n"
     ]
    },
    {
     "name": "stdout",
     "output_type": "stream",
     "text": [
      "Started parsing the file under job_id 39631989-1b66-41ec-b133-94d943aa8efb\n"
     ]
    },
    {
     "name": "stderr",
     "output_type": "stream",
     "text": [
      "INFO: HTTP Request: GET https://api.cloud.llamaindex.ai/api/parsing/job/39631989-1b66-41ec-b133-94d943aa8efb \"HTTP/1.1 200 OK\"\n",
      "INFO: HTTP Request: GET https://api.cloud.llamaindex.ai/api/parsing/job/39631989-1b66-41ec-b133-94d943aa8efb \"HTTP/1.1 200 OK\"\n",
      "INFO: HTTP Request: GET https://api.cloud.llamaindex.ai/api/parsing/job/39631989-1b66-41ec-b133-94d943aa8efb \"HTTP/1.1 200 OK\"\n",
      "INFO: HTTP Request: GET https://api.cloud.llamaindex.ai/api/parsing/job/39631989-1b66-41ec-b133-94d943aa8efb \"HTTP/1.1 200 OK\"\n",
      "INFO: HTTP Request: GET https://api.cloud.llamaindex.ai/api/parsing/job/39631989-1b66-41ec-b133-94d943aa8efb \"HTTP/1.1 200 OK\"\n",
      "INFO: HTTP Request: GET https://api.cloud.llamaindex.ai/api/parsing/job/39631989-1b66-41ec-b133-94d943aa8efb \"HTTP/1.1 200 OK\"\n",
      "INFO: HTTP Request: GET https://api.cloud.llamaindex.ai/api/parsing/job/39631989-1b66-41ec-b133-94d943aa8efb/result/markdown \"HTTP/1.1 200 OK\"\n"
     ]
    },
    {
     "name": "stdout",
     "output_type": "stream",
     "text": [
      "../data/out/md/231-Policy---Zoom-Recordingspdf.md saved.\n"
     ]
    },
    {
     "name": "stderr",
     "output_type": "stream",
     "text": [
      "INFO: HTTP Request: POST https://api.cloud.llamaindex.ai/api/parsing/upload \"HTTP/1.1 200 OK\"\n"
     ]
    },
    {
     "name": "stdout",
     "output_type": "stream",
     "text": [
      "Started parsing the file under job_id 12ae8ed8-abac-45c3-ba7d-0eb230f9327f\n"
     ]
    },
    {
     "name": "stderr",
     "output_type": "stream",
     "text": [
      "INFO: HTTP Request: GET https://api.cloud.llamaindex.ai/api/parsing/job/12ae8ed8-abac-45c3-ba7d-0eb230f9327f \"HTTP/1.1 200 OK\"\n",
      "INFO: HTTP Request: GET https://api.cloud.llamaindex.ai/api/parsing/job/12ae8ed8-abac-45c3-ba7d-0eb230f9327f \"HTTP/1.1 200 OK\"\n",
      "INFO: HTTP Request: GET https://api.cloud.llamaindex.ai/api/parsing/job/12ae8ed8-abac-45c3-ba7d-0eb230f9327f \"HTTP/1.1 200 OK\"\n",
      "INFO: HTTP Request: GET https://api.cloud.llamaindex.ai/api/parsing/job/12ae8ed8-abac-45c3-ba7d-0eb230f9327f \"HTTP/1.1 200 OK\"\n",
      "INFO: HTTP Request: GET https://api.cloud.llamaindex.ai/api/parsing/job/12ae8ed8-abac-45c3-ba7d-0eb230f9327f \"HTTP/1.1 200 OK\"\n",
      "INFO: HTTP Request: GET https://api.cloud.llamaindex.ai/api/parsing/job/12ae8ed8-abac-45c3-ba7d-0eb230f9327f/result/markdown \"HTTP/1.1 200 OK\"\n"
     ]
    },
    {
     "name": "stdout",
     "output_type": "stream",
     "text": [
      "../data/out/md/232-Policy-Assistant-ACM-Rolepdf.md saved.\n"
     ]
    },
    {
     "name": "stderr",
     "output_type": "stream",
     "text": [
      "INFO: HTTP Request: POST https://api.cloud.llamaindex.ai/api/parsing/upload \"HTTP/1.1 200 OK\"\n"
     ]
    },
    {
     "name": "stdout",
     "output_type": "stream",
     "text": [
      "Started parsing the file under job_id e57c6fbd-81f6-49bd-b689-80d3ce08f4c4\n"
     ]
    },
    {
     "name": "stderr",
     "output_type": "stream",
     "text": [
      "INFO: HTTP Request: GET https://api.cloud.llamaindex.ai/api/parsing/job/e57c6fbd-81f6-49bd-b689-80d3ce08f4c4 \"HTTP/1.1 200 OK\"\n",
      "INFO: HTTP Request: GET https://api.cloud.llamaindex.ai/api/parsing/job/e57c6fbd-81f6-49bd-b689-80d3ce08f4c4/result/markdown \"HTTP/1.1 200 OK\"\n"
     ]
    },
    {
     "name": "stdout",
     "output_type": "stream",
     "text": [
      "../data/out/md/233-Policy-BYU-Pathway-Gathering-Standardspdf.md saved.\n"
     ]
    },
    {
     "name": "stderr",
     "output_type": "stream",
     "text": [
      "INFO: HTTP Request: POST https://api.cloud.llamaindex.ai/api/parsing/upload \"HTTP/1.1 200 OK\"\n"
     ]
    },
    {
     "name": "stdout",
     "output_type": "stream",
     "text": [
      "Started parsing the file under job_id caed792e-c4a3-4729-b1ec-0616079d9ca4\n"
     ]
    },
    {
     "name": "stderr",
     "output_type": "stream",
     "text": [
      "INFO: HTTP Request: GET https://api.cloud.llamaindex.ai/api/parsing/job/caed792e-c4a3-4729-b1ec-0616079d9ca4 \"HTTP/1.1 200 OK\"\n",
      "INFO: HTTP Request: GET https://api.cloud.llamaindex.ai/api/parsing/job/caed792e-c4a3-4729-b1ec-0616079d9ca4 \"HTTP/1.1 200 OK\"\n",
      "INFO: HTTP Request: GET https://api.cloud.llamaindex.ai/api/parsing/job/caed792e-c4a3-4729-b1ec-0616079d9ca4 \"HTTP/1.1 200 OK\"\n",
      "INFO: HTTP Request: GET https://api.cloud.llamaindex.ai/api/parsing/job/caed792e-c4a3-4729-b1ec-0616079d9ca4 \"HTTP/1.1 200 OK\"\n",
      "INFO: HTTP Request: GET https://api.cloud.llamaindex.ai/api/parsing/job/caed792e-c4a3-4729-b1ec-0616079d9ca4/result/markdown \"HTTP/1.1 200 OK\"\n"
     ]
    },
    {
     "name": "stdout",
     "output_type": "stream",
     "text": [
      "../data/out/md/234-Policy-CDOL-Accesspdf.md saved.\n"
     ]
    },
    {
     "name": "stderr",
     "output_type": "stream",
     "text": [
      "INFO: HTTP Request: POST https://api.cloud.llamaindex.ai/api/parsing/upload \"HTTP/1.1 200 OK\"\n"
     ]
    },
    {
     "name": "stdout",
     "output_type": "stream",
     "text": [
      "Started parsing the file under job_id f3c6d5a2-191c-425c-b521-58ade05e2b35\n"
     ]
    },
    {
     "name": "stderr",
     "output_type": "stream",
     "text": [
      "INFO: HTTP Request: GET https://api.cloud.llamaindex.ai/api/parsing/job/f3c6d5a2-191c-425c-b521-58ade05e2b35 \"HTTP/1.1 200 OK\"\n",
      "INFO: HTTP Request: GET https://api.cloud.llamaindex.ai/api/parsing/job/f3c6d5a2-191c-425c-b521-58ade05e2b35 \"HTTP/1.1 200 OK\"\n",
      "INFO: HTTP Request: GET https://api.cloud.llamaindex.ai/api/parsing/job/f3c6d5a2-191c-425c-b521-58ade05e2b35 \"HTTP/1.1 200 OK\"\n",
      "INFO: HTTP Request: GET https://api.cloud.llamaindex.ai/api/parsing/job/f3c6d5a2-191c-425c-b521-58ade05e2b35 \"HTTP/1.1 200 OK\"\n",
      "INFO: HTTP Request: GET https://api.cloud.llamaindex.ai/api/parsing/job/f3c6d5a2-191c-425c-b521-58ade05e2b35 \"HTTP/1.1 200 OK\"\n",
      "INFO: HTTP Request: GET https://api.cloud.llamaindex.ai/api/parsing/job/f3c6d5a2-191c-425c-b521-58ade05e2b35 \"HTTP/1.1 200 OK\"\n",
      "INFO: HTTP Request: GET https://api.cloud.llamaindex.ai/api/parsing/job/f3c6d5a2-191c-425c-b521-58ade05e2b35 \"HTTP/1.1 200 OK\"\n",
      "INFO: HTTP Request: GET https://api.cloud.llamaindex.ai/api/parsing/job/f3c6d5a2-191c-425c-b521-58ade05e2b35 \"HTTP/1.1 200 OK\"\n",
      "INFO: HTTP Request: GET https://api.cloud.llamaindex.ai/api/parsing/job/f3c6d5a2-191c-425c-b521-58ade05e2b35/result/markdown \"HTTP/1.1 200 OK\"\n"
     ]
    },
    {
     "name": "stdout",
     "output_type": "stream",
     "text": [
      "../data/out/md/235-Policy-Employees-Serving-As-BYUPW-Service-Missionarypdf.md saved.\n"
     ]
    },
    {
     "name": "stderr",
     "output_type": "stream",
     "text": [
      "INFO: HTTP Request: POST https://api.cloud.llamaindex.ai/api/parsing/upload \"HTTP/1.1 200 OK\"\n"
     ]
    },
    {
     "name": "stdout",
     "output_type": "stream",
     "text": [
      "Started parsing the file under job_id 1df265d9-d36e-4c7a-9488-20b65287815f\n"
     ]
    },
    {
     "name": "stderr",
     "output_type": "stream",
     "text": [
      "INFO: HTTP Request: GET https://api.cloud.llamaindex.ai/api/parsing/job/1df265d9-d36e-4c7a-9488-20b65287815f \"HTTP/1.1 200 OK\"\n",
      "INFO: HTTP Request: GET https://api.cloud.llamaindex.ai/api/parsing/job/1df265d9-d36e-4c7a-9488-20b65287815f \"HTTP/1.1 200 OK\"\n",
      "INFO: HTTP Request: GET https://api.cloud.llamaindex.ai/api/parsing/job/1df265d9-d36e-4c7a-9488-20b65287815f \"HTTP/1.1 200 OK\"\n",
      "INFO: HTTP Request: GET https://api.cloud.llamaindex.ai/api/parsing/job/1df265d9-d36e-4c7a-9488-20b65287815f/result/markdown \"HTTP/1.1 200 OK\"\n"
     ]
    },
    {
     "name": "stdout",
     "output_type": "stream",
     "text": [
      "../data/out/md/236-Policy-Exception-to-Enroll-With-Outstanding-Balancespdf.md saved.\n"
     ]
    },
    {
     "name": "stderr",
     "output_type": "stream",
     "text": [
      "INFO: HTTP Request: POST https://api.cloud.llamaindex.ai/api/parsing/upload \"HTTP/1.1 200 OK\"\n"
     ]
    },
    {
     "name": "stdout",
     "output_type": "stream",
     "text": [
      "Started parsing the file under job_id d38779b0-c6a7-445b-8b35-8f23cb73b203\n"
     ]
    },
    {
     "name": "stderr",
     "output_type": "stream",
     "text": [
      "INFO: HTTP Request: GET https://api.cloud.llamaindex.ai/api/parsing/job/d38779b0-c6a7-445b-8b35-8f23cb73b203 \"HTTP/1.1 200 OK\"\n"
     ]
    },
    {
     "name": "stdout",
     "output_type": "stream",
     "text": [
      "Error while parsing the file '<bytes/buffer>': Failed to parse the file: d38779b0-c6a7-445b-8b35-8f23cb73b203, status: ERROR\n",
      "../data/out/md/237-Policy-Executive-Secretaries--Communicationpdf.md saved.\n"
     ]
    },
    {
     "name": "stderr",
     "output_type": "stream",
     "text": [
      "INFO: HTTP Request: POST https://api.cloud.llamaindex.ai/api/parsing/upload \"HTTP/1.1 200 OK\"\n"
     ]
    },
    {
     "name": "stdout",
     "output_type": "stream",
     "text": [
      "Started parsing the file under job_id ce550e62-f17c-4ac6-994d-6075c5bb56f6\n"
     ]
    },
    {
     "name": "stderr",
     "output_type": "stream",
     "text": [
      "INFO: HTTP Request: GET https://api.cloud.llamaindex.ai/api/parsing/job/ce550e62-f17c-4ac6-994d-6075c5bb56f6 \"HTTP/1.1 200 OK\"\n"
     ]
    },
    {
     "name": "stdout",
     "output_type": "stream",
     "text": [
      "Error while parsing the file '<bytes/buffer>': Failed to parse the file: ce550e62-f17c-4ac6-994d-6075c5bb56f6, status: ERROR\n",
      "../data/out/md/237-Policy-Executive-Secretaries--Communicationpdf.md saved.\n"
     ]
    },
    {
     "name": "stderr",
     "output_type": "stream",
     "text": [
      "INFO: HTTP Request: POST https://api.cloud.llamaindex.ai/api/parsing/upload \"HTTP/1.1 200 OK\"\n"
     ]
    },
    {
     "name": "stdout",
     "output_type": "stream",
     "text": [
      "Started parsing the file under job_id 66ade0ee-f5a3-4d19-85a6-0ee180f4c008\n"
     ]
    },
    {
     "name": "stderr",
     "output_type": "stream",
     "text": [
      "INFO: HTTP Request: GET https://api.cloud.llamaindex.ai/api/parsing/job/66ade0ee-f5a3-4d19-85a6-0ee180f4c008 \"HTTP/1.1 200 OK\"\n",
      "INFO: HTTP Request: GET https://api.cloud.llamaindex.ai/api/parsing/job/66ade0ee-f5a3-4d19-85a6-0ee180f4c008 \"HTTP/1.1 200 OK\"\n",
      "INFO: HTTP Request: GET https://api.cloud.llamaindex.ai/api/parsing/job/66ade0ee-f5a3-4d19-85a6-0ee180f4c008 \"HTTP/1.1 200 OK\"\n",
      "INFO: HTTP Request: GET https://api.cloud.llamaindex.ai/api/parsing/job/66ade0ee-f5a3-4d19-85a6-0ee180f4c008/result/markdown \"HTTP/1.1 200 OK\"\n"
     ]
    },
    {
     "name": "stdout",
     "output_type": "stream",
     "text": [
      "../data/out/md/238-Policy-International-Student-Transferspdf.md saved.\n"
     ]
    },
    {
     "name": "stderr",
     "output_type": "stream",
     "text": [
      "INFO: HTTP Request: POST https://api.cloud.llamaindex.ai/api/parsing/upload \"HTTP/1.1 200 OK\"\n"
     ]
    },
    {
     "name": "stdout",
     "output_type": "stream",
     "text": [
      "Started parsing the file under job_id e41630d4-8705-4c42-a1ef-ed5126d885de\n"
     ]
    },
    {
     "name": "stderr",
     "output_type": "stream",
     "text": [
      "INFO: HTTP Request: GET https://api.cloud.llamaindex.ai/api/parsing/job/e41630d4-8705-4c42-a1ef-ed5126d885de \"HTTP/1.1 200 OK\"\n",
      "INFO: HTTP Request: GET https://api.cloud.llamaindex.ai/api/parsing/job/e41630d4-8705-4c42-a1ef-ed5126d885de \"HTTP/1.1 200 OK\"\n",
      "INFO: HTTP Request: GET https://api.cloud.llamaindex.ai/api/parsing/job/e41630d4-8705-4c42-a1ef-ed5126d885de \"HTTP/1.1 200 OK\"\n",
      "INFO: HTTP Request: GET https://api.cloud.llamaindex.ai/api/parsing/job/e41630d4-8705-4c42-a1ef-ed5126d885de \"HTTP/1.1 200 OK\"\n",
      "INFO: HTTP Request: GET https://api.cloud.llamaindex.ai/api/parsing/job/e41630d4-8705-4c42-a1ef-ed5126d885de \"HTTP/1.1 200 OK\"\n",
      "INFO: HTTP Request: GET https://api.cloud.llamaindex.ai/api/parsing/job/e41630d4-8705-4c42-a1ef-ed5126d885de \"HTTP/1.1 200 OK\"\n",
      "INFO: HTTP Request: GET https://api.cloud.llamaindex.ai/api/parsing/job/e41630d4-8705-4c42-a1ef-ed5126d885de/result/markdown \"HTTP/1.1 200 OK\"\n"
     ]
    },
    {
     "name": "stdout",
     "output_type": "stream",
     "text": [
      "../data/out/md/239-Policy-Issue-Zoom-Licensed-Accountspdf.md saved.\n"
     ]
    },
    {
     "name": "stderr",
     "output_type": "stream",
     "text": [
      "INFO: HTTP Request: POST https://api.cloud.llamaindex.ai/api/parsing/upload \"HTTP/1.1 200 OK\"\n"
     ]
    },
    {
     "name": "stdout",
     "output_type": "stream",
     "text": [
      "Started parsing the file under job_id 722b449d-8257-4d78-9cb2-eb1c5905f784\n"
     ]
    },
    {
     "name": "stderr",
     "output_type": "stream",
     "text": [
      "INFO: HTTP Request: GET https://api.cloud.llamaindex.ai/api/parsing/job/722b449d-8257-4d78-9cb2-eb1c5905f784 \"HTTP/1.1 200 OK\"\n",
      "INFO: HTTP Request: GET https://api.cloud.llamaindex.ai/api/parsing/job/722b449d-8257-4d78-9cb2-eb1c5905f784 \"HTTP/1.1 200 OK\"\n",
      "INFO: HTTP Request: GET https://api.cloud.llamaindex.ai/api/parsing/job/722b449d-8257-4d78-9cb2-eb1c5905f784 \"HTTP/1.1 200 OK\"\n",
      "INFO: HTTP Request: GET https://api.cloud.llamaindex.ai/api/parsing/job/722b449d-8257-4d78-9cb2-eb1c5905f784 \"HTTP/1.1 200 OK\"\n",
      "INFO: HTTP Request: GET https://api.cloud.llamaindex.ai/api/parsing/job/722b449d-8257-4d78-9cb2-eb1c5905f784 \"HTTP/1.1 200 OK\"\n",
      "INFO: HTTP Request: GET https://api.cloud.llamaindex.ai/api/parsing/job/722b449d-8257-4d78-9cb2-eb1c5905f784 \"HTTP/1.1 200 OK\"\n",
      "INFO: HTTP Request: GET https://api.cloud.llamaindex.ai/api/parsing/job/722b449d-8257-4d78-9cb2-eb1c5905f784/result/markdown \"HTTP/1.1 200 OK\"\n"
     ]
    },
    {
     "name": "stdout",
     "output_type": "stream",
     "text": [
      "../data/out/md/24-Autodrop-for-ECpdf.md saved.\n"
     ]
    },
    {
     "name": "stderr",
     "output_type": "stream",
     "text": [
      "INFO: HTTP Request: POST https://api.cloud.llamaindex.ai/api/parsing/upload \"HTTP/1.1 200 OK\"\n"
     ]
    },
    {
     "name": "stdout",
     "output_type": "stream",
     "text": [
      "Started parsing the file under job_id b52a1b16-2c82-4bb1-9b94-0d698b1fe930\n"
     ]
    },
    {
     "name": "stderr",
     "output_type": "stream",
     "text": [
      "INFO: HTTP Request: GET https://api.cloud.llamaindex.ai/api/parsing/job/b52a1b16-2c82-4bb1-9b94-0d698b1fe930 \"HTTP/1.1 200 OK\"\n",
      "INFO: HTTP Request: GET https://api.cloud.llamaindex.ai/api/parsing/job/b52a1b16-2c82-4bb1-9b94-0d698b1fe930 \"HTTP/1.1 200 OK\"\n",
      "INFO: HTTP Request: GET https://api.cloud.llamaindex.ai/api/parsing/job/b52a1b16-2c82-4bb1-9b94-0d698b1fe930 \"HTTP/1.1 200 OK\"\n",
      "INFO: HTTP Request: GET https://api.cloud.llamaindex.ai/api/parsing/job/b52a1b16-2c82-4bb1-9b94-0d698b1fe930 \"HTTP/1.1 200 OK\"\n",
      "INFO: HTTP Request: GET https://api.cloud.llamaindex.ai/api/parsing/job/b52a1b16-2c82-4bb1-9b94-0d698b1fe930 \"HTTP/1.1 200 OK\"\n",
      "INFO: HTTP Request: GET https://api.cloud.llamaindex.ai/api/parsing/job/b52a1b16-2c82-4bb1-9b94-0d698b1fe930/result/markdown \"HTTP/1.1 200 OK\"\n"
     ]
    },
    {
     "name": "stdout",
     "output_type": "stream",
     "text": [
      "../data/out/md/240-Policy-Missionary-Badge-Policypdf.md saved.\n"
     ]
    },
    {
     "name": "stderr",
     "output_type": "stream",
     "text": [
      "INFO: HTTP Request: POST https://api.cloud.llamaindex.ai/api/parsing/upload \"HTTP/1.1 200 OK\"\n"
     ]
    },
    {
     "name": "stdout",
     "output_type": "stream",
     "text": [
      "Started parsing the file under job_id f105f61b-87b0-4a68-92b1-c954de3153cf\n"
     ]
    },
    {
     "name": "stderr",
     "output_type": "stream",
     "text": [
      "INFO: HTTP Request: GET https://api.cloud.llamaindex.ai/api/parsing/job/f105f61b-87b0-4a68-92b1-c954de3153cf \"HTTP/1.1 200 OK\"\n",
      "INFO: HTTP Request: GET https://api.cloud.llamaindex.ai/api/parsing/job/f105f61b-87b0-4a68-92b1-c954de3153cf \"HTTP/1.1 200 OK\"\n",
      "INFO: HTTP Request: GET https://api.cloud.llamaindex.ai/api/parsing/job/f105f61b-87b0-4a68-92b1-c954de3153cf \"HTTP/1.1 200 OK\"\n",
      "INFO: HTTP Request: GET https://api.cloud.llamaindex.ai/api/parsing/job/f105f61b-87b0-4a68-92b1-c954de3153cf \"HTTP/1.1 200 OK\"\n",
      "INFO: HTTP Request: GET https://api.cloud.llamaindex.ai/api/parsing/job/f105f61b-87b0-4a68-92b1-c954de3153cf \"HTTP/1.1 200 OK\"\n",
      "INFO: HTTP Request: GET https://api.cloud.llamaindex.ai/api/parsing/job/f105f61b-87b0-4a68-92b1-c954de3153cf \"HTTP/1.1 200 OK\"\n",
      "INFO: HTTP Request: GET https://api.cloud.llamaindex.ai/api/parsing/job/f105f61b-87b0-4a68-92b1-c954de3153cf/result/markdown \"HTTP/1.1 200 OK\"\n"
     ]
    },
    {
     "name": "stdout",
     "output_type": "stream",
     "text": [
      "../data/out/md/241-Policy-New-Admission-Deadlinespdf.md saved.\n"
     ]
    },
    {
     "name": "stderr",
     "output_type": "stream",
     "text": [
      "INFO: HTTP Request: POST https://api.cloud.llamaindex.ai/api/parsing/upload \"HTTP/1.1 200 OK\"\n"
     ]
    },
    {
     "name": "stdout",
     "output_type": "stream",
     "text": [
      "Started parsing the file under job_id 544319b4-da5c-4573-97c5-12aa5663cfde\n"
     ]
    },
    {
     "name": "stderr",
     "output_type": "stream",
     "text": [
      "INFO: HTTP Request: GET https://api.cloud.llamaindex.ai/api/parsing/job/544319b4-da5c-4573-97c5-12aa5663cfde \"HTTP/1.1 200 OK\"\n",
      "INFO: HTTP Request: GET https://api.cloud.llamaindex.ai/api/parsing/job/544319b4-da5c-4573-97c5-12aa5663cfde \"HTTP/1.1 200 OK\"\n",
      "INFO: HTTP Request: GET https://api.cloud.llamaindex.ai/api/parsing/job/544319b4-da5c-4573-97c5-12aa5663cfde \"HTTP/1.1 200 OK\"\n",
      "INFO: HTTP Request: GET https://api.cloud.llamaindex.ai/api/parsing/job/544319b4-da5c-4573-97c5-12aa5663cfde \"HTTP/1.1 200 OK\"\n",
      "INFO: HTTP Request: GET https://api.cloud.llamaindex.ai/api/parsing/job/544319b4-da5c-4573-97c5-12aa5663cfde \"HTTP/1.1 200 OK\"\n",
      "INFO: HTTP Request: GET https://api.cloud.llamaindex.ai/api/parsing/job/544319b4-da5c-4573-97c5-12aa5663cfde/result/markdown \"HTTP/1.1 200 OK\"\n"
     ]
    },
    {
     "name": "stdout",
     "output_type": "stream",
     "text": [
      "../data/out/md/242-Policy-PATH-EnglishConnect-Naming-Convention-for-Groupspdf.md saved.\n"
     ]
    },
    {
     "name": "stderr",
     "output_type": "stream",
     "text": [
      "INFO: HTTP Request: POST https://api.cloud.llamaindex.ai/api/parsing/upload \"HTTP/1.1 200 OK\"\n"
     ]
    },
    {
     "name": "stdout",
     "output_type": "stream",
     "text": [
      "Started parsing the file under job_id b060eb2b-9b5f-4d27-8516-20508db30682\n"
     ]
    },
    {
     "name": "stderr",
     "output_type": "stream",
     "text": [
      "INFO: HTTP Request: GET https://api.cloud.llamaindex.ai/api/parsing/job/b060eb2b-9b5f-4d27-8516-20508db30682 \"HTTP/1.1 200 OK\"\n",
      "INFO: HTTP Request: GET https://api.cloud.llamaindex.ai/api/parsing/job/b060eb2b-9b5f-4d27-8516-20508db30682 \"HTTP/1.1 200 OK\"\n",
      "INFO: HTTP Request: GET https://api.cloud.llamaindex.ai/api/parsing/job/b060eb2b-9b5f-4d27-8516-20508db30682 \"HTTP/1.1 200 OK\"\n",
      "INFO: HTTP Request: GET https://api.cloud.llamaindex.ai/api/parsing/job/b060eb2b-9b5f-4d27-8516-20508db30682 \"HTTP/1.1 200 OK\"\n",
      "INFO: HTTP Request: GET https://api.cloud.llamaindex.ai/api/parsing/job/b060eb2b-9b5f-4d27-8516-20508db30682/result/markdown \"HTTP/1.1 200 OK\"\n"
     ]
    },
    {
     "name": "stdout",
     "output_type": "stream",
     "text": [
      "../data/out/md/243-Policy-PATH-Naming-Convention-for-Groupspdf.md saved.\n"
     ]
    },
    {
     "name": "stderr",
     "output_type": "stream",
     "text": [
      "INFO: HTTP Request: POST https://api.cloud.llamaindex.ai/api/parsing/upload \"HTTP/1.1 200 OK\"\n"
     ]
    },
    {
     "name": "stdout",
     "output_type": "stream",
     "text": [
      "Started parsing the file under job_id 1d90f392-9ac4-4db9-9477-bad48e64a2b9\n"
     ]
    },
    {
     "name": "stderr",
     "output_type": "stream",
     "text": [
      "INFO: HTTP Request: GET https://api.cloud.llamaindex.ai/api/parsing/job/1d90f392-9ac4-4db9-9477-bad48e64a2b9 \"HTTP/1.1 200 OK\"\n",
      "INFO: HTTP Request: GET https://api.cloud.llamaindex.ai/api/parsing/job/1d90f392-9ac4-4db9-9477-bad48e64a2b9/result/markdown \"HTTP/1.1 200 OK\"\n"
     ]
    },
    {
     "name": "stdout",
     "output_type": "stream",
     "text": [
      "../data/out/md/244-Policy-PATHNaming-Convention-for-Groupspdf.md saved.\n"
     ]
    },
    {
     "name": "stderr",
     "output_type": "stream",
     "text": [
      "INFO: HTTP Request: POST https://api.cloud.llamaindex.ai/api/parsing/upload \"HTTP/1.1 200 OK\"\n"
     ]
    },
    {
     "name": "stdout",
     "output_type": "stream",
     "text": [
      "Started parsing the file under job_id 8524f482-6308-4364-9cb4-9ca2490b561b\n"
     ]
    },
    {
     "name": "stderr",
     "output_type": "stream",
     "text": [
      "INFO: HTTP Request: GET https://api.cloud.llamaindex.ai/api/parsing/job/8524f482-6308-4364-9cb4-9ca2490b561b \"HTTP/1.1 200 OK\"\n",
      "INFO: HTTP Request: GET https://api.cloud.llamaindex.ai/api/parsing/job/8524f482-6308-4364-9cb4-9ca2490b561b \"HTTP/1.1 200 OK\"\n",
      "INFO: HTTP Request: GET https://api.cloud.llamaindex.ai/api/parsing/job/8524f482-6308-4364-9cb4-9ca2490b561b \"HTTP/1.1 200 OK\"\n",
      "INFO: HTTP Request: GET https://api.cloud.llamaindex.ai/api/parsing/job/8524f482-6308-4364-9cb4-9ca2490b561b \"HTTP/1.1 200 OK\"\n",
      "INFO: HTTP Request: GET https://api.cloud.llamaindex.ai/api/parsing/job/8524f482-6308-4364-9cb4-9ca2490b561b/result/markdown \"HTTP/1.1 200 OK\"\n"
     ]
    },
    {
     "name": "stdout",
     "output_type": "stream",
     "text": [
      "../data/out/md/245-Policy-Service-Missionary-Name-Badgespdf.md saved.\n"
     ]
    },
    {
     "name": "stderr",
     "output_type": "stream",
     "text": [
      "INFO: HTTP Request: POST https://api.cloud.llamaindex.ai/api/parsing/upload \"HTTP/1.1 200 OK\"\n"
     ]
    },
    {
     "name": "stdout",
     "output_type": "stream",
     "text": [
      "Started parsing the file under job_id fb978994-e7f2-4131-8fa6-7fe2a0a598e6\n"
     ]
    },
    {
     "name": "stderr",
     "output_type": "stream",
     "text": [
      "INFO: HTTP Request: GET https://api.cloud.llamaindex.ai/api/parsing/job/fb978994-e7f2-4131-8fa6-7fe2a0a598e6 \"HTTP/1.1 200 OK\"\n",
      "INFO: HTTP Request: GET https://api.cloud.llamaindex.ai/api/parsing/job/fb978994-e7f2-4131-8fa6-7fe2a0a598e6 \"HTTP/1.1 200 OK\"\n",
      "INFO: HTTP Request: GET https://api.cloud.llamaindex.ai/api/parsing/job/fb978994-e7f2-4131-8fa6-7fe2a0a598e6 \"HTTP/1.1 200 OK\"\n",
      "INFO: HTTP Request: GET https://api.cloud.llamaindex.ai/api/parsing/job/fb978994-e7f2-4131-8fa6-7fe2a0a598e6 \"HTTP/1.1 200 OK\"\n",
      "INFO: HTTP Request: GET https://api.cloud.llamaindex.ai/api/parsing/job/fb978994-e7f2-4131-8fa6-7fe2a0a598e6/result/markdown \"HTTP/1.1 200 OK\"\n"
     ]
    },
    {
     "name": "stdout",
     "output_type": "stream",
     "text": [
      "../data/out/md/246-Policy-Student-Grievance-Against-Missionary-Public-Viewingpdf.md saved.\n"
     ]
    },
    {
     "name": "stderr",
     "output_type": "stream",
     "text": [
      "INFO: HTTP Request: POST https://api.cloud.llamaindex.ai/api/parsing/upload \"HTTP/1.1 200 OK\"\n"
     ]
    },
    {
     "name": "stdout",
     "output_type": "stream",
     "text": [
      "Started parsing the file under job_id 56abff7b-1fb2-4d2a-8dcf-e9deb74eff0f\n"
     ]
    },
    {
     "name": "stderr",
     "output_type": "stream",
     "text": [
      "INFO: HTTP Request: GET https://api.cloud.llamaindex.ai/api/parsing/job/56abff7b-1fb2-4d2a-8dcf-e9deb74eff0f \"HTTP/1.1 200 OK\"\n",
      "INFO: HTTP Request: GET https://api.cloud.llamaindex.ai/api/parsing/job/56abff7b-1fb2-4d2a-8dcf-e9deb74eff0f \"HTTP/1.1 200 OK\"\n",
      "INFO: HTTP Request: GET https://api.cloud.llamaindex.ai/api/parsing/job/56abff7b-1fb2-4d2a-8dcf-e9deb74eff0f \"HTTP/1.1 200 OK\"\n",
      "INFO: HTTP Request: GET https://api.cloud.llamaindex.ai/api/parsing/job/56abff7b-1fb2-4d2a-8dcf-e9deb74eff0f/result/markdown \"HTTP/1.1 200 OK\"\n"
     ]
    },
    {
     "name": "stdout",
     "output_type": "stream",
     "text": [
      "../data/out/md/247-Policy-Student-Late-Fee-Policypdf.md saved.\n"
     ]
    },
    {
     "name": "stderr",
     "output_type": "stream",
     "text": [
      "INFO: HTTP Request: POST https://api.cloud.llamaindex.ai/api/parsing/upload \"HTTP/1.1 200 OK\"\n"
     ]
    },
    {
     "name": "stdout",
     "output_type": "stream",
     "text": [
      "Started parsing the file under job_id c871de42-1727-4cd4-b28a-c0b5b2a081a6\n"
     ]
    },
    {
     "name": "stderr",
     "output_type": "stream",
     "text": [
      "INFO: HTTP Request: GET https://api.cloud.llamaindex.ai/api/parsing/job/c871de42-1727-4cd4-b28a-c0b5b2a081a6 \"HTTP/1.1 200 OK\"\n",
      "INFO: HTTP Request: GET https://api.cloud.llamaindex.ai/api/parsing/job/c871de42-1727-4cd4-b28a-c0b5b2a081a6 \"HTTP/1.1 200 OK\"\n",
      "INFO: HTTP Request: GET https://api.cloud.llamaindex.ai/api/parsing/job/c871de42-1727-4cd4-b28a-c0b5b2a081a6 \"HTTP/1.1 200 OK\"\n",
      "INFO: HTTP Request: GET https://api.cloud.llamaindex.ai/api/parsing/job/c871de42-1727-4cd4-b28a-c0b5b2a081a6 \"HTTP/1.1 200 OK\"\n",
      "INFO: HTTP Request: GET https://api.cloud.llamaindex.ai/api/parsing/job/c871de42-1727-4cd4-b28a-c0b5b2a081a6 \"HTTP/1.1 200 OK\"\n",
      "INFO: HTTP Request: GET https://api.cloud.llamaindex.ai/api/parsing/job/c871de42-1727-4cd4-b28a-c0b5b2a081a6 \"HTTP/1.1 200 OK\"\n",
      "INFO: HTTP Request: GET https://api.cloud.llamaindex.ai/api/parsing/job/c871de42-1727-4cd4-b28a-c0b5b2a081a6 \"HTTP/1.1 200 OK\"\n",
      "INFO: HTTP Request: GET https://api.cloud.llamaindex.ai/api/parsing/job/c871de42-1727-4cd4-b28a-c0b5b2a081a6/result/markdown \"HTTP/1.1 200 OK\"\n"
     ]
    },
    {
     "name": "stdout",
     "output_type": "stream",
     "text": [
      "../data/out/md/248-Power-BI-Trainingpdf.md saved.\n"
     ]
    },
    {
     "name": "stderr",
     "output_type": "stream",
     "text": [
      "INFO: HTTP Request: POST https://api.cloud.llamaindex.ai/api/parsing/upload \"HTTP/1.1 200 OK\"\n"
     ]
    },
    {
     "name": "stdout",
     "output_type": "stream",
     "text": [
      "Started parsing the file under job_id 439c297f-ddbe-4478-8266-faa8d85eeeda\n"
     ]
    },
    {
     "name": "stderr",
     "output_type": "stream",
     "text": [
      "INFO: HTTP Request: GET https://api.cloud.llamaindex.ai/api/parsing/job/439c297f-ddbe-4478-8266-faa8d85eeeda \"HTTP/1.1 200 OK\"\n",
      "INFO: HTTP Request: GET https://api.cloud.llamaindex.ai/api/parsing/job/439c297f-ddbe-4478-8266-faa8d85eeeda \"HTTP/1.1 200 OK\"\n",
      "INFO: HTTP Request: GET https://api.cloud.llamaindex.ai/api/parsing/job/439c297f-ddbe-4478-8266-faa8d85eeeda \"HTTP/1.1 200 OK\"\n",
      "INFO: HTTP Request: GET https://api.cloud.llamaindex.ai/api/parsing/job/439c297f-ddbe-4478-8266-faa8d85eeeda \"HTTP/1.1 200 OK\"\n",
      "INFO: HTTP Request: GET https://api.cloud.llamaindex.ai/api/parsing/job/439c297f-ddbe-4478-8266-faa8d85eeeda/result/markdown \"HTTP/1.1 200 OK\"\n"
     ]
    },
    {
     "name": "stdout",
     "output_type": "stream",
     "text": [
      "../data/out/md/249-PowerBI-Reports-Overviewpdf.md saved.\n"
     ]
    },
    {
     "name": "stderr",
     "output_type": "stream",
     "text": [
      "INFO: HTTP Request: POST https://api.cloud.llamaindex.ai/api/parsing/upload \"HTTP/1.1 200 OK\"\n"
     ]
    },
    {
     "name": "stdout",
     "output_type": "stream",
     "text": [
      "Started parsing the file under job_id f74498b8-4e86-44d9-8844-2692cff6f0af\n"
     ]
    },
    {
     "name": "stderr",
     "output_type": "stream",
     "text": [
      "INFO: HTTP Request: GET https://api.cloud.llamaindex.ai/api/parsing/job/f74498b8-4e86-44d9-8844-2692cff6f0af \"HTTP/1.1 200 OK\"\n",
      "INFO: HTTP Request: GET https://api.cloud.llamaindex.ai/api/parsing/job/f74498b8-4e86-44d9-8844-2692cff6f0af \"HTTP/1.1 200 OK\"\n",
      "INFO: HTTP Request: GET https://api.cloud.llamaindex.ai/api/parsing/job/f74498b8-4e86-44d9-8844-2692cff6f0af \"HTTP/1.1 200 OK\"\n",
      "INFO: HTTP Request: GET https://api.cloud.llamaindex.ai/api/parsing/job/f74498b8-4e86-44d9-8844-2692cff6f0af \"HTTP/1.1 200 OK\"\n",
      "INFO: HTTP Request: GET https://api.cloud.llamaindex.ai/api/parsing/job/f74498b8-4e86-44d9-8844-2692cff6f0af \"HTTP/1.1 200 OK\"\n",
      "INFO: HTTP Request: GET https://api.cloud.llamaindex.ai/api/parsing/job/f74498b8-4e86-44d9-8844-2692cff6f0af \"HTTP/1.1 200 OK\"\n",
      "INFO: HTTP Request: GET https://api.cloud.llamaindex.ai/api/parsing/job/f74498b8-4e86-44d9-8844-2692cff6f0af/result/markdown \"HTTP/1.1 200 OK\"\n"
     ]
    },
    {
     "name": "stdout",
     "output_type": "stream",
     "text": [
      "../data/out/md/25-BYU-Idaho-Tutoring-Servicespdf.md saved.\n"
     ]
    },
    {
     "name": "stderr",
     "output_type": "stream",
     "text": [
      "INFO: HTTP Request: POST https://api.cloud.llamaindex.ai/api/parsing/upload \"HTTP/1.1 200 OK\"\n"
     ]
    },
    {
     "name": "stdout",
     "output_type": "stream",
     "text": [
      "Started parsing the file under job_id 8a9e1cb3-180e-4822-af73-536b64107e13\n"
     ]
    },
    {
     "name": "stderr",
     "output_type": "stream",
     "text": [
      "INFO: HTTP Request: GET https://api.cloud.llamaindex.ai/api/parsing/job/8a9e1cb3-180e-4822-af73-536b64107e13 \"HTTP/1.1 200 OK\"\n",
      "INFO: HTTP Request: GET https://api.cloud.llamaindex.ai/api/parsing/job/8a9e1cb3-180e-4822-af73-536b64107e13/result/markdown \"HTTP/1.1 200 OK\"\n"
     ]
    },
    {
     "name": "stdout",
     "output_type": "stream",
     "text": [
      "../data/out/md/250-Prepare-Excel-Sheets-for-Basic-Filteringpdf.md saved.\n"
     ]
    },
    {
     "name": "stderr",
     "output_type": "stream",
     "text": [
      "INFO: HTTP Request: POST https://api.cloud.llamaindex.ai/api/parsing/upload \"HTTP/1.1 200 OK\"\n"
     ]
    },
    {
     "name": "stdout",
     "output_type": "stream",
     "text": [
      "Started parsing the file under job_id fd873a52-9972-48f9-9291-cd7fa7f78181\n"
     ]
    },
    {
     "name": "stderr",
     "output_type": "stream",
     "text": [
      "INFO: HTTP Request: GET https://api.cloud.llamaindex.ai/api/parsing/job/fd873a52-9972-48f9-9291-cd7fa7f78181 \"HTTP/1.1 200 OK\"\n",
      "INFO: HTTP Request: GET https://api.cloud.llamaindex.ai/api/parsing/job/fd873a52-9972-48f9-9291-cd7fa7f78181 \"HTTP/1.1 200 OK\"\n",
      "INFO: HTTP Request: GET https://api.cloud.llamaindex.ai/api/parsing/job/fd873a52-9972-48f9-9291-cd7fa7f78181 \"HTTP/1.1 200 OK\"\n",
      "INFO: HTTP Request: GET https://api.cloud.llamaindex.ai/api/parsing/job/fd873a52-9972-48f9-9291-cd7fa7f78181 \"HTTP/1.1 200 OK\"\n",
      "INFO: HTTP Request: GET https://api.cloud.llamaindex.ai/api/parsing/job/fd873a52-9972-48f9-9291-cd7fa7f78181/result/markdown \"HTTP/1.1 200 OK\"\n"
     ]
    },
    {
     "name": "stdout",
     "output_type": "stream",
     "text": [
      "../data/out/md/251-Presenting-at-Ward-and-Stake-Councilpdf.md saved.\n"
     ]
    },
    {
     "name": "stderr",
     "output_type": "stream",
     "text": [
      "INFO: HTTP Request: POST https://api.cloud.llamaindex.ai/api/parsing/upload \"HTTP/1.1 200 OK\"\n"
     ]
    },
    {
     "name": "stdout",
     "output_type": "stream",
     "text": [
      "Started parsing the file under job_id 271db3eb-078a-4876-a1ec-83ffcf6e0c20\n"
     ]
    },
    {
     "name": "stderr",
     "output_type": "stream",
     "text": [
      "INFO: HTTP Request: GET https://api.cloud.llamaindex.ai/api/parsing/job/271db3eb-078a-4876-a1ec-83ffcf6e0c20 \"HTTP/1.1 200 OK\"\n",
      "INFO: HTTP Request: GET https://api.cloud.llamaindex.ai/api/parsing/job/271db3eb-078a-4876-a1ec-83ffcf6e0c20 \"HTTP/1.1 200 OK\"\n",
      "INFO: HTTP Request: GET https://api.cloud.llamaindex.ai/api/parsing/job/271db3eb-078a-4876-a1ec-83ffcf6e0c20 \"HTTP/1.1 200 OK\"\n",
      "INFO: HTTP Request: GET https://api.cloud.llamaindex.ai/api/parsing/job/271db3eb-078a-4876-a1ec-83ffcf6e0c20 \"HTTP/1.1 200 OK\"\n",
      "INFO: HTTP Request: GET https://api.cloud.llamaindex.ai/api/parsing/job/271db3eb-078a-4876-a1ec-83ffcf6e0c20/result/markdown \"HTTP/1.1 200 OK\"\n"
     ]
    },
    {
     "name": "stdout",
     "output_type": "stream",
     "text": [
      "../data/out/md/252-Printing-an-Individual-Certificate-of-Completionpdf.md saved.\n"
     ]
    },
    {
     "name": "stderr",
     "output_type": "stream",
     "text": [
      "INFO: HTTP Request: POST https://api.cloud.llamaindex.ai/api/parsing/upload \"HTTP/1.1 200 OK\"\n"
     ]
    },
    {
     "name": "stdout",
     "output_type": "stream",
     "text": [
      "Started parsing the file under job_id 3f028d2a-8b48-4993-916e-8d5690228bd3\n"
     ]
    },
    {
     "name": "stderr",
     "output_type": "stream",
     "text": [
      "INFO: HTTP Request: GET https://api.cloud.llamaindex.ai/api/parsing/job/3f028d2a-8b48-4993-916e-8d5690228bd3 \"HTTP/1.1 200 OK\"\n",
      "INFO: HTTP Request: GET https://api.cloud.llamaindex.ai/api/parsing/job/3f028d2a-8b48-4993-916e-8d5690228bd3 \"HTTP/1.1 200 OK\"\n",
      "INFO: HTTP Request: GET https://api.cloud.llamaindex.ai/api/parsing/job/3f028d2a-8b48-4993-916e-8d5690228bd3 \"HTTP/1.1 200 OK\"\n",
      "INFO: HTTP Request: GET https://api.cloud.llamaindex.ai/api/parsing/job/3f028d2a-8b48-4993-916e-8d5690228bd3 \"HTTP/1.1 200 OK\"\n",
      "INFO: HTTP Request: GET https://api.cloud.llamaindex.ai/api/parsing/job/3f028d2a-8b48-4993-916e-8d5690228bd3 \"HTTP/1.1 200 OK\"\n",
      "INFO: HTTP Request: GET https://api.cloud.llamaindex.ai/api/parsing/job/3f028d2a-8b48-4993-916e-8d5690228bd3 \"HTTP/1.1 200 OK\"\n",
      "INFO: HTTP Request: GET https://api.cloud.llamaindex.ai/api/parsing/job/3f028d2a-8b48-4993-916e-8d5690228bd3/result/markdown \"HTTP/1.1 200 OK\"\n"
     ]
    },
    {
     "name": "stdout",
     "output_type": "stream",
     "text": [
      "../data/out/md/253-Providing-Christlike-Feedbackpdf.md saved.\n"
     ]
    },
    {
     "name": "stderr",
     "output_type": "stream",
     "text": [
      "INFO: HTTP Request: POST https://api.cloud.llamaindex.ai/api/parsing/upload \"HTTP/1.1 200 OK\"\n"
     ]
    },
    {
     "name": "stdout",
     "output_type": "stream",
     "text": [
      "Started parsing the file under job_id 998974e5-4b9a-4ffa-8a38-a3c1030ef75f\n"
     ]
    },
    {
     "name": "stderr",
     "output_type": "stream",
     "text": [
      "INFO: HTTP Request: GET https://api.cloud.llamaindex.ai/api/parsing/job/998974e5-4b9a-4ffa-8a38-a3c1030ef75f \"HTTP/1.1 200 OK\"\n",
      "INFO: HTTP Request: GET https://api.cloud.llamaindex.ai/api/parsing/job/998974e5-4b9a-4ffa-8a38-a3c1030ef75f \"HTTP/1.1 200 OK\"\n",
      "INFO: HTTP Request: GET https://api.cloud.llamaindex.ai/api/parsing/job/998974e5-4b9a-4ffa-8a38-a3c1030ef75f \"HTTP/1.1 200 OK\"\n",
      "INFO: HTTP Request: GET https://api.cloud.llamaindex.ai/api/parsing/job/998974e5-4b9a-4ffa-8a38-a3c1030ef75f \"HTTP/1.1 200 OK\"\n",
      "INFO: HTTP Request: GET https://api.cloud.llamaindex.ai/api/parsing/job/998974e5-4b9a-4ffa-8a38-a3c1030ef75f \"HTTP/1.1 200 OK\"\n",
      "INFO: HTTP Request: GET https://api.cloud.llamaindex.ai/api/parsing/job/998974e5-4b9a-4ffa-8a38-a3c1030ef75f \"HTTP/1.1 200 OK\"\n",
      "INFO: HTTP Request: GET https://api.cloud.llamaindex.ai/api/parsing/job/998974e5-4b9a-4ffa-8a38-a3c1030ef75f \"HTTP/1.1 200 OK\"\n",
      "INFO: HTTP Request: GET https://api.cloud.llamaindex.ai/api/parsing/job/998974e5-4b9a-4ffa-8a38-a3c1030ef75f \"HTTP/1.1 200 OK\"\n",
      "INFO: HTTP Request: GET https://api.cloud.llamaindex.ai/api/parsing/job/998974e5-4b9a-4ffa-8a38-a3c1030ef75f \"HTTP/1.1 200 OK\"\n",
      "INFO: HTTP Request: GET https://api.cloud.llamaindex.ai/api/parsing/job/998974e5-4b9a-4ffa-8a38-a3c1030ef75f \"HTTP/1.1 200 OK\"\n"
     ]
    },
    {
     "name": "stdout",
     "output_type": "stream",
     "text": [
      "."
     ]
    },
    {
     "name": "stderr",
     "output_type": "stream",
     "text": [
      "INFO: HTTP Request: GET https://api.cloud.llamaindex.ai/api/parsing/job/998974e5-4b9a-4ffa-8a38-a3c1030ef75f \"HTTP/1.1 200 OK\"\n",
      "INFO: HTTP Request: GET https://api.cloud.llamaindex.ai/api/parsing/job/998974e5-4b9a-4ffa-8a38-a3c1030ef75f \"HTTP/1.1 200 OK\"\n",
      "INFO: HTTP Request: GET https://api.cloud.llamaindex.ai/api/parsing/job/998974e5-4b9a-4ffa-8a38-a3c1030ef75f \"HTTP/1.1 200 OK\"\n",
      "INFO: HTTP Request: GET https://api.cloud.llamaindex.ai/api/parsing/job/998974e5-4b9a-4ffa-8a38-a3c1030ef75f \"HTTP/1.1 200 OK\"\n",
      "INFO: HTTP Request: GET https://api.cloud.llamaindex.ai/api/parsing/job/998974e5-4b9a-4ffa-8a38-a3c1030ef75f \"HTTP/1.1 200 OK\"\n",
      "INFO: HTTP Request: GET https://api.cloud.llamaindex.ai/api/parsing/job/998974e5-4b9a-4ffa-8a38-a3c1030ef75f \"HTTP/1.1 200 OK\"\n",
      "INFO: HTTP Request: GET https://api.cloud.llamaindex.ai/api/parsing/job/998974e5-4b9a-4ffa-8a38-a3c1030ef75f \"HTTP/1.1 200 OK\"\n",
      "INFO: HTTP Request: GET https://api.cloud.llamaindex.ai/api/parsing/job/998974e5-4b9a-4ffa-8a38-a3c1030ef75f/result/markdown \"HTTP/1.1 200 OK\"\n"
     ]
    },
    {
     "name": "stdout",
     "output_type": "stream",
     "text": [
      "../data/out/md/254-RUSSIAN-CSM-Application-Octpdf.md saved.\n"
     ]
    },
    {
     "name": "stderr",
     "output_type": "stream",
     "text": [
      "INFO: HTTP Request: POST https://api.cloud.llamaindex.ai/api/parsing/upload \"HTTP/1.1 200 OK\"\n"
     ]
    },
    {
     "name": "stdout",
     "output_type": "stream",
     "text": [
      "Started parsing the file under job_id e0a712b5-7e06-496a-ad4a-6309d31033e7\n"
     ]
    },
    {
     "name": "stderr",
     "output_type": "stream",
     "text": [
      "INFO: HTTP Request: GET https://api.cloud.llamaindex.ai/api/parsing/job/e0a712b5-7e06-496a-ad4a-6309d31033e7 \"HTTP/1.1 200 OK\"\n",
      "INFO: HTTP Request: GET https://api.cloud.llamaindex.ai/api/parsing/job/e0a712b5-7e06-496a-ad4a-6309d31033e7 \"HTTP/1.1 200 OK\"\n",
      "INFO: HTTP Request: GET https://api.cloud.llamaindex.ai/api/parsing/job/e0a712b5-7e06-496a-ad4a-6309d31033e7 \"HTTP/1.1 200 OK\"\n",
      "INFO: HTTP Request: GET https://api.cloud.llamaindex.ai/api/parsing/job/e0a712b5-7e06-496a-ad4a-6309d31033e7 \"HTTP/1.1 200 OK\"\n",
      "INFO: HTTP Request: GET https://api.cloud.llamaindex.ai/api/parsing/job/e0a712b5-7e06-496a-ad4a-6309d31033e7/result/markdown \"HTTP/1.1 200 OK\"\n"
     ]
    },
    {
     "name": "stdout",
     "output_type": "stream",
     "text": [
      "../data/out/md/255-Reset-Filterspdf.md saved.\n"
     ]
    },
    {
     "name": "stderr",
     "output_type": "stream",
     "text": [
      "INFO: HTTP Request: POST https://api.cloud.llamaindex.ai/api/parsing/upload \"HTTP/1.1 200 OK\"\n"
     ]
    },
    {
     "name": "stdout",
     "output_type": "stream",
     "text": [
      "Started parsing the file under job_id 0f08118a-08ac-4b25-b2bb-ecd80c899bdc\n"
     ]
    },
    {
     "name": "stderr",
     "output_type": "stream",
     "text": [
      "INFO: HTTP Request: GET https://api.cloud.llamaindex.ai/api/parsing/job/0f08118a-08ac-4b25-b2bb-ecd80c899bdc \"HTTP/1.1 200 OK\"\n",
      "INFO: HTTP Request: GET https://api.cloud.llamaindex.ai/api/parsing/job/0f08118a-08ac-4b25-b2bb-ecd80c899bdc \"HTTP/1.1 200 OK\"\n",
      "INFO: HTTP Request: GET https://api.cloud.llamaindex.ai/api/parsing/job/0f08118a-08ac-4b25-b2bb-ecd80c899bdc \"HTTP/1.1 200 OK\"\n",
      "INFO: HTTP Request: GET https://api.cloud.llamaindex.ai/api/parsing/job/0f08118a-08ac-4b25-b2bb-ecd80c899bdc \"HTTP/1.1 200 OK\"\n",
      "INFO: HTTP Request: GET https://api.cloud.llamaindex.ai/api/parsing/job/0f08118a-08ac-4b25-b2bb-ecd80c899bdc/result/markdown \"HTTP/1.1 200 OK\"\n"
     ]
    },
    {
     "name": "stdout",
     "output_type": "stream",
     "text": [
      "../data/out/md/256-Restrictions-for-Applying-to-BYUPWpdf.md saved.\n"
     ]
    },
    {
     "name": "stderr",
     "output_type": "stream",
     "text": [
      "INFO: HTTP Request: POST https://api.cloud.llamaindex.ai/api/parsing/upload \"HTTP/1.1 200 OK\"\n"
     ]
    },
    {
     "name": "stdout",
     "output_type": "stream",
     "text": [
      "Started parsing the file under job_id 279ac26d-9aa9-465b-ab4c-b84c38413c82\n"
     ]
    },
    {
     "name": "stderr",
     "output_type": "stream",
     "text": [
      "INFO: HTTP Request: GET https://api.cloud.llamaindex.ai/api/parsing/job/279ac26d-9aa9-465b-ab4c-b84c38413c82 \"HTTP/1.1 200 OK\"\n",
      "INFO: HTTP Request: GET https://api.cloud.llamaindex.ai/api/parsing/job/279ac26d-9aa9-465b-ab4c-b84c38413c82 \"HTTP/1.1 200 OK\"\n",
      "INFO: HTTP Request: GET https://api.cloud.llamaindex.ai/api/parsing/job/279ac26d-9aa9-465b-ab4c-b84c38413c82 \"HTTP/1.1 200 OK\"\n",
      "INFO: HTTP Request: GET https://api.cloud.llamaindex.ai/api/parsing/job/279ac26d-9aa9-465b-ab4c-b84c38413c82 \"HTTP/1.1 200 OK\"\n",
      "INFO: HTTP Request: GET https://api.cloud.llamaindex.ai/api/parsing/job/279ac26d-9aa9-465b-ab4c-b84c38413c82 \"HTTP/1.1 200 OK\"\n",
      "INFO: HTTP Request: GET https://api.cloud.llamaindex.ai/api/parsing/job/279ac26d-9aa9-465b-ab4c-b84c38413c82 \"HTTP/1.1 200 OK\"\n",
      "INFO: HTTP Request: GET https://api.cloud.llamaindex.ai/api/parsing/job/279ac26d-9aa9-465b-ab4c-b84c38413c82/result/markdown \"HTTP/1.1 200 OK\"\n"
     ]
    },
    {
     "name": "stdout",
     "output_type": "stream",
     "text": [
      "../data/out/md/257-Restructuring-Your-Area-in-PATHpdf.md saved.\n"
     ]
    },
    {
     "name": "stderr",
     "output_type": "stream",
     "text": [
      "INFO: HTTP Request: POST https://api.cloud.llamaindex.ai/api/parsing/upload \"HTTP/1.1 200 OK\"\n"
     ]
    },
    {
     "name": "stdout",
     "output_type": "stream",
     "text": [
      "Started parsing the file under job_id f0db75e9-90a3-4b18-8aca-709d546bb79d\n"
     ]
    },
    {
     "name": "stderr",
     "output_type": "stream",
     "text": [
      "INFO: HTTP Request: GET https://api.cloud.llamaindex.ai/api/parsing/job/f0db75e9-90a3-4b18-8aca-709d546bb79d \"HTTP/1.1 200 OK\"\n",
      "INFO: HTTP Request: GET https://api.cloud.llamaindex.ai/api/parsing/job/f0db75e9-90a3-4b18-8aca-709d546bb79d/result/markdown \"HTTP/1.1 200 OK\"\n"
     ]
    },
    {
     "name": "stdout",
     "output_type": "stream",
     "text": [
      "../data/out/md/257-Restructuring-Your-Area-in-PATHpdf.md saved.\n"
     ]
    },
    {
     "name": "stderr",
     "output_type": "stream",
     "text": [
      "INFO: HTTP Request: POST https://api.cloud.llamaindex.ai/api/parsing/upload \"HTTP/1.1 200 OK\"\n"
     ]
    },
    {
     "name": "stdout",
     "output_type": "stream",
     "text": [
      "Started parsing the file under job_id b7366727-310e-4e30-a167-9576fbd5a30f\n"
     ]
    },
    {
     "name": "stderr",
     "output_type": "stream",
     "text": [
      "INFO: HTTP Request: GET https://api.cloud.llamaindex.ai/api/parsing/job/b7366727-310e-4e30-a167-9576fbd5a30f \"HTTP/1.1 200 OK\"\n",
      "INFO: HTTP Request: GET https://api.cloud.llamaindex.ai/api/parsing/job/b7366727-310e-4e30-a167-9576fbd5a30f \"HTTP/1.1 200 OK\"\n",
      "INFO: HTTP Request: GET https://api.cloud.llamaindex.ai/api/parsing/job/b7366727-310e-4e30-a167-9576fbd5a30f \"HTTP/1.1 200 OK\"\n",
      "INFO: HTTP Request: GET https://api.cloud.llamaindex.ai/api/parsing/job/b7366727-310e-4e30-a167-9576fbd5a30f \"HTTP/1.1 200 OK\"\n",
      "INFO: HTTP Request: GET https://api.cloud.llamaindex.ai/api/parsing/job/b7366727-310e-4e30-a167-9576fbd5a30f \"HTTP/1.1 200 OK\"\n",
      "INFO: HTTP Request: GET https://api.cloud.llamaindex.ai/api/parsing/job/b7366727-310e-4e30-a167-9576fbd5a30f \"HTTP/1.1 200 OK\"\n",
      "INFO: HTTP Request: GET https://api.cloud.llamaindex.ai/api/parsing/job/b7366727-310e-4e30-a167-9576fbd5a30f/result/markdown \"HTTP/1.1 200 OK\"\n"
     ]
    },
    {
     "name": "stdout",
     "output_type": "stream",
     "text": [
      "../data/out/md/258-SHEP---Building-a-Community-of-Friendshippdf.md saved.\n"
     ]
    },
    {
     "name": "stderr",
     "output_type": "stream",
     "text": [
      "INFO: HTTP Request: POST https://api.cloud.llamaindex.ai/api/parsing/upload \"HTTP/1.1 200 OK\"\n"
     ]
    },
    {
     "name": "stdout",
     "output_type": "stream",
     "text": [
      "Started parsing the file under job_id 7685d269-4e5b-4e7a-8ddb-d04ee7a26bdd\n"
     ]
    },
    {
     "name": "stderr",
     "output_type": "stream",
     "text": [
      "INFO: HTTP Request: GET https://api.cloud.llamaindex.ai/api/parsing/job/7685d269-4e5b-4e7a-8ddb-d04ee7a26bdd \"HTTP/1.1 200 OK\"\n",
      "INFO: HTTP Request: GET https://api.cloud.llamaindex.ai/api/parsing/job/7685d269-4e5b-4e7a-8ddb-d04ee7a26bdd \"HTTP/1.1 200 OK\"\n",
      "INFO: HTTP Request: GET https://api.cloud.llamaindex.ai/api/parsing/job/7685d269-4e5b-4e7a-8ddb-d04ee7a26bdd \"HTTP/1.1 200 OK\"\n",
      "INFO: HTTP Request: GET https://api.cloud.llamaindex.ai/api/parsing/job/7685d269-4e5b-4e7a-8ddb-d04ee7a26bdd \"HTTP/1.1 200 OK\"\n",
      "INFO: HTTP Request: GET https://api.cloud.llamaindex.ai/api/parsing/job/7685d269-4e5b-4e7a-8ddb-d04ee7a26bdd \"HTTP/1.1 200 OK\"\n",
      "INFO: HTTP Request: GET https://api.cloud.llamaindex.ai/api/parsing/job/7685d269-4e5b-4e7a-8ddb-d04ee7a26bdd \"HTTP/1.1 200 OK\"\n",
      "INFO: HTTP Request: GET https://api.cloud.llamaindex.ai/api/parsing/job/7685d269-4e5b-4e7a-8ddb-d04ee7a26bdd/result/markdown \"HTTP/1.1 200 OK\"\n"
     ]
    },
    {
     "name": "stdout",
     "output_type": "stream",
     "text": [
      "../data/out/md/259-SHEP---Lending-Money-to-Studentspdf.md saved.\n"
     ]
    },
    {
     "name": "stderr",
     "output_type": "stream",
     "text": [
      "INFO: HTTP Request: POST https://api.cloud.llamaindex.ai/api/parsing/upload \"HTTP/1.1 200 OK\"\n"
     ]
    },
    {
     "name": "stdout",
     "output_type": "stream",
     "text": [
      "Started parsing the file under job_id b4fedcd6-ab6c-4ab8-ae0f-faa734482b41\n"
     ]
    },
    {
     "name": "stderr",
     "output_type": "stream",
     "text": [
      "INFO: HTTP Request: GET https://api.cloud.llamaindex.ai/api/parsing/job/b4fedcd6-ab6c-4ab8-ae0f-faa734482b41 \"HTTP/1.1 200 OK\"\n",
      "INFO: HTTP Request: GET https://api.cloud.llamaindex.ai/api/parsing/job/b4fedcd6-ab6c-4ab8-ae0f-faa734482b41 \"HTTP/1.1 200 OK\"\n",
      "INFO: HTTP Request: GET https://api.cloud.llamaindex.ai/api/parsing/job/b4fedcd6-ab6c-4ab8-ae0f-faa734482b41 \"HTTP/1.1 200 OK\"\n",
      "INFO: HTTP Request: GET https://api.cloud.llamaindex.ai/api/parsing/job/b4fedcd6-ab6c-4ab8-ae0f-faa734482b41 \"HTTP/1.1 200 OK\"\n",
      "INFO: HTTP Request: GET https://api.cloud.llamaindex.ai/api/parsing/job/b4fedcd6-ab6c-4ab8-ae0f-faa734482b41 \"HTTP/1.1 200 OK\"\n",
      "INFO: HTTP Request: GET https://api.cloud.llamaindex.ai/api/parsing/job/b4fedcd6-ab6c-4ab8-ae0f-faa734482b41/result/markdown \"HTTP/1.1 200 OK\"\n"
     ]
    },
    {
     "name": "stdout",
     "output_type": "stream",
     "text": [
      "../data/out/md/26-BYU-PW-Strategypdf.md saved.\n"
     ]
    },
    {
     "name": "stderr",
     "output_type": "stream",
     "text": [
      "INFO: HTTP Request: POST https://api.cloud.llamaindex.ai/api/parsing/upload \"HTTP/1.1 200 OK\"\n"
     ]
    },
    {
     "name": "stdout",
     "output_type": "stream",
     "text": [
      "Started parsing the file under job_id aea7bd0a-9986-44db-92ab-3790ad536224\n"
     ]
    },
    {
     "name": "stderr",
     "output_type": "stream",
     "text": [
      "INFO: HTTP Request: GET https://api.cloud.llamaindex.ai/api/parsing/job/aea7bd0a-9986-44db-92ab-3790ad536224 \"HTTP/1.1 200 OK\"\n",
      "INFO: HTTP Request: GET https://api.cloud.llamaindex.ai/api/parsing/job/aea7bd0a-9986-44db-92ab-3790ad536224 \"HTTP/1.1 200 OK\"\n",
      "INFO: HTTP Request: GET https://api.cloud.llamaindex.ai/api/parsing/job/aea7bd0a-9986-44db-92ab-3790ad536224 \"HTTP/1.1 200 OK\"\n",
      "INFO: HTTP Request: GET https://api.cloud.llamaindex.ai/api/parsing/job/aea7bd0a-9986-44db-92ab-3790ad536224 \"HTTP/1.1 200 OK\"\n",
      "INFO: HTTP Request: GET https://api.cloud.llamaindex.ai/api/parsing/job/aea7bd0a-9986-44db-92ab-3790ad536224 \"HTTP/1.1 200 OK\"\n",
      "INFO: HTTP Request: GET https://api.cloud.llamaindex.ai/api/parsing/job/aea7bd0a-9986-44db-92ab-3790ad536224 \"HTTP/1.1 200 OK\"\n",
      "INFO: HTTP Request: GET https://api.cloud.llamaindex.ai/api/parsing/job/aea7bd0a-9986-44db-92ab-3790ad536224 \"HTTP/1.1 200 OK\"\n",
      "INFO: HTTP Request: GET https://api.cloud.llamaindex.ai/api/parsing/job/aea7bd0a-9986-44db-92ab-3790ad536224 \"HTTP/1.1 200 OK\"\n",
      "INFO: HTTP Request: GET https://api.cloud.llamaindex.ai/api/parsing/job/aea7bd0a-9986-44db-92ab-3790ad536224 \"HTTP/1.1 200 OK\"\n",
      "INFO: HTTP Request: GET https://api.cloud.llamaindex.ai/api/parsing/job/aea7bd0a-9986-44db-92ab-3790ad536224 \"HTTP/1.1 200 OK\"\n"
     ]
    },
    {
     "name": "stdout",
     "output_type": "stream",
     "text": [
      "."
     ]
    },
    {
     "name": "stderr",
     "output_type": "stream",
     "text": [
      "INFO: HTTP Request: GET https://api.cloud.llamaindex.ai/api/parsing/job/aea7bd0a-9986-44db-92ab-3790ad536224 \"HTTP/1.1 200 OK\"\n",
      "INFO: HTTP Request: GET https://api.cloud.llamaindex.ai/api/parsing/job/aea7bd0a-9986-44db-92ab-3790ad536224/result/markdown \"HTTP/1.1 200 OK\"\n"
     ]
    },
    {
     "name": "stdout",
     "output_type": "stream",
     "text": [
      "../data/out/md/260-SPANISH-CSM-Application-Octpdf.md saved.\n"
     ]
    },
    {
     "name": "stderr",
     "output_type": "stream",
     "text": [
      "INFO: HTTP Request: POST https://api.cloud.llamaindex.ai/api/parsing/upload \"HTTP/1.1 200 OK\"\n"
     ]
    },
    {
     "name": "stdout",
     "output_type": "stream",
     "text": [
      "Started parsing the file under job_id c480c760-089c-46c6-89b2-8dd2ceed6642\n"
     ]
    },
    {
     "name": "stderr",
     "output_type": "stream",
     "text": [
      "INFO: HTTP Request: GET https://api.cloud.llamaindex.ai/api/parsing/job/c480c760-089c-46c6-89b2-8dd2ceed6642 \"HTTP/1.1 200 OK\"\n",
      "INFO: HTTP Request: GET https://api.cloud.llamaindex.ai/api/parsing/job/c480c760-089c-46c6-89b2-8dd2ceed6642 \"HTTP/1.1 200 OK\"\n",
      "INFO: HTTP Request: GET https://api.cloud.llamaindex.ai/api/parsing/job/c480c760-089c-46c6-89b2-8dd2ceed6642 \"HTTP/1.1 200 OK\"\n",
      "INFO: HTTP Request: GET https://api.cloud.llamaindex.ai/api/parsing/job/c480c760-089c-46c6-89b2-8dd2ceed6642 \"HTTP/1.1 200 OK\"\n",
      "INFO: HTTP Request: GET https://api.cloud.llamaindex.ai/api/parsing/job/c480c760-089c-46c6-89b2-8dd2ceed6642/result/markdown \"HTTP/1.1 200 OK\"\n"
     ]
    },
    {
     "name": "stdout",
     "output_type": "stream",
     "text": [
      "../data/out/md/261-Sacrament-Meeting-Talkspdf.md saved.\n"
     ]
    },
    {
     "name": "stderr",
     "output_type": "stream",
     "text": [
      "INFO: HTTP Request: POST https://api.cloud.llamaindex.ai/api/parsing/upload \"HTTP/1.1 200 OK\"\n"
     ]
    },
    {
     "name": "stdout",
     "output_type": "stream",
     "text": [
      "Started parsing the file under job_id c52066a8-feb0-45f3-92c2-c66735c62244\n"
     ]
    },
    {
     "name": "stderr",
     "output_type": "stream",
     "text": [
      "INFO: HTTP Request: GET https://api.cloud.llamaindex.ai/api/parsing/job/c52066a8-feb0-45f3-92c2-c66735c62244 \"HTTP/1.1 200 OK\"\n",
      "INFO: HTTP Request: GET https://api.cloud.llamaindex.ai/api/parsing/job/c52066a8-feb0-45f3-92c2-c66735c62244/result/markdown \"HTTP/1.1 200 OK\"\n"
     ]
    },
    {
     "name": "stdout",
     "output_type": "stream",
     "text": [
      "../data/out/md/262-Scholarship-Informationpdf.md saved.\n"
     ]
    },
    {
     "name": "stderr",
     "output_type": "stream",
     "text": [
      "INFO: HTTP Request: POST https://api.cloud.llamaindex.ai/api/parsing/upload \"HTTP/1.1 200 OK\"\n"
     ]
    },
    {
     "name": "stdout",
     "output_type": "stream",
     "text": [
      "Started parsing the file under job_id bd8129f4-f03a-4ad9-8e69-d336ab2403e0\n"
     ]
    },
    {
     "name": "stderr",
     "output_type": "stream",
     "text": [
      "INFO: HTTP Request: GET https://api.cloud.llamaindex.ai/api/parsing/job/bd8129f4-f03a-4ad9-8e69-d336ab2403e0 \"HTTP/1.1 200 OK\"\n",
      "INFO: HTTP Request: GET https://api.cloud.llamaindex.ai/api/parsing/job/bd8129f4-f03a-4ad9-8e69-d336ab2403e0 \"HTTP/1.1 200 OK\"\n",
      "INFO: HTTP Request: GET https://api.cloud.llamaindex.ai/api/parsing/job/bd8129f4-f03a-4ad9-8e69-d336ab2403e0 \"HTTP/1.1 200 OK\"\n",
      "INFO: HTTP Request: GET https://api.cloud.llamaindex.ai/api/parsing/job/bd8129f4-f03a-4ad9-8e69-d336ab2403e0 \"HTTP/1.1 200 OK\"\n",
      "INFO: HTTP Request: GET https://api.cloud.llamaindex.ai/api/parsing/job/bd8129f4-f03a-4ad9-8e69-d336ab2403e0 \"HTTP/1.1 200 OK\"\n",
      "INFO: HTTP Request: GET https://api.cloud.llamaindex.ai/api/parsing/job/bd8129f4-f03a-4ad9-8e69-d336ab2403e0 \"HTTP/1.1 200 OK\"\n",
      "INFO: HTTP Request: GET https://api.cloud.llamaindex.ai/api/parsing/job/bd8129f4-f03a-4ad9-8e69-d336ab2403e0/result/markdown \"HTTP/1.1 200 OK\"\n"
     ]
    },
    {
     "name": "stdout",
     "output_type": "stream",
     "text": [
      "../data/out/md/263-Scholarships-for-PathwayConnectpdf.md saved.\n"
     ]
    },
    {
     "name": "stderr",
     "output_type": "stream",
     "text": [
      "INFO: HTTP Request: POST https://api.cloud.llamaindex.ai/api/parsing/upload \"HTTP/1.1 200 OK\"\n"
     ]
    },
    {
     "name": "stdout",
     "output_type": "stream",
     "text": [
      "Started parsing the file under job_id f483819b-202e-44af-893a-297e5451cb44\n"
     ]
    },
    {
     "name": "stderr",
     "output_type": "stream",
     "text": [
      "INFO: HTTP Request: GET https://api.cloud.llamaindex.ai/api/parsing/job/f483819b-202e-44af-893a-297e5451cb44 \"HTTP/1.1 200 OK\"\n",
      "INFO: HTTP Request: GET https://api.cloud.llamaindex.ai/api/parsing/job/f483819b-202e-44af-893a-297e5451cb44/result/markdown \"HTTP/1.1 200 OK\"\n"
     ]
    },
    {
     "name": "stdout",
     "output_type": "stream",
     "text": [
      "../data/out/md/264-Scriptures-Quotes-and-Talks-About-Educationpdf.md saved.\n"
     ]
    },
    {
     "name": "stderr",
     "output_type": "stream",
     "text": [
      "INFO: HTTP Request: POST https://api.cloud.llamaindex.ai/api/parsing/upload \"HTTP/1.1 200 OK\"\n"
     ]
    },
    {
     "name": "stdout",
     "output_type": "stream",
     "text": [
      "Started parsing the file under job_id b3423dc6-ef6e-4b87-8823-89fdeb8f676f\n"
     ]
    },
    {
     "name": "stderr",
     "output_type": "stream",
     "text": [
      "INFO: HTTP Request: GET https://api.cloud.llamaindex.ai/api/parsing/job/b3423dc6-ef6e-4b87-8823-89fdeb8f676f \"HTTP/1.1 200 OK\"\n",
      "INFO: HTTP Request: GET https://api.cloud.llamaindex.ai/api/parsing/job/b3423dc6-ef6e-4b87-8823-89fdeb8f676f \"HTTP/1.1 200 OK\"\n",
      "INFO: HTTP Request: GET https://api.cloud.llamaindex.ai/api/parsing/job/b3423dc6-ef6e-4b87-8823-89fdeb8f676f \"HTTP/1.1 200 OK\"\n",
      "INFO: HTTP Request: GET https://api.cloud.llamaindex.ai/api/parsing/job/b3423dc6-ef6e-4b87-8823-89fdeb8f676f \"HTTP/1.1 200 OK\"\n",
      "INFO: HTTP Request: GET https://api.cloud.llamaindex.ai/api/parsing/job/b3423dc6-ef6e-4b87-8823-89fdeb8f676f \"HTTP/1.1 200 OK\"\n",
      "INFO: HTTP Request: GET https://api.cloud.llamaindex.ai/api/parsing/job/b3423dc6-ef6e-4b87-8823-89fdeb8f676f \"HTTP/1.1 200 OK\"\n",
      "INFO: HTTP Request: GET https://api.cloud.llamaindex.ai/api/parsing/job/b3423dc6-ef6e-4b87-8823-89fdeb8f676f/result/markdown \"HTTP/1.1 200 OK\"\n"
     ]
    },
    {
     "name": "stdout",
     "output_type": "stream",
     "text": [
      "../data/out/md/265-Second-Hour-Presentationpdf.md saved.\n"
     ]
    },
    {
     "name": "stderr",
     "output_type": "stream",
     "text": [
      "INFO: HTTP Request: POST https://api.cloud.llamaindex.ai/api/parsing/upload \"HTTP/1.1 200 OK\"\n"
     ]
    },
    {
     "name": "stdout",
     "output_type": "stream",
     "text": [
      "Started parsing the file under job_id df4d14f6-68ec-4a9a-af07-1caad6ded2b5\n"
     ]
    },
    {
     "name": "stderr",
     "output_type": "stream",
     "text": [
      "INFO: HTTP Request: GET https://api.cloud.llamaindex.ai/api/parsing/job/df4d14f6-68ec-4a9a-af07-1caad6ded2b5 \"HTTP/1.1 200 OK\"\n",
      "INFO: HTTP Request: GET https://api.cloud.llamaindex.ai/api/parsing/job/df4d14f6-68ec-4a9a-af07-1caad6ded2b5 \"HTTP/1.1 200 OK\"\n",
      "INFO: HTTP Request: GET https://api.cloud.llamaindex.ai/api/parsing/job/df4d14f6-68ec-4a9a-af07-1caad6ded2b5 \"HTTP/1.1 200 OK\"\n",
      "INFO: HTTP Request: GET https://api.cloud.llamaindex.ai/api/parsing/job/df4d14f6-68ec-4a9a-af07-1caad6ded2b5 \"HTTP/1.1 200 OK\"\n",
      "INFO: HTTP Request: GET https://api.cloud.llamaindex.ai/api/parsing/job/df4d14f6-68ec-4a9a-af07-1caad6ded2b5/result/markdown \"HTTP/1.1 200 OK\"\n"
     ]
    },
    {
     "name": "stdout",
     "output_type": "stream",
     "text": [
      "../data/out/md/266-Securitypdf.md saved.\n"
     ]
    },
    {
     "name": "stderr",
     "output_type": "stream",
     "text": [
      "INFO: HTTP Request: POST https://api.cloud.llamaindex.ai/api/parsing/upload \"HTTP/1.1 200 OK\"\n"
     ]
    },
    {
     "name": "stdout",
     "output_type": "stream",
     "text": [
      "Started parsing the file under job_id 83f3729a-8f82-4f86-9d4d-c3a05c9db4fe\n"
     ]
    },
    {
     "name": "stderr",
     "output_type": "stream",
     "text": [
      "INFO: HTTP Request: GET https://api.cloud.llamaindex.ai/api/parsing/job/83f3729a-8f82-4f86-9d4d-c3a05c9db4fe \"HTTP/1.1 200 OK\"\n",
      "INFO: HTTP Request: GET https://api.cloud.llamaindex.ai/api/parsing/job/83f3729a-8f82-4f86-9d4d-c3a05c9db4fe \"HTTP/1.1 200 OK\"\n",
      "INFO: HTTP Request: GET https://api.cloud.llamaindex.ai/api/parsing/job/83f3729a-8f82-4f86-9d4d-c3a05c9db4fe \"HTTP/1.1 200 OK\"\n",
      "INFO: HTTP Request: GET https://api.cloud.llamaindex.ai/api/parsing/job/83f3729a-8f82-4f86-9d4d-c3a05c9db4fe/result/markdown \"HTTP/1.1 200 OK\"\n"
     ]
    },
    {
     "name": "stdout",
     "output_type": "stream",
     "text": [
      "../data/out/md/267-Send-a-Group-Emailpdf.md saved.\n"
     ]
    },
    {
     "name": "stderr",
     "output_type": "stream",
     "text": [
      "INFO: HTTP Request: POST https://api.cloud.llamaindex.ai/api/parsing/upload \"HTTP/1.1 200 OK\"\n"
     ]
    },
    {
     "name": "stdout",
     "output_type": "stream",
     "text": [
      "Started parsing the file under job_id fbacf0b3-8e05-4821-a3e7-df2a7966214e\n"
     ]
    },
    {
     "name": "stderr",
     "output_type": "stream",
     "text": [
      "INFO: HTTP Request: GET https://api.cloud.llamaindex.ai/api/parsing/job/fbacf0b3-8e05-4821-a3e7-df2a7966214e \"HTTP/1.1 200 OK\"\n",
      "INFO: HTTP Request: GET https://api.cloud.llamaindex.ai/api/parsing/job/fbacf0b3-8e05-4821-a3e7-df2a7966214e \"HTTP/1.1 200 OK\"\n",
      "INFO: HTTP Request: GET https://api.cloud.llamaindex.ai/api/parsing/job/fbacf0b3-8e05-4821-a3e7-df2a7966214e \"HTTP/1.1 200 OK\"\n",
      "INFO: HTTP Request: GET https://api.cloud.llamaindex.ai/api/parsing/job/fbacf0b3-8e05-4821-a3e7-df2a7966214e \"HTTP/1.1 200 OK\"\n",
      "INFO: HTTP Request: GET https://api.cloud.llamaindex.ai/api/parsing/job/fbacf0b3-8e05-4821-a3e7-df2a7966214e \"HTTP/1.1 200 OK\"\n",
      "INFO: HTTP Request: GET https://api.cloud.llamaindex.ai/api/parsing/job/fbacf0b3-8e05-4821-a3e7-df2a7966214e/result/markdown \"HTTP/1.1 200 OK\"\n"
     ]
    },
    {
     "name": "stdout",
     "output_type": "stream",
     "text": [
      "../data/out/md/268-Service-Missionaries-pdf.md saved.\n"
     ]
    },
    {
     "name": "stderr",
     "output_type": "stream",
     "text": [
      "INFO: HTTP Request: POST https://api.cloud.llamaindex.ai/api/parsing/upload \"HTTP/1.1 200 OK\"\n"
     ]
    },
    {
     "name": "stdout",
     "output_type": "stream",
     "text": [
      "Started parsing the file under job_id 72a53a57-5303-4e9a-b874-3aab20e94252\n"
     ]
    },
    {
     "name": "stderr",
     "output_type": "stream",
     "text": [
      "INFO: HTTP Request: GET https://api.cloud.llamaindex.ai/api/parsing/job/72a53a57-5303-4e9a-b874-3aab20e94252 \"HTTP/1.1 200 OK\"\n",
      "INFO: HTTP Request: GET https://api.cloud.llamaindex.ai/api/parsing/job/72a53a57-5303-4e9a-b874-3aab20e94252 \"HTTP/1.1 200 OK\"\n",
      "INFO: HTTP Request: GET https://api.cloud.llamaindex.ai/api/parsing/job/72a53a57-5303-4e9a-b874-3aab20e94252 \"HTTP/1.1 200 OK\"\n",
      "INFO: HTTP Request: GET https://api.cloud.llamaindex.ai/api/parsing/job/72a53a57-5303-4e9a-b874-3aab20e94252/result/markdown \"HTTP/1.1 200 OK\"\n"
     ]
    },
    {
     "name": "stdout",
     "output_type": "stream",
     "text": [
      "../data/out/md/269-Share-Audio-and-Videopdf.md saved.\n"
     ]
    },
    {
     "name": "stderr",
     "output_type": "stream",
     "text": [
      "INFO: HTTP Request: POST https://api.cloud.llamaindex.ai/api/parsing/upload \"HTTP/1.1 200 OK\"\n"
     ]
    },
    {
     "name": "stdout",
     "output_type": "stream",
     "text": [
      "Started parsing the file under job_id b2b15fcb-76d3-473b-a152-03f355c12b59\n"
     ]
    },
    {
     "name": "stderr",
     "output_type": "stream",
     "text": [
      "INFO: HTTP Request: GET https://api.cloud.llamaindex.ai/api/parsing/job/b2b15fcb-76d3-473b-a152-03f355c12b59 \"HTTP/1.1 200 OK\"\n",
      "INFO: HTTP Request: GET https://api.cloud.llamaindex.ai/api/parsing/job/b2b15fcb-76d3-473b-a152-03f355c12b59 \"HTTP/1.1 200 OK\"\n",
      "INFO: HTTP Request: GET https://api.cloud.llamaindex.ai/api/parsing/job/b2b15fcb-76d3-473b-a152-03f355c12b59 \"HTTP/1.1 200 OK\"\n",
      "INFO: HTTP Request: GET https://api.cloud.llamaindex.ai/api/parsing/job/b2b15fcb-76d3-473b-a152-03f355c12b59 \"HTTP/1.1 200 OK\"\n",
      "INFO: HTTP Request: GET https://api.cloud.llamaindex.ai/api/parsing/job/b2b15fcb-76d3-473b-a152-03f355c12b59 \"HTTP/1.1 200 OK\"\n",
      "INFO: HTTP Request: GET https://api.cloud.llamaindex.ai/api/parsing/job/b2b15fcb-76d3-473b-a152-03f355c12b59 \"HTTP/1.1 200 OK\"\n",
      "INFO: HTTP Request: GET https://api.cloud.llamaindex.ai/api/parsing/job/b2b15fcb-76d3-473b-a152-03f355c12b59 \"HTTP/1.1 200 OK\"\n",
      "INFO: HTTP Request: GET https://api.cloud.llamaindex.ai/api/parsing/job/b2b15fcb-76d3-473b-a152-03f355c12b59 \"HTTP/1.1 200 OK\"\n",
      "INFO: HTTP Request: GET https://api.cloud.llamaindex.ai/api/parsing/job/b2b15fcb-76d3-473b-a152-03f355c12b59 \"HTTP/1.1 200 OK\"\n",
      "INFO: HTTP Request: GET https://api.cloud.llamaindex.ai/api/parsing/job/b2b15fcb-76d3-473b-a152-03f355c12b59 \"HTTP/1.1 200 OK\"\n"
     ]
    },
    {
     "name": "stdout",
     "output_type": "stream",
     "text": [
      "."
     ]
    },
    {
     "name": "stderr",
     "output_type": "stream",
     "text": [
      "INFO: HTTP Request: GET https://api.cloud.llamaindex.ai/api/parsing/job/b2b15fcb-76d3-473b-a152-03f355c12b59 \"HTTP/1.1 200 OK\"\n",
      "INFO: HTTP Request: GET https://api.cloud.llamaindex.ai/api/parsing/job/b2b15fcb-76d3-473b-a152-03f355c12b59/result/markdown \"HTTP/1.1 200 OK\"\n"
     ]
    },
    {
     "name": "stdout",
     "output_type": "stream",
     "text": [
      "../data/out/md/27-BYU-Pathway-History-Fullpdf.md saved.\n"
     ]
    },
    {
     "name": "stderr",
     "output_type": "stream",
     "text": [
      "INFO: HTTP Request: POST https://api.cloud.llamaindex.ai/api/parsing/upload \"HTTP/1.1 200 OK\"\n"
     ]
    },
    {
     "name": "stdout",
     "output_type": "stream",
     "text": [
      "Started parsing the file under job_id 49516440-1c49-4029-922a-66007b5fa139\n"
     ]
    },
    {
     "name": "stderr",
     "output_type": "stream",
     "text": [
      "INFO: HTTP Request: GET https://api.cloud.llamaindex.ai/api/parsing/job/49516440-1c49-4029-922a-66007b5fa139 \"HTTP/1.1 200 OK\"\n",
      "INFO: HTTP Request: GET https://api.cloud.llamaindex.ai/api/parsing/job/49516440-1c49-4029-922a-66007b5fa139/result/markdown \"HTTP/1.1 200 OK\"\n"
     ]
    },
    {
     "name": "stdout",
     "output_type": "stream",
     "text": [
      "../data/out/md/27-BYU-Pathway-History-Fullpdf.md saved.\n"
     ]
    },
    {
     "name": "stderr",
     "output_type": "stream",
     "text": [
      "INFO: HTTP Request: POST https://api.cloud.llamaindex.ai/api/parsing/upload \"HTTP/1.1 200 OK\"\n"
     ]
    },
    {
     "name": "stdout",
     "output_type": "stream",
     "text": [
      "Started parsing the file under job_id 77abe2fe-e53e-43eb-a840-9bc08c4d512d\n"
     ]
    },
    {
     "name": "stderr",
     "output_type": "stream",
     "text": [
      "INFO: HTTP Request: GET https://api.cloud.llamaindex.ai/api/parsing/job/77abe2fe-e53e-43eb-a840-9bc08c4d512d \"HTTP/1.1 200 OK\"\n",
      "INFO: HTTP Request: GET https://api.cloud.llamaindex.ai/api/parsing/job/77abe2fe-e53e-43eb-a840-9bc08c4d512d \"HTTP/1.1 200 OK\"\n",
      "INFO: HTTP Request: GET https://api.cloud.llamaindex.ai/api/parsing/job/77abe2fe-e53e-43eb-a840-9bc08c4d512d \"HTTP/1.1 200 OK\"\n",
      "INFO: HTTP Request: GET https://api.cloud.llamaindex.ai/api/parsing/job/77abe2fe-e53e-43eb-a840-9bc08c4d512d \"HTTP/1.1 200 OK\"\n",
      "INFO: HTTP Request: GET https://api.cloud.llamaindex.ai/api/parsing/job/77abe2fe-e53e-43eb-a840-9bc08c4d512d \"HTTP/1.1 200 OK\"\n",
      "INFO: HTTP Request: GET https://api.cloud.llamaindex.ai/api/parsing/job/77abe2fe-e53e-43eb-a840-9bc08c4d512d/result/markdown \"HTTP/1.1 200 OK\"\n"
     ]
    },
    {
     "name": "stdout",
     "output_type": "stream",
     "text": [
      "../data/out/md/270-Share-Multiple-Screenspdf.md saved.\n"
     ]
    },
    {
     "name": "stderr",
     "output_type": "stream",
     "text": [
      "INFO: HTTP Request: POST https://api.cloud.llamaindex.ai/api/parsing/upload \"HTTP/1.1 200 OK\"\n"
     ]
    },
    {
     "name": "stdout",
     "output_type": "stream",
     "text": [
      "Started parsing the file under job_id 1a9cb30c-1030-4f14-a1cb-9901e1b23bf0\n"
     ]
    },
    {
     "name": "stderr",
     "output_type": "stream",
     "text": [
      "INFO: HTTP Request: GET https://api.cloud.llamaindex.ai/api/parsing/job/1a9cb30c-1030-4f14-a1cb-9901e1b23bf0 \"HTTP/1.1 200 OK\"\n",
      "INFO: HTTP Request: GET https://api.cloud.llamaindex.ai/api/parsing/job/1a9cb30c-1030-4f14-a1cb-9901e1b23bf0 \"HTTP/1.1 200 OK\"\n",
      "INFO: HTTP Request: GET https://api.cloud.llamaindex.ai/api/parsing/job/1a9cb30c-1030-4f14-a1cb-9901e1b23bf0 \"HTTP/1.1 200 OK\"\n",
      "INFO: HTTP Request: GET https://api.cloud.llamaindex.ai/api/parsing/job/1a9cb30c-1030-4f14-a1cb-9901e1b23bf0 \"HTTP/1.1 200 OK\"\n",
      "INFO: HTTP Request: GET https://api.cloud.llamaindex.ai/api/parsing/job/1a9cb30c-1030-4f14-a1cb-9901e1b23bf0 \"HTTP/1.1 200 OK\"\n",
      "INFO: HTTP Request: GET https://api.cloud.llamaindex.ai/api/parsing/job/1a9cb30c-1030-4f14-a1cb-9901e1b23bf0/result/markdown \"HTTP/1.1 200 OK\"\n"
     ]
    },
    {
     "name": "stdout",
     "output_type": "stream",
     "text": [
      "../data/out/md/271-Share-Screen-to-All-Breakout-Roomspdf.md saved.\n"
     ]
    },
    {
     "name": "stderr",
     "output_type": "stream",
     "text": [
      "INFO: HTTP Request: POST https://api.cloud.llamaindex.ai/api/parsing/upload \"HTTP/1.1 200 OK\"\n"
     ]
    },
    {
     "name": "stdout",
     "output_type": "stream",
     "text": [
      "Started parsing the file under job_id c3eee89a-1890-4f43-8b33-acdb45394386\n"
     ]
    },
    {
     "name": "stderr",
     "output_type": "stream",
     "text": [
      "INFO: HTTP Request: GET https://api.cloud.llamaindex.ai/api/parsing/job/c3eee89a-1890-4f43-8b33-acdb45394386 \"HTTP/1.1 200 OK\"\n",
      "INFO: HTTP Request: GET https://api.cloud.llamaindex.ai/api/parsing/job/c3eee89a-1890-4f43-8b33-acdb45394386 \"HTTP/1.1 200 OK\"\n",
      "INFO: HTTP Request: GET https://api.cloud.llamaindex.ai/api/parsing/job/c3eee89a-1890-4f43-8b33-acdb45394386 \"HTTP/1.1 200 OK\"\n",
      "INFO: HTTP Request: GET https://api.cloud.llamaindex.ai/api/parsing/job/c3eee89a-1890-4f43-8b33-acdb45394386 \"HTTP/1.1 200 OK\"\n",
      "INFO: HTTP Request: GET https://api.cloud.llamaindex.ai/api/parsing/job/c3eee89a-1890-4f43-8b33-acdb45394386/result/markdown \"HTTP/1.1 200 OK\"\n"
     ]
    },
    {
     "name": "stdout",
     "output_type": "stream",
     "text": [
      "../data/out/md/272-Share-Your-Screen-in-Zoompdf.md saved.\n"
     ]
    },
    {
     "name": "stderr",
     "output_type": "stream",
     "text": [
      "INFO: HTTP Request: POST https://api.cloud.llamaindex.ai/api/parsing/upload \"HTTP/1.1 200 OK\"\n"
     ]
    },
    {
     "name": "stdout",
     "output_type": "stream",
     "text": [
      "Started parsing the file under job_id cc8d9aa9-123c-4516-afc7-1f81485d45ca\n"
     ]
    },
    {
     "name": "stderr",
     "output_type": "stream",
     "text": [
      "INFO: HTTP Request: GET https://api.cloud.llamaindex.ai/api/parsing/job/cc8d9aa9-123c-4516-afc7-1f81485d45ca \"HTTP/1.1 200 OK\"\n",
      "INFO: HTTP Request: GET https://api.cloud.llamaindex.ai/api/parsing/job/cc8d9aa9-123c-4516-afc7-1f81485d45ca \"HTTP/1.1 200 OK\"\n",
      "INFO: HTTP Request: GET https://api.cloud.llamaindex.ai/api/parsing/job/cc8d9aa9-123c-4516-afc7-1f81485d45ca \"HTTP/1.1 200 OK\"\n",
      "INFO: HTTP Request: GET https://api.cloud.llamaindex.ai/api/parsing/job/cc8d9aa9-123c-4516-afc7-1f81485d45ca \"HTTP/1.1 200 OK\"\n",
      "INFO: HTTP Request: GET https://api.cloud.llamaindex.ai/api/parsing/job/cc8d9aa9-123c-4516-afc7-1f81485d45ca \"HTTP/1.1 200 OK\"\n",
      "INFO: HTTP Request: GET https://api.cloud.llamaindex.ai/api/parsing/job/cc8d9aa9-123c-4516-afc7-1f81485d45ca/result/markdown \"HTTP/1.1 200 OK\"\n"
     ]
    },
    {
     "name": "stdout",
     "output_type": "stream",
     "text": [
      "../data/out/md/273-Sharing-a-Whiteboardpdf.md saved.\n"
     ]
    },
    {
     "name": "stderr",
     "output_type": "stream",
     "text": [
      "INFO: HTTP Request: POST https://api.cloud.llamaindex.ai/api/parsing/upload \"HTTP/1.1 200 OK\"\n"
     ]
    },
    {
     "name": "stdout",
     "output_type": "stream",
     "text": [
      "Started parsing the file under job_id 959fa8da-3c66-4494-858e-102a469bc47f\n"
     ]
    },
    {
     "name": "stderr",
     "output_type": "stream",
     "text": [
      "INFO: HTTP Request: GET https://api.cloud.llamaindex.ai/api/parsing/job/959fa8da-3c66-4494-858e-102a469bc47f \"HTTP/1.1 200 OK\"\n",
      "INFO: HTTP Request: GET https://api.cloud.llamaindex.ai/api/parsing/job/959fa8da-3c66-4494-858e-102a469bc47f \"HTTP/1.1 200 OK\"\n",
      "INFO: HTTP Request: GET https://api.cloud.llamaindex.ai/api/parsing/job/959fa8da-3c66-4494-858e-102a469bc47f \"HTTP/1.1 200 OK\"\n",
      "INFO: HTTP Request: GET https://api.cloud.llamaindex.ai/api/parsing/job/959fa8da-3c66-4494-858e-102a469bc47f \"HTTP/1.1 200 OK\"\n",
      "INFO: HTTP Request: GET https://api.cloud.llamaindex.ai/api/parsing/job/959fa8da-3c66-4494-858e-102a469bc47f \"HTTP/1.1 200 OK\"\n",
      "INFO: HTTP Request: GET https://api.cloud.llamaindex.ai/api/parsing/job/959fa8da-3c66-4494-858e-102a469bc47f \"HTTP/1.1 200 OK\"\n",
      "INFO: HTTP Request: GET https://api.cloud.llamaindex.ai/api/parsing/job/959fa8da-3c66-4494-858e-102a469bc47f \"HTTP/1.1 200 OK\"\n",
      "INFO: HTTP Request: GET https://api.cloud.llamaindex.ai/api/parsing/job/959fa8da-3c66-4494-858e-102a469bc47f/result/markdown \"HTTP/1.1 200 OK\"\n"
     ]
    },
    {
     "name": "stdout",
     "output_type": "stream",
     "text": [
      "../data/out/md/274-Shepherd-with-Charitypdf.md saved.\n"
     ]
    },
    {
     "name": "stderr",
     "output_type": "stream",
     "text": [
      "INFO: HTTP Request: POST https://api.cloud.llamaindex.ai/api/parsing/upload \"HTTP/1.1 200 OK\"\n"
     ]
    },
    {
     "name": "stdout",
     "output_type": "stream",
     "text": [
      "Started parsing the file under job_id f7be1bd5-34a3-4bc5-a555-7e9a562739c7\n"
     ]
    },
    {
     "name": "stderr",
     "output_type": "stream",
     "text": [
      "INFO: HTTP Request: GET https://api.cloud.llamaindex.ai/api/parsing/job/f7be1bd5-34a3-4bc5-a555-7e9a562739c7 \"HTTP/1.1 200 OK\"\n",
      "INFO: HTTP Request: GET https://api.cloud.llamaindex.ai/api/parsing/job/f7be1bd5-34a3-4bc5-a555-7e9a562739c7 \"HTTP/1.1 200 OK\"\n",
      "INFO: HTTP Request: GET https://api.cloud.llamaindex.ai/api/parsing/job/f7be1bd5-34a3-4bc5-a555-7e9a562739c7 \"HTTP/1.1 200 OK\"\n",
      "INFO: HTTP Request: GET https://api.cloud.llamaindex.ai/api/parsing/job/f7be1bd5-34a3-4bc5-a555-7e9a562739c7 \"HTTP/1.1 200 OK\"\n",
      "INFO: HTTP Request: GET https://api.cloud.llamaindex.ai/api/parsing/job/f7be1bd5-34a3-4bc5-a555-7e9a562739c7 \"HTTP/1.1 200 OK\"\n",
      "INFO: HTTP Request: GET https://api.cloud.llamaindex.ai/api/parsing/job/f7be1bd5-34a3-4bc5-a555-7e9a562739c7 \"HTTP/1.1 200 OK\"\n",
      "INFO: HTTP Request: GET https://api.cloud.llamaindex.ai/api/parsing/job/f7be1bd5-34a3-4bc5-a555-7e9a562739c7/result/markdown \"HTTP/1.1 200 OK\"\n"
     ]
    },
    {
     "name": "stdout",
     "output_type": "stream",
     "text": [
      "../data/out/md/275-Shepherding-Team-Project-Groupspdf.md saved.\n"
     ]
    },
    {
     "name": "stderr",
     "output_type": "stream",
     "text": [
      "INFO: HTTP Request: POST https://api.cloud.llamaindex.ai/api/parsing/upload \"HTTP/1.1 200 OK\"\n"
     ]
    },
    {
     "name": "stdout",
     "output_type": "stream",
     "text": [
      "Started parsing the file under job_id e0dec9dd-cc5f-4d4a-9de9-f787728b3592\n"
     ]
    },
    {
     "name": "stderr",
     "output_type": "stream",
     "text": [
      "INFO: HTTP Request: GET https://api.cloud.llamaindex.ai/api/parsing/job/e0dec9dd-cc5f-4d4a-9de9-f787728b3592 \"HTTP/1.1 200 OK\"\n",
      "INFO: HTTP Request: GET https://api.cloud.llamaindex.ai/api/parsing/job/e0dec9dd-cc5f-4d4a-9de9-f787728b3592 \"HTTP/1.1 200 OK\"\n",
      "INFO: HTTP Request: GET https://api.cloud.llamaindex.ai/api/parsing/job/e0dec9dd-cc5f-4d4a-9de9-f787728b3592 \"HTTP/1.1 200 OK\"\n",
      "INFO: HTTP Request: GET https://api.cloud.llamaindex.ai/api/parsing/job/e0dec9dd-cc5f-4d4a-9de9-f787728b3592 \"HTTP/1.1 200 OK\"\n",
      "INFO: HTTP Request: GET https://api.cloud.llamaindex.ai/api/parsing/job/e0dec9dd-cc5f-4d4a-9de9-f787728b3592/result/markdown \"HTTP/1.1 200 OK\"\n"
     ]
    },
    {
     "name": "stdout",
     "output_type": "stream",
     "text": [
      "../data/out/md/276-Stake-Bishop-Council-Meetingpdf.md saved.\n"
     ]
    },
    {
     "name": "stderr",
     "output_type": "stream",
     "text": [
      "INFO: HTTP Request: POST https://api.cloud.llamaindex.ai/api/parsing/upload \"HTTP/1.1 200 OK\"\n"
     ]
    },
    {
     "name": "stdout",
     "output_type": "stream",
     "text": [
      "Started parsing the file under job_id c894ba82-9992-49f2-8d14-765b498a6d20\n"
     ]
    },
    {
     "name": "stderr",
     "output_type": "stream",
     "text": [
      "INFO: HTTP Request: GET https://api.cloud.llamaindex.ai/api/parsing/job/c894ba82-9992-49f2-8d14-765b498a6d20 \"HTTP/1.1 200 OK\"\n",
      "INFO: HTTP Request: GET https://api.cloud.llamaindex.ai/api/parsing/job/c894ba82-9992-49f2-8d14-765b498a6d20 \"HTTP/1.1 200 OK\"\n",
      "INFO: HTTP Request: GET https://api.cloud.llamaindex.ai/api/parsing/job/c894ba82-9992-49f2-8d14-765b498a6d20 \"HTTP/1.1 200 OK\"\n",
      "INFO: HTTP Request: GET https://api.cloud.llamaindex.ai/api/parsing/job/c894ba82-9992-49f2-8d14-765b498a6d20 \"HTTP/1.1 200 OK\"\n",
      "INFO: HTTP Request: GET https://api.cloud.llamaindex.ai/api/parsing/job/c894ba82-9992-49f2-8d14-765b498a6d20/result/markdown \"HTTP/1.1 200 OK\"\n"
     ]
    },
    {
     "name": "stdout",
     "output_type": "stream",
     "text": [
      "../data/out/md/277-Student-Finance-Informationpdf.md saved.\n"
     ]
    },
    {
     "name": "stderr",
     "output_type": "stream",
     "text": [
      "INFO: HTTP Request: POST https://api.cloud.llamaindex.ai/api/parsing/upload \"HTTP/1.1 200 OK\"\n"
     ]
    },
    {
     "name": "stdout",
     "output_type": "stream",
     "text": [
      "Started parsing the file under job_id b1aa9e1b-6d69-41c9-9590-c3119f86eb3d\n"
     ]
    },
    {
     "name": "stderr",
     "output_type": "stream",
     "text": [
      "INFO: HTTP Request: GET https://api.cloud.llamaindex.ai/api/parsing/job/b1aa9e1b-6d69-41c9-9590-c3119f86eb3d \"HTTP/1.1 200 OK\"\n",
      "INFO: HTTP Request: GET https://api.cloud.llamaindex.ai/api/parsing/job/b1aa9e1b-6d69-41c9-9590-c3119f86eb3d \"HTTP/1.1 200 OK\"\n",
      "INFO: HTTP Request: GET https://api.cloud.llamaindex.ai/api/parsing/job/b1aa9e1b-6d69-41c9-9590-c3119f86eb3d \"HTTP/1.1 200 OK\"\n",
      "INFO: HTTP Request: GET https://api.cloud.llamaindex.ai/api/parsing/job/b1aa9e1b-6d69-41c9-9590-c3119f86eb3d \"HTTP/1.1 200 OK\"\n",
      "INFO: HTTP Request: GET https://api.cloud.llamaindex.ai/api/parsing/job/b1aa9e1b-6d69-41c9-9590-c3119f86eb3d \"HTTP/1.1 200 OK\"\n",
      "INFO: HTTP Request: GET https://api.cloud.llamaindex.ai/api/parsing/job/b1aa9e1b-6d69-41c9-9590-c3119f86eb3d/result/markdown \"HTTP/1.1 200 OK\"\n"
     ]
    },
    {
     "name": "stdout",
     "output_type": "stream",
     "text": [
      "../data/out/md/278-Student-Issue-Escalate-Processpdf.md saved.\n"
     ]
    },
    {
     "name": "stderr",
     "output_type": "stream",
     "text": [
      "INFO: HTTP Request: POST https://api.cloud.llamaindex.ai/api/parsing/upload \"HTTP/1.1 200 OK\"\n"
     ]
    },
    {
     "name": "stdout",
     "output_type": "stream",
     "text": [
      "Started parsing the file under job_id ca884a0b-571b-42f7-89ff-6a96eebbe652\n"
     ]
    },
    {
     "name": "stderr",
     "output_type": "stream",
     "text": [
      "INFO: HTTP Request: GET https://api.cloud.llamaindex.ai/api/parsing/job/ca884a0b-571b-42f7-89ff-6a96eebbe652 \"HTTP/1.1 200 OK\"\n",
      "INFO: HTTP Request: GET https://api.cloud.llamaindex.ai/api/parsing/job/ca884a0b-571b-42f7-89ff-6a96eebbe652 \"HTTP/1.1 200 OK\"\n",
      "INFO: HTTP Request: GET https://api.cloud.llamaindex.ai/api/parsing/job/ca884a0b-571b-42f7-89ff-6a96eebbe652 \"HTTP/1.1 200 OK\"\n",
      "INFO: HTTP Request: GET https://api.cloud.llamaindex.ai/api/parsing/job/ca884a0b-571b-42f7-89ff-6a96eebbe652 \"HTTP/1.1 200 OK\"\n",
      "INFO: HTTP Request: GET https://api.cloud.llamaindex.ai/api/parsing/job/ca884a0b-571b-42f7-89ff-6a96eebbe652 \"HTTP/1.1 200 OK\"\n",
      "INFO: HTTP Request: GET https://api.cloud.llamaindex.ai/api/parsing/job/ca884a0b-571b-42f7-89ff-6a96eebbe652/result/markdown \"HTTP/1.1 200 OK\"\n"
     ]
    },
    {
     "name": "stdout",
     "output_type": "stream",
     "text": [
      "../data/out/md/279-Student-Issue-Escalation-Processpdf.md saved.\n"
     ]
    },
    {
     "name": "stderr",
     "output_type": "stream",
     "text": [
      "INFO: HTTP Request: POST https://api.cloud.llamaindex.ai/api/parsing/upload \"HTTP/1.1 200 OK\"\n"
     ]
    },
    {
     "name": "stdout",
     "output_type": "stream",
     "text": [
      "Started parsing the file under job_id 9b9a6034-5853-434c-bdad-cb6bee71b5ba\n"
     ]
    },
    {
     "name": "stderr",
     "output_type": "stream",
     "text": [
      "INFO: HTTP Request: GET https://api.cloud.llamaindex.ai/api/parsing/job/9b9a6034-5853-434c-bdad-cb6bee71b5ba \"HTTP/1.1 200 OK\"\n",
      "INFO: HTTP Request: GET https://api.cloud.llamaindex.ai/api/parsing/job/9b9a6034-5853-434c-bdad-cb6bee71b5ba \"HTTP/1.1 200 OK\"\n",
      "INFO: HTTP Request: GET https://api.cloud.llamaindex.ai/api/parsing/job/9b9a6034-5853-434c-bdad-cb6bee71b5ba \"HTTP/1.1 200 OK\"\n",
      "INFO: HTTP Request: GET https://api.cloud.llamaindex.ai/api/parsing/job/9b9a6034-5853-434c-bdad-cb6bee71b5ba \"HTTP/1.1 200 OK\"\n",
      "INFO: HTTP Request: GET https://api.cloud.llamaindex.ai/api/parsing/job/9b9a6034-5853-434c-bdad-cb6bee71b5ba \"HTTP/1.1 200 OK\"\n",
      "INFO: HTTP Request: GET https://api.cloud.llamaindex.ai/api/parsing/job/9b9a6034-5853-434c-bdad-cb6bee71b5ba \"HTTP/1.1 200 OK\"\n",
      "INFO: HTTP Request: GET https://api.cloud.llamaindex.ai/api/parsing/job/9b9a6034-5853-434c-bdad-cb6bee71b5ba/result/markdown \"HTTP/1.1 200 OK\"\n"
     ]
    },
    {
     "name": "stdout",
     "output_type": "stream",
     "text": [
      "../data/out/md/28-BYU-Pathway-History-Shortpdf.md saved.\n"
     ]
    },
    {
     "name": "stderr",
     "output_type": "stream",
     "text": [
      "INFO: HTTP Request: POST https://api.cloud.llamaindex.ai/api/parsing/upload \"HTTP/1.1 200 OK\"\n"
     ]
    },
    {
     "name": "stdout",
     "output_type": "stream",
     "text": [
      "Started parsing the file under job_id 4c684571-1035-4faf-bba0-362262f8520e\n"
     ]
    },
    {
     "name": "stderr",
     "output_type": "stream",
     "text": [
      "INFO: HTTP Request: GET https://api.cloud.llamaindex.ai/api/parsing/job/4c684571-1035-4faf-bba0-362262f8520e \"HTTP/1.1 200 OK\"\n",
      "INFO: HTTP Request: GET https://api.cloud.llamaindex.ai/api/parsing/job/4c684571-1035-4faf-bba0-362262f8520e/result/markdown \"HTTP/1.1 200 OK\"\n"
     ]
    },
    {
     "name": "stdout",
     "output_type": "stream",
     "text": [
      "../data/out/md/28-BYU-Pathway-History-Shortpdf.md saved.\n"
     ]
    },
    {
     "name": "stderr",
     "output_type": "stream",
     "text": [
      "INFO: HTTP Request: POST https://api.cloud.llamaindex.ai/api/parsing/upload \"HTTP/1.1 200 OK\"\n"
     ]
    },
    {
     "name": "stdout",
     "output_type": "stream",
     "text": [
      "Started parsing the file under job_id 31d24c04-364d-42e3-8b2d-53ff4b5ae0c2\n"
     ]
    },
    {
     "name": "stderr",
     "output_type": "stream",
     "text": [
      "INFO: HTTP Request: GET https://api.cloud.llamaindex.ai/api/parsing/job/31d24c04-364d-42e3-8b2d-53ff4b5ae0c2 \"HTTP/1.1 200 OK\"\n",
      "INFO: HTTP Request: GET https://api.cloud.llamaindex.ai/api/parsing/job/31d24c04-364d-42e3-8b2d-53ff4b5ae0c2 \"HTTP/1.1 200 OK\"\n",
      "INFO: HTTP Request: GET https://api.cloud.llamaindex.ai/api/parsing/job/31d24c04-364d-42e3-8b2d-53ff4b5ae0c2 \"HTTP/1.1 200 OK\"\n",
      "INFO: HTTP Request: GET https://api.cloud.llamaindex.ai/api/parsing/job/31d24c04-364d-42e3-8b2d-53ff4b5ae0c2 \"HTTP/1.1 200 OK\"\n",
      "INFO: HTTP Request: GET https://api.cloud.llamaindex.ai/api/parsing/job/31d24c04-364d-42e3-8b2d-53ff4b5ae0c2/result/markdown \"HTTP/1.1 200 OK\"\n"
     ]
    },
    {
     "name": "stdout",
     "output_type": "stream",
     "text": [
      "../data/out/md/280-Student-Online-Enrollment-Information-pdf.md saved.\n"
     ]
    },
    {
     "name": "stderr",
     "output_type": "stream",
     "text": [
      "INFO: HTTP Request: POST https://api.cloud.llamaindex.ai/api/parsing/upload \"HTTP/1.1 200 OK\"\n"
     ]
    },
    {
     "name": "stdout",
     "output_type": "stream",
     "text": [
      "Started parsing the file under job_id 621b9cac-05a7-400e-9324-f01519e63c9e\n"
     ]
    },
    {
     "name": "stderr",
     "output_type": "stream",
     "text": [
      "INFO: HTTP Request: GET https://api.cloud.llamaindex.ai/api/parsing/job/621b9cac-05a7-400e-9324-f01519e63c9e \"HTTP/1.1 200 OK\"\n",
      "INFO: HTTP Request: GET https://api.cloud.llamaindex.ai/api/parsing/job/621b9cac-05a7-400e-9324-f01519e63c9e \"HTTP/1.1 200 OK\"\n",
      "INFO: HTTP Request: GET https://api.cloud.llamaindex.ai/api/parsing/job/621b9cac-05a7-400e-9324-f01519e63c9e \"HTTP/1.1 200 OK\"\n",
      "INFO: HTTP Request: GET https://api.cloud.llamaindex.ai/api/parsing/job/621b9cac-05a7-400e-9324-f01519e63c9e \"HTTP/1.1 200 OK\"\n",
      "INFO: HTTP Request: GET https://api.cloud.llamaindex.ai/api/parsing/job/621b9cac-05a7-400e-9324-f01519e63c9e/result/markdown \"HTTP/1.1 200 OK\"\n"
     ]
    },
    {
     "name": "stdout",
     "output_type": "stream",
     "text": [
      "../data/out/md/281-Student-Transfer-FAQpdf.md saved.\n"
     ]
    },
    {
     "name": "stderr",
     "output_type": "stream",
     "text": [
      "INFO: HTTP Request: POST https://api.cloud.llamaindex.ai/api/parsing/upload \"HTTP/1.1 200 OK\"\n"
     ]
    },
    {
     "name": "stdout",
     "output_type": "stream",
     "text": [
      "Started parsing the file under job_id 099dcc0d-e83f-48bb-b18d-781a12862575\n"
     ]
    },
    {
     "name": "stderr",
     "output_type": "stream",
     "text": [
      "INFO: HTTP Request: GET https://api.cloud.llamaindex.ai/api/parsing/job/099dcc0d-e83f-48bb-b18d-781a12862575 \"HTTP/1.1 200 OK\"\n",
      "INFO: HTTP Request: GET https://api.cloud.llamaindex.ai/api/parsing/job/099dcc0d-e83f-48bb-b18d-781a12862575/result/markdown \"HTTP/1.1 200 OK\"\n"
     ]
    },
    {
     "name": "stdout",
     "output_type": "stream",
     "text": [
      "../data/out/md/282-Sunday-Visits-with-Language-Wardspdf.md saved.\n"
     ]
    },
    {
     "name": "stderr",
     "output_type": "stream",
     "text": [
      "INFO: HTTP Request: POST https://api.cloud.llamaindex.ai/api/parsing/upload \"HTTP/1.1 200 OK\"\n"
     ]
    },
    {
     "name": "stdout",
     "output_type": "stream",
     "text": [
      "Started parsing the file under job_id 78878b87-6ae0-4f40-8962-ab8e4f6fe960\n"
     ]
    },
    {
     "name": "stderr",
     "output_type": "stream",
     "text": [
      "INFO: HTTP Request: GET https://api.cloud.llamaindex.ai/api/parsing/job/78878b87-6ae0-4f40-8962-ab8e4f6fe960 \"HTTP/1.1 200 OK\"\n",
      "INFO: HTTP Request: GET https://api.cloud.llamaindex.ai/api/parsing/job/78878b87-6ae0-4f40-8962-ab8e4f6fe960 \"HTTP/1.1 200 OK\"\n",
      "INFO: HTTP Request: GET https://api.cloud.llamaindex.ai/api/parsing/job/78878b87-6ae0-4f40-8962-ab8e4f6fe960 \"HTTP/1.1 200 OK\"\n",
      "INFO: HTTP Request: GET https://api.cloud.llamaindex.ai/api/parsing/job/78878b87-6ae0-4f40-8962-ab8e4f6fe960 \"HTTP/1.1 200 OK\"\n",
      "INFO: HTTP Request: GET https://api.cloud.llamaindex.ai/api/parsing/job/78878b87-6ae0-4f40-8962-ab8e4f6fe960 \"HTTP/1.1 200 OK\"\n",
      "INFO: HTTP Request: GET https://api.cloud.llamaindex.ai/api/parsing/job/78878b87-6ae0-4f40-8962-ab8e4f6fe960 \"HTTP/1.1 200 OK\"\n",
      "INFO: HTTP Request: GET https://api.cloud.llamaindex.ai/api/parsing/job/78878b87-6ae0-4f40-8962-ab8e4f6fe960 \"HTTP/1.1 200 OK\"\n",
      "INFO: HTTP Request: GET https://api.cloud.llamaindex.ai/api/parsing/job/78878b87-6ae0-4f40-8962-ab8e4f6fe960/result/markdown \"HTTP/1.1 200 OK\"\n"
     ]
    },
    {
     "name": "stdout",
     "output_type": "stream",
     "text": [
      "../data/out/md/283-Sunday-Visits-with-Wards-and-Stakespdf.md saved.\n"
     ]
    },
    {
     "name": "stderr",
     "output_type": "stream",
     "text": [
      "INFO: HTTP Request: POST https://api.cloud.llamaindex.ai/api/parsing/upload \"HTTP/1.1 200 OK\"\n"
     ]
    },
    {
     "name": "stdout",
     "output_type": "stream",
     "text": [
      "Started parsing the file under job_id a95a9ed4-c480-45ff-abd3-f909ab1162d9\n"
     ]
    },
    {
     "name": "stderr",
     "output_type": "stream",
     "text": [
      "INFO: HTTP Request: GET https://api.cloud.llamaindex.ai/api/parsing/job/a95a9ed4-c480-45ff-abd3-f909ab1162d9 \"HTTP/1.1 200 OK\"\n",
      "INFO: HTTP Request: GET https://api.cloud.llamaindex.ai/api/parsing/job/a95a9ed4-c480-45ff-abd3-f909ab1162d9 \"HTTP/1.1 200 OK\"\n",
      "INFO: HTTP Request: GET https://api.cloud.llamaindex.ai/api/parsing/job/a95a9ed4-c480-45ff-abd3-f909ab1162d9 \"HTTP/1.1 200 OK\"\n",
      "INFO: HTTP Request: GET https://api.cloud.llamaindex.ai/api/parsing/job/a95a9ed4-c480-45ff-abd3-f909ab1162d9 \"HTTP/1.1 200 OK\"\n",
      "INFO: HTTP Request: GET https://api.cloud.llamaindex.ai/api/parsing/job/a95a9ed4-c480-45ff-abd3-f909ab1162d9 \"HTTP/1.1 200 OK\"\n",
      "INFO: HTTP Request: GET https://api.cloud.llamaindex.ai/api/parsing/job/a95a9ed4-c480-45ff-abd3-f909ab1162d9 \"HTTP/1.1 200 OK\"\n",
      "INFO: HTTP Request: GET https://api.cloud.llamaindex.ai/api/parsing/job/a95a9ed4-c480-45ff-abd3-f909ab1162d9/result/markdown \"HTTP/1.1 200 OK\"\n"
     ]
    },
    {
     "name": "stdout",
     "output_type": "stream",
     "text": [
      "../data/out/md/284-Support-Options-for-Studentspdf.md saved.\n"
     ]
    },
    {
     "name": "stderr",
     "output_type": "stream",
     "text": [
      "INFO: HTTP Request: POST https://api.cloud.llamaindex.ai/api/parsing/upload \"HTTP/1.1 200 OK\"\n"
     ]
    },
    {
     "name": "stdout",
     "output_type": "stream",
     "text": [
      "Started parsing the file under job_id a29609be-6963-44ef-822c-b613e2c15288\n"
     ]
    },
    {
     "name": "stderr",
     "output_type": "stream",
     "text": [
      "INFO: HTTP Request: GET https://api.cloud.llamaindex.ai/api/parsing/job/a29609be-6963-44ef-822c-b613e2c15288 \"HTTP/1.1 200 OK\"\n",
      "INFO: HTTP Request: GET https://api.cloud.llamaindex.ai/api/parsing/job/a29609be-6963-44ef-822c-b613e2c15288 \"HTTP/1.1 200 OK\"\n",
      "INFO: HTTP Request: GET https://api.cloud.llamaindex.ai/api/parsing/job/a29609be-6963-44ef-822c-b613e2c15288 \"HTTP/1.1 200 OK\"\n",
      "INFO: HTTP Request: GET https://api.cloud.llamaindex.ai/api/parsing/job/a29609be-6963-44ef-822c-b613e2c15288 \"HTTP/1.1 200 OK\"\n",
      "INFO: HTTP Request: GET https://api.cloud.llamaindex.ai/api/parsing/job/a29609be-6963-44ef-822c-b613e2c15288 \"HTTP/1.1 200 OK\"\n",
      "INFO: HTTP Request: GET https://api.cloud.llamaindex.ai/api/parsing/job/a29609be-6963-44ef-822c-b613e2c15288 \"HTTP/1.1 200 OK\"\n",
      "INFO: HTTP Request: GET https://api.cloud.llamaindex.ai/api/parsing/job/a29609be-6963-44ef-822c-b613e2c15288/result/markdown \"HTTP/1.1 200 OK\"\n"
     ]
    },
    {
     "name": "stdout",
     "output_type": "stream",
     "text": [
      "../data/out/md/285-Support-Students-with-Disabilitiespdf.md saved.\n"
     ]
    },
    {
     "name": "stderr",
     "output_type": "stream",
     "text": [
      "INFO: HTTP Request: POST https://api.cloud.llamaindex.ai/api/parsing/upload \"HTTP/1.1 200 OK\"\n"
     ]
    },
    {
     "name": "stdout",
     "output_type": "stream",
     "text": [
      "Started parsing the file under job_id 947a2306-0fd4-4379-8b1c-a987ad7af11c\n"
     ]
    },
    {
     "name": "stderr",
     "output_type": "stream",
     "text": [
      "INFO: HTTP Request: GET https://api.cloud.llamaindex.ai/api/parsing/job/947a2306-0fd4-4379-8b1c-a987ad7af11c \"HTTP/1.1 200 OK\"\n",
      "INFO: HTTP Request: GET https://api.cloud.llamaindex.ai/api/parsing/job/947a2306-0fd4-4379-8b1c-a987ad7af11c/result/markdown \"HTTP/1.1 200 OK\"\n"
     ]
    },
    {
     "name": "stdout",
     "output_type": "stream",
     "text": [
      "../data/out/md/285-Support-Students-with-Disabilitiespdf.md saved.\n"
     ]
    },
    {
     "name": "stderr",
     "output_type": "stream",
     "text": [
      "INFO: HTTP Request: POST https://api.cloud.llamaindex.ai/api/parsing/upload \"HTTP/1.1 200 OK\"\n"
     ]
    },
    {
     "name": "stdout",
     "output_type": "stream",
     "text": [
      "Started parsing the file under job_id 0ee0a99a-150b-4d85-a9ca-2219812e72ca\n"
     ]
    },
    {
     "name": "stderr",
     "output_type": "stream",
     "text": [
      "INFO: HTTP Request: GET https://api.cloud.llamaindex.ai/api/parsing/job/0ee0a99a-150b-4d85-a9ca-2219812e72ca \"HTTP/1.1 200 OK\"\n",
      "INFO: HTTP Request: GET https://api.cloud.llamaindex.ai/api/parsing/job/0ee0a99a-150b-4d85-a9ca-2219812e72ca/result/markdown \"HTTP/1.1 200 OK\"\n"
     ]
    },
    {
     "name": "stdout",
     "output_type": "stream",
     "text": [
      "../data/out/md/286-Switching-to-EC-PATHpdf.md saved.\n"
     ]
    },
    {
     "name": "stderr",
     "output_type": "stream",
     "text": [
      "INFO: HTTP Request: POST https://api.cloud.llamaindex.ai/api/parsing/upload \"HTTP/1.1 200 OK\"\n"
     ]
    },
    {
     "name": "stdout",
     "output_type": "stream",
     "text": [
      "Started parsing the file under job_id 7e8fa57f-6237-4778-aa4f-2a22e86d522d\n"
     ]
    },
    {
     "name": "stderr",
     "output_type": "stream",
     "text": [
      "INFO: HTTP Request: GET https://api.cloud.llamaindex.ai/api/parsing/job/7e8fa57f-6237-4778-aa4f-2a22e86d522d \"HTTP/1.1 200 OK\"\n",
      "INFO: HTTP Request: GET https://api.cloud.llamaindex.ai/api/parsing/job/7e8fa57f-6237-4778-aa4f-2a22e86d522d/result/markdown \"HTTP/1.1 200 OK\"\n"
     ]
    },
    {
     "name": "stdout",
     "output_type": "stream",
     "text": [
      "../data/out/md/287-TAGALOG-CSM-Application-Octpdf.md saved.\n"
     ]
    },
    {
     "name": "stderr",
     "output_type": "stream",
     "text": [
      "INFO: HTTP Request: POST https://api.cloud.llamaindex.ai/api/parsing/upload \"HTTP/1.1 200 OK\"\n"
     ]
    },
    {
     "name": "stdout",
     "output_type": "stream",
     "text": [
      "Started parsing the file under job_id 189fbebd-0989-4054-96c2-05e0bbdcda4e\n"
     ]
    },
    {
     "name": "stderr",
     "output_type": "stream",
     "text": [
      "INFO: HTTP Request: GET https://api.cloud.llamaindex.ai/api/parsing/job/189fbebd-0989-4054-96c2-05e0bbdcda4e \"HTTP/1.1 200 OK\"\n",
      "INFO: HTTP Request: GET https://api.cloud.llamaindex.ai/api/parsing/job/189fbebd-0989-4054-96c2-05e0bbdcda4e \"HTTP/1.1 200 OK\"\n",
      "INFO: HTTP Request: GET https://api.cloud.llamaindex.ai/api/parsing/job/189fbebd-0989-4054-96c2-05e0bbdcda4e \"HTTP/1.1 200 OK\"\n",
      "INFO: HTTP Request: GET https://api.cloud.llamaindex.ai/api/parsing/job/189fbebd-0989-4054-96c2-05e0bbdcda4e \"HTTP/1.1 200 OK\"\n",
      "INFO: HTTP Request: GET https://api.cloud.llamaindex.ai/api/parsing/job/189fbebd-0989-4054-96c2-05e0bbdcda4e \"HTTP/1.1 200 OK\"\n",
      "INFO: HTTP Request: GET https://api.cloud.llamaindex.ai/api/parsing/job/189fbebd-0989-4054-96c2-05e0bbdcda4e/result/markdown \"HTTP/1.1 200 OK\"\n"
     ]
    },
    {
     "name": "stdout",
     "output_type": "stream",
     "text": [
      "../data/out/md/288-Temple-Make-and-Keep-Covenantspdf.md saved.\n"
     ]
    },
    {
     "name": "stderr",
     "output_type": "stream",
     "text": [
      "INFO: HTTP Request: POST https://api.cloud.llamaindex.ai/api/parsing/upload \"HTTP/1.1 200 OK\"\n"
     ]
    },
    {
     "name": "stdout",
     "output_type": "stream",
     "text": [
      "Started parsing the file under job_id 2df5d599-fe6b-475a-b6de-74757043066b\n"
     ]
    },
    {
     "name": "stderr",
     "output_type": "stream",
     "text": [
      "INFO: HTTP Request: GET https://api.cloud.llamaindex.ai/api/parsing/job/2df5d599-fe6b-475a-b6de-74757043066b \"HTTP/1.1 200 OK\"\n",
      "INFO: HTTP Request: GET https://api.cloud.llamaindex.ai/api/parsing/job/2df5d599-fe6b-475a-b6de-74757043066b \"HTTP/1.1 200 OK\"\n",
      "INFO: HTTP Request: GET https://api.cloud.llamaindex.ai/api/parsing/job/2df5d599-fe6b-475a-b6de-74757043066b \"HTTP/1.1 200 OK\"\n",
      "INFO: HTTP Request: GET https://api.cloud.llamaindex.ai/api/parsing/job/2df5d599-fe6b-475a-b6de-74757043066b \"HTTP/1.1 200 OK\"\n",
      "INFO: HTTP Request: GET https://api.cloud.llamaindex.ai/api/parsing/job/2df5d599-fe6b-475a-b6de-74757043066b \"HTTP/1.1 200 OK\"\n",
      "INFO: HTTP Request: GET https://api.cloud.llamaindex.ai/api/parsing/job/2df5d599-fe6b-475a-b6de-74757043066b/result/markdown \"HTTP/1.1 200 OK\"\n"
     ]
    },
    {
     "name": "stdout",
     "output_type": "stream",
     "text": [
      "../data/out/md/289-The--Ps-Purpose-Power--Planpdf.md saved.\n"
     ]
    },
    {
     "name": "stderr",
     "output_type": "stream",
     "text": [
      "INFO: HTTP Request: POST https://api.cloud.llamaindex.ai/api/parsing/upload \"HTTP/1.1 200 OK\"\n"
     ]
    },
    {
     "name": "stdout",
     "output_type": "stream",
     "text": [
      "Started parsing the file under job_id 7a5c8981-aa47-41da-a9fd-81f4a2b409b7\n"
     ]
    },
    {
     "name": "stderr",
     "output_type": "stream",
     "text": [
      "INFO: HTTP Request: GET https://api.cloud.llamaindex.ai/api/parsing/job/7a5c8981-aa47-41da-a9fd-81f4a2b409b7 \"HTTP/1.1 200 OK\"\n",
      "INFO: HTTP Request: GET https://api.cloud.llamaindex.ai/api/parsing/job/7a5c8981-aa47-41da-a9fd-81f4a2b409b7 \"HTTP/1.1 200 OK\"\n",
      "INFO: HTTP Request: GET https://api.cloud.llamaindex.ai/api/parsing/job/7a5c8981-aa47-41da-a9fd-81f4a2b409b7 \"HTTP/1.1 200 OK\"\n",
      "INFO: HTTP Request: GET https://api.cloud.llamaindex.ai/api/parsing/job/7a5c8981-aa47-41da-a9fd-81f4a2b409b7 \"HTTP/1.1 200 OK\"\n",
      "INFO: HTTP Request: GET https://api.cloud.llamaindex.ai/api/parsing/job/7a5c8981-aa47-41da-a9fd-81f4a2b409b7 \"HTTP/1.1 200 OK\"\n",
      "INFO: HTTP Request: GET https://api.cloud.llamaindex.ai/api/parsing/job/7a5c8981-aa47-41da-a9fd-81f4a2b409b7 \"HTTP/1.1 200 OK\"\n",
      "INFO: HTTP Request: GET https://api.cloud.llamaindex.ai/api/parsing/job/7a5c8981-aa47-41da-a9fd-81f4a2b409b7 \"HTTP/1.1 200 OK\"\n",
      "INFO: HTTP Request: GET https://api.cloud.llamaindex.ai/api/parsing/job/7a5c8981-aa47-41da-a9fd-81f4a2b409b7/result/markdown \"HTTP/1.1 200 OK\"\n"
     ]
    },
    {
     "name": "stdout",
     "output_type": "stream",
     "text": [
      "../data/out/md/29-BYU-Pathway-Worldwide-Historypdf.md saved.\n"
     ]
    },
    {
     "name": "stderr",
     "output_type": "stream",
     "text": [
      "INFO: HTTP Request: POST https://api.cloud.llamaindex.ai/api/parsing/upload \"HTTP/1.1 200 OK\"\n"
     ]
    },
    {
     "name": "stdout",
     "output_type": "stream",
     "text": [
      "Started parsing the file under job_id e9cbf487-f826-4e1e-affc-83aa40162730\n"
     ]
    },
    {
     "name": "stderr",
     "output_type": "stream",
     "text": [
      "INFO: HTTP Request: GET https://api.cloud.llamaindex.ai/api/parsing/job/e9cbf487-f826-4e1e-affc-83aa40162730 \"HTTP/1.1 200 OK\"\n",
      "INFO: HTTP Request: GET https://api.cloud.llamaindex.ai/api/parsing/job/e9cbf487-f826-4e1e-affc-83aa40162730/result/markdown \"HTTP/1.1 200 OK\"\n"
     ]
    },
    {
     "name": "stdout",
     "output_type": "stream",
     "text": [
      "../data/out/md/29-BYU-Pathway-Worldwide-Historypdf.md saved.\n"
     ]
    },
    {
     "name": "stderr",
     "output_type": "stream",
     "text": [
      "INFO: HTTP Request: POST https://api.cloud.llamaindex.ai/api/parsing/upload \"HTTP/1.1 200 OK\"\n"
     ]
    },
    {
     "name": "stdout",
     "output_type": "stream",
     "text": [
      "Started parsing the file under job_id 4dc54588-8197-4d08-ab89-bd58c1baedc9\n"
     ]
    },
    {
     "name": "stderr",
     "output_type": "stream",
     "text": [
      "INFO: HTTP Request: GET https://api.cloud.llamaindex.ai/api/parsing/job/4dc54588-8197-4d08-ab89-bd58c1baedc9 \"HTTP/1.1 200 OK\"\n",
      "INFO: HTTP Request: GET https://api.cloud.llamaindex.ai/api/parsing/job/4dc54588-8197-4d08-ab89-bd58c1baedc9 \"HTTP/1.1 200 OK\"\n",
      "INFO: HTTP Request: GET https://api.cloud.llamaindex.ai/api/parsing/job/4dc54588-8197-4d08-ab89-bd58c1baedc9 \"HTTP/1.1 200 OK\"\n",
      "INFO: HTTP Request: GET https://api.cloud.llamaindex.ai/api/parsing/job/4dc54588-8197-4d08-ab89-bd58c1baedc9 \"HTTP/1.1 200 OK\"\n",
      "INFO: HTTP Request: GET https://api.cloud.llamaindex.ai/api/parsing/job/4dc54588-8197-4d08-ab89-bd58c1baedc9 \"HTTP/1.1 200 OK\"\n",
      "INFO: HTTP Request: GET https://api.cloud.llamaindex.ai/api/parsing/job/4dc54588-8197-4d08-ab89-bd58c1baedc9/result/markdown \"HTTP/1.1 200 OK\"\n"
     ]
    },
    {
     "name": "stdout",
     "output_type": "stream",
     "text": [
      "../data/out/md/290-Three-Year-Degreepdf.md saved.\n"
     ]
    },
    {
     "name": "stderr",
     "output_type": "stream",
     "text": [
      "INFO: HTTP Request: POST https://api.cloud.llamaindex.ai/api/parsing/upload \"HTTP/1.1 200 OK\"\n"
     ]
    },
    {
     "name": "stdout",
     "output_type": "stream",
     "text": [
      "Started parsing the file under job_id dd606b9f-8eaa-4029-ba79-171e40690933\n"
     ]
    },
    {
     "name": "stderr",
     "output_type": "stream",
     "text": [
      "INFO: HTTP Request: GET https://api.cloud.llamaindex.ai/api/parsing/job/dd606b9f-8eaa-4029-ba79-171e40690933 \"HTTP/1.1 200 OK\"\n",
      "INFO: HTTP Request: GET https://api.cloud.llamaindex.ai/api/parsing/job/dd606b9f-8eaa-4029-ba79-171e40690933 \"HTTP/1.1 200 OK\"\n",
      "INFO: HTTP Request: GET https://api.cloud.llamaindex.ai/api/parsing/job/dd606b9f-8eaa-4029-ba79-171e40690933 \"HTTP/1.1 200 OK\"\n",
      "INFO: HTTP Request: GET https://api.cloud.llamaindex.ai/api/parsing/job/dd606b9f-8eaa-4029-ba79-171e40690933 \"HTTP/1.1 200 OK\"\n",
      "INFO: HTTP Request: GET https://api.cloud.llamaindex.ai/api/parsing/job/dd606b9f-8eaa-4029-ba79-171e40690933 \"HTTP/1.1 200 OK\"\n",
      "INFO: HTTP Request: GET https://api.cloud.llamaindex.ai/api/parsing/job/dd606b9f-8eaa-4029-ba79-171e40690933 \"HTTP/1.1 200 OK\"\n",
      "INFO: HTTP Request: GET https://api.cloud.llamaindex.ai/api/parsing/job/dd606b9f-8eaa-4029-ba79-171e40690933/result/markdown \"HTTP/1.1 200 OK\"\n"
     ]
    },
    {
     "name": "stdout",
     "output_type": "stream",
     "text": [
      "../data/out/md/291-Tips-for-Zoom-on-a-Mobile-Apppdf.md saved.\n"
     ]
    },
    {
     "name": "stderr",
     "output_type": "stream",
     "text": [
      "INFO: HTTP Request: POST https://api.cloud.llamaindex.ai/api/parsing/upload \"HTTP/1.1 200 OK\"\n"
     ]
    },
    {
     "name": "stdout",
     "output_type": "stream",
     "text": [
      "Started parsing the file under job_id da22537d-b49d-4d90-bc65-2afef585ccb8\n"
     ]
    },
    {
     "name": "stderr",
     "output_type": "stream",
     "text": [
      "INFO: HTTP Request: GET https://api.cloud.llamaindex.ai/api/parsing/job/da22537d-b49d-4d90-bc65-2afef585ccb8 \"HTTP/1.1 200 OK\"\n",
      "INFO: HTTP Request: GET https://api.cloud.llamaindex.ai/api/parsing/job/da22537d-b49d-4d90-bc65-2afef585ccb8 \"HTTP/1.1 200 OK\"\n",
      "INFO: HTTP Request: GET https://api.cloud.llamaindex.ai/api/parsing/job/da22537d-b49d-4d90-bc65-2afef585ccb8 \"HTTP/1.1 200 OK\"\n",
      "INFO: HTTP Request: GET https://api.cloud.llamaindex.ai/api/parsing/job/da22537d-b49d-4d90-bc65-2afef585ccb8 \"HTTP/1.1 200 OK\"\n",
      "INFO: HTTP Request: GET https://api.cloud.llamaindex.ai/api/parsing/job/da22537d-b49d-4d90-bc65-2afef585ccb8 \"HTTP/1.1 200 OK\"\n",
      "INFO: HTTP Request: GET https://api.cloud.llamaindex.ai/api/parsing/job/da22537d-b49d-4d90-bc65-2afef585ccb8/result/markdown \"HTTP/1.1 200 OK\"\n"
     ]
    },
    {
     "name": "stdout",
     "output_type": "stream",
     "text": [
      "../data/out/md/292-Transferring-a-Student-to-a-Different-Areapdf.md saved.\n"
     ]
    },
    {
     "name": "stderr",
     "output_type": "stream",
     "text": [
      "INFO: HTTP Request: POST https://api.cloud.llamaindex.ai/api/parsing/upload \"HTTP/1.1 200 OK\"\n"
     ]
    },
    {
     "name": "stdout",
     "output_type": "stream",
     "text": [
      "Started parsing the file under job_id 8775ad61-03a0-48c5-83ee-170612c84bcb\n"
     ]
    },
    {
     "name": "stderr",
     "output_type": "stream",
     "text": [
      "INFO: HTTP Request: GET https://api.cloud.llamaindex.ai/api/parsing/job/8775ad61-03a0-48c5-83ee-170612c84bcb \"HTTP/1.1 200 OK\"\n",
      "INFO: HTTP Request: GET https://api.cloud.llamaindex.ai/api/parsing/job/8775ad61-03a0-48c5-83ee-170612c84bcb \"HTTP/1.1 200 OK\"\n",
      "INFO: HTTP Request: GET https://api.cloud.llamaindex.ai/api/parsing/job/8775ad61-03a0-48c5-83ee-170612c84bcb \"HTTP/1.1 200 OK\"\n",
      "INFO: HTTP Request: GET https://api.cloud.llamaindex.ai/api/parsing/job/8775ad61-03a0-48c5-83ee-170612c84bcb \"HTTP/1.1 200 OK\"\n",
      "INFO: HTTP Request: GET https://api.cloud.llamaindex.ai/api/parsing/job/8775ad61-03a0-48c5-83ee-170612c84bcb/result/markdown \"HTTP/1.1 200 OK\"\n"
     ]
    },
    {
     "name": "stdout",
     "output_type": "stream",
     "text": [
      "../data/out/md/293-Transferring-a-Student-to-a-Different-Locationpdf.md saved.\n"
     ]
    },
    {
     "name": "stderr",
     "output_type": "stream",
     "text": [
      "INFO: HTTP Request: POST https://api.cloud.llamaindex.ai/api/parsing/upload \"HTTP/1.1 200 OK\"\n"
     ]
    },
    {
     "name": "stdout",
     "output_type": "stream",
     "text": [
      "Started parsing the file under job_id bd74a0fc-3e0f-47d9-89c5-87aeae50e694\n"
     ]
    },
    {
     "name": "stderr",
     "output_type": "stream",
     "text": [
      "INFO: HTTP Request: GET https://api.cloud.llamaindex.ai/api/parsing/job/bd74a0fc-3e0f-47d9-89c5-87aeae50e694 \"HTTP/1.1 200 OK\"\n",
      "INFO: HTTP Request: GET https://api.cloud.llamaindex.ai/api/parsing/job/bd74a0fc-3e0f-47d9-89c5-87aeae50e694 \"HTTP/1.1 200 OK\"\n",
      "INFO: HTTP Request: GET https://api.cloud.llamaindex.ai/api/parsing/job/bd74a0fc-3e0f-47d9-89c5-87aeae50e694 \"HTTP/1.1 200 OK\"\n",
      "INFO: HTTP Request: GET https://api.cloud.llamaindex.ai/api/parsing/job/bd74a0fc-3e0f-47d9-89c5-87aeae50e694/result/markdown \"HTTP/1.1 200 OK\"\n"
     ]
    },
    {
     "name": "stdout",
     "output_type": "stream",
     "text": [
      "../data/out/md/294-Transferring-a-Student-to-a-Different-Programpdf.md saved.\n"
     ]
    },
    {
     "name": "stderr",
     "output_type": "stream",
     "text": [
      "INFO: HTTP Request: POST https://api.cloud.llamaindex.ai/api/parsing/upload \"HTTP/1.1 200 OK\"\n"
     ]
    },
    {
     "name": "stdout",
     "output_type": "stream",
     "text": [
      "Started parsing the file under job_id 7beef936-c30f-4eab-b096-b585ef8ca72d\n"
     ]
    },
    {
     "name": "stderr",
     "output_type": "stream",
     "text": [
      "INFO: HTTP Request: GET https://api.cloud.llamaindex.ai/api/parsing/job/7beef936-c30f-4eab-b096-b585ef8ca72d \"HTTP/1.1 200 OK\"\n",
      "INFO: HTTP Request: GET https://api.cloud.llamaindex.ai/api/parsing/job/7beef936-c30f-4eab-b096-b585ef8ca72d \"HTTP/1.1 200 OK\"\n",
      "INFO: HTTP Request: GET https://api.cloud.llamaindex.ai/api/parsing/job/7beef936-c30f-4eab-b096-b585ef8ca72d \"HTTP/1.1 200 OK\"\n",
      "INFO: HTTP Request: GET https://api.cloud.llamaindex.ai/api/parsing/job/7beef936-c30f-4eab-b096-b585ef8ca72d \"HTTP/1.1 200 OK\"\n",
      "INFO: HTTP Request: GET https://api.cloud.llamaindex.ai/api/parsing/job/7beef936-c30f-4eab-b096-b585ef8ca72d/result/markdown \"HTTP/1.1 200 OK\"\n"
     ]
    },
    {
     "name": "stdout",
     "output_type": "stream",
     "text": [
      "../data/out/md/295-Transferring-a-Student-within-a-Locationpdf.md saved.\n"
     ]
    },
    {
     "name": "stderr",
     "output_type": "stream",
     "text": [
      "INFO: HTTP Request: POST https://api.cloud.llamaindex.ai/api/parsing/upload \"HTTP/1.1 200 OK\"\n"
     ]
    },
    {
     "name": "stdout",
     "output_type": "stream",
     "text": [
      "Started parsing the file under job_id aafe5568-2d34-45b2-a4d5-26181624279b\n"
     ]
    },
    {
     "name": "stderr",
     "output_type": "stream",
     "text": [
      "INFO: HTTP Request: GET https://api.cloud.llamaindex.ai/api/parsing/job/aafe5568-2d34-45b2-a4d5-26181624279b \"HTTP/1.1 200 OK\"\n",
      "INFO: HTTP Request: GET https://api.cloud.llamaindex.ai/api/parsing/job/aafe5568-2d34-45b2-a4d5-26181624279b \"HTTP/1.1 200 OK\"\n",
      "INFO: HTTP Request: GET https://api.cloud.llamaindex.ai/api/parsing/job/aafe5568-2d34-45b2-a4d5-26181624279b \"HTTP/1.1 200 OK\"\n",
      "INFO: HTTP Request: GET https://api.cloud.llamaindex.ai/api/parsing/job/aafe5568-2d34-45b2-a4d5-26181624279b \"HTTP/1.1 200 OK\"\n",
      "INFO: HTTP Request: GET https://api.cloud.llamaindex.ai/api/parsing/job/aafe5568-2d34-45b2-a4d5-26181624279b \"HTTP/1.1 200 OK\"\n",
      "INFO: HTTP Request: GET https://api.cloud.llamaindex.ai/api/parsing/job/aafe5568-2d34-45b2-a4d5-26181624279b \"HTTP/1.1 200 OK\"\n",
      "INFO: HTTP Request: GET https://api.cloud.llamaindex.ai/api/parsing/job/aafe5568-2d34-45b2-a4d5-26181624279b/result/markdown \"HTTP/1.1 200 OK\"\n"
     ]
    },
    {
     "name": "stdout",
     "output_type": "stream",
     "text": [
      "../data/out/md/296-Troubleshoot-platform-issuespdf.md saved.\n"
     ]
    },
    {
     "name": "stderr",
     "output_type": "stream",
     "text": [
      "INFO: HTTP Request: POST https://api.cloud.llamaindex.ai/api/parsing/upload \"HTTP/1.1 200 OK\"\n"
     ]
    },
    {
     "name": "stdout",
     "output_type": "stream",
     "text": [
      "Started parsing the file under job_id f70becac-4ebf-4f76-898e-f042ef55a8ef\n"
     ]
    },
    {
     "name": "stderr",
     "output_type": "stream",
     "text": [
      "INFO: HTTP Request: GET https://api.cloud.llamaindex.ai/api/parsing/job/f70becac-4ebf-4f76-898e-f042ef55a8ef \"HTTP/1.1 200 OK\"\n",
      "INFO: HTTP Request: GET https://api.cloud.llamaindex.ai/api/parsing/job/f70becac-4ebf-4f76-898e-f042ef55a8ef \"HTTP/1.1 200 OK\"\n",
      "INFO: HTTP Request: GET https://api.cloud.llamaindex.ai/api/parsing/job/f70becac-4ebf-4f76-898e-f042ef55a8ef \"HTTP/1.1 200 OK\"\n",
      "INFO: HTTP Request: GET https://api.cloud.llamaindex.ai/api/parsing/job/f70becac-4ebf-4f76-898e-f042ef55a8ef \"HTTP/1.1 200 OK\"\n",
      "INFO: HTTP Request: GET https://api.cloud.llamaindex.ai/api/parsing/job/f70becac-4ebf-4f76-898e-f042ef55a8ef \"HTTP/1.1 200 OK\"\n",
      "INFO: HTTP Request: GET https://api.cloud.llamaindex.ai/api/parsing/job/f70becac-4ebf-4f76-898e-f042ef55a8ef \"HTTP/1.1 200 OK\"\n",
      "INFO: HTTP Request: GET https://api.cloud.llamaindex.ai/api/parsing/job/f70becac-4ebf-4f76-898e-f042ef55a8ef/result/markdown \"HTTP/1.1 200 OK\"\n"
     ]
    },
    {
     "name": "stdout",
     "output_type": "stream",
     "text": [
      "../data/out/md/297-Understand-and-Help-Adult-Learners-Progresspdf.md saved.\n"
     ]
    },
    {
     "name": "stderr",
     "output_type": "stream",
     "text": [
      "INFO: HTTP Request: POST https://api.cloud.llamaindex.ai/api/parsing/upload \"HTTP/1.1 200 OK\"\n"
     ]
    },
    {
     "name": "stdout",
     "output_type": "stream",
     "text": [
      "Started parsing the file under job_id a9e8f57a-01c4-4752-abb5-06d010b835a5\n"
     ]
    },
    {
     "name": "stderr",
     "output_type": "stream",
     "text": [
      "INFO: HTTP Request: GET https://api.cloud.llamaindex.ai/api/parsing/job/a9e8f57a-01c4-4752-abb5-06d010b835a5 \"HTTP/1.1 200 OK\"\n",
      "INFO: HTTP Request: GET https://api.cloud.llamaindex.ai/api/parsing/job/a9e8f57a-01c4-4752-abb5-06d010b835a5/result/markdown \"HTTP/1.1 200 OK\"\n"
     ]
    },
    {
     "name": "stdout",
     "output_type": "stream",
     "text": [
      "../data/out/md/297-Understand-and-Help-Adult-Learners-Progresspdf.md saved.\n"
     ]
    },
    {
     "name": "stderr",
     "output_type": "stream",
     "text": [
      "INFO: HTTP Request: POST https://api.cloud.llamaindex.ai/api/parsing/upload \"HTTP/1.1 200 OK\"\n"
     ]
    },
    {
     "name": "stdout",
     "output_type": "stream",
     "text": [
      "Started parsing the file under job_id d644a19c-691d-49de-b7d8-5551dbef7e8e\n"
     ]
    },
    {
     "name": "stderr",
     "output_type": "stream",
     "text": [
      "INFO: HTTP Request: GET https://api.cloud.llamaindex.ai/api/parsing/job/d644a19c-691d-49de-b7d8-5551dbef7e8e \"HTTP/1.1 200 OK\"\n",
      "INFO: HTTP Request: GET https://api.cloud.llamaindex.ai/api/parsing/job/d644a19c-691d-49de-b7d8-5551dbef7e8e \"HTTP/1.1 200 OK\"\n",
      "INFO: HTTP Request: GET https://api.cloud.llamaindex.ai/api/parsing/job/d644a19c-691d-49de-b7d8-5551dbef7e8e \"HTTP/1.1 200 OK\"\n",
      "INFO: HTTP Request: GET https://api.cloud.llamaindex.ai/api/parsing/job/d644a19c-691d-49de-b7d8-5551dbef7e8e \"HTTP/1.1 200 OK\"\n",
      "INFO: HTTP Request: GET https://api.cloud.llamaindex.ai/api/parsing/job/d644a19c-691d-49de-b7d8-5551dbef7e8e \"HTTP/1.1 200 OK\"\n",
      "INFO: HTTP Request: GET https://api.cloud.llamaindex.ai/api/parsing/job/d644a19c-691d-49de-b7d8-5551dbef7e8e \"HTTP/1.1 200 OK\"\n",
      "INFO: HTTP Request: GET https://api.cloud.llamaindex.ai/api/parsing/job/d644a19c-691d-49de-b7d8-5551dbef7e8e \"HTTP/1.1 200 OK\"\n",
      "INFO: HTTP Request: GET https://api.cloud.llamaindex.ai/api/parsing/job/d644a19c-691d-49de-b7d8-5551dbef7e8e \"HTTP/1.1 200 OK\"\n",
      "INFO: HTTP Request: GET https://api.cloud.llamaindex.ai/api/parsing/job/d644a19c-691d-49de-b7d8-5551dbef7e8e \"HTTP/1.1 200 OK\"\n",
      "INFO: HTTP Request: GET https://api.cloud.llamaindex.ai/api/parsing/job/d644a19c-691d-49de-b7d8-5551dbef7e8e \"HTTP/1.1 200 OK\"\n",
      "INFO: HTTP Request: GET https://api.cloud.llamaindex.ai/api/parsing/job/d644a19c-691d-49de-b7d8-5551dbef7e8e/result/markdown \"HTTP/1.1 200 OK\"\n"
     ]
    },
    {
     "name": "stdout",
     "output_type": "stream",
     "text": [
      "../data/out/md/298-Understanding-Certificates-Revisedpdf.md saved.\n"
     ]
    },
    {
     "name": "stderr",
     "output_type": "stream",
     "text": [
      "INFO: HTTP Request: POST https://api.cloud.llamaindex.ai/api/parsing/upload \"HTTP/1.1 200 OK\"\n"
     ]
    },
    {
     "name": "stdout",
     "output_type": "stream",
     "text": [
      "Started parsing the file under job_id 5ef11ad6-3960-4c54-98dd-27f67e2b334b\n"
     ]
    },
    {
     "name": "stderr",
     "output_type": "stream",
     "text": [
      "INFO: HTTP Request: GET https://api.cloud.llamaindex.ai/api/parsing/job/5ef11ad6-3960-4c54-98dd-27f67e2b334b \"HTTP/1.1 200 OK\"\n",
      "INFO: HTTP Request: GET https://api.cloud.llamaindex.ai/api/parsing/job/5ef11ad6-3960-4c54-98dd-27f67e2b334b \"HTTP/1.1 200 OK\"\n",
      "INFO: HTTP Request: GET https://api.cloud.llamaindex.ai/api/parsing/job/5ef11ad6-3960-4c54-98dd-27f67e2b334b \"HTTP/1.1 200 OK\"\n",
      "INFO: HTTP Request: GET https://api.cloud.llamaindex.ai/api/parsing/job/5ef11ad6-3960-4c54-98dd-27f67e2b334b \"HTTP/1.1 200 OK\"\n",
      "INFO: HTTP Request: GET https://api.cloud.llamaindex.ai/api/parsing/job/5ef11ad6-3960-4c54-98dd-27f67e2b334b/result/markdown \"HTTP/1.1 200 OK\"\n"
     ]
    },
    {
     "name": "stdout",
     "output_type": "stream",
     "text": [
      "../data/out/md/299-Understanding-the-Groups-Page-ECpdf.md saved.\n"
     ]
    },
    {
     "name": "stderr",
     "output_type": "stream",
     "text": [
      "INFO: HTTP Request: POST https://api.cloud.llamaindex.ai/api/parsing/upload \"HTTP/1.1 200 OK\"\n"
     ]
    },
    {
     "name": "stdout",
     "output_type": "stream",
     "text": [
      "Started parsing the file under job_id 2ad715d6-d9b5-479c-8b46-5c972b6c7fe1\n"
     ]
    },
    {
     "name": "stderr",
     "output_type": "stream",
     "text": [
      "INFO: HTTP Request: GET https://api.cloud.llamaindex.ai/api/parsing/job/2ad715d6-d9b5-479c-8b46-5c972b6c7fe1 \"HTTP/1.1 200 OK\"\n",
      "INFO: HTTP Request: GET https://api.cloud.llamaindex.ai/api/parsing/job/2ad715d6-d9b5-479c-8b46-5c972b6c7fe1 \"HTTP/1.1 200 OK\"\n",
      "INFO: HTTP Request: GET https://api.cloud.llamaindex.ai/api/parsing/job/2ad715d6-d9b5-479c-8b46-5c972b6c7fe1 \"HTTP/1.1 200 OK\"\n",
      "INFO: HTTP Request: GET https://api.cloud.llamaindex.ai/api/parsing/job/2ad715d6-d9b5-479c-8b46-5c972b6c7fe1 \"HTTP/1.1 200 OK\"\n",
      "INFO: HTTP Request: GET https://api.cloud.llamaindex.ai/api/parsing/job/2ad715d6-d9b5-479c-8b46-5c972b6c7fe1 \"HTTP/1.1 200 OK\"\n",
      "INFO: HTTP Request: GET https://api.cloud.llamaindex.ai/api/parsing/job/2ad715d6-d9b5-479c-8b46-5c972b6c7fe1 \"HTTP/1.1 200 OK\"\n",
      "INFO: HTTP Request: GET https://api.cloud.llamaindex.ai/api/parsing/job/2ad715d6-d9b5-479c-8b46-5c972b6c7fe1/result/markdown \"HTTP/1.1 200 OK\"\n"
     ]
    },
    {
     "name": "stdout",
     "output_type": "stream",
     "text": [
      "../data/out/md/3-About-New-Student-Visitspdf.md saved.\n"
     ]
    },
    {
     "name": "stderr",
     "output_type": "stream",
     "text": [
      "INFO: HTTP Request: POST https://api.cloud.llamaindex.ai/api/parsing/upload \"HTTP/1.1 200 OK\"\n"
     ]
    },
    {
     "name": "stdout",
     "output_type": "stream",
     "text": [
      "Started parsing the file under job_id 672b5298-8f00-481c-b373-210684adbe38\n"
     ]
    },
    {
     "name": "stderr",
     "output_type": "stream",
     "text": [
      "INFO: HTTP Request: GET https://api.cloud.llamaindex.ai/api/parsing/job/672b5298-8f00-481c-b373-210684adbe38 \"HTTP/1.1 200 OK\"\n",
      "INFO: HTTP Request: GET https://api.cloud.llamaindex.ai/api/parsing/job/672b5298-8f00-481c-b373-210684adbe38/result/markdown \"HTTP/1.1 200 OK\"\n"
     ]
    },
    {
     "name": "stdout",
     "output_type": "stream",
     "text": [
      "../data/out/md/3-About-New-Student-Visitspdf.md saved.\n"
     ]
    },
    {
     "name": "stderr",
     "output_type": "stream",
     "text": [
      "INFO: HTTP Request: POST https://api.cloud.llamaindex.ai/api/parsing/upload \"HTTP/1.1 200 OK\"\n"
     ]
    },
    {
     "name": "stdout",
     "output_type": "stream",
     "text": [
      "Started parsing the file under job_id f57b413d-88a8-4fc3-bf34-5eb462c8358b\n"
     ]
    },
    {
     "name": "stderr",
     "output_type": "stream",
     "text": [
      "INFO: HTTP Request: GET https://api.cloud.llamaindex.ai/api/parsing/job/f57b413d-88a8-4fc3-bf34-5eb462c8358b \"HTTP/1.1 200 OK\"\n",
      "INFO: HTTP Request: GET https://api.cloud.llamaindex.ai/api/parsing/job/f57b413d-88a8-4fc3-bf34-5eb462c8358b \"HTTP/1.1 200 OK\"\n",
      "INFO: HTTP Request: GET https://api.cloud.llamaindex.ai/api/parsing/job/f57b413d-88a8-4fc3-bf34-5eb462c8358b \"HTTP/1.1 200 OK\"\n",
      "INFO: HTTP Request: GET https://api.cloud.llamaindex.ai/api/parsing/job/f57b413d-88a8-4fc3-bf34-5eb462c8358b/result/markdown \"HTTP/1.1 200 OK\"\n"
     ]
    },
    {
     "name": "stdout",
     "output_type": "stream",
     "text": [
      "../data/out/md/30-BYU-Pathway-Worldwide-Unapproved-Locationspdf.md saved.\n"
     ]
    },
    {
     "name": "stderr",
     "output_type": "stream",
     "text": [
      "INFO: HTTP Request: POST https://api.cloud.llamaindex.ai/api/parsing/upload \"HTTP/1.1 200 OK\"\n"
     ]
    },
    {
     "name": "stdout",
     "output_type": "stream",
     "text": [
      "Started parsing the file under job_id 3eba634b-4047-483e-ae2c-d86541413d1e\n"
     ]
    },
    {
     "name": "stderr",
     "output_type": "stream",
     "text": [
      "INFO: HTTP Request: GET https://api.cloud.llamaindex.ai/api/parsing/job/3eba634b-4047-483e-ae2c-d86541413d1e \"HTTP/1.1 200 OK\"\n",
      "INFO: HTTP Request: GET https://api.cloud.llamaindex.ai/api/parsing/job/3eba634b-4047-483e-ae2c-d86541413d1e \"HTTP/1.1 200 OK\"\n",
      "INFO: HTTP Request: GET https://api.cloud.llamaindex.ai/api/parsing/job/3eba634b-4047-483e-ae2c-d86541413d1e \"HTTP/1.1 200 OK\"\n",
      "INFO: HTTP Request: GET https://api.cloud.llamaindex.ai/api/parsing/job/3eba634b-4047-483e-ae2c-d86541413d1e \"HTTP/1.1 200 OK\"\n",
      "INFO: HTTP Request: GET https://api.cloud.llamaindex.ai/api/parsing/job/3eba634b-4047-483e-ae2c-d86541413d1e/result/markdown \"HTTP/1.1 200 OK\"\n"
     ]
    },
    {
     "name": "stdout",
     "output_type": "stream",
     "text": [
      "../data/out/md/300-Updating-Group-Informationpdf.md saved.\n"
     ]
    },
    {
     "name": "stderr",
     "output_type": "stream",
     "text": [
      "INFO: HTTP Request: POST https://api.cloud.llamaindex.ai/api/parsing/upload \"HTTP/1.1 200 OK\"\n"
     ]
    },
    {
     "name": "stdout",
     "output_type": "stream",
     "text": [
      "Started parsing the file under job_id a5646136-6b9a-4496-a953-492be0d73328\n"
     ]
    },
    {
     "name": "stderr",
     "output_type": "stream",
     "text": [
      "INFO: HTTP Request: GET https://api.cloud.llamaindex.ai/api/parsing/job/a5646136-6b9a-4496-a953-492be0d73328 \"HTTP/1.1 200 OK\"\n",
      "INFO: HTTP Request: GET https://api.cloud.llamaindex.ai/api/parsing/job/a5646136-6b9a-4496-a953-492be0d73328/result/markdown \"HTTP/1.1 200 OK\"\n"
     ]
    },
    {
     "name": "stdout",
     "output_type": "stream",
     "text": [
      "../data/out/md/301-Updating-Personal-Informationpdf.md saved.\n"
     ]
    },
    {
     "name": "stderr",
     "output_type": "stream",
     "text": [
      "INFO: HTTP Request: POST https://api.cloud.llamaindex.ai/api/parsing/upload \"HTTP/1.1 200 OK\"\n"
     ]
    },
    {
     "name": "stdout",
     "output_type": "stream",
     "text": [
      "Started parsing the file under job_id 30f7d2bd-b567-4d33-942c-4852d3e51969\n"
     ]
    },
    {
     "name": "stderr",
     "output_type": "stream",
     "text": [
      "INFO: HTTP Request: GET https://api.cloud.llamaindex.ai/api/parsing/job/30f7d2bd-b567-4d33-942c-4852d3e51969 \"HTTP/1.1 200 OK\"\n",
      "INFO: HTTP Request: GET https://api.cloud.llamaindex.ai/api/parsing/job/30f7d2bd-b567-4d33-942c-4852d3e51969/result/markdown \"HTTP/1.1 200 OK\"\n"
     ]
    },
    {
     "name": "stdout",
     "output_type": "stream",
     "text": [
      "../data/out/md/302-Updating-Your-Personal-Information-in-PATH-ECpdf.md saved.\n"
     ]
    },
    {
     "name": "stderr",
     "output_type": "stream",
     "text": [
      "INFO: HTTP Request: POST https://api.cloud.llamaindex.ai/api/parsing/upload \"HTTP/1.1 200 OK\"\n"
     ]
    },
    {
     "name": "stdout",
     "output_type": "stream",
     "text": [
      "Started parsing the file under job_id 552ffc60-6af2-4c4d-b26a-2352403b3104\n"
     ]
    },
    {
     "name": "stderr",
     "output_type": "stream",
     "text": [
      "INFO: HTTP Request: GET https://api.cloud.llamaindex.ai/api/parsing/job/552ffc60-6af2-4c4d-b26a-2352403b3104 \"HTTP/1.1 200 OK\"\n",
      "INFO: HTTP Request: GET https://api.cloud.llamaindex.ai/api/parsing/job/552ffc60-6af2-4c4d-b26a-2352403b3104 \"HTTP/1.1 200 OK\"\n",
      "INFO: HTTP Request: GET https://api.cloud.llamaindex.ai/api/parsing/job/552ffc60-6af2-4c4d-b26a-2352403b3104 \"HTTP/1.1 200 OK\"\n",
      "INFO: HTTP Request: GET https://api.cloud.llamaindex.ai/api/parsing/job/552ffc60-6af2-4c4d-b26a-2352403b3104/result/markdown \"HTTP/1.1 200 OK\"\n"
     ]
    },
    {
     "name": "stdout",
     "output_type": "stream",
     "text": [
      "../data/out/md/303-Updating-Your-Profile-Settingspdf.md saved.\n"
     ]
    },
    {
     "name": "stderr",
     "output_type": "stream",
     "text": [
      "INFO: HTTP Request: POST https://api.cloud.llamaindex.ai/api/parsing/upload \"HTTP/1.1 200 OK\"\n"
     ]
    },
    {
     "name": "stdout",
     "output_type": "stream",
     "text": [
      "Started parsing the file under job_id c25c0251-2a3b-473d-bae2-7528e3316745\n"
     ]
    },
    {
     "name": "stderr",
     "output_type": "stream",
     "text": [
      "INFO: HTTP Request: GET https://api.cloud.llamaindex.ai/api/parsing/job/c25c0251-2a3b-473d-bae2-7528e3316745 \"HTTP/1.1 200 OK\"\n",
      "INFO: HTTP Request: GET https://api.cloud.llamaindex.ai/api/parsing/job/c25c0251-2a3b-473d-bae2-7528e3316745 \"HTTP/1.1 200 OK\"\n",
      "INFO: HTTP Request: GET https://api.cloud.llamaindex.ai/api/parsing/job/c25c0251-2a3b-473d-bae2-7528e3316745 \"HTTP/1.1 200 OK\"\n",
      "INFO: HTTP Request: GET https://api.cloud.llamaindex.ai/api/parsing/job/c25c0251-2a3b-473d-bae2-7528e3316745 \"HTTP/1.1 200 OK\"\n",
      "INFO: HTTP Request: GET https://api.cloud.llamaindex.ai/api/parsing/job/c25c0251-2a3b-473d-bae2-7528e3316745/result/markdown \"HTTP/1.1 200 OK\"\n"
     ]
    },
    {
     "name": "stdout",
     "output_type": "stream",
     "text": [
      "../data/out/md/304-Updating-Your-Zoom-Room-Passcodepdf.md saved.\n"
     ]
    },
    {
     "name": "stderr",
     "output_type": "stream",
     "text": [
      "INFO: HTTP Request: POST https://api.cloud.llamaindex.ai/api/parsing/upload \"HTTP/1.1 200 OK\"\n"
     ]
    },
    {
     "name": "stdout",
     "output_type": "stream",
     "text": [
      "Started parsing the file under job_id cbd8a5ed-e6c0-495f-bd59-b8f62e61b197\n"
     ]
    },
    {
     "name": "stderr",
     "output_type": "stream",
     "text": [
      "INFO: HTTP Request: GET https://api.cloud.llamaindex.ai/api/parsing/job/cbd8a5ed-e6c0-495f-bd59-b8f62e61b197 \"HTTP/1.1 200 OK\"\n",
      "INFO: HTTP Request: GET https://api.cloud.llamaindex.ai/api/parsing/job/cbd8a5ed-e6c0-495f-bd59-b8f62e61b197 \"HTTP/1.1 200 OK\"\n",
      "INFO: HTTP Request: GET https://api.cloud.llamaindex.ai/api/parsing/job/cbd8a5ed-e6c0-495f-bd59-b8f62e61b197 \"HTTP/1.1 200 OK\"\n",
      "INFO: HTTP Request: GET https://api.cloud.llamaindex.ai/api/parsing/job/cbd8a5ed-e6c0-495f-bd59-b8f62e61b197/result/markdown \"HTTP/1.1 200 OK\"\n"
     ]
    },
    {
     "name": "stdout",
     "output_type": "stream",
     "text": [
      "../data/out/md/305-Use-Additional-Filterspdf.md saved.\n"
     ]
    },
    {
     "name": "stderr",
     "output_type": "stream",
     "text": [
      "INFO: HTTP Request: POST https://api.cloud.llamaindex.ai/api/parsing/upload \"HTTP/1.1 200 OK\"\n"
     ]
    },
    {
     "name": "stdout",
     "output_type": "stream",
     "text": [
      "Started parsing the file under job_id f740896d-dd87-4f50-b373-c30280364f52\n"
     ]
    },
    {
     "name": "stderr",
     "output_type": "stream",
     "text": [
      "INFO: HTTP Request: GET https://api.cloud.llamaindex.ai/api/parsing/job/f740896d-dd87-4f50-b373-c30280364f52 \"HTTP/1.1 200 OK\"\n",
      "INFO: HTTP Request: GET https://api.cloud.llamaindex.ai/api/parsing/job/f740896d-dd87-4f50-b373-c30280364f52 \"HTTP/1.1 200 OK\"\n",
      "INFO: HTTP Request: GET https://api.cloud.llamaindex.ai/api/parsing/job/f740896d-dd87-4f50-b373-c30280364f52 \"HTTP/1.1 200 OK\"\n",
      "INFO: HTTP Request: GET https://api.cloud.llamaindex.ai/api/parsing/job/f740896d-dd87-4f50-b373-c30280364f52 \"HTTP/1.1 200 OK\"\n",
      "INFO: HTTP Request: GET https://api.cloud.llamaindex.ai/api/parsing/job/f740896d-dd87-4f50-b373-c30280364f52/result/markdown \"HTTP/1.1 200 OK\"\n"
     ]
    },
    {
     "name": "stdout",
     "output_type": "stream",
     "text": [
      "../data/out/md/306-Using-BYUPW-Support-Knowledge-Articlespdf.md saved.\n"
     ]
    },
    {
     "name": "stderr",
     "output_type": "stream",
     "text": [
      "INFO: HTTP Request: POST https://api.cloud.llamaindex.ai/api/parsing/upload \"HTTP/1.1 200 OK\"\n"
     ]
    },
    {
     "name": "stdout",
     "output_type": "stream",
     "text": [
      "Started parsing the file under job_id 6ed0b58e-b7b0-45c6-a760-faf11c7f26b4\n"
     ]
    },
    {
     "name": "stderr",
     "output_type": "stream",
     "text": [
      "INFO: HTTP Request: GET https://api.cloud.llamaindex.ai/api/parsing/job/6ed0b58e-b7b0-45c6-a760-faf11c7f26b4 \"HTTP/1.1 200 OK\"\n",
      "INFO: HTTP Request: GET https://api.cloud.llamaindex.ai/api/parsing/job/6ed0b58e-b7b0-45c6-a760-faf11c7f26b4 \"HTTP/1.1 200 OK\"\n",
      "INFO: HTTP Request: GET https://api.cloud.llamaindex.ai/api/parsing/job/6ed0b58e-b7b0-45c6-a760-faf11c7f26b4 \"HTTP/1.1 200 OK\"\n",
      "INFO: HTTP Request: GET https://api.cloud.llamaindex.ai/api/parsing/job/6ed0b58e-b7b0-45c6-a760-faf11c7f26b4/result/markdown \"HTTP/1.1 200 OK\"\n"
     ]
    },
    {
     "name": "stdout",
     "output_type": "stream",
     "text": [
      "../data/out/md/307-Using-Canvas-Quick-Start-Guide.md saved.\n"
     ]
    },
    {
     "name": "stderr",
     "output_type": "stream",
     "text": [
      "INFO: HTTP Request: POST https://api.cloud.llamaindex.ai/api/parsing/upload \"HTTP/1.1 200 OK\"\n"
     ]
    },
    {
     "name": "stdout",
     "output_type": "stream",
     "text": [
      "Started parsing the file under job_id 91150e8a-e544-4342-90c7-a2e5d4ba3e8e\n"
     ]
    },
    {
     "name": "stderr",
     "output_type": "stream",
     "text": [
      "INFO: HTTP Request: GET https://api.cloud.llamaindex.ai/api/parsing/job/91150e8a-e544-4342-90c7-a2e5d4ba3e8e \"HTTP/1.1 200 OK\"\n",
      "INFO: HTTP Request: GET https://api.cloud.llamaindex.ai/api/parsing/job/91150e8a-e544-4342-90c7-a2e5d4ba3e8e/result/markdown \"HTTP/1.1 200 OK\"\n"
     ]
    },
    {
     "name": "stdout",
     "output_type": "stream",
     "text": [
      "../data/out/md/308-Using-Your-Zoom-Room-During-the-Weekpdf.md saved.\n"
     ]
    },
    {
     "name": "stderr",
     "output_type": "stream",
     "text": [
      "INFO: HTTP Request: POST https://api.cloud.llamaindex.ai/api/parsing/upload \"HTTP/1.1 200 OK\"\n"
     ]
    },
    {
     "name": "stdout",
     "output_type": "stream",
     "text": [
      "Started parsing the file under job_id b05af42e-8f43-4b1d-9970-147006c4a502\n"
     ]
    },
    {
     "name": "stderr",
     "output_type": "stream",
     "text": [
      "INFO: HTTP Request: GET https://api.cloud.llamaindex.ai/api/parsing/job/b05af42e-8f43-4b1d-9970-147006c4a502 \"HTTP/1.1 200 OK\"\n",
      "INFO: HTTP Request: GET https://api.cloud.llamaindex.ai/api/parsing/job/b05af42e-8f43-4b1d-9970-147006c4a502 \"HTTP/1.1 200 OK\"\n",
      "INFO: HTTP Request: GET https://api.cloud.llamaindex.ai/api/parsing/job/b05af42e-8f43-4b1d-9970-147006c4a502 \"HTTP/1.1 200 OK\"\n",
      "INFO: HTTP Request: GET https://api.cloud.llamaindex.ai/api/parsing/job/b05af42e-8f43-4b1d-9970-147006c4a502 \"HTTP/1.1 200 OK\"\n",
      "INFO: HTTP Request: GET https://api.cloud.llamaindex.ai/api/parsing/job/b05af42e-8f43-4b1d-9970-147006c4a502 \"HTTP/1.1 200 OK\"\n",
      "INFO: HTTP Request: GET https://api.cloud.llamaindex.ai/api/parsing/job/b05af42e-8f43-4b1d-9970-147006c4a502/result/markdown \"HTTP/1.1 200 OK\"\n"
     ]
    },
    {
     "name": "stdout",
     "output_type": "stream",
     "text": [
      "../data/out/md/309-Using-the-PATH-Search-Feature-ECpdf.md saved.\n"
     ]
    },
    {
     "name": "stderr",
     "output_type": "stream",
     "text": [
      "INFO: HTTP Request: POST https://api.cloud.llamaindex.ai/api/parsing/upload \"HTTP/1.1 200 OK\"\n"
     ]
    },
    {
     "name": "stdout",
     "output_type": "stream",
     "text": [
      "Started parsing the file under job_id be3b8b53-400f-469d-be4d-8eeb2b49ff66\n"
     ]
    },
    {
     "name": "stderr",
     "output_type": "stream",
     "text": [
      "INFO: HTTP Request: GET https://api.cloud.llamaindex.ai/api/parsing/job/be3b8b53-400f-469d-be4d-8eeb2b49ff66 \"HTTP/1.1 200 OK\"\n",
      "INFO: HTTP Request: GET https://api.cloud.llamaindex.ai/api/parsing/job/be3b8b53-400f-469d-be4d-8eeb2b49ff66/result/markdown \"HTTP/1.1 200 OK\"\n"
     ]
    },
    {
     "name": "stdout",
     "output_type": "stream",
     "text": [
      "../data/out/md/31-BYU-Pathway-in---Minutespdf.md saved.\n"
     ]
    },
    {
     "name": "stderr",
     "output_type": "stream",
     "text": [
      "INFO: HTTP Request: POST https://api.cloud.llamaindex.ai/api/parsing/upload \"HTTP/1.1 200 OK\"\n"
     ]
    },
    {
     "name": "stdout",
     "output_type": "stream",
     "text": [
      "Started parsing the file under job_id 0df3a515-3420-4f74-b8fd-99b79b2d5fc1\n"
     ]
    },
    {
     "name": "stderr",
     "output_type": "stream",
     "text": [
      "INFO: HTTP Request: GET https://api.cloud.llamaindex.ai/api/parsing/job/0df3a515-3420-4f74-b8fd-99b79b2d5fc1 \"HTTP/1.1 200 OK\"\n",
      "INFO: HTTP Request: GET https://api.cloud.llamaindex.ai/api/parsing/job/0df3a515-3420-4f74-b8fd-99b79b2d5fc1 \"HTTP/1.1 200 OK\"\n",
      "INFO: HTTP Request: GET https://api.cloud.llamaindex.ai/api/parsing/job/0df3a515-3420-4f74-b8fd-99b79b2d5fc1 \"HTTP/1.1 200 OK\"\n",
      "INFO: HTTP Request: GET https://api.cloud.llamaindex.ai/api/parsing/job/0df3a515-3420-4f74-b8fd-99b79b2d5fc1/result/markdown \"HTTP/1.1 200 OK\"\n"
     ]
    },
    {
     "name": "stdout",
     "output_type": "stream",
     "text": [
      "../data/out/md/310-Using-the-Site-Location-Directorypdf.md saved.\n"
     ]
    },
    {
     "name": "stderr",
     "output_type": "stream",
     "text": [
      "INFO: HTTP Request: POST https://api.cloud.llamaindex.ai/api/parsing/upload \"HTTP/1.1 200 OK\"\n"
     ]
    },
    {
     "name": "stdout",
     "output_type": "stream",
     "text": [
      "Started parsing the file under job_id 9b79c3ed-78a3-453f-a546-09fa95bb291b\n"
     ]
    },
    {
     "name": "stderr",
     "output_type": "stream",
     "text": [
      "INFO: HTTP Request: GET https://api.cloud.llamaindex.ai/api/parsing/job/9b79c3ed-78a3-453f-a546-09fa95bb291b \"HTTP/1.1 200 OK\"\n",
      "INFO: HTTP Request: GET https://api.cloud.llamaindex.ai/api/parsing/job/9b79c3ed-78a3-453f-a546-09fa95bb291b \"HTTP/1.1 200 OK\"\n",
      "INFO: HTTP Request: GET https://api.cloud.llamaindex.ai/api/parsing/job/9b79c3ed-78a3-453f-a546-09fa95bb291b \"HTTP/1.1 200 OK\"\n",
      "INFO: HTTP Request: GET https://api.cloud.llamaindex.ai/api/parsing/job/9b79c3ed-78a3-453f-a546-09fa95bb291b/result/markdown \"HTTP/1.1 200 OK\"\n"
     ]
    },
    {
     "name": "stdout",
     "output_type": "stream",
     "text": [
      "../data/out/md/311-Verify-Completion-of-a-Background-Checkpdf.md saved.\n"
     ]
    },
    {
     "name": "stderr",
     "output_type": "stream",
     "text": [
      "INFO: HTTP Request: POST https://api.cloud.llamaindex.ai/api/parsing/upload \"HTTP/1.1 200 OK\"\n"
     ]
    },
    {
     "name": "stdout",
     "output_type": "stream",
     "text": [
      "Started parsing the file under job_id 986f00a8-f499-4218-baec-f7aa1a76b98b\n"
     ]
    },
    {
     "name": "stderr",
     "output_type": "stream",
     "text": [
      "INFO: HTTP Request: GET https://api.cloud.llamaindex.ai/api/parsing/job/986f00a8-f499-4218-baec-f7aa1a76b98b \"HTTP/1.1 200 OK\"\n",
      "INFO: HTTP Request: GET https://api.cloud.llamaindex.ai/api/parsing/job/986f00a8-f499-4218-baec-f7aa1a76b98b \"HTTP/1.1 200 OK\"\n",
      "INFO: HTTP Request: GET https://api.cloud.llamaindex.ai/api/parsing/job/986f00a8-f499-4218-baec-f7aa1a76b98b \"HTTP/1.1 200 OK\"\n",
      "INFO: HTTP Request: GET https://api.cloud.llamaindex.ai/api/parsing/job/986f00a8-f499-4218-baec-f7aa1a76b98b \"HTTP/1.1 200 OK\"\n",
      "INFO: HTTP Request: GET https://api.cloud.llamaindex.ai/api/parsing/job/986f00a8-f499-4218-baec-f7aa1a76b98b \"HTTP/1.1 200 OK\"\n",
      "INFO: HTTP Request: GET https://api.cloud.llamaindex.ai/api/parsing/job/986f00a8-f499-4218-baec-f7aa1a76b98b \"HTTP/1.1 200 OK\"\n",
      "INFO: HTTP Request: GET https://api.cloud.llamaindex.ai/api/parsing/job/986f00a8-f499-4218-baec-f7aa1a76b98b/result/markdown \"HTTP/1.1 200 OK\"\n"
     ]
    },
    {
     "name": "stdout",
     "output_type": "stream",
     "text": [
      "../data/out/md/312-Verify-Member-Recordl-Number-MRNpdf.md saved.\n"
     ]
    },
    {
     "name": "stderr",
     "output_type": "stream",
     "text": [
      "INFO: HTTP Request: POST https://api.cloud.llamaindex.ai/api/parsing/upload \"HTTP/1.1 200 OK\"\n"
     ]
    },
    {
     "name": "stdout",
     "output_type": "stream",
     "text": [
      "Started parsing the file under job_id 02259c7a-7a2e-455e-ae12-05d8880cd2ca\n"
     ]
    },
    {
     "name": "stderr",
     "output_type": "stream",
     "text": [
      "INFO: HTTP Request: GET https://api.cloud.llamaindex.ai/api/parsing/job/02259c7a-7a2e-455e-ae12-05d8880cd2ca \"HTTP/1.1 200 OK\"\n",
      "INFO: HTTP Request: GET https://api.cloud.llamaindex.ai/api/parsing/job/02259c7a-7a2e-455e-ae12-05d8880cd2ca/result/markdown \"HTTP/1.1 200 OK\"\n"
     ]
    },
    {
     "name": "stdout",
     "output_type": "stream",
     "text": [
      "../data/out/md/312-Verify-Member-Recordl-Number-MRNpdf.md saved.\n"
     ]
    },
    {
     "name": "stderr",
     "output_type": "stream",
     "text": [
      "INFO: HTTP Request: POST https://api.cloud.llamaindex.ai/api/parsing/upload \"HTTP/1.1 200 OK\"\n"
     ]
    },
    {
     "name": "stdout",
     "output_type": "stream",
     "text": [
      "Started parsing the file under job_id 98429ef2-a9e9-4c34-915b-7f25b2726ce3\n"
     ]
    },
    {
     "name": "stderr",
     "output_type": "stream",
     "text": [
      "INFO: HTTP Request: GET https://api.cloud.llamaindex.ai/api/parsing/job/98429ef2-a9e9-4c34-915b-7f25b2726ce3 \"HTTP/1.1 200 OK\"\n",
      "INFO: HTTP Request: GET https://api.cloud.llamaindex.ai/api/parsing/job/98429ef2-a9e9-4c34-915b-7f25b2726ce3 \"HTTP/1.1 200 OK\"\n",
      "INFO: HTTP Request: GET https://api.cloud.llamaindex.ai/api/parsing/job/98429ef2-a9e9-4c34-915b-7f25b2726ce3 \"HTTP/1.1 200 OK\"\n",
      "INFO: HTTP Request: GET https://api.cloud.llamaindex.ai/api/parsing/job/98429ef2-a9e9-4c34-915b-7f25b2726ce3/result/markdown \"HTTP/1.1 200 OK\"\n"
     ]
    },
    {
     "name": "stdout",
     "output_type": "stream",
     "text": [
      "../data/out/md/313-Verify-a-Learners-Church-Member-Statuspdf.md saved.\n"
     ]
    },
    {
     "name": "stderr",
     "output_type": "stream",
     "text": [
      "INFO: HTTP Request: POST https://api.cloud.llamaindex.ai/api/parsing/upload \"HTTP/1.1 200 OK\"\n"
     ]
    },
    {
     "name": "stdout",
     "output_type": "stream",
     "text": [
      "Started parsing the file under job_id 3ac3e76e-6f27-4110-ae17-3b4e36510c9b\n"
     ]
    },
    {
     "name": "stderr",
     "output_type": "stream",
     "text": [
      "INFO: HTTP Request: GET https://api.cloud.llamaindex.ai/api/parsing/job/3ac3e76e-6f27-4110-ae17-3b4e36510c9b \"HTTP/1.1 200 OK\"\n",
      "INFO: HTTP Request: GET https://api.cloud.llamaindex.ai/api/parsing/job/3ac3e76e-6f27-4110-ae17-3b4e36510c9b \"HTTP/1.1 200 OK\"\n",
      "INFO: HTTP Request: GET https://api.cloud.llamaindex.ai/api/parsing/job/3ac3e76e-6f27-4110-ae17-3b4e36510c9b \"HTTP/1.1 200 OK\"\n",
      "INFO: HTTP Request: GET https://api.cloud.llamaindex.ai/api/parsing/job/3ac3e76e-6f27-4110-ae17-3b4e36510c9b \"HTTP/1.1 200 OK\"\n",
      "INFO: HTTP Request: GET https://api.cloud.llamaindex.ai/api/parsing/job/3ac3e76e-6f27-4110-ae17-3b4e36510c9b/result/markdown \"HTTP/1.1 200 OK\"\n"
     ]
    },
    {
     "name": "stdout",
     "output_type": "stream",
     "text": [
      "../data/out/md/314-Verify-a-Students-Church-Membership-Statuspdf.md saved.\n"
     ]
    },
    {
     "name": "stderr",
     "output_type": "stream",
     "text": [
      "INFO: HTTP Request: POST https://api.cloud.llamaindex.ai/api/parsing/upload \"HTTP/1.1 200 OK\"\n"
     ]
    },
    {
     "name": "stdout",
     "output_type": "stream",
     "text": [
      "Started parsing the file under job_id 7f74ce6d-5e18-47f5-a331-48b27cddd036\n"
     ]
    },
    {
     "name": "stderr",
     "output_type": "stream",
     "text": [
      "INFO: HTTP Request: GET https://api.cloud.llamaindex.ai/api/parsing/job/7f74ce6d-5e18-47f5-a331-48b27cddd036 \"HTTP/1.1 200 OK\"\n",
      "INFO: HTTP Request: GET https://api.cloud.llamaindex.ai/api/parsing/job/7f74ce6d-5e18-47f5-a331-48b27cddd036 \"HTTP/1.1 200 OK\"\n",
      "INFO: HTTP Request: GET https://api.cloud.llamaindex.ai/api/parsing/job/7f74ce6d-5e18-47f5-a331-48b27cddd036 \"HTTP/1.1 200 OK\"\n",
      "INFO: HTTP Request: GET https://api.cloud.llamaindex.ai/api/parsing/job/7f74ce6d-5e18-47f5-a331-48b27cddd036 \"HTTP/1.1 200 OK\"\n",
      "INFO: HTTP Request: GET https://api.cloud.llamaindex.ai/api/parsing/job/7f74ce6d-5e18-47f5-a331-48b27cddd036 \"HTTP/1.1 200 OK\"\n",
      "INFO: HTTP Request: GET https://api.cloud.llamaindex.ai/api/parsing/job/7f74ce6d-5e18-47f5-a331-48b27cddd036 \"HTTP/1.1 200 OK\"\n",
      "INFO: HTTP Request: GET https://api.cloud.llamaindex.ai/api/parsing/job/7f74ce6d-5e18-47f5-a331-48b27cddd036 \"HTTP/1.1 200 OK\"\n",
      "INFO: HTTP Request: GET https://api.cloud.llamaindex.ai/api/parsing/job/7f74ce6d-5e18-47f5-a331-48b27cddd036 \"HTTP/1.1 200 OK\"\n",
      "INFO: HTTP Request: GET https://api.cloud.llamaindex.ai/api/parsing/job/7f74ce6d-5e18-47f5-a331-48b27cddd036/result/markdown \"HTTP/1.1 200 OK\"\n"
     ]
    },
    {
     "name": "stdout",
     "output_type": "stream",
     "text": [
      "../data/out/md/315-Vetting-New-Missionary-Instructionspdf.md saved.\n"
     ]
    },
    {
     "name": "stderr",
     "output_type": "stream",
     "text": [
      "INFO: HTTP Request: POST https://api.cloud.llamaindex.ai/api/parsing/upload \"HTTP/1.1 200 OK\"\n"
     ]
    },
    {
     "name": "stdout",
     "output_type": "stream",
     "text": [
      "Started parsing the file under job_id ddf416d4-9f1b-459b-aacc-c077e276de86\n"
     ]
    },
    {
     "name": "stderr",
     "output_type": "stream",
     "text": [
      "INFO: HTTP Request: GET https://api.cloud.llamaindex.ai/api/parsing/job/ddf416d4-9f1b-459b-aacc-c077e276de86 \"HTTP/1.1 200 OK\"\n",
      "INFO: HTTP Request: GET https://api.cloud.llamaindex.ai/api/parsing/job/ddf416d4-9f1b-459b-aacc-c077e276de86 \"HTTP/1.1 200 OK\"\n",
      "INFO: HTTP Request: GET https://api.cloud.llamaindex.ai/api/parsing/job/ddf416d4-9f1b-459b-aacc-c077e276de86 \"HTTP/1.1 200 OK\"\n",
      "INFO: HTTP Request: GET https://api.cloud.llamaindex.ai/api/parsing/job/ddf416d4-9f1b-459b-aacc-c077e276de86 \"HTTP/1.1 200 OK\"\n",
      "INFO: HTTP Request: GET https://api.cloud.llamaindex.ai/api/parsing/job/ddf416d4-9f1b-459b-aacc-c077e276de86/result/markdown \"HTTP/1.1 200 OK\"\n"
     ]
    },
    {
     "name": "stdout",
     "output_type": "stream",
     "text": [
      "../data/out/md/316-Video-Settingspdf.md saved.\n"
     ]
    },
    {
     "name": "stderr",
     "output_type": "stream",
     "text": [
      "INFO: HTTP Request: POST https://api.cloud.llamaindex.ai/api/parsing/upload \"HTTP/1.1 200 OK\"\n"
     ]
    },
    {
     "name": "stdout",
     "output_type": "stream",
     "text": [
      "Started parsing the file under job_id 4b5d9a5b-dd0a-47fc-8928-d484c98659b0\n"
     ]
    },
    {
     "name": "stderr",
     "output_type": "stream",
     "text": [
      "INFO: HTTP Request: GET https://api.cloud.llamaindex.ai/api/parsing/job/4b5d9a5b-dd0a-47fc-8928-d484c98659b0 \"HTTP/1.1 200 OK\"\n",
      "INFO: HTTP Request: GET https://api.cloud.llamaindex.ai/api/parsing/job/4b5d9a5b-dd0a-47fc-8928-d484c98659b0 \"HTTP/1.1 200 OK\"\n",
      "INFO: HTTP Request: GET https://api.cloud.llamaindex.ai/api/parsing/job/4b5d9a5b-dd0a-47fc-8928-d484c98659b0 \"HTTP/1.1 200 OK\"\n",
      "INFO: HTTP Request: GET https://api.cloud.llamaindex.ai/api/parsing/job/4b5d9a5b-dd0a-47fc-8928-d484c98659b0/result/markdown \"HTTP/1.1 200 OK\"\n"
     ]
    },
    {
     "name": "stdout",
     "output_type": "stream",
     "text": [
      "../data/out/md/317-View-Scholarships-Receivedpdf.md saved.\n"
     ]
    },
    {
     "name": "stderr",
     "output_type": "stream",
     "text": [
      "INFO: HTTP Request: POST https://api.cloud.llamaindex.ai/api/parsing/upload \"HTTP/1.1 200 OK\"\n"
     ]
    },
    {
     "name": "stdout",
     "output_type": "stream",
     "text": [
      "Started parsing the file under job_id 63534f22-b3a4-416a-a14f-a835d354a189\n"
     ]
    },
    {
     "name": "stderr",
     "output_type": "stream",
     "text": [
      "INFO: HTTP Request: GET https://api.cloud.llamaindex.ai/api/parsing/job/63534f22-b3a4-416a-a14f-a835d354a189 \"HTTP/1.1 200 OK\"\n",
      "INFO: HTTP Request: GET https://api.cloud.llamaindex.ai/api/parsing/job/63534f22-b3a4-416a-a14f-a835d354a189 \"HTTP/1.1 200 OK\"\n",
      "INFO: HTTP Request: GET https://api.cloud.llamaindex.ai/api/parsing/job/63534f22-b3a4-416a-a14f-a835d354a189 \"HTTP/1.1 200 OK\"\n",
      "INFO: HTTP Request: GET https://api.cloud.llamaindex.ai/api/parsing/job/63534f22-b3a4-416a-a14f-a835d354a189 \"HTTP/1.1 200 OK\"\n",
      "INFO: HTTP Request: GET https://api.cloud.llamaindex.ai/api/parsing/job/63534f22-b3a4-416a-a14f-a835d354a189/result/markdown \"HTTP/1.1 200 OK\"\n"
     ]
    },
    {
     "name": "stdout",
     "output_type": "stream",
     "text": [
      "../data/out/md/318-View-a-Students-English-Pre-Assessmentpdf.md saved.\n"
     ]
    },
    {
     "name": "stderr",
     "output_type": "stream",
     "text": [
      "INFO: HTTP Request: POST https://api.cloud.llamaindex.ai/api/parsing/upload \"HTTP/1.1 200 OK\"\n"
     ]
    },
    {
     "name": "stdout",
     "output_type": "stream",
     "text": [
      "Started parsing the file under job_id a3e0cb96-d65a-402b-947f-70780e254c7b\n"
     ]
    },
    {
     "name": "stderr",
     "output_type": "stream",
     "text": [
      "INFO: HTTP Request: GET https://api.cloud.llamaindex.ai/api/parsing/job/a3e0cb96-d65a-402b-947f-70780e254c7b \"HTTP/1.1 200 OK\"\n",
      "INFO: HTTP Request: GET https://api.cloud.llamaindex.ai/api/parsing/job/a3e0cb96-d65a-402b-947f-70780e254c7b \"HTTP/1.1 200 OK\"\n",
      "INFO: HTTP Request: GET https://api.cloud.llamaindex.ai/api/parsing/job/a3e0cb96-d65a-402b-947f-70780e254c7b \"HTTP/1.1 200 OK\"\n",
      "INFO: HTTP Request: GET https://api.cloud.llamaindex.ai/api/parsing/job/a3e0cb96-d65a-402b-947f-70780e254c7b \"HTTP/1.1 200 OK\"\n",
      "INFO: HTTP Request: GET https://api.cloud.llamaindex.ai/api/parsing/job/a3e0cb96-d65a-402b-947f-70780e254c7b \"HTTP/1.1 200 OK\"\n",
      "INFO: HTTP Request: GET https://api.cloud.llamaindex.ai/api/parsing/job/a3e0cb96-d65a-402b-947f-70780e254c7b/result/markdown \"HTTP/1.1 200 OK\"\n"
     ]
    },
    {
     "name": "stdout",
     "output_type": "stream",
     "text": [
      "../data/out/md/319-Ward-Bulletin-Announcementpdf.md saved.\n"
     ]
    },
    {
     "name": "stderr",
     "output_type": "stream",
     "text": [
      "INFO: HTTP Request: POST https://api.cloud.llamaindex.ai/api/parsing/upload \"HTTP/1.1 200 OK\"\n"
     ]
    },
    {
     "name": "stdout",
     "output_type": "stream",
     "text": [
      "Started parsing the file under job_id 1f01a26c-a8a0-4f26-934b-6996e3440e0d\n"
     ]
    },
    {
     "name": "stderr",
     "output_type": "stream",
     "text": [
      "INFO: HTTP Request: GET https://api.cloud.llamaindex.ai/api/parsing/job/1f01a26c-a8a0-4f26-934b-6996e3440e0d \"HTTP/1.1 200 OK\"\n",
      "INFO: HTTP Request: GET https://api.cloud.llamaindex.ai/api/parsing/job/1f01a26c-a8a0-4f26-934b-6996e3440e0d \"HTTP/1.1 200 OK\"\n",
      "INFO: HTTP Request: GET https://api.cloud.llamaindex.ai/api/parsing/job/1f01a26c-a8a0-4f26-934b-6996e3440e0d \"HTTP/1.1 200 OK\"\n",
      "INFO: HTTP Request: GET https://api.cloud.llamaindex.ai/api/parsing/job/1f01a26c-a8a0-4f26-934b-6996e3440e0d \"HTTP/1.1 200 OK\"\n",
      "INFO: HTTP Request: GET https://api.cloud.llamaindex.ai/api/parsing/job/1f01a26c-a8a0-4f26-934b-6996e3440e0d \"HTTP/1.1 200 OK\"\n",
      "INFO: HTTP Request: GET https://api.cloud.llamaindex.ai/api/parsing/job/1f01a26c-a8a0-4f26-934b-6996e3440e0d/result/markdown \"HTTP/1.1 200 OK\"\n"
     ]
    },
    {
     "name": "stdout",
     "output_type": "stream",
     "text": [
      "../data/out/md/32-BYU-Pathway-in--Secondspdf.md saved.\n"
     ]
    },
    {
     "name": "stderr",
     "output_type": "stream",
     "text": [
      "INFO: HTTP Request: POST https://api.cloud.llamaindex.ai/api/parsing/upload \"HTTP/1.1 200 OK\"\n"
     ]
    },
    {
     "name": "stdout",
     "output_type": "stream",
     "text": [
      "Started parsing the file under job_id 9b89f646-bc3a-4f8f-9319-4c496a30526b\n"
     ]
    },
    {
     "name": "stderr",
     "output_type": "stream",
     "text": [
      "INFO: HTTP Request: GET https://api.cloud.llamaindex.ai/api/parsing/job/9b89f646-bc3a-4f8f-9319-4c496a30526b \"HTTP/1.1 200 OK\"\n",
      "INFO: HTTP Request: GET https://api.cloud.llamaindex.ai/api/parsing/job/9b89f646-bc3a-4f8f-9319-4c496a30526b/result/markdown \"HTTP/1.1 200 OK\"\n"
     ]
    },
    {
     "name": "stdout",
     "output_type": "stream",
     "text": [
      "../data/out/md/320-Webinar-Domesitic-August--Englishpdf.md saved.\n"
     ]
    },
    {
     "name": "stderr",
     "output_type": "stream",
     "text": [
      "INFO: HTTP Request: POST https://api.cloud.llamaindex.ai/api/parsing/upload \"HTTP/1.1 200 OK\"\n"
     ]
    },
    {
     "name": "stdout",
     "output_type": "stream",
     "text": [
      "Started parsing the file under job_id 188bde21-453c-489a-86fc-9691a8d2be3f\n"
     ]
    },
    {
     "name": "stderr",
     "output_type": "stream",
     "text": [
      "INFO: HTTP Request: GET https://api.cloud.llamaindex.ai/api/parsing/job/188bde21-453c-489a-86fc-9691a8d2be3f \"HTTP/1.1 200 OK\"\n",
      "INFO: HTTP Request: GET https://api.cloud.llamaindex.ai/api/parsing/job/188bde21-453c-489a-86fc-9691a8d2be3f \"HTTP/1.1 200 OK\"\n",
      "INFO: HTTP Request: GET https://api.cloud.llamaindex.ai/api/parsing/job/188bde21-453c-489a-86fc-9691a8d2be3f \"HTTP/1.1 200 OK\"\n",
      "INFO: HTTP Request: GET https://api.cloud.llamaindex.ai/api/parsing/job/188bde21-453c-489a-86fc-9691a8d2be3f \"HTTP/1.1 200 OK\"\n",
      "INFO: HTTP Request: GET https://api.cloud.llamaindex.ai/api/parsing/job/188bde21-453c-489a-86fc-9691a8d2be3f/result/markdown \"HTTP/1.1 200 OK\"\n"
     ]
    },
    {
     "name": "stdout",
     "output_type": "stream",
     "text": [
      "../data/out/md/321-Webinar-Domestic-Agosto--Spanishpdf.md saved.\n"
     ]
    },
    {
     "name": "stderr",
     "output_type": "stream",
     "text": [
      "INFO: HTTP Request: POST https://api.cloud.llamaindex.ai/api/parsing/upload \"HTTP/1.1 200 OK\"\n"
     ]
    },
    {
     "name": "stdout",
     "output_type": "stream",
     "text": [
      "Started parsing the file under job_id 2b0f21a4-c45a-47dc-9314-2429ee249d8d\n"
     ]
    },
    {
     "name": "stderr",
     "output_type": "stream",
     "text": [
      "INFO: HTTP Request: GET https://api.cloud.llamaindex.ai/api/parsing/job/2b0f21a4-c45a-47dc-9314-2429ee249d8d \"HTTP/1.1 200 OK\"\n",
      "INFO: HTTP Request: GET https://api.cloud.llamaindex.ai/api/parsing/job/2b0f21a4-c45a-47dc-9314-2429ee249d8d/result/markdown \"HTTP/1.1 200 OK\"\n"
     ]
    },
    {
     "name": "stdout",
     "output_type": "stream",
     "text": [
      "../data/out/md/322-Webinar-Domestic-August--Englishpdf.md saved.\n"
     ]
    },
    {
     "name": "stderr",
     "output_type": "stream",
     "text": [
      "INFO: HTTP Request: POST https://api.cloud.llamaindex.ai/api/parsing/upload \"HTTP/1.1 200 OK\"\n"
     ]
    },
    {
     "name": "stdout",
     "output_type": "stream",
     "text": [
      "Started parsing the file under job_id ae57fe14-3c58-4bcf-8178-ccdac5429926\n"
     ]
    },
    {
     "name": "stderr",
     "output_type": "stream",
     "text": [
      "INFO: HTTP Request: GET https://api.cloud.llamaindex.ai/api/parsing/job/ae57fe14-3c58-4bcf-8178-ccdac5429926 \"HTTP/1.1 200 OK\"\n",
      "INFO: HTTP Request: GET https://api.cloud.llamaindex.ai/api/parsing/job/ae57fe14-3c58-4bcf-8178-ccdac5429926/result/markdown \"HTTP/1.1 200 OK\"\n"
     ]
    },
    {
     "name": "stdout",
     "output_type": "stream",
     "text": [
      "../data/out/md/323-Webinar-Domestic-August--YSApdf.md saved.\n"
     ]
    },
    {
     "name": "stderr",
     "output_type": "stream",
     "text": [
      "INFO: HTTP Request: POST https://api.cloud.llamaindex.ai/api/parsing/upload \"HTTP/1.1 200 OK\"\n"
     ]
    },
    {
     "name": "stdout",
     "output_type": "stream",
     "text": [
      "Started parsing the file under job_id 6c90f2c5-1ff4-4569-88a5-577ecc993b2e\n"
     ]
    },
    {
     "name": "stderr",
     "output_type": "stream",
     "text": [
      "INFO: HTTP Request: GET https://api.cloud.llamaindex.ai/api/parsing/job/6c90f2c5-1ff4-4569-88a5-577ecc993b2e \"HTTP/1.1 200 OK\"\n",
      "INFO: HTTP Request: GET https://api.cloud.llamaindex.ai/api/parsing/job/6c90f2c5-1ff4-4569-88a5-577ecc993b2e \"HTTP/1.1 200 OK\"\n",
      "INFO: HTTP Request: GET https://api.cloud.llamaindex.ai/api/parsing/job/6c90f2c5-1ff4-4569-88a5-577ecc993b2e \"HTTP/1.1 200 OK\"\n",
      "INFO: HTTP Request: GET https://api.cloud.llamaindex.ai/api/parsing/job/6c90f2c5-1ff4-4569-88a5-577ecc993b2e/result/markdown \"HTTP/1.1 200 OK\"\n"
     ]
    },
    {
     "name": "stdout",
     "output_type": "stream",
     "text": [
      "../data/out/md/324-What-is-a-Default-Grouppdf.md saved.\n"
     ]
    },
    {
     "name": "stderr",
     "output_type": "stream",
     "text": [
      "INFO: HTTP Request: POST https://api.cloud.llamaindex.ai/api/parsing/upload \"HTTP/1.1 200 OK\"\n"
     ]
    },
    {
     "name": "stdout",
     "output_type": "stream",
     "text": [
      "Started parsing the file under job_id d626cd81-3edb-4d5e-b19f-da7c60122d08\n"
     ]
    },
    {
     "name": "stderr",
     "output_type": "stream",
     "text": [
      "INFO: HTTP Request: GET https://api.cloud.llamaindex.ai/api/parsing/job/d626cd81-3edb-4d5e-b19f-da7c60122d08 \"HTTP/1.1 200 OK\"\n",
      "INFO: HTTP Request: GET https://api.cloud.llamaindex.ai/api/parsing/job/d626cd81-3edb-4d5e-b19f-da7c60122d08 \"HTTP/1.1 200 OK\"\n",
      "INFO: HTTP Request: GET https://api.cloud.llamaindex.ai/api/parsing/job/d626cd81-3edb-4d5e-b19f-da7c60122d08 \"HTTP/1.1 200 OK\"\n",
      "INFO: HTTP Request: GET https://api.cloud.llamaindex.ai/api/parsing/job/d626cd81-3edb-4d5e-b19f-da7c60122d08 \"HTTP/1.1 200 OK\"\n",
      "INFO: HTTP Request: GET https://api.cloud.llamaindex.ai/api/parsing/job/d626cd81-3edb-4d5e-b19f-da7c60122d08 \"HTTP/1.1 200 OK\"\n",
      "INFO: HTTP Request: GET https://api.cloud.llamaindex.ai/api/parsing/job/d626cd81-3edb-4d5e-b19f-da7c60122d08/result/markdown \"HTTP/1.1 200 OK\"\n"
     ]
    },
    {
     "name": "stdout",
     "output_type": "stream",
     "text": [
      "../data/out/md/325-Your-Role-in-the-EC-Gatheringpdf.md saved.\n"
     ]
    },
    {
     "name": "stderr",
     "output_type": "stream",
     "text": [
      "INFO: HTTP Request: POST https://api.cloud.llamaindex.ai/api/parsing/upload \"HTTP/1.1 200 OK\"\n"
     ]
    },
    {
     "name": "stdout",
     "output_type": "stream",
     "text": [
      "Started parsing the file under job_id fab4116a-d1fe-4e49-a91b-0743085f8157\n"
     ]
    },
    {
     "name": "stderr",
     "output_type": "stream",
     "text": [
      "INFO: HTTP Request: GET https://api.cloud.llamaindex.ai/api/parsing/job/fab4116a-d1fe-4e49-a91b-0743085f8157 \"HTTP/1.1 200 OK\"\n",
      "INFO: HTTP Request: GET https://api.cloud.llamaindex.ai/api/parsing/job/fab4116a-d1fe-4e49-a91b-0743085f8157 \"HTTP/1.1 200 OK\"\n",
      "INFO: HTTP Request: GET https://api.cloud.llamaindex.ai/api/parsing/job/fab4116a-d1fe-4e49-a91b-0743085f8157 \"HTTP/1.1 200 OK\"\n",
      "INFO: HTTP Request: GET https://api.cloud.llamaindex.ai/api/parsing/job/fab4116a-d1fe-4e49-a91b-0743085f8157 \"HTTP/1.1 200 OK\"\n",
      "INFO: HTTP Request: GET https://api.cloud.llamaindex.ai/api/parsing/job/fab4116a-d1fe-4e49-a91b-0743085f8157/result/markdown \"HTTP/1.1 200 OK\"\n"
     ]
    },
    {
     "name": "stdout",
     "output_type": "stream",
     "text": [
      "../data/out/md/326-Zoom-Feature-Overviewpdf.md saved.\n"
     ]
    },
    {
     "name": "stderr",
     "output_type": "stream",
     "text": [
      "INFO: HTTP Request: POST https://api.cloud.llamaindex.ai/api/parsing/upload \"HTTP/1.1 200 OK\"\n"
     ]
    },
    {
     "name": "stdout",
     "output_type": "stream",
     "text": [
      "Started parsing the file under job_id f770779a-43ee-4aff-99ca-86937fcf97b8\n"
     ]
    },
    {
     "name": "stderr",
     "output_type": "stream",
     "text": [
      "INFO: HTTP Request: GET https://api.cloud.llamaindex.ai/api/parsing/job/f770779a-43ee-4aff-99ca-86937fcf97b8 \"HTTP/1.1 200 OK\"\n",
      "INFO: HTTP Request: GET https://api.cloud.llamaindex.ai/api/parsing/job/f770779a-43ee-4aff-99ca-86937fcf97b8 \"HTTP/1.1 200 OK\"\n",
      "INFO: HTTP Request: GET https://api.cloud.llamaindex.ai/api/parsing/job/f770779a-43ee-4aff-99ca-86937fcf97b8 \"HTTP/1.1 200 OK\"\n",
      "INFO: HTTP Request: GET https://api.cloud.llamaindex.ai/api/parsing/job/f770779a-43ee-4aff-99ca-86937fcf97b8 \"HTTP/1.1 200 OK\"\n",
      "INFO: HTTP Request: GET https://api.cloud.llamaindex.ai/api/parsing/job/f770779a-43ee-4aff-99ca-86937fcf97b8/result/markdown \"HTTP/1.1 200 OK\"\n"
     ]
    },
    {
     "name": "stdout",
     "output_type": "stream",
     "text": [
      "../data/out/md/327-Zoom-Find-and-Share-Your-Zoom-Room-Linkpdf.md saved.\n"
     ]
    },
    {
     "name": "stderr",
     "output_type": "stream",
     "text": [
      "INFO: HTTP Request: POST https://api.cloud.llamaindex.ai/api/parsing/upload \"HTTP/1.1 200 OK\"\n"
     ]
    },
    {
     "name": "stdout",
     "output_type": "stream",
     "text": [
      "Started parsing the file under job_id dc93f3b7-893f-4592-bdf8-26de982cc1ba\n"
     ]
    },
    {
     "name": "stderr",
     "output_type": "stream",
     "text": [
      "INFO: HTTP Request: GET https://api.cloud.llamaindex.ai/api/parsing/job/dc93f3b7-893f-4592-bdf8-26de982cc1ba \"HTTP/1.1 200 OK\"\n",
      "INFO: HTTP Request: GET https://api.cloud.llamaindex.ai/api/parsing/job/dc93f3b7-893f-4592-bdf8-26de982cc1ba \"HTTP/1.1 200 OK\"\n",
      "INFO: HTTP Request: GET https://api.cloud.llamaindex.ai/api/parsing/job/dc93f3b7-893f-4592-bdf8-26de982cc1ba \"HTTP/1.1 200 OK\"\n",
      "INFO: HTTP Request: GET https://api.cloud.llamaindex.ai/api/parsing/job/dc93f3b7-893f-4592-bdf8-26de982cc1ba \"HTTP/1.1 200 OK\"\n",
      "INFO: HTTP Request: GET https://api.cloud.llamaindex.ai/api/parsing/job/dc93f3b7-893f-4592-bdf8-26de982cc1ba/result/markdown \"HTTP/1.1 200 OK\"\n"
     ]
    },
    {
     "name": "stdout",
     "output_type": "stream",
     "text": [
      "../data/out/md/328-Zoom-Online-Whiteboardspdf.md saved.\n"
     ]
    },
    {
     "name": "stderr",
     "output_type": "stream",
     "text": [
      "INFO: HTTP Request: POST https://api.cloud.llamaindex.ai/api/parsing/upload \"HTTP/1.1 200 OK\"\n"
     ]
    },
    {
     "name": "stdout",
     "output_type": "stream",
     "text": [
      "Started parsing the file under job_id e3e09f5b-b39e-4fa4-a027-5e732e558b2b\n"
     ]
    },
    {
     "name": "stderr",
     "output_type": "stream",
     "text": [
      "INFO: HTTP Request: GET https://api.cloud.llamaindex.ai/api/parsing/job/e3e09f5b-b39e-4fa4-a027-5e732e558b2b \"HTTP/1.1 200 OK\"\n",
      "INFO: HTTP Request: GET https://api.cloud.llamaindex.ai/api/parsing/job/e3e09f5b-b39e-4fa4-a027-5e732e558b2b \"HTTP/1.1 200 OK\"\n",
      "INFO: HTTP Request: GET https://api.cloud.llamaindex.ai/api/parsing/job/e3e09f5b-b39e-4fa4-a027-5e732e558b2b \"HTTP/1.1 200 OK\"\n",
      "INFO: HTTP Request: GET https://api.cloud.llamaindex.ai/api/parsing/job/e3e09f5b-b39e-4fa4-a027-5e732e558b2b \"HTTP/1.1 200 OK\"\n",
      "INFO: HTTP Request: GET https://api.cloud.llamaindex.ai/api/parsing/job/e3e09f5b-b39e-4fa4-a027-5e732e558b2b \"HTTP/1.1 200 OK\"\n",
      "INFO: HTTP Request: GET https://api.cloud.llamaindex.ai/api/parsing/job/e3e09f5b-b39e-4fa4-a027-5e732e558b2b/result/markdown \"HTTP/1.1 200 OK\"\n"
     ]
    },
    {
     "name": "stdout",
     "output_type": "stream",
     "text": [
      "../data/out/md/329-institutional-brochure-bi-fold-pdfpdf.md saved.\n"
     ]
    },
    {
     "name": "stderr",
     "output_type": "stream",
     "text": [
      "INFO: HTTP Request: POST https://api.cloud.llamaindex.ai/api/parsing/upload \"HTTP/1.1 200 OK\"\n"
     ]
    },
    {
     "name": "stdout",
     "output_type": "stream",
     "text": [
      "Started parsing the file under job_id d3116eb1-8167-481a-aa79-098fa7c64e31\n"
     ]
    },
    {
     "name": "stderr",
     "output_type": "stream",
     "text": [
      "INFO: HTTP Request: GET https://api.cloud.llamaindex.ai/api/parsing/job/d3116eb1-8167-481a-aa79-098fa7c64e31 \"HTTP/1.1 200 OK\"\n",
      "INFO: HTTP Request: GET https://api.cloud.llamaindex.ai/api/parsing/job/d3116eb1-8167-481a-aa79-098fa7c64e31 \"HTTP/1.1 200 OK\"\n",
      "INFO: HTTP Request: GET https://api.cloud.llamaindex.ai/api/parsing/job/d3116eb1-8167-481a-aa79-098fa7c64e31 \"HTTP/1.1 200 OK\"\n",
      "INFO: HTTP Request: GET https://api.cloud.llamaindex.ai/api/parsing/job/d3116eb1-8167-481a-aa79-098fa7c64e31/result/markdown \"HTTP/1.1 200 OK\"\n"
     ]
    },
    {
     "name": "stdout",
     "output_type": "stream",
     "text": [
      "../data/out/md/33-BYUPW-Interest-Listpdf.md saved.\n"
     ]
    },
    {
     "name": "stderr",
     "output_type": "stream",
     "text": [
      "INFO: HTTP Request: POST https://api.cloud.llamaindex.ai/api/parsing/upload \"HTTP/1.1 200 OK\"\n"
     ]
    },
    {
     "name": "stdout",
     "output_type": "stream",
     "text": [
      "Started parsing the file under job_id d00dc9ed-f285-4d70-9021-b54b6447f249\n"
     ]
    },
    {
     "name": "stderr",
     "output_type": "stream",
     "text": [
      "INFO: HTTP Request: GET https://api.cloud.llamaindex.ai/api/parsing/job/d00dc9ed-f285-4d70-9021-b54b6447f249 \"HTTP/1.1 200 OK\"\n",
      "INFO: HTTP Request: GET https://api.cloud.llamaindex.ai/api/parsing/job/d00dc9ed-f285-4d70-9021-b54b6447f249 \"HTTP/1.1 200 OK\"\n",
      "INFO: HTTP Request: GET https://api.cloud.llamaindex.ai/api/parsing/job/d00dc9ed-f285-4d70-9021-b54b6447f249 \"HTTP/1.1 200 OK\"\n",
      "INFO: HTTP Request: GET https://api.cloud.llamaindex.ai/api/parsing/job/d00dc9ed-f285-4d70-9021-b54b6447f249/result/markdown \"HTTP/1.1 200 OK\"\n"
     ]
    },
    {
     "name": "stdout",
     "output_type": "stream",
     "text": [
      "../data/out/md/34-Basic-Navigation-of-Power-BIpdf.md saved.\n"
     ]
    },
    {
     "name": "stderr",
     "output_type": "stream",
     "text": [
      "INFO: HTTP Request: POST https://api.cloud.llamaindex.ai/api/parsing/upload \"HTTP/1.1 200 OK\"\n"
     ]
    },
    {
     "name": "stdout",
     "output_type": "stream",
     "text": [
      "Started parsing the file under job_id ca377aee-0361-4d42-afe4-17e6df3597ac\n"
     ]
    },
    {
     "name": "stderr",
     "output_type": "stream",
     "text": [
      "INFO: HTTP Request: GET https://api.cloud.llamaindex.ai/api/parsing/job/ca377aee-0361-4d42-afe4-17e6df3597ac \"HTTP/1.1 200 OK\"\n",
      "INFO: HTTP Request: GET https://api.cloud.llamaindex.ai/api/parsing/job/ca377aee-0361-4d42-afe4-17e6df3597ac/result/markdown \"HTTP/1.1 200 OK\"\n"
     ]
    },
    {
     "name": "stdout",
     "output_type": "stream",
     "text": [
      "../data/out/md/35-Best-Practices-for-Virtual-Gatherings-That-Dont-Feature-Videoconferencingpdf.md saved.\n"
     ]
    },
    {
     "name": "stderr",
     "output_type": "stream",
     "text": [
      "INFO: HTTP Request: POST https://api.cloud.llamaindex.ai/api/parsing/upload \"HTTP/1.1 200 OK\"\n"
     ]
    },
    {
     "name": "stdout",
     "output_type": "stream",
     "text": [
      "Started parsing the file under job_id e20b0e0e-7dc7-4364-bf27-a90fdf44d161\n"
     ]
    },
    {
     "name": "stderr",
     "output_type": "stream",
     "text": [
      "INFO: HTTP Request: GET https://api.cloud.llamaindex.ai/api/parsing/job/e20b0e0e-7dc7-4364-bf27-a90fdf44d161 \"HTTP/1.1 200 OK\"\n",
      "INFO: HTTP Request: GET https://api.cloud.llamaindex.ai/api/parsing/job/e20b0e0e-7dc7-4364-bf27-a90fdf44d161/result/markdown \"HTTP/1.1 200 OK\"\n"
     ]
    },
    {
     "name": "stdout",
     "output_type": "stream",
     "text": [
      "../data/out/md/36-Best-Practices-for-an-In-Person-Gatheringpdf.md saved.\n"
     ]
    },
    {
     "name": "stderr",
     "output_type": "stream",
     "text": [
      "INFO: HTTP Request: POST https://api.cloud.llamaindex.ai/api/parsing/upload \"HTTP/1.1 200 OK\"\n"
     ]
    },
    {
     "name": "stdout",
     "output_type": "stream",
     "text": [
      "Started parsing the file under job_id 5ca094b5-a57f-4cac-8aaa-3d9d28eab67d\n"
     ]
    },
    {
     "name": "stderr",
     "output_type": "stream",
     "text": [
      "INFO: HTTP Request: GET https://api.cloud.llamaindex.ai/api/parsing/job/5ca094b5-a57f-4cac-8aaa-3d9d28eab67d \"HTTP/1.1 200 OK\"\n",
      "INFO: HTTP Request: GET https://api.cloud.llamaindex.ai/api/parsing/job/5ca094b5-a57f-4cac-8aaa-3d9d28eab67d \"HTTP/1.1 200 OK\"\n",
      "INFO: HTTP Request: GET https://api.cloud.llamaindex.ai/api/parsing/job/5ca094b5-a57f-4cac-8aaa-3d9d28eab67d \"HTTP/1.1 200 OK\"\n",
      "INFO: HTTP Request: GET https://api.cloud.llamaindex.ai/api/parsing/job/5ca094b5-a57f-4cac-8aaa-3d9d28eab67d \"HTTP/1.1 200 OK\"\n",
      "INFO: HTTP Request: GET https://api.cloud.llamaindex.ai/api/parsing/job/5ca094b5-a57f-4cac-8aaa-3d9d28eab67d \"HTTP/1.1 200 OK\"\n",
      "INFO: HTTP Request: GET https://api.cloud.llamaindex.ai/api/parsing/job/5ca094b5-a57f-4cac-8aaa-3d9d28eab67d \"HTTP/1.1 200 OK\"\n",
      "INFO: HTTP Request: GET https://api.cloud.llamaindex.ai/api/parsing/job/5ca094b5-a57f-4cac-8aaa-3d9d28eab67d \"HTTP/1.1 200 OK\"\n",
      "INFO: HTTP Request: GET https://api.cloud.llamaindex.ai/api/parsing/job/5ca094b5-a57f-4cac-8aaa-3d9d28eab67d \"HTTP/1.1 200 OK\"\n",
      "INFO: HTTP Request: GET https://api.cloud.llamaindex.ai/api/parsing/job/5ca094b5-a57f-4cac-8aaa-3d9d28eab67d/result/markdown \"HTTP/1.1 200 OK\"\n"
     ]
    },
    {
     "name": "stdout",
     "output_type": "stream",
     "text": [
      "../data/out/md/37-Block-and-Instructional-TeaFAQpdf.md saved.\n"
     ]
    },
    {
     "name": "stderr",
     "output_type": "stream",
     "text": [
      "INFO: HTTP Request: POST https://api.cloud.llamaindex.ai/api/parsing/upload \"HTTP/1.1 200 OK\"\n"
     ]
    },
    {
     "name": "stdout",
     "output_type": "stream",
     "text": [
      "Started parsing the file under job_id 9b4e6409-60b2-4c38-a583-8fc4dcec5862\n"
     ]
    },
    {
     "name": "stderr",
     "output_type": "stream",
     "text": [
      "INFO: HTTP Request: GET https://api.cloud.llamaindex.ai/api/parsing/job/9b4e6409-60b2-4c38-a583-8fc4dcec5862 \"HTTP/1.1 200 OK\"\n",
      "INFO: HTTP Request: GET https://api.cloud.llamaindex.ai/api/parsing/job/9b4e6409-60b2-4c38-a583-8fc4dcec5862/result/markdown \"HTTP/1.1 200 OK\"\n"
     ]
    },
    {
     "name": "stdout",
     "output_type": "stream",
     "text": [
      "../data/out/md/37-Block-and-Instructional-TeaFAQpdf.md saved.\n"
     ]
    },
    {
     "name": "stderr",
     "output_type": "stream",
     "text": [
      "INFO: HTTP Request: POST https://api.cloud.llamaindex.ai/api/parsing/upload \"HTTP/1.1 200 OK\"\n"
     ]
    },
    {
     "name": "stdout",
     "output_type": "stream",
     "text": [
      "Started parsing the file under job_id 642aea11-af51-4164-97b8-d2f218a75984\n"
     ]
    },
    {
     "name": "stderr",
     "output_type": "stream",
     "text": [
      "INFO: HTTP Request: GET https://api.cloud.llamaindex.ai/api/parsing/job/642aea11-af51-4164-97b8-d2f218a75984 \"HTTP/1.1 200 OK\"\n",
      "INFO: HTTP Request: GET https://api.cloud.llamaindex.ai/api/parsing/job/642aea11-af51-4164-97b8-d2f218a75984 \"HTTP/1.1 200 OK\"\n",
      "INFO: HTTP Request: GET https://api.cloud.llamaindex.ai/api/parsing/job/642aea11-af51-4164-97b8-d2f218a75984 \"HTTP/1.1 200 OK\"\n",
      "INFO: HTTP Request: GET https://api.cloud.llamaindex.ai/api/parsing/job/642aea11-af51-4164-97b8-d2f218a75984 \"HTTP/1.1 200 OK\"\n",
      "INFO: HTTP Request: GET https://api.cloud.llamaindex.ai/api/parsing/job/642aea11-af51-4164-97b8-d2f218a75984 \"HTTP/1.1 200 OK\"\n",
      "INFO: HTTP Request: GET https://api.cloud.llamaindex.ai/api/parsing/job/642aea11-af51-4164-97b8-d2f218a75984 \"HTTP/1.1 200 OK\"\n",
      "INFO: HTTP Request: GET https://api.cloud.llamaindex.ai/api/parsing/job/642aea11-af51-4164-97b8-d2f218a75984 \"HTTP/1.1 200 OK\"\n",
      "INFO: HTTP Request: GET https://api.cloud.llamaindex.ai/api/parsing/job/642aea11-af51-4164-97b8-d2f218a75984 \"HTTP/1.1 200 OK\"\n",
      "INFO: HTTP Request: GET https://api.cloud.llamaindex.ai/api/parsing/job/642aea11-af51-4164-97b8-d2f218a75984/result/markdown \"HTTP/1.1 200 OK\"\n"
     ]
    },
    {
     "name": "stdout",
     "output_type": "stream",
     "text": [
      "../data/out/md/38-Breakout-Room-Basicspdf.md saved.\n"
     ]
    },
    {
     "name": "stderr",
     "output_type": "stream",
     "text": [
      "INFO: HTTP Request: POST https://api.cloud.llamaindex.ai/api/parsing/upload \"HTTP/1.1 200 OK\"\n"
     ]
    },
    {
     "name": "stdout",
     "output_type": "stream",
     "text": [
      "Started parsing the file under job_id 00577d17-4a72-437b-800d-6e592ba7534a\n"
     ]
    },
    {
     "name": "stderr",
     "output_type": "stream",
     "text": [
      "INFO: HTTP Request: GET https://api.cloud.llamaindex.ai/api/parsing/job/00577d17-4a72-437b-800d-6e592ba7534a \"HTTP/1.1 200 OK\"\n",
      "INFO: HTTP Request: GET https://api.cloud.llamaindex.ai/api/parsing/job/00577d17-4a72-437b-800d-6e592ba7534a \"HTTP/1.1 200 OK\"\n",
      "INFO: HTTP Request: GET https://api.cloud.llamaindex.ai/api/parsing/job/00577d17-4a72-437b-800d-6e592ba7534a \"HTTP/1.1 200 OK\"\n",
      "INFO: HTTP Request: GET https://api.cloud.llamaindex.ai/api/parsing/job/00577d17-4a72-437b-800d-6e592ba7534a \"HTTP/1.1 200 OK\"\n",
      "INFO: HTTP Request: GET https://api.cloud.llamaindex.ai/api/parsing/job/00577d17-4a72-437b-800d-6e592ba7534a \"HTTP/1.1 200 OK\"\n",
      "INFO: HTTP Request: GET https://api.cloud.llamaindex.ai/api/parsing/job/00577d17-4a72-437b-800d-6e592ba7534a/result/markdown \"HTTP/1.1 200 OK\"\n"
     ]
    },
    {
     "name": "stdout",
     "output_type": "stream",
     "text": [
      "../data/out/md/39-Breakout-Rooms---Manual-Creationpdf.md saved.\n"
     ]
    },
    {
     "name": "stderr",
     "output_type": "stream",
     "text": [
      "INFO: HTTP Request: POST https://api.cloud.llamaindex.ai/api/parsing/upload \"HTTP/1.1 200 OK\"\n"
     ]
    },
    {
     "name": "stdout",
     "output_type": "stream",
     "text": [
      "Started parsing the file under job_id 99b3924b-95be-46dd-b7e7-1bb6a5dbb5d4\n"
     ]
    },
    {
     "name": "stderr",
     "output_type": "stream",
     "text": [
      "INFO: HTTP Request: GET https://api.cloud.llamaindex.ai/api/parsing/job/99b3924b-95be-46dd-b7e7-1bb6a5dbb5d4 \"HTTP/1.1 200 OK\"\n",
      "INFO: HTTP Request: GET https://api.cloud.llamaindex.ai/api/parsing/job/99b3924b-95be-46dd-b7e7-1bb6a5dbb5d4 \"HTTP/1.1 200 OK\"\n",
      "INFO: HTTP Request: GET https://api.cloud.llamaindex.ai/api/parsing/job/99b3924b-95be-46dd-b7e7-1bb6a5dbb5d4 \"HTTP/1.1 200 OK\"\n",
      "INFO: HTTP Request: GET https://api.cloud.llamaindex.ai/api/parsing/job/99b3924b-95be-46dd-b7e7-1bb6a5dbb5d4 \"HTTP/1.1 200 OK\"\n",
      "INFO: HTTP Request: GET https://api.cloud.llamaindex.ai/api/parsing/job/99b3924b-95be-46dd-b7e7-1bb6a5dbb5d4/result/markdown \"HTTP/1.1 200 OK\"\n"
     ]
    },
    {
     "name": "stdout",
     "output_type": "stream",
     "text": [
      "../data/out/md/4-Academic-Planning-Tools-for-PCpdf.md saved.\n"
     ]
    },
    {
     "name": "stderr",
     "output_type": "stream",
     "text": [
      "INFO: HTTP Request: POST https://api.cloud.llamaindex.ai/api/parsing/upload \"HTTP/1.1 200 OK\"\n"
     ]
    },
    {
     "name": "stdout",
     "output_type": "stream",
     "text": [
      "Started parsing the file under job_id 1421aa53-c736-4107-8f8a-40cb24051bf9\n"
     ]
    },
    {
     "name": "stderr",
     "output_type": "stream",
     "text": [
      "INFO: HTTP Request: GET https://api.cloud.llamaindex.ai/api/parsing/job/1421aa53-c736-4107-8f8a-40cb24051bf9 \"HTTP/1.1 200 OK\"\n",
      "INFO: HTTP Request: GET https://api.cloud.llamaindex.ai/api/parsing/job/1421aa53-c736-4107-8f8a-40cb24051bf9 \"HTTP/1.1 200 OK\"\n",
      "INFO: HTTP Request: GET https://api.cloud.llamaindex.ai/api/parsing/job/1421aa53-c736-4107-8f8a-40cb24051bf9 \"HTTP/1.1 200 OK\"\n",
      "INFO: HTTP Request: GET https://api.cloud.llamaindex.ai/api/parsing/job/1421aa53-c736-4107-8f8a-40cb24051bf9 \"HTTP/1.1 200 OK\"\n",
      "INFO: HTTP Request: GET https://api.cloud.llamaindex.ai/api/parsing/job/1421aa53-c736-4107-8f8a-40cb24051bf9 \"HTTP/1.1 200 OK\"\n",
      "INFO: HTTP Request: GET https://api.cloud.llamaindex.ai/api/parsing/job/1421aa53-c736-4107-8f8a-40cb24051bf9 \"HTTP/1.1 200 OK\"\n",
      "INFO: HTTP Request: GET https://api.cloud.llamaindex.ai/api/parsing/job/1421aa53-c736-4107-8f8a-40cb24051bf9 \"HTTP/1.1 200 OK\"\n",
      "INFO: HTTP Request: GET https://api.cloud.llamaindex.ai/api/parsing/job/1421aa53-c736-4107-8f8a-40cb24051bf9 \"HTTP/1.1 200 OK\"\n",
      "INFO: HTTP Request: GET https://api.cloud.llamaindex.ai/api/parsing/job/1421aa53-c736-4107-8f8a-40cb24051bf9 \"HTTP/1.1 200 OK\"\n",
      "INFO: HTTP Request: GET https://api.cloud.llamaindex.ai/api/parsing/job/1421aa53-c736-4107-8f8a-40cb24051bf9 \"HTTP/1.1 200 OK\"\n"
     ]
    },
    {
     "name": "stdout",
     "output_type": "stream",
     "text": [
      "."
     ]
    },
    {
     "name": "stderr",
     "output_type": "stream",
     "text": [
      "INFO: HTTP Request: GET https://api.cloud.llamaindex.ai/api/parsing/job/1421aa53-c736-4107-8f8a-40cb24051bf9 \"HTTP/1.1 200 OK\"\n",
      "INFO: HTTP Request: GET https://api.cloud.llamaindex.ai/api/parsing/job/1421aa53-c736-4107-8f8a-40cb24051bf9 \"HTTP/1.1 200 OK\"\n",
      "INFO: HTTP Request: GET https://api.cloud.llamaindex.ai/api/parsing/job/1421aa53-c736-4107-8f8a-40cb24051bf9 \"HTTP/1.1 200 OK\"\n",
      "INFO: HTTP Request: GET https://api.cloud.llamaindex.ai/api/parsing/job/1421aa53-c736-4107-8f8a-40cb24051bf9 \"HTTP/1.1 200 OK\"\n",
      "INFO: HTTP Request: GET https://api.cloud.llamaindex.ai/api/parsing/job/1421aa53-c736-4107-8f8a-40cb24051bf9 \"HTTP/1.1 200 OK\"\n",
      "INFO: HTTP Request: GET https://api.cloud.llamaindex.ai/api/parsing/job/1421aa53-c736-4107-8f8a-40cb24051bf9 \"HTTP/1.1 200 OK\"\n",
      "INFO: HTTP Request: GET https://api.cloud.llamaindex.ai/api/parsing/job/1421aa53-c736-4107-8f8a-40cb24051bf9 \"HTTP/1.1 200 OK\"\n",
      "INFO: HTTP Request: GET https://api.cloud.llamaindex.ai/api/parsing/job/1421aa53-c736-4107-8f8a-40cb24051bf9/result/markdown \"HTTP/1.1 200 OK\"\n"
     ]
    },
    {
     "name": "stdout",
     "output_type": "stream",
     "text": [
      "../data/out/md/40-CHINESE-CSM-Application-Octpdf.md saved.\n"
     ]
    },
    {
     "name": "stderr",
     "output_type": "stream",
     "text": [
      "INFO: HTTP Request: POST https://api.cloud.llamaindex.ai/api/parsing/upload \"HTTP/1.1 200 OK\"\n"
     ]
    },
    {
     "name": "stdout",
     "output_type": "stream",
     "text": [
      "Started parsing the file under job_id 2b08edb2-589a-4ec5-850b-045f030bd349\n"
     ]
    },
    {
     "name": "stderr",
     "output_type": "stream",
     "text": [
      "INFO: HTTP Request: GET https://api.cloud.llamaindex.ai/api/parsing/job/2b08edb2-589a-4ec5-850b-045f030bd349 \"HTTP/1.1 200 OK\"\n",
      "INFO: HTTP Request: GET https://api.cloud.llamaindex.ai/api/parsing/job/2b08edb2-589a-4ec5-850b-045f030bd349/result/markdown \"HTTP/1.1 200 OK\"\n"
     ]
    },
    {
     "name": "stdout",
     "output_type": "stream",
     "text": [
      "../data/out/md/40-CHINESE-CSM-Application-Octpdf.md saved.\n"
     ]
    },
    {
     "name": "stderr",
     "output_type": "stream",
     "text": [
      "INFO: HTTP Request: POST https://api.cloud.llamaindex.ai/api/parsing/upload \"HTTP/1.1 200 OK\"\n"
     ]
    },
    {
     "name": "stdout",
     "output_type": "stream",
     "text": [
      "Started parsing the file under job_id 5a9242ba-3433-44ac-8dc8-b69c2a702810\n"
     ]
    },
    {
     "name": "stderr",
     "output_type": "stream",
     "text": [
      "INFO: HTTP Request: GET https://api.cloud.llamaindex.ai/api/parsing/job/5a9242ba-3433-44ac-8dc8-b69c2a702810 \"HTTP/1.1 200 OK\"\n",
      "INFO: HTTP Request: GET https://api.cloud.llamaindex.ai/api/parsing/job/5a9242ba-3433-44ac-8dc8-b69c2a702810/result/markdown \"HTTP/1.1 200 OK\"\n"
     ]
    },
    {
     "name": "stdout",
     "output_type": "stream",
     "text": [
      "../data/out/md/41-CRM-Checking-Ticket-Resultspdf.md saved.\n"
     ]
    },
    {
     "name": "stderr",
     "output_type": "stream",
     "text": [
      "INFO: HTTP Request: POST https://api.cloud.llamaindex.ai/api/parsing/upload \"HTTP/1.1 200 OK\"\n"
     ]
    },
    {
     "name": "stdout",
     "output_type": "stream",
     "text": [
      "Started parsing the file under job_id 1b8d0bfd-86f4-4cb4-87d7-f15b496ed1dc\n"
     ]
    },
    {
     "name": "stderr",
     "output_type": "stream",
     "text": [
      "INFO: HTTP Request: GET https://api.cloud.llamaindex.ai/api/parsing/job/1b8d0bfd-86f4-4cb4-87d7-f15b496ed1dc \"HTTP/1.1 200 OK\"\n",
      "INFO: HTTP Request: GET https://api.cloud.llamaindex.ai/api/parsing/job/1b8d0bfd-86f4-4cb4-87d7-f15b496ed1dc \"HTTP/1.1 200 OK\"\n",
      "INFO: HTTP Request: GET https://api.cloud.llamaindex.ai/api/parsing/job/1b8d0bfd-86f4-4cb4-87d7-f15b496ed1dc \"HTTP/1.1 200 OK\"\n",
      "INFO: HTTP Request: GET https://api.cloud.llamaindex.ai/api/parsing/job/1b8d0bfd-86f4-4cb4-87d7-f15b496ed1dc/result/markdown \"HTTP/1.1 200 OK\"\n"
     ]
    },
    {
     "name": "stdout",
     "output_type": "stream",
     "text": [
      "../data/out/md/42-Calculate-a-Students-GPApdf.md saved.\n"
     ]
    },
    {
     "name": "stderr",
     "output_type": "stream",
     "text": [
      "INFO: HTTP Request: POST https://api.cloud.llamaindex.ai/api/parsing/upload \"HTTP/1.1 200 OK\"\n"
     ]
    },
    {
     "name": "stdout",
     "output_type": "stream",
     "text": [
      "Started parsing the file under job_id d4d4c039-b05d-442d-8180-efb06c5d8ebe\n"
     ]
    },
    {
     "name": "stderr",
     "output_type": "stream",
     "text": [
      "INFO: HTTP Request: GET https://api.cloud.llamaindex.ai/api/parsing/job/d4d4c039-b05d-442d-8180-efb06c5d8ebe \"HTTP/1.1 200 OK\"\n",
      "INFO: HTTP Request: GET https://api.cloud.llamaindex.ai/api/parsing/job/d4d4c039-b05d-442d-8180-efb06c5d8ebe \"HTTP/1.1 200 OK\"\n",
      "INFO: HTTP Request: GET https://api.cloud.llamaindex.ai/api/parsing/job/d4d4c039-b05d-442d-8180-efb06c5d8ebe \"HTTP/1.1 200 OK\"\n",
      "INFO: HTTP Request: GET https://api.cloud.llamaindex.ai/api/parsing/job/d4d4c039-b05d-442d-8180-efb06c5d8ebe \"HTTP/1.1 200 OK\"\n",
      "INFO: HTTP Request: GET https://api.cloud.llamaindex.ai/api/parsing/job/d4d4c039-b05d-442d-8180-efb06c5d8ebe \"HTTP/1.1 200 OK\"\n",
      "INFO: HTTP Request: GET https://api.cloud.llamaindex.ai/api/parsing/job/d4d4c039-b05d-442d-8180-efb06c5d8ebe \"HTTP/1.1 200 OK\"\n",
      "INFO: HTTP Request: GET https://api.cloud.llamaindex.ai/api/parsing/job/d4d4c039-b05d-442d-8180-efb06c5d8ebe \"HTTP/1.1 200 OK\"\n",
      "INFO: HTTP Request: GET https://api.cloud.llamaindex.ai/api/parsing/job/d4d4c039-b05d-442d-8180-efb06c5d8ebe/result/markdown \"HTTP/1.1 200 OK\"\n"
     ]
    },
    {
     "name": "stdout",
     "output_type": "stream",
     "text": [
      "../data/out/md/43-Certificate-First-Approachpdf.md saved.\n"
     ]
    },
    {
     "name": "stderr",
     "output_type": "stream",
     "text": [
      "INFO: HTTP Request: POST https://api.cloud.llamaindex.ai/api/parsing/upload \"HTTP/1.1 200 OK\"\n"
     ]
    },
    {
     "name": "stdout",
     "output_type": "stream",
     "text": [
      "Started parsing the file under job_id 250af470-eb8e-443d-b938-97d5973f4b8f\n"
     ]
    },
    {
     "name": "stderr",
     "output_type": "stream",
     "text": [
      "INFO: HTTP Request: GET https://api.cloud.llamaindex.ai/api/parsing/job/250af470-eb8e-443d-b938-97d5973f4b8f \"HTTP/1.1 200 OK\"\n",
      "INFO: HTTP Request: GET https://api.cloud.llamaindex.ai/api/parsing/job/250af470-eb8e-443d-b938-97d5973f4b8f \"HTTP/1.1 200 OK\"\n",
      "INFO: HTTP Request: GET https://api.cloud.llamaindex.ai/api/parsing/job/250af470-eb8e-443d-b938-97d5973f4b8f \"HTTP/1.1 200 OK\"\n",
      "INFO: HTTP Request: GET https://api.cloud.llamaindex.ai/api/parsing/job/250af470-eb8e-443d-b938-97d5973f4b8f \"HTTP/1.1 200 OK\"\n",
      "INFO: HTTP Request: GET https://api.cloud.llamaindex.ai/api/parsing/job/250af470-eb8e-443d-b938-97d5973f4b8f \"HTTP/1.1 200 OK\"\n",
      "INFO: HTTP Request: GET https://api.cloud.llamaindex.ai/api/parsing/job/250af470-eb8e-443d-b938-97d5973f4b8f/result/markdown \"HTTP/1.1 200 OK\"\n"
     ]
    },
    {
     "name": "stdout",
     "output_type": "stream",
     "text": [
      "../data/out/md/44-Chatpdf.md saved.\n"
     ]
    },
    {
     "name": "stderr",
     "output_type": "stream",
     "text": [
      "INFO: HTTP Request: POST https://api.cloud.llamaindex.ai/api/parsing/upload \"HTTP/1.1 200 OK\"\n"
     ]
    },
    {
     "name": "stdout",
     "output_type": "stream",
     "text": [
      "Started parsing the file under job_id b06793a3-0054-4c33-9d37-9eb999c9f2e2\n"
     ]
    },
    {
     "name": "stderr",
     "output_type": "stream",
     "text": [
      "INFO: HTTP Request: GET https://api.cloud.llamaindex.ai/api/parsing/job/b06793a3-0054-4c33-9d37-9eb999c9f2e2 \"HTTP/1.1 200 OK\"\n",
      "INFO: HTTP Request: GET https://api.cloud.llamaindex.ai/api/parsing/job/b06793a3-0054-4c33-9d37-9eb999c9f2e2 \"HTTP/1.1 200 OK\"\n",
      "INFO: HTTP Request: GET https://api.cloud.llamaindex.ai/api/parsing/job/b06793a3-0054-4c33-9d37-9eb999c9f2e2 \"HTTP/1.1 200 OK\"\n",
      "INFO: HTTP Request: GET https://api.cloud.llamaindex.ai/api/parsing/job/b06793a3-0054-4c33-9d37-9eb999c9f2e2 \"HTTP/1.1 200 OK\"\n",
      "INFO: HTTP Request: GET https://api.cloud.llamaindex.ai/api/parsing/job/b06793a3-0054-4c33-9d37-9eb999c9f2e2 \"HTTP/1.1 200 OK\"\n",
      "INFO: HTTP Request: GET https://api.cloud.llamaindex.ai/api/parsing/job/b06793a3-0054-4c33-9d37-9eb999c9f2e2/result/markdown \"HTTP/1.1 200 OK\"\n"
     ]
    },
    {
     "name": "stdout",
     "output_type": "stream",
     "text": [
      "../data/out/md/45-Check-Enrollment-Trendspdf.md saved.\n"
     ]
    },
    {
     "name": "stderr",
     "output_type": "stream",
     "text": [
      "INFO: HTTP Request: POST https://api.cloud.llamaindex.ai/api/parsing/upload \"HTTP/1.1 200 OK\"\n"
     ]
    },
    {
     "name": "stdout",
     "output_type": "stream",
     "text": [
      "Started parsing the file under job_id 88b467ed-cc8e-4ceb-a54b-7508daa601a1\n"
     ]
    },
    {
     "name": "stderr",
     "output_type": "stream",
     "text": [
      "INFO: HTTP Request: GET https://api.cloud.llamaindex.ai/api/parsing/job/88b467ed-cc8e-4ceb-a54b-7508daa601a1 \"HTTP/1.1 200 OK\"\n",
      "INFO: HTTP Request: GET https://api.cloud.llamaindex.ai/api/parsing/job/88b467ed-cc8e-4ceb-a54b-7508daa601a1 \"HTTP/1.1 200 OK\"\n",
      "INFO: HTTP Request: GET https://api.cloud.llamaindex.ai/api/parsing/job/88b467ed-cc8e-4ceb-a54b-7508daa601a1 \"HTTP/1.1 200 OK\"\n",
      "INFO: HTTP Request: GET https://api.cloud.llamaindex.ai/api/parsing/job/88b467ed-cc8e-4ceb-a54b-7508daa601a1/result/markdown \"HTTP/1.1 200 OK\"\n"
     ]
    },
    {
     "name": "stdout",
     "output_type": "stream",
     "text": [
      "../data/out/md/46-Check-Student-History-for-Past-Gradespdf.md saved.\n"
     ]
    },
    {
     "name": "stderr",
     "output_type": "stream",
     "text": [
      "INFO: HTTP Request: POST https://api.cloud.llamaindex.ai/api/parsing/upload \"HTTP/1.1 200 OK\"\n"
     ]
    },
    {
     "name": "stdout",
     "output_type": "stream",
     "text": [
      "Started parsing the file under job_id c94e5af1-70d1-4fd9-a1c7-1054019ad12a\n"
     ]
    },
    {
     "name": "stderr",
     "output_type": "stream",
     "text": [
      "INFO: HTTP Request: GET https://api.cloud.llamaindex.ai/api/parsing/job/c94e5af1-70d1-4fd9-a1c7-1054019ad12a \"HTTP/1.1 200 OK\"\n",
      "INFO: HTTP Request: GET https://api.cloud.llamaindex.ai/api/parsing/job/c94e5af1-70d1-4fd9-a1c7-1054019ad12a/result/markdown \"HTTP/1.1 200 OK\"\n"
     ]
    },
    {
     "name": "stdout",
     "output_type": "stream",
     "text": [
      "../data/out/md/47-Check-a-Learners-ELA-Scorespdf.md saved.\n"
     ]
    },
    {
     "name": "stderr",
     "output_type": "stream",
     "text": [
      "INFO: HTTP Request: POST https://api.cloud.llamaindex.ai/api/parsing/upload \"HTTP/1.1 200 OK\"\n"
     ]
    },
    {
     "name": "stdout",
     "output_type": "stream",
     "text": [
      "Started parsing the file under job_id eb2ce888-bddf-43e3-90f5-818b4310850e\n"
     ]
    },
    {
     "name": "stderr",
     "output_type": "stream",
     "text": [
      "INFO: HTTP Request: GET https://api.cloud.llamaindex.ai/api/parsing/job/eb2ce888-bddf-43e3-90f5-818b4310850e \"HTTP/1.1 200 OK\"\n",
      "INFO: HTTP Request: GET https://api.cloud.llamaindex.ai/api/parsing/job/eb2ce888-bddf-43e3-90f5-818b4310850e \"HTTP/1.1 200 OK\"\n",
      "INFO: HTTP Request: GET https://api.cloud.llamaindex.ai/api/parsing/job/eb2ce888-bddf-43e3-90f5-818b4310850e \"HTTP/1.1 200 OK\"\n",
      "INFO: HTTP Request: GET https://api.cloud.llamaindex.ai/api/parsing/job/eb2ce888-bddf-43e3-90f5-818b4310850e \"HTTP/1.1 200 OK\"\n",
      "INFO: HTTP Request: GET https://api.cloud.llamaindex.ai/api/parsing/job/eb2ce888-bddf-43e3-90f5-818b4310850e \"HTTP/1.1 200 OK\"\n",
      "INFO: HTTP Request: GET https://api.cloud.llamaindex.ai/api/parsing/job/eb2ce888-bddf-43e3-90f5-818b4310850e \"HTTP/1.1 200 OK\"\n",
      "INFO: HTTP Request: GET https://api.cloud.llamaindex.ai/api/parsing/job/eb2ce888-bddf-43e3-90f5-818b4310850e \"HTTP/1.1 200 OK\"\n",
      "INFO: HTTP Request: GET https://api.cloud.llamaindex.ai/api/parsing/job/eb2ce888-bddf-43e3-90f5-818b4310850e/result/markdown \"HTTP/1.1 200 OK\"\n"
     ]
    },
    {
     "name": "stdout",
     "output_type": "stream",
     "text": [
      "../data/out/md/48-Check-for-Institute-Registration-for-College-Creditpdf.md saved.\n"
     ]
    },
    {
     "name": "stderr",
     "output_type": "stream",
     "text": [
      "INFO: HTTP Request: POST https://api.cloud.llamaindex.ai/api/parsing/upload \"HTTP/1.1 200 OK\"\n"
     ]
    },
    {
     "name": "stdout",
     "output_type": "stream",
     "text": [
      "Started parsing the file under job_id 660203fa-a57a-4281-bf84-4de526593e47\n"
     ]
    },
    {
     "name": "stderr",
     "output_type": "stream",
     "text": [
      "INFO: HTTP Request: GET https://api.cloud.llamaindex.ai/api/parsing/job/660203fa-a57a-4281-bf84-4de526593e47 \"HTTP/1.1 200 OK\"\n",
      "INFO: HTTP Request: GET https://api.cloud.llamaindex.ai/api/parsing/job/660203fa-a57a-4281-bf84-4de526593e47/result/markdown \"HTTP/1.1 200 OK\"\n"
     ]
    },
    {
     "name": "stdout",
     "output_type": "stream",
     "text": [
      "../data/out/md/49-Checking-Enrollment-Trendspdf.md saved.\n"
     ]
    },
    {
     "name": "stderr",
     "output_type": "stream",
     "text": [
      "INFO: HTTP Request: POST https://api.cloud.llamaindex.ai/api/parsing/upload \"HTTP/1.1 200 OK\"\n"
     ]
    },
    {
     "name": "stdout",
     "output_type": "stream",
     "text": [
      "Started parsing the file under job_id a184c895-f2de-448e-ad95-e5e6983044e3\n"
     ]
    },
    {
     "name": "stderr",
     "output_type": "stream",
     "text": [
      "INFO: HTTP Request: GET https://api.cloud.llamaindex.ai/api/parsing/job/a184c895-f2de-448e-ad95-e5e6983044e3 \"HTTP/1.1 200 OK\"\n",
      "INFO: HTTP Request: GET https://api.cloud.llamaindex.ai/api/parsing/job/a184c895-f2de-448e-ad95-e5e6983044e3 \"HTTP/1.1 200 OK\"\n",
      "INFO: HTTP Request: GET https://api.cloud.llamaindex.ai/api/parsing/job/a184c895-f2de-448e-ad95-e5e6983044e3 \"HTTP/1.1 200 OK\"\n",
      "INFO: HTTP Request: GET https://api.cloud.llamaindex.ai/api/parsing/job/a184c895-f2de-448e-ad95-e5e6983044e3 \"HTTP/1.1 200 OK\"\n",
      "INFO: HTTP Request: GET https://api.cloud.llamaindex.ai/api/parsing/job/a184c895-f2de-448e-ad95-e5e6983044e3 \"HTTP/1.1 200 OK\"\n",
      "INFO: HTTP Request: GET https://api.cloud.llamaindex.ai/api/parsing/job/a184c895-f2de-448e-ad95-e5e6983044e3/result/markdown \"HTTP/1.1 200 OK\"\n"
     ]
    },
    {
     "name": "stdout",
     "output_type": "stream",
     "text": [
      "../data/out/md/5-Academic-Planning-Toolspdf.md saved.\n"
     ]
    },
    {
     "name": "stderr",
     "output_type": "stream",
     "text": [
      "INFO: HTTP Request: POST https://api.cloud.llamaindex.ai/api/parsing/upload \"HTTP/1.1 200 OK\"\n"
     ]
    },
    {
     "name": "stdout",
     "output_type": "stream",
     "text": [
      "Started parsing the file under job_id a888da05-123b-496e-bfb2-7404de6c668f\n"
     ]
    },
    {
     "name": "stderr",
     "output_type": "stream",
     "text": [
      "INFO: HTTP Request: GET https://api.cloud.llamaindex.ai/api/parsing/job/a888da05-123b-496e-bfb2-7404de6c668f \"HTTP/1.1 200 OK\"\n",
      "INFO: HTTP Request: GET https://api.cloud.llamaindex.ai/api/parsing/job/a888da05-123b-496e-bfb2-7404de6c668f \"HTTP/1.1 200 OK\"\n",
      "INFO: HTTP Request: GET https://api.cloud.llamaindex.ai/api/parsing/job/a888da05-123b-496e-bfb2-7404de6c668f \"HTTP/1.1 200 OK\"\n",
      "INFO: HTTP Request: GET https://api.cloud.llamaindex.ai/api/parsing/job/a888da05-123b-496e-bfb2-7404de6c668f/result/markdown \"HTTP/1.1 200 OK\"\n"
     ]
    },
    {
     "name": "stdout",
     "output_type": "stream",
     "text": [
      "../data/out/md/50-Checking-for-Updatespdf.md saved.\n"
     ]
    },
    {
     "name": "stderr",
     "output_type": "stream",
     "text": [
      "INFO: HTTP Request: POST https://api.cloud.llamaindex.ai/api/parsing/upload \"HTTP/1.1 200 OK\"\n"
     ]
    },
    {
     "name": "stdout",
     "output_type": "stream",
     "text": [
      "Started parsing the file under job_id a057492c-bd49-47b8-876d-0f44c19f6b0d\n"
     ]
    },
    {
     "name": "stderr",
     "output_type": "stream",
     "text": [
      "INFO: HTTP Request: GET https://api.cloud.llamaindex.ai/api/parsing/job/a057492c-bd49-47b8-876d-0f44c19f6b0d \"HTTP/1.1 200 OK\"\n",
      "INFO: HTTP Request: GET https://api.cloud.llamaindex.ai/api/parsing/job/a057492c-bd49-47b8-876d-0f44c19f6b0d \"HTTP/1.1 200 OK\"\n",
      "INFO: HTTP Request: GET https://api.cloud.llamaindex.ai/api/parsing/job/a057492c-bd49-47b8-876d-0f44c19f6b0d \"HTTP/1.1 200 OK\"\n",
      "INFO: HTTP Request: GET https://api.cloud.llamaindex.ai/api/parsing/job/a057492c-bd49-47b8-876d-0f44c19f6b0d \"HTTP/1.1 200 OK\"\n",
      "INFO: HTTP Request: GET https://api.cloud.llamaindex.ai/api/parsing/job/a057492c-bd49-47b8-876d-0f44c19f6b0d \"HTTP/1.1 200 OK\"\n",
      "INFO: HTTP Request: GET https://api.cloud.llamaindex.ai/api/parsing/job/a057492c-bd49-47b8-876d-0f44c19f6b0d/result/markdown \"HTTP/1.1 200 OK\"\n"
     ]
    },
    {
     "name": "stdout",
     "output_type": "stream",
     "text": [
      "../data/out/md/51-Church-HR-Annual-Workforce-Trainingpdf.md saved.\n"
     ]
    },
    {
     "name": "stderr",
     "output_type": "stream",
     "text": [
      "INFO: HTTP Request: POST https://api.cloud.llamaindex.ai/api/parsing/upload \"HTTP/1.1 200 OK\"\n"
     ]
    },
    {
     "name": "stdout",
     "output_type": "stream",
     "text": [
      "Started parsing the file under job_id 99414c8b-3861-4197-91ba-f6f54bb0c28f\n"
     ]
    },
    {
     "name": "stderr",
     "output_type": "stream",
     "text": [
      "INFO: HTTP Request: GET https://api.cloud.llamaindex.ai/api/parsing/job/99414c8b-3861-4197-91ba-f6f54bb0c28f \"HTTP/1.1 200 OK\"\n",
      "INFO: HTTP Request: GET https://api.cloud.llamaindex.ai/api/parsing/job/99414c8b-3861-4197-91ba-f6f54bb0c28f/result/markdown \"HTTP/1.1 200 OK\"\n"
     ]
    },
    {
     "name": "stdout",
     "output_type": "stream",
     "text": [
      "../data/out/md/52-Claim-Host-When-Substitutingpdf.md saved.\n"
     ]
    },
    {
     "name": "stderr",
     "output_type": "stream",
     "text": [
      "INFO: HTTP Request: POST https://api.cloud.llamaindex.ai/api/parsing/upload \"HTTP/1.1 200 OK\"\n"
     ]
    },
    {
     "name": "stdout",
     "output_type": "stream",
     "text": [
      "Started parsing the file under job_id b6469170-a372-4923-81d3-4e4105892275\n"
     ]
    },
    {
     "name": "stderr",
     "output_type": "stream",
     "text": [
      "INFO: HTTP Request: GET https://api.cloud.llamaindex.ai/api/parsing/job/b6469170-a372-4923-81d3-4e4105892275 \"HTTP/1.1 200 OK\"\n",
      "INFO: HTTP Request: GET https://api.cloud.llamaindex.ai/api/parsing/job/b6469170-a372-4923-81d3-4e4105892275 \"HTTP/1.1 200 OK\"\n",
      "INFO: HTTP Request: GET https://api.cloud.llamaindex.ai/api/parsing/job/b6469170-a372-4923-81d3-4e4105892275 \"HTTP/1.1 200 OK\"\n",
      "INFO: HTTP Request: GET https://api.cloud.llamaindex.ai/api/parsing/job/b6469170-a372-4923-81d3-4e4105892275/result/markdown \"HTTP/1.1 200 OK\"\n"
     ]
    },
    {
     "name": "stdout",
     "output_type": "stream",
     "text": [
      "../data/out/md/53-Closing-a-Sitepdf.md saved.\n"
     ]
    },
    {
     "name": "stderr",
     "output_type": "stream",
     "text": [
      "INFO: HTTP Request: POST https://api.cloud.llamaindex.ai/api/parsing/upload \"HTTP/1.1 200 OK\"\n"
     ]
    },
    {
     "name": "stdout",
     "output_type": "stream",
     "text": [
      "Started parsing the file under job_id b4d5fcef-cc77-4ecc-a129-375c3b334509\n"
     ]
    },
    {
     "name": "stderr",
     "output_type": "stream",
     "text": [
      "INFO: HTTP Request: GET https://api.cloud.llamaindex.ai/api/parsing/job/b4d5fcef-cc77-4ecc-a129-375c3b334509 \"HTTP/1.1 200 OK\"\n",
      "INFO: HTTP Request: GET https://api.cloud.llamaindex.ai/api/parsing/job/b4d5fcef-cc77-4ecc-a129-375c3b334509 \"HTTP/1.1 200 OK\"\n",
      "INFO: HTTP Request: GET https://api.cloud.llamaindex.ai/api/parsing/job/b4d5fcef-cc77-4ecc-a129-375c3b334509 \"HTTP/1.1 200 OK\"\n",
      "INFO: HTTP Request: GET https://api.cloud.llamaindex.ai/api/parsing/job/b4d5fcef-cc77-4ecc-a129-375c3b334509 \"HTTP/1.1 200 OK\"\n",
      "INFO: HTTP Request: GET https://api.cloud.llamaindex.ai/api/parsing/job/b4d5fcef-cc77-4ecc-a129-375c3b334509 \"HTTP/1.1 200 OK\"\n",
      "INFO: HTTP Request: GET https://api.cloud.llamaindex.ai/api/parsing/job/b4d5fcef-cc77-4ecc-a129-375c3b334509/result/markdown \"HTTP/1.1 200 OK\"\n"
     ]
    },
    {
     "name": "stdout",
     "output_type": "stream",
     "text": [
      "../data/out/md/54-Closing-or-Deprecating-a-Grouppdf.md saved.\n"
     ]
    },
    {
     "name": "stderr",
     "output_type": "stream",
     "text": [
      "INFO: HTTP Request: POST https://api.cloud.llamaindex.ai/api/parsing/upload \"HTTP/1.1 200 OK\"\n"
     ]
    },
    {
     "name": "stdout",
     "output_type": "stream",
     "text": [
      "Started parsing the file under job_id d930df17-e83d-42fc-8c72-dfbaf994ac3b\n"
     ]
    },
    {
     "name": "stderr",
     "output_type": "stream",
     "text": [
      "INFO: HTTP Request: GET https://api.cloud.llamaindex.ai/api/parsing/job/d930df17-e83d-42fc-8c72-dfbaf994ac3b \"HTTP/1.1 200 OK\"\n",
      "INFO: HTTP Request: GET https://api.cloud.llamaindex.ai/api/parsing/job/d930df17-e83d-42fc-8c72-dfbaf994ac3b \"HTTP/1.1 200 OK\"\n",
      "INFO: HTTP Request: GET https://api.cloud.llamaindex.ai/api/parsing/job/d930df17-e83d-42fc-8c72-dfbaf994ac3b \"HTTP/1.1 200 OK\"\n",
      "INFO: HTTP Request: GET https://api.cloud.llamaindex.ai/api/parsing/job/d930df17-e83d-42fc-8c72-dfbaf994ac3b \"HTTP/1.1 200 OK\"\n",
      "INFO: HTTP Request: GET https://api.cloud.llamaindex.ai/api/parsing/job/d930df17-e83d-42fc-8c72-dfbaf994ac3b/result/markdown \"HTTP/1.1 200 OK\"\n"
     ]
    },
    {
     "name": "stdout",
     "output_type": "stream",
     "text": [
      "../data/out/md/55-Communicate-to-All-Breakout-Roomspdf.md saved.\n"
     ]
    },
    {
     "name": "stderr",
     "output_type": "stream",
     "text": [
      "INFO: HTTP Request: POST https://api.cloud.llamaindex.ai/api/parsing/upload \"HTTP/1.1 200 OK\"\n"
     ]
    },
    {
     "name": "stdout",
     "output_type": "stream",
     "text": [
      "Started parsing the file under job_id 5b6eda79-5a4c-4eb1-b343-554d47c1f503\n"
     ]
    },
    {
     "name": "stderr",
     "output_type": "stream",
     "text": [
      "INFO: HTTP Request: GET https://api.cloud.llamaindex.ai/api/parsing/job/5b6eda79-5a4c-4eb1-b343-554d47c1f503 \"HTTP/1.1 200 OK\"\n",
      "INFO: HTTP Request: GET https://api.cloud.llamaindex.ai/api/parsing/job/5b6eda79-5a4c-4eb1-b343-554d47c1f503 \"HTTP/1.1 200 OK\"\n",
      "INFO: HTTP Request: GET https://api.cloud.llamaindex.ai/api/parsing/job/5b6eda79-5a4c-4eb1-b343-554d47c1f503 \"HTTP/1.1 200 OK\"\n",
      "INFO: HTTP Request: GET https://api.cloud.llamaindex.ai/api/parsing/job/5b6eda79-5a4c-4eb1-b343-554d47c1f503 \"HTTP/1.1 200 OK\"\n",
      "INFO: HTTP Request: GET https://api.cloud.llamaindex.ai/api/parsing/job/5b6eda79-5a4c-4eb1-b343-554d47c1f503 \"HTTP/1.1 200 OK\"\n",
      "INFO: HTTP Request: GET https://api.cloud.llamaindex.ai/api/parsing/job/5b6eda79-5a4c-4eb1-b343-554d47c1f503 \"HTTP/1.1 200 OK\"\n",
      "INFO: HTTP Request: GET https://api.cloud.llamaindex.ai/api/parsing/job/5b6eda79-5a4c-4eb1-b343-554d47c1f503/result/markdown \"HTTP/1.1 200 OK\"\n"
     ]
    },
    {
     "name": "stdout",
     "output_type": "stream",
     "text": [
      "../data/out/md/56-Companion-App-Overviewpdf.md saved.\n"
     ]
    },
    {
     "name": "stderr",
     "output_type": "stream",
     "text": [
      "INFO: HTTP Request: POST https://api.cloud.llamaindex.ai/api/parsing/upload \"HTTP/1.1 200 OK\"\n"
     ]
    },
    {
     "name": "stdout",
     "output_type": "stream",
     "text": [
      "Started parsing the file under job_id 0f6a1e8c-9912-4e0b-8c94-0998d8812bcd\n"
     ]
    },
    {
     "name": "stderr",
     "output_type": "stream",
     "text": [
      "INFO: HTTP Request: GET https://api.cloud.llamaindex.ai/api/parsing/job/0f6a1e8c-9912-4e0b-8c94-0998d8812bcd \"HTTP/1.1 200 OK\"\n",
      "INFO: HTTP Request: GET https://api.cloud.llamaindex.ai/api/parsing/job/0f6a1e8c-9912-4e0b-8c94-0998d8812bcd \"HTTP/1.1 200 OK\"\n",
      "INFO: HTTP Request: GET https://api.cloud.llamaindex.ai/api/parsing/job/0f6a1e8c-9912-4e0b-8c94-0998d8812bcd \"HTTP/1.1 200 OK\"\n",
      "INFO: HTTP Request: GET https://api.cloud.llamaindex.ai/api/parsing/job/0f6a1e8c-9912-4e0b-8c94-0998d8812bcd \"HTTP/1.1 200 OK\"\n",
      "INFO: HTTP Request: GET https://api.cloud.llamaindex.ai/api/parsing/job/0f6a1e8c-9912-4e0b-8c94-0998d8812bcd \"HTTP/1.1 200 OK\"\n",
      "INFO: HTTP Request: GET https://api.cloud.llamaindex.ai/api/parsing/job/0f6a1e8c-9912-4e0b-8c94-0998d8812bcd/result/markdown \"HTTP/1.1 200 OK\"\n"
     ]
    },
    {
     "name": "stdout",
     "output_type": "stream",
     "text": [
      "../data/out/md/57-Course-Preview-Overviewpdf.md saved.\n"
     ]
    },
    {
     "name": "stderr",
     "output_type": "stream",
     "text": [
      "INFO: HTTP Request: POST https://api.cloud.llamaindex.ai/api/parsing/upload \"HTTP/1.1 200 OK\"\n"
     ]
    },
    {
     "name": "stdout",
     "output_type": "stream",
     "text": [
      "Started parsing the file under job_id 97872634-3c95-45b1-936b-0d98f4366a6e\n"
     ]
    },
    {
     "name": "stderr",
     "output_type": "stream",
     "text": [
      "INFO: HTTP Request: GET https://api.cloud.llamaindex.ai/api/parsing/job/97872634-3c95-45b1-936b-0d98f4366a6e \"HTTP/1.1 200 OK\"\n",
      "INFO: HTTP Request: GET https://api.cloud.llamaindex.ai/api/parsing/job/97872634-3c95-45b1-936b-0d98f4366a6e \"HTTP/1.1 200 OK\"\n",
      "INFO: HTTP Request: GET https://api.cloud.llamaindex.ai/api/parsing/job/97872634-3c95-45b1-936b-0d98f4366a6e \"HTTP/1.1 200 OK\"\n",
      "INFO: HTTP Request: GET https://api.cloud.llamaindex.ai/api/parsing/job/97872634-3c95-45b1-936b-0d98f4366a6e \"HTTP/1.1 200 OK\"\n",
      "INFO: HTTP Request: GET https://api.cloud.llamaindex.ai/api/parsing/job/97872634-3c95-45b1-936b-0d98f4366a6e/result/markdown \"HTTP/1.1 200 OK\"\n"
     ]
    },
    {
     "name": "stdout",
     "output_type": "stream",
     "text": [
      "../data/out/md/58-Create-a-Church-Account-for-Friends-of-the-Churchpdf.md saved.\n"
     ]
    },
    {
     "name": "stderr",
     "output_type": "stream",
     "text": [
      "INFO: HTTP Request: POST https://api.cloud.llamaindex.ai/api/parsing/upload \"HTTP/1.1 200 OK\"\n"
     ]
    },
    {
     "name": "stdout",
     "output_type": "stream",
     "text": [
      "Started parsing the file under job_id bcff205c-fca3-43a1-9300-6d72c526e09b\n"
     ]
    },
    {
     "name": "stderr",
     "output_type": "stream",
     "text": [
      "INFO: HTTP Request: GET https://api.cloud.llamaindex.ai/api/parsing/job/bcff205c-fca3-43a1-9300-6d72c526e09b \"HTTP/1.1 200 OK\"\n",
      "INFO: HTTP Request: GET https://api.cloud.llamaindex.ai/api/parsing/job/bcff205c-fca3-43a1-9300-6d72c526e09b \"HTTP/1.1 200 OK\"\n",
      "INFO: HTTP Request: GET https://api.cloud.llamaindex.ai/api/parsing/job/bcff205c-fca3-43a1-9300-6d72c526e09b \"HTTP/1.1 200 OK\"\n",
      "INFO: HTTP Request: GET https://api.cloud.llamaindex.ai/api/parsing/job/bcff205c-fca3-43a1-9300-6d72c526e09b \"HTTP/1.1 200 OK\"\n",
      "INFO: HTTP Request: GET https://api.cloud.llamaindex.ai/api/parsing/job/bcff205c-fca3-43a1-9300-6d72c526e09b \"HTTP/1.1 200 OK\"\n",
      "INFO: HTTP Request: GET https://api.cloud.llamaindex.ai/api/parsing/job/bcff205c-fca3-43a1-9300-6d72c526e09b/result/markdown \"HTTP/1.1 200 OK\"\n"
     ]
    },
    {
     "name": "stdout",
     "output_type": "stream",
     "text": [
      "../data/out/md/59-Create-a-Relationship-with-Your-Mentorpdf.md saved.\n"
     ]
    },
    {
     "name": "stderr",
     "output_type": "stream",
     "text": [
      "INFO: HTTP Request: POST https://api.cloud.llamaindex.ai/api/parsing/upload \"HTTP/1.1 200 OK\"\n"
     ]
    },
    {
     "name": "stdout",
     "output_type": "stream",
     "text": [
      "Started parsing the file under job_id b957c215-0813-4a3d-881f-c5cece3db3be\n"
     ]
    },
    {
     "name": "stderr",
     "output_type": "stream",
     "text": [
      "INFO: HTTP Request: GET https://api.cloud.llamaindex.ai/api/parsing/job/b957c215-0813-4a3d-881f-c5cece3db3be \"HTTP/1.1 200 OK\"\n",
      "INFO: HTTP Request: GET https://api.cloud.llamaindex.ai/api/parsing/job/b957c215-0813-4a3d-881f-c5cece3db3be \"HTTP/1.1 200 OK\"\n",
      "INFO: HTTP Request: GET https://api.cloud.llamaindex.ai/api/parsing/job/b957c215-0813-4a3d-881f-c5cece3db3be \"HTTP/1.1 200 OK\"\n",
      "INFO: HTTP Request: GET https://api.cloud.llamaindex.ai/api/parsing/job/b957c215-0813-4a3d-881f-c5cece3db3be \"HTTP/1.1 200 OK\"\n",
      "INFO: HTTP Request: GET https://api.cloud.llamaindex.ai/api/parsing/job/b957c215-0813-4a3d-881f-c5cece3db3be \"HTTP/1.1 200 OK\"\n",
      "INFO: HTTP Request: GET https://api.cloud.llamaindex.ai/api/parsing/job/b957c215-0813-4a3d-881f-c5cece3db3be \"HTTP/1.1 200 OK\"\n",
      "INFO: HTTP Request: GET https://api.cloud.llamaindex.ai/api/parsing/job/b957c215-0813-4a3d-881f-c5cece3db3be/result/markdown \"HTTP/1.1 200 OK\"\n"
     ]
    },
    {
     "name": "stdout",
     "output_type": "stream",
     "text": [
      "../data/out/md/6-Access-Your-Learner-Progress-Reportpdf.md saved.\n"
     ]
    },
    {
     "name": "stderr",
     "output_type": "stream",
     "text": [
      "INFO: HTTP Request: POST https://api.cloud.llamaindex.ai/api/parsing/upload \"HTTP/1.1 200 OK\"\n"
     ]
    },
    {
     "name": "stdout",
     "output_type": "stream",
     "text": [
      "Started parsing the file under job_id 681e73a5-65cf-4de6-b9df-0017d36deb1e\n"
     ]
    },
    {
     "name": "stderr",
     "output_type": "stream",
     "text": [
      "INFO: HTTP Request: GET https://api.cloud.llamaindex.ai/api/parsing/job/681e73a5-65cf-4de6-b9df-0017d36deb1e \"HTTP/1.1 200 OK\"\n",
      "INFO: HTTP Request: GET https://api.cloud.llamaindex.ai/api/parsing/job/681e73a5-65cf-4de6-b9df-0017d36deb1e \"HTTP/1.1 200 OK\"\n",
      "INFO: HTTP Request: GET https://api.cloud.llamaindex.ai/api/parsing/job/681e73a5-65cf-4de6-b9df-0017d36deb1e \"HTTP/1.1 200 OK\"\n",
      "INFO: HTTP Request: GET https://api.cloud.llamaindex.ai/api/parsing/job/681e73a5-65cf-4de6-b9df-0017d36deb1e \"HTTP/1.1 200 OK\"\n",
      "INFO: HTTP Request: GET https://api.cloud.llamaindex.ai/api/parsing/job/681e73a5-65cf-4de6-b9df-0017d36deb1e/result/markdown \"HTTP/1.1 200 OK\"\n"
     ]
    },
    {
     "name": "stdout",
     "output_type": "stream",
     "text": [
      "../data/out/md/60-Create-an-Online-Communitypdf.md saved.\n"
     ]
    },
    {
     "name": "stderr",
     "output_type": "stream",
     "text": [
      "INFO: HTTP Request: POST https://api.cloud.llamaindex.ai/api/parsing/upload \"HTTP/1.1 200 OK\"\n"
     ]
    },
    {
     "name": "stdout",
     "output_type": "stream",
     "text": [
      "Started parsing the file under job_id 7444beec-8d4f-487b-a96d-9a0f67656548\n"
     ]
    },
    {
     "name": "stderr",
     "output_type": "stream",
     "text": [
      "INFO: HTTP Request: GET https://api.cloud.llamaindex.ai/api/parsing/job/7444beec-8d4f-487b-a96d-9a0f67656548 \"HTTP/1.1 200 OK\"\n",
      "INFO: HTTP Request: GET https://api.cloud.llamaindex.ai/api/parsing/job/7444beec-8d4f-487b-a96d-9a0f67656548/result/markdown \"HTTP/1.1 200 OK\"\n"
     ]
    },
    {
     "name": "stdout",
     "output_type": "stream",
     "text": [
      "../data/out/md/60-Create-an-Online-Communitypdf.md saved.\n"
     ]
    },
    {
     "name": "stderr",
     "output_type": "stream",
     "text": [
      "INFO: HTTP Request: POST https://api.cloud.llamaindex.ai/api/parsing/upload \"HTTP/1.1 200 OK\"\n"
     ]
    },
    {
     "name": "stdout",
     "output_type": "stream",
     "text": [
      "Started parsing the file under job_id 34611665-e7ec-4472-9427-80acc84181ce\n"
     ]
    },
    {
     "name": "stderr",
     "output_type": "stream",
     "text": [
      "INFO: HTTP Request: GET https://api.cloud.llamaindex.ai/api/parsing/job/34611665-e7ec-4472-9427-80acc84181ce \"HTTP/1.1 200 OK\"\n",
      "INFO: HTTP Request: GET https://api.cloud.llamaindex.ai/api/parsing/job/34611665-e7ec-4472-9427-80acc84181ce \"HTTP/1.1 200 OK\"\n",
      "INFO: HTTP Request: GET https://api.cloud.llamaindex.ai/api/parsing/job/34611665-e7ec-4472-9427-80acc84181ce \"HTTP/1.1 200 OK\"\n",
      "INFO: HTTP Request: GET https://api.cloud.llamaindex.ai/api/parsing/job/34611665-e7ec-4472-9427-80acc84181ce \"HTTP/1.1 200 OK\"\n",
      "INFO: HTTP Request: GET https://api.cloud.llamaindex.ai/api/parsing/job/34611665-e7ec-4472-9427-80acc84181ce \"HTTP/1.1 200 OK\"\n",
      "INFO: HTTP Request: GET https://api.cloud.llamaindex.ai/api/parsing/job/34611665-e7ec-4472-9427-80acc84181ce \"HTTP/1.1 200 OK\"\n",
      "INFO: HTTP Request: GET https://api.cloud.llamaindex.ai/api/parsing/job/34611665-e7ec-4472-9427-80acc84181ce \"HTTP/1.1 200 OK\"\n",
      "INFO: HTTP Request: GET https://api.cloud.llamaindex.ai/api/parsing/job/34611665-e7ec-4472-9427-80acc84181ce \"HTTP/1.1 200 OK\"\n",
      "INFO: HTTP Request: GET https://api.cloud.llamaindex.ai/api/parsing/job/34611665-e7ec-4472-9427-80acc84181ce \"HTTP/1.1 200 OK\"\n",
      "INFO: HTTP Request: GET https://api.cloud.llamaindex.ai/api/parsing/job/34611665-e7ec-4472-9427-80acc84181ce \"HTTP/1.1 200 OK\"\n"
     ]
    },
    {
     "name": "stdout",
     "output_type": "stream",
     "text": [
      "."
     ]
    },
    {
     "name": "stderr",
     "output_type": "stream",
     "text": [
      "INFO: HTTP Request: GET https://api.cloud.llamaindex.ai/api/parsing/job/34611665-e7ec-4472-9427-80acc84181ce \"HTTP/1.1 200 OK\"\n",
      "INFO: HTTP Request: GET https://api.cloud.llamaindex.ai/api/parsing/job/34611665-e7ec-4472-9427-80acc84181ce/result/markdown \"HTTP/1.1 200 OK\"\n"
     ]
    },
    {
     "name": "stdout",
     "output_type": "stream",
     "text": [
      "../data/out/md/61-Creating-a-New-Grouppdf.md saved.\n"
     ]
    },
    {
     "name": "stderr",
     "output_type": "stream",
     "text": [
      "INFO: HTTP Request: POST https://api.cloud.llamaindex.ai/api/parsing/upload \"HTTP/1.1 200 OK\"\n"
     ]
    },
    {
     "name": "stdout",
     "output_type": "stream",
     "text": [
      "Started parsing the file under job_id 4e11a9ad-82a3-4185-9b6c-537054e4b718\n"
     ]
    },
    {
     "name": "stderr",
     "output_type": "stream",
     "text": [
      "INFO: HTTP Request: GET https://api.cloud.llamaindex.ai/api/parsing/job/4e11a9ad-82a3-4185-9b6c-537054e4b718 \"HTTP/1.1 200 OK\"\n",
      "INFO: HTTP Request: GET https://api.cloud.llamaindex.ai/api/parsing/job/4e11a9ad-82a3-4185-9b6c-537054e4b718 \"HTTP/1.1 200 OK\"\n",
      "INFO: HTTP Request: GET https://api.cloud.llamaindex.ai/api/parsing/job/4e11a9ad-82a3-4185-9b6c-537054e4b718 \"HTTP/1.1 200 OK\"\n",
      "INFO: HTTP Request: GET https://api.cloud.llamaindex.ai/api/parsing/job/4e11a9ad-82a3-4185-9b6c-537054e4b718 \"HTTP/1.1 200 OK\"\n",
      "INFO: HTTP Request: GET https://api.cloud.llamaindex.ai/api/parsing/job/4e11a9ad-82a3-4185-9b6c-537054e4b718/result/markdown \"HTTP/1.1 200 OK\"\n"
     ]
    },
    {
     "name": "stdout",
     "output_type": "stream",
     "text": [
      "../data/out/md/62-Creating-a-New-Site-in-PATHpdf.md saved.\n"
     ]
    },
    {
     "name": "stderr",
     "output_type": "stream",
     "text": [
      "INFO: HTTP Request: POST https://api.cloud.llamaindex.ai/api/parsing/upload \"HTTP/1.1 200 OK\"\n"
     ]
    },
    {
     "name": "stdout",
     "output_type": "stream",
     "text": [
      "Started parsing the file under job_id b2dcbddf-6993-4800-94e4-05643f05b714\n"
     ]
    },
    {
     "name": "stderr",
     "output_type": "stream",
     "text": [
      "INFO: HTTP Request: GET https://api.cloud.llamaindex.ai/api/parsing/job/b2dcbddf-6993-4800-94e4-05643f05b714 \"HTTP/1.1 200 OK\"\n",
      "INFO: HTTP Request: GET https://api.cloud.llamaindex.ai/api/parsing/job/b2dcbddf-6993-4800-94e4-05643f05b714/result/markdown \"HTTP/1.1 200 OK\"\n"
     ]
    },
    {
     "name": "stdout",
     "output_type": "stream",
     "text": [
      "../data/out/md/63-Creating-a-New-Ticketpdf.md saved.\n"
     ]
    },
    {
     "name": "stderr",
     "output_type": "stream",
     "text": [
      "INFO: HTTP Request: POST https://api.cloud.llamaindex.ai/api/parsing/upload \"HTTP/1.1 200 OK\"\n"
     ]
    },
    {
     "name": "stdout",
     "output_type": "stream",
     "text": [
      "Started parsing the file under job_id d0fc1cf6-79cf-4d8e-92db-e246a715f86d\n"
     ]
    },
    {
     "name": "stderr",
     "output_type": "stream",
     "text": [
      "INFO: HTTP Request: GET https://api.cloud.llamaindex.ai/api/parsing/job/d0fc1cf6-79cf-4d8e-92db-e246a715f86d \"HTTP/1.1 200 OK\"\n",
      "INFO: HTTP Request: GET https://api.cloud.llamaindex.ai/api/parsing/job/d0fc1cf6-79cf-4d8e-92db-e246a715f86d \"HTTP/1.1 200 OK\"\n",
      "INFO: HTTP Request: GET https://api.cloud.llamaindex.ai/api/parsing/job/d0fc1cf6-79cf-4d8e-92db-e246a715f86d \"HTTP/1.1 200 OK\"\n",
      "INFO: HTTP Request: GET https://api.cloud.llamaindex.ai/api/parsing/job/d0fc1cf6-79cf-4d8e-92db-e246a715f86d \"HTTP/1.1 200 OK\"\n",
      "INFO: HTTP Request: GET https://api.cloud.llamaindex.ai/api/parsing/job/d0fc1cf6-79cf-4d8e-92db-e246a715f86d \"HTTP/1.1 200 OK\"\n",
      "INFO: HTTP Request: GET https://api.cloud.llamaindex.ai/api/parsing/job/d0fc1cf6-79cf-4d8e-92db-e246a715f86d \"HTTP/1.1 200 OK\"\n",
      "INFO: HTTP Request: GET https://api.cloud.llamaindex.ai/api/parsing/job/d0fc1cf6-79cf-4d8e-92db-e246a715f86d \"HTTP/1.1 200 OK\"\n",
      "INFO: HTTP Request: GET https://api.cloud.llamaindex.ai/api/parsing/job/d0fc1cf6-79cf-4d8e-92db-e246a715f86d/result/markdown \"HTTP/1.1 200 OK\"\n"
     ]
    },
    {
     "name": "stdout",
     "output_type": "stream",
     "text": [
      "../data/out/md/64-Defining-Characteristicspdf.md saved.\n"
     ]
    },
    {
     "name": "stderr",
     "output_type": "stream",
     "text": [
      "INFO: HTTP Request: POST https://api.cloud.llamaindex.ai/api/parsing/upload \"HTTP/1.1 200 OK\"\n"
     ]
    },
    {
     "name": "stdout",
     "output_type": "stream",
     "text": [
      "Started parsing the file under job_id 8eb7170a-109f-4b91-869f-5cd785262fee\n"
     ]
    },
    {
     "name": "stderr",
     "output_type": "stream",
     "text": [
      "INFO: HTTP Request: GET https://api.cloud.llamaindex.ai/api/parsing/job/8eb7170a-109f-4b91-869f-5cd785262fee \"HTTP/1.1 200 OK\"\n",
      "INFO: HTTP Request: GET https://api.cloud.llamaindex.ai/api/parsing/job/8eb7170a-109f-4b91-869f-5cd785262fee \"HTTP/1.1 200 OK\"\n",
      "INFO: HTTP Request: GET https://api.cloud.llamaindex.ai/api/parsing/job/8eb7170a-109f-4b91-869f-5cd785262fee \"HTTP/1.1 200 OK\"\n",
      "INFO: HTTP Request: GET https://api.cloud.llamaindex.ai/api/parsing/job/8eb7170a-109f-4b91-869f-5cd785262fee \"HTTP/1.1 200 OK\"\n",
      "INFO: HTTP Request: GET https://api.cloud.llamaindex.ai/api/parsing/job/8eb7170a-109f-4b91-869f-5cd785262fee \"HTTP/1.1 200 OK\"\n",
      "INFO: HTTP Request: GET https://api.cloud.llamaindex.ai/api/parsing/job/8eb7170a-109f-4b91-869f-5cd785262fee/result/markdown \"HTTP/1.1 200 OK\"\n"
     ]
    },
    {
     "name": "stdout",
     "output_type": "stream",
     "text": [
      "../data/out/md/65-Delayed-Access-to-Microsoft-Office-Suite-Downloadpdf.md saved.\n"
     ]
    },
    {
     "name": "stderr",
     "output_type": "stream",
     "text": [
      "INFO: HTTP Request: POST https://api.cloud.llamaindex.ai/api/parsing/upload \"HTTP/1.1 200 OK\"\n"
     ]
    },
    {
     "name": "stdout",
     "output_type": "stream",
     "text": [
      "Started parsing the file under job_id b33c0b4f-d8ef-4024-8ad5-7b72be069c3f\n"
     ]
    },
    {
     "name": "stderr",
     "output_type": "stream",
     "text": [
      "INFO: HTTP Request: GET https://api.cloud.llamaindex.ai/api/parsing/job/b33c0b4f-d8ef-4024-8ad5-7b72be069c3f \"HTTP/1.1 200 OK\"\n",
      "INFO: HTTP Request: GET https://api.cloud.llamaindex.ai/api/parsing/job/b33c0b4f-d8ef-4024-8ad5-7b72be069c3f \"HTTP/1.1 200 OK\"\n",
      "INFO: HTTP Request: GET https://api.cloud.llamaindex.ai/api/parsing/job/b33c0b4f-d8ef-4024-8ad5-7b72be069c3f \"HTTP/1.1 200 OK\"\n",
      "INFO: HTTP Request: GET https://api.cloud.llamaindex.ai/api/parsing/job/b33c0b4f-d8ef-4024-8ad5-7b72be069c3f \"HTTP/1.1 200 OK\"\n",
      "INFO: HTTP Request: GET https://api.cloud.llamaindex.ai/api/parsing/job/b33c0b4f-d8ef-4024-8ad5-7b72be069c3f \"HTTP/1.1 200 OK\"\n",
      "INFO: HTTP Request: GET https://api.cloud.llamaindex.ai/api/parsing/job/b33c0b4f-d8ef-4024-8ad5-7b72be069c3f/result/markdown \"HTTP/1.1 200 OK\"\n"
     ]
    },
    {
     "name": "stdout",
     "output_type": "stream",
     "text": [
      "../data/out/md/66-Designating-Programs-Active-or-Hiddenpdf.md saved.\n"
     ]
    },
    {
     "name": "stderr",
     "output_type": "stream",
     "text": [
      "INFO: HTTP Request: POST https://api.cloud.llamaindex.ai/api/parsing/upload \"HTTP/1.1 200 OK\"\n"
     ]
    },
    {
     "name": "stdout",
     "output_type": "stream",
     "text": [
      "Started parsing the file under job_id 956987d9-0a2d-4a88-82f7-36dd78c96a14\n"
     ]
    },
    {
     "name": "stderr",
     "output_type": "stream",
     "text": [
      "INFO: HTTP Request: GET https://api.cloud.llamaindex.ai/api/parsing/job/956987d9-0a2d-4a88-82f7-36dd78c96a14 \"HTTP/1.1 200 OK\"\n",
      "INFO: HTTP Request: GET https://api.cloud.llamaindex.ai/api/parsing/job/956987d9-0a2d-4a88-82f7-36dd78c96a14 \"HTTP/1.1 200 OK\"\n",
      "INFO: HTTP Request: GET https://api.cloud.llamaindex.ai/api/parsing/job/956987d9-0a2d-4a88-82f7-36dd78c96a14 \"HTTP/1.1 200 OK\"\n",
      "INFO: HTTP Request: GET https://api.cloud.llamaindex.ai/api/parsing/job/956987d9-0a2d-4a88-82f7-36dd78c96a14/result/markdown \"HTTP/1.1 200 OK\"\n"
     ]
    },
    {
     "name": "stdout",
     "output_type": "stream",
     "text": [
      "../data/out/md/67-Domestic-Quarter-Sheets--Better-Jobpdf.md saved.\n"
     ]
    },
    {
     "name": "stderr",
     "output_type": "stream",
     "text": [
      "INFO: HTTP Request: POST https://api.cloud.llamaindex.ai/api/parsing/upload \"HTTP/1.1 200 OK\"\n"
     ]
    },
    {
     "name": "stdout",
     "output_type": "stream",
     "text": [
      "Started parsing the file under job_id ffe4f6ab-01d4-4749-b746-52575c34c3b2\n"
     ]
    },
    {
     "name": "stderr",
     "output_type": "stream",
     "text": [
      "INFO: HTTP Request: GET https://api.cloud.llamaindex.ai/api/parsing/job/ffe4f6ab-01d4-4749-b746-52575c34c3b2 \"HTTP/1.1 200 OK\"\n",
      "INFO: HTTP Request: GET https://api.cloud.llamaindex.ai/api/parsing/job/ffe4f6ab-01d4-4749-b746-52575c34c3b2/result/markdown \"HTTP/1.1 200 OK\"\n"
     ]
    },
    {
     "name": "stdout",
     "output_type": "stream",
     "text": [
      "../data/out/md/67-Domestic-Quarter-Sheets--Better-Jobpdf.md saved.\n"
     ]
    },
    {
     "name": "stderr",
     "output_type": "stream",
     "text": [
      "INFO: HTTP Request: POST https://api.cloud.llamaindex.ai/api/parsing/upload \"HTTP/1.1 200 OK\"\n"
     ]
    },
    {
     "name": "stdout",
     "output_type": "stream",
     "text": [
      "Started parsing the file under job_id e3eeb438-826c-48a5-b57d-01b3d5279a20\n"
     ]
    },
    {
     "name": "stderr",
     "output_type": "stream",
     "text": [
      "INFO: HTTP Request: GET https://api.cloud.llamaindex.ai/api/parsing/job/e3eeb438-826c-48a5-b57d-01b3d5279a20 \"HTTP/1.1 200 OK\"\n",
      "INFO: HTTP Request: GET https://api.cloud.llamaindex.ai/api/parsing/job/e3eeb438-826c-48a5-b57d-01b3d5279a20 \"HTTP/1.1 200 OK\"\n",
      "INFO: HTTP Request: GET https://api.cloud.llamaindex.ai/api/parsing/job/e3eeb438-826c-48a5-b57d-01b3d5279a20 \"HTTP/1.1 200 OK\"\n",
      "INFO: HTTP Request: GET https://api.cloud.llamaindex.ai/api/parsing/job/e3eeb438-826c-48a5-b57d-01b3d5279a20/result/markdown \"HTTP/1.1 200 OK\"\n"
     ]
    },
    {
     "name": "stdout",
     "output_type": "stream",
     "text": [
      "../data/out/md/68-Domestic-Quarter-Sheets--fresh-startpdf.md saved.\n"
     ]
    },
    {
     "name": "stderr",
     "output_type": "stream",
     "text": [
      "INFO: HTTP Request: POST https://api.cloud.llamaindex.ai/api/parsing/upload \"HTTP/1.1 200 OK\"\n"
     ]
    },
    {
     "name": "stdout",
     "output_type": "stream",
     "text": [
      "Started parsing the file under job_id 84695296-9d81-41ff-804c-cf8e282eafc1\n"
     ]
    },
    {
     "name": "stderr",
     "output_type": "stream",
     "text": [
      "INFO: HTTP Request: GET https://api.cloud.llamaindex.ai/api/parsing/job/84695296-9d81-41ff-804c-cf8e282eafc1 \"HTTP/1.1 200 OK\"\n",
      "INFO: HTTP Request: GET https://api.cloud.llamaindex.ai/api/parsing/job/84695296-9d81-41ff-804c-cf8e282eafc1/result/markdown \"HTTP/1.1 200 OK\"\n"
     ]
    },
    {
     "name": "stdout",
     "output_type": "stream",
     "text": [
      "../data/out/md/68-Domestic-Quarter-Sheets--fresh-startpdf.md saved.\n"
     ]
    },
    {
     "name": "stderr",
     "output_type": "stream",
     "text": [
      "INFO: HTTP Request: POST https://api.cloud.llamaindex.ai/api/parsing/upload \"HTTP/1.1 200 OK\"\n"
     ]
    },
    {
     "name": "stdout",
     "output_type": "stream",
     "text": [
      "Started parsing the file under job_id 0c1ae90e-2ac9-437c-860c-e177d969c7e2\n"
     ]
    },
    {
     "name": "stderr",
     "output_type": "stream",
     "text": [
      "INFO: HTTP Request: GET https://api.cloud.llamaindex.ai/api/parsing/job/0c1ae90e-2ac9-437c-860c-e177d969c7e2 \"HTTP/1.1 200 OK\"\n",
      "INFO: HTTP Request: GET https://api.cloud.llamaindex.ai/api/parsing/job/0c1ae90e-2ac9-437c-860c-e177d969c7e2 \"HTTP/1.1 200 OK\"\n",
      "INFO: HTTP Request: GET https://api.cloud.llamaindex.ai/api/parsing/job/0c1ae90e-2ac9-437c-860c-e177d969c7e2 \"HTTP/1.1 200 OK\"\n",
      "INFO: HTTP Request: GET https://api.cloud.llamaindex.ai/api/parsing/job/0c1ae90e-2ac9-437c-860c-e177d969c7e2/result/markdown \"HTTP/1.1 200 OK\"\n"
     ]
    },
    {
     "name": "stdout",
     "output_type": "stream",
     "text": [
      "../data/out/md/69-Domestic-Quarter-Sheets-Any-Studentpdf.md saved.\n"
     ]
    },
    {
     "name": "stderr",
     "output_type": "stream",
     "text": [
      "INFO: HTTP Request: POST https://api.cloud.llamaindex.ai/api/parsing/upload \"HTTP/1.1 200 OK\"\n"
     ]
    },
    {
     "name": "stdout",
     "output_type": "stream",
     "text": [
      "Started parsing the file under job_id c6d77689-00ff-4234-a040-0656227f8deb\n"
     ]
    },
    {
     "name": "stderr",
     "output_type": "stream",
     "text": [
      "INFO: HTTP Request: GET https://api.cloud.llamaindex.ai/api/parsing/job/c6d77689-00ff-4234-a040-0656227f8deb \"HTTP/1.1 200 OK\"\n",
      "INFO: HTTP Request: GET https://api.cloud.llamaindex.ai/api/parsing/job/c6d77689-00ff-4234-a040-0656227f8deb/result/markdown \"HTTP/1.1 200 OK\"\n"
     ]
    },
    {
     "name": "stdout",
     "output_type": "stream",
     "text": [
      "../data/out/md/69-Domestic-Quarter-Sheets-Any-Studentpdf.md saved.\n"
     ]
    },
    {
     "name": "stderr",
     "output_type": "stream",
     "text": [
      "INFO: HTTP Request: POST https://api.cloud.llamaindex.ai/api/parsing/upload \"HTTP/1.1 200 OK\"\n"
     ]
    },
    {
     "name": "stdout",
     "output_type": "stream",
     "text": [
      "Started parsing the file under job_id f04fae46-a395-444a-957a-5de694791456\n"
     ]
    },
    {
     "name": "stderr",
     "output_type": "stream",
     "text": [
      "INFO: HTTP Request: GET https://api.cloud.llamaindex.ai/api/parsing/job/f04fae46-a395-444a-957a-5de694791456 \"HTTP/1.1 200 OK\"\n",
      "INFO: HTTP Request: GET https://api.cloud.llamaindex.ai/api/parsing/job/f04fae46-a395-444a-957a-5de694791456 \"HTTP/1.1 200 OK\"\n",
      "INFO: HTTP Request: GET https://api.cloud.llamaindex.ai/api/parsing/job/f04fae46-a395-444a-957a-5de694791456 \"HTTP/1.1 200 OK\"\n",
      "INFO: HTTP Request: GET https://api.cloud.llamaindex.ai/api/parsing/job/f04fae46-a395-444a-957a-5de694791456/result/markdown \"HTTP/1.1 200 OK\"\n"
     ]
    },
    {
     "name": "stdout",
     "output_type": "stream",
     "text": [
      "../data/out/md/7-Access-the-Learner-Platformpdf.md saved.\n"
     ]
    },
    {
     "name": "stderr",
     "output_type": "stream",
     "text": [
      "INFO: HTTP Request: POST https://api.cloud.llamaindex.ai/api/parsing/upload \"HTTP/1.1 200 OK\"\n"
     ]
    },
    {
     "name": "stdout",
     "output_type": "stream",
     "text": [
      "Started parsing the file under job_id a2b116e3-0521-43ff-9251-9b3f0f3b203a\n"
     ]
    },
    {
     "name": "stderr",
     "output_type": "stream",
     "text": [
      "INFO: HTTP Request: GET https://api.cloud.llamaindex.ai/api/parsing/job/a2b116e3-0521-43ff-9251-9b3f0f3b203a \"HTTP/1.1 200 OK\"\n",
      "INFO: HTTP Request: GET https://api.cloud.llamaindex.ai/api/parsing/job/a2b116e3-0521-43ff-9251-9b3f0f3b203a/result/markdown \"HTTP/1.1 200 OK\"\n"
     ]
    },
    {
     "name": "stdout",
     "output_type": "stream",
     "text": [
      "../data/out/md/70-Domestic-Quarter-Sheets-Everyone-can-access-higher-educationpdf.md saved.\n"
     ]
    },
    {
     "name": "stderr",
     "output_type": "stream",
     "text": [
      "INFO: HTTP Request: POST https://api.cloud.llamaindex.ai/api/parsing/upload \"HTTP/1.1 200 OK\"\n"
     ]
    },
    {
     "name": "stdout",
     "output_type": "stream",
     "text": [
      "Started parsing the file under job_id 899d69ce-dedc-4856-a496-e81c3c9c4d1a\n"
     ]
    },
    {
     "name": "stderr",
     "output_type": "stream",
     "text": [
      "INFO: HTTP Request: GET https://api.cloud.llamaindex.ai/api/parsing/job/899d69ce-dedc-4856-a496-e81c3c9c4d1a \"HTTP/1.1 200 OK\"\n",
      "INFO: HTTP Request: GET https://api.cloud.llamaindex.ai/api/parsing/job/899d69ce-dedc-4856-a496-e81c3c9c4d1a/result/markdown \"HTTP/1.1 200 OK\"\n"
     ]
    },
    {
     "name": "stdout",
     "output_type": "stream",
     "text": [
      "../data/out/md/70-Domestic-Quarter-Sheets-Everyone-can-access-higher-educationpdf.md saved.\n"
     ]
    },
    {
     "name": "stderr",
     "output_type": "stream",
     "text": [
      "INFO: HTTP Request: POST https://api.cloud.llamaindex.ai/api/parsing/upload \"HTTP/1.1 200 OK\"\n"
     ]
    },
    {
     "name": "stdout",
     "output_type": "stream",
     "text": [
      "Started parsing the file under job_id 9dd1bcf8-10ff-42f7-87ba-6221c7fa1bf6\n"
     ]
    },
    {
     "name": "stderr",
     "output_type": "stream",
     "text": [
      "INFO: HTTP Request: GET https://api.cloud.llamaindex.ai/api/parsing/job/9dd1bcf8-10ff-42f7-87ba-6221c7fa1bf6 \"HTTP/1.1 200 OK\"\n",
      "INFO: HTTP Request: GET https://api.cloud.llamaindex.ai/api/parsing/job/9dd1bcf8-10ff-42f7-87ba-6221c7fa1bf6 \"HTTP/1.1 200 OK\"\n",
      "INFO: HTTP Request: GET https://api.cloud.llamaindex.ai/api/parsing/job/9dd1bcf8-10ff-42f7-87ba-6221c7fa1bf6 \"HTTP/1.1 200 OK\"\n",
      "INFO: HTTP Request: GET https://api.cloud.llamaindex.ai/api/parsing/job/9dd1bcf8-10ff-42f7-87ba-6221c7fa1bf6 \"HTTP/1.1 200 OK\"\n",
      "INFO: HTTP Request: GET https://api.cloud.llamaindex.ai/api/parsing/job/9dd1bcf8-10ff-42f7-87ba-6221c7fa1bf6/result/markdown \"HTTP/1.1 200 OK\"\n"
     ]
    },
    {
     "name": "stdout",
     "output_type": "stream",
     "text": [
      "../data/out/md/71-Download-a-Reportpdf.md saved.\n"
     ]
    },
    {
     "name": "stderr",
     "output_type": "stream",
     "text": [
      "INFO: HTTP Request: POST https://api.cloud.llamaindex.ai/api/parsing/upload \"HTTP/1.1 200 OK\"\n"
     ]
    },
    {
     "name": "stdout",
     "output_type": "stream",
     "text": [
      "Started parsing the file under job_id 5b441c0f-b263-4e86-a640-d40dc08d5a44\n"
     ]
    },
    {
     "name": "stderr",
     "output_type": "stream",
     "text": [
      "INFO: HTTP Request: GET https://api.cloud.llamaindex.ai/api/parsing/job/5b441c0f-b263-4e86-a640-d40dc08d5a44 \"HTTP/1.1 200 OK\"\n",
      "INFO: HTTP Request: GET https://api.cloud.llamaindex.ai/api/parsing/job/5b441c0f-b263-4e86-a640-d40dc08d5a44 \"HTTP/1.1 200 OK\"\n",
      "INFO: HTTP Request: GET https://api.cloud.llamaindex.ai/api/parsing/job/5b441c0f-b263-4e86-a640-d40dc08d5a44 \"HTTP/1.1 200 OK\"\n",
      "INFO: HTTP Request: GET https://api.cloud.llamaindex.ai/api/parsing/job/5b441c0f-b263-4e86-a640-d40dc08d5a44 \"HTTP/1.1 200 OK\"\n",
      "INFO: HTTP Request: GET https://api.cloud.llamaindex.ai/api/parsing/job/5b441c0f-b263-4e86-a640-d40dc08d5a44/result/markdown \"HTTP/1.1 200 OK\"\n"
     ]
    },
    {
     "name": "stdout",
     "output_type": "stream",
     "text": [
      "../data/out/md/72-Download-and-Install-Zoom-for-Macpdf.md saved.\n"
     ]
    },
    {
     "name": "stderr",
     "output_type": "stream",
     "text": [
      "INFO: HTTP Request: POST https://api.cloud.llamaindex.ai/api/parsing/upload \"HTTP/1.1 200 OK\"\n"
     ]
    },
    {
     "name": "stdout",
     "output_type": "stream",
     "text": [
      "Started parsing the file under job_id 7b081515-e3d3-4f29-9cd1-4995d1d7c784\n"
     ]
    },
    {
     "name": "stderr",
     "output_type": "stream",
     "text": [
      "INFO: HTTP Request: GET https://api.cloud.llamaindex.ai/api/parsing/job/7b081515-e3d3-4f29-9cd1-4995d1d7c784 \"HTTP/1.1 200 OK\"\n",
      "INFO: HTTP Request: GET https://api.cloud.llamaindex.ai/api/parsing/job/7b081515-e3d3-4f29-9cd1-4995d1d7c784 \"HTTP/1.1 200 OK\"\n",
      "INFO: HTTP Request: GET https://api.cloud.llamaindex.ai/api/parsing/job/7b081515-e3d3-4f29-9cd1-4995d1d7c784 \"HTTP/1.1 200 OK\"\n",
      "INFO: HTTP Request: GET https://api.cloud.llamaindex.ai/api/parsing/job/7b081515-e3d3-4f29-9cd1-4995d1d7c784 \"HTTP/1.1 200 OK\"\n",
      "INFO: HTTP Request: GET https://api.cloud.llamaindex.ai/api/parsing/job/7b081515-e3d3-4f29-9cd1-4995d1d7c784 \"HTTP/1.1 200 OK\"\n",
      "INFO: HTTP Request: GET https://api.cloud.llamaindex.ai/api/parsing/job/7b081515-e3d3-4f29-9cd1-4995d1d7c784/result/markdown \"HTTP/1.1 200 OK\"\n"
     ]
    },
    {
     "name": "stdout",
     "output_type": "stream",
     "text": [
      "../data/out/md/73-Download-and-Install-Zoom-for-PCpdf.md saved.\n"
     ]
    },
    {
     "name": "stderr",
     "output_type": "stream",
     "text": [
      "INFO: HTTP Request: POST https://api.cloud.llamaindex.ai/api/parsing/upload \"HTTP/1.1 200 OK\"\n"
     ]
    },
    {
     "name": "stdout",
     "output_type": "stream",
     "text": [
      "Started parsing the file under job_id a56e6e40-1697-4a4a-ae5d-5e1f5296cd71\n"
     ]
    },
    {
     "name": "stderr",
     "output_type": "stream",
     "text": [
      "INFO: HTTP Request: GET https://api.cloud.llamaindex.ai/api/parsing/job/a56e6e40-1697-4a4a-ae5d-5e1f5296cd71 \"HTTP/1.1 200 OK\"\n",
      "INFO: HTTP Request: GET https://api.cloud.llamaindex.ai/api/parsing/job/a56e6e40-1697-4a4a-ae5d-5e1f5296cd71 \"HTTP/1.1 200 OK\"\n",
      "INFO: HTTP Request: GET https://api.cloud.llamaindex.ai/api/parsing/job/a56e6e40-1697-4a4a-ae5d-5e1f5296cd71 \"HTTP/1.1 200 OK\"\n",
      "INFO: HTTP Request: GET https://api.cloud.llamaindex.ai/api/parsing/job/a56e6e40-1697-4a4a-ae5d-5e1f5296cd71 \"HTTP/1.1 200 OK\"\n",
      "INFO: HTTP Request: GET https://api.cloud.llamaindex.ai/api/parsing/job/a56e6e40-1697-4a4a-ae5d-5e1f5296cd71 \"HTTP/1.1 200 OK\"\n",
      "INFO: HTTP Request: GET https://api.cloud.llamaindex.ai/api/parsing/job/a56e6e40-1697-4a4a-ae5d-5e1f5296cd71/result/markdown \"HTTP/1.1 200 OK\"\n"
     ]
    },
    {
     "name": "stdout",
     "output_type": "stream",
     "text": [
      "../data/out/md/74-Downloading-WhatsApp-to-a-Computerpdf.md saved.\n"
     ]
    },
    {
     "name": "stderr",
     "output_type": "stream",
     "text": [
      "INFO: HTTP Request: POST https://api.cloud.llamaindex.ai/api/parsing/upload \"HTTP/1.1 200 OK\"\n"
     ]
    },
    {
     "name": "stdout",
     "output_type": "stream",
     "text": [
      "Started parsing the file under job_id c7a61bdb-10c8-4c92-bd85-dee0ff443f51\n"
     ]
    },
    {
     "name": "stderr",
     "output_type": "stream",
     "text": [
      "INFO: HTTP Request: GET https://api.cloud.llamaindex.ai/api/parsing/job/c7a61bdb-10c8-4c92-bd85-dee0ff443f51 \"HTTP/1.1 200 OK\"\n",
      "INFO: HTTP Request: GET https://api.cloud.llamaindex.ai/api/parsing/job/c7a61bdb-10c8-4c92-bd85-dee0ff443f51/result/markdown \"HTTP/1.1 200 OK\"\n"
     ]
    },
    {
     "name": "stdout",
     "output_type": "stream",
     "text": [
      "../data/out/md/74-Downloading-WhatsApp-to-a-Computerpdf.md saved.\n"
     ]
    },
    {
     "name": "stderr",
     "output_type": "stream",
     "text": [
      "INFO: HTTP Request: POST https://api.cloud.llamaindex.ai/api/parsing/upload \"HTTP/1.1 200 OK\"\n"
     ]
    },
    {
     "name": "stdout",
     "output_type": "stream",
     "text": [
      "Started parsing the file under job_id 027e3ffc-47c1-4f2b-8164-d935fcfa9418\n"
     ]
    },
    {
     "name": "stderr",
     "output_type": "stream",
     "text": [
      "INFO: HTTP Request: GET https://api.cloud.llamaindex.ai/api/parsing/job/027e3ffc-47c1-4f2b-8164-d935fcfa9418 \"HTTP/1.1 200 OK\"\n",
      "INFO: HTTP Request: GET https://api.cloud.llamaindex.ai/api/parsing/job/027e3ffc-47c1-4f2b-8164-d935fcfa9418 \"HTTP/1.1 200 OK\"\n",
      "INFO: HTTP Request: GET https://api.cloud.llamaindex.ai/api/parsing/job/027e3ffc-47c1-4f2b-8164-d935fcfa9418 \"HTTP/1.1 200 OK\"\n",
      "INFO: HTTP Request: GET https://api.cloud.llamaindex.ai/api/parsing/job/027e3ffc-47c1-4f2b-8164-d935fcfa9418 \"HTTP/1.1 200 OK\"\n",
      "INFO: HTTP Request: GET https://api.cloud.llamaindex.ai/api/parsing/job/027e3ffc-47c1-4f2b-8164-d935fcfa9418/result/markdown \"HTTP/1.1 200 OK\"\n"
     ]
    },
    {
     "name": "stdout",
     "output_type": "stream",
     "text": [
      "../data/out/md/75-EC-Application-Walkthoughpdf.md saved.\n"
     ]
    },
    {
     "name": "stderr",
     "output_type": "stream",
     "text": [
      "INFO: HTTP Request: POST https://api.cloud.llamaindex.ai/api/parsing/upload \"HTTP/1.1 200 OK\"\n"
     ]
    },
    {
     "name": "stdout",
     "output_type": "stream",
     "text": [
      "Started parsing the file under job_id 5386181d-9ec2-45bd-87bf-f9b690e3477f\n"
     ]
    },
    {
     "name": "stderr",
     "output_type": "stream",
     "text": [
      "INFO: HTTP Request: GET https://api.cloud.llamaindex.ai/api/parsing/job/5386181d-9ec2-45bd-87bf-f9b690e3477f \"HTTP/1.1 200 OK\"\n",
      "INFO: HTTP Request: GET https://api.cloud.llamaindex.ai/api/parsing/job/5386181d-9ec2-45bd-87bf-f9b690e3477f \"HTTP/1.1 200 OK\"\n",
      "INFO: HTTP Request: GET https://api.cloud.llamaindex.ai/api/parsing/job/5386181d-9ec2-45bd-87bf-f9b690e3477f \"HTTP/1.1 200 OK\"\n",
      "INFO: HTTP Request: GET https://api.cloud.llamaindex.ai/api/parsing/job/5386181d-9ec2-45bd-87bf-f9b690e3477f \"HTTP/1.1 200 OK\"\n",
      "INFO: HTTP Request: GET https://api.cloud.llamaindex.ai/api/parsing/job/5386181d-9ec2-45bd-87bf-f9b690e3477f \"HTTP/1.1 200 OK\"\n",
      "INFO: HTTP Request: GET https://api.cloud.llamaindex.ai/api/parsing/job/5386181d-9ec2-45bd-87bf-f9b690e3477f \"HTTP/1.1 200 OK\"\n",
      "INFO: HTTP Request: GET https://api.cloud.llamaindex.ai/api/parsing/job/5386181d-9ec2-45bd-87bf-f9b690e3477f \"HTTP/1.1 200 OK\"\n",
      "INFO: HTTP Request: GET https://api.cloud.llamaindex.ai/api/parsing/job/5386181d-9ec2-45bd-87bf-f9b690e3477f/result/markdown \"HTTP/1.1 200 OK\"\n"
     ]
    },
    {
     "name": "stdout",
     "output_type": "stream",
     "text": [
      "../data/out/md/76-EC-Flyer-for-Service-MissionariesChinese-Traditionalpdf.md saved.\n"
     ]
    },
    {
     "name": "stderr",
     "output_type": "stream",
     "text": [
      "INFO: HTTP Request: POST https://api.cloud.llamaindex.ai/api/parsing/upload \"HTTP/1.1 200 OK\"\n"
     ]
    },
    {
     "name": "stdout",
     "output_type": "stream",
     "text": [
      "Started parsing the file under job_id cde1c5e0-0515-4afd-a595-9037565224ea\n"
     ]
    },
    {
     "name": "stderr",
     "output_type": "stream",
     "text": [
      "INFO: HTTP Request: GET https://api.cloud.llamaindex.ai/api/parsing/job/cde1c5e0-0515-4afd-a595-9037565224ea \"HTTP/1.1 200 OK\"\n",
      "INFO: HTTP Request: GET https://api.cloud.llamaindex.ai/api/parsing/job/cde1c5e0-0515-4afd-a595-9037565224ea \"HTTP/1.1 200 OK\"\n",
      "INFO: HTTP Request: GET https://api.cloud.llamaindex.ai/api/parsing/job/cde1c5e0-0515-4afd-a595-9037565224ea \"HTTP/1.1 200 OK\"\n",
      "INFO: HTTP Request: GET https://api.cloud.llamaindex.ai/api/parsing/job/cde1c5e0-0515-4afd-a595-9037565224ea \"HTTP/1.1 200 OK\"\n",
      "INFO: HTTP Request: GET https://api.cloud.llamaindex.ai/api/parsing/job/cde1c5e0-0515-4afd-a595-9037565224ea/result/markdown \"HTTP/1.1 200 OK\"\n"
     ]
    },
    {
     "name": "stdout",
     "output_type": "stream",
     "text": [
      "../data/out/md/77-EC-Flyer-for-Service-MissionariesEnglishpdf.md saved.\n"
     ]
    },
    {
     "name": "stderr",
     "output_type": "stream",
     "text": [
      "INFO: HTTP Request: POST https://api.cloud.llamaindex.ai/api/parsing/upload \"HTTP/1.1 200 OK\"\n"
     ]
    },
    {
     "name": "stdout",
     "output_type": "stream",
     "text": [
      "Started parsing the file under job_id d76f0de3-4799-485e-8995-c985c68d23b9\n"
     ]
    },
    {
     "name": "stderr",
     "output_type": "stream",
     "text": [
      "INFO: HTTP Request: GET https://api.cloud.llamaindex.ai/api/parsing/job/d76f0de3-4799-485e-8995-c985c68d23b9 \"HTTP/1.1 200 OK\"\n",
      "INFO: HTTP Request: GET https://api.cloud.llamaindex.ai/api/parsing/job/d76f0de3-4799-485e-8995-c985c68d23b9 \"HTTP/1.1 200 OK\"\n",
      "INFO: HTTP Request: GET https://api.cloud.llamaindex.ai/api/parsing/job/d76f0de3-4799-485e-8995-c985c68d23b9 \"HTTP/1.1 200 OK\"\n",
      "INFO: HTTP Request: GET https://api.cloud.llamaindex.ai/api/parsing/job/d76f0de3-4799-485e-8995-c985c68d23b9 \"HTTP/1.1 200 OK\"\n",
      "INFO: HTTP Request: GET https://api.cloud.llamaindex.ai/api/parsing/job/d76f0de3-4799-485e-8995-c985c68d23b9/result/markdown \"HTTP/1.1 200 OK\"\n"
     ]
    },
    {
     "name": "stdout",
     "output_type": "stream",
     "text": [
      "../data/out/md/78-EC-Flyer-for-Service-MissionariesFrench-pdf.md saved.\n"
     ]
    },
    {
     "name": "stderr",
     "output_type": "stream",
     "text": [
      "INFO: HTTP Request: POST https://api.cloud.llamaindex.ai/api/parsing/upload \"HTTP/1.1 200 OK\"\n"
     ]
    },
    {
     "name": "stdout",
     "output_type": "stream",
     "text": [
      "Started parsing the file under job_id 838c527f-6476-4da4-8f9f-c3d18089e8a5\n"
     ]
    },
    {
     "name": "stderr",
     "output_type": "stream",
     "text": [
      "INFO: HTTP Request: GET https://api.cloud.llamaindex.ai/api/parsing/job/838c527f-6476-4da4-8f9f-c3d18089e8a5 \"HTTP/1.1 200 OK\"\n",
      "INFO: HTTP Request: GET https://api.cloud.llamaindex.ai/api/parsing/job/838c527f-6476-4da4-8f9f-c3d18089e8a5/result/markdown \"HTTP/1.1 200 OK\"\n"
     ]
    },
    {
     "name": "stdout",
     "output_type": "stream",
     "text": [
      "../data/out/md/78-EC-Flyer-for-Service-MissionariesFrench-pdf.md saved.\n"
     ]
    },
    {
     "name": "stderr",
     "output_type": "stream",
     "text": [
      "INFO: HTTP Request: POST https://api.cloud.llamaindex.ai/api/parsing/upload \"HTTP/1.1 200 OK\"\n"
     ]
    },
    {
     "name": "stdout",
     "output_type": "stream",
     "text": [
      "Started parsing the file under job_id 9c90579e-07ff-48f5-bf0c-dcf0439e5498\n"
     ]
    },
    {
     "name": "stderr",
     "output_type": "stream",
     "text": [
      "INFO: HTTP Request: GET https://api.cloud.llamaindex.ai/api/parsing/job/9c90579e-07ff-48f5-bf0c-dcf0439e5498 \"HTTP/1.1 200 OK\"\n",
      "INFO: HTTP Request: GET https://api.cloud.llamaindex.ai/api/parsing/job/9c90579e-07ff-48f5-bf0c-dcf0439e5498 \"HTTP/1.1 200 OK\"\n",
      "INFO: HTTP Request: GET https://api.cloud.llamaindex.ai/api/parsing/job/9c90579e-07ff-48f5-bf0c-dcf0439e5498 \"HTTP/1.1 200 OK\"\n",
      "INFO: HTTP Request: GET https://api.cloud.llamaindex.ai/api/parsing/job/9c90579e-07ff-48f5-bf0c-dcf0439e5498 \"HTTP/1.1 200 OK\"\n",
      "INFO: HTTP Request: GET https://api.cloud.llamaindex.ai/api/parsing/job/9c90579e-07ff-48f5-bf0c-dcf0439e5498 \"HTTP/1.1 200 OK\"\n",
      "INFO: HTTP Request: GET https://api.cloud.llamaindex.ai/api/parsing/job/9c90579e-07ff-48f5-bf0c-dcf0439e5498/result/markdown \"HTTP/1.1 200 OK\"\n"
     ]
    },
    {
     "name": "stdout",
     "output_type": "stream",
     "text": [
      "../data/out/md/79-EC-Flyer-for-Service-MissionariesPortuguesepdf.md saved.\n"
     ]
    },
    {
     "name": "stderr",
     "output_type": "stream",
     "text": [
      "INFO: HTTP Request: POST https://api.cloud.llamaindex.ai/api/parsing/upload \"HTTP/1.1 200 OK\"\n"
     ]
    },
    {
     "name": "stdout",
     "output_type": "stream",
     "text": [
      "Started parsing the file under job_id 318dc3e6-75e1-45eb-b1e3-4c089b1f3c9a\n"
     ]
    },
    {
     "name": "stderr",
     "output_type": "stream",
     "text": [
      "INFO: HTTP Request: GET https://api.cloud.llamaindex.ai/api/parsing/job/318dc3e6-75e1-45eb-b1e3-4c089b1f3c9a \"HTTP/1.1 200 OK\"\n",
      "INFO: HTTP Request: GET https://api.cloud.llamaindex.ai/api/parsing/job/318dc3e6-75e1-45eb-b1e3-4c089b1f3c9a \"HTTP/1.1 200 OK\"\n",
      "INFO: HTTP Request: GET https://api.cloud.llamaindex.ai/api/parsing/job/318dc3e6-75e1-45eb-b1e3-4c089b1f3c9a \"HTTP/1.1 200 OK\"\n",
      "INFO: HTTP Request: GET https://api.cloud.llamaindex.ai/api/parsing/job/318dc3e6-75e1-45eb-b1e3-4c089b1f3c9a/result/markdown \"HTTP/1.1 200 OK\"\n"
     ]
    },
    {
     "name": "stdout",
     "output_type": "stream",
     "text": [
      "../data/out/md/8-Access-the-Learner-Portalpdf.md saved.\n"
     ]
    },
    {
     "name": "stderr",
     "output_type": "stream",
     "text": [
      "INFO: HTTP Request: POST https://api.cloud.llamaindex.ai/api/parsing/upload \"HTTP/1.1 200 OK\"\n"
     ]
    },
    {
     "name": "stdout",
     "output_type": "stream",
     "text": [
      "Started parsing the file under job_id c4232f15-9e23-4770-90d7-65d1b26f2269\n"
     ]
    },
    {
     "name": "stderr",
     "output_type": "stream",
     "text": [
      "INFO: HTTP Request: GET https://api.cloud.llamaindex.ai/api/parsing/job/c4232f15-9e23-4770-90d7-65d1b26f2269 \"HTTP/1.1 200 OK\"\n",
      "INFO: HTTP Request: GET https://api.cloud.llamaindex.ai/api/parsing/job/c4232f15-9e23-4770-90d7-65d1b26f2269 \"HTTP/1.1 200 OK\"\n",
      "INFO: HTTP Request: GET https://api.cloud.llamaindex.ai/api/parsing/job/c4232f15-9e23-4770-90d7-65d1b26f2269 \"HTTP/1.1 200 OK\"\n",
      "INFO: HTTP Request: GET https://api.cloud.llamaindex.ai/api/parsing/job/c4232f15-9e23-4770-90d7-65d1b26f2269 \"HTTP/1.1 200 OK\"\n",
      "INFO: HTTP Request: GET https://api.cloud.llamaindex.ai/api/parsing/job/c4232f15-9e23-4770-90d7-65d1b26f2269 \"HTTP/1.1 200 OK\"\n",
      "INFO: HTTP Request: GET https://api.cloud.llamaindex.ai/api/parsing/job/c4232f15-9e23-4770-90d7-65d1b26f2269/result/markdown \"HTTP/1.1 200 OK\"\n"
     ]
    },
    {
     "name": "stdout",
     "output_type": "stream",
     "text": [
      "../data/out/md/80-EC-Flyer-for-Service-MissionariesSpanishpdf.md saved.\n"
     ]
    },
    {
     "name": "stderr",
     "output_type": "stream",
     "text": [
      "INFO: HTTP Request: POST https://api.cloud.llamaindex.ai/api/parsing/upload \"HTTP/1.1 200 OK\"\n"
     ]
    },
    {
     "name": "stdout",
     "output_type": "stream",
     "text": [
      "Started parsing the file under job_id be5e8b7c-574c-49cc-9690-6bdde8f5c951\n"
     ]
    },
    {
     "name": "stderr",
     "output_type": "stream",
     "text": [
      "INFO: HTTP Request: GET https://api.cloud.llamaindex.ai/api/parsing/job/be5e8b7c-574c-49cc-9690-6bdde8f5c951 \"HTTP/1.1 200 OK\"\n",
      "INFO: HTTP Request: GET https://api.cloud.llamaindex.ai/api/parsing/job/be5e8b7c-574c-49cc-9690-6bdde8f5c951 \"HTTP/1.1 200 OK\"\n",
      "INFO: HTTP Request: GET https://api.cloud.llamaindex.ai/api/parsing/job/be5e8b7c-574c-49cc-9690-6bdde8f5c951 \"HTTP/1.1 200 OK\"\n",
      "INFO: HTTP Request: GET https://api.cloud.llamaindex.ai/api/parsing/job/be5e8b7c-574c-49cc-9690-6bdde8f5c951 \"HTTP/1.1 200 OK\"\n",
      "INFO: HTTP Request: GET https://api.cloud.llamaindex.ai/api/parsing/job/be5e8b7c-574c-49cc-9690-6bdde8f5c951 \"HTTP/1.1 200 OK\"\n",
      "INFO: HTTP Request: GET https://api.cloud.llamaindex.ai/api/parsing/job/be5e8b7c-574c-49cc-9690-6bdde8f5c951 \"HTTP/1.1 200 OK\"\n",
      "INFO: HTTP Request: GET https://api.cloud.llamaindex.ai/api/parsing/job/be5e8b7c-574c-49cc-9690-6bdde8f5c951/result/markdown \"HTTP/1.1 200 OK\"\n"
     ]
    },
    {
     "name": "stdout",
     "output_type": "stream",
     "text": [
      "../data/out/md/81-EC-Flyer-for-Service-MissionariesUkrainianpdf.md saved.\n"
     ]
    },
    {
     "name": "stderr",
     "output_type": "stream",
     "text": [
      "INFO: HTTP Request: POST https://api.cloud.llamaindex.ai/api/parsing/upload \"HTTP/1.1 200 OK\"\n"
     ]
    },
    {
     "name": "stdout",
     "output_type": "stream",
     "text": [
      "Started parsing the file under job_id 633ad392-2f80-4f8e-a7b8-8546327d2e36\n"
     ]
    },
    {
     "name": "stderr",
     "output_type": "stream",
     "text": [
      "INFO: HTTP Request: GET https://api.cloud.llamaindex.ai/api/parsing/job/633ad392-2f80-4f8e-a7b8-8546327d2e36 \"HTTP/1.1 200 OK\"\n",
      "INFO: HTTP Request: GET https://api.cloud.llamaindex.ai/api/parsing/job/633ad392-2f80-4f8e-a7b8-8546327d2e36 \"HTTP/1.1 200 OK\"\n",
      "INFO: HTTP Request: GET https://api.cloud.llamaindex.ai/api/parsing/job/633ad392-2f80-4f8e-a7b8-8546327d2e36 \"HTTP/1.1 200 OK\"\n",
      "INFO: HTTP Request: GET https://api.cloud.llamaindex.ai/api/parsing/job/633ad392-2f80-4f8e-a7b8-8546327d2e36 \"HTTP/1.1 200 OK\"\n",
      "INFO: HTTP Request: GET https://api.cloud.llamaindex.ai/api/parsing/job/633ad392-2f80-4f8e-a7b8-8546327d2e36 \"HTTP/1.1 200 OK\"\n",
      "INFO: HTTP Request: GET https://api.cloud.llamaindex.ai/api/parsing/job/633ad392-2f80-4f8e-a7b8-8546327d2e36 \"HTTP/1.1 200 OK\"\n",
      "INFO: HTTP Request: GET https://api.cloud.llamaindex.ai/api/parsing/job/633ad392-2f80-4f8e-a7b8-8546327d2e36/result/markdown \"HTTP/1.1 200 OK\"\n"
     ]
    },
    {
     "name": "stdout",
     "output_type": "stream",
     "text": [
      "../data/out/md/82-EC-Frequently-Asked-Questionspdf.md saved.\n"
     ]
    },
    {
     "name": "stderr",
     "output_type": "stream",
     "text": [
      "INFO: HTTP Request: POST https://api.cloud.llamaindex.ai/api/parsing/upload \"HTTP/1.1 200 OK\"\n"
     ]
    },
    {
     "name": "stdout",
     "output_type": "stream",
     "text": [
      "Started parsing the file under job_id 3124d45f-7d73-41c2-be72-46e103e92601\n"
     ]
    },
    {
     "name": "stderr",
     "output_type": "stream",
     "text": [
      "INFO: HTTP Request: GET https://api.cloud.llamaindex.ai/api/parsing/job/3124d45f-7d73-41c2-be72-46e103e92601 \"HTTP/1.1 200 OK\"\n",
      "INFO: HTTP Request: GET https://api.cloud.llamaindex.ai/api/parsing/job/3124d45f-7d73-41c2-be72-46e103e92601 \"HTTP/1.1 200 OK\"\n",
      "INFO: HTTP Request: GET https://api.cloud.llamaindex.ai/api/parsing/job/3124d45f-7d73-41c2-be72-46e103e92601 \"HTTP/1.1 200 OK\"\n",
      "INFO: HTTP Request: GET https://api.cloud.llamaindex.ai/api/parsing/job/3124d45f-7d73-41c2-be72-46e103e92601 \"HTTP/1.1 200 OK\"\n",
      "INFO: HTTP Request: GET https://api.cloud.llamaindex.ai/api/parsing/job/3124d45f-7d73-41c2-be72-46e103e92601/result/markdown \"HTTP/1.1 200 OK\"\n"
     ]
    },
    {
     "name": "stdout",
     "output_type": "stream",
     "text": [
      "../data/out/md/83-EC-Gathering-Procedurespdf.md saved.\n"
     ]
    },
    {
     "name": "stderr",
     "output_type": "stream",
     "text": [
      "INFO: HTTP Request: POST https://api.cloud.llamaindex.ai/api/parsing/upload \"HTTP/1.1 200 OK\"\n"
     ]
    },
    {
     "name": "stdout",
     "output_type": "stream",
     "text": [
      "Started parsing the file under job_id 24c48e84-628e-409d-87e9-0fc5447620a0\n"
     ]
    },
    {
     "name": "stderr",
     "output_type": "stream",
     "text": [
      "INFO: HTTP Request: GET https://api.cloud.llamaindex.ai/api/parsing/job/24c48e84-628e-409d-87e9-0fc5447620a0 \"HTTP/1.1 200 OK\"\n",
      "INFO: HTTP Request: GET https://api.cloud.llamaindex.ai/api/parsing/job/24c48e84-628e-409d-87e9-0fc5447620a0 \"HTTP/1.1 200 OK\"\n",
      "INFO: HTTP Request: GET https://api.cloud.llamaindex.ai/api/parsing/job/24c48e84-628e-409d-87e9-0fc5447620a0 \"HTTP/1.1 200 OK\"\n",
      "INFO: HTTP Request: GET https://api.cloud.llamaindex.ai/api/parsing/job/24c48e84-628e-409d-87e9-0fc5447620a0 \"HTTP/1.1 200 OK\"\n",
      "INFO: HTTP Request: GET https://api.cloud.llamaindex.ai/api/parsing/job/24c48e84-628e-409d-87e9-0fc5447620a0 \"HTTP/1.1 200 OK\"\n",
      "INFO: HTTP Request: GET https://api.cloud.llamaindex.ai/api/parsing/job/24c48e84-628e-409d-87e9-0fc5447620a0 \"HTTP/1.1 200 OK\"\n",
      "INFO: HTTP Request: GET https://api.cloud.llamaindex.ai/api/parsing/job/24c48e84-628e-409d-87e9-0fc5447620a0 \"HTTP/1.1 200 OK\"\n",
      "INFO: HTTP Request: GET https://api.cloud.llamaindex.ai/api/parsing/job/24c48e84-628e-409d-87e9-0fc5447620a0/result/markdown \"HTTP/1.1 200 OK\"\n"
     ]
    },
    {
     "name": "stdout",
     "output_type": "stream",
     "text": [
      "../data/out/md/84-EC-Learner-Portal-Walkthroughpdf.md saved.\n"
     ]
    },
    {
     "name": "stderr",
     "output_type": "stream",
     "text": [
      "INFO: HTTP Request: POST https://api.cloud.llamaindex.ai/api/parsing/upload \"HTTP/1.1 200 OK\"\n"
     ]
    },
    {
     "name": "stdout",
     "output_type": "stream",
     "text": [
      "Started parsing the file under job_id c556cc05-d0e0-48ae-bd5a-5523720bc313\n"
     ]
    },
    {
     "name": "stderr",
     "output_type": "stream",
     "text": [
      "INFO: HTTP Request: GET https://api.cloud.llamaindex.ai/api/parsing/job/c556cc05-d0e0-48ae-bd5a-5523720bc313 \"HTTP/1.1 200 OK\"\n",
      "INFO: HTTP Request: GET https://api.cloud.llamaindex.ai/api/parsing/job/c556cc05-d0e0-48ae-bd5a-5523720bc313/result/markdown \"HTTP/1.1 200 OK\"\n"
     ]
    },
    {
     "name": "stdout",
     "output_type": "stream",
     "text": [
      "../data/out/md/84-EC-Learner-Portal-Walkthroughpdf.md saved.\n"
     ]
    },
    {
     "name": "stderr",
     "output_type": "stream",
     "text": [
      "INFO: HTTP Request: POST https://api.cloud.llamaindex.ai/api/parsing/upload \"HTTP/1.1 200 OK\"\n"
     ]
    },
    {
     "name": "stdout",
     "output_type": "stream",
     "text": [
      "Started parsing the file under job_id 96148edf-dd99-4f7c-ba37-00e3ced6014c\n"
     ]
    },
    {
     "name": "stderr",
     "output_type": "stream",
     "text": [
      "INFO: HTTP Request: GET https://api.cloud.llamaindex.ai/api/parsing/job/96148edf-dd99-4f7c-ba37-00e3ced6014c \"HTTP/1.1 200 OK\"\n",
      "INFO: HTTP Request: GET https://api.cloud.llamaindex.ai/api/parsing/job/96148edf-dd99-4f7c-ba37-00e3ced6014c/result/markdown \"HTTP/1.1 200 OK\"\n"
     ]
    },
    {
     "name": "stdout",
     "output_type": "stream",
     "text": [
      "../data/out/md/85-EC-Learner-Profilespdf.md saved.\n"
     ]
    },
    {
     "name": "stderr",
     "output_type": "stream",
     "text": [
      "INFO: HTTP Request: POST https://api.cloud.llamaindex.ai/api/parsing/upload \"HTTP/1.1 200 OK\"\n"
     ]
    },
    {
     "name": "stdout",
     "output_type": "stream",
     "text": [
      "Started parsing the file under job_id 3140332a-31de-4ce3-b518-154347851c05\n"
     ]
    },
    {
     "name": "stderr",
     "output_type": "stream",
     "text": [
      "INFO: HTTP Request: GET https://api.cloud.llamaindex.ai/api/parsing/job/3140332a-31de-4ce3-b518-154347851c05 \"HTTP/1.1 200 OK\"\n",
      "INFO: HTTP Request: GET https://api.cloud.llamaindex.ai/api/parsing/job/3140332a-31de-4ce3-b518-154347851c05 \"HTTP/1.1 200 OK\"\n",
      "INFO: HTTP Request: GET https://api.cloud.llamaindex.ai/api/parsing/job/3140332a-31de-4ce3-b518-154347851c05 \"HTTP/1.1 200 OK\"\n",
      "INFO: HTTP Request: GET https://api.cloud.llamaindex.ai/api/parsing/job/3140332a-31de-4ce3-b518-154347851c05 \"HTTP/1.1 200 OK\"\n",
      "INFO: HTTP Request: GET https://api.cloud.llamaindex.ai/api/parsing/job/3140332a-31de-4ce3-b518-154347851c05/result/markdown \"HTTP/1.1 200 OK\"\n"
     ]
    },
    {
     "name": "stdout",
     "output_type": "stream",
     "text": [
      "../data/out/md/86-EC-Participation-and-Completion-Certificatespdf.md saved.\n"
     ]
    },
    {
     "name": "stderr",
     "output_type": "stream",
     "text": [
      "INFO: HTTP Request: POST https://api.cloud.llamaindex.ai/api/parsing/upload \"HTTP/1.1 200 OK\"\n"
     ]
    },
    {
     "name": "stdout",
     "output_type": "stream",
     "text": [
      "Started parsing the file under job_id cf4c7d5a-fd85-43cc-8f68-0bf35b536deb\n"
     ]
    },
    {
     "name": "stderr",
     "output_type": "stream",
     "text": [
      "INFO: HTTP Request: GET https://api.cloud.llamaindex.ai/api/parsing/job/cf4c7d5a-fd85-43cc-8f68-0bf35b536deb \"HTTP/1.1 200 OK\"\n",
      "INFO: HTTP Request: GET https://api.cloud.llamaindex.ai/api/parsing/job/cf4c7d5a-fd85-43cc-8f68-0bf35b536deb \"HTTP/1.1 200 OK\"\n",
      "INFO: HTTP Request: GET https://api.cloud.llamaindex.ai/api/parsing/job/cf4c7d5a-fd85-43cc-8f68-0bf35b536deb \"HTTP/1.1 200 OK\"\n",
      "INFO: HTTP Request: GET https://api.cloud.llamaindex.ai/api/parsing/job/cf4c7d5a-fd85-43cc-8f68-0bf35b536deb \"HTTP/1.1 200 OK\"\n",
      "INFO: HTTP Request: GET https://api.cloud.llamaindex.ai/api/parsing/job/cf4c7d5a-fd85-43cc-8f68-0bf35b536deb \"HTTP/1.1 200 OK\"\n",
      "INFO: HTTP Request: GET https://api.cloud.llamaindex.ai/api/parsing/job/cf4c7d5a-fd85-43cc-8f68-0bf35b536deb \"HTTP/1.1 200 OK\"\n",
      "INFO: HTTP Request: GET https://api.cloud.llamaindex.ai/api/parsing/job/cf4c7d5a-fd85-43cc-8f68-0bf35b536deb/result/markdown \"HTTP/1.1 200 OK\"\n"
     ]
    },
    {
     "name": "stdout",
     "output_type": "stream",
     "text": [
      "../data/out/md/87-EC-Pre-Semester-Gathering-Agendapdf.md saved.\n"
     ]
    },
    {
     "name": "stderr",
     "output_type": "stream",
     "text": [
      "INFO: HTTP Request: POST https://api.cloud.llamaindex.ai/api/parsing/upload \"HTTP/1.1 200 OK\"\n"
     ]
    },
    {
     "name": "stdout",
     "output_type": "stream",
     "text": [
      "Started parsing the file under job_id 4bf674a2-cffc-4e52-adea-f7ba7328d758\n"
     ]
    },
    {
     "name": "stderr",
     "output_type": "stream",
     "text": [
      "INFO: HTTP Request: GET https://api.cloud.llamaindex.ai/api/parsing/job/4bf674a2-cffc-4e52-adea-f7ba7328d758 \"HTTP/1.1 200 OK\"\n",
      "INFO: HTTP Request: GET https://api.cloud.llamaindex.ai/api/parsing/job/4bf674a2-cffc-4e52-adea-f7ba7328d758 \"HTTP/1.1 200 OK\"\n",
      "INFO: HTTP Request: GET https://api.cloud.llamaindex.ai/api/parsing/job/4bf674a2-cffc-4e52-adea-f7ba7328d758 \"HTTP/1.1 200 OK\"\n",
      "INFO: HTTP Request: GET https://api.cloud.llamaindex.ai/api/parsing/job/4bf674a2-cffc-4e52-adea-f7ba7328d758 \"HTTP/1.1 200 OK\"\n",
      "INFO: HTTP Request: GET https://api.cloud.llamaindex.ai/api/parsing/job/4bf674a2-cffc-4e52-adea-f7ba7328d758 \"HTTP/1.1 200 OK\"\n",
      "INFO: HTTP Request: GET https://api.cloud.llamaindex.ai/api/parsing/job/4bf674a2-cffc-4e52-adea-f7ba7328d758 \"HTTP/1.1 200 OK\"\n",
      "INFO: HTTP Request: GET https://api.cloud.llamaindex.ai/api/parsing/job/4bf674a2-cffc-4e52-adea-f7ba7328d758/result/markdown \"HTTP/1.1 200 OK\"\n"
     ]
    },
    {
     "name": "stdout",
     "output_type": "stream",
     "text": [
      "../data/out/md/88-EC-Pre-Semester-Gatheringpdf.md saved.\n"
     ]
    },
    {
     "name": "stderr",
     "output_type": "stream",
     "text": [
      "INFO: HTTP Request: POST https://api.cloud.llamaindex.ai/api/parsing/upload \"HTTP/1.1 200 OK\"\n"
     ]
    },
    {
     "name": "stdout",
     "output_type": "stream",
     "text": [
      "Started parsing the file under job_id 5f7a103e-47bc-4442-844b-8d7519a2967f\n"
     ]
    },
    {
     "name": "stderr",
     "output_type": "stream",
     "text": [
      "INFO: HTTP Request: GET https://api.cloud.llamaindex.ai/api/parsing/job/5f7a103e-47bc-4442-844b-8d7519a2967f \"HTTP/1.1 200 OK\"\n",
      "INFO: HTTP Request: GET https://api.cloud.llamaindex.ai/api/parsing/job/5f7a103e-47bc-4442-844b-8d7519a2967f/result/markdown \"HTTP/1.1 200 OK\"\n"
     ]
    },
    {
     "name": "stdout",
     "output_type": "stream",
     "text": [
      "../data/out/md/89-EC-Re-enrollmentpdf.md saved.\n"
     ]
    },
    {
     "name": "stderr",
     "output_type": "stream",
     "text": [
      "INFO: HTTP Request: POST https://api.cloud.llamaindex.ai/api/parsing/upload \"HTTP/1.1 200 OK\"\n"
     ]
    },
    {
     "name": "stdout",
     "output_type": "stream",
     "text": [
      "Started parsing the file under job_id 7d6e7cea-42d9-41c8-b170-cf7f14048b5e\n"
     ]
    },
    {
     "name": "stderr",
     "output_type": "stream",
     "text": [
      "INFO: HTTP Request: GET https://api.cloud.llamaindex.ai/api/parsing/job/7d6e7cea-42d9-41c8-b170-cf7f14048b5e \"HTTP/1.1 200 OK\"\n",
      "INFO: HTTP Request: GET https://api.cloud.llamaindex.ai/api/parsing/job/7d6e7cea-42d9-41c8-b170-cf7f14048b5e/result/markdown \"HTTP/1.1 200 OK\"\n"
     ]
    },
    {
     "name": "stdout",
     "output_type": "stream",
     "text": [
      "../data/out/md/9-Accessing-Your-Learner-Listpdf.md saved.\n"
     ]
    },
    {
     "name": "stderr",
     "output_type": "stream",
     "text": [
      "INFO: HTTP Request: POST https://api.cloud.llamaindex.ai/api/parsing/upload \"HTTP/1.1 200 OK\"\n"
     ]
    },
    {
     "name": "stdout",
     "output_type": "stream",
     "text": [
      "Started parsing the file under job_id 3e4a98ff-124c-412a-8262-2316002e0378\n"
     ]
    },
    {
     "name": "stderr",
     "output_type": "stream",
     "text": [
      "INFO: HTTP Request: GET https://api.cloud.llamaindex.ai/api/parsing/job/3e4a98ff-124c-412a-8262-2316002e0378 \"HTTP/1.1 200 OK\"\n",
      "INFO: HTTP Request: GET https://api.cloud.llamaindex.ai/api/parsing/job/3e4a98ff-124c-412a-8262-2316002e0378/result/markdown \"HTTP/1.1 200 OK\"\n"
     ]
    },
    {
     "name": "stdout",
     "output_type": "stream",
     "text": [
      "../data/out/md/90-EC-Virtual-Gathering-Best-Practicespdf.md saved.\n"
     ]
    },
    {
     "name": "stderr",
     "output_type": "stream",
     "text": [
      "INFO: HTTP Request: POST https://api.cloud.llamaindex.ai/api/parsing/upload \"HTTP/1.1 200 OK\"\n"
     ]
    },
    {
     "name": "stdout",
     "output_type": "stream",
     "text": [
      "Started parsing the file under job_id 57553d8d-28dc-4050-a158-32cccdc72365\n"
     ]
    },
    {
     "name": "stderr",
     "output_type": "stream",
     "text": [
      "INFO: HTTP Request: GET https://api.cloud.llamaindex.ai/api/parsing/job/57553d8d-28dc-4050-a158-32cccdc72365 \"HTTP/1.1 200 OK\"\n",
      "INFO: HTTP Request: GET https://api.cloud.llamaindex.ai/api/parsing/job/57553d8d-28dc-4050-a158-32cccdc72365 \"HTTP/1.1 200 OK\"\n",
      "INFO: HTTP Request: GET https://api.cloud.llamaindex.ai/api/parsing/job/57553d8d-28dc-4050-a158-32cccdc72365 \"HTTP/1.1 200 OK\"\n",
      "INFO: HTTP Request: GET https://api.cloud.llamaindex.ai/api/parsing/job/57553d8d-28dc-4050-a158-32cccdc72365 \"HTTP/1.1 200 OK\"\n",
      "INFO: HTTP Request: GET https://api.cloud.llamaindex.ai/api/parsing/job/57553d8d-28dc-4050-a158-32cccdc72365 \"HTTP/1.1 200 OK\"\n",
      "INFO: HTTP Request: GET https://api.cloud.llamaindex.ai/api/parsing/job/57553d8d-28dc-4050-a158-32cccdc72365 \"HTTP/1.1 200 OK\"\n",
      "INFO: HTTP Request: GET https://api.cloud.llamaindex.ai/api/parsing/job/57553d8d-28dc-4050-a158-32cccdc72365 \"HTTP/1.1 200 OK\"\n",
      "INFO: HTTP Request: GET https://api.cloud.llamaindex.ai/api/parsing/job/57553d8d-28dc-4050-a158-32cccdc72365 \"HTTP/1.1 200 OK\"\n",
      "INFO: HTTP Request: GET https://api.cloud.llamaindex.ai/api/parsing/job/57553d8d-28dc-4050-a158-32cccdc72365/result/markdown \"HTTP/1.1 200 OK\"\n"
     ]
    },
    {
     "name": "stdout",
     "output_type": "stream",
     "text": [
      "../data/out/md/91-ENGLISH-CSM-Application-Octpdf.md saved.\n"
     ]
    },
    {
     "name": "stderr",
     "output_type": "stream",
     "text": [
      "INFO: HTTP Request: POST https://api.cloud.llamaindex.ai/api/parsing/upload \"HTTP/1.1 200 OK\"\n"
     ]
    },
    {
     "name": "stdout",
     "output_type": "stream",
     "text": [
      "Started parsing the file under job_id 0aa445c9-82b9-4e10-96c2-c70c6fe537ae\n"
     ]
    },
    {
     "name": "stderr",
     "output_type": "stream",
     "text": [
      "INFO: HTTP Request: GET https://api.cloud.llamaindex.ai/api/parsing/job/0aa445c9-82b9-4e10-96c2-c70c6fe537ae \"HTTP/1.1 200 OK\"\n",
      "INFO: HTTP Request: GET https://api.cloud.llamaindex.ai/api/parsing/job/0aa445c9-82b9-4e10-96c2-c70c6fe537ae \"HTTP/1.1 200 OK\"\n",
      "INFO: HTTP Request: GET https://api.cloud.llamaindex.ai/api/parsing/job/0aa445c9-82b9-4e10-96c2-c70c6fe537ae \"HTTP/1.1 200 OK\"\n",
      "INFO: HTTP Request: GET https://api.cloud.llamaindex.ai/api/parsing/job/0aa445c9-82b9-4e10-96c2-c70c6fe537ae \"HTTP/1.1 200 OK\"\n",
      "INFO: HTTP Request: GET https://api.cloud.llamaindex.ai/api/parsing/job/0aa445c9-82b9-4e10-96c2-c70c6fe537ae \"HTTP/1.1 200 OK\"\n",
      "INFO: HTTP Request: GET https://api.cloud.llamaindex.ai/api/parsing/job/0aa445c9-82b9-4e10-96c2-c70c6fe537ae \"HTTP/1.1 200 OK\"\n",
      "INFO: HTTP Request: GET https://api.cloud.llamaindex.ai/api/parsing/job/0aa445c9-82b9-4e10-96c2-c70c6fe537ae \"HTTP/1.1 200 OK\"\n",
      "INFO: HTTP Request: GET https://api.cloud.llamaindex.ai/api/parsing/job/0aa445c9-82b9-4e10-96c2-c70c6fe537ae/result/markdown \"HTTP/1.1 200 OK\"\n"
     ]
    },
    {
     "name": "stdout",
     "output_type": "stream",
     "text": [
      "../data/out/md/92-Ecclesiastical-Endorsementspdf.md saved.\n"
     ]
    },
    {
     "name": "stderr",
     "output_type": "stream",
     "text": [
      "INFO: HTTP Request: POST https://api.cloud.llamaindex.ai/api/parsing/upload \"HTTP/1.1 200 OK\"\n"
     ]
    },
    {
     "name": "stdout",
     "output_type": "stream",
     "text": [
      "Started parsing the file under job_id 0e920a18-519e-4bd7-8fbe-e9048345981a\n"
     ]
    },
    {
     "name": "stderr",
     "output_type": "stream",
     "text": [
      "INFO: HTTP Request: GET https://api.cloud.llamaindex.ai/api/parsing/job/0e920a18-519e-4bd7-8fbe-e9048345981a \"HTTP/1.1 200 OK\"\n",
      "INFO: HTTP Request: GET https://api.cloud.llamaindex.ai/api/parsing/job/0e920a18-519e-4bd7-8fbe-e9048345981a \"HTTP/1.1 200 OK\"\n",
      "INFO: HTTP Request: GET https://api.cloud.llamaindex.ai/api/parsing/job/0e920a18-519e-4bd7-8fbe-e9048345981a \"HTTP/1.1 200 OK\"\n",
      "INFO: HTTP Request: GET https://api.cloud.llamaindex.ai/api/parsing/job/0e920a18-519e-4bd7-8fbe-e9048345981a \"HTTP/1.1 200 OK\"\n",
      "INFO: HTTP Request: GET https://api.cloud.llamaindex.ai/api/parsing/job/0e920a18-519e-4bd7-8fbe-e9048345981a \"HTTP/1.1 200 OK\"\n",
      "INFO: HTTP Request: GET https://api.cloud.llamaindex.ai/api/parsing/job/0e920a18-519e-4bd7-8fbe-e9048345981a \"HTTP/1.1 200 OK\"\n",
      "INFO: HTTP Request: GET https://api.cloud.llamaindex.ai/api/parsing/job/0e920a18-519e-4bd7-8fbe-e9048345981a/result/markdown \"HTTP/1.1 200 OK\"\n"
     ]
    },
    {
     "name": "stdout",
     "output_type": "stream",
     "text": [
      "../data/out/md/93-Elders-Quorom-and-Relief-Society-Presentationspdf.md saved.\n"
     ]
    },
    {
     "name": "stderr",
     "output_type": "stream",
     "text": [
      "INFO: HTTP Request: POST https://api.cloud.llamaindex.ai/api/parsing/upload \"HTTP/1.1 200 OK\"\n"
     ]
    },
    {
     "name": "stdout",
     "output_type": "stream",
     "text": [
      "Started parsing the file under job_id 3a5bf654-435b-494d-a4ba-692d3d524094\n"
     ]
    },
    {
     "name": "stderr",
     "output_type": "stream",
     "text": [
      "INFO: HTTP Request: GET https://api.cloud.llamaindex.ai/api/parsing/job/3a5bf654-435b-494d-a4ba-692d3d524094 \"HTTP/1.1 200 OK\"\n",
      "INFO: HTTP Request: GET https://api.cloud.llamaindex.ai/api/parsing/job/3a5bf654-435b-494d-a4ba-692d3d524094 \"HTTP/1.1 200 OK\"\n",
      "INFO: HTTP Request: GET https://api.cloud.llamaindex.ai/api/parsing/job/3a5bf654-435b-494d-a4ba-692d3d524094 \"HTTP/1.1 200 OK\"\n",
      "INFO: HTTP Request: GET https://api.cloud.llamaindex.ai/api/parsing/job/3a5bf654-435b-494d-a4ba-692d3d524094 \"HTTP/1.1 200 OK\"\n",
      "INFO: HTTP Request: GET https://api.cloud.llamaindex.ai/api/parsing/job/3a5bf654-435b-494d-a4ba-692d3d524094 \"HTTP/1.1 200 OK\"\n",
      "INFO: HTTP Request: GET https://api.cloud.llamaindex.ai/api/parsing/job/3a5bf654-435b-494d-a4ba-692d3d524094 \"HTTP/1.1 200 OK\"\n",
      "INFO: HTTP Request: GET https://api.cloud.llamaindex.ai/api/parsing/job/3a5bf654-435b-494d-a4ba-692d3d524094/result/markdown \"HTTP/1.1 200 OK\"\n"
     ]
    },
    {
     "name": "stdout",
     "output_type": "stream",
     "text": [
      "../data/out/md/94-Email-All-Adult-Memberspdf.md saved.\n"
     ]
    },
    {
     "name": "stderr",
     "output_type": "stream",
     "text": [
      "INFO: HTTP Request: POST https://api.cloud.llamaindex.ai/api/parsing/upload \"HTTP/1.1 200 OK\"\n"
     ]
    },
    {
     "name": "stdout",
     "output_type": "stream",
     "text": [
      "Started parsing the file under job_id e770b99d-bf97-4b2d-ae2a-1ebfad624c02\n"
     ]
    },
    {
     "name": "stderr",
     "output_type": "stream",
     "text": [
      "INFO: HTTP Request: GET https://api.cloud.llamaindex.ai/api/parsing/job/e770b99d-bf97-4b2d-ae2a-1ebfad624c02 \"HTTP/1.1 200 OK\"\n",
      "INFO: HTTP Request: GET https://api.cloud.llamaindex.ai/api/parsing/job/e770b99d-bf97-4b2d-ae2a-1ebfad624c02/result/markdown \"HTTP/1.1 200 OK\"\n"
     ]
    },
    {
     "name": "stdout",
     "output_type": "stream",
     "text": [
      "../data/out/md/95-Email-Data-Privacypdf.md saved.\n"
     ]
    },
    {
     "name": "stderr",
     "output_type": "stream",
     "text": [
      "INFO: HTTP Request: POST https://api.cloud.llamaindex.ai/api/parsing/upload \"HTTP/1.1 200 OK\"\n"
     ]
    },
    {
     "name": "stdout",
     "output_type": "stream",
     "text": [
      "Started parsing the file under job_id b8946594-e99d-4050-90bd-c64128ad217f\n"
     ]
    },
    {
     "name": "stderr",
     "output_type": "stream",
     "text": [
      "INFO: HTTP Request: GET https://api.cloud.llamaindex.ai/api/parsing/job/b8946594-e99d-4050-90bd-c64128ad217f \"HTTP/1.1 200 OK\"\n",
      "INFO: HTTP Request: GET https://api.cloud.llamaindex.ai/api/parsing/job/b8946594-e99d-4050-90bd-c64128ad217f \"HTTP/1.1 200 OK\"\n",
      "INFO: HTTP Request: GET https://api.cloud.llamaindex.ai/api/parsing/job/b8946594-e99d-4050-90bd-c64128ad217f \"HTTP/1.1 200 OK\"\n",
      "INFO: HTTP Request: GET https://api.cloud.llamaindex.ai/api/parsing/job/b8946594-e99d-4050-90bd-c64128ad217f \"HTTP/1.1 200 OK\"\n",
      "INFO: HTTP Request: GET https://api.cloud.llamaindex.ai/api/parsing/job/b8946594-e99d-4050-90bd-c64128ad217f/result/markdown \"HTTP/1.1 200 OK\"\n"
     ]
    },
    {
     "name": "stdout",
     "output_type": "stream",
     "text": [
      "../data/out/md/96-Employment-and-Self-Reliance-Fairpdf.md saved.\n"
     ]
    },
    {
     "name": "stderr",
     "output_type": "stream",
     "text": [
      "INFO: HTTP Request: POST https://api.cloud.llamaindex.ai/api/parsing/upload \"HTTP/1.1 200 OK\"\n"
     ]
    },
    {
     "name": "stdout",
     "output_type": "stream",
     "text": [
      "Started parsing the file under job_id b12d13da-da17-4842-b70e-5421c3e5d29e\n"
     ]
    },
    {
     "name": "stderr",
     "output_type": "stream",
     "text": [
      "INFO: HTTP Request: GET https://api.cloud.llamaindex.ai/api/parsing/job/b12d13da-da17-4842-b70e-5421c3e5d29e \"HTTP/1.1 200 OK\"\n",
      "INFO: HTTP Request: GET https://api.cloud.llamaindex.ai/api/parsing/job/b12d13da-da17-4842-b70e-5421c3e5d29e \"HTTP/1.1 200 OK\"\n",
      "INFO: HTTP Request: GET https://api.cloud.llamaindex.ai/api/parsing/job/b12d13da-da17-4842-b70e-5421c3e5d29e \"HTTP/1.1 200 OK\"\n",
      "INFO: HTTP Request: GET https://api.cloud.llamaindex.ai/api/parsing/job/b12d13da-da17-4842-b70e-5421c3e5d29e \"HTTP/1.1 200 OK\"\n",
      "INFO: HTTP Request: GET https://api.cloud.llamaindex.ai/api/parsing/job/b12d13da-da17-4842-b70e-5421c3e5d29e/result/markdown \"HTTP/1.1 200 OK\"\n"
     ]
    },
    {
     "name": "stdout",
     "output_type": "stream",
     "text": [
      "../data/out/md/97-EnglishConnect-Academic-Calendarpdf.md saved.\n"
     ]
    },
    {
     "name": "stderr",
     "output_type": "stream",
     "text": [
      "INFO: HTTP Request: POST https://api.cloud.llamaindex.ai/api/parsing/upload \"HTTP/1.1 200 OK\"\n"
     ]
    },
    {
     "name": "stdout",
     "output_type": "stream",
     "text": [
      "Started parsing the file under job_id 2d9c66b4-6018-4026-a585-ff39e78455a7\n"
     ]
    },
    {
     "name": "stderr",
     "output_type": "stream",
     "text": [
      "INFO: HTTP Request: GET https://api.cloud.llamaindex.ai/api/parsing/job/2d9c66b4-6018-4026-a585-ff39e78455a7 \"HTTP/1.1 200 OK\"\n",
      "INFO: HTTP Request: GET https://api.cloud.llamaindex.ai/api/parsing/job/2d9c66b4-6018-4026-a585-ff39e78455a7 \"HTTP/1.1 200 OK\"\n",
      "INFO: HTTP Request: GET https://api.cloud.llamaindex.ai/api/parsing/job/2d9c66b4-6018-4026-a585-ff39e78455a7 \"HTTP/1.1 200 OK\"\n",
      "INFO: HTTP Request: GET https://api.cloud.llamaindex.ai/api/parsing/job/2d9c66b4-6018-4026-a585-ff39e78455a7 \"HTTP/1.1 200 OK\"\n",
      "INFO: HTTP Request: GET https://api.cloud.llamaindex.ai/api/parsing/job/2d9c66b4-6018-4026-a585-ff39e78455a7 \"HTTP/1.1 200 OK\"\n",
      "INFO: HTTP Request: GET https://api.cloud.llamaindex.ai/api/parsing/job/2d9c66b4-6018-4026-a585-ff39e78455a7 \"HTTP/1.1 200 OK\"\n",
      "INFO: HTTP Request: GET https://api.cloud.llamaindex.ai/api/parsing/job/2d9c66b4-6018-4026-a585-ff39e78455a7/result/markdown \"HTTP/1.1 200 OK\"\n"
     ]
    },
    {
     "name": "stdout",
     "output_type": "stream",
     "text": [
      "../data/out/md/98-EnglishConnect-Common-Termspdf.md saved.\n"
     ]
    },
    {
     "name": "stderr",
     "output_type": "stream",
     "text": [
      "INFO: HTTP Request: POST https://api.cloud.llamaindex.ai/api/parsing/upload \"HTTP/1.1 200 OK\"\n"
     ]
    },
    {
     "name": "stdout",
     "output_type": "stream",
     "text": [
      "Started parsing the file under job_id 31e1b626-7b86-48bf-bb41-231e9ef98087\n"
     ]
    },
    {
     "name": "stderr",
     "output_type": "stream",
     "text": [
      "INFO: HTTP Request: GET https://api.cloud.llamaindex.ai/api/parsing/job/31e1b626-7b86-48bf-bb41-231e9ef98087 \"HTTP/1.1 200 OK\"\n",
      "INFO: HTTP Request: GET https://api.cloud.llamaindex.ai/api/parsing/job/31e1b626-7b86-48bf-bb41-231e9ef98087 \"HTTP/1.1 200 OK\"\n",
      "INFO: HTTP Request: GET https://api.cloud.llamaindex.ai/api/parsing/job/31e1b626-7b86-48bf-bb41-231e9ef98087 \"HTTP/1.1 200 OK\"\n",
      "INFO: HTTP Request: GET https://api.cloud.llamaindex.ai/api/parsing/job/31e1b626-7b86-48bf-bb41-231e9ef98087 \"HTTP/1.1 200 OK\"\n",
      "INFO: HTTP Request: GET https://api.cloud.llamaindex.ai/api/parsing/job/31e1b626-7b86-48bf-bb41-231e9ef98087 \"HTTP/1.1 200 OK\"\n",
      "INFO: HTTP Request: GET https://api.cloud.llamaindex.ai/api/parsing/job/31e1b626-7b86-48bf-bb41-231e9ef98087 \"HTTP/1.1 200 OK\"\n",
      "INFO: HTTP Request: GET https://api.cloud.llamaindex.ai/api/parsing/job/31e1b626-7b86-48bf-bb41-231e9ef98087 \"HTTP/1.1 200 OK\"\n",
      "INFO: HTTP Request: GET https://api.cloud.llamaindex.ai/api/parsing/job/31e1b626-7b86-48bf-bb41-231e9ef98087/result/markdown \"HTTP/1.1 200 OK\"\n"
     ]
    },
    {
     "name": "stdout",
     "output_type": "stream",
     "text": [
      "../data/out/md/99-Ensign-College-Overviewpdf.md saved.\n"
     ]
    }
   ],
   "source": [
    "for idx, file in enumerate(file_names):\n",
    "    limit_try = 2\n",
    "    size = parse_txt_to_md(file, idx)\n",
    "\n",
    "    while size < (file[\"size\"] - 300) and limit_try > 0:\n",
    "        try:\n",
    "            time.sleep(2)\n",
    "            size = parse_txt_to_md(file, idx)\n",
    "            limit_try -= 1\n",
    "            break\n",
    "        except Exception as e:\n",
    "            limit_try -= 1\n",
    "            print(f\"Error processing file {file} - {limit_try} tries left.\")\n",
    "            time.sleep(2)\n",
    "\n",
    "    if limit_try == 0:\n",
    "        print(f\"Error processing file {file} - {limit_try} tries left.\")\n",
    "        file[\"llama_error\"] = True\n"
   ]
  },
  {
   "cell_type": "code",
   "execution_count": null,
   "metadata": {},
   "outputs": [],
   "source": [
    "# print the files that could not be loadedand has an error attribute\n",
    "for file in file_names:\n",
    "    if \"error\" in file:\n",
    "        print(file)\n"
   ]
  },
  {
   "cell_type": "markdown",
   "metadata": {},
   "source": [
    "Review if there are files with error to review them manually.\n"
   ]
  },
  {
   "cell_type": "code",
   "execution_count": null,
   "metadata": {},
   "outputs": [],
   "source": [
    "files_with_error = [file for file in file_names if \"error\" in file]\n",
    "\n",
    "print(files_with_error)\n"
   ]
  },
  {
   "cell_type": "markdown",
   "metadata": {},
   "source": [
    "### Pros\n",
    "\n",
    "- Cheapest because it makes less requests to the API\n",
    "- Most accurate because it uses the text directly\n",
    "- Well structured result\n",
    "\n",
    "### Cons\n",
    "\n",
    "- We are ignoring completely the image and only using the text related. This could be a problem if the image contains important information\n",
    "- Sometimes the order of the text is not the same as the PDF because the structure (i.e. 18)\n",
    "\n",
    "### warnings\n",
    "\n",
    "- In some PDF's thera are text inside the images (to complete the example, this could be a problem, for example, a specific price)\n"
   ]
  }
 ],
 "metadata": {
  "kernelspec": {
   "display_name": ".venv",
   "language": "python",
   "name": "python3"
  },
  "language_info": {
   "codemirror_mode": {
    "name": "ipython",
    "version": 3
   },
   "file_extension": ".py",
   "mimetype": "text/x-python",
   "name": "python",
   "nbconvert_exporter": "python",
   "pygments_lexer": "ipython3",
   "version": "3.12.5"
  }
 },
 "nbformat": 4,
 "nbformat_minor": 2
}
