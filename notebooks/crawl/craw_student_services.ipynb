{
 "cells": [
  {
   "cell_type": "markdown",
   "metadata": {},
   "source": [
    "# Index Process\n",
    "\n",
    "---\n"
   ]
  },
  {
   "cell_type": "code",
   "execution_count": 1,
   "metadata": {},
   "outputs": [],
   "source": [
    "import requests\n",
    "import pandas\n",
    "from bs4 import BeautifulSoup\n",
    "import json\n",
    "import zlib\n"
   ]
  },
  {
   "cell_type": "code",
   "execution_count": 2,
   "metadata": {},
   "outputs": [],
   "source": [
    "url = \"https://student-services.catalog.prod.coursedog.com/\"\n"
   ]
  },
  {
   "cell_type": "code",
   "execution_count": 3,
   "metadata": {},
   "outputs": [
    {
     "name": "stdout",
     "output_type": "stream",
     "text": [
      "<nav aria-label=\"Mobile Navigation\" class=\"lg:py-6 responsive-nav transition ease-in-out duration-150 fixed h-full z-50 right-0 top-0 lg:static overflow-y-auto lg:overflow-y-visible no-print\" data-test=\"openNav\" data-v-157d2650=\"\"><div class=\"flex items-start mb-2 lg:hidden color-theme-topbar-font m-6\" data-v-157d2650=\"\"><h1 class=\"heading-1 flex-1 mr-2\" data-v-157d2650=\"\">BYU Pathway Worldwide</h1> <button aria-label=\"Close\" data-v-157d2650=\"\" type=\"button\"><svg aria-hidden=\"true\" class=\"svg-inline--fa fa-times fa-w-11\" data-icon=\"times\" data-prefix=\"fas\" data-v-157d2650=\"\" focusable=\"false\" role=\"img\" viewbox=\"0 0 352 512\" xmlns=\"http://www.w3.org/2000/svg\"><path d=\"M242.72 256l100.07-100.07c12.28-12.28 12.28-32.19 0-44.48l-22.24-22.24c-12.28-12.28-32.19-12.28-44.48 0L176 189.28 75.93 89.21c-12.28-12.28-32.19-12.28-44.48 0L9.21 111.45c-12.28 12.28-12.28 32.19 0 44.48L109.28 256 9.21 356.07c-12.28 12.28-12.28 32.19 0 44.48l22.24 22.24c12.28 12.28 32.2 12.28 44.48 0L176 322.72l100.07 100.07c12.28 12.28 32.2 12.28 44.48 0l22.24-22.24c12.28-12.28 12.28-32.19 0-44.48L242.72 256z\" data-v-157d2650=\"\" fill=\"currentColor\"></path></svg></button></div> <ul class=\"bottom-links block lg:flex lg:gap-10 lg:py-3\" data-v-157d2650=\"\"><li><div class=\"link sub-link lg:relative\" data-v-00de5cc4=\"\"><button aria-expanded=\"false\" class=\"group space-x-2\" data-test-id=\"nav-dropdown-button\" data-v-00de5cc4=\"\" type=\"button\"><span class=\"sub-link ml-1\" data-v-00de5cc4=\"\">Student Services</span> <svg aria-hidden=\"true\" class=\"transform h-5 w-5 transition ease-in-out duration-150 dropdown-icon\" data-v-00de5cc4=\"\" role=\"img\" viewbox=\"0 0 20 20\"><path clip-rule=\"evenodd\" d=\"M5.293 7.293a1 1 0 011.414 0L10 10.586l3.293-3.293a1 1 0 111.414 1.414l-4 4a1 1 0 01-1.414 0l-4-4a1 1 0 010-1.414z\" data-v-00de5cc4=\"\" fill-rule=\"evenodd\"></path></svg></button> <div class=\"z-20 absolute mt-5 lg:left-1/2 lg:top-full w-auto nav-dropdown\" data-v-00de5cc4=\"\" style=\"display:none;\"><div class=\"bg-white lg:shadow-lg lg:border lg:border-gray-200 lg:overflow-x-auto lg:rounded-lg lg:rounded-none pt-3 pb-2\" data-v-00de5cc4=\"\"><!-- --> <div class=\"lg:space-y-2 lg:my-2 px-4\" data-v-00de5cc4=\"\"><div class=\"drop-item\" data-v-00de5cc4=\"\"><a class=\"p-2 pl-4 flex items-start space-x-4 rounded-lg hover:bg-gray-100 transition ease-in-out duration-150\" data-v-00de5cc4=\"\" href=\"/studentservices/academic-calendar\" title=\"Academic Calendar\"><div class=\"space-y-1\" data-v-00de5cc4=\"\"><span class=\"item-link leading-6\" data-v-00de5cc4=\"\">\n",
      "                    Academic Calendar\n",
      "                  </span></div></a></div><div class=\"drop-item\" data-v-00de5cc4=\"\"><a class=\"p-2 pl-4 flex items-start space-x-4 rounded-lg hover:bg-gray-100 transition ease-in-out duration-150\" data-v-00de5cc4=\"\" href=\"/studentservices/course-grade-posting\" title=\"Course Grade Posting\"><div class=\"space-y-1\" data-v-00de5cc4=\"\"><span class=\"item-link leading-6\" data-v-00de5cc4=\"\">\n",
      "                    Course Grade Posting\n",
      "                  </span></div></a></div><div class=\"drop-item\" data-v-00de5cc4=\"\"><a class=\"p-2 pl-4 flex items-start space-x-4 rounded-lg hover:bg-gray-100 transition ease-in-out duration-150\" data-v-00de5cc4=\"\" href=\"/studentservices/institute-transfer-courses\" title=\"Institute Transfer Courses\"><div class=\"space-y-1\" data-v-00de5cc4=\"\"><span class=\"item-link leading-6\" data-v-00de5cc4=\"\">\n",
      "                    Institute Transfer Courses\n",
      "                  </span></div></a></div><div class=\"drop-item\" data-v-00de5cc4=\"\"><a class=\"p-2 pl-4 flex items-start space-x-4 rounded-lg hover:bg-gray-100 transition ease-in-out duration-150\" data-v-00de5cc4=\"\" href=\"/studentservices/graduation\" title=\"Graduation\"><div class=\"space-y-1\" data-v-00de5cc4=\"\"><span class=\"item-link leading-6\" data-v-00de5cc4=\"\">\n",
      "                    Graduation\n",
      "                  </span></div></a></div><div class=\"drop-item\" data-v-00de5cc4=\"\"><a class=\"p-2 pl-4 flex items-start space-x-4 rounded-lg hover:bg-gray-100 transition ease-in-out duration-150\" data-v-00de5cc4=\"\" href=\"/studentservices/apostilled-notarized-documents\" title=\"Apostilled/Notarized Documents\"><div class=\"space-y-1\" data-v-00de5cc4=\"\"><span class=\"item-link leading-6\" data-v-00de5cc4=\"\">\n",
      "                    Apostilled/Notarized Documents\n",
      "                  </span></div></a></div><div class=\"drop-item\" data-v-00de5cc4=\"\"><a class=\"p-2 pl-4 flex items-start space-x-4 rounded-lg hover:bg-gray-100 transition ease-in-out duration-150\" data-v-00de5cc4=\"\" href=\"/studentservices/academic-exceptions\" title=\"Academic Exceptions Petition\"><div class=\"space-y-1\" data-v-00de5cc4=\"\"><span class=\"item-link leading-6\" data-v-00de5cc4=\"\">\n",
      "                    Academic Exceptions Petition\n",
      "                  </span></div></a></div><div class=\"drop-item\" data-v-00de5cc4=\"\"><a class=\"p-2 pl-4 flex items-start space-x-4 rounded-lg hover:bg-gray-100 transition ease-in-out duration-150\" data-v-00de5cc4=\"\" href=\"/studentservices/confidentiality-of-student-records\" title=\"FERPA\"><div class=\"space-y-1\" data-v-00de5cc4=\"\"><span class=\"item-link leading-6\" data-v-00de5cc4=\"\">\n",
      "                    FERPA\n",
      "                  </span></div></a></div></div></div></div></div></li><li><div class=\"link sub-link lg:relative\" data-v-00de5cc4=\"\"><button aria-expanded=\"false\" class=\"group space-x-2\" data-test-id=\"nav-dropdown-button\" data-v-00de5cc4=\"\" type=\"button\"><span class=\"sub-link ml-1\" data-v-00de5cc4=\"\">Student Portal Resources</span> <svg aria-hidden=\"true\" class=\"transform h-5 w-5 transition ease-in-out duration-150 dropdown-icon\" data-v-00de5cc4=\"\" role=\"img\" viewbox=\"0 0 20 20\"><path clip-rule=\"evenodd\" d=\"M5.293 7.293a1 1 0 011.414 0L10 10.586l3.293-3.293a1 1 0 111.414 1.414l-4 4a1 1 0 01-1.414 0l-4-4a1 1 0 010-1.414z\" data-v-00de5cc4=\"\" fill-rule=\"evenodd\"></path></svg></button> <div class=\"z-20 absolute mt-5 lg:left-1/2 lg:top-full w-auto nav-dropdown\" data-v-00de5cc4=\"\" style=\"display:none;\"><div class=\"bg-white lg:shadow-lg lg:border lg:border-gray-200 lg:overflow-x-auto lg:rounded-lg lg:rounded-none pt-3 pb-2\" data-v-00de5cc4=\"\"><!-- --> <div class=\"lg:space-y-2 lg:my-2 px-4\" data-v-00de5cc4=\"\"><div class=\"drop-item\" data-v-00de5cc4=\"\"><a class=\"p-2 pl-4 flex items-start space-x-4 rounded-lg hover:bg-gray-100 transition ease-in-out duration-150\" data-v-00de5cc4=\"\" href=\"/portal/stdportaloverview\" title=\"Student Portal Overview\"><div class=\"space-y-1\" data-v-00de5cc4=\"\"><span class=\"item-link leading-6\" data-v-00de5cc4=\"\">\n",
      "                    Student Portal Overview\n",
      "                  </span></div></a></div><div class=\"drop-item\" data-v-00de5cc4=\"\"><a class=\"p-2 pl-4 flex items-start space-x-4 rounded-lg hover:bg-gray-100 transition ease-in-out duration-150\" data-v-00de5cc4=\"\" href=\"/portal/holds\" title=\"Holds on Student Accounts\"><div class=\"space-y-1\" data-v-00de5cc4=\"\"><span class=\"item-link leading-6\" data-v-00de5cc4=\"\">\n",
      "                    Holds on Student Accounts\n",
      "                  </span></div></a></div><div class=\"drop-item\" data-v-00de5cc4=\"\"><a class=\"p-2 pl-4 flex items-start space-x-4 rounded-lg hover:bg-gray-100 transition ease-in-out duration-150\" data-v-00de5cc4=\"\" href=\"/portal/planning\" title=\"Academics: My Program\"><div class=\"space-y-1\" data-v-00de5cc4=\"\"><span class=\"item-link leading-6\" data-v-00de5cc4=\"\">\n",
      "                    Academics: My Program\n",
      "                  </span></div></a></div><div class=\"drop-item\" data-v-00de5cc4=\"\"><a class=\"p-2 pl-4 flex items-start space-x-4 rounded-lg hover:bg-gray-100 transition ease-in-out duration-150\" data-v-00de5cc4=\"\" href=\"/portal/certificates-and-degrees\" title=\"Academics: Certificates and Degrees\"><div class=\"space-y-1\" data-v-00de5cc4=\"\"><span class=\"item-link leading-6\" data-v-00de5cc4=\"\">\n",
      "                    Academics: Certificates and Degrees\n",
      "                  </span></div></a></div><div class=\"drop-item\" data-v-00de5cc4=\"\"><a class=\"p-2 pl-4 flex items-start space-x-4 rounded-lg hover:bg-gray-100 transition ease-in-out duration-150\" data-v-00de5cc4=\"\" href=\"/portal/degree-progress-audit\" title=\"Academics: Degree Progress Audit (DPA) Guide\"><div class=\"space-y-1\" data-v-00de5cc4=\"\"><span class=\"item-link leading-6\" data-v-00de5cc4=\"\">\n",
      "                    Academics: Degree Progress Audit (DPA) Guide\n",
      "                  </span></div></a></div><div class=\"drop-item\" data-v-00de5cc4=\"\"><a class=\"p-2 pl-4 flex items-start space-x-4 rounded-lg hover:bg-gray-100 transition ease-in-out duration-150\" data-v-00de5cc4=\"\" href=\"/portal/class-schedule\" title=\"Academics: Class Schedule\"><div class=\"space-y-1\" data-v-00de5cc4=\"\"><span class=\"item-link leading-6\" data-v-00de5cc4=\"\">\n",
      "                    Academics: Class Schedule\n",
      "                  </span></div></a></div><div class=\"drop-item\" data-v-00de5cc4=\"\"><a class=\"p-2 pl-4 flex items-start space-x-4 rounded-lg hover:bg-gray-100 transition ease-in-out duration-150\" data-v-00de5cc4=\"\" href=\"/portal/personal-info-change\" title=\"My Profile: Demographic &amp; Personal Information Changes\"><div class=\"space-y-1\" data-v-00de5cc4=\"\"><span class=\"item-link leading-6\" data-v-00de5cc4=\"\">\n",
      "                    My Profile: Demographic &amp; Personal Information Changes\n",
      "                  </span></div></a></div><div class=\"drop-item\" data-v-00de5cc4=\"\"><a class=\"p-2 pl-4 flex items-start space-x-4 rounded-lg hover:bg-gray-100 transition ease-in-out duration-150\" data-v-00de5cc4=\"\" href=\"/portal/privacy\" title=\"My Profile: Privacy Settings\"><div class=\"space-y-1\" data-v-00de5cc4=\"\"><span class=\"item-link leading-6\" data-v-00de5cc4=\"\">\n",
      "                    My Profile: Privacy Settings\n",
      "                  </span></div></a></div><div class=\"drop-item\" data-v-00de5cc4=\"\"><a class=\"p-2 pl-4 flex items-start space-x-4 rounded-lg hover:bg-gray-100 transition ease-in-out duration-150\" data-v-00de5cc4=\"\" href=\"/portal/ordering-official-transcripts\" title=\"Documents: Transcripts\"><div class=\"space-y-1\" data-v-00de5cc4=\"\"><span class=\"item-link leading-6\" data-v-00de5cc4=\"\">\n",
      "                    Documents: Transcripts\n",
      "                  </span></div></a></div></div></div></div></div></li></ul></nav>\n"
     ]
    }
   ],
   "source": [
    "content = requests.get(url).content\n",
    "soup = BeautifulSoup(content, \"html.parser\")\n",
    "# get the nav with aria-label=\"Navigation\"\n",
    "nav = soup.find(\"nav\", {\"aria-label\": \"Mobile Navigation\"})\n",
    "print(nav)\n"
   ]
  },
  {
   "cell_type": "code",
   "execution_count": 4,
   "metadata": {},
   "outputs": [],
   "source": [
    "def generate_hash_filename(url):\n",
    "    \"\"\"Generate a hash of the URL to use as a filename.\"\"\"\n",
    "    url_hash = zlib.crc32(url.encode())\n",
    "    file_name = f\"{url_hash:x}\"\n",
    "    return file_name\n"
   ]
  },
  {
   "cell_type": "code",
   "execution_count": 5,
   "metadata": {},
   "outputs": [
    {
     "name": "stdout",
     "output_type": "stream",
     "text": [
      "[\n",
      "  {\n",
      "    \"URL\": \"/studentservices/academic-calendar\",\n",
      "    \"Section\": \"Student Services\",\n",
      "    \"Subsection\": \"\",\n",
      "    \"Title\": \"\\n                    Academic Calendar\\n                  \"\n",
      "  },\n",
      "  {\n",
      "    \"URL\": \"/studentservices/course-grade-posting\",\n",
      "    \"Section\": \"Student Services\",\n",
      "    \"Subsection\": \"\",\n",
      "    \"Title\": \"\\n                    Course Grade Posting\\n                  \"\n",
      "  },\n",
      "  {\n",
      "    \"URL\": \"/studentservices/institute-transfer-courses\",\n",
      "    \"Section\": \"Student Services\",\n",
      "    \"Subsection\": \"\",\n",
      "    \"Title\": \"\\n                    Institute Transfer Courses\\n                  \"\n",
      "  },\n",
      "  {\n",
      "    \"URL\": \"/studentservices/graduation\",\n",
      "    \"Section\": \"Student Services\",\n",
      "    \"Subsection\": \"\",\n",
      "    \"Title\": \"\\n                    Graduation\\n                  \"\n",
      "  },\n",
      "  {\n",
      "    \"URL\": \"/studentservices/apostilled-notarized-documents\",\n",
      "    \"Section\": \"Student Services\",\n",
      "    \"Subsection\": \"\",\n",
      "    \"Title\": \"\\n                    Apostilled/Notarized Documents\\n                  \"\n",
      "  },\n",
      "  {\n",
      "    \"URL\": \"/studentservices/academic-exceptions\",\n",
      "    \"Section\": \"Student Services\",\n",
      "    \"Subsection\": \"\",\n",
      "    \"Title\": \"\\n                    Academic Exceptions Petition\\n                  \"\n",
      "  },\n",
      "  {\n",
      "    \"URL\": \"/studentservices/confidentiality-of-student-records\",\n",
      "    \"Section\": \"Student Services\",\n",
      "    \"Subsection\": \"\",\n",
      "    \"Title\": \"\\n                    FERPA\\n                  \"\n",
      "  },\n",
      "  {\n",
      "    \"URL\": \"/portal/stdportaloverview\",\n",
      "    \"Section\": \"Student Portal Resources\",\n",
      "    \"Subsection\": \"\",\n",
      "    \"Title\": \"\\n                    Student Portal Overview\\n                  \"\n",
      "  },\n",
      "  {\n",
      "    \"URL\": \"/portal/holds\",\n",
      "    \"Section\": \"Student Portal Resources\",\n",
      "    \"Subsection\": \"\",\n",
      "    \"Title\": \"\\n                    Holds on Student Accounts\\n                  \"\n",
      "  },\n",
      "  {\n",
      "    \"URL\": \"/portal/planning\",\n",
      "    \"Section\": \"Student Portal Resources\",\n",
      "    \"Subsection\": \"\",\n",
      "    \"Title\": \"\\n                    Academics: My Program\\n                  \"\n",
      "  },\n",
      "  {\n",
      "    \"URL\": \"/portal/certificates-and-degrees\",\n",
      "    \"Section\": \"Student Portal Resources\",\n",
      "    \"Subsection\": \"\",\n",
      "    \"Title\": \"\\n                    Academics: Certificates and Degrees\\n                  \"\n",
      "  },\n",
      "  {\n",
      "    \"URL\": \"/portal/degree-progress-audit\",\n",
      "    \"Section\": \"Student Portal Resources\",\n",
      "    \"Subsection\": \"\",\n",
      "    \"Title\": \"\\n                    Academics: Degree Progress Audit (DPA) Guide\\n                  \"\n",
      "  },\n",
      "  {\n",
      "    \"URL\": \"/portal/class-schedule\",\n",
      "    \"Section\": \"Student Portal Resources\",\n",
      "    \"Subsection\": \"\",\n",
      "    \"Title\": \"\\n                    Academics: Class Schedule\\n                  \"\n",
      "  },\n",
      "  {\n",
      "    \"URL\": \"/portal/personal-info-change\",\n",
      "    \"Section\": \"Student Portal Resources\",\n",
      "    \"Subsection\": \"\",\n",
      "    \"Title\": \"\\n                    My Profile: Demographic & Personal Information Changes\\n                  \"\n",
      "  },\n",
      "  {\n",
      "    \"URL\": \"/portal/privacy\",\n",
      "    \"Section\": \"Student Portal Resources\",\n",
      "    \"Subsection\": \"\",\n",
      "    \"Title\": \"\\n                    My Profile: Privacy Settings\\n                  \"\n",
      "  },\n",
      "  {\n",
      "    \"URL\": \"/portal/ordering-official-transcripts\",\n",
      "    \"Section\": \"Student Portal Resources\",\n",
      "    \"Subsection\": \"\",\n",
      "    \"Title\": \"\\n                    Documents: Transcripts\\n                  \"\n",
      "  }\n",
      "]\n",
      "16\n"
     ]
    }
   ],
   "source": [
    "# find all the a tags in the nav\n",
    "li_elems = nav.find_all(\"li\")\n",
    "# save the links and and content\n",
    "data = []\n",
    "for li in li_elems:\n",
    "    links = li.find_all(\"a\")\n",
    "    for link in links:\n",
    "        data.append(\n",
    "            {\n",
    "                \"URL\": link[\"href\"],\n",
    "                \"Section\": li.find(\"span\").text,\n",
    "                \"Subsection\": \"\",\n",
    "                \"Title\": link.find(\"span\").text,\n",
    "            }\n",
    "        )\n",
    "\n",
    "print(json.dumps(data, indent=2))\n",
    "print(len(data))\n"
   ]
  },
  {
   "cell_type": "code",
   "execution_count": 6,
   "metadata": {},
   "outputs": [],
   "source": [
    "# create a pandas data frame with the info, add the url at the begeining of the link\n",
    "df = pandas.DataFrame(data)\n",
    "df[\"URL\"] = url[:-1] + df[\"URL\"]\n",
    "df[\"Title\"] = df[\"Title\"].str.strip()\n",
    "df[\"filename\"] = df[\"URL\"].apply(generate_hash_filename)\n"
   ]
  },
  {
   "cell_type": "markdown",
   "metadata": {},
   "source": [
    "# Crawl with Playwright\n",
    "\n",
    "---\n"
   ]
  },
  {
   "cell_type": "code",
   "execution_count": 7,
   "metadata": {},
   "outputs": [],
   "source": [
    "# from playwright.async_api import async_playwright\n",
    "# from bs4 import BeautifulSoup\n"
   ]
  },
  {
   "cell_type": "code",
   "execution_count": 8,
   "metadata": {},
   "outputs": [],
   "source": [
    "# playwright = await async_playwright().start()\n",
    "# browser = await playwright.chromium.launch()\n",
    "# page = await browser.new_page()\n"
   ]
  },
  {
   "cell_type": "code",
   "execution_count": 9,
   "metadata": {},
   "outputs": [],
   "source": [
    "# for index, row in df.iterrows():\n",
    "#     await page.goto(row[\"URL\"])\n",
    "#     await page.wait_for_load_state()\n",
    "#     # loof if exist a div with role=\"tablist\"\n",
    "#     # convert the page content to a soup object\n",
    "#     content = await page.content()\n",
    "#     soup = BeautifulSoup(content, \"html.parser\")\n",
    "#     tablist = soup.find(\"div\", {\"role\": \"tablist\"})\n",
    "#     # if exist a tablist, get the content of the tabs\n",
    "#     if tablist:\n",
    "#         # como tab links existe, debemos dar click en cada uno de los links, en este orden:\n",
    "#         # click en el link\n",
    "#         # esperar a que cargue\n",
    "#         # obtener el contenido en soup.find(\"article\", class_=\"main-content\")\n",
    "#         # ir al siguiente link\n",
    "\n",
    "#         # get the links\n",
    "#         tab_links = tablist.find_all(\"a\")\n",
    "#         for tab_link in tab_links:\n",
    "#             print(tab_link[\"href\"])\n",
    "#             await page.goto(tab_link[\"href\"])\n",
    "#             await page.wait_for_load_state()\n",
    "#             content = await page.content()\n",
    "#             soup = BeautifulSoup(content, \"html.parser\")\n",
    "#             main_content = soup.find(\"article\", class_=\"main-content\")\n",
    "#             if main_content:\n",
    "#                 print(main_content.text)\n",
    "#             else:\n",
    "#                 print(\"No main content\")\n",
    "#     else:\n",
    "#         print(\"No tablist\")\n"
   ]
  },
  {
   "cell_type": "markdown",
   "metadata": {},
   "source": [
    "# Crawling Process\n",
    "\n",
    "---\n"
   ]
  },
  {
   "cell_type": "code",
   "execution_count": 10,
   "metadata": {},
   "outputs": [],
   "source": [
    "from utils.crawl import crawl_csv\n",
    "import asyncio\n"
   ]
  },
  {
   "cell_type": "code",
   "execution_count": null,
   "metadata": {},
   "outputs": [],
   "source": [
    "# # get the first element of the df, into a df\n",
    "# df = df.head(1)\n"
   ]
  },
  {
   "cell_type": "code",
   "execution_count": 12,
   "metadata": {},
   "outputs": [
    {
     "name": "stdout",
     "output_type": "stream",
     "text": [
      "../../data/data_6_11/crawl\n",
      "Working on  https://student-services.catalog.prod.coursedog.com/studentservices/academic-calendar\n"
     ]
    },
    {
     "name": "stderr",
     "output_type": "stream",
     "text": [
      "/home/isaiaszc/pathway/pathway-indexer/utils/crawl.py:97: FutureWarning: Series.__getitem__ treating keys as positions is deprecated. In a future version, integer keys will always be treated as labels (consistent with DataFrame behavior). To access a value by position, use `ser.iloc[pos]`\n",
      "  url = row[0]\n",
      "/home/isaiaszc/pathway/pathway-indexer/utils/crawl.py:98: FutureWarning: Series.__getitem__ treating keys as positions is deprecated. In a future version, integer keys will always be treated as labels (consistent with DataFrame behavior). To access a value by position, use `ser.iloc[pos]`\n",
      "  heading = row[1]\n",
      "/home/isaiaszc/pathway/pathway-indexer/utils/crawl.py:99: FutureWarning: Series.__getitem__ treating keys as positions is deprecated. In a future version, integer keys will always be treated as labels (consistent with DataFrame behavior). To access a value by position, use `ser.iloc[pos]`\n",
      "  sub_heading = row[2]\n",
      "/home/isaiaszc/pathway/pathway-indexer/utils/crawl.py:100: FutureWarning: Series.__getitem__ treating keys as positions is deprecated. In a future version, integer keys will always be treated as labels (consistent with DataFrame behavior). To access a value by position, use `ser.iloc[pos]`\n",
      "  title = row[3]\n",
      "/home/isaiaszc/pathway/pathway-indexer/utils/crawl.py:101: FutureWarning: Series.__getitem__ treating keys as positions is deprecated. In a future version, integer keys will always be treated as labels (consistent with DataFrame behavior). To access a value by position, use `ser.iloc[pos]`\n",
      "  filename = row[4]\n"
     ]
    },
    {
     "name": "stdout",
     "output_type": "stream",
     "text": [
      "crawling subpage:  https://student-services.catalog.prod.coursedog.com/studentservices/academic-calendar#general-information\n",
      "Processing completed. Output saved to ../../data/data_6_11/output_data.csv\n"
     ]
    }
   ],
   "source": [
    "async def main():\n",
    "    await crawl_csv(df, \"../../data/data_6_11\")\n",
    "\n",
    "\n",
    "asyncio.run(main())\n"
   ]
  }
 ],
 "metadata": {
  "kernelspec": {
   "display_name": ".venv",
   "language": "python",
   "name": "python3"
  },
  "language_info": {
   "codemirror_mode": {
    "name": "ipython",
    "version": 3
   },
   "file_extension": ".py",
   "mimetype": "text/x-python",
   "name": "python",
   "nbconvert_exporter": "python",
   "pygments_lexer": "ipython3",
   "version": "3.12.5"
  }
 },
 "nbformat": 4,
 "nbformat_minor": 2
}
