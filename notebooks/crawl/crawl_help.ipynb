{
 "cells": [
  {
   "cell_type": "code",
   "execution_count": null,
   "metadata": {},
   "outputs": [],
   "source": [
    "import pandas as pd\n",
    "import requests\n",
    "from playwright.async_api import async_playwright\n",
    "import zlib\n",
    "\n",
    "# from playwright.sync_api import sync_playwright\n"
   ]
  },
  {
   "cell_type": "code",
   "execution_count": null,
   "metadata": {},
   "outputs": [],
   "source": [
    "playwright = await async_playwright().start()\n",
    "browser = await playwright.chromium.launch(headless=False)\n",
    "page = await browser.new_page()\n"
   ]
  },
  {
   "cell_type": "code",
   "execution_count": null,
   "metadata": {},
   "outputs": [],
   "source": [
    "def generate_hash_filename(url):\n",
    "    \"\"\"Generate a hash of the URL to use as a filename.\"\"\"\n",
    "    url_hash = zlib.crc32(url.encode())\n",
    "    file_name = f\"{url_hash:x}\"\n",
    "    return file_name\n"
   ]
  },
  {
   "cell_type": "code",
   "execution_count": null,
   "metadata": {},
   "outputs": [],
   "source": [
    "save_path = \"../../data/data_30_10\"\n",
    "url = \"https://help.byupathway.edu/knowledgebase/\"\n"
   ]
  },
  {
   "cell_type": "code",
   "execution_count": null,
   "metadata": {},
   "outputs": [],
   "source": [
    "await page.goto(url)\n",
    "await page.wait_for_load_state()\n"
   ]
  },
  {
   "cell_type": "code",
   "execution_count": null,
   "metadata": {},
   "outputs": [
    {
     "name": "stderr",
     "output_type": "stream",
     "text": [
      "/tmp/ipykernel_16539/1682996073.py:4: RuntimeWarning: coroutine 'Page.query_selector' was never awaited\n",
      "  button = page.query_selector(\"#pagingButton\")\n",
      "RuntimeWarning: Enable tracemalloc to get the object allocation traceback\n"
     ]
    }
   ],
   "source": [
    "while True:\n",
    "    try:\n",
    "        await page.click(\"text=Show More...\")\n",
    "        button = page.query_selector(\"#pagingButton\")\n",
    "    except:\n",
    "        break\n"
   ]
  },
  {
   "cell_type": "code",
   "execution_count": null,
   "metadata": {},
   "outputs": [
    {
     "data": {
      "text/html": [
       "<div>\n",
       "<style scoped>\n",
       "    .dataframe tbody tr th:only-of-type {\n",
       "        vertical-align: middle;\n",
       "    }\n",
       "\n",
       "    .dataframe tbody tr th {\n",
       "        vertical-align: top;\n",
       "    }\n",
       "\n",
       "    .dataframe thead th {\n",
       "        text-align: right;\n",
       "    }\n",
       "</style>\n",
       "<table border=\"1\" class=\"dataframe\">\n",
       "  <thead>\n",
       "    <tr style=\"text-align: right;\">\n",
       "      <th></th>\n",
       "      <th>title</th>\n",
       "      <th>description</th>\n",
       "      <th>url</th>\n",
       "      <th>filename</th>\n",
       "    </tr>\n",
       "  </thead>\n",
       "  <tbody>\n",
       "    <tr>\n",
       "      <th>0</th>\n",
       "      <td>How long does it take to get a decision</td>\n",
       "      <td>How long will it take to get my admission deci...</td>\n",
       "      <td>https://help.byupathway.edu/knowledgebase/arti...</td>\n",
       "      <td>200631eb</td>\n",
       "    </tr>\n",
       "    <tr>\n",
       "      <th>1</th>\n",
       "      <td>Academic Misconduct Policies for PathwayConnec...</td>\n",
       "      <td>What are the policies for academic misconduct ...</td>\n",
       "      <td>https://help.byupathway.edu/knowledgebase/arti...</td>\n",
       "      <td>69b665df</td>\n",
       "    </tr>\n",
       "    <tr>\n",
       "      <th>2</th>\n",
       "      <td>PC - Disruptive Behavior</td>\n",
       "      <td>.</td>\n",
       "      <td>https://help.byupathway.edu/knowledgebase/arti...</td>\n",
       "      <td>c08db428</td>\n",
       "    </tr>\n",
       "    <tr>\n",
       "      <th>3</th>\n",
       "      <td>Institute/Religion Course Information</td>\n",
       "      <td>What are the requirements for transferring Ins...</td>\n",
       "      <td>https://help.byupathway.edu/knowledgebase/arti...</td>\n",
       "      <td>e49f35bd</td>\n",
       "    </tr>\n",
       "    <tr>\n",
       "      <th>4</th>\n",
       "      <td>Autodrop for EnglishConnect</td>\n",
       "      <td>What is Autodrop for EnglishConnect?</td>\n",
       "      <td>https://help.byupathway.edu/knowledgebase/arti...</td>\n",
       "      <td>e55d5f8a</td>\n",
       "    </tr>\n",
       "    <tr>\n",
       "      <th>...</th>\n",
       "      <td>...</td>\n",
       "      <td>...</td>\n",
       "      <td>...</td>\n",
       "      <td>...</td>\n",
       "    </tr>\n",
       "    <tr>\n",
       "      <th>122</th>\n",
       "      <td>Admission Requirements</td>\n",
       "      <td>Is there anything that could stop me from join...</td>\n",
       "      <td>https://help.byupathway.edu/knowledgebase/arti...</td>\n",
       "      <td>2b532722</td>\n",
       "    </tr>\n",
       "    <tr>\n",
       "      <th>123</th>\n",
       "      <td>Submitting Transfer Credits</td>\n",
       "      <td>Where do I go to submit my transfer credits?</td>\n",
       "      <td>https://help.byupathway.edu/knowledgebase/arti...</td>\n",
       "      <td>c49f2c39</td>\n",
       "    </tr>\n",
       "    <tr>\n",
       "      <th>124</th>\n",
       "      <td>Inviting Friends to Pathway</td>\n",
       "      <td>What are some ways I can encourage someone I k...</td>\n",
       "      <td>https://help.byupathway.edu/knowledgebase/arti...</td>\n",
       "      <td>ba2e5084</td>\n",
       "    </tr>\n",
       "    <tr>\n",
       "      <th>125</th>\n",
       "      <td>Viewing Account Holds</td>\n",
       "      <td>How do I view the holds on my account?</td>\n",
       "      <td>https://help.byupathway.edu/knowledgebase/arti...</td>\n",
       "      <td>34e7b84d</td>\n",
       "    </tr>\n",
       "    <tr>\n",
       "      <th>126</th>\n",
       "      <td>Applying for Tuition Discounts</td>\n",
       "      <td>Where can I apply for a tuition discount?</td>\n",
       "      <td>https://help.byupathway.edu/knowledgebase/arti...</td>\n",
       "      <td>c3f2e820</td>\n",
       "    </tr>\n",
       "  </tbody>\n",
       "</table>\n",
       "<p>127 rows × 4 columns</p>\n",
       "</div>"
      ],
      "text/plain": [
       "                                                 title  \\\n",
       "0              How long does it take to get a decision   \n",
       "1    Academic Misconduct Policies for PathwayConnec...   \n",
       "2                             PC - Disruptive Behavior   \n",
       "3                Institute/Religion Course Information   \n",
       "4                          Autodrop for EnglishConnect   \n",
       "..                                                 ...   \n",
       "122                             Admission Requirements   \n",
       "123                        Submitting Transfer Credits   \n",
       "124                        Inviting Friends to Pathway   \n",
       "125                              Viewing Account Holds   \n",
       "126                     Applying for Tuition Discounts   \n",
       "\n",
       "                                           description  \\\n",
       "0    How long will it take to get my admission deci...   \n",
       "1    What are the policies for academic misconduct ...   \n",
       "2                                                    .   \n",
       "3    What are the requirements for transferring Ins...   \n",
       "4                 What is Autodrop for EnglishConnect?   \n",
       "..                                                 ...   \n",
       "122  Is there anything that could stop me from join...   \n",
       "123       Where do I go to submit my transfer credits?   \n",
       "124  What are some ways I can encourage someone I k...   \n",
       "125             How do I view the holds on my account?   \n",
       "126          Where can I apply for a tuition discount?   \n",
       "\n",
       "                                                   url  filename  \n",
       "0    https://help.byupathway.edu/knowledgebase/arti...  200631eb  \n",
       "1    https://help.byupathway.edu/knowledgebase/arti...  69b665df  \n",
       "2    https://help.byupathway.edu/knowledgebase/arti...  c08db428  \n",
       "3    https://help.byupathway.edu/knowledgebase/arti...  e49f35bd  \n",
       "4    https://help.byupathway.edu/knowledgebase/arti...  e55d5f8a  \n",
       "..                                                 ...       ...  \n",
       "122  https://help.byupathway.edu/knowledgebase/arti...  2b532722  \n",
       "123  https://help.byupathway.edu/knowledgebase/arti...  c49f2c39  \n",
       "124  https://help.byupathway.edu/knowledgebase/arti...  ba2e5084  \n",
       "125  https://help.byupathway.edu/knowledgebase/arti...  34e7b84d  \n",
       "126  https://help.byupathway.edu/knowledgebase/arti...  c3f2e820  \n",
       "\n",
       "[127 rows x 4 columns]"
      ]
     },
     "execution_count": 7,
     "metadata": {},
     "output_type": "execute_result"
    }
   ],
   "source": [
    "# get the element with id articleList\n",
    "articles = await page.query_selector(\"#articleList\")\n",
    "# get all the links inside it, the link is the a tag, the title in the h5 tag inside the a tag and the descripcion in the p tag inside the a tag\n",
    "links = await articles.query_selector_all(\"a\")\n",
    "data = []\n",
    "for link in links:\n",
    "    title = await link.query_selector(\"h5\")\n",
    "    description = await link.query_selector(\"p\")\n",
    "    filename = generate_hash_filename(url + await link.get_attribute(\"href\"))\n",
    "    data.append(\n",
    "        {\n",
    "            \"title\": await title.inner_text(),\n",
    "            \"description\": await description.inner_text(),\n",
    "            \"url\": url + await link.get_attribute(\"href\"),\n",
    "            \"filename\": filename,\n",
    "        }\n",
    "    )\n",
    "\n",
    "df = pd.DataFrame(data)\n",
    "df\n"
   ]
  },
  {
   "cell_type": "code",
   "execution_count": 11,
   "metadata": {},
   "outputs": [],
   "source": [
    "# save the df in a csv file\n",
    "df.to_csv(f\"{save_path}/articles.csv\", index=False)\n"
   ]
  },
  {
   "cell_type": "code",
   "execution_count": null,
   "metadata": {},
   "outputs": [],
   "source": [
    "for index, row in df.iterrows():\n",
    "    await page.goto(row[\"url\"])\n",
    "    await page.wait_for_load_state()\n",
    "    content = await page.query_selector(\".wrapper-body\")\n",
    "    post_content = await content.inner_html()\n",
    "    if post_content:\n",
    "        with open(f\"{save_path}/crawl/{row[\"filename\"]}.html\", \"w\") as f:\n",
    "            f.write(post_content)\n",
    "    "
   ]
  },
  {
   "cell_type": "code",
   "execution_count": null,
   "metadata": {},
   "outputs": [],
   "source": [
    "await browser.close()\n"
   ]
  }
 ],
 "metadata": {
  "kernelspec": {
   "display_name": ".venv",
   "language": "python",
   "name": "python3"
  },
  "language_info": {
   "codemirror_mode": {
    "name": "ipython",
    "version": 3
   },
   "file_extension": ".py",
   "mimetype": "text/x-python",
   "name": "python",
   "nbconvert_exporter": "python",
   "pygments_lexer": "ipython3",
   "version": "3.12.5"
  }
 },
 "nbformat": 4,
 "nbformat_minor": 2
}
