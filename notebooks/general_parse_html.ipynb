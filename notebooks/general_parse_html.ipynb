{
 "cells": [
  {
   "cell_type": "code",
   "execution_count": 11,
   "metadata": {},
   "outputs": [],
   "source": [
    "import os\n",
    "from bs4 import BeautifulSoup\n",
    "from markdownify import markdownify as md\n",
    "\n",
    "from llama_parse import LlamaParse\n",
    "from llama_index.core import SimpleDirectoryReader\n",
    "import time\n",
    "import nest_asyncio\n",
    "from dotenv import load_dotenv\n"
   ]
  },
  {
   "cell_type": "code",
   "execution_count": 12,
   "metadata": {},
   "outputs": [
    {
     "data": {
      "text/plain": [
       "True"
      ]
     },
     "execution_count": 12,
     "metadata": {},
     "output_type": "execute_result"
    }
   ],
   "source": [
    "nest_asyncio.apply()\n",
    "load_dotenv()\n"
   ]
  },
  {
   "cell_type": "code",
   "execution_count": 13,
   "metadata": {},
   "outputs": [],
   "source": [
    "html_dir = \"../data/html/\"\n",
    "outpath = \"../data/out_2_9/\"\n"
   ]
  },
  {
   "cell_type": "markdown",
   "metadata": {},
   "source": [
    "## Helper functions\n"
   ]
  },
  {
   "cell_type": "code",
   "execution_count": 14,
   "metadata": {},
   "outputs": [],
   "source": [
    "def clean_html(soup):\n",
    "    # Extract the title text\n",
    "    title_text = soup.title.string if soup.title else None\n",
    "\n",
    "    # Remove unnecessary elements\n",
    "    for tag in soup(\n",
    "        [\"head\", \"style\", \"script\", \"img\", \"svg\", \"meta\", \"link\", \"iframe\", \"noscript\"]\n",
    "    ):\n",
    "        tag.decompose()\n",
    "\n",
    "    # Determine the content container (main or body)\n",
    "    content = soup.main or soup.body\n",
    "\n",
    "    if content and title_text:\n",
    "        # Create a title header and insert it at the beginning\n",
    "        title_header = soup.new_tag(\"h1\")\n",
    "        title_header.string = title_text\n",
    "        content.insert(0, title_header)\n",
    "\n",
    "    return (\n",
    "        content or soup\n",
    "    )  # Return the cleaned content or the entire soup as a fallback\n"
   ]
  },
  {
   "cell_type": "code",
   "execution_count": 15,
   "metadata": {},
   "outputs": [],
   "source": [
    "def convert_html_to_markdown(html_content):\n",
    "    # Parse the HTML content\n",
    "    soup = BeautifulSoup(html_content, \"html.parser\")\n",
    "\n",
    "    # Clean the HTML content\n",
    "    soup = clean_html(soup)\n",
    "\n",
    "    # Convert the cleaned HTML to Markdown\n",
    "    markdown_content = md(str(soup))\n",
    "\n",
    "    return markdown_content\n"
   ]
  },
  {
   "cell_type": "markdown",
   "metadata": {},
   "source": [
    "# Convert process\n"
   ]
  },
  {
   "cell_type": "code",
   "execution_count": 16,
   "metadata": {},
   "outputs": [
    {
     "name": "stdout",
     "output_type": "stream",
     "text": [
      "['-Administering-the-Assessment.html', '-Admission-Decisions.html', '-Admission-Requirements.html', '-Admission-to-a-Program-Type.html', '-After-PathwayConnect.html', '-Answers-to-Your-Questions-about-Ecclesiastical-Endorsement.html', '-Application-Deadline.html', '-Application-Process.html', '-Assistance-for-Students-with-Disabilities.html', '-Attendance.html', '-BYU-Idaho-Course-Exceptions.html', '-BYU-Pathway-Area-Managers.html', '-BYU-Pathway-Support.html', '-BYU-Pathway-Worldwide-Communications.html', '-BYU-Pathway-Worldwide-Website.html', '-Blog-Articles.html', '-CES-Honor-Code.html', '-Calculating-Tuition.html', '-Certificates--Degrees.html', '-Cheating.html']\n"
     ]
    }
   ],
   "source": [
    "# load the first file inside the html_dir to test\n",
    "files = os.listdir(html_dir)\n",
    "files.sort()\n",
    "filenames = files[:20]\n",
    "print(filenames)\n"
   ]
  },
  {
   "cell_type": "code",
   "execution_count": 17,
   "metadata": {},
   "outputs": [
    {
     "name": "stdout",
     "output_type": "stream",
     "text": [
      "-Administering-the-Assessment.html\n",
      "-Admission-Decisions.html\n",
      "-Admission-Requirements.html\n",
      "-Admission-to-a-Program-Type.html\n",
      "-After-PathwayConnect.html\n",
      "-Answers-to-Your-Questions-about-Ecclesiastical-Endorsement.html\n",
      "-Application-Deadline.html\n",
      "-Application-Process.html\n",
      "-Assistance-for-Students-with-Disabilities.html\n",
      "-Attendance.html\n",
      "-BYU-Idaho-Course-Exceptions.html\n",
      "-BYU-Pathway-Area-Managers.html\n",
      "-BYU-Pathway-Support.html\n",
      "-BYU-Pathway-Worldwide-Communications.html\n",
      "-BYU-Pathway-Worldwide-Website.html\n",
      "-Blog-Articles.html\n",
      "-CES-Honor-Code.html\n",
      "-Calculating-Tuition.html\n",
      "-Certificates--Degrees.html\n",
      "-Cheating.html\n"
     ]
    }
   ],
   "source": [
    "# load the file\n",
    "for filename in filenames:\n",
    "    with open(html_dir + filename, \"r\") as file:\n",
    "        html_content = file.read()\n",
    "\n",
    "    print(filename)\n",
    "    # Convert the HTML content to Markdown\n",
    "    markdown_content = convert_html_to_markdown(html_content)\n",
    "\n",
    "    # Save the Markdown content to a file\n",
    "    with open(outpath + filename.replace(\".html\", \".txt\"), \"w\") as file:\n",
    "        file.write(markdown_content)\n"
   ]
  },
  {
   "cell_type": "markdown",
   "metadata": {},
   "source": [
    "# Convert with LlamaParse\n"
   ]
  },
  {
   "cell_type": "code",
   "execution_count": 18,
   "metadata": {},
   "outputs": [],
   "source": [
    "parser = LlamaParse(\n",
    "    result_type=\"markdown\",  # \"markdown\" and \"text\" are available\n",
    "    parsing_instruction=(\n",
    "        \"Convert the provided text into accurate and well-structured Markdown format, strictly preserving the original structure. \"\n",
    "        \"Use headers from H1 to H3 only where they naturally occur in the text, and do not create additional headers or modify existing ones. \"\n",
    "        \"Do not split the text into multiple sections or alter the sequence of content. \"\n",
    "        \"Detect bold, large, or all-uppercase text as headers only if they represent a natural section break in the original text. \"\n",
    "        \"Preserve all links, ensuring that they remain correctly formatted and in their original place in the text. \"\n",
    "        \"Maintain bullet points and numbered lists with proper indentation to reflect any nested lists, ensuring list numbers remain in sequence. \"\n",
    "        \"If the text is not a header, ensure that bold and italic text is properly formatted using double **asterisks** for bold and single *asterisks* for italic. \"\n",
    "        \"Detect and correctly format blockquotes using the '>' symbol for any quoted text, but do not reformat text that is already in correct Markdown format. \"\n",
    "        \"Respect the original line breaks and text flow, avoiding unnecessary splits, merges, or reordering of content. \"\n",
    "        \"If any tables are detected, parse them as a title (bold header) followed by list items, but do not reformat existing Markdown tables. \"\n",
    "        \"Merge identical headers only if they represent the same section and their content is identical, ensuring no changes to the order of the text. \"\n",
    "        \"Do not enclose fragments of code/Markdown or any other content in triple backticks unless they are explicitly formatted as code blocks in the original text. \"\n",
    "        \"Ensure that the final output is a clean, concise Markdown document that closely reflects the original text's intent and structure, without adding or omitting any content.\"\n",
    "    ),\n",
    ")\n"
   ]
  },
  {
   "cell_type": "code",
   "execution_count": 19,
   "metadata": {},
   "outputs": [],
   "source": [
    "file_extractor = {\".txt\": parser}\n",
    "\n",
    "\n",
    "def parse_txt_to_md(file):\n",
    "    load_file = outpath + file.replace(\".html\", \".txt\")\n",
    "\n",
    "    documents = SimpleDirectoryReader(\n",
    "        input_files=[load_file], file_extractor=file_extractor\n",
    "    ).load_data()\n",
    "\n",
    "    size = sum([len(doc.text) for doc in documents])\n",
    "\n",
    "    out_name = f\"{outpath}{file.replace('.html', '.md')}\"\n",
    "    # out_name = file.replace(\".txt\", \".md\")\n",
    "    with open(out_name, \"w\") as f:\n",
    "        for doc in documents:\n",
    "            f.write(doc.text)\n",
    "            f.write(\"\\n\\n\")\n",
    "        print(out_name, \"saved.\")\n",
    "\n",
    "    # delete the txt file\n",
    "    os.remove(load_file)\n",
    "    return size\n"
   ]
  },
  {
   "cell_type": "code",
   "execution_count": 20,
   "metadata": {},
   "outputs": [
    {
     "name": "stdout",
     "output_type": "stream",
     "text": [
      "Started parsing the file under job_id 5809450c-6fe0-4aef-896c-2d1e9138d670\n",
      "../data/out_2_9/-Administering-the-Assessment.md saved.\n",
      "Started parsing the file under job_id b3a9c9b5-0a30-4a8c-a8e7-0422e709ab2f\n",
      "../data/out_2_9/-Admission-Decisions.md saved.\n",
      "Started parsing the file under job_id a0d882ac-22ef-4e52-8955-e8ea533ed528\n",
      "../data/out_2_9/-Admission-Requirements.md saved.\n",
      "Started parsing the file under job_id cc2bc196-6b06-4da3-8e87-1517a888015f\n",
      "../data/out_2_9/-Admission-to-a-Program-Type.md saved.\n",
      "Started parsing the file under job_id 57c4f8cd-c3b7-4d66-b74f-df5f38aff83a\n",
      "../data/out_2_9/-After-PathwayConnect.md saved.\n",
      "Started parsing the file under job_id bb3be3ad-4b35-4878-8799-261c7e314364\n",
      "../data/out_2_9/-Answers-to-Your-Questions-about-Ecclesiastical-Endorsement.md saved.\n",
      "Started parsing the file under job_id af065834-7a05-4215-84ed-df039015fdfe\n",
      "../data/out_2_9/-Application-Deadline.md saved.\n",
      "Started parsing the file under job_id a13f3284-0a0b-48bd-ab7d-4328f488bbd0\n",
      "../data/out_2_9/-Application-Process.md saved.\n",
      "Started parsing the file under job_id 92107456-b527-47c7-8ea0-f65acfbd227d\n",
      "../data/out_2_9/-Assistance-for-Students-with-Disabilities.md saved.\n",
      "Started parsing the file under job_id b08bceff-e38e-4e3e-b754-365627a25857\n",
      "../data/out_2_9/-Attendance.md saved.\n",
      "Started parsing the file under job_id ae4ab756-6914-4f59-84a8-7368ea5f6601\n",
      "../data/out_2_9/-BYU-Idaho-Course-Exceptions.md saved.\n",
      "Started parsing the file under job_id 958b3f17-cd5e-4db0-857a-0a4e1b3b0bc0\n",
      "../data/out_2_9/-BYU-Pathway-Area-Managers.md saved.\n",
      "Started parsing the file under job_id 1d44ae03-976a-4a70-a690-0e7673eca26b\n",
      "../data/out_2_9/-BYU-Pathway-Support.md saved.\n",
      "Started parsing the file under job_id c0303b89-6995-4afb-8be9-95c5cb16ee63\n",
      "../data/out_2_9/-BYU-Pathway-Worldwide-Communications.md saved.\n",
      "Started parsing the file under job_id 56457441-fe1b-455e-a1de-c935d1a8cbef\n",
      "../data/out_2_9/-BYU-Pathway-Worldwide-Website.md saved.\n",
      "Started parsing the file under job_id 683e4a74-7931-4d3a-8cd5-ceb8d66c144f\n",
      "../data/out_2_9/-Blog-Articles.md saved.\n",
      "Started parsing the file under job_id 52742879-e930-4e35-afd7-0ac7d07e9aa8\n",
      "../data/out_2_9/-CES-Honor-Code.md saved.\n",
      "Started parsing the file under job_id cd8ad832-301b-406d-897a-cebd4ea0bf45\n",
      "../data/out_2_9/-Calculating-Tuition.md saved.\n",
      "Started parsing the file under job_id f1cde823-25b0-4dc7-95df-9972c9f2f32d\n",
      "../data/out_2_9/-Certificates--Degrees.md saved.\n",
      "Started parsing the file under job_id 8dd0a214-6c8e-42fb-8a0c-cfad7f2513de\n",
      "../data/out_2_9/-Cheating.md saved.\n"
     ]
    }
   ],
   "source": [
    "for idx, file in enumerate(filenames):\n",
    "    # limit_try = 2\n",
    "    # size = parse_txt_to_md(file)\n",
    "\n",
    "    # while size < (file[\"size\"] - 300) and limit_try > 0:\n",
    "    try:\n",
    "        time.sleep(2)\n",
    "        size = parse_txt_to_md(file)\n",
    "    except Exception as e:\n",
    "        print(f\"Error processing file {file}.\")\n",
    "        time.sleep(2)\n"
   ]
  }
 ],
 "metadata": {
  "kernelspec": {
   "display_name": ".venv",
   "language": "python",
   "name": "python3"
  },
  "language_info": {
   "codemirror_mode": {
    "name": "ipython",
    "version": 3
   },
   "file_extension": ".py",
   "mimetype": "text/x-python",
   "name": "python",
   "nbconvert_exporter": "python",
   "pygments_lexer": "ipython3",
   "version": "3.12.5"
  }
 },
 "nbformat": 4,
 "nbformat_minor": 2
}
