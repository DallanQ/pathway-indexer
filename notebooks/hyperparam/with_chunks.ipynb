{
 "cells": [
  {
   "cell_type": "code",
   "execution_count": 1,
   "metadata": {},
   "outputs": [],
   "source": [
    "import pandas as pd\n",
    "import os\n",
    "\n",
    "import chromadb\n",
    "from llama_index.core import VectorStoreIndex\n",
    "from llama_index.core.ingestion import IngestionPipeline\n",
    "from llama_index.core.node_parser import (\n",
    "    SentenceSplitter,\n",
    "    SemanticSplitterNodeParser,\n",
    "    MarkdownNodeParser,\n",
    ")\n",
    "\n",
    "from llama_index.core import Document\n",
    "from llama_index.core.vector_stores.types import VectorStoreQueryMode\n",
    "from llama_index.vector_stores.chroma import ChromaVectorStore\n",
    "from llama_index.embeddings.openai import OpenAIEmbedding\n"
   ]
  },
  {
   "cell_type": "code",
   "execution_count": 2,
   "metadata": {},
   "outputs": [],
   "source": [
    "datapath = \"../../data\"\n"
   ]
  },
  {
   "cell_type": "code",
   "execution_count": 3,
   "metadata": {},
   "outputs": [],
   "source": [
    "embed_model_name = \"text-embedding-3-large\"\n",
    "\n",
    "embed_model = OpenAIEmbedding(\n",
    "    model=embed_model_name,\n",
    "    embed_batch_size=10,\n",
    "    max_retries=10,\n",
    "    timeout=180,\n",
    "    reuse_client=False,\n",
    ")\n"
   ]
  },
  {
   "cell_type": "code",
   "execution_count": 4,
   "metadata": {},
   "outputs": [],
   "source": [
    "chroma_client = chromadb.EphemeralClient()\n",
    "# delete collection if it exists\n",
    "if any(coll.name == \"test\" for coll in chroma_client.list_collections()):\n",
    "    chroma_client.delete_collection(\"test\")\n",
    "chroma_collection = chroma_client.create_collection(\"test\")\n",
    "vector_store = ChromaVectorStore(chroma_collection=chroma_collection)\n"
   ]
  },
  {
   "cell_type": "code",
   "execution_count": 5,
   "metadata": {},
   "outputs": [],
   "source": [
    "# SEMANTIC SPLITTER\n",
    "buffer_size = 1\n",
    "splitter = SemanticSplitterNodeParser(\n",
    "    buffer_size=buffer_size,\n",
    "    breakpoint_percentile_threshold=81,\n",
    "    include_prev_next_rel=False,\n",
    "    embed_model=embed_model,\n",
    ")\n"
   ]
  },
  {
   "cell_type": "code",
   "execution_count": 6,
   "metadata": {},
   "outputs": [],
   "source": [
    "# create a simple ingestion pipeline: chunk the documents and create embeddings\n",
    "pipeline = IngestionPipeline(\n",
    "    transformations=[\n",
    "        splitter,\n",
    "        embed_model,\n",
    "    ]\n",
    ")\n"
   ]
  },
  {
   "cell_type": "code",
   "execution_count": 7,
   "metadata": {},
   "outputs": [],
   "source": [
    "index = VectorStoreIndex.from_vector_store(\n",
    "    vector_store,\n",
    "    embed_model=embed_model,\n",
    ")\n"
   ]
  },
  {
   "cell_type": "markdown",
   "metadata": {},
   "source": [
    "## Load Files\n"
   ]
  },
  {
   "cell_type": "code",
   "execution_count": 8,
   "metadata": {},
   "outputs": [
    {
     "data": {
      "text/plain": [
       "['../../data/out_sep_4/from_html/-Admission-Requirements.md',\n",
       " '../../data/out_sep_4/from_html/-After-PathwayConnect.md',\n",
       " '../../data/out_sep_4/from_html/-Answers-to-Your-Questions-about-Ecclesiastical-Endorsement.md',\n",
       " '../../data/out_sep_4/from_html/-Application-Process.md',\n",
       " '../../data/out_sep_4/from_html/-Assistance-for-Students-with-Disabilities.md',\n",
       " '../../data/out_sep_4/from_html/-BYU-Idaho-Course-Exceptions.md',\n",
       " '../../data/out_sep_4/from_html/-BYU-Pathway-Support.md',\n",
       " '../../data/out_sep_4/from_html/-BYU-Pathway-Worldwide-Website.md',\n",
       " '../../data/out_sep_4/from_html/-Common-Misconceptions-about-Choosing-Certificates.md',\n",
       " '../../data/out_sep_4/from_html/-Communication-Resources.md']"
      ]
     },
     "execution_count": 8,
     "metadata": {},
     "output_type": "execute_result"
    }
   ],
   "source": [
    "origin_paths = [f\"{datapath}/out_sep_4/from_html/\", f\"{datapath}/out_sep_4/from_pdf/\"]\n",
    "\n",
    "# Read the document names from the directories:\n",
    "files_list = [path + item for path in origin_paths for item in os.listdir(path)]\n",
    "\n",
    "files_list.sort()\n",
    "files_list[0:10]\n"
   ]
  },
  {
   "cell_type": "code",
   "execution_count": 9,
   "metadata": {},
   "outputs": [],
   "source": [
    "documents = []\n",
    "\n",
    "for i, filepath in enumerate(files_list):\n",
    "    with open(filepath, \"r\", encoding=\"utf-8\") as file:\n",
    "        document = Document(text=file.read(), metadata={\"filepath\": filepath})\n",
    "\n",
    "        # add the document to a single entry list\n",
    "        documents.append(document)\n"
   ]
  },
  {
   "cell_type": "code",
   "execution_count": 10,
   "metadata": {},
   "outputs": [
    {
     "name": "stdout",
     "output_type": "stream",
     "text": [
      "Nodes inserted: 2660\n"
     ]
    }
   ],
   "source": [
    "# run the pipeline to generate nodes\n",
    "nodes = pipeline.run(documents=documents)\n",
    "# print('nodes', len(nodes))\n",
    "\n",
    "# Inserta nodos en el índice\n",
    "index.insert_nodes(nodes)\n",
    "\n",
    "print(f\"Nodes inserted: {len(nodes)}\")\n"
   ]
  },
  {
   "cell_type": "code",
   "execution_count": 11,
   "metadata": {},
   "outputs": [],
   "source": [
    "query_mode = VectorStoreQueryMode.DEFAULT\n",
    "\n",
    "top_k = 16\n",
    "sparse_top_k = 16 * 5\n",
    "\n",
    "# create a retriever from the index\n",
    "retriever = index.as_retriever(\n",
    "    vector_store_query_mode=query_mode,\n",
    "    similarity_top_k=top_k,\n",
    "    sparse_top_k=sparse_top_k,\n",
    ")\n"
   ]
  },
  {
   "cell_type": "markdown",
   "metadata": {},
   "source": [
    "## Retrieve the data from CSV\n"
   ]
  },
  {
   "cell_type": "code",
   "execution_count": 15,
   "metadata": {},
   "outputs": [
    {
     "data": {
      "text/html": [
       "<div>\n",
       "<style scoped>\n",
       "    .dataframe tbody tr th:only-of-type {\n",
       "        vertical-align: middle;\n",
       "    }\n",
       "\n",
       "    .dataframe tbody tr th {\n",
       "        vertical-align: top;\n",
       "    }\n",
       "\n",
       "    .dataframe thead th {\n",
       "        text-align: right;\n",
       "    }\n",
       "</style>\n",
       "<table border=\"1\" class=\"dataframe\">\n",
       "  <thead>\n",
       "    <tr style=\"text-align: right;\">\n",
       "      <th></th>\n",
       "      <th>Question</th>\n",
       "      <th>Ideal Answer</th>\n",
       "      <th>Link</th>\n",
       "      <th>Quote</th>\n",
       "    </tr>\n",
       "  </thead>\n",
       "  <tbody>\n",
       "    <tr>\n",
       "      <th>0</th>\n",
       "      <td>How do I know if a student has a scholarship?</td>\n",
       "      <td>Missionaries can see if a student has a schola...</td>\n",
       "      <td>https://missionaries.prod.byu-pathway.psdops.c...</td>\n",
       "      <td>Discounts/Scholarships Tab\\nView the scholarsh...</td>\n",
       "    </tr>\n",
       "    <tr>\n",
       "      <th>1</th>\n",
       "      <td>How do I know if a student is registered for a...</td>\n",
       "      <td>There is not a way for Missionaries to verify ...</td>\n",
       "      <td>https://missionaries.prod.byu-pathway.psdops.c...</td>\n",
       "      <td>Checking for Institute Registration for Colleg...</td>\n",
       "    </tr>\n",
       "    <tr>\n",
       "      <th>2</th>\n",
       "      <td>How do I know if student is member of the church?</td>\n",
       "      <td>Missionaries can see the Church membership sta...</td>\n",
       "      <td>https://missionaries.prod.byu-pathway.psdops.c...</td>\n",
       "      <td>Verify a Learner’s Membership Status\\n1. In th...</td>\n",
       "    </tr>\n",
       "    <tr>\n",
       "      <th>3</th>\n",
       "      <td>What information should I track for each student?</td>\n",
       "      <td>The most important things Missionaries should ...</td>\n",
       "      <td>https://missionaries.prod.byu-pathway.psdops.c...</td>\n",
       "      <td>Monitoring Student Progress\\nTime in Course—ho...</td>\n",
       "    </tr>\n",
       "    <tr>\n",
       "      <th>4</th>\n",
       "      <td>What to do If a student has already taken this...</td>\n",
       "      <td>For a student that is in a course that they ha...</td>\n",
       "      <td>https://pathway-missionary.powerappsportals.co...</td>\n",
       "      <td>Link 1:\\nWHAT TO WATCH FOR\\nWhen you start a n...</td>\n",
       "    </tr>\n",
       "  </tbody>\n",
       "</table>\n",
       "</div>"
      ],
      "text/plain": [
       "                                            Question  \\\n",
       "0      How do I know if a student has a scholarship?   \n",
       "1  How do I know if a student is registered for a...   \n",
       "2  How do I know if student is member of the church?   \n",
       "3  What information should I track for each student?   \n",
       "4  What to do If a student has already taken this...   \n",
       "\n",
       "                                        Ideal Answer  \\\n",
       "0  Missionaries can see if a student has a schola...   \n",
       "1  There is not a way for Missionaries to verify ...   \n",
       "2  Missionaries can see the Church membership sta...   \n",
       "3  The most important things Missionaries should ...   \n",
       "4  For a student that is in a course that they ha...   \n",
       "\n",
       "                                                Link  \\\n",
       "0  https://missionaries.prod.byu-pathway.psdops.c...   \n",
       "1  https://missionaries.prod.byu-pathway.psdops.c...   \n",
       "2  https://missionaries.prod.byu-pathway.psdops.c...   \n",
       "3  https://missionaries.prod.byu-pathway.psdops.c...   \n",
       "4  https://pathway-missionary.powerappsportals.co...   \n",
       "\n",
       "                                               Quote  \n",
       "0  Discounts/Scholarships Tab\\nView the scholarsh...  \n",
       "1  Checking for Institute Registration for Colleg...  \n",
       "2  Verify a Learner’s Membership Status\\n1. In th...  \n",
       "3  Monitoring Student Progress\\nTime in Course—ho...  \n",
       "4  Link 1:\\nWHAT TO WATCH FOR\\nWhen you start a n...  "
      ]
     },
     "execution_count": 15,
     "metadata": {},
     "output_type": "execute_result"
    }
   ],
   "source": [
    "df = pd.read_csv(f\"{datapath}/temporary/index_single_quotes.csv\")\n",
    "\n",
    "df.head()\n"
   ]
  },
  {
   "cell_type": "code",
   "execution_count": 17,
   "metadata": {},
   "outputs": [
    {
     "name": "stdout",
     "output_type": "stream",
     "text": [
      "Number of rows: 112\n"
     ]
    }
   ],
   "source": [
    "# drop the empty questions\n",
    "df = df.dropna(subset=[\"Question\"])\n",
    "\n",
    "# cuenta cuantas rows hay\n",
    "print(f\"Number of rows: {len(df)}\")\n"
   ]
  },
  {
   "cell_type": "code",
   "execution_count": 19,
   "metadata": {},
   "outputs": [
    {
     "name": "stdout",
     "output_type": "stream",
     "text": [
      "Skipping question How do students contact a tutor?  due to missing quote.\n",
      "Skipping question How can a student change the name on their PathwayConnect certificate? due to missing quote.\n",
      "Skipping question Is there an exception request link for online degree students? due to missing quote.\n",
      "Skipping question How can I give missionaries or a BOM to friends of the church? due to missing quote.\n",
      "Skipping question What scholarships are available? due to missing quote.\n",
      "Skipping question How can I help students pay tuition? due to missing quote.\n",
      "Skipping question What to do after the gathering due to missing quote.\n",
      "Total errors encountered: 0\n"
     ]
    }
   ],
   "source": [
    "import numpy as np\n",
    "\n",
    "retrieved_chunks_dict = {}  # Para almacenar los chunks recuperados para cada pregunta\n",
    "error_count = 0\n",
    "\n",
    "# Procesa cada pregunta y recupera los chunks\n",
    "for idx, row in df.iterrows():\n",
    "    question = row[\"Question\"]\n",
    "    quote = row[\"Quote\"]\n",
    "    link = row[\"Link\"]\n",
    "\n",
    "    # Asegurarse de que quote sea una cadena de texto, si no, omitir la pregunta\n",
    "    if pd.isna(quote):\n",
    "        print(f\"Skipping question {question} due to missing quote.\")\n",
    "        continue\n",
    "\n",
    "    quote = str(quote)  # Convertir quote a cadena de texto, si es necesario\n",
    "\n",
    "    # Recuperar chunks relacionados con la pregunta\n",
    "    try:\n",
    "        retrieved_chunks = retriever.retrieve(question)\n",
    "    except Exception as e:\n",
    "        error_count += 1\n",
    "        print(f\"Error retrieving chunks for question: {question}\")\n",
    "        print(e)\n",
    "        continue\n",
    "\n",
    "    # Calcular el recall: cuántos chunks recuperados contienen el quote\n",
    "    relevant_chunks = []\n",
    "    for chunk in retrieved_chunks:\n",
    "        chunk_text = (\n",
    "            str(chunk.text) if isinstance(chunk.text, str) else \"\"\n",
    "        )  # Asegurarse de que el chunk sea texto\n",
    "        if quote in chunk_text:\n",
    "            relevant_chunks.append(chunk)\n",
    "\n",
    "    recall = len(relevant_chunks) / len(retrieved_chunks) if retrieved_chunks else 0\n",
    "\n",
    "    # Almacenar los datos en el diccionario\n",
    "    retrieved_chunks_dict[question] = {\n",
    "        \"quote\": quote,\n",
    "        \"link\": link,\n",
    "        \"retrieved_chunks\": [chunk.text for chunk in retrieved_chunks],\n",
    "        \"recall\": recall,\n",
    "    }\n",
    "\n",
    "print(f\"Total errors encountered: {error_count}\")\n"
   ]
  },
  {
   "cell_type": "code",
   "execution_count": 32,
   "metadata": {},
   "outputs": [
    {
     "data": {
      "text/html": [
       "<div>\n",
       "<style scoped>\n",
       "    .dataframe tbody tr th:only-of-type {\n",
       "        vertical-align: middle;\n",
       "    }\n",
       "\n",
       "    .dataframe tbody tr th {\n",
       "        vertical-align: top;\n",
       "    }\n",
       "\n",
       "    .dataframe thead th {\n",
       "        text-align: right;\n",
       "    }\n",
       "</style>\n",
       "<table border=\"1\" class=\"dataframe\">\n",
       "  <thead>\n",
       "    <tr style=\"text-align: right;\">\n",
       "      <th></th>\n",
       "      <th>Question</th>\n",
       "      <th>Quote</th>\n",
       "      <th>Link</th>\n",
       "      <th>Retrieved Chunks</th>\n",
       "      <th>Recall</th>\n",
       "    </tr>\n",
       "  </thead>\n",
       "  <tbody>\n",
       "    <tr>\n",
       "      <th>0</th>\n",
       "      <td>How do I know if a student has a scholarship?</td>\n",
       "      <td>Discounts/Scholarships Tab\\nView the scholarsh...</td>\n",
       "      <td>https://missionaries.prod.byu-pathway.psdops.c...</td>\n",
       "      <td>[1. , Go to the Discounts/Scholarships tab on ...</td>\n",
       "      <td>0.0</td>\n",
       "    </tr>\n",
       "    <tr>\n",
       "      <th>1</th>\n",
       "      <td>How do I know if a student is registered for a...</td>\n",
       "      <td>Checking for Institute Registration for Colleg...</td>\n",
       "      <td>https://missionaries.prod.byu-pathway.psdops.c...</td>\n",
       "      <td>[The best method is to have the student ask th...</td>\n",
       "      <td>0.0</td>\n",
       "    </tr>\n",
       "    <tr>\n",
       "      <th>2</th>\n",
       "      <td>How do I know if student is member of the church?</td>\n",
       "      <td>Verify a Learner’s Membership Status\\n1. In th...</td>\n",
       "      <td>https://missionaries.prod.byu-pathway.psdops.c...</td>\n",
       "      <td>[1. Go to the Details tab in the Student Infor...</td>\n",
       "      <td>0.0</td>\n",
       "    </tr>\n",
       "    <tr>\n",
       "      <th>3</th>\n",
       "      <td>What information should I track for each student?</td>\n",
       "      <td>Monitoring Student Progress\\nTime in Course—ho...</td>\n",
       "      <td>https://missionaries.prod.byu-pathway.psdops.c...</td>\n",
       "      <td>[```markdown\\n# Monitoring Student Progress Pa...</td>\n",
       "      <td>0.0</td>\n",
       "    </tr>\n",
       "    <tr>\n",
       "      <th>4</th>\n",
       "      <td>What to do If a student has already taken this...</td>\n",
       "      <td>How a Student Withdraws From a Program\\nPURPOS...</td>\n",
       "      <td>https://missionaries.prod.byu-pathway.psdops.c...</td>\n",
       "      <td>[# 3.4 Course Retakes and Returning Students\\n...</td>\n",
       "      <td>0.0</td>\n",
       "    </tr>\n",
       "  </tbody>\n",
       "</table>\n",
       "</div>"
      ],
      "text/plain": [
       "                                            Question  \\\n",
       "0      How do I know if a student has a scholarship?   \n",
       "1  How do I know if a student is registered for a...   \n",
       "2  How do I know if student is member of the church?   \n",
       "3  What information should I track for each student?   \n",
       "4  What to do If a student has already taken this...   \n",
       "\n",
       "                                               Quote  \\\n",
       "0  Discounts/Scholarships Tab\\nView the scholarsh...   \n",
       "1  Checking for Institute Registration for Colleg...   \n",
       "2  Verify a Learner’s Membership Status\\n1. In th...   \n",
       "3  Monitoring Student Progress\\nTime in Course—ho...   \n",
       "4  How a Student Withdraws From a Program\\nPURPOS...   \n",
       "\n",
       "                                                Link  \\\n",
       "0  https://missionaries.prod.byu-pathway.psdops.c...   \n",
       "1  https://missionaries.prod.byu-pathway.psdops.c...   \n",
       "2  https://missionaries.prod.byu-pathway.psdops.c...   \n",
       "3  https://missionaries.prod.byu-pathway.psdops.c...   \n",
       "4  https://missionaries.prod.byu-pathway.psdops.c...   \n",
       "\n",
       "                                    Retrieved Chunks  Recall  \n",
       "0  [1. , Go to the Discounts/Scholarships tab on ...     0.0  \n",
       "1  [The best method is to have the student ask th...     0.0  \n",
       "2  [1. Go to the Details tab in the Student Infor...     0.0  \n",
       "3  [```markdown\\n# Monitoring Student Progress Pa...     0.0  \n",
       "4  [# 3.4 Course Retakes and Returning Students\\n...     0.0  "
      ]
     },
     "execution_count": 32,
     "metadata": {},
     "output_type": "execute_result"
    }
   ],
   "source": [
    "# Guardar los resultados en un archivo CSV\n",
    "# las columnas son: Question,Quote,Quote URL (Link),retrieved chunks,recall\n",
    "\n",
    "output_path = f\"{datapath}/temporary/retrieved_chunks.csv\"\n",
    "output_df = pd.DataFrame.from_dict(retrieved_chunks_dict, orient=\"index\")\n",
    "\n",
    "# the actual index must be a column\n",
    "output_df.reset_index(inplace=True)\n",
    "\n",
    "# Add the titles\n",
    "\n",
    "output_df.columns = [\"Question\", \"Quote\", \"Link\", \"Retrieved Chunks\", \"Recall\"]\n",
    "\n",
    "# ignore the index when saving\n",
    "\n",
    "output_df.to_csv(output_path, index=False)\n",
    "\n",
    "output_df.head()\n"
   ]
  },
  {
   "cell_type": "code",
   "execution_count": 18,
   "metadata": {},
   "outputs": [
    {
     "ename": "TypeError",
     "evalue": "'in <string>' requires string as left operand, not float",
     "output_type": "error",
     "traceback": [
      "\u001b[0;31m---------------------------------------------------------------------------\u001b[0m",
      "\u001b[0;31mTypeError\u001b[0m                                 Traceback (most recent call last)",
      "Cell \u001b[0;32mIn[18], line 20\u001b[0m\n\u001b[1;32m     17\u001b[0m     \u001b[38;5;28;01mcontinue\u001b[39;00m\n\u001b[1;32m     19\u001b[0m \u001b[38;5;66;03m# Calcular el recall: cuántos chunks recuperados contienen el quote\u001b[39;00m\n\u001b[0;32m---> 20\u001b[0m relevant_chunks \u001b[38;5;241m=\u001b[39m [chunk \u001b[38;5;28;01mfor\u001b[39;00m chunk \u001b[38;5;129;01min\u001b[39;00m retrieved_chunks \u001b[38;5;28;01mif\u001b[39;00m \u001b[43mquote\u001b[49m\u001b[43m \u001b[49m\u001b[38;5;129;43;01min\u001b[39;49;00m\u001b[43m \u001b[49m\u001b[43mchunk\u001b[49m\u001b[38;5;241;43m.\u001b[39;49m\u001b[43mtext\u001b[49m]\n\u001b[1;32m     21\u001b[0m recall \u001b[38;5;241m=\u001b[39m \u001b[38;5;28mlen\u001b[39m(relevant_chunks) \u001b[38;5;241m/\u001b[39m \u001b[38;5;28mlen\u001b[39m(retrieved_chunks) \u001b[38;5;28;01mif\u001b[39;00m retrieved_chunks \u001b[38;5;28;01melse\u001b[39;00m \u001b[38;5;241m0\u001b[39m\n\u001b[1;32m     23\u001b[0m \u001b[38;5;66;03m# Almacenar los datos en el diccionario\u001b[39;00m\n",
      "\u001b[0;31mTypeError\u001b[0m: 'in <string>' requires string as left operand, not float"
     ]
    }
   ],
   "source": [
    "retrieved_chunks_dict = {}  # Para almacenar los chunks recuperados para cada pregunta\n",
    "error_count = 0\n",
    "\n",
    "# Procesa cada pregunta y recupera los chunks\n",
    "for idx, row in df.iterrows():\n",
    "    question = row[\"Question\"]\n",
    "    quote = row[\"Quote\"]\n",
    "    link = row[\"Link\"]\n",
    "\n",
    "    # Recuperar chunks relacionados con la pregunta\n",
    "    try:\n",
    "        retrieved_chunks = retriever.retrieve(question)\n",
    "    except Exception as e:\n",
    "        error_count += 1\n",
    "        print(f\"Error retrieving chunks for question: {question}\")\n",
    "        print(e)\n",
    "        continue\n",
    "\n",
    "    # Calcular el recall: cuántos chunks recuperados contienen el quote\n",
    "    relevant_chunks = [chunk for chunk in retrieved_chunks if quote in chunk.text]\n",
    "    recall = len(relevant_chunks) / len(retrieved_chunks) if retrieved_chunks else 0\n",
    "\n",
    "    # Almacenar los datos en el diccionario\n",
    "    retrieved_chunks_dict[question] = {\n",
    "        \"quote\": quote,\n",
    "        \"link\": link,\n",
    "        \"retrieved_chunks\": [chunk.text for chunk in retrieved_chunks],\n",
    "        \"recall\": recall,\n",
    "    }\n"
   ]
  }
 ],
 "metadata": {
  "kernelspec": {
   "display_name": ".venv",
   "language": "python",
   "name": "python3"
  },
  "language_info": {
   "codemirror_mode": {
    "name": "ipython",
    "version": 3
   },
   "file_extension": ".py",
   "mimetype": "text/x-python",
   "name": "python",
   "nbconvert_exporter": "python",
   "pygments_lexer": "ipython3",
   "version": "3.12.5"
  }
 },
 "nbformat": 4,
 "nbformat_minor": 2
}
