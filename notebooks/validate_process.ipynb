{
 "cells": [
  {
   "cell_type": "code",
   "execution_count": 1,
   "metadata": {},
   "outputs": [],
   "source": [
    "import pandas as pd\n",
    "import re\n"
   ]
  },
  {
   "cell_type": "markdown",
   "metadata": {},
   "source": [
    "# 01 verify every quote link is in csv for download\n"
   ]
  },
  {
   "cell_type": "markdown",
   "metadata": {},
   "source": [
    "This verification was done in the file `03_verify_index_links.ipynb` and the results show that _all the links in the index are in the csv_ file for download.\n"
   ]
  },
  {
   "cell_type": "markdown",
   "metadata": {},
   "source": [
    "# 02 Verify every link has been downloaded and every file exists\n"
   ]
  },
  {
   "cell_type": "markdown",
   "metadata": {},
   "source": [
    "The file with the link are `acm_site.csv`, `missionary.csv` and `stdhndbk.csv`\n"
   ]
  },
  {
   "cell_type": "code",
   "execution_count": 3,
   "metadata": {},
   "outputs": [
    {
     "data": {
      "text/html": [
       "<div>\n",
       "<style scoped>\n",
       "    .dataframe tbody tr th:only-of-type {\n",
       "        vertical-align: middle;\n",
       "    }\n",
       "\n",
       "    .dataframe tbody tr th {\n",
       "        vertical-align: top;\n",
       "    }\n",
       "\n",
       "    .dataframe thead th {\n",
       "        text-align: right;\n",
       "    }\n",
       "</style>\n",
       "<table border=\"1\" class=\"dataframe\">\n",
       "  <thead>\n",
       "    <tr style=\"text-align: right;\">\n",
       "      <th></th>\n",
       "      <th>URL</th>\n",
       "      <th>Section</th>\n",
       "      <th>Subsection</th>\n",
       "      <th>Title</th>\n",
       "      <th>filename</th>\n",
       "    </tr>\n",
       "  </thead>\n",
       "  <tbody>\n",
       "    <tr>\n",
       "      <th>494</th>\n",
       "      <td>https://www.byupathway.edu/policies/handbook/6...</td>\n",
       "      <td>['6. Student Records']</td>\n",
       "      <td>['Missing']</td>\n",
       "      <td>['6.4 Pathway Certificates']</td>\n",
       "      <td>105adb7a</td>\n",
       "    </tr>\n",
       "    <tr>\n",
       "      <th>311</th>\n",
       "      <td>https://missionaries.prod.byu-pathway.psdops.c...</td>\n",
       "      <td>['Increasing Awareness', 'Shepherding / Minist...</td>\n",
       "      <td>['Increasing Awareness of PathwayConnect', 'Mi...</td>\n",
       "      <td>['Shepherd with Charity', 'Shepherd with Chari...</td>\n",
       "      <td>110f0051</td>\n",
       "    </tr>\n",
       "    <tr>\n",
       "      <th>180</th>\n",
       "      <td>https://missionaries.prod.byu-pathway.psdops.c...</td>\n",
       "      <td>['PathwayConnect (PC)']</td>\n",
       "      <td>['PathwayConnect General Information']</td>\n",
       "      <td>['How Students Repeat Courses']</td>\n",
       "      <td>12180468</td>\n",
       "    </tr>\n",
       "    <tr>\n",
       "      <th>288</th>\n",
       "      <td>https://missionaries.prod.byu-pathway.psdops.c...</td>\n",
       "      <td>['Missionary Software &amp; Uses']</td>\n",
       "      <td>['Power BI']</td>\n",
       "      <td>['PowerBI']</td>\n",
       "      <td>123bdf7c</td>\n",
       "    </tr>\n",
       "    <tr>\n",
       "      <th>329</th>\n",
       "      <td>https://missionaries.prod.byu-pathway.psdops.c...</td>\n",
       "      <td>['Missionary Software &amp; Uses']</td>\n",
       "      <td>['PATH for Area Coordination Missionaries (ACM...</td>\n",
       "      <td>['Transferring a Student to a Different Program']</td>\n",
       "      <td>12a1fef2</td>\n",
       "    </tr>\n",
       "    <tr>\n",
       "      <th>67</th>\n",
       "      <td>https://missionaries.prod.byu-pathway.psdops.c...</td>\n",
       "      <td>['Calendars', 'Calendars']</td>\n",
       "      <td>['Calendar', 'EnglishConnect 3 Academic Calend...</td>\n",
       "      <td>['EC3 Auto-Drop', 'Auto-Drop for EC3']</td>\n",
       "      <td>130b6f2b</td>\n",
       "    </tr>\n",
       "    <tr>\n",
       "      <th>559</th>\n",
       "      <td>https://studentsupportkb.byupathway.org/knowle...</td>\n",
       "      <td>NaN</td>\n",
       "      <td>NaN</td>\n",
       "      <td>NaN</td>\n",
       "      <td>1376e9a9</td>\n",
       "    </tr>\n",
       "    <tr>\n",
       "      <th>333</th>\n",
       "      <td>https://missionaries.prod.byu-pathway.psdops.c...</td>\n",
       "      <td>['Missionary Software &amp; Uses', 'PATH']</td>\n",
       "      <td>['PATH for Area Coordination Missionaries (ACM...</td>\n",
       "      <td>['Understanding the Groups Page EC3', 'Underst...</td>\n",
       "      <td>13c81944</td>\n",
       "    </tr>\n",
       "    <tr>\n",
       "      <th>522</th>\n",
       "      <td>https://www.englishconnect.org/</td>\n",
       "      <td>['English Connect 1&amp;2']</td>\n",
       "      <td>['EnglishConnect Home']</td>\n",
       "      <td>['General Information']</td>\n",
       "      <td>141279b1</td>\n",
       "    </tr>\n",
       "    <tr>\n",
       "      <th>216</th>\n",
       "      <td>https://missionaries.prod.byu-pathway.psdops.c...</td>\n",
       "      <td>['Block']</td>\n",
       "      <td>['Missing']</td>\n",
       "      <td>['International Area Transitioning to Block a ...</td>\n",
       "      <td>143661b8</td>\n",
       "    </tr>\n",
       "  </tbody>\n",
       "</table>\n",
       "</div>"
      ],
      "text/plain": [
       "                                                   URL  \\\n",
       "494  https://www.byupathway.edu/policies/handbook/6...   \n",
       "311  https://missionaries.prod.byu-pathway.psdops.c...   \n",
       "180  https://missionaries.prod.byu-pathway.psdops.c...   \n",
       "288  https://missionaries.prod.byu-pathway.psdops.c...   \n",
       "329  https://missionaries.prod.byu-pathway.psdops.c...   \n",
       "67   https://missionaries.prod.byu-pathway.psdops.c...   \n",
       "559  https://studentsupportkb.byupathway.org/knowle...   \n",
       "333  https://missionaries.prod.byu-pathway.psdops.c...   \n",
       "522                    https://www.englishconnect.org/   \n",
       "216  https://missionaries.prod.byu-pathway.psdops.c...   \n",
       "\n",
       "                                               Section  \\\n",
       "494                             ['6. Student Records']   \n",
       "311  ['Increasing Awareness', 'Shepherding / Minist...   \n",
       "180                            ['PathwayConnect (PC)']   \n",
       "288                     ['Missionary Software & Uses']   \n",
       "329                     ['Missionary Software & Uses']   \n",
       "67                          ['Calendars', 'Calendars']   \n",
       "559                                                NaN   \n",
       "333             ['Missionary Software & Uses', 'PATH']   \n",
       "522                            ['English Connect 1&2']   \n",
       "216                                          ['Block']   \n",
       "\n",
       "                                            Subsection  \\\n",
       "494                                        ['Missing']   \n",
       "311  ['Increasing Awareness of PathwayConnect', 'Mi...   \n",
       "180             ['PathwayConnect General Information']   \n",
       "288                                       ['Power BI']   \n",
       "329  ['PATH for Area Coordination Missionaries (ACM...   \n",
       "67   ['Calendar', 'EnglishConnect 3 Academic Calend...   \n",
       "559                                                NaN   \n",
       "333  ['PATH for Area Coordination Missionaries (ACM...   \n",
       "522                            ['EnglishConnect Home']   \n",
       "216                                        ['Missing']   \n",
       "\n",
       "                                                 Title  filename  \n",
       "494                       ['6.4 Pathway Certificates']  105adb7a  \n",
       "311  ['Shepherd with Charity', 'Shepherd with Chari...  110f0051  \n",
       "180                    ['How Students Repeat Courses']  12180468  \n",
       "288                                        ['PowerBI']  123bdf7c  \n",
       "329  ['Transferring a Student to a Different Program']  12a1fef2  \n",
       "67              ['EC3 Auto-Drop', 'Auto-Drop for EC3']  130b6f2b  \n",
       "559                                                NaN  1376e9a9  \n",
       "333  ['Understanding the Groups Page EC3', 'Underst...  13c81944  \n",
       "522                            ['General Information']  141279b1  \n",
       "216  ['International Area Transitioning to Block a ...  143661b8  "
      ]
     },
     "execution_count": 3,
     "metadata": {},
     "output_type": "execute_result"
    }
   ],
   "source": [
    "# get the files \"acm_site.csv\" and \"missionary.csv\" and merge them into a single dataframe\n",
    "df_exist = pd.read_csv(\"../data/data_test_sep_27/all_links.csv\")\n",
    "\n",
    "# sort by filename\n",
    "df_exist = df_exist.sort_values(by=\"filename\")\n",
    "\n",
    "df_exist.head(10)\n"
   ]
  },
  {
   "cell_type": "code",
   "execution_count": 4,
   "metadata": {},
   "outputs": [
    {
     "name": "stdout",
     "output_type": "stream",
     "text": [
      "HTML files: 267\n",
      "PDF files: 297\n",
      "\n",
      "\n",
      "TOtal files: 564 plus 1 files as image.\n"
     ]
    }
   ],
   "source": [
    "# read the names of the files in the directory \"data/data_16_09_24/crawl/html\" and \"data/data_16_09_24/crawl/pdf\"\n",
    "import os\n",
    "\n",
    "html_files = os.listdir(\"../data/data_test_sep_27/crawl/html\")\n",
    "pdf_files = os.listdir(\"../data/data_test_sep_27/crawl/pdf\")\n",
    "\n",
    "# ignore txt files that exist in md and txt with the same name in the \"../data/data_16_09_24/crawl/pdf\"\n",
    "\n",
    "all_files = html_files + pdf_files\n",
    "\n",
    "print(\"HTML files:\", len(html_files))\n",
    "print(\"PDF files:\", len(pdf_files))\n",
    "print(\"\\n\")\n",
    "print(\"TOtal files:\", len(html_files) + len(pdf_files), \"plus 1 files as image.\")\n"
   ]
  },
  {
   "cell_type": "code",
   "execution_count": 5,
   "metadata": {},
   "outputs": [],
   "source": [
    "# function to validate if the file exist\n",
    "def file_exist(name):\n",
    "    for file in all_files:\n",
    "        if name == file.split(\".\")[0]:\n",
    "            return True\n",
    "    return False\n"
   ]
  },
  {
   "cell_type": "code",
   "execution_count": 6,
   "metadata": {},
   "outputs": [
    {
     "data": {
      "text/html": [
       "<div>\n",
       "<style scoped>\n",
       "    .dataframe tbody tr th:only-of-type {\n",
       "        vertical-align: middle;\n",
       "    }\n",
       "\n",
       "    .dataframe tbody tr th {\n",
       "        vertical-align: top;\n",
       "    }\n",
       "\n",
       "    .dataframe thead th {\n",
       "        text-align: right;\n",
       "    }\n",
       "</style>\n",
       "<table border=\"1\" class=\"dataframe\">\n",
       "  <thead>\n",
       "    <tr style=\"text-align: right;\">\n",
       "      <th></th>\n",
       "      <th>URL</th>\n",
       "      <th>Section</th>\n",
       "      <th>Subsection</th>\n",
       "      <th>Title</th>\n",
       "      <th>filename</th>\n",
       "      <th>File Exists</th>\n",
       "    </tr>\n",
       "  </thead>\n",
       "  <tbody>\n",
       "    <tr>\n",
       "      <th>0</th>\n",
       "      <td>Account%20Access%20Error%20Support%20Knowledge...</td>\n",
       "      <td>['Software Systems']</td>\n",
       "      <td>['Technical Support']</td>\n",
       "      <td>['Account Access Error Support Knowledge Artic...</td>\n",
       "      <td>17b1c40e</td>\n",
       "      <td>False</td>\n",
       "    </tr>\n",
       "    <tr>\n",
       "      <th>294</th>\n",
       "      <td>https://missionaries.prod.byu-pathway.psdops.c...</td>\n",
       "      <td>['Shepherding / Ministering']</td>\n",
       "      <td>['Missing']</td>\n",
       "      <td>['Resources for New and Continuing Students']</td>\n",
       "      <td>269ed2e7</td>\n",
       "      <td>False</td>\n",
       "    </tr>\n",
       "    <tr>\n",
       "      <th>374</th>\n",
       "      <td>https://office365lds.sharepoint.com/sites/BYUP...</td>\n",
       "      <td>['Gatherings']</td>\n",
       "      <td>['Other Gathering Resources']</td>\n",
       "      <td>['Improving Your Role in the Gathering']</td>\n",
       "      <td>4208553</td>\n",
       "      <td>False</td>\n",
       "    </tr>\n",
       "    <tr>\n",
       "      <th>373</th>\n",
       "      <td>https://office365lds.sharepoint.com/sites/BYU-...</td>\n",
       "      <td>['Missionary Software &amp; Uses']</td>\n",
       "      <td>['Troubleshooting']</td>\n",
       "      <td>['Check to See if a BYU-Pathway Worldwide Syst...</td>\n",
       "      <td>45762537</td>\n",
       "      <td>False</td>\n",
       "    </tr>\n",
       "    <tr>\n",
       "      <th>4</th>\n",
       "      <td>https://churchofjesuschrist.sharepoint.com/sit...</td>\n",
       "      <td>['English Connect 1&amp;2']</td>\n",
       "      <td>['EnglishConnect Global Launch']</td>\n",
       "      <td>['EnglishConnect Global Launch']</td>\n",
       "      <td>563343d4</td>\n",
       "      <td>False</td>\n",
       "    </tr>\n",
       "    <tr>\n",
       "      <th>3</th>\n",
       "      <td>https://churchofjesuschrist.sharepoint.com/sit...</td>\n",
       "      <td>['Gatherings']</td>\n",
       "      <td>['PC102']</td>\n",
       "      <td>['Forming Team Project Groups']</td>\n",
       "      <td>72713f0a</td>\n",
       "      <td>False</td>\n",
       "    </tr>\n",
       "    <tr>\n",
       "      <th>372</th>\n",
       "      <td>https://office365lds.sharepoint.com/sites/BYU-...</td>\n",
       "      <td>['Area Coordination (For ACMs Only)']</td>\n",
       "      <td>['ACC Council']</td>\n",
       "      <td>['ACM Council Agendas']</td>\n",
       "      <td>78008ef2</td>\n",
       "      <td>False</td>\n",
       "    </tr>\n",
       "    <tr>\n",
       "      <th>562</th>\n",
       "      <td>https://degreeapplication.byupathway.edu/</td>\n",
       "      <td>NaN</td>\n",
       "      <td>NaN</td>\n",
       "      <td>NaN</td>\n",
       "      <td>d26452c9</td>\n",
       "      <td>False</td>\n",
       "    </tr>\n",
       "  </tbody>\n",
       "</table>\n",
       "</div>"
      ],
      "text/plain": [
       "                                                   URL  \\\n",
       "0    Account%20Access%20Error%20Support%20Knowledge...   \n",
       "294  https://missionaries.prod.byu-pathway.psdops.c...   \n",
       "374  https://office365lds.sharepoint.com/sites/BYUP...   \n",
       "373  https://office365lds.sharepoint.com/sites/BYU-...   \n",
       "4    https://churchofjesuschrist.sharepoint.com/sit...   \n",
       "3    https://churchofjesuschrist.sharepoint.com/sit...   \n",
       "372  https://office365lds.sharepoint.com/sites/BYU-...   \n",
       "562          https://degreeapplication.byupathway.edu/   \n",
       "\n",
       "                                   Section                        Subsection  \\\n",
       "0                     ['Software Systems']             ['Technical Support']   \n",
       "294          ['Shepherding / Ministering']                       ['Missing']   \n",
       "374                         ['Gatherings']     ['Other Gathering Resources']   \n",
       "373         ['Missionary Software & Uses']               ['Troubleshooting']   \n",
       "4                  ['English Connect 1&2']  ['EnglishConnect Global Launch']   \n",
       "3                           ['Gatherings']                         ['PC102']   \n",
       "372  ['Area Coordination (For ACMs Only)']                   ['ACC Council']   \n",
       "562                                    NaN                               NaN   \n",
       "\n",
       "                                                 Title  filename  File Exists  \n",
       "0    ['Account Access Error Support Knowledge Artic...  17b1c40e        False  \n",
       "294      ['Resources for New and Continuing Students']  269ed2e7        False  \n",
       "374           ['Improving Your Role in the Gathering']   4208553        False  \n",
       "373  ['Check to See if a BYU-Pathway Worldwide Syst...  45762537        False  \n",
       "4                     ['EnglishConnect Global Launch']  563343d4        False  \n",
       "3                      ['Forming Team Project Groups']  72713f0a        False  \n",
       "372                            ['ACM Council Agendas']  78008ef2        False  \n",
       "562                                                NaN  d26452c9        False  "
      ]
     },
     "execution_count": 6,
     "metadata": {},
     "output_type": "execute_result"
    }
   ],
   "source": [
    "# Create a new column called \"File Exists\" that indicates if the file exists in the directory\n",
    "df_exist[\"File Exists\"] = df_exist[\"filename\"].apply(file_exist)\n",
    "\n",
    "# print only the rows where the file does not exist\n",
    "df_exist[~df_exist[\"File Exists\"]]\n"
   ]
  },
  {
   "cell_type": "markdown",
   "metadata": {},
   "source": [
    "562.- Degree application broken\n",
    "\n",
    "294.- PNG image\n",
    "\n",
    "0.- is not a link\n",
    "\n",
    "All the other links are ignored because they ask to login.\n"
   ]
  },
  {
   "cell_type": "code",
   "execution_count": 7,
   "metadata": {},
   "outputs": [
    {
     "name": "stdout",
     "output_type": "stream",
     "text": [
      "Existing files: 564\n"
     ]
    }
   ],
   "source": [
    "# print len of existing files\n",
    "print(\"Existing files:\", len(df_exist[df_exist[\"File Exists\"]]))\n"
   ]
  },
  {
   "cell_type": "code",
   "execution_count": 8,
   "metadata": {},
   "outputs": [
    {
     "name": "stdout",
     "output_type": "stream",
     "text": [
      "8 files do not exist\n"
     ]
    }
   ],
   "source": [
    "# Create an Array with the names of the files that do not exist\n",
    "files_not_exist = df_exist[~df_exist[\"File Exists\"]][\"filename\"].values\n",
    "\n",
    "\n",
    "print(len(files_not_exist), \"files do not exist\")\n"
   ]
  },
  {
   "cell_type": "markdown",
   "metadata": {},
   "source": [
    "132 files in the list doesn't exist in the download folder.\n"
   ]
  },
  {
   "cell_type": "markdown",
   "metadata": {},
   "source": [
    "# 03 Verify if every file in quotes has been downloaded\n"
   ]
  },
  {
   "cell_type": "code",
   "execution_count": 19,
   "metadata": {},
   "outputs": [
    {
     "data": {
      "text/html": [
       "<div>\n",
       "<style scoped>\n",
       "    .dataframe tbody tr th:only-of-type {\n",
       "        vertical-align: middle;\n",
       "    }\n",
       "\n",
       "    .dataframe tbody tr th {\n",
       "        vertical-align: top;\n",
       "    }\n",
       "\n",
       "    .dataframe thead th {\n",
       "        text-align: right;\n",
       "    }\n",
       "</style>\n",
       "<table border=\"1\" class=\"dataframe\">\n",
       "  <thead>\n",
       "    <tr style=\"text-align: right;\">\n",
       "      <th></th>\n",
       "      <th>Questions</th>\n",
       "      <th>Ideal Answer</th>\n",
       "      <th>Link to Ideal Answer</th>\n",
       "      <th>Link 2</th>\n",
       "      <th>Link 3</th>\n",
       "    </tr>\n",
       "  </thead>\n",
       "  <tbody>\n",
       "    <tr>\n",
       "      <th>2</th>\n",
       "      <td>How do I know if a student has a scholarship?</td>\n",
       "      <td>Missionaries can see if a student has a schola...</td>\n",
       "      <td>https://missionaries.prod.byu-pathway.psdops.c...</td>\n",
       "      <td>NaN</td>\n",
       "      <td>NaN</td>\n",
       "    </tr>\n",
       "    <tr>\n",
       "      <th>3</th>\n",
       "      <td>How do I know if a student is registered for a...</td>\n",
       "      <td>There is not a way for Missionaries to verify ...</td>\n",
       "      <td>https://missionaries.prod.byu-pathway.psdops.c...</td>\n",
       "      <td>NaN</td>\n",
       "      <td>NaN</td>\n",
       "    </tr>\n",
       "    <tr>\n",
       "      <th>4</th>\n",
       "      <td>How do I know if a student is a returned missi...</td>\n",
       "      <td>Missionaries can see if a student is a returne...</td>\n",
       "      <td>https://missionaries.prod.byu-pathway.psdops.c...</td>\n",
       "      <td>NaN</td>\n",
       "      <td>NaN</td>\n",
       "    </tr>\n",
       "    <tr>\n",
       "      <th>5</th>\n",
       "      <td>How do I know if student is member of the church?</td>\n",
       "      <td>Missionaries can see the Church membership sta...</td>\n",
       "      <td>https://missionaries.prod.byu-pathway.psdops.c...</td>\n",
       "      <td>NaN</td>\n",
       "      <td>NaN</td>\n",
       "    </tr>\n",
       "    <tr>\n",
       "      <th>6</th>\n",
       "      <td>What information should I track for each student?</td>\n",
       "      <td>The most important things Missionaries should ...</td>\n",
       "      <td>https://missionaries.prod.byu-pathway.psdops.c...</td>\n",
       "      <td>NaN</td>\n",
       "      <td>NaN</td>\n",
       "    </tr>\n",
       "  </tbody>\n",
       "</table>\n",
       "</div>"
      ],
      "text/plain": [
       "                                           Questions  \\\n",
       "2      How do I know if a student has a scholarship?   \n",
       "3  How do I know if a student is registered for a...   \n",
       "4  How do I know if a student is a returned missi...   \n",
       "5  How do I know if student is member of the church?   \n",
       "6  What information should I track for each student?   \n",
       "\n",
       "                                        Ideal Answer  \\\n",
       "2  Missionaries can see if a student has a schola...   \n",
       "3  There is not a way for Missionaries to verify ...   \n",
       "4  Missionaries can see if a student is a returne...   \n",
       "5  Missionaries can see the Church membership sta...   \n",
       "6  The most important things Missionaries should ...   \n",
       "\n",
       "                                Link to Ideal Answer Link 2  Link 3  \n",
       "2  https://missionaries.prod.byu-pathway.psdops.c...    NaN     NaN  \n",
       "3  https://missionaries.prod.byu-pathway.psdops.c...    NaN     NaN  \n",
       "4  https://missionaries.prod.byu-pathway.psdops.c...    NaN     NaN  \n",
       "5  https://missionaries.prod.byu-pathway.psdops.c...    NaN     NaN  \n",
       "6  https://missionaries.prod.byu-pathway.psdops.c...    NaN     NaN  "
      ]
     },
     "execution_count": 19,
     "metadata": {},
     "output_type": "execute_result"
    }
   ],
   "source": [
    "filename = \"../data/temporary/Index_quotes_26.csv\"\n",
    "\n",
    "df = pd.read_csv(\n",
    "    filename,\n",
    "    header=1,\n",
    ")\n",
    "df.index = range(1, len(df) + 1)\n",
    "\n",
    "df.dropna(subset=[\"Link to Ideal Answer\"], inplace=True)\n",
    "\n",
    "# drop columns \"Quotes\", \"Quote 2\" and \"Quote 3\"\n",
    "df.drop(columns=[\"Quotes\", \"Quote 2\", \"Quote 3\"], inplace=True)\n",
    "\n",
    "df_no_links = df[df[\"Link to Ideal Answer\"].str.contains(\"http\") == False]\n",
    "\n",
    "# make a drop of the rows that have no link to ideal answer\n",
    "df.drop(df_no_links.index, inplace=True)\n",
    "df.head()\n"
   ]
  },
  {
   "cell_type": "code",
   "execution_count": 20,
   "metadata": {},
   "outputs": [],
   "source": [
    "# Función para limpiar y extraer los links\n",
    "def extract_links(text):\n",
    "    # si el valor es NaN, retornar una lista vacía\n",
    "    if pd.isnull(text):\n",
    "        return []\n",
    "\n",
    "    # Dividir el texto por los saltos de línea y filtrar solo los enlaces\n",
    "    links = [\n",
    "        line.strip() for line in text.split(\"\\n\") if line.strip().startswith(\"https\")\n",
    "    ]\n",
    "    return links\n",
    "\n",
    "\n",
    "# Recopila los link de \"Link to Ideal Answer\", \"Link 2\" y \"Link 3\" en un solo campo\n",
    "def merge_links(row):\n",
    "    links = row[\"Link to Ideal Answer\"] + row[\"Link 2\"] + row[\"Link 3\"]\n",
    "    return links\n",
    "\n",
    "\n",
    "# because some questions has multiple links, we will split them into multiple rows with its respective question\n",
    "def split_links(row):\n",
    "    links = row[\"Links\"]\n",
    "    questions = row[\"Questions\"]\n",
    "    rows = []\n",
    "    for link in links:\n",
    "        rows.append([questions, link])\n",
    "    return rows\n"
   ]
  },
  {
   "cell_type": "code",
   "execution_count": 21,
   "metadata": {},
   "outputs": [
    {
     "data": {
      "text/html": [
       "<div>\n",
       "<style scoped>\n",
       "    .dataframe tbody tr th:only-of-type {\n",
       "        vertical-align: middle;\n",
       "    }\n",
       "\n",
       "    .dataframe tbody tr th {\n",
       "        vertical-align: top;\n",
       "    }\n",
       "\n",
       "    .dataframe thead th {\n",
       "        text-align: right;\n",
       "    }\n",
       "</style>\n",
       "<table border=\"1\" class=\"dataframe\">\n",
       "  <thead>\n",
       "    <tr style=\"text-align: right;\">\n",
       "      <th></th>\n",
       "      <th>Questions</th>\n",
       "      <th>Links</th>\n",
       "    </tr>\n",
       "  </thead>\n",
       "  <tbody>\n",
       "    <tr>\n",
       "      <th>0</th>\n",
       "      <td>How do I know if a student has a scholarship?</td>\n",
       "      <td>https://missionaries.prod.byu-pathway.psdops.c...</td>\n",
       "    </tr>\n",
       "    <tr>\n",
       "      <th>1</th>\n",
       "      <td>How do I know if a student is registered for a...</td>\n",
       "      <td>https://missionaries.prod.byu-pathway.psdops.c...</td>\n",
       "    </tr>\n",
       "    <tr>\n",
       "      <th>2</th>\n",
       "      <td>How do I know if a student is a returned missi...</td>\n",
       "      <td>https://missionaries.prod.byu-pathway.psdops.c...</td>\n",
       "    </tr>\n",
       "    <tr>\n",
       "      <th>3</th>\n",
       "      <td>How do I know if student is member of the church?</td>\n",
       "      <td>https://missionaries.prod.byu-pathway.psdops.c...</td>\n",
       "    </tr>\n",
       "    <tr>\n",
       "      <th>4</th>\n",
       "      <td>What information should I track for each student?</td>\n",
       "      <td>https://missionaries.prod.byu-pathway.psdops.c...</td>\n",
       "    </tr>\n",
       "  </tbody>\n",
       "</table>\n",
       "</div>"
      ],
      "text/plain": [
       "                                           Questions  \\\n",
       "0      How do I know if a student has a scholarship?   \n",
       "1  How do I know if a student is registered for a...   \n",
       "2  How do I know if a student is a returned missi...   \n",
       "3  How do I know if student is member of the church?   \n",
       "4  What information should I track for each student?   \n",
       "\n",
       "                                               Links  \n",
       "0  https://missionaries.prod.byu-pathway.psdops.c...  \n",
       "1  https://missionaries.prod.byu-pathway.psdops.c...  \n",
       "2  https://missionaries.prod.byu-pathway.psdops.c...  \n",
       "3  https://missionaries.prod.byu-pathway.psdops.c...  \n",
       "4  https://missionaries.prod.byu-pathway.psdops.c...  "
      ]
     },
     "execution_count": 21,
     "metadata": {},
     "output_type": "execute_result"
    }
   ],
   "source": [
    "# some of the rows has multiple links, we will convert them to a list\n",
    "df[\"Link to Ideal Answer\"] = df[\"Link to Ideal Answer\"].apply(extract_links)\n",
    "df[\"Link 2\"] = df[\"Link 2\"].apply(extract_links)\n",
    "df[\"Link 3\"] = df[\"Link 3\"].apply(extract_links)\n",
    "\n",
    "df[\"Links\"] = df.apply(merge_links, axis=1)\n",
    "\n",
    "list_of_links = df[[\"Questions\", \"Links\"]]\n",
    "\n",
    "# Apply the function to the dataframe and convert the result to a dataframe\n",
    "df_links = list_of_links.apply(split_links, axis=1)\n",
    "df_links = pd.DataFrame(df_links.sum(), columns=[\"Questions\", \"Links\"])\n",
    "# drop duplicated Links\n",
    "df_links.drop_duplicates(inplace=True)\n",
    "df_links.head()\n"
   ]
  },
  {
   "cell_type": "markdown",
   "metadata": {},
   "source": [
    "Now with the links, verify if every of this resources has been downloaded.\n"
   ]
  },
  {
   "cell_type": "code",
   "execution_count": 22,
   "metadata": {},
   "outputs": [],
   "source": [
    "# compare the Links from df_links to URL of df_exist, also File Exist must be True\n",
    "\n",
    "\n",
    "def validate_if_exist(row):\n",
    "    link = row[\"Links\"]\n",
    "    # verify if it exist in df_exist dataframe and its colum \"File Exists\" is True\n",
    "    exist = df_exist[(df_exist[\"URL\"].isin([link])) & (df_exist[\"File Exists\"] == True)]\n",
    "    return len(exist) > 0\n",
    "\n",
    "\n",
    "df_links[\"File Exists\"] = df_links.apply(validate_if_exist, axis=1)\n"
   ]
  },
  {
   "cell_type": "code",
   "execution_count": 23,
   "metadata": {},
   "outputs": [
    {
     "data": {
      "text/html": [
       "<div>\n",
       "<style scoped>\n",
       "    .dataframe tbody tr th:only-of-type {\n",
       "        vertical-align: middle;\n",
       "    }\n",
       "\n",
       "    .dataframe tbody tr th {\n",
       "        vertical-align: top;\n",
       "    }\n",
       "\n",
       "    .dataframe thead th {\n",
       "        text-align: right;\n",
       "    }\n",
       "</style>\n",
       "<table border=\"1\" class=\"dataframe\">\n",
       "  <thead>\n",
       "    <tr style=\"text-align: right;\">\n",
       "      <th></th>\n",
       "      <th>Questions</th>\n",
       "      <th>Links</th>\n",
       "      <th>File Exists</th>\n",
       "    </tr>\n",
       "  </thead>\n",
       "  <tbody>\n",
       "    <tr>\n",
       "      <th>5</th>\n",
       "      <td>What to do If a student has already taken this...</td>\n",
       "      <td>https://pathway-missionary.powerappsportals.co...</td>\n",
       "      <td>False</td>\n",
       "    </tr>\n",
       "    <tr>\n",
       "      <th>16</th>\n",
       "      <td>How do students retake 102 without retaking 101?</td>\n",
       "      <td>https://pathway-missionary.powerappsportals.co...</td>\n",
       "      <td>False</td>\n",
       "    </tr>\n",
       "    <tr>\n",
       "      <th>18</th>\n",
       "      <td>Does a student need to retake PC 103 to retake...</td>\n",
       "      <td>https://pathway-missionary.powerappsportals.co...</td>\n",
       "      <td>False</td>\n",
       "    </tr>\n",
       "    <tr>\n",
       "      <th>54</th>\n",
       "      <td>What is the link to access the Service Mission...</td>\n",
       "      <td>https://missionaries.prod.byu-pathway.psdops.c...</td>\n",
       "      <td>False</td>\n",
       "    </tr>\n",
       "    <tr>\n",
       "      <th>75</th>\n",
       "      <td>How to avoid WhatsApp cancelling my account fo...</td>\n",
       "      <td>https://faq.whatsapp.com/361005896189245?helpr...</td>\n",
       "      <td>False</td>\n",
       "    </tr>\n",
       "    <tr>\n",
       "      <th>80</th>\n",
       "      <td>How do I add students to a WhatsApp group?</td>\n",
       "      <td>https://faq.whatsapp.com/361005896189245?helpr...</td>\n",
       "      <td>False</td>\n",
       "    </tr>\n",
       "    <tr>\n",
       "      <th>134</th>\n",
       "      <td>How do students access the BYUI application?</td>\n",
       "      <td>https://degreeapplication.byupathway.edu/</td>\n",
       "      <td>False</td>\n",
       "    </tr>\n",
       "  </tbody>\n",
       "</table>\n",
       "</div>"
      ],
      "text/plain": [
       "                                             Questions  \\\n",
       "5    What to do If a student has already taken this...   \n",
       "16    How do students retake 102 without retaking 101?   \n",
       "18   Does a student need to retake PC 103 to retake...   \n",
       "54   What is the link to access the Service Mission...   \n",
       "75   How to avoid WhatsApp cancelling my account fo...   \n",
       "80          How do I add students to a WhatsApp group?   \n",
       "134       How do students access the BYUI application?   \n",
       "\n",
       "                                                 Links  File Exists  \n",
       "5    https://pathway-missionary.powerappsportals.co...        False  \n",
       "16   https://pathway-missionary.powerappsportals.co...        False  \n",
       "18   https://pathway-missionary.powerappsportals.co...        False  \n",
       "54   https://missionaries.prod.byu-pathway.psdops.c...        False  \n",
       "75   https://faq.whatsapp.com/361005896189245?helpr...        False  \n",
       "80   https://faq.whatsapp.com/361005896189245?helpr...        False  \n",
       "134          https://degreeapplication.byupathway.edu/        False  "
      ]
     },
     "execution_count": 23,
     "metadata": {},
     "output_type": "execute_result"
    }
   ],
   "source": [
    "# show all false values\n",
    "df_some = df_links[~df_links[\"File Exists\"]]\n",
    "\n",
    "df_some\n",
    "\n",
    "# show all true values\n",
    "# df_links[df_links[\"File Exists\"]]\n"
   ]
  },
  {
   "cell_type": "markdown",
   "metadata": {},
   "source": [
    "About the files above:\n",
    "\n",
    "5, 16 and 18 The file exist, is 5ff7e07b.html\n",
    "\n",
    "54 is an index webpage. it will not be downloaded\n",
    "\n",
    "75 and 80 are the same, it is downloaded as b0590386.html\n",
    "\n",
    "134 is link broken\n"
   ]
  },
  {
   "cell_type": "markdown",
   "metadata": {},
   "source": [
    "# 04. Validate if Files were transformed to Markdown\n"
   ]
  },
  {
   "cell_type": "code",
   "execution_count": 13,
   "metadata": {},
   "outputs": [],
   "source": [
    "import os\n"
   ]
  },
  {
   "cell_type": "code",
   "execution_count": 14,
   "metadata": {},
   "outputs": [],
   "source": [
    "# origin\n",
    "\n",
    "html_files = os.listdir(\"../data/data_test_sep_27/crawl/html\")\n",
    "pdf_files = os.listdir(\"../data/data_test_sep_27/crawl/pdf\")\n",
    "\n",
    "# remove the extension of the files\n",
    "html_files = [file.split(\".\")[0] for file in html_files]\n",
    "pdf_files = [file.split(\".\")[0] for file in pdf_files]\n"
   ]
  },
  {
   "cell_type": "code",
   "execution_count": 15,
   "metadata": {},
   "outputs": [],
   "source": [
    "html_files_out = os.listdir(\"../data/data_test_sep_27/out/from_html\")\n",
    "pdf_files_out = os.listdir(\"../data/data_test_sep_27/out/from_pdf\")\n",
    "\n",
    "# drop txt files\n",
    "html_files_out = [file for file in html_files_out if file.endswith(\".md\")]\n",
    "pdf_files_out = [file for file in pdf_files_out if file.endswith(\".md\")]\n",
    "\n",
    "# remove the extension of the files\n",
    "html_files_out = [file.split(\".\")[0] for file in html_files_out]\n",
    "pdf_files_out = [file.split(\".\")[0] for file in pdf_files_out]\n"
   ]
  },
  {
   "cell_type": "code",
   "execution_count": 16,
   "metadata": {},
   "outputs": [
    {
     "name": "stdout",
     "output_type": "stream",
     "text": [
      "HTML files that do not exist: 0\n",
      "PDF files that do not exist: 1\n"
     ]
    }
   ],
   "source": [
    "# verify if the file exists in the directory \"out_sep_12/from_html\" or \"out_sep_12/from_pdf\", create a list of the files that do not exist\n",
    "# rememeber to avoid the extension of the file\n",
    "dont_exist_html = []\n",
    "dont_exist_pdf = []\n",
    "\n",
    "for file in html_files:\n",
    "    if file.split(\".\")[0] not in html_files_out:\n",
    "        dont_exist_html.append(file)\n",
    "\n",
    "for file in pdf_files:\n",
    "    if file.split(\".\")[0] not in pdf_files_out:\n",
    "        dont_exist_pdf.append(file)\n",
    "\n",
    "\n",
    "print(\"HTML files that do not exist:\", len(dont_exist_html))\n",
    "print(\"PDF files that do not exist:\", len(dont_exist_pdf))\n"
   ]
  },
  {
   "cell_type": "code",
   "execution_count": 17,
   "metadata": {},
   "outputs": [
    {
     "name": "stdout",
     "output_type": "stream",
     "text": [
      "len of dont_exist_pdf: 1\n",
      "\n",
      "\n",
      "['95e946eb']\n"
     ]
    }
   ],
   "source": [
    "print(\"len of dont_exist_pdf:\", len(dont_exist_pdf))\n",
    "print(\"\\n\")\n",
    "print(dont_exist_pdf)\n"
   ]
  },
  {
   "cell_type": "markdown",
   "metadata": {},
   "source": [
    "WARNING! This file, is a PDF file, and for a strange reason, when is converted to txt, it has many weird characters that prevents to run the parser.\n"
   ]
  },
  {
   "cell_type": "markdown",
   "metadata": {},
   "source": [
    "# 05. Verify empty Files\n",
    "\n",
    "---\n"
   ]
  },
  {
   "cell_type": "code",
   "execution_count": 25,
   "metadata": {},
   "outputs": [],
   "source": [
    "from utils.tools import get_files\n"
   ]
  },
  {
   "cell_type": "code",
   "execution_count": 26,
   "metadata": {},
   "outputs": [],
   "source": [
    "def is_empty_content(content):\n",
    "    content = content.replace(\"\\n\", \"\").replace(\" \", \"\")\n",
    "    return not content\n"
   ]
  },
  {
   "cell_type": "code",
   "execution_count": 27,
   "metadata": {},
   "outputs": [],
   "source": [
    "all_files = get_files(\"../data/data_test_sep_27/out\")\n"
   ]
  },
  {
   "cell_type": "code",
   "execution_count": 28,
   "metadata": {},
   "outputs": [],
   "source": [
    "for file in all_files:\n",
    "    with open(file, \"r\") as f:\n",
    "        content = f.read()\n",
    "        # remove the metadata that is at the beginning of the file and between the \"---\"\n",
    "        content = re.sub(r\"---[\\s\\S]*?---\", \"\", content)\n",
    "        if is_empty_content(content):\n",
    "            print(file)\n"
   ]
  }
 ],
 "metadata": {
  "kernelspec": {
   "display_name": ".venv",
   "language": "python",
   "name": "python3"
  },
  "language_info": {
   "codemirror_mode": {
    "name": "ipython",
    "version": 3
   },
   "file_extension": ".py",
   "mimetype": "text/x-python",
   "name": "python",
   "nbconvert_exporter": "python",
   "pygments_lexer": "ipython3",
   "version": "3.12.5"
  }
 },
 "nbformat": 4,
 "nbformat_minor": 2
}
