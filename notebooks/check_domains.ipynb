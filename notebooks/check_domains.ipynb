{
 "cells": [
  {
   "cell_type": "code",
   "execution_count": 1,
   "metadata": {},
   "outputs": [],
   "source": [
    "import os\n",
    "from dotenv import load_dotenv\n",
    "import pandas as pd\n",
    "from utils.tools import get_domain\n"
   ]
  },
  {
   "cell_type": "code",
   "execution_count": 2,
   "metadata": {},
   "outputs": [
    {
     "data": {
      "text/plain": [
       "True"
      ]
     },
     "execution_count": 2,
     "metadata": {},
     "output_type": "execute_result"
    }
   ],
   "source": [
    "load_dotenv()\n"
   ]
  },
  {
   "cell_type": "code",
   "execution_count": 3,
   "metadata": {},
   "outputs": [],
   "source": [
    "DATA_PATH = os.getenv(\"DATA_PATH\")\n",
    "\n",
    "path = \".\" + os.path.join(DATA_PATH, \"all_links.csv\")\n"
   ]
  },
  {
   "cell_type": "code",
   "execution_count": 4,
   "metadata": {},
   "outputs": [],
   "source": [
    "df = pd.read_csv(path)\n"
   ]
  },
  {
   "cell_type": "code",
   "execution_count": 7,
   "metadata": {},
   "outputs": [],
   "source": [
    "# I need the url column to be a list of domains\n",
    "df[\"URL\"] = df[\"URL\"].apply(get_domain)\n"
   ]
  },
  {
   "cell_type": "code",
   "execution_count": 8,
   "metadata": {},
   "outputs": [],
   "source": [
    "# convert df['url'] to a list\n",
    "domains = df[\"URL\"].tolist()\n"
   ]
  },
  {
   "cell_type": "code",
   "execution_count": 9,
   "metadata": {},
   "outputs": [],
   "source": [
    "# drop duplicates\n",
    "domains = list(set(domains))\n"
   ]
  },
  {
   "cell_type": "code",
   "execution_count": 10,
   "metadata": {},
   "outputs": [
    {
     "data": {
      "text/plain": [
       "['sites.google.com',\n",
       " 'office365lds.sharepoint.com',\n",
       " 'missionaries.prod.byu-pathway.psdops.com',\n",
       " 'path.churchofjesuschrist.org',\n",
       " 'hall-foundation.org',\n",
       " 'community.canvaslms.com',\n",
       " 'churchofjesuschrist.sharepoint.com',\n",
       " 'degreeapplication.byupathway.edu',\n",
       " 'Account%20Access%20Error%20Support%20Knowledge%20Article',\n",
       " 'forms.office.com',\n",
       " 'content.byui.edu',\n",
       " 'www.byupathway.org',\n",
       " 'news.byuh.edu',\n",
       " 'resourcecenter.byupathway.edu',\n",
       " 'findahelpline.com',\n",
       " 'www.byui.edu',\n",
       " 'calendar.ensign.edu',\n",
       " 'resourcecenter.byupathway.org',\n",
       " 'studentsupportkb.byupathway.org',\n",
       " 'rise.articulate.com',\n",
       " 'degreeapplication.byupathway.org',\n",
       " 'pathway-missionary.powerappsportals.com',\n",
       " 'faq.whatsapp.com',\n",
       " 'www.churchofjesuschrist.org',\n",
       " 'myinstitute.churchofjesuschrist.org',\n",
       " 'www.byupathway.edu',\n",
       " 'docs.google.com',\n",
       " 'www.englishconnect.org',\n",
       " 'companion.byupathway.org']"
      ]
     },
     "execution_count": 10,
     "metadata": {},
     "output_type": "execute_result"
    }
   ],
   "source": [
    "domains\n"
   ]
  },
  {
   "cell_type": "code",
   "execution_count": 11,
   "metadata": {},
   "outputs": [],
   "source": [
    "# this links have been reviewed manually and needs to be excluded\n",
    "\n",
    "excluded_domains = [\n",
    "    \"office365lds.sharepoint.com\",\n",
    "    \"churchofjesuschrist.sharepoint.com\",\n",
    "    \"degreeapplication.byupathway.edu\",\n",
    "    \"studentsupportkb.byupathway.org\",\n",
    "    \"pathway-missionary.powerappsportals.com\",\n",
    "    \"www.englishconnect.org\",\n",
    "    \"companion.byupathway.org\",\n",
    "]\n"
   ]
  },
  {
   "cell_type": "code",
   "execution_count": 13,
   "metadata": {},
   "outputs": [],
   "source": [
    "# guarda como txt\n",
    "with open(\".\" + os.path.join(DATA_PATH, \"excluded_domains.txt\"), \"w\") as f:\n",
    "    for domain in excluded_domains:\n",
    "        f.write(domain + \"\\n\")\n"
   ]
  }
 ],
 "metadata": {
  "kernelspec": {
   "display_name": ".venv",
   "language": "python",
   "name": "python3"
  },
  "language_info": {
   "codemirror_mode": {
    "name": "ipython",
    "version": 3
   },
   "file_extension": ".py",
   "mimetype": "text/x-python",
   "name": "python",
   "nbconvert_exporter": "python",
   "pygments_lexer": "ipython3",
   "version": "3.12.5"
  }
 },
 "nbformat": 4,
 "nbformat_minor": 2
}
